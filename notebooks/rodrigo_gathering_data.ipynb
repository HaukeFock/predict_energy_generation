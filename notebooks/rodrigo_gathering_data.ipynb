{
 "cells": [
  {
   "cell_type": "code",
   "execution_count": 26,
   "id": "6e5efab9",
   "metadata": {},
   "outputs": [],
   "source": [
    "import pandas as pd\n",
    "import numpy as np\n",
    "import os\n",
    "import datetime as dt\n",
    "import matplotlib.pyplot as plt"
   ]
  },
  {
   "cell_type": "markdown",
   "id": "4fce4b74",
   "metadata": {},
   "source": [
    "# Importing sector DFs"
   ]
  },
  {
   "cell_type": "code",
   "execution_count": 27,
   "id": "ff0c14dd",
   "metadata": {},
   "outputs": [],
   "source": [
    "# importing actual energy generation\n",
    "PATH_TO_DATA = '/Users/R/code/HaukeFock/predict_energy_generation/raw_data/'\n",
    "companies = !ls /Users/R/code/HaukeFock/predict_energy_generation/raw_data/energy_generation/"
   ]
  },
  {
   "cell_type": "markdown",
   "id": "753ffb59",
   "metadata": {},
   "source": [
    "## Actual Energy Generation"
   ]
  },
  {
   "cell_type": "code",
   "execution_count": 37,
   "id": "624420af",
   "metadata": {
    "scrolled": true
   },
   "outputs": [
    {
     "name": "stderr",
     "output_type": "stream",
     "text": [
      "/Users/R/.pyenv/versions/3.8.6/envs/predict_energy_generation/lib/python3.8/site-packages/IPython/core/interactiveshell.py:3169: DtypeWarning: Columns (6) have mixed types.Specify dtype option on import or set low_memory=False.\n",
      "  has_raised = await self.run_ast_nodes(code_ast.body, cell_name,\n",
      "/Users/R/.pyenv/versions/3.8.6/envs/predict_energy_generation/lib/python3.8/site-packages/IPython/core/interactiveshell.py:3169: DtypeWarning: Columns (4,11) have mixed types.Specify dtype option on import or set low_memory=False.\n",
      "  has_raised = await self.run_ast_nodes(code_ast.body, cell_name,\n",
      "/Users/R/.pyenv/versions/3.8.6/envs/predict_energy_generation/lib/python3.8/site-packages/IPython/core/interactiveshell.py:3169: DtypeWarning: Columns (2,3,4,6,9,10,12) have mixed types.Specify dtype option on import or set low_memory=False.\n",
      "  has_raised = await self.run_ast_nodes(code_ast.body, cell_name,\n"
     ]
    },
    {
     "name": "stdout",
     "output_type": "stream",
     "text": [
      "df_50hertz Loaded!!!\n"
     ]
    },
    {
     "name": "stderr",
     "output_type": "stream",
     "text": [
      "/Users/R/.pyenv/versions/3.8.6/envs/predict_energy_generation/lib/python3.8/site-packages/IPython/core/interactiveshell.py:3169: DtypeWarning: Columns (2,3,5,6) have mixed types.Specify dtype option on import or set low_memory=False.\n",
      "  has_raised = await self.run_ast_nodes(code_ast.body, cell_name,\n",
      "/Users/R/.pyenv/versions/3.8.6/envs/predict_energy_generation/lib/python3.8/site-packages/IPython/core/interactiveshell.py:3169: DtypeWarning: Columns (5,12) have mixed types.Specify dtype option on import or set low_memory=False.\n",
      "  has_raised = await self.run_ast_nodes(code_ast.body, cell_name,\n"
     ]
    },
    {
     "name": "stdout",
     "output_type": "stream",
     "text": [
      "df_amprion Loaded!!!\n",
      "df_tennet Loaded!!!\n"
     ]
    },
    {
     "name": "stderr",
     "output_type": "stream",
     "text": [
      "/Users/R/.pyenv/versions/3.8.6/envs/predict_energy_generation/lib/python3.8/site-packages/IPython/core/interactiveshell.py:3169: DtypeWarning: Columns (11) have mixed types.Specify dtype option on import or set low_memory=False.\n",
      "  has_raised = await self.run_ast_nodes(code_ast.body, cell_name,\n",
      "/Users/R/.pyenv/versions/3.8.6/envs/predict_energy_generation/lib/python3.8/site-packages/IPython/core/interactiveshell.py:3169: DtypeWarning: Columns (5,11) have mixed types.Specify dtype option on import or set low_memory=False.\n",
      "  has_raised = await self.run_ast_nodes(code_ast.body, cell_name,\n",
      "/Users/R/.pyenv/versions/3.8.6/envs/predict_energy_generation/lib/python3.8/site-packages/IPython/core/interactiveshell.py:3169: DtypeWarning: Columns (5) have mixed types.Specify dtype option on import or set low_memory=False.\n",
      "  has_raised = await self.run_ast_nodes(code_ast.body, cell_name,\n"
     ]
    },
    {
     "name": "stdout",
     "output_type": "stream",
     "text": [
      "df_transnet_bw Loaded!!!\n"
     ]
    }
   ],
   "source": [
    "columns = ['Date', 'Time of day', 'Biomass[MWh]', 'Hydropower[MWh]',\n",
    "       'Wind offshore[MWh]', 'Wind onshore[MWh]', 'Photovoltaics[MWh]',\n",
    "       'Other renewable[MWh]', 'Nuclear[MWh]', 'Fossil brown coal[MWh]',\n",
    "       'Fossil hard coal[MWh]', 'Fossil gas[MWh]', 'Hydro pumped storage[MWh]',\n",
    "       'Other conventional[MWh]']\n",
    "dataframes = {}\n",
    "\n",
    "for company in companies:\n",
    "    #print(company)\n",
    "    exec(f\"df_{company} = pd.DataFrame(columns=columns)\")\n",
    "    data_paths = !ls /Users/R/code/HaukeFock/predict_energy_generation/raw_data/energy_generation/{company}\n",
    "    for file in data_paths:\n",
    "        #print(file)\n",
    "        data = pd.read_csv(f'{PATH_TO_DATA}/energy_generation/{company}/{file}', sep=';')\n",
    "        exec(f\"df_{company} = df_{company}.append(data, ignore_index=True)\")\n",
    "    exec(f\"dataframes['df_{company}'] = df_{company}\")\n",
    "    print(f'df_{company} Loaded!!!')"
   ]
  },
  {
   "cell_type": "code",
   "execution_count": 38,
   "id": "20c47c06",
   "metadata": {},
   "outputs": [
    {
     "name": "stdout",
     "output_type": "stream",
     "text": [
      ">>>>>>>>>>>>>> df_50hertz <<<<<<<<<<<<<<\n",
      "\n",
      "Shape: (226748, 14)\n",
      "\n",
      "NaN values: \n",
      "Date                              0\n",
      "Time of day                       0\n",
      "Biomass[MWh]                      0\n",
      "Hydropower[MWh]                   0\n",
      "Wind offshore[MWh]                0\n",
      "Wind onshore[MWh]                 0\n",
      "Photovoltaics[MWh]                0\n",
      "Other renewable[MWh]              0\n",
      "Nuclear[MWh]                 226748\n",
      "Fossil brown coal[MWh]            0\n",
      "Fossil hard coal[MWh]             0\n",
      "Fossil gas[MWh]                   0\n",
      "Hydro pumped storage[MWh]         0\n",
      "Other conventional[MWh]           0\n",
      "dtype: int64\n",
      "\n",
      ">>>>>>>>>>>>>> df_amprion <<<<<<<<<<<<<<\n",
      "\n",
      "Shape: (226748, 14)\n",
      "\n",
      "NaN values: \n",
      "Date                              0\n",
      "Time of day                       0\n",
      "Biomass[MWh]                      0\n",
      "Hydropower[MWh]                   0\n",
      "Wind offshore[MWh]           226748\n",
      "Wind onshore[MWh]                 0\n",
      "Photovoltaics[MWh]                0\n",
      "Other renewable[MWh]              0\n",
      "Nuclear[MWh]                      0\n",
      "Fossil brown coal[MWh]            0\n",
      "Fossil hard coal[MWh]             0\n",
      "Fossil gas[MWh]                   0\n",
      "Hydro pumped storage[MWh]         0\n",
      "Other conventional[MWh]           0\n",
      "dtype: int64\n",
      "\n",
      ">>>>>>>>>>>>>> df_tennet <<<<<<<<<<<<<<\n",
      "\n",
      "Shape: (226748, 14)\n",
      "\n",
      "NaN values: \n",
      "Date                         0\n",
      "Time of day                  0\n",
      "Biomass[MWh]                 0\n",
      "Hydropower[MWh]              0\n",
      "Wind offshore[MWh]           0\n",
      "Wind onshore[MWh]            0\n",
      "Photovoltaics[MWh]           0\n",
      "Other renewable[MWh]         0\n",
      "Nuclear[MWh]                 0\n",
      "Fossil brown coal[MWh]       0\n",
      "Fossil hard coal[MWh]        0\n",
      "Fossil gas[MWh]              0\n",
      "Hydro pumped storage[MWh]    0\n",
      "Other conventional[MWh]      0\n",
      "dtype: int64\n",
      "\n",
      ">>>>>>>>>>>>>> df_transnet_bw <<<<<<<<<<<<<<\n",
      "\n",
      "Shape: (226748, 14)\n",
      "\n",
      "NaN values: \n",
      "Date                              0\n",
      "Time of day                       0\n",
      "Biomass[MWh]                      0\n",
      "Hydropower[MWh]                   0\n",
      "Wind offshore[MWh]           226748\n",
      "Wind onshore[MWh]                 0\n",
      "Photovoltaics[MWh]                0\n",
      "Other renewable[MWh]              0\n",
      "Nuclear[MWh]                      0\n",
      "Fossil brown coal[MWh]       226748\n",
      "Fossil hard coal[MWh]             0\n",
      "Fossil gas[MWh]                   0\n",
      "Hydro pumped storage[MWh]         0\n",
      "Other conventional[MWh]           0\n",
      "dtype: int64\n",
      "\n"
     ]
    }
   ],
   "source": [
    "# dropping unecessary columns \n",
    "df_50hertz['Date'] = df_50hertz['Date'][:140448].append(df_50hertz['Datum'][140448:210720]).append(df_50hertz['Date'][210720:])\n",
    "df_50hertz['Time of day'] = df_50hertz['Time of day'][:140448].append(df_50hertz['Uhrzeit'][140448:210720]).append(df_50hertz['Time of day'][210720:])\n",
    "\n",
    "df_tennet['Date'] = df_tennet['Datum'][:70272].append(df_tennet['Date'][70272:])\n",
    "df_tennet['Time of day'] = df_tennet['Uhrzeit'][:70272].append(df_tennet['Time of day'][70272:])\n",
    "\n",
    "df_50hertz.drop(columns=['Datum', 'Uhrzeit'], inplace=True)\n",
    "df_tennet.drop(columns=['Datum', 'Uhrzeit'], inplace=True)\n",
    "\n",
    "# missing values resume for each area\n",
    "for key, df in dataframes.items():\n",
    "    if (df.columns != columns).all():\n",
    "        print(f'{key} has different columns than expected!')\n",
    "    else:\n",
    "        print(f'>>>>>>>>>>>>>> {key} <<<<<<<<<<<<<<\\n')\n",
    "        print(f'Shape: {df.shape}\\n')\n",
    "        print(f'NaN values: \\n{df.isna().sum()}\\n')"
   ]
  },
  {
   "cell_type": "code",
   "execution_count": 39,
   "id": "225bacb8",
   "metadata": {},
   "outputs": [],
   "source": [
    "numeric_values = ['Biomass[MWh]',\n",
    "                 'Hydropower[MWh]',\n",
    "                 'Wind offshore[MWh]',\n",
    "                 'Wind onshore[MWh]',\n",
    "                 'Photovoltaics[MWh]',\n",
    "                 'Other renewable[MWh]',\n",
    "                 'Nuclear[MWh]',\n",
    "                 'Fossil brown coal[MWh]',\n",
    "                 'Fossil hard coal[MWh]',\n",
    "                 'Fossil gas[MWh]',\n",
    "                 'Hydro pumped storage[MWh]',\n",
    "                 'Other conventional[MWh]']\n",
    "\n",
    "def set_to_numeric(dataframes, numeric_values):\n",
    "    # sets the features to numerical values\n",
    "    for column in numeric_values:\n",
    "        #print(column)\n",
    "        for key, df in dataframes.items():\n",
    "            #print(f'{key} => {column}')\n",
    "            df[column] = df[column].apply(lambda x: str(x).replace(',',''))\n",
    "            df[column] = pd.to_numeric(df[column], errors='coerce')\n",
    "\n",
    "set_to_numeric(dataframes, numeric_values)"
   ]
  },
  {
   "cell_type": "code",
   "execution_count": 40,
   "id": "f13fbf98",
   "metadata": {
    "scrolled": true
   },
   "outputs": [
    {
     "name": "stdout",
     "output_type": "stream",
     "text": [
      "Working on df_50hertz\n",
      "Working on df_amprion\n",
      "Working on df_tennet\n",
      "Working on df_transnet_bw\n"
     ]
    }
   ],
   "source": [
    "# join 'Date' and 'Time of Day' into one\n",
    "def set_datetime(dataframes):\n",
    "    for df in dataframes.keys():\n",
    "        print(f'Working on {df}')\n",
    "        exec(f\"{df}['Date'] = pd.to_datetime({df}['Date']).apply(lambda x: x.strftime('%Y-%m-%d '))\")\n",
    "        exec(f\"{df}['Time of day'] = pd.to_datetime({df}['Time of day']).apply(lambda x: x.strftime('%H:%M'))\")\n",
    "        exec(f\"{df}['Date'] = pd.to_datetime({df}['Date'] + {df}['Time of day'])\")\n",
    "        exec(f\"{df}.drop(columns=['Time of day'], inplace=True)\")\n",
    "set_datetime(dataframes)"
   ]
  },
  {
   "cell_type": "markdown",
   "id": "bc0a8bf0",
   "metadata": {
    "heading_collapsed": true
   },
   "source": [
    "## Forcasted Energy generation"
   ]
  },
  {
   "cell_type": "code",
   "execution_count": null,
   "id": "e6845140",
   "metadata": {
    "hidden": true
   },
   "outputs": [],
   "source": [
    "# importing actual energy generation\n",
    "forecasted_columns = ['Date', 'Time of day', 'Total[MWh]', 'Wind offshore[MWh]', \n",
    "           'Wind onshore[MWh]', 'Photovoltaics[MWh]', 'Other[MWh]']\n",
    "forecasted_dataframes = {}\n",
    "\n",
    "for company in companies:\n",
    "    #print(company)\n",
    "    exec(f\"df_{company}_forecasted = pd.DataFrame(columns=forecasted_columns)\")\n",
    "    data_paths = !ls /Users/R/code/HaukeFock/predict_energy_generation/raw_data/forcasted_generation/{company}\n",
    "    for file in data_paths:\n",
    "        #print(file)\n",
    "        data = pd.read_csv(f'{PATH_TO_DATA}/forcasted_generation/{company}/{file}', sep=';')\n",
    "        exec(f\"df_{company}_forecasted = df_{company}_forecasted.append(data, ignore_index=True)\")\n",
    "    exec(f\"forecasted_dataframes['df_{company}_forecasted'] = df_{company}_forecasted\")\n",
    "    print(f'df_{company}_forecasted Loaded!!!')"
   ]
  },
  {
   "cell_type": "code",
   "execution_count": null,
   "id": "e3f573bf",
   "metadata": {
    "hidden": true
   },
   "outputs": [],
   "source": [
    "# dropping unecessary columns\n",
    "df_tennet_forecasted['Date'] = df_tennet_forecasted.Date[:210720].append(df_tennet_forecasted.Datum[210720:222236])\\\n",
    "                                                                .append(df_tennet_forecasted.Date[222236:])\n",
    "\n",
    "\n",
    "df_tennet_forecasted['Time of day'] = df_tennet_forecasted['Time of day'][:210720].append(df_tennet_forecasted.Uhrzeit[210720:222236])\\\n",
    "                                                          .append(df_tennet_forecasted['Time of day'][222236:]).isna().sum()\n",
    "df_tennet_forecasted.drop(columns=['Datum', 'Uhrzeit'], inplace=True)\n",
    "\n",
    "# missing values resume for each area\n",
    "for key, df in forecasted_dataframes.items():\n",
    "    if (df.columns != forecasted_columns).all():\n",
    "        print(f'{key} has different columns than expected!')\n",
    "    else:\n",
    "        print(f'>>>>>>>>>>>>>> {key} <<<<<<<<<<<<<<\\n')\n",
    "        print(f'Shape: {df.shape}\\n')\n",
    "        print(f'NaN values: \\n{df.isna().sum()}\\n')"
   ]
  },
  {
   "cell_type": "code",
   "execution_count": null,
   "id": "63c6a517",
   "metadata": {
    "hidden": true
   },
   "outputs": [],
   "source": [
    "# setting columns to numeric\n",
    "forecasted_numeric_columns = ['Total[MWh]','Wind offshore[MWh]','Wind onshore[MWh]',\n",
    "                            'Photovoltaics[MWh]','Other[MWh]']\n",
    "\n",
    "set_to_numeric(forecasted_dataframes, forecasted_numeric_columns)\n",
    "\n",
    "# join 'Date' and 'Time of Day' into one\n",
    "set_datetime(forecasted_dataframes)"
   ]
  },
  {
   "cell_type": "markdown",
   "id": "5240afd3",
   "metadata": {
    "heading_collapsed": true
   },
   "source": [
    "## Production capacity"
   ]
  },
  {
   "cell_type": "code",
   "execution_count": null,
   "id": "28e1c4a9",
   "metadata": {
    "hidden": true
   },
   "outputs": [],
   "source": [
    "capacity_columns = ['Date', 'Time of day', 'Biomass[MW]', 'Hydropower[MW]',\n",
    "       'Wind offshore[MW]', 'Wind onshore[MW]', 'Photovoltaics[MW]',\n",
    "       'Other renewable[MW]', 'Nuclear[MW]', 'Fossil brown coal[MW]',\n",
    "       'Fossil hard coal[MW]', 'Fossil gas[MW]', 'Hydro pumped storage[MW]',\n",
    "       'Other conventional[MW]']\n",
    "capacity_dataframes = {}\n",
    "\n",
    "for company in companies:\n",
    "    #print(company)\n",
    "    exec(f\"df_{company}_capacity = pd.DataFrame(columns=capacity_columns)\")\n",
    "    data_paths = !ls /Users/R/code/HaukeFock/predict_energy_generation/raw_data/energy_capacity/{company}\n",
    "    for file in data_paths:\n",
    "        #print(file)\n",
    "        data = pd.read_csv(f'{PATH_TO_DATA}/energy_capacity/{company}/{file}', sep=';')\n",
    "        exec(f\"df_{company}_capacity = df_{company}_capacity.append(data, ignore_index=True)\")\n",
    "    exec(f\"capacity_dataframes['df_{company}_capacity'] = df_{company}_capacity\")\n",
    "    print(f'df_{company}_capacity Loaded!!!')"
   ]
  },
  {
   "cell_type": "code",
   "execution_count": null,
   "id": "4edea9bd",
   "metadata": {
    "hidden": true
   },
   "outputs": [],
   "source": [
    "# dropping duplicates\n",
    "for df in capacity_dataframes.keys():\n",
    "    exec(f\"{df} = {df}.drop(index=[2,5,8]).reset_index(drop=True)\")"
   ]
  },
  {
   "cell_type": "code",
   "execution_count": null,
   "id": "36397292",
   "metadata": {
    "hidden": true
   },
   "outputs": [],
   "source": [
    "capacity_numeric_values = ['Biomass[MW]', 'Hydropower[MW]', 'Wind offshore[MW]', 'Wind onshore[MW]',\n",
    "                           'Photovoltaics[MW]', 'Other renewable[MW]', 'Nuclear[MW]', 'Fossil brown coal[MW]',\n",
    "                           'Fossil hard coal[MW]', 'Fossil gas[MW]', 'Hydro pumped storage[MW]', \n",
    "                           'Other conventional[MW]']\n",
    "\n",
    "set_to_numeric(capacity_dataframes, capacity_numeric_values)"
   ]
  },
  {
   "cell_type": "code",
   "execution_count": null,
   "id": "3a5185b6",
   "metadata": {
    "hidden": true
   },
   "outputs": [],
   "source": [
    "set_datetime(capacity_dataframes)"
   ]
  },
  {
   "cell_type": "markdown",
   "id": "26bfe133",
   "metadata": {},
   "source": [
    "# Group data"
   ]
  },
  {
   "cell_type": "markdown",
   "id": "2d7f4bc9",
   "metadata": {
    "heading_collapsed": true
   },
   "source": [
    "## Daily"
   ]
  },
  {
   "cell_type": "code",
   "execution_count": 32,
   "id": "515b13ea",
   "metadata": {
    "hidden": true
   },
   "outputs": [],
   "source": [
    "#group energy generation per day \n",
    "for df in dataframes.keys():\n",
    "    exec(f\"{df} = {df}.groupby(by={df}['Date'].dt.date).sum().reset_index()\")"
   ]
  },
  {
   "cell_type": "code",
   "execution_count": null,
   "id": "066a920f",
   "metadata": {
    "hidden": true
   },
   "outputs": [],
   "source": [
    "#group forcasted energy generation per day \n",
    "for df in forecasted_dataframes.keys():\n",
    "    exec(f\"{df} = {df}.groupby(by={df}['Date'].dt.date).sum().reset_index()\")"
   ]
  },
  {
   "cell_type": "markdown",
   "id": "d4a351c7",
   "metadata": {},
   "source": [
    "## Hourly"
   ]
  },
  {
   "cell_type": "code",
   "execution_count": 41,
   "id": "3d4c4c4a",
   "metadata": {},
   "outputs": [],
   "source": [
    "#group energy generation per hour \n",
    "for df in dataframes.keys():\n",
    "    exec(f\"{df}.index = {df}.Date\")\n",
    "    exec(f\"{df} = {df}.resample('h').sum().reset_index()\")"
   ]
  },
  {
   "cell_type": "code",
   "execution_count": null,
   "id": "9a12e2ca",
   "metadata": {},
   "outputs": [],
   "source": [
    "#group forcasted energy generation per hour \n",
    "for df in forecasted_dataframes.keys():\n",
    "    exec(f\"{df}.index = {df}.Date\")\n",
    "    exec(f\"{df} = {df}.resample('h').sum().reset_index()\")"
   ]
  },
  {
   "cell_type": "markdown",
   "id": "69d51380",
   "metadata": {},
   "source": [
    "# Creating complete DF"
   ]
  },
  {
   "cell_type": "markdown",
   "id": "ef6d9fa9",
   "metadata": {},
   "source": [
    "## Actual"
   ]
  },
  {
   "cell_type": "code",
   "execution_count": 53,
   "id": "7531cb66",
   "metadata": {},
   "outputs": [
    {
     "data": {
      "text/plain": [
       "(226464, 14)"
      ]
     },
     "execution_count": 53,
     "metadata": {},
     "output_type": "execute_result"
    }
   ],
   "source": [
    "df_deutschland = pd.DataFrame()\n",
    "\n",
    "for df, company in zip(dataframes.keys(), companies):\n",
    "        exec(f\"{df}['region'] = company\")\n",
    "        exec(f\"df_deutschland = df_deutschland.append({df}, ignore_index=True)\")\n",
    "\n",
    "df_deutschland.shape"
   ]
  },
  {
   "cell_type": "markdown",
   "id": "7444851e",
   "metadata": {
    "heading_collapsed": true
   },
   "source": [
    "## Forcasted"
   ]
  },
  {
   "cell_type": "code",
   "execution_count": null,
   "id": "7918b055",
   "metadata": {
    "hidden": true
   },
   "outputs": [],
   "source": [
    "df_deutschland_forecasted = pd.DataFrame()\n",
    "\n",
    "for df, company in zip(forecasted_dataframes.keys(), companies):\n",
    "        exec(f\"{df}['region'] = company\")\n",
    "        exec(f\"df_deutschland_forecasted = df_deutschland_forecasted.append({df}, ignore_index=True)\")\n",
    "\n",
    "df_deutschland_forecasted.shape"
   ]
  },
  {
   "cell_type": "markdown",
   "id": "acf4ae88",
   "metadata": {
    "heading_collapsed": true
   },
   "source": [
    "## Capacity"
   ]
  },
  {
   "cell_type": "code",
   "execution_count": null,
   "id": "1d8def1f",
   "metadata": {
    "hidden": true
   },
   "outputs": [],
   "source": [
    "df_deutschland_capacity = pd.DataFrame()\n",
    "\n",
    "for df, company in zip(capacity_dataframes.keys(), companies):\n",
    "        exec(f\"{df}['region'] = company\")\n",
    "        exec(f\"df_deutschland_capacity = df_deutschland_capacity.append({df}, ignore_index=True)\")\n",
    "\n",
    "df_deutschland_capacity.shape"
   ]
  },
  {
   "cell_type": "markdown",
   "id": "7bbd0082",
   "metadata": {},
   "source": [
    "# Saving DFs"
   ]
  },
  {
   "cell_type": "markdown",
   "id": "61e82d73",
   "metadata": {},
   "source": [
    "## Daily"
   ]
  },
  {
   "cell_type": "markdown",
   "id": "1bd0d1a9",
   "metadata": {},
   "source": [
    "### Actual"
   ]
  },
  {
   "cell_type": "code",
   "execution_count": 34,
   "id": "6c4bc247",
   "metadata": {},
   "outputs": [],
   "source": [
    "final_columns = ['Date', 'Wind offshore[MWh]', 'Wind onshore[MWh]', 'Photovoltaics[MWh]', 'region']\n",
    "\n",
    "dataframes['df_deutschland'] = df_deutschland\n",
    "\n",
    "for df in dataframes.keys():\n",
    "    exec(f\"{df}[final_columns].to_csv('/Users/R/code/HaukeFock/predict_energy_generation/raw_data/daily/energy_generation_data/{df}.csv', index=False)\")"
   ]
  },
  {
   "cell_type": "code",
   "execution_count": 36,
   "id": "3c1f8dd0",
   "metadata": {
    "collapsed": true
   },
   "outputs": [
    {
     "data": {
      "text/html": [
       "<div>\n",
       "<style scoped>\n",
       "    .dataframe tbody tr th:only-of-type {\n",
       "        vertical-align: middle;\n",
       "    }\n",
       "\n",
       "    .dataframe tbody tr th {\n",
       "        vertical-align: top;\n",
       "    }\n",
       "\n",
       "    .dataframe thead th {\n",
       "        text-align: right;\n",
       "    }\n",
       "</style>\n",
       "<table border=\"1\" class=\"dataframe\">\n",
       "  <thead>\n",
       "    <tr style=\"text-align: right;\">\n",
       "      <th></th>\n",
       "      <th>Date</th>\n",
       "      <th>Wind offshore[MWh]</th>\n",
       "      <th>Wind onshore[MWh]</th>\n",
       "      <th>Photovoltaics[MWh]</th>\n",
       "      <th>region</th>\n",
       "    </tr>\n",
       "  </thead>\n",
       "  <tbody>\n",
       "    <tr>\n",
       "      <th>2354</th>\n",
       "      <td>2021-06-12</td>\n",
       "      <td>18271.0</td>\n",
       "      <td>137535.0</td>\n",
       "      <td>46132.0</td>\n",
       "      <td>50hertz</td>\n",
       "    </tr>\n",
       "    <tr>\n",
       "      <th>2355</th>\n",
       "      <td>2021-06-13</td>\n",
       "      <td>16984.0</td>\n",
       "      <td>117049.0</td>\n",
       "      <td>59390.0</td>\n",
       "      <td>50hertz</td>\n",
       "    </tr>\n",
       "    <tr>\n",
       "      <th>2356</th>\n",
       "      <td>2021-06-14</td>\n",
       "      <td>3325.0</td>\n",
       "      <td>13351.0</td>\n",
       "      <td>93578.0</td>\n",
       "      <td>50hertz</td>\n",
       "    </tr>\n",
       "    <tr>\n",
       "      <th>2357</th>\n",
       "      <td>2021-06-15</td>\n",
       "      <td>4842.0</td>\n",
       "      <td>23084.0</td>\n",
       "      <td>72422.0</td>\n",
       "      <td>50hertz</td>\n",
       "    </tr>\n",
       "    <tr>\n",
       "      <th>2358</th>\n",
       "      <td>2021-06-16</td>\n",
       "      <td>526.0</td>\n",
       "      <td>17479.0</td>\n",
       "      <td>84581.0</td>\n",
       "      <td>50hertz</td>\n",
       "    </tr>\n",
       "  </tbody>\n",
       "</table>\n",
       "</div>"
      ],
      "text/plain": [
       "            Date  Wind offshore[MWh]  Wind onshore[MWh]  Photovoltaics[MWh]  \\\n",
       "2354  2021-06-12             18271.0           137535.0             46132.0   \n",
       "2355  2021-06-13             16984.0           117049.0             59390.0   \n",
       "2356  2021-06-14              3325.0            13351.0             93578.0   \n",
       "2357  2021-06-15              4842.0            23084.0             72422.0   \n",
       "2358  2021-06-16               526.0            17479.0             84581.0   \n",
       "\n",
       "       region  \n",
       "2354  50hertz  \n",
       "2355  50hertz  \n",
       "2356  50hertz  \n",
       "2357  50hertz  \n",
       "2358  50hertz  "
      ]
     },
     "execution_count": 36,
     "metadata": {},
     "output_type": "execute_result"
    }
   ],
   "source": [
    "df = pd.read_csv('/Users/R/code/HaukeFock/predict_energy_generation/raw_data/daily/energy_generation_data/df_50hertz.csv')\n",
    "df.tail()"
   ]
  },
  {
   "cell_type": "markdown",
   "id": "a82d9e1e",
   "metadata": {
    "heading_collapsed": true
   },
   "source": [
    "### Forecasted"
   ]
  },
  {
   "cell_type": "code",
   "execution_count": null,
   "id": "aba81290",
   "metadata": {
    "hidden": true
   },
   "outputs": [],
   "source": [
    "final_columns = ['Date', 'Wind offshore[MWh]', 'Wind onshore[MWh]', 'Photovoltaics[MWh]', 'region']\n",
    "\n",
    "forecasted_dataframes['df_deutschland_forecasted'] = df_deutschland_forecasted\n",
    "\n",
    "for df in forecasted_dataframes.keys():\n",
    "    exec(f\"{df}[final_columns].to_csv('/Users/R/code/HaukeFock/predict_energy_generation/raw_data/daily/forecasted_generation_data/{df}.csv', index=False)\")"
   ]
  },
  {
   "cell_type": "markdown",
   "id": "836854b8",
   "metadata": {
    "heading_collapsed": true
   },
   "source": [
    "### Capacity"
   ]
  },
  {
   "cell_type": "code",
   "execution_count": null,
   "id": "a02ae10c",
   "metadata": {
    "hidden": true
   },
   "outputs": [],
   "source": [
    "final_columns = ['Date', 'Wind offshore[MW]', 'Wind onshore[MW]', 'Photovoltaics[MW]', 'region']\n",
    "\n",
    "capacity_dataframes['df_deutschland_capacity'] = df_deutschland_capacity\n",
    "\n",
    "for df in capacity_dataframes.keys():\n",
    "    exec(f\"{df}[final_columns].to_csv('/Users/R/code/HaukeFock/predict_energy_generation/raw_data/daily/energy_capacity_data/{df}.csv', index=False)\")\n",
    "    "
   ]
  },
  {
   "cell_type": "markdown",
   "id": "47f8f2cc",
   "metadata": {
    "heading_collapsed": true
   },
   "source": [
    "## Hourly"
   ]
  },
  {
   "cell_type": "markdown",
   "id": "e1ab2d23",
   "metadata": {
    "heading_collapsed": true,
    "hidden": true
   },
   "source": [
    "### Actual"
   ]
  },
  {
   "cell_type": "code",
   "execution_count": 25,
   "id": "a6099315",
   "metadata": {
    "hidden": true
   },
   "outputs": [],
   "source": [
    "final_columns = ['Date', 'Wind offshore[MWh]', 'Wind onshore[MWh]', 'Photovoltaics[MWh]', 'region']\n",
    "\n",
    "dataframes['df_deutschland'] = df_deutschland\n",
    "\n",
    "for df in dataframes.keys():\n",
    "    exec(f\"{df}[final_columns].to_csv('/Users/R/code/HaukeFock/predict_energy_generation/raw_data/hourly/energy_generation_data/{df}.csv', index=False)\")\n",
    "    "
   ]
  },
  {
   "cell_type": "markdown",
   "id": "306d29fc",
   "metadata": {
    "heading_collapsed": true,
    "hidden": true
   },
   "source": [
    "### Forecasted"
   ]
  },
  {
   "cell_type": "code",
   "execution_count": null,
   "id": "c9e6485a",
   "metadata": {
    "hidden": true
   },
   "outputs": [],
   "source": [
    "final_columns = ['Date', 'Wind offshore[MWh]', 'Wind onshore[MWh]', 'Photovoltaics[MWh]', 'region']\n",
    "\n",
    "forecasted_dataframes['df_deutschland_forecasted'] = df_deutschland_forecasted\n",
    "\n",
    "for df in forecasted_dataframes.keys():\n",
    "    exec(f\"{df}[final_columns].to_csv('/Users/R/code/HaukeFock/predict_energy_generation/raw_data/hourly/forecasted_generation_data/{df}.csv', index=False)\")"
   ]
  },
  {
   "cell_type": "markdown",
   "id": "978ab78a",
   "metadata": {},
   "source": [
    "# scratch"
   ]
  },
  {
   "cell_type": "code",
   "execution_count": 57,
   "id": "3f18249d",
   "metadata": {},
   "outputs": [],
   "source": [
    "#creating a total\n",
    "df_deutschland.set_index('Date', inplace=True)\n",
    "\n",
    "previous_year_df = df_deutschland.resample('h').sum()[['Wind offshore[MWh]', 'Wind onshore[MWh]', 'Photovoltaics[MWh]']].loc['2020-1-1':'2020-12-31']\n",
    "\n",
    "previous_year_df['Wind'] = previous_year_df[['Wind offshore[MWh]', 'Wind onshore[MWh]']].sum(axis=1)\n",
    "previous_year_df['Solar'] = previous_year_df['Photovoltaics[MWh]']\n",
    "previous_year_df['Total'] = previous_year_df.sum(axis=1)\n",
    "\n",
    "previous_year_df.drop(columns=['Wind offshore[MWh]', 'Wind onshore[MWh]', 'Photovoltaics[MWh]'], inplace=True)"
   ]
  },
  {
   "cell_type": "code",
   "execution_count": 71,
   "id": "e688328c",
   "metadata": {},
   "outputs": [],
   "source": [
    "previous_year_df.to_csv('/Users/R/code/HaukeFock/predict_energy_generation/raw_data/hourly/energy_generation_data/total_energy_production_2020.csv')"
   ]
  },
  {
   "cell_type": "code",
   "execution_count": null,
   "id": "555b82e9",
   "metadata": {},
   "outputs": [],
   "source": []
  }
 ],
 "metadata": {
  "kernelspec": {
   "display_name": "Python 3",
   "language": "python",
   "name": "python3"
  },
  "language_info": {
   "codemirror_mode": {
    "name": "ipython",
    "version": 3
   },
   "file_extension": ".py",
   "mimetype": "text/x-python",
   "name": "python",
   "nbconvert_exporter": "python",
   "pygments_lexer": "ipython3",
   "version": "3.8.6"
  },
  "toc": {
   "base_numbering": 1,
   "nav_menu": {},
   "number_sections": true,
   "sideBar": true,
   "skip_h1_title": false,
   "title_cell": "Table of Contents",
   "title_sidebar": "Contents",
   "toc_cell": false,
   "toc_position": {
    "height": "calc(100% - 180px)",
    "left": "10px",
    "top": "150px",
    "width": "213.796875px"
   },
   "toc_section_display": true,
   "toc_window_display": true
  }
 },
 "nbformat": 4,
 "nbformat_minor": 5
}
