{
 "cells": [
  {
   "cell_type": "code",
   "execution_count": 1,
   "id": "cc2a80ad",
   "metadata": {},
   "outputs": [],
   "source": [
    "# imports\n",
    "\n",
    "import pandas as pd\n",
    "import numpy as np"
   ]
  },
  {
   "cell_type": "markdown",
   "id": "e543fb75",
   "metadata": {},
   "source": [
    "## Loading the data"
   ]
  },
  {
   "cell_type": "code",
   "execution_count": 2,
   "id": "ae52b699",
   "metadata": {},
   "outputs": [
    {
     "name": "stderr",
     "output_type": "stream",
     "text": [
      "/home/hauke/.pyenv/versions/3.8.6/envs/predict_energy_generation/lib/python3.8/site-packages/IPython/core/interactiveshell.py:3169: DtypeWarning: Columns (1,3,4,5) have mixed types.Specify dtype option on import or set low_memory=False.\n",
      "  has_raised = await self.run_ast_nodes(code_ast.body, cell_name,\n"
     ]
    }
   ],
   "source": [
    "data = pd.read_csv(\"/mnt/g/Meine Ablage/raw_data/Features/Wind speed/Daily/data/data_OBS_DEU_P1D_F.csv\", delimiter = \",\",names=[\"Product_Code\",\"Station_ID\",\"Time_Stamp\",\"Value\",\"Quality_Byte\",\"Quality\"])"
   ]
  },
  {
   "cell_type": "code",
   "execution_count": 3,
   "id": "9e2f7ea6",
   "metadata": {
    "scrolled": true
   },
   "outputs": [],
   "source": [
    "# Dropping Produkt_Code and Quality_Byte because they hold no nominal values\n",
    "# Also Dropping Quality for now,We could possibly test if the Quality of data makes a difference and drop the Quality\n",
    "data = data.drop(columns=[\"Product_Code\", \"Quality_Byte\", \"Quality\"])"
   ]
  },
  {
   "cell_type": "code",
   "execution_count": 4,
   "id": "46d9d2e9",
   "metadata": {},
   "outputs": [],
   "source": [
    "data = data.drop(data.index[0])"
   ]
  },
  {
   "cell_type": "code",
   "execution_count": 5,
   "id": "496067af",
   "metadata": {},
   "outputs": [
    {
     "data": {
      "text/html": [
       "<div>\n",
       "<style scoped>\n",
       "    .dataframe tbody tr th:only-of-type {\n",
       "        vertical-align: middle;\n",
       "    }\n",
       "\n",
       "    .dataframe tbody tr th {\n",
       "        vertical-align: top;\n",
       "    }\n",
       "\n",
       "    .dataframe thead th {\n",
       "        text-align: right;\n",
       "    }\n",
       "</style>\n",
       "<table border=\"1\" class=\"dataframe\">\n",
       "  <thead>\n",
       "    <tr style=\"text-align: right;\">\n",
       "      <th></th>\n",
       "      <th>Station_ID</th>\n",
       "      <th>Value</th>\n",
       "      <th>Date</th>\n",
       "    </tr>\n",
       "  </thead>\n",
       "  <tbody>\n",
       "    <tr>\n",
       "      <th>1</th>\n",
       "      <td>1001</td>\n",
       "      <td>3.3</td>\n",
       "      <td>2015-01-01</td>\n",
       "    </tr>\n",
       "    <tr>\n",
       "      <th>2</th>\n",
       "      <td>1001</td>\n",
       "      <td>6.8</td>\n",
       "      <td>2015-01-02</td>\n",
       "    </tr>\n",
       "    <tr>\n",
       "      <th>3</th>\n",
       "      <td>1001</td>\n",
       "      <td>7</td>\n",
       "      <td>2015-01-03</td>\n",
       "    </tr>\n",
       "    <tr>\n",
       "      <th>4</th>\n",
       "      <td>1001</td>\n",
       "      <td>7.8</td>\n",
       "      <td>2015-01-04</td>\n",
       "    </tr>\n",
       "    <tr>\n",
       "      <th>5</th>\n",
       "      <td>1001</td>\n",
       "      <td>6.1</td>\n",
       "      <td>2015-01-05</td>\n",
       "    </tr>\n",
       "    <tr>\n",
       "      <th>...</th>\n",
       "      <td>...</td>\n",
       "      <td>...</td>\n",
       "      <td>...</td>\n",
       "    </tr>\n",
       "    <tr>\n",
       "      <th>646961</th>\n",
       "      <td>963</td>\n",
       "      <td>1.8</td>\n",
       "      <td>2021-04-26</td>\n",
       "    </tr>\n",
       "    <tr>\n",
       "      <th>646962</th>\n",
       "      <td>963</td>\n",
       "      <td>4.3</td>\n",
       "      <td>2021-04-27</td>\n",
       "    </tr>\n",
       "    <tr>\n",
       "      <th>646963</th>\n",
       "      <td>963</td>\n",
       "      <td>2.8</td>\n",
       "      <td>2021-04-28</td>\n",
       "    </tr>\n",
       "    <tr>\n",
       "      <th>646964</th>\n",
       "      <td>963</td>\n",
       "      <td>4.8</td>\n",
       "      <td>2021-04-29</td>\n",
       "    </tr>\n",
       "    <tr>\n",
       "      <th>646965</th>\n",
       "      <td>963</td>\n",
       "      <td>2.0</td>\n",
       "      <td>2021-04-30</td>\n",
       "    </tr>\n",
       "  </tbody>\n",
       "</table>\n",
       "<p>646965 rows × 3 columns</p>\n",
       "</div>"
      ],
      "text/plain": [
       "       Station_ID Value       Date\n",
       "1            1001   3.3 2015-01-01\n",
       "2            1001   6.8 2015-01-02\n",
       "3            1001     7 2015-01-03\n",
       "4            1001   7.8 2015-01-04\n",
       "5            1001   6.1 2015-01-05\n",
       "...           ...   ...        ...\n",
       "646961        963   1.8 2021-04-26\n",
       "646962        963   4.3 2021-04-27\n",
       "646963        963   2.8 2021-04-28\n",
       "646964        963   4.8 2021-04-29\n",
       "646965        963   2.0 2021-04-30\n",
       "\n",
       "[646965 rows x 3 columns]"
      ]
     },
     "execution_count": 5,
     "metadata": {},
     "output_type": "execute_result"
    }
   ],
   "source": [
    "data[\"Date\"] = pd.to_datetime(data[\"Time_Stamp\"])\n",
    "data.drop(columns = [\"Time_Stamp\"])"
   ]
  },
  {
   "cell_type": "code",
   "execution_count": 7,
   "id": "0fb96440",
   "metadata": {
    "scrolled": true
   },
   "outputs": [],
   "source": [
    "#Froming the Dataframe\n",
    "df_pivot_values = data.pivot(index=\"Date\", columns=\"Station_ID\", values=\"Value\")"
   ]
  },
  {
   "cell_type": "code",
   "execution_count": 8,
   "id": "4b3eafa8",
   "metadata": {},
   "outputs": [],
   "source": [
    "# Drops timeseries of weather stations with more than 5% NAN values\n",
    "df_pivot_values = df_pivot_values.dropna(axis=1, thresh=df_pivot_values.shape[0]*0.95)"
   ]
  },
  {
   "cell_type": "code",
   "execution_count": 9,
   "id": "a8617a94",
   "metadata": {},
   "outputs": [],
   "source": [
    "# Renaming the Columns so they are all Datatype int\n",
    "#int_type_columns = {}\n",
    "#for column in df_pivot_values.columns:\n",
    "    #int_type_columns[column] = int(column)\n",
    "#df_pivot_values = df_pivot_values.rename(columns = int_type_columns)"
   ]
  },
  {
   "cell_type": "code",
   "execution_count": 10,
   "id": "48c5b347",
   "metadata": {},
   "outputs": [],
   "source": [
    "# Filling remainig NAN\n",
    "for column in df_pivot_values.columns:\n",
    "    df_pivot_values[column] = df_pivot_values[column].fillna((df_pivot_values[column]).median())"
   ]
  },
  {
   "cell_type": "code",
   "execution_count": 1,
   "id": "5846983a",
   "metadata": {},
   "outputs": [
    {
     "ename": "NameError",
     "evalue": "name 'df_pivot_values' is not defined",
     "output_type": "error",
     "traceback": [
      "\u001b[0;31m---------------------------------------------------------------------------\u001b[0m",
      "\u001b[0;31mNameError\u001b[0m                                 Traceback (most recent call last)",
      "\u001b[0;32m<ipython-input-1-2e640c44ec55>\u001b[0m in \u001b[0;36m<module>\u001b[0;34m\u001b[0m\n\u001b[1;32m      1\u001b[0m \u001b[0;31m# saving Dataframe to Google Drive\u001b[0m\u001b[0;34m\u001b[0m\u001b[0;34m\u001b[0m\u001b[0;34m\u001b[0m\u001b[0m\n\u001b[0;32m----> 2\u001b[0;31m \u001b[0mdf_pivot_values\u001b[0m\u001b[0;34m.\u001b[0m\u001b[0mto_csv\u001b[0m\u001b[0;34m(\u001b[0m\u001b[0;34m\"/mnt/g/Meine Ablage/raw_data/Features/DATAFRAMES/winddailyofeverystation.csv\"\u001b[0m\u001b[0;34m)\u001b[0m\u001b[0;34m\u001b[0m\u001b[0;34m\u001b[0m\u001b[0m\n\u001b[0m",
      "\u001b[0;31mNameError\u001b[0m: name 'df_pivot_values' is not defined"
     ]
    }
   ],
   "source": [
    "# saving Dataframe to Google Drive\n",
    "df_pivot_values.to_csv(\"/mnt/g/Meine Ablage/raw_data/Features/DATAFRAMES/winddailyofeverystation.csv\")"
   ]
  },
  {
   "cell_type": "code",
   "execution_count": 13,
   "id": "7fba6191",
   "metadata": {},
   "outputs": [
    {
     "data": {
      "text/plain": [
       "DatetimeIndex(['2015-01-01', '2015-01-02', '2015-01-03', '2015-01-04',\n",
       "               '2015-01-05', '2015-01-06', '2015-01-07', '2015-01-08',\n",
       "               '2015-01-09', '2015-01-10',\n",
       "               ...\n",
       "               '2021-04-21', '2021-04-22', '2021-04-23', '2021-04-24',\n",
       "               '2021-04-25', '2021-04-26', '2021-04-27', '2021-04-28',\n",
       "               '2021-04-29', '2021-04-30'],\n",
       "              dtype='datetime64[ns]', name='Date', length=2312, freq=None)"
      ]
     },
     "execution_count": 13,
     "metadata": {},
     "output_type": "execute_result"
    }
   ],
   "source": [
    "df_pivot_values.index"
   ]
  },
  {
   "cell_type": "code",
   "execution_count": null,
   "id": "014c50b0",
   "metadata": {},
   "outputs": [],
   "source": []
  }
 ],
 "metadata": {
  "kernelspec": {
   "display_name": "Python 3",
   "language": "python",
   "name": "python3"
  },
  "language_info": {
   "codemirror_mode": {
    "name": "ipython",
    "version": 3
   },
   "file_extension": ".py",
   "mimetype": "text/x-python",
   "name": "python",
   "nbconvert_exporter": "python",
   "pygments_lexer": "ipython3",
   "version": "3.8.6"
  },
  "toc": {
   "base_numbering": 1,
   "nav_menu": {},
   "number_sections": true,
   "sideBar": true,
   "skip_h1_title": false,
   "title_cell": "Table of Contents",
   "title_sidebar": "Contents",
   "toc_cell": false,
   "toc_position": {},
   "toc_section_display": true,
   "toc_window_display": false
  }
 },
 "nbformat": 4,
 "nbformat_minor": 5
}
