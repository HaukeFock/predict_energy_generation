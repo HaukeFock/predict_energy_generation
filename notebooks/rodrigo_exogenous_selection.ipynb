{
 "cells": [
  {
   "cell_type": "code",
   "execution_count": 1,
   "id": "1dc21e09",
   "metadata": {},
   "outputs": [],
   "source": [
    "import pandas as pd\n",
    "import numpy as np\n",
    "import datetime as dt\n",
    "import matplotlib.pyplot as plt"
   ]
  },
  {
   "cell_type": "code",
   "execution_count": 2,
   "id": "a6b8e149",
   "metadata": {},
   "outputs": [],
   "source": [
    "LOCAL_PATH = '/Users/R/code/HaukeFock/predict_energy_generation/raw_data/daily/energy_generation_data/df_deutschland.csv'\n",
    "\n",
    "def get_target_data(path=LOCAL_PATH, target='wind', hourly=False):\n",
    "    if hourly:\n",
    "        path = path.replace('daily/','hourly/')\n",
    "    df = pd.read_csv(path, index_col='Date')\n",
    "    df.index = pd.to_datetime(df.index)\n",
    "    if hourly:\n",
    "        df = df.resample('h').sum()    \n",
    "    else:\n",
    "        df = df.resample('d').sum()\n",
    "    if target == 'wind':\n",
    "        return df[['Wind offshore[MWh]','Wind onshore[MWh]']].sum(axis=1)\n",
    "    if target == 'solar':\n",
    "        return df['Photovoltaics[MWh]']"
   ]
  },
  {
   "cell_type": "code",
   "execution_count": 13,
   "id": "803ba80f",
   "metadata": {},
   "outputs": [],
   "source": [
    "FEATURES_PATH = '/Users/R/code/HaukeFock/predict_energy_generation/raw_data/daily/features'\n",
    "\n",
    "def get_features_data(path=FEATURES_PATH, features=['wind'], grouped=True ,hourly=False):\n",
    "    if hourly:\n",
    "        path = FEATURES_PATH.replace('/daily/','/hourly/')\n",
    "    if 'wind' in features:\n",
    "        path = path.replace('/features','/features/wind_hourly_clean.csv')\n",
    "        wind_df = pd.read_csv(path, index_col='Date')\n",
    "        wind_df.index = pd.to_datetime(wind_df.index)\n",
    "        if grouped:\n",
    "            wind_df = wind_df.sum(axis=1)\n",
    "    return wind_df"
   ]
  },
  {
   "cell_type": "code",
   "execution_count": 28,
   "id": "fc094a30",
   "metadata": {},
   "outputs": [],
   "source": [
    "target_df = get_target_data(hourly=True)\n",
    "features_df = get_features_data(grouped=False, hourly=True)"
   ]
  },
  {
   "cell_type": "code",
   "execution_count": 29,
   "id": "448786a6",
   "metadata": {},
   "outputs": [
    {
     "name": "stdout",
     "output_type": "stream",
     "text": [
      "Droped 139 stations!\n"
     ]
    },
    {
     "data": {
      "text/plain": [
       "['90',\n",
       " '197',\n",
       " '198',\n",
       " '303',\n",
       " '342',\n",
       " '368',\n",
       " '427',\n",
       " '430',\n",
       " '591',\n",
       " '596',\n",
       " '642',\n",
       " '656',\n",
       " '662',\n",
       " '691',\n",
       " '701',\n",
       " '704',\n",
       " '722',\n",
       " '788',\n",
       " '840',\n",
       " '853',\n",
       " '880',\n",
       " '963',\n",
       " '1048',\n",
       " '1078',\n",
       " '1200',\n",
       " '1270',\n",
       " '1303',\n",
       " '1339',\n",
       " '1358',\n",
       " '1503',\n",
       " '1544',\n",
       " '1612',\n",
       " '1684',\n",
       " '1691',\n",
       " '1694',\n",
       " '1766',\n",
       " '1803',\n",
       " '1832',\n",
       " '1869',\n",
       " '1975',\n",
       " '1993',\n",
       " '2014',\n",
       " '2044',\n",
       " '2171',\n",
       " '2261',\n",
       " '2315',\n",
       " '2483',\n",
       " '2794',\n",
       " '2856',\n",
       " '2907',\n",
       " '2925',\n",
       " '2928',\n",
       " '2932',\n",
       " '2961',\n",
       " '3015',\n",
       " '3028',\n",
       " '3032',\n",
       " '3098',\n",
       " '3126',\n",
       " '3158',\n",
       " '3166',\n",
       " '3196',\n",
       " '3254',\n",
       " '3287',\n",
       " '3513',\n",
       " '3623',\n",
       " '3631',\n",
       " '3639',\n",
       " '3651',\n",
       " '3811',\n",
       " '3821',\n",
       " '3897',\n",
       " '3987',\n",
       " '4036',\n",
       " '4039',\n",
       " '4371',\n",
       " '4393',\n",
       " '4464',\n",
       " '4466',\n",
       " '4501',\n",
       " '4625',\n",
       " '4642',\n",
       " '4745',\n",
       " '4919',\n",
       " '4947',\n",
       " '5142',\n",
       " '5158',\n",
       " '5347',\n",
       " '5349',\n",
       " '5371',\n",
       " '5426',\n",
       " '5480',\n",
       " '5490',\n",
       " '5546',\n",
       " '5640',\n",
       " '5715',\n",
       " '5797',\n",
       " '5825',\n",
       " '5839',\n",
       " '6091',\n",
       " '6101',\n",
       " '6106',\n",
       " '6108',\n",
       " '6159',\n",
       " '6163',\n",
       " '6197',\n",
       " '6253',\n",
       " '6314',\n",
       " '7351',\n",
       " '7368',\n",
       " '7374',\n",
       " '7389',\n",
       " '7396',\n",
       " '7410',\n",
       " '7416',\n",
       " '13693',\n",
       " '13901',\n",
       " '13952',\n",
       " '15000',\n",
       " '15120',\n",
       " '15189',\n",
       " '15200']"
      ]
     },
     "execution_count": 29,
     "metadata": {},
     "output_type": "execute_result"
    }
   ],
   "source": [
    "def get_best_station_ids(features_df, target_df):\n",
    "    features_df['target'] = target_df\n",
    "    corr_df = features_df.corr()\n",
    "    best_stations = list(corr_df['target'][corr_df['target']>=0.6].index)[:-1]\n",
    "    init_length = len(features_df.columns)\n",
    "    final_length = len(best_stations)\n",
    "    print(f'Droped {init_length - final_length} stations!')\n",
    "    \n",
    "    return best_stations\n",
    "    \n",
    "get_best_station_ids(features_df, target_df)"
   ]
  },
  {
   "cell_type": "code",
   "execution_count": 23,
   "id": "e1a1a936",
   "metadata": {},
   "outputs": [
    {
     "data": {
      "text/plain": [
       "261"
      ]
     },
     "execution_count": 23,
     "metadata": {},
     "output_type": "execute_result"
    }
   ],
   "source": [
    "len(feature_df.columns)"
   ]
  }
 ],
 "metadata": {
  "kernelspec": {
   "display_name": "Python 3",
   "language": "python",
   "name": "python3"
  },
  "language_info": {
   "codemirror_mode": {
    "name": "ipython",
    "version": 3
   },
   "file_extension": ".py",
   "mimetype": "text/x-python",
   "name": "python",
   "nbconvert_exporter": "python",
   "pygments_lexer": "ipython3",
   "version": "3.8.6"
  },
  "toc": {
   "base_numbering": 1,
   "nav_menu": {},
   "number_sections": true,
   "sideBar": true,
   "skip_h1_title": false,
   "title_cell": "Table of Contents",
   "title_sidebar": "Contents",
   "toc_cell": false,
   "toc_position": {},
   "toc_section_display": true,
   "toc_window_display": false
  }
 },
 "nbformat": 4,
 "nbformat_minor": 5
}
