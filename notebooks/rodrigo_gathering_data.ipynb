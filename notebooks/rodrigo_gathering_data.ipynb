{
 "cells": [
  {
   "cell_type": "code",
   "execution_count": 1,
   "id": "6e5efab9",
   "metadata": {},
   "outputs": [],
   "source": [
    "import pandas as pd\n",
    "import numpy as np\n",
    "import os\n",
    "import warnings\n",
    "import datetime as dt"
   ]
  },
  {
   "cell_type": "markdown",
   "id": "4fce4b74",
   "metadata": {},
   "source": [
    "# Importing sector DFs"
   ]
  },
  {
   "cell_type": "code",
   "execution_count": 40,
   "id": "9957bf49",
   "metadata": {
    "collapsed": true
   },
   "outputs": [
    {
     "name": "stderr",
     "output_type": "stream",
     "text": [
      "/Users/R/.pyenv/versions/3.8.6/envs/predict_energy_generation/lib/python3.8/site-packages/IPython/core/interactiveshell.py:3169: DtypeWarning: Columns (6) have mixed types.Specify dtype option on import or set low_memory=False.\n",
      "  has_raised = await self.run_ast_nodes(code_ast.body, cell_name,\n",
      "/Users/R/.pyenv/versions/3.8.6/envs/predict_energy_generation/lib/python3.8/site-packages/IPython/core/interactiveshell.py:3169: DtypeWarning: Columns (4,11) have mixed types.Specify dtype option on import or set low_memory=False.\n",
      "  has_raised = await self.run_ast_nodes(code_ast.body, cell_name,\n"
     ]
    },
    {
     "name": "stdout",
     "output_type": "stream",
     "text": [
      "df_50hertz Loaded!!!\n"
     ]
    },
    {
     "name": "stderr",
     "output_type": "stream",
     "text": [
      "/Users/R/.pyenv/versions/3.8.6/envs/predict_energy_generation/lib/python3.8/site-packages/IPython/core/interactiveshell.py:3169: DtypeWarning: Columns (2,3,4,6,9,10,12) have mixed types.Specify dtype option on import or set low_memory=False.\n",
      "  has_raised = await self.run_ast_nodes(code_ast.body, cell_name,\n",
      "/Users/R/.pyenv/versions/3.8.6/envs/predict_energy_generation/lib/python3.8/site-packages/IPython/core/interactiveshell.py:3169: DtypeWarning: Columns (2,3,5,6) have mixed types.Specify dtype option on import or set low_memory=False.\n",
      "  has_raised = await self.run_ast_nodes(code_ast.body, cell_name,\n",
      "/Users/R/.pyenv/versions/3.8.6/envs/predict_energy_generation/lib/python3.8/site-packages/IPython/core/interactiveshell.py:3169: DtypeWarning: Columns (5,12) have mixed types.Specify dtype option on import or set low_memory=False.\n",
      "  has_raised = await self.run_ast_nodes(code_ast.body, cell_name,\n"
     ]
    },
    {
     "name": "stdout",
     "output_type": "stream",
     "text": [
      "df_amprion Loaded!!!\n",
      "df_tennet Loaded!!!\n"
     ]
    },
    {
     "name": "stderr",
     "output_type": "stream",
     "text": [
      "/Users/R/.pyenv/versions/3.8.6/envs/predict_energy_generation/lib/python3.8/site-packages/IPython/core/interactiveshell.py:3169: DtypeWarning: Columns (11) have mixed types.Specify dtype option on import or set low_memory=False.\n",
      "  has_raised = await self.run_ast_nodes(code_ast.body, cell_name,\n",
      "/Users/R/.pyenv/versions/3.8.6/envs/predict_energy_generation/lib/python3.8/site-packages/IPython/core/interactiveshell.py:3169: DtypeWarning: Columns (5,11) have mixed types.Specify dtype option on import or set low_memory=False.\n",
      "  has_raised = await self.run_ast_nodes(code_ast.body, cell_name,\n"
     ]
    },
    {
     "name": "stdout",
     "output_type": "stream",
     "text": [
      "df_transnet_bw Loaded!!!\n"
     ]
    },
    {
     "name": "stderr",
     "output_type": "stream",
     "text": [
      "/Users/R/.pyenv/versions/3.8.6/envs/predict_energy_generation/lib/python3.8/site-packages/IPython/core/interactiveshell.py:3169: DtypeWarning: Columns (5) have mixed types.Specify dtype option on import or set low_memory=False.\n",
      "  has_raised = await self.run_ast_nodes(code_ast.body, cell_name,\n"
     ]
    }
   ],
   "source": [
    "#warnings.simplefilter(action='ignore', category='DtypeWarning')\n",
    "\n",
    "PATH_TO_DATA = '/Users/R/code/HaukeFock/predict_energy_generation/raw_data/energy_generation/'\n",
    "companies = !ls /Users/R/code/HaukeFock/predict_energy_generation/raw_data/energy_generation/\n",
    "columns = ['Date', 'Time of day', 'Biomass[MWh]', 'Hydropower[MWh]',\n",
    "       'Wind offshore[MWh]', 'Wind onshore[MWh]', 'Photovoltaics[MWh]',\n",
    "       'Other renewable[MWh]', 'Nuclear[MWh]', 'Fossil brown coal[MWh]',\n",
    "       'Fossil hard coal[MWh]', 'Fossil gas[MWh]', 'Hydro pumped storage[MWh]',\n",
    "       'Other conventional[MWh]']\n",
    "dataframes = {}\n",
    "\n",
    "for company in companies:\n",
    "    #print(company)\n",
    "    exec(f\"df_{company} = pd.DataFrame(columns=columns)\")\n",
    "    data_paths = !ls /Users/R/code/HaukeFock/predict_energy_generation/raw_data/energy_generation/{company}\n",
    "    for file in data_paths:\n",
    "        #print(file)\n",
    "        data = pd.read_csv(f'{PATH_TO_DATA}/{company}/{file}', sep=';')\n",
    "        exec(f\"df_{company} = df_{company}.append(data, ignore_index=True)\")\n",
    "    exec(f\"dataframes['df_{company}'] = df_{company}\")\n",
    "    print(f'df_{company} Loaded!!!')"
   ]
  },
  {
   "cell_type": "code",
   "execution_count": 41,
   "id": "8ea773dd",
   "metadata": {},
   "outputs": [
    {
     "data": {
      "text/plain": [
       "0        Jan 1, 2015\n",
       "1        Jan 1, 2015\n",
       "2        Jan 1, 2015\n",
       "3        Jan 1, 2015\n",
       "4        Jan 1, 2015\n",
       "            ...     \n",
       "70267    Jan 1, 2017\n",
       "70268    Jan 1, 2017\n",
       "70269    Jan 1, 2017\n",
       "70270    Jan 1, 2017\n",
       "70271    Jan 1, 2017\n",
       "Name: Datum, Length: 70272, dtype: object"
      ]
     },
     "execution_count": 41,
     "metadata": {},
     "output_type": "execute_result"
    }
   ],
   "source": [
    "df_tennet['Datum'][:70272]"
   ]
  },
  {
   "cell_type": "code",
   "execution_count": 42,
   "id": "20c47c06",
   "metadata": {},
   "outputs": [
    {
     "name": "stdout",
     "output_type": "stream",
     "text": [
      ">>>>>>>>>>>>>> df_50hertz <<<<<<<<<<<<<<\n",
      "\n",
      "Shape: (210720, 14)\n",
      "\n",
      "NaN values: \n",
      "Date                              0\n",
      "Time of day                       0\n",
      "Biomass[MWh]                      0\n",
      "Hydropower[MWh]                   0\n",
      "Wind offshore[MWh]                0\n",
      "Wind onshore[MWh]                 0\n",
      "Photovoltaics[MWh]                0\n",
      "Other renewable[MWh]              0\n",
      "Nuclear[MWh]                 210720\n",
      "Fossil brown coal[MWh]            0\n",
      "Fossil hard coal[MWh]             0\n",
      "Fossil gas[MWh]                   0\n",
      "Hydro pumped storage[MWh]         0\n",
      "Other conventional[MWh]           0\n",
      "dtype: int64\n",
      "\n",
      ">>>>>>>>>>>>>> df_amprion <<<<<<<<<<<<<<\n",
      "\n",
      "Shape: (210720, 14)\n",
      "\n",
      "NaN values: \n",
      "Date                              0\n",
      "Time of day                       0\n",
      "Biomass[MWh]                      0\n",
      "Hydropower[MWh]                   0\n",
      "Wind offshore[MWh]           210720\n",
      "Wind onshore[MWh]                 0\n",
      "Photovoltaics[MWh]                0\n",
      "Other renewable[MWh]              0\n",
      "Nuclear[MWh]                      0\n",
      "Fossil brown coal[MWh]            0\n",
      "Fossil hard coal[MWh]             0\n",
      "Fossil gas[MWh]                   0\n",
      "Hydro pumped storage[MWh]         0\n",
      "Other conventional[MWh]           0\n",
      "dtype: int64\n",
      "\n",
      ">>>>>>>>>>>>>> df_tennet <<<<<<<<<<<<<<\n",
      "\n",
      "Shape: (210720, 14)\n",
      "\n",
      "NaN values: \n",
      "Date                         0\n",
      "Time of day                  0\n",
      "Biomass[MWh]                 0\n",
      "Hydropower[MWh]              0\n",
      "Wind offshore[MWh]           0\n",
      "Wind onshore[MWh]            0\n",
      "Photovoltaics[MWh]           0\n",
      "Other renewable[MWh]         0\n",
      "Nuclear[MWh]                 0\n",
      "Fossil brown coal[MWh]       0\n",
      "Fossil hard coal[MWh]        0\n",
      "Fossil gas[MWh]              0\n",
      "Hydro pumped storage[MWh]    0\n",
      "Other conventional[MWh]      0\n",
      "dtype: int64\n",
      "\n",
      ">>>>>>>>>>>>>> df_transnet_bw <<<<<<<<<<<<<<\n",
      "\n",
      "Shape: (210720, 14)\n",
      "\n",
      "NaN values: \n",
      "Date                              0\n",
      "Time of day                       0\n",
      "Biomass[MWh]                      0\n",
      "Hydropower[MWh]                   0\n",
      "Wind offshore[MWh]           210720\n",
      "Wind onshore[MWh]                 0\n",
      "Photovoltaics[MWh]                0\n",
      "Other renewable[MWh]              0\n",
      "Nuclear[MWh]                      0\n",
      "Fossil brown coal[MWh]       210720\n",
      "Fossil hard coal[MWh]             0\n",
      "Fossil gas[MWh]                   0\n",
      "Hydro pumped storage[MWh]         0\n",
      "Other conventional[MWh]           0\n",
      "dtype: int64\n",
      "\n"
     ]
    }
   ],
   "source": [
    "# dropping unecessary columns \n",
    "df_50hertz['Date'] = df_50hertz['Date'][:140448].append(df_50hertz['Datum'][140448:])\n",
    "df_50hertz['Time of day'] = df_50hertz['Time of day'][:140448].append(df_50hertz['Uhrzeit'][140448:])\n",
    "\n",
    "df_tennet['Date'] = df_tennet['Datum'][:70272].append(df_tennet['Date'][70272:])\n",
    "df_tennet['Time of day'] = df_tennet['Uhrzeit'][:70272].append(df_tennet['Time of day'][70272:])\n",
    "\n",
    "df_50hertz.drop(columns=['Datum', 'Uhrzeit'], inplace=True)\n",
    "df_tennet.drop(columns=['Datum', 'Uhrzeit'], inplace=True)\n",
    "\n",
    "# missing values resume for each area\n",
    "for key, df in dataframes.items():\n",
    "    if (df.columns != columns).all():\n",
    "        print(f'{key} has different columns than expected!')\n",
    "    else:\n",
    "        print(f'>>>>>>>>>>>>>> {key} <<<<<<<<<<<<<<\\n')\n",
    "        print(f'Shape: {df.shape}\\n')\n",
    "        print(f'NaN values: \\n{df.isna().sum()}\\n')"
   ]
  },
  {
   "cell_type": "code",
   "execution_count": 44,
   "id": "225bacb8",
   "metadata": {},
   "outputs": [],
   "source": [
    "numeric_values = ['Biomass[MWh]',\n",
    "                 'Hydropower[MWh]',\n",
    "                 'Wind offshore[MWh]',\n",
    "                 'Wind onshore[MWh]',\n",
    "                 'Photovoltaics[MWh]',\n",
    "                 'Other renewable[MWh]',\n",
    "                 'Nuclear[MWh]',\n",
    "                 'Fossil brown coal[MWh]',\n",
    "                 'Fossil hard coal[MWh]',\n",
    "                 'Fossil gas[MWh]',\n",
    "                 'Hydro pumped storage[MWh]',\n",
    "                 'Other conventional[MWh]']\n",
    "\n",
    "# set the features to numerical values\n",
    "for column in numeric_values:\n",
    "    #print(column)\n",
    "    for key, df in dataframes.items():\n",
    "        #print(f'{key} => {column}')\n",
    "        df[column] = df[column].apply(lambda x: str(x).replace(',',''))\n",
    "        df[column] = pd.to_numeric(df[column], errors='coerce')"
   ]
  },
  {
   "cell_type": "code",
   "execution_count": 45,
   "id": "f13fbf98",
   "metadata": {
    "scrolled": true
   },
   "outputs": [
    {
     "name": "stdout",
     "output_type": "stream",
     "text": [
      "Working on df_50hertz\n",
      "Working on df_amprion\n",
      "Working on df_tennet\n",
      "Working on df_transnet_bw\n"
     ]
    }
   ],
   "source": [
    "# join 'Date' and 'Time of Day' into one\n",
    "for df in dataframes.keys():\n",
    "    print(f'Working on {df}')\n",
    "    exec(f\"{df}['Date'] = pd.to_datetime({df}['Date']).apply(lambda x: x.strftime('%Y-%m-%d '))\")\n",
    "    exec(f\"{df}['Time of day'] = pd.to_datetime({df}['Time of day']).apply(lambda x: x.strftime('%H:%M'))\")\n",
    "    exec(f\"{df}['Date'] = pd.to_datetime({df}['Date'] + {df}['Time of day'])\")\n",
    "    exec(f\"{df}.drop(columns=['Time of day'], inplace=True)\")"
   ]
  },
  {
   "cell_type": "markdown",
   "id": "26bfe133",
   "metadata": {},
   "source": [
    "# Group by daily energy generation"
   ]
  },
  {
   "cell_type": "code",
   "execution_count": 46,
   "id": "035a5bd6",
   "metadata": {},
   "outputs": [],
   "source": [
    "# group energy generation per day \n",
    "for df in dataframes.keys():\n",
    "    exec(f\"{df} = {df}.groupby(by={df}['Date'].dt.date).mean().reset_index()\")"
   ]
  },
  {
   "cell_type": "markdown",
   "id": "69d51380",
   "metadata": {},
   "source": [
    "# Creating complete DF"
   ]
  },
  {
   "cell_type": "code",
   "execution_count": 47,
   "id": "7531cb66",
   "metadata": {},
   "outputs": [
    {
     "data": {
      "text/plain": [
       "(8772, 14)"
      ]
     },
     "execution_count": 47,
     "metadata": {},
     "output_type": "execute_result"
    }
   ],
   "source": [
    "df_deutschland = pd.DataFrame()\n",
    "\n",
    "for df, company in zip(dataframes.keys(), companies):\n",
    "        exec(f\"{df}['region'] = company\")\n",
    "        exec(f\"df_deutschland = df_deutschland.append({df}, ignore_index=True)\")\n",
    "\n",
    "df_deutschland.shape"
   ]
  },
  {
   "cell_type": "code",
   "execution_count": 48,
   "id": "b44647c0",
   "metadata": {},
   "outputs": [
    {
     "data": {
      "text/html": [
       "<div>\n",
       "<style scoped>\n",
       "    .dataframe tbody tr th:only-of-type {\n",
       "        vertical-align: middle;\n",
       "    }\n",
       "\n",
       "    .dataframe tbody tr th {\n",
       "        vertical-align: top;\n",
       "    }\n",
       "\n",
       "    .dataframe thead th {\n",
       "        text-align: right;\n",
       "    }\n",
       "</style>\n",
       "<table border=\"1\" class=\"dataframe\">\n",
       "  <thead>\n",
       "    <tr style=\"text-align: right;\">\n",
       "      <th></th>\n",
       "      <th>Date</th>\n",
       "      <th>Biomass[MWh]</th>\n",
       "      <th>Hydropower[MWh]</th>\n",
       "      <th>Wind offshore[MWh]</th>\n",
       "      <th>Wind onshore[MWh]</th>\n",
       "      <th>Photovoltaics[MWh]</th>\n",
       "      <th>Other renewable[MWh]</th>\n",
       "      <th>Nuclear[MWh]</th>\n",
       "      <th>Fossil brown coal[MWh]</th>\n",
       "      <th>Fossil hard coal[MWh]</th>\n",
       "      <th>Fossil gas[MWh]</th>\n",
       "      <th>Hydro pumped storage[MWh]</th>\n",
       "      <th>Other conventional[MWh]</th>\n",
       "      <th>region</th>\n",
       "    </tr>\n",
       "  </thead>\n",
       "  <tbody>\n",
       "    <tr>\n",
       "      <th>0</th>\n",
       "      <td>2015-01-01</td>\n",
       "      <td>305.739583</td>\n",
       "      <td>35.916667</td>\n",
       "      <td>11.989583</td>\n",
       "      <td>1278.427083</td>\n",
       "      <td>75.531250</td>\n",
       "      <td>7.020833</td>\n",
       "      <td>NaN</td>\n",
       "      <td>1485.166667</td>\n",
       "      <td>107.614583</td>\n",
       "      <td>104.593750</td>\n",
       "      <td>135.583333</td>\n",
       "      <td>134.875000</td>\n",
       "      <td>50hertz</td>\n",
       "    </tr>\n",
       "    <tr>\n",
       "      <th>1</th>\n",
       "      <td>2015-01-02</td>\n",
       "      <td>301.916667</td>\n",
       "      <td>35.427083</td>\n",
       "      <td>9.947917</td>\n",
       "      <td>2555.510417</td>\n",
       "      <td>17.677083</td>\n",
       "      <td>15.031250</td>\n",
       "      <td>NaN</td>\n",
       "      <td>1011.666667</td>\n",
       "      <td>58.250000</td>\n",
       "      <td>102.864583</td>\n",
       "      <td>128.708333</td>\n",
       "      <td>144.135417</td>\n",
       "      <td>50hertz</td>\n",
       "    </tr>\n",
       "    <tr>\n",
       "      <th>2</th>\n",
       "      <td>2015-01-03</td>\n",
       "      <td>301.875000</td>\n",
       "      <td>35.510417</td>\n",
       "      <td>11.281250</td>\n",
       "      <td>2308.958333</td>\n",
       "      <td>27.354167</td>\n",
       "      <td>18.718750</td>\n",
       "      <td>NaN</td>\n",
       "      <td>1146.885417</td>\n",
       "      <td>70.250000</td>\n",
       "      <td>123.062500</td>\n",
       "      <td>102.281250</td>\n",
       "      <td>147.968750</td>\n",
       "      <td>50hertz</td>\n",
       "    </tr>\n",
       "    <tr>\n",
       "      <th>3</th>\n",
       "      <td>2015-01-04</td>\n",
       "      <td>301.208333</td>\n",
       "      <td>35.406250</td>\n",
       "      <td>11.354167</td>\n",
       "      <td>2079.041667</td>\n",
       "      <td>49.750000</td>\n",
       "      <td>18.479167</td>\n",
       "      <td>NaN</td>\n",
       "      <td>1156.572917</td>\n",
       "      <td>81.427083</td>\n",
       "      <td>107.166667</td>\n",
       "      <td>121.385417</td>\n",
       "      <td>148.572917</td>\n",
       "      <td>50hertz</td>\n",
       "    </tr>\n",
       "    <tr>\n",
       "      <th>4</th>\n",
       "      <td>2015-01-05</td>\n",
       "      <td>298.187500</td>\n",
       "      <td>35.020833</td>\n",
       "      <td>4.104167</td>\n",
       "      <td>1333.343750</td>\n",
       "      <td>20.187500</td>\n",
       "      <td>18.093750</td>\n",
       "      <td>NaN</td>\n",
       "      <td>1742.645833</td>\n",
       "      <td>250.822917</td>\n",
       "      <td>159.322917</td>\n",
       "      <td>104.562500</td>\n",
       "      <td>146.375000</td>\n",
       "      <td>50hertz</td>\n",
       "    </tr>\n",
       "  </tbody>\n",
       "</table>\n",
       "</div>"
      ],
      "text/plain": [
       "         Date  Biomass[MWh]  Hydropower[MWh]  Wind offshore[MWh]  \\\n",
       "0  2015-01-01    305.739583        35.916667           11.989583   \n",
       "1  2015-01-02    301.916667        35.427083            9.947917   \n",
       "2  2015-01-03    301.875000        35.510417           11.281250   \n",
       "3  2015-01-04    301.208333        35.406250           11.354167   \n",
       "4  2015-01-05    298.187500        35.020833            4.104167   \n",
       "\n",
       "   Wind onshore[MWh]  Photovoltaics[MWh]  Other renewable[MWh]  Nuclear[MWh]  \\\n",
       "0        1278.427083           75.531250              7.020833           NaN   \n",
       "1        2555.510417           17.677083             15.031250           NaN   \n",
       "2        2308.958333           27.354167             18.718750           NaN   \n",
       "3        2079.041667           49.750000             18.479167           NaN   \n",
       "4        1333.343750           20.187500             18.093750           NaN   \n",
       "\n",
       "   Fossil brown coal[MWh]  Fossil hard coal[MWh]  Fossil gas[MWh]  \\\n",
       "0             1485.166667             107.614583       104.593750   \n",
       "1             1011.666667              58.250000       102.864583   \n",
       "2             1146.885417              70.250000       123.062500   \n",
       "3             1156.572917              81.427083       107.166667   \n",
       "4             1742.645833             250.822917       159.322917   \n",
       "\n",
       "   Hydro pumped storage[MWh]  Other conventional[MWh]   region  \n",
       "0                 135.583333               134.875000  50hertz  \n",
       "1                 128.708333               144.135417  50hertz  \n",
       "2                 102.281250               147.968750  50hertz  \n",
       "3                 121.385417               148.572917  50hertz  \n",
       "4                 104.562500               146.375000  50hertz  "
      ]
     },
     "execution_count": 48,
     "metadata": {},
     "output_type": "execute_result"
    }
   ],
   "source": [
    "df_deutschland.head()"
   ]
  }
 ],
 "metadata": {
  "kernelspec": {
   "display_name": "Python 3",
   "language": "python",
   "name": "python3"
  },
  "language_info": {
   "codemirror_mode": {
    "name": "ipython",
    "version": 3
   },
   "file_extension": ".py",
   "mimetype": "text/x-python",
   "name": "python",
   "nbconvert_exporter": "python",
   "pygments_lexer": "ipython3",
   "version": "3.8.6"
  },
  "toc": {
   "base_numbering": 1,
   "nav_menu": {},
   "number_sections": true,
   "sideBar": true,
   "skip_h1_title": false,
   "title_cell": "Table of Contents",
   "title_sidebar": "Contents",
   "toc_cell": false,
   "toc_position": {},
   "toc_section_display": true,
   "toc_window_display": false
  }
 },
 "nbformat": 4,
 "nbformat_minor": 5
}
