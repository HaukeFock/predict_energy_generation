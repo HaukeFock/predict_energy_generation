{
 "cells": [
  {
   "cell_type": "code",
   "execution_count": 1,
   "id": "c603b690",
   "metadata": {},
   "outputs": [],
   "source": [
    "import pandas as pd\n",
    "import numpy as np\n",
    "import datetime as dt\n",
    "import matplotlib.pyplot as plt\n",
    "import os\n",
    "from statsmodels.tsa.stattools import adfuller\n",
    "from statsmodels.graphics.tsaplots import plot_pacf, plot_acf\n",
    "from statsmodels.tsa.seasonal import seasonal_decompose\n",
    "from statsmodels.tsa.statespace.sarimax import SARIMAX"
   ]
  },
  {
   "cell_type": "markdown",
   "id": "be90dac2",
   "metadata": {},
   "source": [
    "# Importing data"
   ]
  },
  {
   "cell_type": "code",
   "execution_count": 2,
   "id": "e188c11a",
   "metadata": {},
   "outputs": [
    {
     "data": {
      "text/plain": [
       "'/Users/michael.kuntz/code/HaukeFock/predict_energy_generation/notebooks'"
      ]
     },
     "execution_count": 2,
     "metadata": {},
     "output_type": "execute_result"
    }
   ],
   "source": [
    "os.getcwd()"
   ]
  },
  {
   "cell_type": "code",
   "execution_count": 3,
   "id": "5c3fb193",
   "metadata": {},
   "outputs": [],
   "source": [
    "local_path = '/Users/michael.kuntz/code/HaukeFock/predict_energy_generation/raw_data/Target/energy_generation_data'"
   ]
  },
  {
   "cell_type": "code",
   "execution_count": 4,
   "id": "1e5f61a4",
   "metadata": {},
   "outputs": [],
   "source": [
    "for path, dirs, files in os.walk(local_path):\n",
    "    print(path)\n",
    "    for f in files:\n",
    "        print(f)"
   ]
  },
  {
   "cell_type": "code",
   "execution_count": 5,
   "id": "f3f9bfbe",
   "metadata": {},
   "outputs": [],
   "source": [
    "daily_data_path = '/Users/michael.kuntz/code/HaukeFock/predict_energy_generation/raw_data/Target/Daily/energy_generation_data/df_deutschland.csv'\n",
    "hourly_data_path = '/Users/michael.kuntz/code/HaukeFock/predict_energy_generation/raw_data/Target/Hourly/energy_generation_data/df_deutschland.csv'"
   ]
  },
  {
   "cell_type": "markdown",
   "id": "9bba16b6",
   "metadata": {},
   "source": [
    "## Importing target"
   ]
  },
  {
   "cell_type": "code",
   "execution_count": 6,
   "id": "1c16cb7e",
   "metadata": {},
   "outputs": [
    {
     "data": {
      "text/html": [
       "<div>\n",
       "<style scoped>\n",
       "    .dataframe tbody tr th:only-of-type {\n",
       "        vertical-align: middle;\n",
       "    }\n",
       "\n",
       "    .dataframe tbody tr th {\n",
       "        vertical-align: top;\n",
       "    }\n",
       "\n",
       "    .dataframe thead th {\n",
       "        text-align: right;\n",
       "    }\n",
       "</style>\n",
       "<table border=\"1\" class=\"dataframe\">\n",
       "  <thead>\n",
       "    <tr style=\"text-align: right;\">\n",
       "      <th></th>\n",
       "      <th>Wind offshore[MWh]</th>\n",
       "      <th>Wind onshore[MWh]</th>\n",
       "      <th>Photovoltaics[MWh]</th>\n",
       "      <th>region</th>\n",
       "    </tr>\n",
       "    <tr>\n",
       "      <th>Date</th>\n",
       "      <th></th>\n",
       "      <th></th>\n",
       "      <th></th>\n",
       "      <th></th>\n",
       "    </tr>\n",
       "  </thead>\n",
       "  <tbody>\n",
       "    <tr>\n",
       "      <th>2015-01-01</th>\n",
       "      <td>11.989583</td>\n",
       "      <td>1278.427083</td>\n",
       "      <td>75.531250</td>\n",
       "      <td>50hertz</td>\n",
       "    </tr>\n",
       "    <tr>\n",
       "      <th>2015-01-02</th>\n",
       "      <td>9.947917</td>\n",
       "      <td>2555.510417</td>\n",
       "      <td>17.677083</td>\n",
       "      <td>50hertz</td>\n",
       "    </tr>\n",
       "    <tr>\n",
       "      <th>2015-01-03</th>\n",
       "      <td>11.281250</td>\n",
       "      <td>2308.958333</td>\n",
       "      <td>27.354167</td>\n",
       "      <td>50hertz</td>\n",
       "    </tr>\n",
       "    <tr>\n",
       "      <th>2015-01-04</th>\n",
       "      <td>11.354167</td>\n",
       "      <td>2079.041667</td>\n",
       "      <td>49.750000</td>\n",
       "      <td>50hertz</td>\n",
       "    </tr>\n",
       "    <tr>\n",
       "      <th>2015-01-05</th>\n",
       "      <td>4.104167</td>\n",
       "      <td>1333.343750</td>\n",
       "      <td>20.187500</td>\n",
       "      <td>50hertz</td>\n",
       "    </tr>\n",
       "  </tbody>\n",
       "</table>\n",
       "</div>"
      ],
      "text/plain": [
       "            Wind offshore[MWh]  Wind onshore[MWh]  Photovoltaics[MWh]   region\n",
       "Date                                                                          \n",
       "2015-01-01           11.989583        1278.427083           75.531250  50hertz\n",
       "2015-01-02            9.947917        2555.510417           17.677083  50hertz\n",
       "2015-01-03           11.281250        2308.958333           27.354167  50hertz\n",
       "2015-01-04           11.354167        2079.041667           49.750000  50hertz\n",
       "2015-01-05            4.104167        1333.343750           20.187500  50hertz"
      ]
     },
     "execution_count": 6,
     "metadata": {},
     "output_type": "execute_result"
    }
   ],
   "source": [
    "daily_df = pd.read_csv(daily_data_path)\n",
    "\n",
    "daily_df['Date'] = pd.to_datetime(daily_df['Date'])\n",
    "daily_df.set_index('Date', inplace=True)\n",
    "\n",
    "daily_df.head()"
   ]
  },
  {
   "cell_type": "code",
   "execution_count": 229,
   "id": "471485ed",
   "metadata": {},
   "outputs": [
    {
     "data": {
      "text/html": [
       "<div>\n",
       "<style scoped>\n",
       "    .dataframe tbody tr th:only-of-type {\n",
       "        vertical-align: middle;\n",
       "    }\n",
       "\n",
       "    .dataframe tbody tr th {\n",
       "        vertical-align: top;\n",
       "    }\n",
       "\n",
       "    .dataframe thead th {\n",
       "        text-align: right;\n",
       "    }\n",
       "</style>\n",
       "<table border=\"1\" class=\"dataframe\">\n",
       "  <thead>\n",
       "    <tr style=\"text-align: right;\">\n",
       "      <th></th>\n",
       "      <th>Wind offshore[MWh]</th>\n",
       "      <th>Wind onshore[MWh]</th>\n",
       "      <th>Photovoltaics[MWh]</th>\n",
       "      <th>region</th>\n",
       "    </tr>\n",
       "    <tr>\n",
       "      <th>Date</th>\n",
       "      <th></th>\n",
       "      <th></th>\n",
       "      <th></th>\n",
       "      <th></th>\n",
       "    </tr>\n",
       "  </thead>\n",
       "  <tbody>\n",
       "    <tr>\n",
       "      <th>2021-01-01 19:00:00</th>\n",
       "      <td>0.0</td>\n",
       "      <td>13.0</td>\n",
       "      <td>0.0</td>\n",
       "      <td>transnet_bw</td>\n",
       "    </tr>\n",
       "    <tr>\n",
       "      <th>2021-01-01 20:00:00</th>\n",
       "      <td>0.0</td>\n",
       "      <td>21.0</td>\n",
       "      <td>0.0</td>\n",
       "      <td>transnet_bw</td>\n",
       "    </tr>\n",
       "    <tr>\n",
       "      <th>2021-01-01 21:00:00</th>\n",
       "      <td>0.0</td>\n",
       "      <td>18.0</td>\n",
       "      <td>0.0</td>\n",
       "      <td>transnet_bw</td>\n",
       "    </tr>\n",
       "    <tr>\n",
       "      <th>2021-01-01 22:00:00</th>\n",
       "      <td>0.0</td>\n",
       "      <td>25.0</td>\n",
       "      <td>0.0</td>\n",
       "      <td>transnet_bw</td>\n",
       "    </tr>\n",
       "    <tr>\n",
       "      <th>2021-01-01 23:00:00</th>\n",
       "      <td>0.0</td>\n",
       "      <td>29.0</td>\n",
       "      <td>0.0</td>\n",
       "      <td>transnet_bw</td>\n",
       "    </tr>\n",
       "  </tbody>\n",
       "</table>\n",
       "</div>"
      ],
      "text/plain": [
       "                     Wind offshore[MWh]  Wind onshore[MWh]  \\\n",
       "Date                                                         \n",
       "2021-01-01 19:00:00                 0.0               13.0   \n",
       "2021-01-01 20:00:00                 0.0               21.0   \n",
       "2021-01-01 21:00:00                 0.0               18.0   \n",
       "2021-01-01 22:00:00                 0.0               25.0   \n",
       "2021-01-01 23:00:00                 0.0               29.0   \n",
       "\n",
       "                     Photovoltaics[MWh]       region  \n",
       "Date                                                  \n",
       "2021-01-01 19:00:00                 0.0  transnet_bw  \n",
       "2021-01-01 20:00:00                 0.0  transnet_bw  \n",
       "2021-01-01 21:00:00                 0.0  transnet_bw  \n",
       "2021-01-01 22:00:00                 0.0  transnet_bw  \n",
       "2021-01-01 23:00:00                 0.0  transnet_bw  "
      ]
     },
     "execution_count": 229,
     "metadata": {},
     "output_type": "execute_result"
    }
   ],
   "source": [
    "hourly_df = pd.read_csv(hourly_data_path)\n",
    "\n",
    "hourly_df['Date'] = pd.to_datetime(hourly_df['Date'])\n",
    "hourly_df.set_index('Date', inplace=True)\n",
    "\n",
    "hourly_df.tail()"
   ]
  },
  {
   "cell_type": "code",
   "execution_count": 10,
   "id": "4ebcf35c",
   "metadata": {},
   "outputs": [
    {
     "data": {
      "text/html": [
       "<div>\n",
       "<style scoped>\n",
       "    .dataframe tbody tr th:only-of-type {\n",
       "        vertical-align: middle;\n",
       "    }\n",
       "\n",
       "    .dataframe tbody tr th {\n",
       "        vertical-align: top;\n",
       "    }\n",
       "\n",
       "    .dataframe thead th {\n",
       "        text-align: right;\n",
       "    }\n",
       "</style>\n",
       "<table border=\"1\" class=\"dataframe\">\n",
       "  <thead>\n",
       "    <tr style=\"text-align: right;\">\n",
       "      <th></th>\n",
       "      <th>Wind offshore[MWh]</th>\n",
       "      <th>Wind onshore[MWh]</th>\n",
       "      <th>Photovoltaics[MWh]</th>\n",
       "    </tr>\n",
       "    <tr>\n",
       "      <th>Date</th>\n",
       "      <th></th>\n",
       "      <th></th>\n",
       "      <th></th>\n",
       "    </tr>\n",
       "  </thead>\n",
       "  <tbody>\n",
       "    <tr>\n",
       "      <th>2015-01-01 00:00:00</th>\n",
       "      <td>517.0</td>\n",
       "      <td>8129.0</td>\n",
       "      <td>0.0</td>\n",
       "    </tr>\n",
       "    <tr>\n",
       "      <th>2015-01-01 01:00:00</th>\n",
       "      <td>516.0</td>\n",
       "      <td>8300.0</td>\n",
       "      <td>0.0</td>\n",
       "    </tr>\n",
       "    <tr>\n",
       "      <th>2015-01-01 02:00:00</th>\n",
       "      <td>514.0</td>\n",
       "      <td>8544.0</td>\n",
       "      <td>0.0</td>\n",
       "    </tr>\n",
       "    <tr>\n",
       "      <th>2015-01-01 03:00:00</th>\n",
       "      <td>519.0</td>\n",
       "      <td>8552.0</td>\n",
       "      <td>0.0</td>\n",
       "    </tr>\n",
       "    <tr>\n",
       "      <th>2015-01-01 04:00:00</th>\n",
       "      <td>522.0</td>\n",
       "      <td>8646.0</td>\n",
       "      <td>0.0</td>\n",
       "    </tr>\n",
       "  </tbody>\n",
       "</table>\n",
       "</div>"
      ],
      "text/plain": [
       "                     Wind offshore[MWh]  Wind onshore[MWh]  Photovoltaics[MWh]\n",
       "Date                                                                          \n",
       "2015-01-01 00:00:00               517.0             8129.0                 0.0\n",
       "2015-01-01 01:00:00               516.0             8300.0                 0.0\n",
       "2015-01-01 02:00:00               514.0             8544.0                 0.0\n",
       "2015-01-01 03:00:00               519.0             8552.0                 0.0\n",
       "2015-01-01 04:00:00               522.0             8646.0                 0.0"
      ]
     },
     "execution_count": 10,
     "metadata": {},
     "output_type": "execute_result"
    }
   ],
   "source": [
    "hourly_de_df = hourly_df.groupby(hourly_df.index).sum()\n",
    "hourly_de_df.head()"
   ]
  },
  {
   "cell_type": "code",
   "execution_count": 11,
   "id": "027044e6",
   "metadata": {},
   "outputs": [
    {
     "data": {
      "text/html": [
       "<div>\n",
       "<style scoped>\n",
       "    .dataframe tbody tr th:only-of-type {\n",
       "        vertical-align: middle;\n",
       "    }\n",
       "\n",
       "    .dataframe tbody tr th {\n",
       "        vertical-align: top;\n",
       "    }\n",
       "\n",
       "    .dataframe thead th {\n",
       "        text-align: right;\n",
       "    }\n",
       "</style>\n",
       "<table border=\"1\" class=\"dataframe\">\n",
       "  <thead>\n",
       "    <tr style=\"text-align: right;\">\n",
       "      <th></th>\n",
       "      <th>Wind[MWh]</th>\n",
       "    </tr>\n",
       "    <tr>\n",
       "      <th>Date</th>\n",
       "      <th></th>\n",
       "    </tr>\n",
       "  </thead>\n",
       "  <tbody>\n",
       "    <tr>\n",
       "      <th>2015-01-01 00:00:00</th>\n",
       "      <td>8646.0</td>\n",
       "    </tr>\n",
       "    <tr>\n",
       "      <th>2015-01-01 01:00:00</th>\n",
       "      <td>8816.0</td>\n",
       "    </tr>\n",
       "    <tr>\n",
       "      <th>2015-01-01 02:00:00</th>\n",
       "      <td>9058.0</td>\n",
       "    </tr>\n",
       "    <tr>\n",
       "      <th>2015-01-01 03:00:00</th>\n",
       "      <td>9071.0</td>\n",
       "    </tr>\n",
       "    <tr>\n",
       "      <th>2015-01-01 04:00:00</th>\n",
       "      <td>9168.0</td>\n",
       "    </tr>\n",
       "  </tbody>\n",
       "</table>\n",
       "</div>"
      ],
      "text/plain": [
       "                     Wind[MWh]\n",
       "Date                          \n",
       "2015-01-01 00:00:00     8646.0\n",
       "2015-01-01 01:00:00     8816.0\n",
       "2015-01-01 02:00:00     9058.0\n",
       "2015-01-01 03:00:00     9071.0\n",
       "2015-01-01 04:00:00     9168.0"
      ]
     },
     "execution_count": 11,
     "metadata": {},
     "output_type": "execute_result"
    }
   ],
   "source": [
    "hourly_wind_de_df = pd.DataFrame(hourly_de_df.iloc[:,0] + hourly_de_df.iloc[:,1],columns=['Wind[MWh]'])\n",
    "hourly_wind_de_df.head()"
   ]
  },
  {
   "cell_type": "code",
   "execution_count": 228,
   "id": "c09ef809",
   "metadata": {},
   "outputs": [
    {
     "data": {
      "text/html": [
       "<div>\n",
       "<style scoped>\n",
       "    .dataframe tbody tr th:only-of-type {\n",
       "        vertical-align: middle;\n",
       "    }\n",
       "\n",
       "    .dataframe tbody tr th {\n",
       "        vertical-align: top;\n",
       "    }\n",
       "\n",
       "    .dataframe thead th {\n",
       "        text-align: right;\n",
       "    }\n",
       "</style>\n",
       "<table border=\"1\" class=\"dataframe\">\n",
       "  <thead>\n",
       "    <tr style=\"text-align: right;\">\n",
       "      <th></th>\n",
       "      <th>Wind[MWh]</th>\n",
       "    </tr>\n",
       "    <tr>\n",
       "      <th>Date</th>\n",
       "      <th></th>\n",
       "    </tr>\n",
       "  </thead>\n",
       "  <tbody>\n",
       "    <tr>\n",
       "      <th>2021-01-01 19:00:00</th>\n",
       "      <td>4845.0</td>\n",
       "    </tr>\n",
       "    <tr>\n",
       "      <th>2021-01-01 20:00:00</th>\n",
       "      <td>5028.0</td>\n",
       "    </tr>\n",
       "    <tr>\n",
       "      <th>2021-01-01 21:00:00</th>\n",
       "      <td>5204.0</td>\n",
       "    </tr>\n",
       "    <tr>\n",
       "      <th>2021-01-01 22:00:00</th>\n",
       "      <td>5681.0</td>\n",
       "    </tr>\n",
       "    <tr>\n",
       "      <th>2021-01-01 23:00:00</th>\n",
       "      <td>5333.0</td>\n",
       "    </tr>\n",
       "  </tbody>\n",
       "</table>\n",
       "</div>"
      ],
      "text/plain": [
       "                     Wind[MWh]\n",
       "Date                          \n",
       "2021-01-01 19:00:00     4845.0\n",
       "2021-01-01 20:00:00     5028.0\n",
       "2021-01-01 21:00:00     5204.0\n",
       "2021-01-01 22:00:00     5681.0\n",
       "2021-01-01 23:00:00     5333.0"
      ]
     },
     "execution_count": 228,
     "metadata": {},
     "output_type": "execute_result"
    }
   ],
   "source": [
    "hourly_wind_de_df.tail()"
   ]
  },
  {
   "cell_type": "markdown",
   "id": "ec673b31",
   "metadata": {},
   "source": [
    "## Importing features"
   ]
  },
  {
   "cell_type": "code",
   "execution_count": 12,
   "id": "9e333566",
   "metadata": {},
   "outputs": [],
   "source": [
    "feature_path = daily_data_path = '/Users/michael.kuntz/code/HaukeFock/predict_energy_generation/raw_data/Features/DATAFRAMES'\n",
    "\n",
    "hourly_windspeed_df = pd.read_csv(os.path.join(feature_path,'wind_hourly_clean.csv'))\n",
    "hourly_airp_df = pd.read_csv(os.path.join(feature_path,'hourly_airp_df.csv'))"
   ]
  },
  {
   "cell_type": "code",
   "execution_count": 13,
   "id": "c16a7b87",
   "metadata": {},
   "outputs": [
    {
     "data": {
      "text/html": [
       "<div>\n",
       "<style scoped>\n",
       "    .dataframe tbody tr th:only-of-type {\n",
       "        vertical-align: middle;\n",
       "    }\n",
       "\n",
       "    .dataframe tbody tr th {\n",
       "        vertical-align: top;\n",
       "    }\n",
       "\n",
       "    .dataframe thead th {\n",
       "        text-align: right;\n",
       "    }\n",
       "</style>\n",
       "<table border=\"1\" class=\"dataframe\">\n",
       "  <thead>\n",
       "    <tr style=\"text-align: right;\">\n",
       "      <th></th>\n",
       "      <th>Date</th>\n",
       "      <th>90</th>\n",
       "      <th>125</th>\n",
       "      <th>161</th>\n",
       "      <th>164</th>\n",
       "      <th>183</th>\n",
       "      <th>197</th>\n",
       "      <th>198</th>\n",
       "      <th>232</th>\n",
       "      <th>282</th>\n",
       "      <th>...</th>\n",
       "      <th>15000</th>\n",
       "      <th>15044</th>\n",
       "      <th>15120</th>\n",
       "      <th>15122</th>\n",
       "      <th>15189</th>\n",
       "      <th>15200</th>\n",
       "      <th>15207</th>\n",
       "      <th>15214</th>\n",
       "      <th>15444</th>\n",
       "      <th>1001</th>\n",
       "    </tr>\n",
       "  </thead>\n",
       "  <tbody>\n",
       "    <tr>\n",
       "      <th>0</th>\n",
       "      <td>2015-01-01 00:00:00</td>\n",
       "      <td>2.1</td>\n",
       "      <td>0.7</td>\n",
       "      <td>0.9</td>\n",
       "      <td>5.1</td>\n",
       "      <td>11.3</td>\n",
       "      <td>3.2</td>\n",
       "      <td>1.6</td>\n",
       "      <td>1.1</td>\n",
       "      <td>0.7</td>\n",
       "      <td>...</td>\n",
       "      <td>3.9</td>\n",
       "      <td>0.8</td>\n",
       "      <td>4.9</td>\n",
       "      <td>3.2</td>\n",
       "      <td>4.4</td>\n",
       "      <td>3.0</td>\n",
       "      <td>0.5</td>\n",
       "      <td>1.2</td>\n",
       "      <td>1.0</td>\n",
       "      <td>2.2</td>\n",
       "    </tr>\n",
       "    <tr>\n",
       "      <th>1</th>\n",
       "      <td>2015-01-01 01:00:00</td>\n",
       "      <td>2.7</td>\n",
       "      <td>0.3</td>\n",
       "      <td>0.8</td>\n",
       "      <td>4.9</td>\n",
       "      <td>13.0</td>\n",
       "      <td>3.2</td>\n",
       "      <td>2.6</td>\n",
       "      <td>1.5</td>\n",
       "      <td>0.9</td>\n",
       "      <td>...</td>\n",
       "      <td>3.4</td>\n",
       "      <td>0.7</td>\n",
       "      <td>5.3</td>\n",
       "      <td>2.6</td>\n",
       "      <td>6.0</td>\n",
       "      <td>2.8</td>\n",
       "      <td>0.8</td>\n",
       "      <td>1.1</td>\n",
       "      <td>1.0</td>\n",
       "      <td>2.5</td>\n",
       "    </tr>\n",
       "    <tr>\n",
       "      <th>2</th>\n",
       "      <td>2015-01-01 02:00:00</td>\n",
       "      <td>2.5</td>\n",
       "      <td>0.8</td>\n",
       "      <td>1.3</td>\n",
       "      <td>3.9</td>\n",
       "      <td>12.8</td>\n",
       "      <td>3.2</td>\n",
       "      <td>3.2</td>\n",
       "      <td>1.7</td>\n",
       "      <td>0.9</td>\n",
       "      <td>...</td>\n",
       "      <td>3.8</td>\n",
       "      <td>1.3</td>\n",
       "      <td>4.8</td>\n",
       "      <td>2.3</td>\n",
       "      <td>5.7</td>\n",
       "      <td>3.1</td>\n",
       "      <td>0.5</td>\n",
       "      <td>1.8</td>\n",
       "      <td>1.2</td>\n",
       "      <td>2.6</td>\n",
       "    </tr>\n",
       "    <tr>\n",
       "      <th>3</th>\n",
       "      <td>2015-01-01 03:00:00</td>\n",
       "      <td>2.0</td>\n",
       "      <td>0.7</td>\n",
       "      <td>1.4</td>\n",
       "      <td>3.7</td>\n",
       "      <td>12.4</td>\n",
       "      <td>3.2</td>\n",
       "      <td>3.5</td>\n",
       "      <td>1.5</td>\n",
       "      <td>0.6</td>\n",
       "      <td>...</td>\n",
       "      <td>4.2</td>\n",
       "      <td>1.1</td>\n",
       "      <td>4.2</td>\n",
       "      <td>2.5</td>\n",
       "      <td>5.4</td>\n",
       "      <td>3.2</td>\n",
       "      <td>0.7</td>\n",
       "      <td>1.1</td>\n",
       "      <td>1.0</td>\n",
       "      <td>2.8</td>\n",
       "    </tr>\n",
       "    <tr>\n",
       "      <th>4</th>\n",
       "      <td>2015-01-01 04:00:00</td>\n",
       "      <td>1.1</td>\n",
       "      <td>0.9</td>\n",
       "      <td>1.7</td>\n",
       "      <td>4.2</td>\n",
       "      <td>12.2</td>\n",
       "      <td>3.2</td>\n",
       "      <td>3.4</td>\n",
       "      <td>1.7</td>\n",
       "      <td>1.0</td>\n",
       "      <td>...</td>\n",
       "      <td>4.4</td>\n",
       "      <td>0.9</td>\n",
       "      <td>4.1</td>\n",
       "      <td>1.8</td>\n",
       "      <td>6.1</td>\n",
       "      <td>3.6</td>\n",
       "      <td>0.8</td>\n",
       "      <td>0.9</td>\n",
       "      <td>1.4</td>\n",
       "      <td>2.8</td>\n",
       "    </tr>\n",
       "  </tbody>\n",
       "</table>\n",
       "<p>5 rows × 261 columns</p>\n",
       "</div>"
      ],
      "text/plain": [
       "                  Date   90  125  161  164   183  197  198  232  282  ...  \\\n",
       "0  2015-01-01 00:00:00  2.1  0.7  0.9  5.1  11.3  3.2  1.6  1.1  0.7  ...   \n",
       "1  2015-01-01 01:00:00  2.7  0.3  0.8  4.9  13.0  3.2  2.6  1.5  0.9  ...   \n",
       "2  2015-01-01 02:00:00  2.5  0.8  1.3  3.9  12.8  3.2  3.2  1.7  0.9  ...   \n",
       "3  2015-01-01 03:00:00  2.0  0.7  1.4  3.7  12.4  3.2  3.5  1.5  0.6  ...   \n",
       "4  2015-01-01 04:00:00  1.1  0.9  1.7  4.2  12.2  3.2  3.4  1.7  1.0  ...   \n",
       "\n",
       "   15000  15044  15120  15122  15189  15200  15207  15214  15444  1001  \n",
       "0    3.9    0.8    4.9    3.2    4.4    3.0    0.5    1.2    1.0   2.2  \n",
       "1    3.4    0.7    5.3    2.6    6.0    2.8    0.8    1.1    1.0   2.5  \n",
       "2    3.8    1.3    4.8    2.3    5.7    3.1    0.5    1.8    1.2   2.6  \n",
       "3    4.2    1.1    4.2    2.5    5.4    3.2    0.7    1.1    1.0   2.8  \n",
       "4    4.4    0.9    4.1    1.8    6.1    3.6    0.8    0.9    1.4   2.8  \n",
       "\n",
       "[5 rows x 261 columns]"
      ]
     },
     "execution_count": 13,
     "metadata": {},
     "output_type": "execute_result"
    }
   ],
   "source": [
    "hourly_windspeed_df.head()"
   ]
  },
  {
   "cell_type": "code",
   "execution_count": 14,
   "id": "24293769",
   "metadata": {},
   "outputs": [
    {
     "data": {
      "text/html": [
       "<div>\n",
       "<style scoped>\n",
       "    .dataframe tbody tr th:only-of-type {\n",
       "        vertical-align: middle;\n",
       "    }\n",
       "\n",
       "    .dataframe tbody tr th {\n",
       "        vertical-align: top;\n",
       "    }\n",
       "\n",
       "    .dataframe thead th {\n",
       "        text-align: right;\n",
       "    }\n",
       "</style>\n",
       "<table border=\"1\" class=\"dataframe\">\n",
       "  <thead>\n",
       "    <tr style=\"text-align: right;\">\n",
       "      <th></th>\n",
       "      <th>Date</th>\n",
       "      <th>44</th>\n",
       "      <th>71</th>\n",
       "      <th>73</th>\n",
       "      <th>78</th>\n",
       "      <th>91</th>\n",
       "      <th>96</th>\n",
       "      <th>102</th>\n",
       "      <th>125</th>\n",
       "      <th>131</th>\n",
       "      <th>...</th>\n",
       "      <th>13711</th>\n",
       "      <th>13713</th>\n",
       "      <th>13777</th>\n",
       "      <th>13965</th>\n",
       "      <th>15000</th>\n",
       "      <th>15207</th>\n",
       "      <th>15444</th>\n",
       "      <th>15555</th>\n",
       "      <th>19171</th>\n",
       "      <th>19172</th>\n",
       "    </tr>\n",
       "  </thead>\n",
       "  <tbody>\n",
       "    <tr>\n",
       "      <th>0</th>\n",
       "      <td>2015-01-01 00:00:00</td>\n",
       "      <td>2.2</td>\n",
       "      <td>-3.7</td>\n",
       "      <td>-2.1</td>\n",
       "      <td>1.6</td>\n",
       "      <td>0.6</td>\n",
       "      <td>NaN</td>\n",
       "      <td>3.9</td>\n",
       "      <td>-9.6</td>\n",
       "      <td>1.1</td>\n",
       "      <td>...</td>\n",
       "      <td>1.9</td>\n",
       "      <td>1.1</td>\n",
       "      <td>4.2</td>\n",
       "      <td>-2.9</td>\n",
       "      <td>1.2</td>\n",
       "      <td>0.1</td>\n",
       "      <td>-2.2</td>\n",
       "      <td>NaN</td>\n",
       "      <td>NaN</td>\n",
       "      <td>NaN</td>\n",
       "    </tr>\n",
       "    <tr>\n",
       "      <th>1</th>\n",
       "      <td>2015-01-01 01:00:00</td>\n",
       "      <td>2.5</td>\n",
       "      <td>-3.8</td>\n",
       "      <td>-1.7</td>\n",
       "      <td>1.9</td>\n",
       "      <td>0.5</td>\n",
       "      <td>NaN</td>\n",
       "      <td>3.3</td>\n",
       "      <td>-8.8</td>\n",
       "      <td>1.3</td>\n",
       "      <td>...</td>\n",
       "      <td>1.7</td>\n",
       "      <td>0.9</td>\n",
       "      <td>3.7</td>\n",
       "      <td>-5.2</td>\n",
       "      <td>1.0</td>\n",
       "      <td>-0.8</td>\n",
       "      <td>-1.8</td>\n",
       "      <td>NaN</td>\n",
       "      <td>NaN</td>\n",
       "      <td>NaN</td>\n",
       "    </tr>\n",
       "    <tr>\n",
       "      <th>2</th>\n",
       "      <td>2015-01-01 02:00:00</td>\n",
       "      <td>2.3</td>\n",
       "      <td>-4.4</td>\n",
       "      <td>-1.8</td>\n",
       "      <td>1.6</td>\n",
       "      <td>0.3</td>\n",
       "      <td>NaN</td>\n",
       "      <td>3.7</td>\n",
       "      <td>-12.5</td>\n",
       "      <td>1.2</td>\n",
       "      <td>...</td>\n",
       "      <td>1.6</td>\n",
       "      <td>1.0</td>\n",
       "      <td>3.1</td>\n",
       "      <td>-5.3</td>\n",
       "      <td>1.1</td>\n",
       "      <td>-1.4</td>\n",
       "      <td>-2.3</td>\n",
       "      <td>NaN</td>\n",
       "      <td>NaN</td>\n",
       "      <td>NaN</td>\n",
       "    </tr>\n",
       "    <tr>\n",
       "      <th>3</th>\n",
       "      <td>2015-01-01 03:00:00</td>\n",
       "      <td>2.3</td>\n",
       "      <td>-3.2</td>\n",
       "      <td>-2.0</td>\n",
       "      <td>1.5</td>\n",
       "      <td>0.4</td>\n",
       "      <td>NaN</td>\n",
       "      <td>3.8</td>\n",
       "      <td>-11.0</td>\n",
       "      <td>1.4</td>\n",
       "      <td>...</td>\n",
       "      <td>1.5</td>\n",
       "      <td>0.9</td>\n",
       "      <td>1.8</td>\n",
       "      <td>-4.0</td>\n",
       "      <td>0.5</td>\n",
       "      <td>-1.7</td>\n",
       "      <td>-3.5</td>\n",
       "      <td>NaN</td>\n",
       "      <td>NaN</td>\n",
       "      <td>NaN</td>\n",
       "    </tr>\n",
       "    <tr>\n",
       "      <th>4</th>\n",
       "      <td>2015-01-01 04:00:00</td>\n",
       "      <td>1.9</td>\n",
       "      <td>-3.4</td>\n",
       "      <td>-1.7</td>\n",
       "      <td>1.5</td>\n",
       "      <td>0.4</td>\n",
       "      <td>NaN</td>\n",
       "      <td>3.8</td>\n",
       "      <td>-10.6</td>\n",
       "      <td>1.5</td>\n",
       "      <td>...</td>\n",
       "      <td>1.2</td>\n",
       "      <td>0.9</td>\n",
       "      <td>2.2</td>\n",
       "      <td>-3.6</td>\n",
       "      <td>0.9</td>\n",
       "      <td>-1.5</td>\n",
       "      <td>-1.6</td>\n",
       "      <td>NaN</td>\n",
       "      <td>NaN</td>\n",
       "      <td>NaN</td>\n",
       "    </tr>\n",
       "  </tbody>\n",
       "</table>\n",
       "<p>5 rows × 516 columns</p>\n",
       "</div>"
      ],
      "text/plain": [
       "                  Date   44   71   73   78   91  96  102   125  131  ...  \\\n",
       "0  2015-01-01 00:00:00  2.2 -3.7 -2.1  1.6  0.6 NaN  3.9  -9.6  1.1  ...   \n",
       "1  2015-01-01 01:00:00  2.5 -3.8 -1.7  1.9  0.5 NaN  3.3  -8.8  1.3  ...   \n",
       "2  2015-01-01 02:00:00  2.3 -4.4 -1.8  1.6  0.3 NaN  3.7 -12.5  1.2  ...   \n",
       "3  2015-01-01 03:00:00  2.3 -3.2 -2.0  1.5  0.4 NaN  3.8 -11.0  1.4  ...   \n",
       "4  2015-01-01 04:00:00  1.9 -3.4 -1.7  1.5  0.4 NaN  3.8 -10.6  1.5  ...   \n",
       "\n",
       "   13711  13713  13777  13965  15000  15207  15444  15555  19171  19172  \n",
       "0    1.9    1.1    4.2   -2.9    1.2    0.1   -2.2    NaN    NaN    NaN  \n",
       "1    1.7    0.9    3.7   -5.2    1.0   -0.8   -1.8    NaN    NaN    NaN  \n",
       "2    1.6    1.0    3.1   -5.3    1.1   -1.4   -2.3    NaN    NaN    NaN  \n",
       "3    1.5    0.9    1.8   -4.0    0.5   -1.7   -3.5    NaN    NaN    NaN  \n",
       "4    1.2    0.9    2.2   -3.6    0.9   -1.5   -1.6    NaN    NaN    NaN  \n",
       "\n",
       "[5 rows x 516 columns]"
      ]
     },
     "execution_count": 14,
     "metadata": {},
     "output_type": "execute_result"
    }
   ],
   "source": [
    "hourly_airp_df.head()"
   ]
  },
  {
   "cell_type": "code",
   "execution_count": 15,
   "id": "6cf1da79",
   "metadata": {},
   "outputs": [
    {
     "data": {
      "text/plain": [
       "Date      object\n",
       "90       float64\n",
       "125      float64\n",
       "161      float64\n",
       "164      float64\n",
       "          ...   \n",
       "15200    float64\n",
       "15207    float64\n",
       "15214    float64\n",
       "15444    float64\n",
       "1001     float64\n",
       "Length: 261, dtype: object"
      ]
     },
     "execution_count": 15,
     "metadata": {},
     "output_type": "execute_result"
    }
   ],
   "source": [
    "hourly_windspeed_df.dtypes"
   ]
  },
  {
   "cell_type": "code",
   "execution_count": 16,
   "id": "8f49d19c",
   "metadata": {},
   "outputs": [
    {
     "data": {
      "text/plain": [
       "Date      object\n",
       "44       float64\n",
       "71       float64\n",
       "73       float64\n",
       "78       float64\n",
       "          ...   \n",
       "15207    float64\n",
       "15444    float64\n",
       "15555    float64\n",
       "19171    float64\n",
       "19172    float64\n",
       "Length: 516, dtype: object"
      ]
     },
     "execution_count": 16,
     "metadata": {},
     "output_type": "execute_result"
    }
   ],
   "source": [
    "hourly_airp_df.dtypes"
   ]
  },
  {
   "cell_type": "code",
   "execution_count": 17,
   "id": "f1d0b583",
   "metadata": {},
   "outputs": [],
   "source": [
    "hourly_windspeed_df['Date'] = pd.to_datetime(hourly_windspeed_df['Date'])"
   ]
  },
  {
   "cell_type": "code",
   "execution_count": 18,
   "id": "f8439c8c",
   "metadata": {},
   "outputs": [],
   "source": [
    "hourly_airp_df['Date'] = pd.to_datetime(hourly_airp_df['Date'])"
   ]
  },
  {
   "cell_type": "code",
   "execution_count": 19,
   "id": "515bbe30",
   "metadata": {},
   "outputs": [],
   "source": [
    "hourly_windspeed_df.set_index('Date',inplace=True)"
   ]
  },
  {
   "cell_type": "code",
   "execution_count": 20,
   "id": "ce96f809",
   "metadata": {},
   "outputs": [],
   "source": [
    "hourly_airp_df.set_index('Date',inplace=True)"
   ]
  },
  {
   "cell_type": "markdown",
   "id": "f575b9c4",
   "metadata": {},
   "source": [
    "# Exploring data"
   ]
  },
  {
   "cell_type": "code",
   "execution_count": 21,
   "id": "81c87b31",
   "metadata": {},
   "outputs": [
    {
     "name": "stdout",
     "output_type": "stream",
     "text": [
      "<class 'pandas.core.frame.DataFrame'>\n",
      "DatetimeIndex: 210528 entries, 2015-01-01 00:00:00 to 2021-01-01 23:00:00\n",
      "Data columns (total 4 columns):\n",
      " #   Column              Non-Null Count   Dtype  \n",
      "---  ------              --------------   -----  \n",
      " 0   Wind offshore[MWh]  210528 non-null  float64\n",
      " 1   Wind onshore[MWh]   210528 non-null  float64\n",
      " 2   Photovoltaics[MWh]  210528 non-null  float64\n",
      " 3   region              210528 non-null  object \n",
      "dtypes: float64(3), object(1)\n",
      "memory usage: 8.0+ MB\n"
     ]
    }
   ],
   "source": [
    "hourly_df.info()"
   ]
  },
  {
   "cell_type": "code",
   "execution_count": 22,
   "id": "95a6cd46",
   "metadata": {},
   "outputs": [
    {
     "data": {
      "text/html": [
       "<div>\n",
       "<style scoped>\n",
       "    .dataframe tbody tr th:only-of-type {\n",
       "        vertical-align: middle;\n",
       "    }\n",
       "\n",
       "    .dataframe tbody tr th {\n",
       "        vertical-align: top;\n",
       "    }\n",
       "\n",
       "    .dataframe thead th {\n",
       "        text-align: right;\n",
       "    }\n",
       "</style>\n",
       "<table border=\"1\" class=\"dataframe\">\n",
       "  <thead>\n",
       "    <tr style=\"text-align: right;\">\n",
       "      <th></th>\n",
       "      <th>Wind offshore[MWh]</th>\n",
       "      <th>Wind onshore[MWh]</th>\n",
       "      <th>Photovoltaics[MWh]</th>\n",
       "    </tr>\n",
       "  </thead>\n",
       "  <tbody>\n",
       "    <tr>\n",
       "      <th>count</th>\n",
       "      <td>210528.000000</td>\n",
       "      <td>210528.000000</td>\n",
       "      <td>210528.000000</td>\n",
       "    </tr>\n",
       "    <tr>\n",
       "      <th>mean</th>\n",
       "      <td>511.995312</td>\n",
       "      <td>2435.146745</td>\n",
       "      <td>1113.356722</td>\n",
       "    </tr>\n",
       "    <tr>\n",
       "      <th>std</th>\n",
       "      <td>1047.092125</td>\n",
       "      <td>2897.781013</td>\n",
       "      <td>1866.234916</td>\n",
       "    </tr>\n",
       "    <tr>\n",
       "      <th>min</th>\n",
       "      <td>0.000000</td>\n",
       "      <td>0.000000</td>\n",
       "      <td>0.000000</td>\n",
       "    </tr>\n",
       "    <tr>\n",
       "      <th>25%</th>\n",
       "      <td>0.000000</td>\n",
       "      <td>331.000000</td>\n",
       "      <td>0.000000</td>\n",
       "    </tr>\n",
       "    <tr>\n",
       "      <th>50%</th>\n",
       "      <td>0.000000</td>\n",
       "      <td>1256.000000</td>\n",
       "      <td>27.000000</td>\n",
       "    </tr>\n",
       "    <tr>\n",
       "      <th>75%</th>\n",
       "      <td>393.000000</td>\n",
       "      <td>3566.000000</td>\n",
       "      <td>1577.000000</td>\n",
       "    </tr>\n",
       "    <tr>\n",
       "      <th>max</th>\n",
       "      <td>10519.000000</td>\n",
       "      <td>29676.000000</td>\n",
       "      <td>12301.000000</td>\n",
       "    </tr>\n",
       "  </tbody>\n",
       "</table>\n",
       "</div>"
      ],
      "text/plain": [
       "       Wind offshore[MWh]  Wind onshore[MWh]  Photovoltaics[MWh]\n",
       "count       210528.000000      210528.000000       210528.000000\n",
       "mean           511.995312        2435.146745         1113.356722\n",
       "std           1047.092125        2897.781013         1866.234916\n",
       "min              0.000000           0.000000            0.000000\n",
       "25%              0.000000         331.000000            0.000000\n",
       "50%              0.000000        1256.000000           27.000000\n",
       "75%            393.000000        3566.000000         1577.000000\n",
       "max          10519.000000       29676.000000        12301.000000"
      ]
     },
     "execution_count": 22,
     "metadata": {},
     "output_type": "execute_result"
    }
   ],
   "source": [
    "hourly_df.describe()"
   ]
  },
  {
   "cell_type": "code",
   "execution_count": 23,
   "id": "436b27e0",
   "metadata": {},
   "outputs": [
    {
     "data": {
      "text/plain": [
       "Wind offshore[MWh]    0\n",
       "Wind onshore[MWh]     0\n",
       "Photovoltaics[MWh]    0\n",
       "region                0\n",
       "dtype: int64"
      ]
     },
     "execution_count": 23,
     "metadata": {},
     "output_type": "execute_result"
    }
   ],
   "source": [
    "hourly_df.isna().sum()"
   ]
  },
  {
   "cell_type": "code",
   "execution_count": 24,
   "id": "5f6e835b",
   "metadata": {},
   "outputs": [
    {
     "data": {
      "text/html": [
       "<div>\n",
       "<style scoped>\n",
       "    .dataframe tbody tr th:only-of-type {\n",
       "        vertical-align: middle;\n",
       "    }\n",
       "\n",
       "    .dataframe tbody tr th {\n",
       "        vertical-align: top;\n",
       "    }\n",
       "\n",
       "    .dataframe thead th {\n",
       "        text-align: right;\n",
       "    }\n",
       "</style>\n",
       "<table border=\"1\" class=\"dataframe\">\n",
       "  <thead>\n",
       "    <tr style=\"text-align: right;\">\n",
       "      <th></th>\n",
       "      <th>Wind offshore[MWh]</th>\n",
       "      <th>Wind onshore[MWh]</th>\n",
       "      <th>Photovoltaics[MWh]</th>\n",
       "    </tr>\n",
       "    <tr>\n",
       "      <th>Date</th>\n",
       "      <th></th>\n",
       "      <th></th>\n",
       "      <th></th>\n",
       "    </tr>\n",
       "  </thead>\n",
       "  <tbody>\n",
       "    <tr>\n",
       "      <th>2015-01-01 00:00:00</th>\n",
       "      <td>517.0</td>\n",
       "      <td>8129.0</td>\n",
       "      <td>0.0</td>\n",
       "    </tr>\n",
       "    <tr>\n",
       "      <th>2015-01-01 01:00:00</th>\n",
       "      <td>516.0</td>\n",
       "      <td>8300.0</td>\n",
       "      <td>0.0</td>\n",
       "    </tr>\n",
       "    <tr>\n",
       "      <th>2015-01-01 02:00:00</th>\n",
       "      <td>514.0</td>\n",
       "      <td>8544.0</td>\n",
       "      <td>0.0</td>\n",
       "    </tr>\n",
       "    <tr>\n",
       "      <th>2015-01-01 03:00:00</th>\n",
       "      <td>519.0</td>\n",
       "      <td>8552.0</td>\n",
       "      <td>0.0</td>\n",
       "    </tr>\n",
       "    <tr>\n",
       "      <th>2015-01-01 04:00:00</th>\n",
       "      <td>522.0</td>\n",
       "      <td>8646.0</td>\n",
       "      <td>0.0</td>\n",
       "    </tr>\n",
       "  </tbody>\n",
       "</table>\n",
       "</div>"
      ],
      "text/plain": [
       "                     Wind offshore[MWh]  Wind onshore[MWh]  Photovoltaics[MWh]\n",
       "Date                                                                          \n",
       "2015-01-01 00:00:00               517.0             8129.0                 0.0\n",
       "2015-01-01 01:00:00               516.0             8300.0                 0.0\n",
       "2015-01-01 02:00:00               514.0             8544.0                 0.0\n",
       "2015-01-01 03:00:00               519.0             8552.0                 0.0\n",
       "2015-01-01 04:00:00               522.0             8646.0                 0.0"
      ]
     },
     "execution_count": 24,
     "metadata": {},
     "output_type": "execute_result"
    }
   ],
   "source": [
    "hourly_de_df = hourly_df.groupby(hourly_df.index).sum()\n",
    "hourly_de_df.head()"
   ]
  },
  {
   "cell_type": "code",
   "execution_count": 25,
   "id": "e8f9434d",
   "metadata": {},
   "outputs": [
    {
     "data": {
      "text/html": [
       "<div>\n",
       "<style scoped>\n",
       "    .dataframe tbody tr th:only-of-type {\n",
       "        vertical-align: middle;\n",
       "    }\n",
       "\n",
       "    .dataframe tbody tr th {\n",
       "        vertical-align: top;\n",
       "    }\n",
       "\n",
       "    .dataframe thead th {\n",
       "        text-align: right;\n",
       "    }\n",
       "</style>\n",
       "<table border=\"1\" class=\"dataframe\">\n",
       "  <thead>\n",
       "    <tr style=\"text-align: right;\">\n",
       "      <th></th>\n",
       "      <th>Wind[MWh]</th>\n",
       "    </tr>\n",
       "  </thead>\n",
       "  <tbody>\n",
       "    <tr>\n",
       "      <th>count</th>\n",
       "      <td>52632.000000</td>\n",
       "    </tr>\n",
       "    <tr>\n",
       "      <th>mean</th>\n",
       "      <td>11788.568228</td>\n",
       "    </tr>\n",
       "    <tr>\n",
       "      <th>std</th>\n",
       "      <td>9232.743682</td>\n",
       "    </tr>\n",
       "    <tr>\n",
       "      <th>min</th>\n",
       "      <td>0.000000</td>\n",
       "    </tr>\n",
       "    <tr>\n",
       "      <th>25%</th>\n",
       "      <td>4591.750000</td>\n",
       "    </tr>\n",
       "    <tr>\n",
       "      <th>50%</th>\n",
       "      <td>9229.000000</td>\n",
       "    </tr>\n",
       "    <tr>\n",
       "      <th>75%</th>\n",
       "      <td>16630.250000</td>\n",
       "    </tr>\n",
       "    <tr>\n",
       "      <th>max</th>\n",
       "      <td>77102.000000</td>\n",
       "    </tr>\n",
       "  </tbody>\n",
       "</table>\n",
       "</div>"
      ],
      "text/plain": [
       "          Wind[MWh]\n",
       "count  52632.000000\n",
       "mean   11788.568228\n",
       "std     9232.743682\n",
       "min        0.000000\n",
       "25%     4591.750000\n",
       "50%     9229.000000\n",
       "75%    16630.250000\n",
       "max    77102.000000"
      ]
     },
     "execution_count": 25,
     "metadata": {},
     "output_type": "execute_result"
    }
   ],
   "source": [
    "hourly_wind_de_df.describe()"
   ]
  },
  {
   "cell_type": "markdown",
   "id": "1e667d31",
   "metadata": {},
   "source": [
    "## Plotting datasets"
   ]
  },
  {
   "cell_type": "code",
   "execution_count": 26,
   "id": "ac447a32",
   "metadata": {},
   "outputs": [
    {
     "data": {
      "text/plain": [
       "(array([2.618e+03, 5.136e+03, 5.533e+03, 4.910e+03, 4.347e+03, 3.831e+03,\n",
       "        3.473e+03, 3.022e+03, 2.660e+03, 2.371e+03, 1.979e+03, 1.785e+03,\n",
       "        1.529e+03, 1.282e+03, 1.210e+03, 1.059e+03, 9.680e+02, 8.780e+02,\n",
       "        7.420e+02, 6.850e+02, 5.440e+02, 4.580e+02, 3.900e+02, 3.370e+02,\n",
       "        3.110e+02, 1.980e+02, 1.870e+02, 1.000e+02, 5.300e+01, 9.000e+00,\n",
       "        1.000e+00, 0.000e+00, 2.000e+00, 0.000e+00, 1.000e+00, 1.000e+00,\n",
       "        1.000e+00, 0.000e+00, 2.000e+00, 0.000e+00, 1.000e+00, 3.000e+00,\n",
       "        1.000e+00, 1.000e+00, 0.000e+00, 0.000e+00, 2.000e+00, 5.000e+00,\n",
       "        1.000e+00, 5.000e+00]),\n",
       " array([    0.  ,  1542.04,  3084.08,  4626.12,  6168.16,  7710.2 ,\n",
       "         9252.24, 10794.28, 12336.32, 13878.36, 15420.4 , 16962.44,\n",
       "        18504.48, 20046.52, 21588.56, 23130.6 , 24672.64, 26214.68,\n",
       "        27756.72, 29298.76, 30840.8 , 32382.84, 33924.88, 35466.92,\n",
       "        37008.96, 38551.  , 40093.04, 41635.08, 43177.12, 44719.16,\n",
       "        46261.2 , 47803.24, 49345.28, 50887.32, 52429.36, 53971.4 ,\n",
       "        55513.44, 57055.48, 58597.52, 60139.56, 61681.6 , 63223.64,\n",
       "        64765.68, 66307.72, 67849.76, 69391.8 , 70933.84, 72475.88,\n",
       "        74017.92, 75559.96, 77102.  ]),\n",
       " <BarContainer object of 50 artists>)"
      ]
     },
     "execution_count": 26,
     "metadata": {},
     "output_type": "execute_result"
    },
    {
     "data": {
      "image/png": "[encoded data removed]",
      "text/plain": [
       "<Figure size 432x288 with 1 Axes>"
      ]
     },
     "metadata": {
      "needs_background": "light"
     },
     "output_type": "display_data"
    }
   ],
   "source": [
    "plt.hist(hourly_wind_de_df, bins = 50)"
   ]
  },
  {
   "cell_type": "code",
   "execution_count": 27,
   "id": "b04d8cff",
   "metadata": {},
   "outputs": [
    {
     "data": {
      "text/plain": [
       "[<matplotlib.lines.Line2D at 0x14826a400>]"
      ]
     },
     "execution_count": 27,
     "metadata": {},
     "output_type": "execute_result"
    },
    {
     "data": {
      "image/png": "[encoded data removed]",
      "text/plain": [
       "<Figure size 432x288 with 1 Axes>"
      ]
     },
     "metadata": {
      "needs_background": "light"
     },
     "output_type": "display_data"
    }
   ],
   "source": [
    "plt.plot(hourly_wind_de_df)"
   ]
  },
  {
   "cell_type": "code",
   "execution_count": 28,
   "id": "236212ed",
   "metadata": {},
   "outputs": [
    {
     "data": {
      "text/plain": [
       "[<matplotlib.lines.Line2D at 0x14836b130>]"
      ]
     },
     "execution_count": 28,
     "metadata": {},
     "output_type": "execute_result"
    },
    {
     "data": {
      "image/png": "[encoded data removed]",
      "text/plain": [
       "<Figure size 864x576 with 1 Axes>"
      ]
     },
     "metadata": {
      "needs_background": "light"
     },
     "output_type": "display_data"
    }
   ],
   "source": [
    "fig, ax = plt.subplots(1,1,figsize=(12,8))\n",
    "ax.plot(np.log(hourly_wind_de_df.loc[:dt.date(2016,3,1)]))"
   ]
  },
  {
   "cell_type": "code",
   "execution_count": 29,
   "id": "22ba72a4",
   "metadata": {},
   "outputs": [
    {
     "data": {
      "text/plain": [
       "{'whiskers': [<matplotlib.lines.Line2D at 0x1486ff250>,\n",
       "  <matplotlib.lines.Line2D at 0x1486ff520>],\n",
       " 'caps': [<matplotlib.lines.Line2D at 0x1486ff8b0>,\n",
       "  <matplotlib.lines.Line2D at 0x1486ffc40>],\n",
       " 'boxes': [<matplotlib.lines.Line2D at 0x1486eddc0>],\n",
       " 'medians': [<matplotlib.lines.Line2D at 0x1486fffd0>],\n",
       " 'fliers': [<matplotlib.lines.Line2D at 0x1487083a0>],\n",
       " 'means': []}"
      ]
     },
     "execution_count": 29,
     "metadata": {},
     "output_type": "execute_result"
    },
    {
     "data": {
      "image/png": "[encoded data removed]",
      "text/plain": [
       "<Figure size 432x288 with 1 Axes>"
      ]
     },
     "metadata": {
      "needs_background": "light"
     },
     "output_type": "display_data"
    }
   ],
   "source": [
    "plt.boxplot(hourly_wind_de_df)"
   ]
  },
  {
   "cell_type": "markdown",
   "id": "1dd14d3e",
   "metadata": {},
   "source": [
    "## Check for stationarity"
   ]
  },
  {
   "cell_type": "code",
   "execution_count": 30,
   "id": "d26adb57",
   "metadata": {},
   "outputs": [],
   "source": [
    "from statsmodels.tsa.seasonal import seasonal_decompose"
   ]
  },
  {
   "cell_type": "code",
   "execution_count": 31,
   "id": "52f9999b",
   "metadata": {},
   "outputs": [
    {
     "data": {
      "image/png": "[encoded data removed]",
      "text/plain": [
       "<Figure size 432x288 with 4 Axes>"
      ]
     },
     "metadata": {
      "needs_background": "light"
     },
     "output_type": "display_data"
    }
   ],
   "source": [
    "result_add = seasonal_decompose(hourly_wind_de_df['Wind[MWh]'], model='additive')\n",
    "result_add.plot();"
   ]
  },
  {
   "cell_type": "code",
   "execution_count": 32,
   "id": "9c7dc804",
   "metadata": {},
   "outputs": [
    {
     "data": {
      "text/plain": [
       "3.966579862447787e-29"
      ]
     },
     "execution_count": 32,
     "metadata": {},
     "output_type": "execute_result"
    }
   ],
   "source": [
    "from statsmodels.tsa.stattools import adfuller\n",
    "\n",
    "adfuller(hourly_wind_de_df['Wind[MWh]'])[1]"
   ]
  },
  {
   "cell_type": "code",
   "execution_count": 33,
   "id": "d033ac89",
   "metadata": {},
   "outputs": [
    {
     "name": "stdout",
     "output_type": "stream",
     "text": [
      "additive resid:  0.0\n"
     ]
    }
   ],
   "source": [
    "print('additive resid: ', adfuller(result_add.resid.dropna())[1])"
   ]
  },
  {
   "cell_type": "code",
   "execution_count": 99,
   "id": "dc7fed16",
   "metadata": {},
   "outputs": [
    {
     "data": {
      "image/png": "[encoded data removed]",
      "text/plain": [
       "<Figure size 432x288 with 1 Axes>"
      ]
     },
     "metadata": {
      "needs_background": "light"
     },
     "output_type": "display_data"
    }
   ],
   "source": [
    "from statsmodels.graphics.tsaplots import plot_acf\n",
    "plot_acf(hourly_wind_de_df['Wind[MWh]'], lags=50)\n",
    "plt.show()"
   ]
  },
  {
   "cell_type": "code",
   "execution_count": 100,
   "id": "fdb966df",
   "metadata": {},
   "outputs": [],
   "source": [
    "y = hourly_wind_de_df['Wind[MWh]']"
   ]
  },
  {
   "cell_type": "code",
   "execution_count": 101,
   "id": "132e99a2",
   "metadata": {},
   "outputs": [
    {
     "data": {
      "image/png": "[encoded data removed]",
      "text/plain": [
       "<Figure size 432x288 with 1 Axes>"
      ]
     },
     "metadata": {
      "needs_background": "light"
     },
     "output_type": "display_data"
    }
   ],
   "source": [
    "plot_acf(y.diff(1).dropna(), lags=120);"
   ]
  },
  {
   "cell_type": "code",
   "execution_count": 102,
   "id": "00331a4e",
   "metadata": {},
   "outputs": [
    {
     "data": {
      "image/png": "[encoded data removed]",
      "text/plain": [
       "<Figure size 432x288 with 1 Axes>"
      ]
     },
     "metadata": {
      "needs_background": "light"
     },
     "output_type": "display_data"
    }
   ],
   "source": [
    "import statsmodels as sm\n",
    "from statsmodels.graphics.tsaplots import plot_pacf\n",
    "plot_pacf(hourly_wind_de_df['Wind[MWh]'], lags=50, c='r')\n",
    "plt.show()"
   ]
  },
  {
   "cell_type": "code",
   "execution_count": 103,
   "id": "b0dcc540",
   "metadata": {},
   "outputs": [
    {
     "data": {
      "image/png": "[encoded data removed]",
      "text/plain": [
       "<Figure size 1152x216 with 2 Axes>"
      ]
     },
     "metadata": {
      "needs_background": "light"
     },
     "output_type": "display_data"
    }
   ],
   "source": [
    "from statsmodels.graphics.tsaplots import plot_pacf\n",
    "fig, axes = plt.subplots(1,2, figsize=(16,3))\n",
    "plot_acf(hourly_wind_de_df['Wind[MWh]'], lags=50, ax=axes[0]);\n",
    "plot_pacf(hourly_wind_de_df['Wind[MWh]'], lags=50, ax=axes[1], color='r');"
   ]
  },
  {
   "cell_type": "code",
   "execution_count": 104,
   "id": "e902140d",
   "metadata": {},
   "outputs": [
    {
     "data": {
      "image/png": "[encoded data removed]",
      "text/plain": [
       "<Figure size 1440x288 with 3 Axes>"
      ]
     },
     "metadata": {
      "needs_background": "light"
     },
     "output_type": "display_data"
    }
   ],
   "source": [
    "zero_diff = y\n",
    "first_order_diff = y.diff(1)\n",
    "second_order_diff = y.diff(1).diff(1)\n",
    "\n",
    "\n",
    "fig, (ax1, ax2, ax3) = plt.subplots(1, 3, figsize=(20,4))\n",
    "ax1.plot(zero_diff); ax1.set_title('Original Series')\n",
    "ax2.plot(first_order_diff); ax2.set_title('1st Order Differencing')\n",
    "ax3.plot(second_order_diff); ax3.set_title('2nd Order Differencing');"
   ]
  },
  {
   "cell_type": "markdown",
   "id": "010191a9",
   "metadata": {},
   "source": [
    "## Building train/ test split"
   ]
  },
  {
   "cell_type": "code",
   "execution_count": 105,
   "id": "30baad21",
   "metadata": {},
   "outputs": [
    {
     "data": {
      "text/plain": [
       "(8761, 1)"
      ]
     },
     "execution_count": 105,
     "metadata": {},
     "output_type": "execute_result"
    }
   ],
   "source": [
    "y_train = pd.DataFrame(y.loc[:dt.date(2016,1,1)])\n",
    "y_test = pd.DataFrame(y.loc[dt.date(2016,1,1):dt.date(2016,3,1)])\n",
    "\n",
    "y_train.shape"
   ]
  },
  {
   "cell_type": "code",
   "execution_count": 106,
   "id": "e465b09a",
   "metadata": {},
   "outputs": [
    {
     "data": {
      "text/plain": [
       "(1441, 1)"
      ]
     },
     "execution_count": 106,
     "metadata": {},
     "output_type": "execute_result"
    }
   ],
   "source": [
    "y_test.shape"
   ]
  },
  {
   "cell_type": "markdown",
   "id": "c224c992",
   "metadata": {},
   "source": [
    "# Time series models"
   ]
  },
  {
   "cell_type": "markdown",
   "id": "e0cdf4ec",
   "metadata": {},
   "source": [
    "## Basic ARIMA model"
   ]
  },
  {
   "cell_type": "markdown",
   "id": "d9f5b074",
   "metadata": {},
   "source": [
    "### Train and fit basic ARIMA model"
   ]
  },
  {
   "cell_type": "code",
   "execution_count": 107,
   "id": "d74b1c7d",
   "metadata": {},
   "outputs": [
    {
     "name": "stdout",
     "output_type": "stream",
     "text": [
      "Performing stepwise search to minimize aic\n",
      " ARIMA(1,1,1)(0,0,0)[0] intercept   : AIC=138144.609, Time=0.57 sec\n",
      " ARIMA(0,1,0)(0,0,0)[0] intercept   : AIC=141656.921, Time=0.10 sec\n",
      " ARIMA(1,1,0)(0,0,0)[0] intercept   : AIC=138245.059, Time=0.27 sec\n",
      " ARIMA(0,1,1)(0,0,0)[0] intercept   : AIC=139447.604, Time=1.14 sec\n",
      " ARIMA(0,1,0)(0,0,0)[0]             : AIC=141654.921, Time=0.07 sec\n",
      " ARIMA(2,1,1)(0,0,0)[0] intercept   : AIC=138074.809, Time=1.26 sec\n",
      " ARIMA(2,1,0)(0,0,0)[0] intercept   : AIC=138111.030, Time=0.52 sec\n",
      " ARIMA(2,1,2)(0,0,0)[0] intercept   : AIC=138055.897, Time=1.55 sec\n",
      " ARIMA(1,1,2)(0,0,0)[0] intercept   : AIC=138053.926, Time=0.55 sec\n",
      " ARIMA(0,1,2)(0,0,0)[0] intercept   : AIC=138409.231, Time=0.54 sec\n",
      " ARIMA(1,1,2)(0,0,0)[0]             : AIC=138051.926, Time=0.30 sec\n",
      " ARIMA(0,1,2)(0,0,0)[0]             : AIC=138407.231, Time=0.27 sec\n",
      " ARIMA(1,1,1)(0,0,0)[0]             : AIC=138142.608, Time=0.26 sec\n",
      " ARIMA(2,1,2)(0,0,0)[0]             : AIC=138053.897, Time=0.69 sec\n",
      " ARIMA(0,1,1)(0,0,0)[0]             : AIC=139445.604, Time=0.44 sec\n",
      " ARIMA(2,1,1)(0,0,0)[0]             : AIC=138072.809, Time=0.55 sec\n",
      "\n",
      "Best model:  ARIMA(1,1,2)(0,0,0)[0]          \n",
      "Total fit time: 9.108 seconds\n"
     ]
    }
   ],
   "source": [
    "import pmdarima as pm\n",
    "\n",
    "smodel = pm.auto_arima(y_train,\n",
    "                       start_p=1, max_p=2,\n",
    "                       start_q=1, max_q=2,\n",
    "                       seasonal=False,\n",
    "                       trace=True)"
   ]
  },
  {
   "cell_type": "code",
   "execution_count": 85,
   "id": "f3adbc3c",
   "metadata": {},
   "outputs": [
    {
     "name": "stderr",
     "output_type": "stream",
     "text": [
      "/Users/michael.kuntz/.pyenv/versions/lewagon/envs/predict_energy_generation/lib/python3.8/site-packages/statsmodels/tsa/arima_model.py:472: FutureWarning: \n",
      "statsmodels.tsa.arima_model.ARMA and statsmodels.tsa.arima_model.ARIMA have\n",
      "been deprecated in favor of statsmodels.tsa.arima.model.ARIMA (note the .\n",
      "between arima and model) and\n",
      "statsmodels.tsa.SARIMAX. These will be removed after the 0.12 release.\n",
      "\n",
      "statsmodels.tsa.arima.model.ARIMA makes use of the statespace framework and\n",
      "is both well tested and maintained.\n",
      "\n",
      "To silence this warning and continue using ARMA and ARIMA until they are\n",
      "removed, use:\n",
      "\n",
      "import warnings\n",
      "warnings.filterwarnings('ignore', 'statsmodels.tsa.arima_model.ARMA',\n",
      "                        FutureWarning)\n",
      "warnings.filterwarnings('ignore', 'statsmodels.tsa.arima_model.ARIMA',\n",
      "                        FutureWarning)\n",
      "\n",
      "  warnings.warn(ARIMA_DEPRECATION_WARN, FutureWarning)\n",
      "/Users/michael.kuntz/.pyenv/versions/lewagon/envs/predict_energy_generation/lib/python3.8/site-packages/statsmodels/tsa/base/tsa_model.py:524: ValueWarning: No frequency information was provided, so inferred frequency H will be used.\n",
      "  warnings.warn('No frequency information was'\n",
      "/Users/michael.kuntz/.pyenv/versions/lewagon/envs/predict_energy_generation/lib/python3.8/site-packages/statsmodels/tsa/base/tsa_model.py:524: ValueWarning: No frequency information was provided, so inferred frequency H will be used.\n",
      "  warnings.warn('No frequency information was'\n"
     ]
    },
    {
     "data": {
      "text/html": [
       "<table class=\"simpletable\">\n",
       "<caption>ARIMA Model Results</caption>\n",
       "<tr>\n",
       "  <th>Dep. Variable:</th>    <td>D.Wind[MWh]</td>   <th>  No. Observations:  </th>    <td>8760</td>   \n",
       "</tr>\n",
       "<tr>\n",
       "  <th>Model:</th>          <td>ARIMA(2, 1, 0)</td>  <th>  Log Likelihood     </th> <td>-73496.492</td>\n",
       "</tr>\n",
       "<tr>\n",
       "  <th>Method:</th>             <td>css-mle</td>     <th>  S.D. of innovations</th>  <td>1065.345</td> \n",
       "</tr>\n",
       "<tr>\n",
       "  <th>Date:</th>          <td>Thu, 27 May 2021</td> <th>  AIC                </th> <td>147000.984</td>\n",
       "</tr>\n",
       "<tr>\n",
       "  <th>Time:</th>              <td>22:54:44</td>     <th>  BIC                </th> <td>147029.296</td>\n",
       "</tr>\n",
       "<tr>\n",
       "  <th>Sample:</th>           <td>01-01-2019</td>    <th>  HQIC               </th> <td>147010.631</td>\n",
       "</tr>\n",
       "<tr>\n",
       "  <th></th>                 <td>- 01-01-2020</td>   <th>                     </th>      <td> </td>    \n",
       "</tr>\n",
       "</table>\n",
       "<table class=\"simpletable\">\n",
       "<tr>\n",
       "          <td></td>             <th>coef</th>     <th>std err</th>      <th>z</th>      <th>P>|z|</th>  <th>[0.025</th>    <th>0.975]</th>  \n",
       "</tr>\n",
       "<tr>\n",
       "  <th>const</th>             <td>   -4.5312</td> <td>   26.082</td> <td>   -0.174</td> <td> 0.862</td> <td>  -55.651</td> <td>   46.588</td>\n",
       "</tr>\n",
       "<tr>\n",
       "  <th>ar.L1.D.Wind[MWh]</th> <td>    0.4074</td> <td>    0.011</td> <td>   38.589</td> <td> 0.000</td> <td>    0.387</td> <td>    0.428</td>\n",
       "</tr>\n",
       "<tr>\n",
       "  <th>ar.L2.D.Wind[MWh]</th> <td>    0.1562</td> <td>    0.011</td> <td>   14.799</td> <td> 0.000</td> <td>    0.136</td> <td>    0.177</td>\n",
       "</tr>\n",
       "</table>\n",
       "<table class=\"simpletable\">\n",
       "<caption>Roots</caption>\n",
       "<tr>\n",
       "    <td></td>   <th>            Real</th>  <th>         Imaginary</th> <th>         Modulus</th>  <th>        Frequency</th>\n",
       "</tr>\n",
       "<tr>\n",
       "  <th>AR.1</th> <td>           1.5423</td> <td>          +0.0000j</td> <td>           1.5423</td> <td>           0.0000</td>\n",
       "</tr>\n",
       "<tr>\n",
       "  <th>AR.2</th> <td>          -4.1498</td> <td>          +0.0000j</td> <td>           4.1498</td> <td>           0.5000</td>\n",
       "</tr>\n",
       "</table>"
      ],
      "text/plain": [
       "<class 'statsmodels.iolib.summary.Summary'>\n",
       "\"\"\"\n",
       "                             ARIMA Model Results                              \n",
       "==============================================================================\n",
       "Dep. Variable:            D.Wind[MWh]   No. Observations:                 8760\n",
       "Model:                 ARIMA(2, 1, 0)   Log Likelihood              -73496.492\n",
       "Method:                       css-mle   S.D. of innovations           1065.345\n",
       "Date:                Thu, 27 May 2021   AIC                         147000.984\n",
       "Time:                        22:54:44   BIC                         147029.296\n",
       "Sample:                    01-01-2019   HQIC                        147010.631\n",
       "                         - 01-01-2020                                         \n",
       "=====================================================================================\n",
       "                        coef    std err          z      P>|z|      [0.025      0.975]\n",
       "-------------------------------------------------------------------------------------\n",
       "const                -4.5312     26.082     -0.174      0.862     -55.651      46.588\n",
       "ar.L1.D.Wind[MWh]     0.4074      0.011     38.589      0.000       0.387       0.428\n",
       "ar.L2.D.Wind[MWh]     0.1562      0.011     14.799      0.000       0.136       0.177\n",
       "                                    Roots                                    \n",
       "=============================================================================\n",
       "                  Real          Imaginary           Modulus         Frequency\n",
       "-----------------------------------------------------------------------------\n",
       "AR.1            1.5423           +0.0000j            1.5423            0.0000\n",
       "AR.2           -4.1498           +0.0000j            4.1498            0.5000\n",
       "-----------------------------------------------------------------------------\n",
       "\"\"\""
      ]
     },
     "execution_count": 85,
     "metadata": {},
     "output_type": "execute_result"
    }
   ],
   "source": [
    "from statsmodels.tsa.arima_model import ARIMA\n",
    "\n",
    "arima_1 = ARIMA(y_train, order=(2,1,0)).fit()\n",
    "arima_1.summary()"
   ]
  },
  {
   "cell_type": "markdown",
   "id": "5e759ef6",
   "metadata": {},
   "source": [
    "### Plot forecast of basic ARIMA model"
   ]
  },
  {
   "cell_type": "code",
   "execution_count": 92,
   "id": "807953b5",
   "metadata": {},
   "outputs": [],
   "source": [
    "def plot_forecast(fc, train, test, upper=None, lower=None):\n",
    "    is_confidence_int = isinstance(upper, np.ndarray) and isinstance(lower, np.ndarray)\n",
    "    # Prepare plot series\n",
    "    fc_series = pd.Series(fc, index=test.index)\n",
    "    lower_series = pd.Series(upper, index=test.index) if is_confidence_int else None\n",
    "    upper_series = pd.Series(lower, index=test.index) if is_confidence_int else None\n",
    "\n",
    "    # Plot\n",
    "    plt.figure(figsize=(10,4), dpi=100)\n",
    "    plt.plot(train, label='training', color='black')\n",
    "    plt.plot(test, label='actual', color='black', ls='--')\n",
    "    plt.plot(fc_series, label='forecast', color='orange')\n",
    "    if is_confidence_int:\n",
    "        plt.fill_between(lower_series.index, lower_series, upper_series, color='k', alpha=.15)\n",
    "    plt.title('Forecast vs Actuals')\n",
    "    plt.legend(loc='upper left', fontsize=8);"
   ]
  },
  {
   "cell_type": "code",
   "execution_count": 108,
   "id": "c334c3a6",
   "metadata": {},
   "outputs": [],
   "source": [
    "forecast, std_err, confidence_int = arima_1.forecast(len(y_test), alpha=0.05)"
   ]
  },
  {
   "cell_type": "code",
   "execution_count": 109,
   "id": "a4084f80",
   "metadata": {},
   "outputs": [
    {
     "data": {
      "image/png": "[encoded data removed]",
      "text/plain": [
       "<Figure size 1000x400 with 1 Axes>"
      ]
     },
     "metadata": {
      "needs_background": "light"
     },
     "output_type": "display_data"
    }
   ],
   "source": [
    "plot_forecast(forecast, y_train, y_test)"
   ]
  },
  {
   "cell_type": "markdown",
   "id": "dbe259b4",
   "metadata": {},
   "source": [
    "### Define loss functions"
   ]
  },
  {
   "cell_type": "code",
   "execution_count": 95,
   "id": "380264a4",
   "metadata": {},
   "outputs": [],
   "source": [
    "def mae(y_true, y_pred):\n",
    "    y_true = np.array(y_true)\n",
    "    y_pred = np.array(y_pred)\n",
    "    return np.sum(np.abs(y_true-y_pred))/(len(y_true))\n",
    "\n",
    "def mse(y_true, y_pred):\n",
    "    y_true = np.array(y_true)\n",
    "    y_pred = np.array(y_pred)\n",
    "    return np.mean((y_true-y_pred)**2)\n",
    "\n",
    "def mean_absolute_percentage_error(y_true, y_pred):\n",
    "    y_true, y_pred = np.array(y_true), np.array(y_pred)\n",
    "    return np.mean(np.abs((y_true - y_pred) / y_true)) * 100"
   ]
  },
  {
   "cell_type": "code",
   "execution_count": 96,
   "id": "7ca401e0",
   "metadata": {},
   "outputs": [
    {
     "data": {
      "text/plain": [
       "1441"
      ]
     },
     "execution_count": 96,
     "metadata": {},
     "output_type": "execute_result"
    }
   ],
   "source": [
    "len(forecast)"
   ]
  },
  {
   "cell_type": "code",
   "execution_count": 97,
   "id": "ea224575",
   "metadata": {},
   "outputs": [
    {
     "data": {
      "text/plain": [
       "1441"
      ]
     },
     "execution_count": 97,
     "metadata": {},
     "output_type": "execute_result"
    }
   ],
   "source": [
    "len(y_test)"
   ]
  },
  {
   "cell_type": "code",
   "execution_count": 110,
   "id": "d014f88f",
   "metadata": {},
   "outputs": [
    {
     "data": {
      "text/plain": [
       "4067.604998530165"
      ]
     },
     "execution_count": 110,
     "metadata": {},
     "output_type": "execute_result"
    }
   ],
   "source": [
    "mean_absolute_percentage_error(forecast,y_test)"
   ]
  },
  {
   "cell_type": "markdown",
   "id": "06842364",
   "metadata": {},
   "source": [
    "## Advanced SARIMAX model (incl. exogenous variables)"
   ]
  },
  {
   "cell_type": "code",
   "execution_count": 54,
   "id": "d9ecad67",
   "metadata": {},
   "outputs": [],
   "source": [
    "from statsmodels.tsa.statespace.sarimax import SARIMAX"
   ]
  },
  {
   "cell_type": "code",
   "execution_count": 55,
   "id": "286f6b9f",
   "metadata": {},
   "outputs": [
    {
     "data": {
      "text/plain": [
       "Date\n",
       "2015-01-01 00:00:00    3.320000\n",
       "2015-01-01 01:00:00    3.306154\n",
       "2015-01-01 02:00:00    3.313077\n",
       "2015-01-01 03:00:00    3.280000\n",
       "2015-01-01 04:00:00    3.300769\n",
       "dtype: float64"
      ]
     },
     "execution_count": 55,
     "metadata": {},
     "output_type": "execute_result"
    }
   ],
   "source": [
    "hourly_windspeed_df = hourly_windspeed_df.mean(axis=1)\n",
    "hourly_windspeed_df.head()"
   ]
  },
  {
   "cell_type": "code",
   "execution_count": 56,
   "id": "3ffed7bf",
   "metadata": {},
   "outputs": [
    {
     "data": {
      "text/plain": [
       "Date\n",
       "2015-01-01 00:00:00    0.902414\n",
       "2015-01-01 01:00:00    0.757948\n",
       "2015-01-01 02:00:00    0.600604\n",
       "2015-01-01 03:00:00    0.488330\n",
       "2015-01-01 04:00:00    0.356942\n",
       "dtype: float64"
      ]
     },
     "execution_count": 56,
     "metadata": {},
     "output_type": "execute_result"
    }
   ],
   "source": [
    "hourly_airp_df = hourly_airp_df.mean(axis=1)\n",
    "hourly_airp_df.head()"
   ]
  },
  {
   "cell_type": "code",
   "execution_count": 57,
   "id": "22f05b55",
   "metadata": {},
   "outputs": [
    {
     "data": {
      "text/plain": [
       "(55488,)"
      ]
     },
     "execution_count": 57,
     "metadata": {},
     "output_type": "execute_result"
    }
   ],
   "source": [
    "hourly_windspeed_df.shape"
   ]
  },
  {
   "cell_type": "code",
   "execution_count": 58,
   "id": "44601101",
   "metadata": {},
   "outputs": [
    {
     "data": {
      "text/plain": [
       "(55488,)"
      ]
     },
     "execution_count": 58,
     "metadata": {},
     "output_type": "execute_result"
    }
   ],
   "source": [
    "hourly_airp_df.shape"
   ]
  },
  {
   "cell_type": "code",
   "execution_count": 113,
   "id": "e26f78fc",
   "metadata": {},
   "outputs": [
    {
     "data": {
      "text/plain": [
       "(1441, 1)"
      ]
     },
     "execution_count": 113,
     "metadata": {},
     "output_type": "execute_result"
    }
   ],
   "source": [
    "windspeed_train = pd.DataFrame(hourly_windspeed_df.loc[:dt.date(2016,1,1)])\n",
    "windspeed_test = pd.DataFrame(hourly_windspeed_df.loc[dt.date(2016,1,1):dt.date(2016,3,1)])\n",
    "\n",
    "windspeed_test.shape"
   ]
  },
  {
   "cell_type": "code",
   "execution_count": 115,
   "id": "b9c673c0",
   "metadata": {},
   "outputs": [
    {
     "data": {
      "text/plain": [
       "(1441, 1)"
      ]
     },
     "execution_count": 115,
     "metadata": {},
     "output_type": "execute_result"
    }
   ],
   "source": [
    "airp_train = pd.DataFrame(hourly_airp_df.loc[:dt.date(2016,1,1)])\n",
    "airp_test = pd.DataFrame(hourly_airp_df.loc[dt.date(2016,1,1):dt.date(2016,3,1)])\n",
    "\n",
    "airp_test.shape"
   ]
  },
  {
   "cell_type": "code",
   "execution_count": 116,
   "id": "3eefa74c",
   "metadata": {},
   "outputs": [
    {
     "name": "stdout",
     "output_type": "stream",
     "text": [
      "Performing stepwise search to minimize aic\n",
      " ARIMA(0,1,0)(1,0,1)[12] intercept   : AIC=inf, Time=10.74 sec\n",
      " ARIMA(0,1,0)(0,0,0)[12] intercept   : AIC=140192.519, Time=0.16 sec\n",
      " ARIMA(1,1,0)(1,0,0)[12] intercept   : AIC=137740.708, Time=2.20 sec\n",
      " ARIMA(0,1,1)(0,0,1)[12] intercept   : AIC=138492.560, Time=1.60 sec\n",
      " ARIMA(0,1,0)(0,0,0)[12]             : AIC=140190.529, Time=0.85 sec\n",
      " ARIMA(1,1,0)(0,0,0)[12] intercept   : AIC=137752.397, Time=0.28 sec\n",
      " ARIMA(1,1,0)(2,0,0)[12] intercept   : AIC=137528.312, Time=6.37 sec\n",
      " ARIMA(1,1,0)(2,0,1)[12] intercept   : AIC=inf, Time=29.57 sec\n",
      " ARIMA(1,1,0)(1,0,1)[12] intercept   : AIC=inf, Time=12.54 sec\n",
      " ARIMA(0,1,0)(2,0,0)[12] intercept   : AIC=139369.488, Time=21.61 sec\n",
      " ARIMA(2,1,0)(2,0,0)[12] intercept   : AIC=137348.888, Time=9.33 sec\n",
      " ARIMA(2,1,0)(1,0,0)[12] intercept   : AIC=137613.265, Time=2.79 sec\n",
      " ARIMA(2,1,0)(2,0,1)[12] intercept   : AIC=inf, Time=44.96 sec\n",
      " ARIMA(2,1,0)(1,0,1)[12] intercept   : AIC=inf, Time=16.49 sec\n",
      " ARIMA(2,1,1)(2,0,0)[12] intercept   : AIC=137341.400, Time=15.76 sec\n",
      " ARIMA(2,1,1)(1,0,0)[12] intercept   : AIC=137589.797, Time=5.49 sec\n",
      " ARIMA(2,1,1)(2,0,1)[12] intercept   : AIC=inf, Time=52.85 sec\n",
      " ARIMA(2,1,1)(1,0,1)[12] intercept   : AIC=inf, Time=17.28 sec\n",
      " ARIMA(1,1,1)(2,0,0)[12] intercept   : AIC=137386.857, Time=9.56 sec\n",
      " ARIMA(2,1,2)(2,0,0)[12] intercept   : AIC=137335.029, Time=21.90 sec\n",
      " ARIMA(2,1,2)(1,0,0)[12] intercept   : AIC=137574.755, Time=3.30 sec\n",
      " ARIMA(2,1,2)(2,0,1)[12] intercept   : AIC=inf, Time=55.13 sec\n",
      " ARIMA(2,1,2)(1,0,1)[12] intercept   : AIC=inf, Time=18.76 sec\n",
      " ARIMA(1,1,2)(2,0,0)[12] intercept   : AIC=137333.425, Time=13.71 sec\n",
      " ARIMA(1,1,2)(1,0,0)[12] intercept   : AIC=137573.088, Time=3.54 sec\n",
      " ARIMA(1,1,2)(2,0,1)[12] intercept   : AIC=inf, Time=41.90 sec\n",
      " ARIMA(1,1,2)(1,0,1)[12] intercept   : AIC=inf, Time=9.09 sec\n",
      " ARIMA(0,1,2)(2,0,0)[12] intercept   : AIC=137549.466, Time=7.52 sec\n",
      " ARIMA(1,1,3)(2,0,0)[12] intercept   : AIC=137335.319, Time=15.55 sec\n",
      " ARIMA(0,1,1)(2,0,0)[12] intercept   : AIC=138192.043, Time=16.48 sec\n",
      " ARIMA(0,1,3)(2,0,0)[12] intercept   : AIC=137390.088, Time=10.14 sec\n",
      " ARIMA(2,1,3)(2,0,0)[12] intercept   : AIC=137336.543, Time=19.95 sec\n",
      " ARIMA(1,1,2)(2,0,0)[12]             : AIC=137331.425, Time=10.27 sec\n",
      " ARIMA(1,1,2)(1,0,0)[12]             : AIC=137571.088, Time=3.40 sec\n",
      " ARIMA(1,1,2)(2,0,1)[12]             : AIC=inf, Time=36.77 sec\n",
      " ARIMA(1,1,2)(1,0,1)[12]             : AIC=inf, Time=8.33 sec\n",
      " ARIMA(0,1,2)(2,0,0)[12]             : AIC=137547.466, Time=5.61 sec\n",
      " ARIMA(1,1,1)(2,0,0)[12]             : AIC=137384.856, Time=7.54 sec\n",
      " ARIMA(2,1,2)(2,0,0)[12]             : AIC=137333.029, Time=20.12 sec\n",
      " ARIMA(1,1,3)(2,0,0)[12]             : AIC=137333.319, Time=13.79 sec\n",
      " ARIMA(0,1,1)(2,0,0)[12]             : AIC=138190.043, Time=10.79 sec\n",
      " ARIMA(0,1,3)(2,0,0)[12]             : AIC=137388.088, Time=7.69 sec\n",
      " ARIMA(2,1,1)(2,0,0)[12]             : AIC=137339.400, Time=13.10 sec\n",
      " ARIMA(2,1,3)(2,0,0)[12]             : AIC=137334.543, Time=16.10 sec\n",
      "\n",
      "Best model:  ARIMA(1,1,2)(2,0,0)[12]          \n",
      "Total fit time: 650.974 seconds\n"
     ]
    }
   ],
   "source": [
    "smodel_2 = pm.auto_arima(y_train, m=12, X=windspeed_train,\n",
    "                       start_p=0, max_p=2,\n",
    "                       start_q=0, max_q=5,\n",
    "                       max_P=2, max_D=1,max_Q=2,\n",
    "                       seasonal=True,\n",
    "                       trace=True)"
   ]
  },
  {
   "cell_type": "code",
   "execution_count": 117,
   "id": "80176bfd",
   "metadata": {},
   "outputs": [
    {
     "data": {
      "text/html": [
       "<table class=\"simpletable\">\n",
       "<caption>SARIMAX Results</caption>\n",
       "<tr>\n",
       "  <th>Dep. Variable:</th>                  <td>y</td>                <th>  No. Observations:  </th>    <td>8761</td>   \n",
       "</tr>\n",
       "<tr>\n",
       "  <th>Model:</th>           <td>SARIMAX(1, 1, 2)x(2, 0, [], 12)</td> <th>  Log Likelihood     </th> <td>-68658.713</td>\n",
       "</tr>\n",
       "<tr>\n",
       "  <th>Date:</th>                   <td>Thu, 27 May 2021</td>         <th>  AIC                </th> <td>137331.425</td>\n",
       "</tr>\n",
       "<tr>\n",
       "  <th>Time:</th>                       <td>23:15:25</td>             <th>  BIC                </th> <td>137380.971</td>\n",
       "</tr>\n",
       "<tr>\n",
       "  <th>Sample:</th>                    <td>01-01-2015</td>            <th>  HQIC               </th> <td>137348.307</td>\n",
       "</tr>\n",
       "<tr>\n",
       "  <th></th>                          <td>- 01-01-2016</td>           <th>                     </th>      <td> </td>    \n",
       "</tr>\n",
       "<tr>\n",
       "  <th>Covariance Type:</th>               <td>opg</td>               <th>                     </th>      <td> </td>    \n",
       "</tr>\n",
       "</table>\n",
       "<table class=\"simpletable\">\n",
       "<tr>\n",
       "      <td></td>        <th>coef</th>     <th>std err</th>      <th>z</th>      <th>P>|z|</th>  <th>[0.025</th>    <th>0.975]</th>  \n",
       "</tr>\n",
       "<tr>\n",
       "  <th>0</th>        <td> 1499.0325</td> <td>   45.957</td> <td>   32.618</td> <td> 0.000</td> <td> 1408.959</td> <td> 1589.106</td>\n",
       "</tr>\n",
       "<tr>\n",
       "  <th>ar.L1</th>    <td>    0.5224</td> <td>    0.021</td> <td>   24.566</td> <td> 0.000</td> <td>    0.481</td> <td>    0.564</td>\n",
       "</tr>\n",
       "<tr>\n",
       "  <th>ma.L1</th>    <td>   -0.1194</td> <td>    0.021</td> <td>   -5.817</td> <td> 0.000</td> <td>   -0.160</td> <td>   -0.079</td>\n",
       "</tr>\n",
       "<tr>\n",
       "  <th>ma.L2</th>    <td>    0.1149</td> <td>    0.007</td> <td>   15.603</td> <td> 0.000</td> <td>    0.100</td> <td>    0.129</td>\n",
       "</tr>\n",
       "<tr>\n",
       "  <th>ar.S.L12</th> <td>   -0.0298</td> <td>    0.009</td> <td>   -3.328</td> <td> 0.001</td> <td>   -0.047</td> <td>   -0.012</td>\n",
       "</tr>\n",
       "<tr>\n",
       "  <th>ar.S.L24</th> <td>    0.1711</td> <td>    0.003</td> <td>   64.417</td> <td> 0.000</td> <td>    0.166</td> <td>    0.176</td>\n",
       "</tr>\n",
       "<tr>\n",
       "  <th>sigma2</th>   <td> 3.874e+05</td> <td>  877.337</td> <td>  441.569</td> <td> 0.000</td> <td> 3.86e+05</td> <td> 3.89e+05</td>\n",
       "</tr>\n",
       "</table>\n",
       "<table class=\"simpletable\">\n",
       "<tr>\n",
       "  <th>Ljung-Box (L1) (Q):</th>     <td>0.00</td> <th>  Jarque-Bera (JB):  </th> <td>109932244.04</td>\n",
       "</tr>\n",
       "<tr>\n",
       "  <th>Prob(Q):</th>                <td>0.96</td> <th>  Prob(JB):          </th>     <td>0.00</td>    \n",
       "</tr>\n",
       "<tr>\n",
       "  <th>Heteroskedasticity (H):</th> <td>0.42</td> <th>  Skew:              </th>     <td>5.83</td>    \n",
       "</tr>\n",
       "<tr>\n",
       "  <th>Prob(H) (two-sided):</th>    <td>0.00</td> <th>  Kurtosis:          </th>    <td>551.68</td>   \n",
       "</tr>\n",
       "</table><br/><br/>Warnings:<br/>[1] Covariance matrix calculated using the outer product of gradients (complex-step)."
      ],
      "text/plain": [
       "<class 'statsmodels.iolib.summary.Summary'>\n",
       "\"\"\"\n",
       "                                      SARIMAX Results                                      \n",
       "===========================================================================================\n",
       "Dep. Variable:                                   y   No. Observations:                 8761\n",
       "Model:             SARIMAX(1, 1, 2)x(2, 0, [], 12)   Log Likelihood              -68658.713\n",
       "Date:                             Thu, 27 May 2021   AIC                         137331.425\n",
       "Time:                                     23:15:25   BIC                         137380.971\n",
       "Sample:                                 01-01-2015   HQIC                        137348.307\n",
       "                                      - 01-01-2016                                         \n",
       "Covariance Type:                               opg                                         \n",
       "==============================================================================\n",
       "                 coef    std err          z      P>|z|      [0.025      0.975]\n",
       "------------------------------------------------------------------------------\n",
       "0           1499.0325     45.957     32.618      0.000    1408.959    1589.106\n",
       "ar.L1          0.5224      0.021     24.566      0.000       0.481       0.564\n",
       "ma.L1         -0.1194      0.021     -5.817      0.000      -0.160      -0.079\n",
       "ma.L2          0.1149      0.007     15.603      0.000       0.100       0.129\n",
       "ar.S.L12      -0.0298      0.009     -3.328      0.001      -0.047      -0.012\n",
       "ar.S.L24       0.1711      0.003     64.417      0.000       0.166       0.176\n",
       "sigma2      3.874e+05    877.337    441.569      0.000    3.86e+05    3.89e+05\n",
       "===================================================================================\n",
       "Ljung-Box (L1) (Q):                   0.00   Jarque-Bera (JB):         109932244.04\n",
       "Prob(Q):                              0.96   Prob(JB):                         0.00\n",
       "Heteroskedasticity (H):               0.42   Skew:                             5.83\n",
       "Prob(H) (two-sided):                  0.00   Kurtosis:                       551.68\n",
       "===================================================================================\n",
       "\n",
       "Warnings:\n",
       "[1] Covariance matrix calculated using the outer product of gradients (complex-step).\n",
       "\"\"\""
      ]
     },
     "execution_count": 117,
     "metadata": {},
     "output_type": "execute_result"
    }
   ],
   "source": [
    "smodel_2.summary()"
   ]
  },
  {
   "cell_type": "code",
   "execution_count": 118,
   "id": "c69f9618",
   "metadata": {},
   "outputs": [
    {
     "data": {
      "text/html": [
       "<div>\n",
       "<style scoped>\n",
       "    .dataframe tbody tr th:only-of-type {\n",
       "        vertical-align: middle;\n",
       "    }\n",
       "\n",
       "    .dataframe tbody tr th {\n",
       "        vertical-align: top;\n",
       "    }\n",
       "\n",
       "    .dataframe thead th {\n",
       "        text-align: right;\n",
       "    }\n",
       "</style>\n",
       "<table border=\"1\" class=\"dataframe\">\n",
       "  <thead>\n",
       "    <tr style=\"text-align: right;\">\n",
       "      <th></th>\n",
       "      <th>0</th>\n",
       "    </tr>\n",
       "    <tr>\n",
       "      <th>Date</th>\n",
       "      <th></th>\n",
       "    </tr>\n",
       "  </thead>\n",
       "  <tbody>\n",
       "    <tr>\n",
       "      <th>2016-01-01 00:00:00</th>\n",
       "      <td>2.448077</td>\n",
       "    </tr>\n",
       "    <tr>\n",
       "      <th>2016-01-01 01:00:00</th>\n",
       "      <td>2.442692</td>\n",
       "    </tr>\n",
       "    <tr>\n",
       "      <th>2016-01-01 02:00:00</th>\n",
       "      <td>2.480000</td>\n",
       "    </tr>\n",
       "    <tr>\n",
       "      <th>2016-01-01 03:00:00</th>\n",
       "      <td>2.453846</td>\n",
       "    </tr>\n",
       "    <tr>\n",
       "      <th>2016-01-01 04:00:00</th>\n",
       "      <td>2.467692</td>\n",
       "    </tr>\n",
       "  </tbody>\n",
       "</table>\n",
       "</div>"
      ],
      "text/plain": [
       "                            0\n",
       "Date                         \n",
       "2016-01-01 00:00:00  2.448077\n",
       "2016-01-01 01:00:00  2.442692\n",
       "2016-01-01 02:00:00  2.480000\n",
       "2016-01-01 03:00:00  2.453846\n",
       "2016-01-01 04:00:00  2.467692"
      ]
     },
     "execution_count": 118,
     "metadata": {},
     "output_type": "execute_result"
    }
   ],
   "source": [
    "windspeed_test.head()"
   ]
  },
  {
   "cell_type": "code",
   "execution_count": 119,
   "id": "f42578dd",
   "metadata": {},
   "outputs": [
    {
     "data": {
      "text/html": [
       "<div>\n",
       "<style scoped>\n",
       "    .dataframe tbody tr th:only-of-type {\n",
       "        vertical-align: middle;\n",
       "    }\n",
       "\n",
       "    .dataframe tbody tr th {\n",
       "        vertical-align: top;\n",
       "    }\n",
       "\n",
       "    .dataframe thead th {\n",
       "        text-align: right;\n",
       "    }\n",
       "</style>\n",
       "<table border=\"1\" class=\"dataframe\">\n",
       "  <thead>\n",
       "    <tr style=\"text-align: right;\">\n",
       "      <th></th>\n",
       "      <th>Wind[MWh]</th>\n",
       "    </tr>\n",
       "    <tr>\n",
       "      <th>Date</th>\n",
       "      <th></th>\n",
       "    </tr>\n",
       "  </thead>\n",
       "  <tbody>\n",
       "    <tr>\n",
       "      <th>2016-01-01 00:00:00</th>\n",
       "      <td>8650.0</td>\n",
       "    </tr>\n",
       "    <tr>\n",
       "      <th>2016-01-01 01:00:00</th>\n",
       "      <td>8580.0</td>\n",
       "    </tr>\n",
       "    <tr>\n",
       "      <th>2016-01-01 02:00:00</th>\n",
       "      <td>8544.0</td>\n",
       "    </tr>\n",
       "    <tr>\n",
       "      <th>2016-01-01 03:00:00</th>\n",
       "      <td>8446.0</td>\n",
       "    </tr>\n",
       "    <tr>\n",
       "      <th>2016-01-01 04:00:00</th>\n",
       "      <td>8298.0</td>\n",
       "    </tr>\n",
       "  </tbody>\n",
       "</table>\n",
       "</div>"
      ],
      "text/plain": [
       "                     Wind[MWh]\n",
       "Date                          \n",
       "2016-01-01 00:00:00     8650.0\n",
       "2016-01-01 01:00:00     8580.0\n",
       "2016-01-01 02:00:00     8544.0\n",
       "2016-01-01 03:00:00     8446.0\n",
       "2016-01-01 04:00:00     8298.0"
      ]
     },
     "execution_count": 119,
     "metadata": {},
     "output_type": "execute_result"
    }
   ],
   "source": [
    "y_test.head()"
   ]
  },
  {
   "cell_type": "code",
   "execution_count": 120,
   "id": "82d29a4f",
   "metadata": {},
   "outputs": [
    {
     "data": {
      "text/plain": [
       "(8761, 1)"
      ]
     },
     "execution_count": 120,
     "metadata": {},
     "output_type": "execute_result"
    }
   ],
   "source": [
    "y_train.shape"
   ]
  },
  {
   "cell_type": "code",
   "execution_count": 121,
   "id": "43ac86dd",
   "metadata": {},
   "outputs": [
    {
     "data": {
      "text/plain": [
       "(8761, 1)"
      ]
     },
     "execution_count": 121,
     "metadata": {},
     "output_type": "execute_result"
    }
   ],
   "source": [
    "windspeed_train.shape"
   ]
  },
  {
   "cell_type": "code",
   "execution_count": 122,
   "id": "d893726d",
   "metadata": {},
   "outputs": [
    {
     "data": {
      "text/plain": [
       "(1441, 1)"
      ]
     },
     "execution_count": 122,
     "metadata": {},
     "output_type": "execute_result"
    }
   ],
   "source": [
    "y_test.shape"
   ]
  },
  {
   "cell_type": "code",
   "execution_count": 123,
   "id": "0feec1f7",
   "metadata": {},
   "outputs": [
    {
     "data": {
      "text/plain": [
       "(1441, 1)"
      ]
     },
     "execution_count": 123,
     "metadata": {},
     "output_type": "execute_result"
    }
   ],
   "source": [
    "windspeed_test.shape"
   ]
  },
  {
   "cell_type": "code",
   "execution_count": 129,
   "id": "fbffb959",
   "metadata": {},
   "outputs": [
    {
     "name": "stderr",
     "output_type": "stream",
     "text": [
      "/Users/michael.kuntz/.pyenv/versions/lewagon/envs/predict_energy_generation/lib/python3.8/site-packages/statsmodels/tsa/base/tsa_model.py:524: ValueWarning: No frequency information was provided, so inferred frequency H will be used.\n",
      "  warnings.warn('No frequency information was'\n",
      "/Users/michael.kuntz/.pyenv/versions/lewagon/envs/predict_energy_generation/lib/python3.8/site-packages/statsmodels/tsa/base/tsa_model.py:524: ValueWarning: No frequency information was provided, so inferred frequency H will be used.\n",
      "  warnings.warn('No frequency information was'\n"
     ]
    }
   ],
   "source": [
    "sarimax = SARIMAX(endog=y_train,exog=windspeed_train.to_numpy().reshape(-1,1),order=(1,1,2),seasonal=(2,0,0,12),alpha=0.05).fit()"
   ]
  },
  {
   "cell_type": "code",
   "execution_count": 130,
   "id": "76a0c35a",
   "metadata": {},
   "outputs": [
    {
     "data": {
      "text/html": [
       "<table class=\"simpletable\">\n",
       "<caption>SARIMAX Results</caption>\n",
       "<tr>\n",
       "  <th>Dep. Variable:</th>       <td>Wind[MWh]</td>    <th>  No. Observations:  </th>    <td>8761</td>   \n",
       "</tr>\n",
       "<tr>\n",
       "  <th>Model:</th>           <td>SARIMAX(1, 1, 2)</td> <th>  Log Likelihood     </th> <td>-68784.682</td>\n",
       "</tr>\n",
       "<tr>\n",
       "  <th>Date:</th>            <td>Thu, 27 May 2021</td> <th>  AIC                </th> <td>137579.365</td>\n",
       "</tr>\n",
       "<tr>\n",
       "  <th>Time:</th>                <td>23:16:17</td>     <th>  BIC                </th> <td>137614.755</td>\n",
       "</tr>\n",
       "<tr>\n",
       "  <th>Sample:</th>             <td>01-01-2015</td>    <th>  HQIC               </th> <td>137591.423</td>\n",
       "</tr>\n",
       "<tr>\n",
       "  <th></th>                   <td>- 01-01-2016</td>   <th>                     </th>      <td> </td>    \n",
       "</tr>\n",
       "<tr>\n",
       "  <th>Covariance Type:</th>        <td>opg</td>       <th>                     </th>      <td> </td>    \n",
       "</tr>\n",
       "</table>\n",
       "<table class=\"simpletable\">\n",
       "<tr>\n",
       "     <td></td>       <th>coef</th>     <th>std err</th>      <th>z</th>      <th>P>|z|</th>  <th>[0.025</th>    <th>0.975]</th>  \n",
       "</tr>\n",
       "<tr>\n",
       "  <th>x1</th>     <td> 1499.0322</td> <td>   42.719</td> <td>   35.091</td> <td> 0.000</td> <td> 1415.305</td> <td> 1582.760</td>\n",
       "</tr>\n",
       "<tr>\n",
       "  <th>ar.L1</th>  <td>    0.4787</td> <td>    0.020</td> <td>   23.559</td> <td> 0.000</td> <td>    0.439</td> <td>    0.519</td>\n",
       "</tr>\n",
       "<tr>\n",
       "  <th>ma.L1</th>  <td>   -0.0403</td> <td>    0.020</td> <td>   -2.053</td> <td> 0.040</td> <td>   -0.079</td> <td>   -0.002</td>\n",
       "</tr>\n",
       "<tr>\n",
       "  <th>ma.L2</th>  <td>    0.1369</td> <td>    0.007</td> <td>   18.989</td> <td> 0.000</td> <td>    0.123</td> <td>    0.151</td>\n",
       "</tr>\n",
       "<tr>\n",
       "  <th>sigma2</th> <td> 3.874e+05</td> <td>  839.156</td> <td>  461.663</td> <td> 0.000</td> <td> 3.86e+05</td> <td> 3.89e+05</td>\n",
       "</tr>\n",
       "</table>\n",
       "<table class=\"simpletable\">\n",
       "<tr>\n",
       "  <th>Ljung-Box (L1) (Q):</th>     <td>0.00</td> <th>  Jarque-Bera (JB):  </th> <td>114407589.74</td>\n",
       "</tr>\n",
       "<tr>\n",
       "  <th>Prob(Q):</th>                <td>0.97</td> <th>  Prob(JB):          </th>     <td>0.00</td>    \n",
       "</tr>\n",
       "<tr>\n",
       "  <th>Heteroskedasticity (H):</th> <td>0.44</td> <th>  Skew:              </th>     <td>6.20</td>    \n",
       "</tr>\n",
       "<tr>\n",
       "  <th>Prob(H) (two-sided):</th>    <td>0.00</td> <th>  Kurtosis:          </th>    <td>562.72</td>   \n",
       "</tr>\n",
       "</table><br/><br/>Warnings:<br/>[1] Covariance matrix calculated using the outer product of gradients (complex-step)."
      ],
      "text/plain": [
       "<class 'statsmodels.iolib.summary.Summary'>\n",
       "\"\"\"\n",
       "                               SARIMAX Results                                \n",
       "==============================================================================\n",
       "Dep. Variable:              Wind[MWh]   No. Observations:                 8761\n",
       "Model:               SARIMAX(1, 1, 2)   Log Likelihood              -68784.682\n",
       "Date:                Thu, 27 May 2021   AIC                         137579.365\n",
       "Time:                        23:16:17   BIC                         137614.755\n",
       "Sample:                    01-01-2015   HQIC                        137591.423\n",
       "                         - 01-01-2016                                         \n",
       "Covariance Type:                  opg                                         \n",
       "==============================================================================\n",
       "                 coef    std err          z      P>|z|      [0.025      0.975]\n",
       "------------------------------------------------------------------------------\n",
       "x1          1499.0322     42.719     35.091      0.000    1415.305    1582.760\n",
       "ar.L1          0.4787      0.020     23.559      0.000       0.439       0.519\n",
       "ma.L1         -0.0403      0.020     -2.053      0.040      -0.079      -0.002\n",
       "ma.L2          0.1369      0.007     18.989      0.000       0.123       0.151\n",
       "sigma2      3.874e+05    839.156    461.663      0.000    3.86e+05    3.89e+05\n",
       "===================================================================================\n",
       "Ljung-Box (L1) (Q):                   0.00   Jarque-Bera (JB):         114407589.74\n",
       "Prob(Q):                              0.97   Prob(JB):                         0.00\n",
       "Heteroskedasticity (H):               0.44   Skew:                             6.20\n",
       "Prob(H) (two-sided):                  0.00   Kurtosis:                       562.72\n",
       "===================================================================================\n",
       "\n",
       "Warnings:\n",
       "[1] Covariance matrix calculated using the outer product of gradients (complex-step).\n",
       "\"\"\""
      ]
     },
     "execution_count": 130,
     "metadata": {},
     "output_type": "execute_result"
    }
   ],
   "source": [
    "sarimax.summary()"
   ]
  },
  {
   "cell_type": "code",
   "execution_count": 131,
   "id": "871cd5af",
   "metadata": {},
   "outputs": [],
   "source": [
    "forecast_2 = sarimax.forecast(len(y_test), exog=windspeed_test, alpha=0.05)"
   ]
  },
  {
   "cell_type": "code",
   "execution_count": 145,
   "id": "222d5402",
   "metadata": {},
   "outputs": [
    {
     "data": {
      "text/plain": [
       "(1441,)"
      ]
     },
     "execution_count": 145,
     "metadata": {},
     "output_type": "execute_result"
    }
   ],
   "source": [
    "forecast_2.shape"
   ]
  },
  {
   "cell_type": "code",
   "execution_count": 132,
   "id": "add1155e",
   "metadata": {},
   "outputs": [
    {
     "data": {
      "image/png": "[encoded data removed]",
      "text/plain": [
       "<Figure size 1000x400 with 1 Axes>"
      ]
     },
     "metadata": {
      "needs_background": "light"
     },
     "output_type": "display_data"
    }
   ],
   "source": [
    "plot_forecast(forecast_2, y_train, y_test)"
   ]
  },
  {
   "cell_type": "code",
   "execution_count": 133,
   "id": "5082ed29",
   "metadata": {},
   "outputs": [
    {
     "data": {
      "text/plain": [
       "56.17283581924014"
      ]
     },
     "execution_count": 133,
     "metadata": {},
     "output_type": "execute_result"
    }
   ],
   "source": [
    "mean_absolute_percentage_error(forecast_2,y_test)"
   ]
  },
  {
   "cell_type": "markdown",
   "id": "983bbb75",
   "metadata": {},
   "source": [
    "# Baseline models"
   ]
  },
  {
   "cell_type": "markdown",
   "id": "7920af81",
   "metadata": {},
   "source": [
    "## Baseline model (previous hour)"
   ]
  },
  {
   "cell_type": "code",
   "execution_count": 148,
   "id": "5e2906c0",
   "metadata": {},
   "outputs": [
    {
     "data": {
      "text/html": [
       "<div>\n",
       "<style scoped>\n",
       "    .dataframe tbody tr th:only-of-type {\n",
       "        vertical-align: middle;\n",
       "    }\n",
       "\n",
       "    .dataframe tbody tr th {\n",
       "        vertical-align: top;\n",
       "    }\n",
       "\n",
       "    .dataframe thead th {\n",
       "        text-align: right;\n",
       "    }\n",
       "</style>\n",
       "<table border=\"1\" class=\"dataframe\">\n",
       "  <thead>\n",
       "    <tr style=\"text-align: right;\">\n",
       "      <th></th>\n",
       "      <th>Wind[MWh]</th>\n",
       "    </tr>\n",
       "    <tr>\n",
       "      <th>Date</th>\n",
       "      <th></th>\n",
       "    </tr>\n",
       "  </thead>\n",
       "  <tbody>\n",
       "    <tr>\n",
       "      <th>2016-01-01 00:00:00</th>\n",
       "      <td>NaN</td>\n",
       "    </tr>\n",
       "    <tr>\n",
       "      <th>2016-01-01 01:00:00</th>\n",
       "      <td>8650.0</td>\n",
       "    </tr>\n",
       "    <tr>\n",
       "      <th>2016-01-01 02:00:00</th>\n",
       "      <td>8580.0</td>\n",
       "    </tr>\n",
       "    <tr>\n",
       "      <th>2016-01-01 03:00:00</th>\n",
       "      <td>8544.0</td>\n",
       "    </tr>\n",
       "    <tr>\n",
       "      <th>2016-01-01 04:00:00</th>\n",
       "      <td>8446.0</td>\n",
       "    </tr>\n",
       "    <tr>\n",
       "      <th>...</th>\n",
       "      <td>...</td>\n",
       "    </tr>\n",
       "    <tr>\n",
       "      <th>2016-02-29 20:00:00</th>\n",
       "      <td>10045.0</td>\n",
       "    </tr>\n",
       "    <tr>\n",
       "      <th>2016-02-29 21:00:00</th>\n",
       "      <td>9631.0</td>\n",
       "    </tr>\n",
       "    <tr>\n",
       "      <th>2016-02-29 22:00:00</th>\n",
       "      <td>9160.0</td>\n",
       "    </tr>\n",
       "    <tr>\n",
       "      <th>2016-02-29 23:00:00</th>\n",
       "      <td>8320.0</td>\n",
       "    </tr>\n",
       "    <tr>\n",
       "      <th>2016-03-01 00:00:00</th>\n",
       "      <td>7371.0</td>\n",
       "    </tr>\n",
       "  </tbody>\n",
       "</table>\n",
       "<p>1441 rows × 1 columns</p>\n",
       "</div>"
      ],
      "text/plain": [
       "                     Wind[MWh]\n",
       "Date                          \n",
       "2016-01-01 00:00:00        NaN\n",
       "2016-01-01 01:00:00     8650.0\n",
       "2016-01-01 02:00:00     8580.0\n",
       "2016-01-01 03:00:00     8544.0\n",
       "2016-01-01 04:00:00     8446.0\n",
       "...                        ...\n",
       "2016-02-29 20:00:00    10045.0\n",
       "2016-02-29 21:00:00     9631.0\n",
       "2016-02-29 22:00:00     9160.0\n",
       "2016-02-29 23:00:00     8320.0\n",
       "2016-03-01 00:00:00     7371.0\n",
       "\n",
       "[1441 rows x 1 columns]"
      ]
     },
     "execution_count": 148,
     "metadata": {},
     "output_type": "execute_result"
    }
   ],
   "source": [
    "y_pred = y_test.shift(1)\n",
    "y_pred"
   ]
  },
  {
   "cell_type": "code",
   "execution_count": 151,
   "id": "f3e8607c",
   "metadata": {},
   "outputs": [],
   "source": [
    "y_pred = y_pred.squeeze()"
   ]
  },
  {
   "cell_type": "code",
   "execution_count": 152,
   "id": "12698755",
   "metadata": {},
   "outputs": [
    {
     "data": {
      "text/plain": [
       "(1441, 1)"
      ]
     },
     "execution_count": 152,
     "metadata": {},
     "output_type": "execute_result"
    }
   ],
   "source": [
    "y_test.shape"
   ]
  },
  {
   "cell_type": "code",
   "execution_count": 153,
   "id": "8def3c83",
   "metadata": {},
   "outputs": [
    {
     "data": {
      "text/plain": [
       "1"
      ]
     },
     "execution_count": 153,
     "metadata": {},
     "output_type": "execute_result"
    }
   ],
   "source": [
    "y_pred.isnull().sum()"
   ]
  },
  {
   "cell_type": "code",
   "execution_count": 159,
   "id": "d376f89a",
   "metadata": {},
   "outputs": [],
   "source": [
    "y_pred[y_pred.isna()] = y_pred.mean()"
   ]
  },
  {
   "cell_type": "code",
   "execution_count": 155,
   "id": "33245a04",
   "metadata": {},
   "outputs": [
    {
     "data": {
      "image/png": "[encoded data removed]",
      "text/plain": [
       "<Figure size 1000x400 with 1 Axes>"
      ]
     },
     "metadata": {
      "needs_background": "light"
     },
     "output_type": "display_data"
    }
   ],
   "source": [
    "plot_forecast(y_pred, y_train, y_test)"
   ]
  },
  {
   "cell_type": "code",
   "execution_count": 160,
   "id": "1b18342e",
   "metadata": {},
   "outputs": [
    {
     "data": {
      "text/plain": [
       "136.54027446366553"
      ]
     },
     "execution_count": 160,
     "metadata": {},
     "output_type": "execute_result"
    }
   ],
   "source": [
    "mean_absolute_percentage_error(y_pred,y_test)"
   ]
  },
  {
   "cell_type": "code",
   "execution_count": 157,
   "id": "fa0a8f59",
   "metadata": {},
   "outputs": [
    {
     "data": {
      "text/plain": [
       "Date\n",
       "2016-01-01 00:00:00        NaN\n",
       "2016-01-01 01:00:00     8650.0\n",
       "2016-01-01 02:00:00     8580.0\n",
       "2016-01-01 03:00:00     8544.0\n",
       "2016-01-01 04:00:00     8446.0\n",
       "                        ...   \n",
       "2016-02-29 20:00:00    10045.0\n",
       "2016-02-29 21:00:00     9631.0\n",
       "2016-02-29 22:00:00     9160.0\n",
       "2016-02-29 23:00:00     8320.0\n",
       "2016-03-01 00:00:00     7371.0\n",
       "Name: Wind[MWh], Length: 1441, dtype: float64"
      ]
     },
     "execution_count": 157,
     "metadata": {},
     "output_type": "execute_result"
    }
   ],
   "source": [
    "y_pred"
   ]
  },
  {
   "cell_type": "code",
   "execution_count": 158,
   "id": "43892a8e",
   "metadata": {},
   "outputs": [
    {
     "data": {
      "text/html": [
       "<div>\n",
       "<style scoped>\n",
       "    .dataframe tbody tr th:only-of-type {\n",
       "        vertical-align: middle;\n",
       "    }\n",
       "\n",
       "    .dataframe tbody tr th {\n",
       "        vertical-align: top;\n",
       "    }\n",
       "\n",
       "    .dataframe thead th {\n",
       "        text-align: right;\n",
       "    }\n",
       "</style>\n",
       "<table border=\"1\" class=\"dataframe\">\n",
       "  <thead>\n",
       "    <tr style=\"text-align: right;\">\n",
       "      <th></th>\n",
       "      <th>Wind[MWh]</th>\n",
       "    </tr>\n",
       "    <tr>\n",
       "      <th>Date</th>\n",
       "      <th></th>\n",
       "    </tr>\n",
       "  </thead>\n",
       "  <tbody>\n",
       "    <tr>\n",
       "      <th>2016-01-01 00:00:00</th>\n",
       "      <td>8650.0</td>\n",
       "    </tr>\n",
       "    <tr>\n",
       "      <th>2016-01-01 01:00:00</th>\n",
       "      <td>8580.0</td>\n",
       "    </tr>\n",
       "    <tr>\n",
       "      <th>2016-01-01 02:00:00</th>\n",
       "      <td>8544.0</td>\n",
       "    </tr>\n",
       "    <tr>\n",
       "      <th>2016-01-01 03:00:00</th>\n",
       "      <td>8446.0</td>\n",
       "    </tr>\n",
       "    <tr>\n",
       "      <th>2016-01-01 04:00:00</th>\n",
       "      <td>8298.0</td>\n",
       "    </tr>\n",
       "    <tr>\n",
       "      <th>...</th>\n",
       "      <td>...</td>\n",
       "    </tr>\n",
       "    <tr>\n",
       "      <th>2016-02-29 20:00:00</th>\n",
       "      <td>9631.0</td>\n",
       "    </tr>\n",
       "    <tr>\n",
       "      <th>2016-02-29 21:00:00</th>\n",
       "      <td>9160.0</td>\n",
       "    </tr>\n",
       "    <tr>\n",
       "      <th>2016-02-29 22:00:00</th>\n",
       "      <td>8320.0</td>\n",
       "    </tr>\n",
       "    <tr>\n",
       "      <th>2016-02-29 23:00:00</th>\n",
       "      <td>7371.0</td>\n",
       "    </tr>\n",
       "    <tr>\n",
       "      <th>2016-03-01 00:00:00</th>\n",
       "      <td>5791.0</td>\n",
       "    </tr>\n",
       "  </tbody>\n",
       "</table>\n",
       "<p>1441 rows × 1 columns</p>\n",
       "</div>"
      ],
      "text/plain": [
       "                     Wind[MWh]\n",
       "Date                          \n",
       "2016-01-01 00:00:00     8650.0\n",
       "2016-01-01 01:00:00     8580.0\n",
       "2016-01-01 02:00:00     8544.0\n",
       "2016-01-01 03:00:00     8446.0\n",
       "2016-01-01 04:00:00     8298.0\n",
       "...                        ...\n",
       "2016-02-29 20:00:00     9631.0\n",
       "2016-02-29 21:00:00     9160.0\n",
       "2016-02-29 22:00:00     8320.0\n",
       "2016-02-29 23:00:00     7371.0\n",
       "2016-03-01 00:00:00     5791.0\n",
       "\n",
       "[1441 rows x 1 columns]"
      ]
     },
     "execution_count": 158,
     "metadata": {},
     "output_type": "execute_result"
    }
   ],
   "source": [
    "y_test"
   ]
  },
  {
   "cell_type": "markdown",
   "id": "52f7d435",
   "metadata": {},
   "source": [
    "## Baseline model (previous day)"
   ]
  },
  {
   "cell_type": "code",
   "execution_count": 162,
   "id": "24db14b1",
   "metadata": {},
   "outputs": [
    {
     "data": {
      "text/html": [
       "<div>\n",
       "<style scoped>\n",
       "    .dataframe tbody tr th:only-of-type {\n",
       "        vertical-align: middle;\n",
       "    }\n",
       "\n",
       "    .dataframe tbody tr th {\n",
       "        vertical-align: top;\n",
       "    }\n",
       "\n",
       "    .dataframe thead th {\n",
       "        text-align: right;\n",
       "    }\n",
       "</style>\n",
       "<table border=\"1\" class=\"dataframe\">\n",
       "  <thead>\n",
       "    <tr style=\"text-align: right;\">\n",
       "      <th></th>\n",
       "      <th>Wind[MWh]</th>\n",
       "    </tr>\n",
       "    <tr>\n",
       "      <th>Date</th>\n",
       "      <th></th>\n",
       "    </tr>\n",
       "  </thead>\n",
       "  <tbody>\n",
       "    <tr>\n",
       "      <th>2016-01-01 00:00:00</th>\n",
       "      <td>NaN</td>\n",
       "    </tr>\n",
       "    <tr>\n",
       "      <th>2016-01-01 01:00:00</th>\n",
       "      <td>NaN</td>\n",
       "    </tr>\n",
       "    <tr>\n",
       "      <th>2016-01-01 02:00:00</th>\n",
       "      <td>NaN</td>\n",
       "    </tr>\n",
       "    <tr>\n",
       "      <th>2016-01-01 03:00:00</th>\n",
       "      <td>NaN</td>\n",
       "    </tr>\n",
       "    <tr>\n",
       "      <th>2016-01-01 04:00:00</th>\n",
       "      <td>NaN</td>\n",
       "    </tr>\n",
       "    <tr>\n",
       "      <th>...</th>\n",
       "      <td>...</td>\n",
       "    </tr>\n",
       "    <tr>\n",
       "      <th>2016-02-29 20:00:00</th>\n",
       "      <td>10920.0</td>\n",
       "    </tr>\n",
       "    <tr>\n",
       "      <th>2016-02-29 21:00:00</th>\n",
       "      <td>10795.0</td>\n",
       "    </tr>\n",
       "    <tr>\n",
       "      <th>2016-02-29 22:00:00</th>\n",
       "      <td>10607.0</td>\n",
       "    </tr>\n",
       "    <tr>\n",
       "      <th>2016-02-29 23:00:00</th>\n",
       "      <td>10258.0</td>\n",
       "    </tr>\n",
       "    <tr>\n",
       "      <th>2016-03-01 00:00:00</th>\n",
       "      <td>10087.0</td>\n",
       "    </tr>\n",
       "  </tbody>\n",
       "</table>\n",
       "<p>1441 rows × 1 columns</p>\n",
       "</div>"
      ],
      "text/plain": [
       "                     Wind[MWh]\n",
       "Date                          \n",
       "2016-01-01 00:00:00        NaN\n",
       "2016-01-01 01:00:00        NaN\n",
       "2016-01-01 02:00:00        NaN\n",
       "2016-01-01 03:00:00        NaN\n",
       "2016-01-01 04:00:00        NaN\n",
       "...                        ...\n",
       "2016-02-29 20:00:00    10920.0\n",
       "2016-02-29 21:00:00    10795.0\n",
       "2016-02-29 22:00:00    10607.0\n",
       "2016-02-29 23:00:00    10258.0\n",
       "2016-03-01 00:00:00    10087.0\n",
       "\n",
       "[1441 rows x 1 columns]"
      ]
     },
     "execution_count": 162,
     "metadata": {},
     "output_type": "execute_result"
    }
   ],
   "source": [
    "y_pred2 = y_test.shift(24)\n",
    "y_pred2"
   ]
  },
  {
   "cell_type": "code",
   "execution_count": 163,
   "id": "e8a595f4",
   "metadata": {},
   "outputs": [],
   "source": [
    "y_pred2 = y_pred2.squeeze()"
   ]
  },
  {
   "cell_type": "code",
   "execution_count": 164,
   "id": "ed2b4678",
   "metadata": {},
   "outputs": [],
   "source": [
    "y_pred2[y_pred2.isna()] = y_pred2.mean()"
   ]
  },
  {
   "cell_type": "code",
   "execution_count": 166,
   "id": "d28a7a29",
   "metadata": {},
   "outputs": [
    {
     "data": {
      "image/png": "[encoded data removed]",
      "text/plain": [
       "<Figure size 1000x400 with 1 Axes>"
      ]
     },
     "metadata": {
      "needs_background": "light"
     },
     "output_type": "display_data"
    }
   ],
   "source": [
    "plot_forecast(y_pred2, y_train, y_test)"
   ]
  },
  {
   "cell_type": "code",
   "execution_count": 165,
   "id": "9067301a",
   "metadata": {},
   "outputs": [
    {
     "data": {
      "text/plain": [
       "136.30381805203976"
      ]
     },
     "execution_count": 165,
     "metadata": {},
     "output_type": "execute_result"
    }
   ],
   "source": [
    "mean_absolute_percentage_error(y_pred2,y_test)"
   ]
  },
  {
   "cell_type": "markdown",
   "id": "2a0b0efa",
   "metadata": {},
   "source": [
    "# Optimize predicting timeframe"
   ]
  },
  {
   "cell_type": "code",
   "execution_count": 174,
   "id": "5dd95ed7",
   "metadata": {},
   "outputs": [],
   "source": [
    "y_test_1 = pd.DataFrame(y.loc[dt.date(2016,1,1):dt.date(2016,1,2)])\n",
    "y_test_7 = pd.DataFrame(y.loc[dt.date(2016,1,1):dt.date(2016,1,8)])\n",
    "y_test_14 = pd.DataFrame(y.loc[dt.date(2016,1,1):dt.date(2016,1,15)])\n",
    "y_test_30 = pd.DataFrame(y.loc[dt.date(2016,1,1):dt.date(2016,2,1)])"
   ]
  },
  {
   "cell_type": "code",
   "execution_count": 175,
   "id": "6336088b",
   "metadata": {},
   "outputs": [],
   "source": [
    "windspeed_test_1 = pd.DataFrame(hourly_windspeed_df.loc[dt.date(2016,1,1):dt.date(2016,1,2)])\n",
    "windspeed_test_7 = pd.DataFrame(hourly_windspeed_df.loc[dt.date(2016,1,1):dt.date(2016,1,8)])\n",
    "windspeed_test_14 = pd.DataFrame(hourly_windspeed_df.loc[dt.date(2016,1,1):dt.date(2016,1,15)])\n",
    "windspeed_test_30 = pd.DataFrame(hourly_windspeed_df.loc[dt.date(2016,1,1):dt.date(2016,2,1)])"
   ]
  },
  {
   "cell_type": "code",
   "execution_count": 177,
   "id": "ce103b53",
   "metadata": {},
   "outputs": [],
   "source": [
    "forecast_test_1 = sarimax.forecast(len(y_test_1), exog=windspeed_test_1, alpha=0.05)\n",
    "forecast_test_7 = sarimax.forecast(len(y_test_7), exog=windspeed_test_7, alpha=0.05)\n",
    "forecast_test_14 = sarimax.forecast(len(y_test_14), exog=windspeed_test_14, alpha=0.05)\n",
    "forecast_test_30 = sarimax.forecast(len(y_test_30), exog=windspeed_test_30, alpha=0.05)"
   ]
  },
  {
   "cell_type": "code",
   "execution_count": 183,
   "id": "f3476af1",
   "metadata": {},
   "outputs": [
    {
     "data": {
      "text/plain": [
       "53.39213047188077"
      ]
     },
     "execution_count": 183,
     "metadata": {},
     "output_type": "execute_result"
    }
   ],
   "source": [
    "mean_absolute_percentage_error(forecast_test_1,y_test_1)"
   ]
  },
  {
   "cell_type": "code",
   "execution_count": 184,
   "id": "ca1d6b5b",
   "metadata": {},
   "outputs": [
    {
     "data": {
      "text/plain": [
       "39.6191729818461"
      ]
     },
     "execution_count": 184,
     "metadata": {},
     "output_type": "execute_result"
    }
   ],
   "source": [
    "mean_absolute_percentage_error(forecast_test_7,y_test_7)"
   ]
  },
  {
   "cell_type": "code",
   "execution_count": 185,
   "id": "03e406ea",
   "metadata": {},
   "outputs": [
    {
     "data": {
      "text/plain": [
       "35.25798289458658"
      ]
     },
     "execution_count": 185,
     "metadata": {},
     "output_type": "execute_result"
    }
   ],
   "source": [
    "mean_absolute_percentage_error(forecast_test_14,y_test_14)"
   ]
  },
  {
   "cell_type": "code",
   "execution_count": 186,
   "id": "e5ec2200",
   "metadata": {},
   "outputs": [
    {
     "data": {
      "text/plain": [
       "51.44627442748059"
      ]
     },
     "execution_count": 186,
     "metadata": {},
     "output_type": "execute_result"
    }
   ],
   "source": [
    "mean_absolute_percentage_error(forecast_test_30,y_test_30)"
   ]
  },
  {
   "cell_type": "code",
   "execution_count": 187,
   "id": "a05acfe1",
   "metadata": {},
   "outputs": [
    {
     "data": {
      "text/plain": [
       "56.17283581924014"
      ]
     },
     "execution_count": 187,
     "metadata": {},
     "output_type": "execute_result"
    }
   ],
   "source": [
    "mean_absolute_percentage_error(forecast_2,y_test)"
   ]
  },
  {
   "cell_type": "code",
   "execution_count": 253,
   "id": "38d9b5f9",
   "metadata": {},
   "outputs": [],
   "source": [
    "def find_best_timeframe(start_date,max_days, model):\n",
    "    best_score = 1000000\n",
    "    for days in range(1,max_days+1):\n",
    "        y_test = pd.DataFrame(y.loc[start_date:start_date+dt.timedelta(days)])\n",
    "        windspeed_test = pd.DataFrame(hourly_windspeed_df.loc[start_date:start_date+dt.timedelta(days)])\n",
    "        forecast_test = model.forecast(len(y_test), exog=windspeed_test, alpha=0.05)\n",
    "        mape = mean_absolute_percentage_error(forecast_test,y_test)\n",
    "        print(f'{days}: {mape}')\n",
    "        if mape < best_score:\n",
    "            best_score = mape\n",
    "            best_timeframe = days\n",
    "    return best_timeframe, best_score"
   ]
  },
  {
   "cell_type": "code",
   "execution_count": 218,
   "id": "7bf1420b",
   "metadata": {},
   "outputs": [
    {
     "name": "stdout",
     "output_type": "stream",
     "text": [
      "1: 53.39213047188077\n",
      "2: 55.91737480996367\n",
      "3: 48.389799986087695\n",
      "4: 39.931796470851395\n",
      "5: 38.11698296670587\n",
      "6: 39.891794531602045\n",
      "7: 39.6191729818461\n",
      "8: 42.392524478410294\n",
      "9: 41.82442169879377\n",
      "10: 39.746341792152364\n",
      "11: 39.06640697129413\n",
      "12: 37.05912606677703\n",
      "13: 36.38196236533504\n",
      "14: 35.25798289458658\n",
      "15: 36.134958812085934\n",
      "16: 37.203478812800626\n",
      "17: 38.91142861310197\n",
      "18: 40.733227481393236\n",
      "19: 40.787626979852796\n",
      "20: 41.756414108950075\n",
      "21: 43.805096600333684\n",
      "22: 43.83430084459165\n",
      "23: 42.44949397152849\n",
      "24: 41.525431547110344\n",
      "25: 40.738733260411166\n",
      "26: 41.900433618519564\n",
      "27: 45.219613885419356\n",
      "28: 45.81644502786265\n",
      "29: 48.466381977149865\n",
      "30: 51.09365422776149\n",
      "31: 51.44627442748059\n",
      "32: 52.645452360467814\n",
      "33: 54.85555006634725\n",
      "34: 55.305052880864956\n",
      "35: 54.552888711175875\n",
      "36: 53.69337963473575\n",
      "37: 53.204091448261984\n",
      "38: 53.503547086871215\n",
      "39: 55.62056479377717\n",
      "40: 56.45879419394966\n",
      "41: 55.701071554388925\n",
      "42: 55.073425236921416\n",
      "43: 55.80312161220286\n",
      "44: 55.888156507706846\n",
      "45: 55.08627960125795\n",
      "46: 54.585668469039184\n",
      "47: 55.15050048362464\n",
      "48: 54.8733207297332\n",
      "49: 55.53348701541739\n",
      "50: 55.88952985182972\n",
      "51: 56.602799206083034\n",
      "52: 57.45383897545933\n",
      "53: 57.64840598751017\n",
      "54: 56.899243678221865\n",
      "55: 56.468988135811024\n",
      "56: 56.43092609928877\n",
      "57: 56.875518804653616\n",
      "58: 57.09479391787898\n",
      "59: 56.80690920801331\n",
      "60: 56.17283581924014\n"
     ]
    },
    {
     "data": {
      "text/plain": [
       "(14, 35.25798289458658)"
      ]
     },
     "execution_count": 218,
     "metadata": {},
     "output_type": "execute_result"
    }
   ],
   "source": [
    "find_best_timeframe(60,sarimax)"
   ]
  },
  {
   "cell_type": "markdown",
   "id": "02138a47",
   "metadata": {},
   "source": [
    "# Validate SARIMAX model with different timeframe"
   ]
  },
  {
   "cell_type": "code",
   "execution_count": 236,
   "id": "f2f31737",
   "metadata": {},
   "outputs": [],
   "source": [
    "def train_test_split(start_date,train_size,test_size):\n",
    "    y_train = pd.DataFrame(y.loc[start_date:start_date+dt.timedelta(train_size)])\n",
    "    y_test = pd.DataFrame(y.loc[start_date+dt.timedelta(train_size):start_date+dt.timedelta(train_size+test_size)])    \n",
    "    \n",
    "    \n",
    "    windspeed_train = pd.DataFrame(hourly_windspeed_df.loc[start_date:start_date+dt.timedelta(train_size)])\n",
    "    windspeed_test = pd.DataFrame(hourly_windspeed_df.loc[start_date+dt.timedelta(train_size):start_date+dt.timedelta(train_size+test_size)])  \n",
    "    \n",
    "    return y_train, y_test, windspeed_train, windspeed_test"
   ]
  },
  {
   "cell_type": "code",
   "execution_count": 238,
   "id": "b50de9b1",
   "metadata": {},
   "outputs": [],
   "source": [
    "y_train, y_test, windspeed_train, windspeed_test = train_test_split(dt.date(2020,1,1)-dt.timedelta(14),366,14)"
   ]
  },
  {
   "cell_type": "code",
   "execution_count": 249,
   "id": "96ede9ab",
   "metadata": {},
   "outputs": [
    {
     "data": {
      "text/html": [
       "<div>\n",
       "<style scoped>\n",
       "    .dataframe tbody tr th:only-of-type {\n",
       "        vertical-align: middle;\n",
       "    }\n",
       "\n",
       "    .dataframe tbody tr th {\n",
       "        vertical-align: top;\n",
       "    }\n",
       "\n",
       "    .dataframe thead th {\n",
       "        text-align: right;\n",
       "    }\n",
       "</style>\n",
       "<table border=\"1\" class=\"dataframe\">\n",
       "  <thead>\n",
       "    <tr style=\"text-align: right;\">\n",
       "      <th></th>\n",
       "      <th>Wind[MWh]</th>\n",
       "    </tr>\n",
       "    <tr>\n",
       "      <th>Date</th>\n",
       "      <th></th>\n",
       "    </tr>\n",
       "  </thead>\n",
       "  <tbody>\n",
       "    <tr>\n",
       "      <th>2019-12-18 00:00:00</th>\n",
       "      <td>32930.0</td>\n",
       "    </tr>\n",
       "    <tr>\n",
       "      <th>2019-12-18 01:00:00</th>\n",
       "      <td>32918.0</td>\n",
       "    </tr>\n",
       "    <tr>\n",
       "      <th>2019-12-18 02:00:00</th>\n",
       "      <td>32564.0</td>\n",
       "    </tr>\n",
       "    <tr>\n",
       "      <th>2019-12-18 03:00:00</th>\n",
       "      <td>30266.0</td>\n",
       "    </tr>\n",
       "    <tr>\n",
       "      <th>2019-12-18 04:00:00</th>\n",
       "      <td>28307.0</td>\n",
       "    </tr>\n",
       "  </tbody>\n",
       "</table>\n",
       "</div>"
      ],
      "text/plain": [
       "                     Wind[MWh]\n",
       "Date                          \n",
       "2019-12-18 00:00:00    32930.0\n",
       "2019-12-18 01:00:00    32918.0\n",
       "2019-12-18 02:00:00    32564.0\n",
       "2019-12-18 03:00:00    30266.0\n",
       "2019-12-18 04:00:00    28307.0"
      ]
     },
     "execution_count": 249,
     "metadata": {},
     "output_type": "execute_result"
    }
   ],
   "source": [
    "y_train.head()"
   ]
  },
  {
   "cell_type": "code",
   "execution_count": 232,
   "id": "42b5356b",
   "metadata": {},
   "outputs": [
    {
     "data": {
      "text/html": [
       "<div>\n",
       "<style scoped>\n",
       "    .dataframe tbody tr th:only-of-type {\n",
       "        vertical-align: middle;\n",
       "    }\n",
       "\n",
       "    .dataframe tbody tr th {\n",
       "        vertical-align: top;\n",
       "    }\n",
       "\n",
       "    .dataframe thead th {\n",
       "        text-align: right;\n",
       "    }\n",
       "</style>\n",
       "<table border=\"1\" class=\"dataframe\">\n",
       "  <thead>\n",
       "    <tr style=\"text-align: right;\">\n",
       "      <th></th>\n",
       "      <th>Wind[MWh]</th>\n",
       "    </tr>\n",
       "    <tr>\n",
       "      <th>Date</th>\n",
       "      <th></th>\n",
       "    </tr>\n",
       "  </thead>\n",
       "  <tbody>\n",
       "    <tr>\n",
       "      <th>2020-12-17 20:00:00</th>\n",
       "      <td>22819.0</td>\n",
       "    </tr>\n",
       "    <tr>\n",
       "      <th>2020-12-17 21:00:00</th>\n",
       "      <td>22412.0</td>\n",
       "    </tr>\n",
       "    <tr>\n",
       "      <th>2020-12-17 22:00:00</th>\n",
       "      <td>22157.0</td>\n",
       "    </tr>\n",
       "    <tr>\n",
       "      <th>2020-12-17 23:00:00</th>\n",
       "      <td>21789.0</td>\n",
       "    </tr>\n",
       "    <tr>\n",
       "      <th>2020-12-18 00:00:00</th>\n",
       "      <td>21586.0</td>\n",
       "    </tr>\n",
       "  </tbody>\n",
       "</table>\n",
       "</div>"
      ],
      "text/plain": [
       "                     Wind[MWh]\n",
       "Date                          \n",
       "2020-12-17 20:00:00    22819.0\n",
       "2020-12-17 21:00:00    22412.0\n",
       "2020-12-17 22:00:00    22157.0\n",
       "2020-12-17 23:00:00    21789.0\n",
       "2020-12-18 00:00:00    21586.0"
      ]
     },
     "execution_count": 232,
     "metadata": {},
     "output_type": "execute_result"
    }
   ],
   "source": [
    "y_train.tail()"
   ]
  },
  {
   "cell_type": "code",
   "execution_count": 250,
   "id": "ae8a3af1",
   "metadata": {},
   "outputs": [
    {
     "data": {
      "text/html": [
       "<div>\n",
       "<style scoped>\n",
       "    .dataframe tbody tr th:only-of-type {\n",
       "        vertical-align: middle;\n",
       "    }\n",
       "\n",
       "    .dataframe tbody tr th {\n",
       "        vertical-align: top;\n",
       "    }\n",
       "\n",
       "    .dataframe thead th {\n",
       "        text-align: right;\n",
       "    }\n",
       "</style>\n",
       "<table border=\"1\" class=\"dataframe\">\n",
       "  <thead>\n",
       "    <tr style=\"text-align: right;\">\n",
       "      <th></th>\n",
       "      <th>Wind[MWh]</th>\n",
       "    </tr>\n",
       "    <tr>\n",
       "      <th>Date</th>\n",
       "      <th></th>\n",
       "    </tr>\n",
       "  </thead>\n",
       "  <tbody>\n",
       "    <tr>\n",
       "      <th>2020-12-18 00:00:00</th>\n",
       "      <td>21586.0</td>\n",
       "    </tr>\n",
       "    <tr>\n",
       "      <th>2020-12-18 01:00:00</th>\n",
       "      <td>20672.0</td>\n",
       "    </tr>\n",
       "    <tr>\n",
       "      <th>2020-12-18 02:00:00</th>\n",
       "      <td>19967.0</td>\n",
       "    </tr>\n",
       "    <tr>\n",
       "      <th>2020-12-18 03:00:00</th>\n",
       "      <td>19601.0</td>\n",
       "    </tr>\n",
       "    <tr>\n",
       "      <th>2020-12-18 04:00:00</th>\n",
       "      <td>19105.0</td>\n",
       "    </tr>\n",
       "  </tbody>\n",
       "</table>\n",
       "</div>"
      ],
      "text/plain": [
       "                     Wind[MWh]\n",
       "Date                          \n",
       "2020-12-18 00:00:00    21586.0\n",
       "2020-12-18 01:00:00    20672.0\n",
       "2020-12-18 02:00:00    19967.0\n",
       "2020-12-18 03:00:00    19601.0\n",
       "2020-12-18 04:00:00    19105.0"
      ]
     },
     "execution_count": 250,
     "metadata": {},
     "output_type": "execute_result"
    }
   ],
   "source": [
    "y_test.head()"
   ]
  },
  {
   "cell_type": "code",
   "execution_count": 234,
   "id": "042ceeea",
   "metadata": {
    "scrolled": true
   },
   "outputs": [
    {
     "data": {
      "text/html": [
       "<div>\n",
       "<style scoped>\n",
       "    .dataframe tbody tr th:only-of-type {\n",
       "        vertical-align: middle;\n",
       "    }\n",
       "\n",
       "    .dataframe tbody tr th {\n",
       "        vertical-align: top;\n",
       "    }\n",
       "\n",
       "    .dataframe thead th {\n",
       "        text-align: right;\n",
       "    }\n",
       "</style>\n",
       "<table border=\"1\" class=\"dataframe\">\n",
       "  <thead>\n",
       "    <tr style=\"text-align: right;\">\n",
       "      <th></th>\n",
       "      <th>Wind[MWh]</th>\n",
       "    </tr>\n",
       "    <tr>\n",
       "      <th>Date</th>\n",
       "      <th></th>\n",
       "    </tr>\n",
       "  </thead>\n",
       "  <tbody>\n",
       "    <tr>\n",
       "      <th>2020-12-31 20:00:00</th>\n",
       "      <td>7962.0</td>\n",
       "    </tr>\n",
       "    <tr>\n",
       "      <th>2020-12-31 21:00:00</th>\n",
       "      <td>7029.0</td>\n",
       "    </tr>\n",
       "    <tr>\n",
       "      <th>2020-12-31 22:00:00</th>\n",
       "      <td>5949.0</td>\n",
       "    </tr>\n",
       "    <tr>\n",
       "      <th>2020-12-31 23:00:00</th>\n",
       "      <td>5085.0</td>\n",
       "    </tr>\n",
       "    <tr>\n",
       "      <th>2021-01-01 00:00:00</th>\n",
       "      <td>4351.0</td>\n",
       "    </tr>\n",
       "  </tbody>\n",
       "</table>\n",
       "</div>"
      ],
      "text/plain": [
       "                     Wind[MWh]\n",
       "Date                          \n",
       "2020-12-31 20:00:00     7962.0\n",
       "2020-12-31 21:00:00     7029.0\n",
       "2020-12-31 22:00:00     5949.0\n",
       "2020-12-31 23:00:00     5085.0\n",
       "2021-01-01 00:00:00     4351.0"
      ]
     },
     "execution_count": 234,
     "metadata": {},
     "output_type": "execute_result"
    }
   ],
   "source": [
    "y_test.tail()"
   ]
  },
  {
   "cell_type": "code",
   "execution_count": 239,
   "id": "30bc0982",
   "metadata": {},
   "outputs": [
    {
     "name": "stdout",
     "output_type": "stream",
     "text": [
      "Performing stepwise search to minimize aic\n",
      " ARIMA(0,1,0)(1,0,1)[12] intercept   : AIC=inf, Time=15.75 sec\n",
      " ARIMA(0,1,0)(0,0,0)[12] intercept   : AIC=149683.362, Time=0.19 sec\n",
      " ARIMA(1,1,0)(1,0,0)[12] intercept   : AIC=147627.164, Time=2.36 sec\n",
      " ARIMA(0,1,1)(0,0,1)[12] intercept   : AIC=148250.237, Time=2.15 sec\n",
      " ARIMA(0,1,0)(0,0,0)[12]             : AIC=220663.124, Time=0.15 sec\n",
      " ARIMA(1,1,0)(0,0,0)[12] intercept   : AIC=147640.324, Time=0.50 sec\n",
      " ARIMA(1,1,0)(2,0,0)[12] intercept   : AIC=147408.257, Time=7.90 sec\n",
      " ARIMA(1,1,0)(2,0,1)[12] intercept   : AIC=inf, Time=31.09 sec\n",
      " ARIMA(1,1,0)(1,0,1)[12] intercept   : AIC=inf, Time=11.15 sec\n",
      " ARIMA(0,1,0)(2,0,0)[12] intercept   : AIC=149162.959, Time=6.03 sec\n",
      " ARIMA(2,1,0)(2,0,0)[12] intercept   : AIC=147152.906, Time=9.17 sec\n",
      " ARIMA(2,1,0)(1,0,0)[12] intercept   : AIC=147443.426, Time=2.91 sec\n",
      " ARIMA(2,1,0)(2,0,1)[12] intercept   : AIC=inf, Time=41.94 sec\n",
      " ARIMA(2,1,0)(1,0,1)[12] intercept   : AIC=inf, Time=7.68 sec\n",
      " ARIMA(2,1,1)(2,0,0)[12] intercept   : AIC=147153.626, Time=17.40 sec\n",
      " ARIMA(1,1,1)(2,0,0)[12] intercept   : AIC=147198.407, Time=9.69 sec\n",
      " ARIMA(2,1,0)(2,0,0)[12]             : AIC=147150.920, Time=7.32 sec\n",
      " ARIMA(2,1,0)(1,0,0)[12]             : AIC=147441.435, Time=2.36 sec\n",
      " ARIMA(2,1,0)(2,0,1)[12]             : AIC=inf, Time=38.00 sec\n",
      " ARIMA(2,1,0)(1,0,1)[12]             : AIC=inf, Time=7.03 sec\n",
      " ARIMA(1,1,0)(2,0,0)[12]             : AIC=147406.268, Time=5.95 sec\n",
      " ARIMA(2,1,1)(2,0,0)[12]             : AIC=147151.633, Time=15.39 sec\n",
      " ARIMA(1,1,1)(2,0,0)[12]             : AIC=147196.417, Time=7.69 sec\n",
      "\n",
      "Best model:  ARIMA(2,1,0)(2,0,0)[12]          \n",
      "Total fit time: 249.855 seconds\n"
     ]
    }
   ],
   "source": [
    "smodel = pm.auto_arima(y_train, m=12, X=windspeed_train,\n",
    "                       start_p=0, max_p=2,\n",
    "                       start_q=0, max_q=5,\n",
    "                       max_P=2, max_D=1,max_Q=2,\n",
    "                       seasonal=True,\n",
    "                       trace=True)"
   ]
  },
  {
   "cell_type": "code",
   "execution_count": 240,
   "id": "29a05732",
   "metadata": {},
   "outputs": [
    {
     "data": {
      "text/html": [
       "<table class=\"simpletable\">\n",
       "<caption>SARIMAX Results</caption>\n",
       "<tr>\n",
       "  <th>Dep. Variable:</th>                  <td>y</td>               <th>  No. Observations:  </th>    <td>8785</td>   \n",
       "</tr>\n",
       "<tr>\n",
       "  <th>Model:</th>           <td>SARIMAX(2, 1, 0)x(2, 0, 0, 12)</td> <th>  Log Likelihood     </th> <td>-73569.460</td>\n",
       "</tr>\n",
       "<tr>\n",
       "  <th>Date:</th>                   <td>Sat, 29 May 2021</td>        <th>  AIC                </th> <td>147150.920</td>\n",
       "</tr>\n",
       "<tr>\n",
       "  <th>Time:</th>                       <td>12:56:55</td>            <th>  BIC                </th> <td>147193.404</td>\n",
       "</tr>\n",
       "<tr>\n",
       "  <th>Sample:</th>                    <td>12-18-2019</td>           <th>  HQIC               </th> <td>147165.394</td>\n",
       "</tr>\n",
       "<tr>\n",
       "  <th></th>                          <td>- 12-18-2020</td>          <th>                     </th>      <td> </td>    \n",
       "</tr>\n",
       "<tr>\n",
       "  <th>Covariance Type:</th>               <td>opg</td>              <th>                     </th>      <td> </td>    \n",
       "</tr>\n",
       "</table>\n",
       "<table class=\"simpletable\">\n",
       "<tr>\n",
       "      <td></td>        <th>coef</th>     <th>std err</th>      <th>z</th>      <th>P>|z|</th>  <th>[0.025</th>    <th>0.975]</th>  \n",
       "</tr>\n",
       "<tr>\n",
       "  <th>0</th>        <td> 1579.7099</td> <td>   77.537</td> <td>   20.374</td> <td> 0.000</td> <td> 1427.739</td> <td> 1731.680</td>\n",
       "</tr>\n",
       "<tr>\n",
       "  <th>ar.L1</th>    <td>    0.3496</td> <td>    0.002</td> <td>  184.955</td> <td> 0.000</td> <td>    0.346</td> <td>    0.353</td>\n",
       "</tr>\n",
       "<tr>\n",
       "  <th>ar.L2</th>    <td>    0.1715</td> <td>    0.004</td> <td>   44.960</td> <td> 0.000</td> <td>    0.164</td> <td>    0.179</td>\n",
       "</tr>\n",
       "<tr>\n",
       "  <th>ar.S.L12</th> <td>   -0.0227</td> <td>    0.009</td> <td>   -2.430</td> <td> 0.015</td> <td>   -0.041</td> <td>   -0.004</td>\n",
       "</tr>\n",
       "<tr>\n",
       "  <th>ar.S.L24</th> <td>    0.1841</td> <td>    0.003</td> <td>   67.511</td> <td> 0.000</td> <td>    0.179</td> <td>    0.189</td>\n",
       "</tr>\n",
       "<tr>\n",
       "  <th>sigma2</th>   <td> 1.135e+06</td> <td> 2537.663</td> <td>  447.362</td> <td> 0.000</td> <td> 1.13e+06</td> <td> 1.14e+06</td>\n",
       "</tr>\n",
       "</table>\n",
       "<table class=\"simpletable\">\n",
       "<tr>\n",
       "  <th>Ljung-Box (L1) (Q):</th>     <td>1.06</td> <th>  Jarque-Bera (JB):  </th> <td>71904793.92</td>\n",
       "</tr>\n",
       "<tr>\n",
       "  <th>Prob(Q):</th>                <td>0.30</td> <th>  Prob(JB):          </th>    <td>0.00</td>    \n",
       "</tr>\n",
       "<tr>\n",
       "  <th>Heteroskedasticity (H):</th> <td>1.11</td> <th>  Skew:              </th>    <td>-2.43</td>   \n",
       "</tr>\n",
       "<tr>\n",
       "  <th>Prob(H) (two-sided):</th>    <td>0.01</td> <th>  Kurtosis:          </th>   <td>446.21</td>   \n",
       "</tr>\n",
       "</table><br/><br/>Warnings:<br/>[1] Covariance matrix calculated using the outer product of gradients (complex-step)."
      ],
      "text/plain": [
       "<class 'statsmodels.iolib.summary.Summary'>\n",
       "\"\"\"\n",
       "                                     SARIMAX Results                                      \n",
       "==========================================================================================\n",
       "Dep. Variable:                                  y   No. Observations:                 8785\n",
       "Model:             SARIMAX(2, 1, 0)x(2, 0, 0, 12)   Log Likelihood              -73569.460\n",
       "Date:                            Sat, 29 May 2021   AIC                         147150.920\n",
       "Time:                                    12:56:55   BIC                         147193.404\n",
       "Sample:                                12-18-2019   HQIC                        147165.394\n",
       "                                     - 12-18-2020                                         \n",
       "Covariance Type:                              opg                                         \n",
       "==============================================================================\n",
       "                 coef    std err          z      P>|z|      [0.025      0.975]\n",
       "------------------------------------------------------------------------------\n",
       "0           1579.7099     77.537     20.374      0.000    1427.739    1731.680\n",
       "ar.L1          0.3496      0.002    184.955      0.000       0.346       0.353\n",
       "ar.L2          0.1715      0.004     44.960      0.000       0.164       0.179\n",
       "ar.S.L12      -0.0227      0.009     -2.430      0.015      -0.041      -0.004\n",
       "ar.S.L24       0.1841      0.003     67.511      0.000       0.179       0.189\n",
       "sigma2      1.135e+06   2537.663    447.362      0.000    1.13e+06    1.14e+06\n",
       "===================================================================================\n",
       "Ljung-Box (L1) (Q):                   1.06   Jarque-Bera (JB):          71904793.92\n",
       "Prob(Q):                              0.30   Prob(JB):                         0.00\n",
       "Heteroskedasticity (H):               1.11   Skew:                            -2.43\n",
       "Prob(H) (two-sided):                  0.01   Kurtosis:                       446.21\n",
       "===================================================================================\n",
       "\n",
       "Warnings:\n",
       "[1] Covariance matrix calculated using the outer product of gradients (complex-step).\n",
       "\"\"\""
      ]
     },
     "execution_count": 240,
     "metadata": {},
     "output_type": "execute_result"
    }
   ],
   "source": [
    "smodel.summary()"
   ]
  },
  {
   "cell_type": "code",
   "execution_count": 241,
   "id": "bd68d95b",
   "metadata": {},
   "outputs": [
    {
     "name": "stderr",
     "output_type": "stream",
     "text": [
      "/Users/michael.kuntz/.pyenv/versions/lewagon/envs/predict_energy_generation/lib/python3.8/site-packages/statsmodels/tsa/base/tsa_model.py:524: ValueWarning: No frequency information was provided, so inferred frequency H will be used.\n",
      "  warnings.warn('No frequency information was'\n",
      "/Users/michael.kuntz/.pyenv/versions/lewagon/envs/predict_energy_generation/lib/python3.8/site-packages/statsmodels/tsa/base/tsa_model.py:524: ValueWarning: No frequency information was provided, so inferred frequency H will be used.\n",
      "  warnings.warn('No frequency information was'\n"
     ]
    }
   ],
   "source": [
    "sarimax_2 = SARIMAX(endog=y_train,exog=windspeed_train.to_numpy().reshape(-1,1),order=(2,1,0),seasonal=(2,0,0,12),alpha=0.05).fit()"
   ]
  },
  {
   "cell_type": "code",
   "execution_count": 251,
   "id": "a6103b98",
   "metadata": {},
   "outputs": [
    {
     "data": {
      "text/html": [
       "<table class=\"simpletable\">\n",
       "<caption>SARIMAX Results</caption>\n",
       "<tr>\n",
       "  <th>Dep. Variable:</th>       <td>Wind[MWh]</td>    <th>  No. Observations:  </th>    <td>8785</td>   \n",
       "</tr>\n",
       "<tr>\n",
       "  <th>Model:</th>           <td>SARIMAX(2, 1, 0)</td> <th>  Log Likelihood     </th> <td>-73719.045</td>\n",
       "</tr>\n",
       "<tr>\n",
       "  <th>Date:</th>            <td>Sat, 29 May 2021</td> <th>  AIC                </th> <td>147446.090</td>\n",
       "</tr>\n",
       "<tr>\n",
       "  <th>Time:</th>                <td>13:14:22</td>     <th>  BIC                </th> <td>147474.413</td>\n",
       "</tr>\n",
       "<tr>\n",
       "  <th>Sample:</th>             <td>12-18-2019</td>    <th>  HQIC               </th> <td>147455.739</td>\n",
       "</tr>\n",
       "<tr>\n",
       "  <th></th>                   <td>- 12-18-2020</td>   <th>                     </th>      <td> </td>    \n",
       "</tr>\n",
       "<tr>\n",
       "  <th>Covariance Type:</th>        <td>opg</td>       <th>                     </th>      <td> </td>    \n",
       "</tr>\n",
       "</table>\n",
       "<table class=\"simpletable\">\n",
       "<tr>\n",
       "     <td></td>       <th>coef</th>     <th>std err</th>      <th>z</th>      <th>P>|z|</th>  <th>[0.025</th>    <th>0.975]</th>  \n",
       "</tr>\n",
       "<tr>\n",
       "  <th>x1</th>     <td> 1579.7098</td> <td>   66.970</td> <td>   23.588</td> <td> 0.000</td> <td> 1448.451</td> <td> 1710.969</td>\n",
       "</tr>\n",
       "<tr>\n",
       "  <th>ar.L1</th>  <td>    0.3830</td> <td>    0.002</td> <td>  233.815</td> <td> 0.000</td> <td>    0.380</td> <td>    0.386</td>\n",
       "</tr>\n",
       "<tr>\n",
       "  <th>ar.L2</th>  <td>    0.1467</td> <td>    0.003</td> <td>   42.270</td> <td> 0.000</td> <td>    0.140</td> <td>    0.153</td>\n",
       "</tr>\n",
       "<tr>\n",
       "  <th>sigma2</th> <td> 1.135e+06</td> <td> 2451.955</td> <td>  463.000</td> <td> 0.000</td> <td> 1.13e+06</td> <td> 1.14e+06</td>\n",
       "</tr>\n",
       "</table>\n",
       "<table class=\"simpletable\">\n",
       "<tr>\n",
       "  <th>Ljung-Box (L1) (Q):</th>     <td>1.83</td> <th>  Jarque-Bera (JB):  </th> <td>72437872.94</td>\n",
       "</tr>\n",
       "<tr>\n",
       "  <th>Prob(Q):</th>                <td>0.18</td> <th>  Prob(JB):          </th>    <td>0.00</td>    \n",
       "</tr>\n",
       "<tr>\n",
       "  <th>Heteroskedasticity (H):</th> <td>1.09</td> <th>  Skew:              </th>    <td>-2.54</td>   \n",
       "</tr>\n",
       "<tr>\n",
       "  <th>Prob(H) (two-sided):</th>    <td>0.01</td> <th>  Kurtosis:          </th>   <td>447.85</td>   \n",
       "</tr>\n",
       "</table><br/><br/>Warnings:<br/>[1] Covariance matrix calculated using the outer product of gradients (complex-step)."
      ],
      "text/plain": [
       "<class 'statsmodels.iolib.summary.Summary'>\n",
       "\"\"\"\n",
       "                               SARIMAX Results                                \n",
       "==============================================================================\n",
       "Dep. Variable:              Wind[MWh]   No. Observations:                 8785\n",
       "Model:               SARIMAX(2, 1, 0)   Log Likelihood              -73719.045\n",
       "Date:                Sat, 29 May 2021   AIC                         147446.090\n",
       "Time:                        13:14:22   BIC                         147474.413\n",
       "Sample:                    12-18-2019   HQIC                        147455.739\n",
       "                         - 12-18-2020                                         \n",
       "Covariance Type:                  opg                                         \n",
       "==============================================================================\n",
       "                 coef    std err          z      P>|z|      [0.025      0.975]\n",
       "------------------------------------------------------------------------------\n",
       "x1          1579.7098     66.970     23.588      0.000    1448.451    1710.969\n",
       "ar.L1          0.3830      0.002    233.815      0.000       0.380       0.386\n",
       "ar.L2          0.1467      0.003     42.270      0.000       0.140       0.153\n",
       "sigma2      1.135e+06   2451.955    463.000      0.000    1.13e+06    1.14e+06\n",
       "===================================================================================\n",
       "Ljung-Box (L1) (Q):                   1.83   Jarque-Bera (JB):          72437872.94\n",
       "Prob(Q):                              0.18   Prob(JB):                         0.00\n",
       "Heteroskedasticity (H):               1.09   Skew:                            -2.54\n",
       "Prob(H) (two-sided):                  0.01   Kurtosis:                       447.85\n",
       "===================================================================================\n",
       "\n",
       "Warnings:\n",
       "[1] Covariance matrix calculated using the outer product of gradients (complex-step).\n",
       "\"\"\""
      ]
     },
     "execution_count": 251,
     "metadata": {},
     "output_type": "execute_result"
    }
   ],
   "source": [
    "sarimax_2.summary()"
   ]
  },
  {
   "cell_type": "code",
   "execution_count": 242,
   "id": "dc998a3c",
   "metadata": {},
   "outputs": [
    {
     "name": "stderr",
     "output_type": "stream",
     "text": [
      "/Users/michael.kuntz/.pyenv/versions/lewagon/envs/predict_energy_generation/lib/python3.8/site-packages/statsmodels/tsa/base/tsa_model.py:524: ValueWarning: No frequency information was provided, so inferred frequency H will be used.\n",
      "  warnings.warn('No frequency information was'\n",
      "/Users/michael.kuntz/.pyenv/versions/lewagon/envs/predict_energy_generation/lib/python3.8/site-packages/statsmodels/tsa/base/tsa_model.py:524: ValueWarning: No frequency information was provided, so inferred frequency H will be used.\n",
      "  warnings.warn('No frequency information was'\n"
     ]
    }
   ],
   "source": [
    "sarimax = SARIMAX(endog=y_train,exog=windspeed_train.to_numpy().reshape(-1,1),order=(1,1,2),seasonal=(2,0,0,12),alpha=0.05).fit()"
   ]
  },
  {
   "cell_type": "code",
   "execution_count": 243,
   "id": "81cd3cc4",
   "metadata": {},
   "outputs": [],
   "source": [
    "forecast_2 = sarimax_2.forecast(len(y_test), exog=windspeed_test, alpha=0.05)"
   ]
  },
  {
   "cell_type": "code",
   "execution_count": 244,
   "id": "d01b8099",
   "metadata": {},
   "outputs": [],
   "source": [
    "forecast_3 = sarimax.forecast(len(y_test), exog=windspeed_test, alpha=0.05)"
   ]
  },
  {
   "cell_type": "code",
   "execution_count": 245,
   "id": "5fb7becc",
   "metadata": {},
   "outputs": [
    {
     "data": {
      "image/png": "[encoded data removed]",
      "text/plain": [
       "<Figure size 1000x400 with 1 Axes>"
      ]
     },
     "metadata": {
      "needs_background": "light"
     },
     "output_type": "display_data"
    }
   ],
   "source": [
    "plot_forecast(forecast_2, y_train, y_test)"
   ]
  },
  {
   "cell_type": "code",
   "execution_count": 246,
   "id": "bdbd59fd",
   "metadata": {},
   "outputs": [
    {
     "data": {
      "image/png": "[encoded data removed]",
      "text/plain": [
       "<Figure size 1000x400 with 1 Axes>"
      ]
     },
     "metadata": {
      "needs_background": "light"
     },
     "output_type": "display_data"
    }
   ],
   "source": [
    "plot_forecast(forecast_3, y_train, y_test)"
   ]
  },
  {
   "cell_type": "code",
   "execution_count": 254,
   "id": "c3f9a14d",
   "metadata": {},
   "outputs": [
    {
     "name": "stdout",
     "output_type": "stream",
     "text": [
      "1: 40.009409053891666\n",
      "2: 26.277489916089298\n",
      "3: 24.751696314250683\n",
      "4: 24.275472271013633\n",
      "5: 23.69233370665946\n",
      "6: 21.8640884438941\n",
      "7: 21.166655062640512\n",
      "8: 24.285482816797444\n",
      "9: 30.045999570838756\n",
      "10: 34.32779874371211\n",
      "11: 37.59062928299415\n",
      "12: 37.32476200717695\n",
      "13: 36.47906683178883\n",
      "14: 36.52691396888684\n",
      "15: 37.99613846953753\n",
      "16: 37.410876496858165\n",
      "17: 37.9593288502957\n",
      "18: 38.660918320101075\n",
      "19: 38.79356054999621\n",
      "20: 38.166652640196006\n",
      "21: 37.2915910002639\n",
      "22: 37.257171992264986\n",
      "23: 37.096927905426455\n",
      "24: 36.29619856857795\n",
      "25: 35.72419022328649\n",
      "26: 36.0633244835575\n",
      "27: 35.80049726349067\n",
      "28: 36.990124796982535\n",
      "29: 37.54046993470951\n",
      "30: 37.25675447453085\n",
      "31: 36.603104718379164\n",
      "32: 36.04545333870838\n",
      "33: 36.49253029595051\n",
      "34: 37.15946424490261\n",
      "35: 37.03617741208624\n",
      "36: 37.60828318069391\n",
      "37: 38.76055892662603\n",
      "38: 39.390083353877465\n",
      "39: 40.16118970084595\n",
      "40: 40.54234772619573\n",
      "41: 39.799759781181834\n",
      "42: 40.100279001837855\n",
      "43: 40.49712269615999\n",
      "44: 40.83310337029988\n",
      "45: 41.319171722409855\n",
      "46: 41.84749096996771\n",
      "47: 41.516593291251716\n",
      "48: 41.16017113586617\n",
      "49: 40.85800996555202\n",
      "50: 40.81274144445263\n",
      "51: 40.95994668398359\n",
      "52: 41.30086377912216\n",
      "53: 40.92465760797508\n",
      "54: 41.15406997478136\n",
      "55: 41.77603686705267\n",
      "56: 42.541781115546755\n",
      "57: 42.964334812226745\n",
      "58: 42.58124874986534\n",
      "59: 42.69829584367575\n",
      "60: 42.42691565073002\n"
     ]
    },
    {
     "data": {
      "text/plain": [
       "(7, 21.166655062640512)"
      ]
     },
     "execution_count": 254,
     "metadata": {},
     "output_type": "execute_result"
    }
   ],
   "source": [
    "find_best_timeframe(dt.date(2020,1,1)-dt.timedelta(14),60,sarimax_2)"
   ]
  },
  {
   "cell_type": "code",
   "execution_count": 256,
   "id": "df09dc0a",
   "metadata": {},
   "outputs": [
    {
     "data": {
      "text/plain": [
       "36.14153859048661"
      ]
     },
     "execution_count": 256,
     "metadata": {},
     "output_type": "execute_result"
    }
   ],
   "source": [
    "mean_absolute_percentage_error(forecast_2,y_test)"
   ]
  },
  {
   "cell_type": "code",
   "execution_count": 257,
   "id": "67e5dcdd",
   "metadata": {},
   "outputs": [
    {
     "name": "stdout",
     "output_type": "stream",
     "text": [
      "1: 40.00680646998818\n",
      "2: 26.203423506987654\n",
      "3: 24.614579080390282\n",
      "4: 24.19734381386299\n",
      "5: 23.667792943356154\n",
      "6: 21.809943287559193\n",
      "7: 21.144333504219816\n",
      "8: 24.28249395698758\n",
      "9: 30.045247843465795\n",
      "10: 34.33090979228033\n",
      "11: 37.597747876622634\n",
      "12: 37.340921648017996\n",
      "13: 36.470842564352246\n",
      "14: 36.51804067898418\n",
      "15: 37.99354749719202\n",
      "16: 37.41176647728044\n",
      "17: 37.94078501430523\n",
      "18: 38.628467064912606\n",
      "19: 38.76969496937099\n",
      "20: 38.15102915975421\n",
      "21: 37.27754359880102\n",
      "22: 37.23821981266883\n",
      "23: 37.07296761881343\n",
      "24: 36.26676383215039\n",
      "25: 35.695102993969726\n",
      "26: 36.0226149581948\n",
      "27: 35.762123321536855\n",
      "28: 36.9397179778769\n",
      "29: 37.48000563828302\n",
      "30: 37.19756753701427\n",
      "31: 36.54188783402039\n",
      "32: 35.985986739286716\n",
      "33: 36.43764777566974\n",
      "34: 37.108447407111015\n",
      "35: 36.99099564166095\n",
      "36: 37.56678248317395\n",
      "37: 38.72080479596885\n",
      "38: 39.35334466424007\n",
      "39: 40.12671225385055\n",
      "40: 40.511024609644515\n",
      "41: 39.767660120531914\n",
      "42: 40.06114896407125\n",
      "43: 40.450868372298004\n",
      "44: 40.78004515901202\n",
      "45: 41.25943455661577\n",
      "46: 41.781204549136994\n",
      "47: 41.451947524160246\n",
      "48: 41.09343064444912\n",
      "49: 40.787925866412365\n",
      "50: 40.745657585804295\n",
      "51: 40.89637416618621\n",
      "52: 41.23925693210216\n",
      "53: 40.86613918685899\n",
      "54: 41.090955129323866\n",
      "55: 41.707954160453816\n",
      "56: 42.46836557955613\n",
      "57: 42.88615657441898\n",
      "58: 42.5028394550507\n",
      "59: 42.62311455818878\n",
      "60: 42.34956464819473\n"
     ]
    },
    {
     "data": {
      "text/plain": [
       "(7, 21.144333504219816)"
      ]
     },
     "execution_count": 257,
     "metadata": {},
     "output_type": "execute_result"
    }
   ],
   "source": [
    "find_best_timeframe(dt.date(2020,1,1)-dt.timedelta(14),60,sarimax)"
   ]
  },
  {
   "cell_type": "code",
   "execution_count": 258,
   "id": "a93884f8",
   "metadata": {},
   "outputs": [
    {
     "data": {
      "text/plain": [
       "36.15269530629562"
      ]
     },
     "execution_count": 258,
     "metadata": {},
     "output_type": "execute_result"
    }
   ],
   "source": [
    "mean_absolute_percentage_error(forecast_3,y_test)"
   ]
  },
  {
   "cell_type": "markdown",
   "id": "9004fd93",
   "metadata": {},
   "source": [
    "# Cross-validate model with timeseries split"
   ]
  },
  {
   "cell_type": "code",
   "execution_count": 259,
   "id": "a80bd248",
   "metadata": {},
   "outputs": [],
   "source": [
    "from sklearn.model_selection import TimeSeriesSplit"
   ]
  },
  {
   "cell_type": "code",
   "execution_count": 260,
   "id": "49c8f0b0",
   "metadata": {},
   "outputs": [
    {
     "name": "stdout",
     "output_type": "stream",
     "text": [
      "Performing stepwise search to minimize aic\n",
      " ARIMA(0,1,0)(0,0,0)[0] intercept   : AIC=141833.593, Time=0.13 sec\n",
      " ARIMA(1,1,0)(0,0,0)[0] intercept   : AIC=138413.321, Time=0.31 sec\n",
      " ARIMA(0,1,1)(0,0,0)[0] intercept   : AIC=139619.707, Time=1.18 sec\n",
      " ARIMA(0,1,0)(0,0,0)[0]             : AIC=141831.602, Time=0.07 sec\n",
      " ARIMA(2,1,0)(0,0,0)[0] intercept   : AIC=138278.536, Time=0.53 sec\n",
      " ARIMA(2,1,1)(0,0,0)[0] intercept   : AIC=138242.282, Time=1.35 sec\n",
      " ARIMA(1,1,1)(0,0,0)[0] intercept   : AIC=138312.267, Time=0.59 sec\n",
      " ARIMA(2,1,2)(0,0,0)[0] intercept   : AIC=138223.514, Time=1.59 sec\n",
      " ARIMA(1,1,2)(0,0,0)[0] intercept   : AIC=138221.547, Time=0.62 sec\n",
      " ARIMA(0,1,2)(0,0,0)[0] intercept   : AIC=138578.717, Time=0.66 sec\n",
      " ARIMA(1,1,2)(0,0,0)[0]             : AIC=138219.556, Time=0.35 sec\n",
      " ARIMA(0,1,2)(0,0,0)[0]             : AIC=138576.724, Time=0.36 sec\n",
      " ARIMA(1,1,1)(0,0,0)[0]             : AIC=138310.277, Time=0.38 sec\n",
      " ARIMA(2,1,2)(0,0,0)[0]             : AIC=138221.523, Time=0.93 sec\n",
      " ARIMA(0,1,1)(0,0,0)[0]             : AIC=139617.715, Time=0.61 sec\n",
      " ARIMA(2,1,1)(0,0,0)[0]             : AIC=138240.289, Time=0.67 sec\n",
      "\n",
      "Best model:  ARIMA(1,1,2)(0,0,0)[0]          \n",
      "Total fit time: 10.347 seconds\n",
      "Performing stepwise search to minimize aic\n",
      " ARIMA(0,1,0)(0,0,0)[0] intercept   : AIC=283713.845, Time=0.28 sec\n",
      " ARIMA(1,1,0)(0,0,0)[0] intercept   : AIC=277516.149, Time=0.68 sec\n",
      " ARIMA(0,1,1)(0,0,0)[0] intercept   : AIC=279598.893, Time=3.26 sec\n",
      " ARIMA(0,1,0)(0,0,0)[0]             : AIC=283711.849, Time=0.19 sec\n",
      " ARIMA(2,1,0)(0,0,0)[0] intercept   : AIC=277268.223, Time=1.43 sec\n",
      " ARIMA(2,1,1)(0,0,0)[0] intercept   : AIC=277215.176, Time=4.27 sec\n",
      " ARIMA(1,1,1)(0,0,0)[0] intercept   : AIC=277323.118, Time=1.56 sec\n",
      " ARIMA(2,1,2)(0,0,0)[0] intercept   : AIC=277195.209, Time=3.06 sec\n",
      " ARIMA(1,1,2)(0,0,0)[0] intercept   : AIC=277193.668, Time=2.35 sec\n",
      " ARIMA(0,1,2)(0,0,0)[0] intercept   : AIC=277780.403, Time=1.51 sec\n",
      " ARIMA(1,1,2)(0,0,0)[0]             : AIC=277191.668, Time=0.90 sec\n",
      " ARIMA(0,1,2)(0,0,0)[0]             : AIC=277778.404, Time=0.57 sec\n",
      " ARIMA(1,1,1)(0,0,0)[0]             : AIC=277321.116, Time=0.56 sec\n",
      " ARIMA(2,1,2)(0,0,0)[0]             : AIC=277193.209, Time=0.95 sec\n",
      " ARIMA(0,1,1)(0,0,0)[0]             : AIC=279596.895, Time=0.94 sec\n",
      " ARIMA(2,1,1)(0,0,0)[0]             : AIC=277213.176, Time=1.13 sec\n",
      "\n",
      "Best model:  ARIMA(1,1,2)(0,0,0)[0]          \n",
      "Total fit time: 23.638 seconds\n",
      "Performing stepwise search to minimize aic\n",
      " ARIMA(0,1,0)(0,0,0)[0] intercept   : AIC=430450.424, Time=0.37 sec\n",
      " ARIMA(1,1,0)(0,0,0)[0] intercept   : AIC=421696.892, Time=0.93 sec\n",
      " ARIMA(0,1,1)(0,0,0)[0] intercept   : AIC=424707.537, Time=4.62 sec\n",
      " ARIMA(0,1,0)(0,0,0)[0]             : AIC=430448.461, Time=0.25 sec\n",
      " ARIMA(2,1,0)(0,0,0)[0] intercept   : AIC=421074.490, Time=1.72 sec\n",
      " ARIMA(2,1,1)(0,0,0)[0] intercept   : AIC=421055.885, Time=3.99 sec\n",
      " ARIMA(1,1,1)(0,0,0)[0] intercept   : AIC=421185.482, Time=4.16 sec\n",
      " ARIMA(2,1,2)(0,0,0)[0] intercept   : AIC=421024.569, Time=8.26 sec\n",
      " ARIMA(1,1,2)(0,0,0)[0] intercept   : AIC=421024.574, Time=5.62 sec\n",
      " ARIMA(2,1,2)(0,0,0)[0]             : AIC=421022.573, Time=1.87 sec\n",
      " ARIMA(1,1,2)(0,0,0)[0]             : AIC=421022.579, Time=1.38 sec\n",
      " ARIMA(2,1,1)(0,0,0)[0]             : AIC=421053.889, Time=1.53 sec\n",
      " ARIMA(1,1,1)(0,0,0)[0]             : AIC=421183.483, Time=0.96 sec\n",
      "\n",
      "Best model:  ARIMA(2,1,2)(0,0,0)[0]          \n",
      "Total fit time: 35.662 seconds\n",
      "Performing stepwise search to minimize aic\n",
      " ARIMA(0,1,0)(0,0,0)[0] intercept   : AIC=578292.557, Time=0.61 sec\n",
      " ARIMA(1,1,0)(0,0,0)[0] intercept   : AIC=563493.651, Time=1.47 sec\n",
      " ARIMA(0,1,1)(0,0,0)[0] intercept   : AIC=568465.824, Time=5.87 sec\n",
      " ARIMA(0,1,0)(0,0,0)[0]             : AIC=578290.696, Time=0.32 sec\n",
      " ARIMA(2,1,0)(0,0,0)[0] intercept   : AIC=563126.700, Time=2.53 sec\n",
      " ARIMA(2,1,1)(0,0,0)[0] intercept   : AIC=563079.962, Time=7.84 sec\n",
      " ARIMA(1,1,1)(0,0,0)[0] intercept   : AIC=563184.613, Time=3.31 sec\n",
      " ARIMA(2,1,2)(0,0,0)[0] intercept   : AIC=563048.939, Time=8.68 sec\n",
      " ARIMA(1,1,2)(0,0,0)[0] intercept   : AIC=563047.087, Time=5.74 sec\n",
      " ARIMA(0,1,2)(0,0,0)[0] intercept   : AIC=564747.934, Time=3.45 sec\n",
      " ARIMA(1,1,2)(0,0,0)[0]             : AIC=563045.110, Time=1.89 sec\n",
      " ARIMA(0,1,2)(0,0,0)[0]             : AIC=564745.985, Time=1.08 sec\n",
      " ARIMA(1,1,1)(0,0,0)[0]             : AIC=563182.630, Time=1.04 sec\n",
      " ARIMA(2,1,2)(0,0,0)[0]             : AIC=563046.963, Time=2.46 sec\n",
      " ARIMA(0,1,1)(0,0,0)[0]             : AIC=568463.907, Time=1.48 sec\n",
      " ARIMA(2,1,1)(0,0,0)[0]             : AIC=563077.983, Time=2.05 sec\n",
      "\n",
      "Best model:  ARIMA(1,1,2)(0,0,0)[0]          \n",
      "Total fit time: 49.836 seconds\n",
      "Performing stepwise search to minimize aic\n",
      " ARIMA(0,1,0)(0,0,0)[0] intercept   : AIC=729289.884, Time=0.56 sec\n",
      " ARIMA(1,1,0)(0,0,0)[0] intercept   : AIC=713191.495, Time=1.36 sec\n",
      " ARIMA(0,1,1)(0,0,0)[0] intercept   : AIC=718546.486, Time=5.86 sec\n",
      " ARIMA(0,1,0)(0,0,0)[0]             : AIC=729287.885, Time=0.36 sec\n",
      " ARIMA(2,1,0)(0,0,0)[0] intercept   : AIC=712519.100, Time=2.17 sec\n",
      " ARIMA(2,1,1)(0,0,0)[0] intercept   : AIC=712481.156, Time=6.33 sec\n",
      " ARIMA(1,1,1)(0,0,0)[0] intercept   : AIC=712626.456, Time=3.41 sec\n",
      " ARIMA(2,1,2)(0,0,0)[0] intercept   : AIC=712433.608, Time=10.05 sec\n",
      " ARIMA(1,1,2)(0,0,0)[0] intercept   : AIC=712433.092, Time=5.53 sec\n",
      " ARIMA(0,1,2)(0,0,0)[0] intercept   : AIC=714362.948, Time=3.65 sec\n",
      " ARIMA(1,1,2)(0,0,0)[0]             : AIC=712431.092, Time=1.85 sec\n",
      " ARIMA(0,1,2)(0,0,0)[0]             : AIC=714360.948, Time=1.21 sec\n",
      " ARIMA(1,1,1)(0,0,0)[0]             : AIC=712624.456, Time=1.23 sec\n",
      " ARIMA(2,1,2)(0,0,0)[0]             : AIC=712431.608, Time=2.93 sec\n",
      " ARIMA(0,1,1)(0,0,0)[0]             : AIC=718544.486, Time=1.81 sec\n",
      " ARIMA(2,1,1)(0,0,0)[0]             : AIC=712479.156, Time=2.29 sec\n",
      "\n",
      "Best model:  ARIMA(1,1,2)(0,0,0)[0]          \n",
      "Total fit time: 50.593 seconds\n"
     ]
    }
   ],
   "source": [
    "n_splits = 5\n",
    "\n",
    "tscv = TimeSeriesSplit(n_splits)\n",
    "\n",
    "for train_index, test_index in tscv.split(y):\n",
    "    smodel = pm.auto_arima(y[train_index],\n",
    "                       start_p=0, max_p=2,\n",
    "                       start_q=0, max_q=2,\n",
    "                       error_action='ignore',\n",
    "                       suppress_warnings=True,\n",
    "                       trace=True)"
   ]
  },
  {
   "cell_type": "code",
   "execution_count": null,
   "id": "0e71c2e9",
   "metadata": {},
   "outputs": [],
   "source": [
    "from sklearn.model_selection import TimeSeriesSplit\n",
    "import itertools\n",
    "import warnings\n",
    "\n",
    "warnings.filterwarnings('ignore')\n",
    "\n",
    "\n",
    "p = d = q = [0,1,2]\n",
    "\n",
    "seasonal_pdq = [(x[0],x[1],x[2],12) for x in list(itertools.product(p,d,q))]\n",
    "\n",
    "grid = itertools.product(p, d, q)\n",
    "orders = []\n",
    "seasonals = []\n",
    "r2s = []\n",
    "aics = []\n",
    "fold_idxs = []\n",
    "\n",
    "for (p,d,q) in grid:\n",
    "    for param_seasonal in seasonal_pdq:\n",
    "        order = (p,d,q)\n",
    "        seasonal = param_seasonal\n",
    "        folds = TimeSeriesSplit(n_splits=3)\n",
    "        \n",
    "        for fold_idx, (train_idx, test_idx) in enumerate(folds.split(y)):\n",
    "            fold_idxs.append(fold_idx)\n",
    "            y_train = y[train_idx]\n",
    "            y_test = y[test_idx]\n",
    "            model = SARIMAX(y_train, \n",
    "                            order=order,\n",
    "                            seasonal_order=param_seasonal,\n",
    "                            enforce_stationarity=False,\n",
    "                            enforce_invertibility=False)\n",
    "            results = model.fit()\n",
    "            # y_pred = model.forecast(len(y_test))[0] for unknown reason this crash\n",
    "            # r2s.append(r2_score(y_pred, y_true))\n",
    "            orders.append(order)\n",
    "            seasonals.append(seasonal)\n",
    "            aics.append(results.aic)       \n",
    "        \n",
    "df = pd.DataFrame(list(zip(fold_idxs, orders, seasonals, aics)),#, r2s)), \n",
    "                   columns =['Fold', '(p,d,q)', 'seasonals','AIC'])#, 'R2'])"
   ]
  },
  {
   "cell_type": "code",
   "execution_count": null,
   "id": "5dd31b21",
   "metadata": {},
   "outputs": [],
   "source": [
    "df.head()"
   ]
  },
  {
   "cell_type": "code",
   "execution_count": 262,
   "id": "f007cf23",
   "metadata": {},
   "outputs": [
    {
     "data": {
      "text/plain": [
       "(p,d,q)\n",
       "(2, 1, 2)    422186.890835\n",
       "(1, 1, 2)    422378.656133\n",
       "(2, 2, 2)    422404.823900\n",
       "(2, 1, 1)    422409.560057\n",
       "(2, 2, 1)    422443.496893\n",
       "(2, 1, 0)    422448.052632\n",
       "(1, 2, 2)    422516.786095\n",
       "(1, 1, 1)    422521.007782\n",
       "(1, 2, 1)    422852.652480\n",
       "(1, 1, 0)    422856.988237\n",
       "(0, 1, 2)    423511.110256\n",
       "(0, 2, 2)    425482.901113\n",
       "(0, 2, 1)    425886.688244\n",
       "(0, 1, 1)    426185.309629\n",
       "(2, 2, 0)    426299.599622\n",
       "(1, 2, 0)    426611.156774\n",
       "(0, 2, 0)    429406.666440\n",
       "(0, 1, 0)    432716.060641\n",
       "Name: AIC, dtype: float64"
      ]
     },
     "execution_count": 262,
     "metadata": {},
     "output_type": "execute_result"
    }
   ],
   "source": [
    "df.sort_values('AIC').groupby('(p,d,q)').mean()['AIC'].sort_values()"
   ]
  },
  {
   "cell_type": "code",
   "execution_count": 266,
   "id": "7f39a6cc",
   "metadata": {},
   "outputs": [
    {
     "data": {
      "text/plain": [
       "422186.89083512314"
      ]
     },
     "execution_count": 266,
     "metadata": {},
     "output_type": "execute_result"
    }
   ],
   "source": [
    "df.sort_values('AIC').groupby('(p,d,q)').mean()['AIC'].min()"
   ]
  },
  {
   "cell_type": "code",
   "execution_count": 265,
   "id": "c99fb55a",
   "metadata": {},
   "outputs": [
    {
     "name": "stdout",
     "output_type": "stream",
     "text": [
      "train_index (8772,)\n",
      "test_index (8772,)\n",
      "train_index (17544,)\n",
      "test_index (8772,)\n",
      "train_index (26316,)\n",
      "test_index (8772,)\n",
      "train_index (35088,)\n",
      "test_index (8772,)\n",
      "train_index (43860,)\n",
      "test_index (8772,)\n"
     ]
    }
   ],
   "source": [
    "for train_index, test_index in tscv.split(y):\n",
    "    print('train_index', train_index.shape)\n",
    "    print('test_index', test_index.shape)"
   ]
  },
  {
   "cell_type": "code",
   "execution_count": null,
   "id": "ce3ccfb8",
   "metadata": {},
   "outputs": [],
   "source": [
    "model = pm.auto_arima(df_train['Sales'],\n",
    "                      m=12, # frequency of series. Important to choose manually\n",
    "                      seasonal=True,\n",
    "                      stepwise=True,  # only check most interesting combination. False will take way longer.\n",
    "                      start_p=0, max_p=2,\n",
    "                      start_d=0, max_d=1,\n",
    "                      start_q=0, max_q=2,\n",
    "                      start_P=0, max_P=2,\n",
    "                      start_D=0, max_D=2,\n",
    "                      start_Q=0, max_Q=2,\n",
    "                      njobs=-1, trace=True, error_action='ignore',  suppress_warnings=True)\n",
    "print(model.summary())"
   ]
  }
 ],
 "metadata": {
  "kernelspec": {
   "display_name": "Python 3",
   "language": "python",
   "name": "python3"
  },
  "language_info": {
   "codemirror_mode": {
    "name": "ipython",
    "version": 3
   },
   "file_extension": ".py",
   "mimetype": "text/x-python",
   "name": "python",
   "nbconvert_exporter": "python",
   "pygments_lexer": "ipython3",
   "version": "3.8.6"
  },
  "toc": {
   "base_numbering": 1,
   "nav_menu": {},
   "number_sections": true,
   "sideBar": true,
   "skip_h1_title": false,
   "title_cell": "Table of Contents",
   "title_sidebar": "Contents",
   "toc_cell": false,
   "toc_position": {},
   "toc_section_display": true,
   "toc_window_display": false
  }
 },
 "nbformat": 4,
 "nbformat_minor": 5
}
