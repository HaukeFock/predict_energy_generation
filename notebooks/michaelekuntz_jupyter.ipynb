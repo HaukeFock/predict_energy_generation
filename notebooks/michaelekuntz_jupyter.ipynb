{
 "cells": [
  {
   "cell_type": "markdown",
   "id": "23b4438e",
   "metadata": {},
   "source": [
    "# Importing relevant packages"
   ]
  },
  {
   "cell_type": "code",
   "execution_count": 54,
   "id": "d196f65d",
   "metadata": {},
   "outputs": [
    {
     "ename": "ModuleNotFoundError",
     "evalue": "No module named 'matplotlib'",
     "output_type": "error",
     "traceback": [
      "\u001b[0;31m---------------------------------------------------------------------------\u001b[0m",
      "\u001b[0;31mModuleNotFoundError\u001b[0m                       Traceback (most recent call last)",
      "\u001b[0;32m<ipython-input-54-f4c52fd474d4>\u001b[0m in \u001b[0;36m<module>\u001b[0;34m\u001b[0m\n\u001b[1;32m      2\u001b[0m \u001b[0;32mimport\u001b[0m \u001b[0mpandas\u001b[0m \u001b[0;32mas\u001b[0m \u001b[0mpd\u001b[0m\u001b[0;34m\u001b[0m\u001b[0;34m\u001b[0m\u001b[0m\n\u001b[1;32m      3\u001b[0m \u001b[0;32mimport\u001b[0m \u001b[0mnumpy\u001b[0m \u001b[0;32mas\u001b[0m \u001b[0mnp\u001b[0m\u001b[0;34m\u001b[0m\u001b[0;34m\u001b[0m\u001b[0m\n\u001b[0;32m----> 4\u001b[0;31m \u001b[0;32mimport\u001b[0m \u001b[0mmatplotlib\u001b[0m\u001b[0;34m.\u001b[0m\u001b[0mpyplot\u001b[0m \u001b[0;32mas\u001b[0m \u001b[0mplt\u001b[0m\u001b[0;34m\u001b[0m\u001b[0;34m\u001b[0m\u001b[0m\n\u001b[0m\u001b[1;32m      5\u001b[0m \u001b[0;32mimport\u001b[0m \u001b[0mseaborn\u001b[0m \u001b[0;32mas\u001b[0m \u001b[0msns\u001b[0m\u001b[0;34m\u001b[0m\u001b[0;34m\u001b[0m\u001b[0m\n",
      "\u001b[0;31mModuleNotFoundError\u001b[0m: No module named 'matplotlib'"
     ]
    }
   ],
   "source": [
    "import os\n",
    "import pandas as pd\n",
    "import numpy as np\n",
    "import matplotlib.pyplot as plt\n",
    "import seaborn as sns"
   ]
  },
  {
   "cell_type": "markdown",
   "id": "54058767",
   "metadata": {},
   "source": [
    "# Create dataframe from csv-files"
   ]
  },
  {
   "cell_type": "code",
   "execution_count": 9,
   "id": "2c0a930f",
   "metadata": {},
   "outputs": [
    {
     "data": {
      "text/plain": [
       "'/Users/michael.kuntz/code/HaukeFock/predict_energy_generation/notebooks/../raw_data'"
      ]
     },
     "execution_count": 9,
     "metadata": {},
     "output_type": "execute_result"
    }
   ],
   "source": [
    "os.path.join(os.getcwd(),\"../raw_data\""
   ]
  },
  {
   "cell_type": "code",
   "execution_count": 27,
   "id": "a9d52e0d",
   "metadata": {},
   "outputs": [],
   "source": [
    "os.chdir(os.path.join(os.path.dirname(os.getcwd()),\"cdc_download_2021-05-20_19-21/data\"))"
   ]
  },
  {
   "cell_type": "code",
   "execution_count": 28,
   "id": "173549f5",
   "metadata": {},
   "outputs": [
    {
     "data": {
      "text/plain": [
       "'/Users/michael.kuntz/code/HaukeFock/predict_energy_generation/raw_data/cdc_download_2021-05-20_19-21/data'"
      ]
     },
     "execution_count": 28,
     "metadata": {},
     "output_type": "execute_result"
    }
   ],
   "source": [
    "os.getcwd()"
   ]
  },
  {
   "cell_type": "code",
   "execution_count": 29,
   "id": "1ed21d28",
   "metadata": {},
   "outputs": [
    {
     "name": "stdout",
     "output_type": "stream",
     "text": [
      "/Users/michael.kuntz/code/HaukeFock/predict_energy_generation/raw_data/cdc_download_2021-05-20_19-21/data\n",
      "data_OBS_DEU_P1D_F.csv\n",
      "sdo_OBS_DEU_P1D_F.csv\n",
      "prd.csv\n"
     ]
    }
   ],
   "source": [
    "for path, dirs, files in os.walk(os.getcwd()):\n",
    "  print(path)\n",
    "  for f in files:\n",
    "    print(f)"
   ]
  },
  {
   "cell_type": "code",
   "execution_count": 44,
   "id": "67f8b6d6",
   "metadata": {},
   "outputs": [
    {
     "data": {
      "text/html": [
       "<div>\n",
       "<style scoped>\n",
       "    .dataframe tbody tr th:only-of-type {\n",
       "        vertical-align: middle;\n",
       "    }\n",
       "\n",
       "    .dataframe tbody tr th {\n",
       "        vertical-align: top;\n",
       "    }\n",
       "\n",
       "    .dataframe thead th {\n",
       "        text-align: right;\n",
       "    }\n",
       "</style>\n",
       "<table border=\"1\" class=\"dataframe\">\n",
       "  <thead>\n",
       "    <tr style=\"text-align: right;\">\n",
       "      <th></th>\n",
       "      <th>Produkt_Code</th>\n",
       "      <th>SDO_ID</th>\n",
       "      <th>Zeitstempel</th>\n",
       "      <th>Wert</th>\n",
       "      <th>Qualitaet_Byte</th>\n",
       "      <th>Qualitaet_Niveau</th>\n",
       "    </tr>\n",
       "  </thead>\n",
       "  <tbody>\n",
       "    <tr>\n",
       "      <th>0</th>\n",
       "      <td>OBS_DEU_P1D_F</td>\n",
       "      <td>1001</td>\n",
       "      <td>2015-01-01</td>\n",
       "      <td>3.3</td>\n",
       "      <td>4</td>\n",
       "      <td>10</td>\n",
       "    </tr>\n",
       "    <tr>\n",
       "      <th>1</th>\n",
       "      <td>OBS_DEU_P1D_F</td>\n",
       "      <td>1001</td>\n",
       "      <td>2015-01-02</td>\n",
       "      <td>6.8</td>\n",
       "      <td>4</td>\n",
       "      <td>10</td>\n",
       "    </tr>\n",
       "    <tr>\n",
       "      <th>2</th>\n",
       "      <td>OBS_DEU_P1D_F</td>\n",
       "      <td>1001</td>\n",
       "      <td>2015-01-03</td>\n",
       "      <td>7.0</td>\n",
       "      <td>4</td>\n",
       "      <td>10</td>\n",
       "    </tr>\n",
       "    <tr>\n",
       "      <th>3</th>\n",
       "      <td>OBS_DEU_P1D_F</td>\n",
       "      <td>1001</td>\n",
       "      <td>2015-01-04</td>\n",
       "      <td>7.8</td>\n",
       "      <td>4</td>\n",
       "      <td>10</td>\n",
       "    </tr>\n",
       "    <tr>\n",
       "      <th>4</th>\n",
       "      <td>OBS_DEU_P1D_F</td>\n",
       "      <td>1001</td>\n",
       "      <td>2015-01-05</td>\n",
       "      <td>6.1</td>\n",
       "      <td>4</td>\n",
       "      <td>10</td>\n",
       "    </tr>\n",
       "  </tbody>\n",
       "</table>\n",
       "</div>"
      ],
      "text/plain": [
       "    Produkt_Code  SDO_ID Zeitstempel  Wert  Qualitaet_Byte  Qualitaet_Niveau\n",
       "0  OBS_DEU_P1D_F    1001  2015-01-01   3.3               4                10\n",
       "1  OBS_DEU_P1D_F    1001  2015-01-02   6.8               4                10\n",
       "2  OBS_DEU_P1D_F    1001  2015-01-03   7.0               4                10\n",
       "3  OBS_DEU_P1D_F    1001  2015-01-04   7.8               4                10\n",
       "4  OBS_DEU_P1D_F    1001  2015-01-05   6.1               4                10"
      ]
     },
     "execution_count": 44,
     "metadata": {},
     "output_type": "execute_result"
    }
   ],
   "source": [
    "data_OBS_DEU_P1D_F_df = pd.read_csv('data_OBS_DEU_P1D_F.csv', index_col=False)\n",
    "data_OBS_DEU_P1D_F_df.head()"
   ]
  },
  {
   "cell_type": "code",
   "execution_count": 45,
   "id": "89521166",
   "metadata": {},
   "outputs": [
    {
     "data": {
      "text/html": [
       "<div>\n",
       "<style scoped>\n",
       "    .dataframe tbody tr th:only-of-type {\n",
       "        vertical-align: middle;\n",
       "    }\n",
       "\n",
       "    .dataframe tbody tr th {\n",
       "        vertical-align: top;\n",
       "    }\n",
       "\n",
       "    .dataframe thead th {\n",
       "        text-align: right;\n",
       "    }\n",
       "</style>\n",
       "<table border=\"1\" class=\"dataframe\">\n",
       "  <thead>\n",
       "    <tr style=\"text-align: right;\">\n",
       "      <th></th>\n",
       "      <th>SDO_ID</th>\n",
       "      <th>SDO_Name</th>\n",
       "      <th>Geogr_Laenge</th>\n",
       "      <th>Geogr_Breite</th>\n",
       "      <th>Hoehe_ueber_NN</th>\n",
       "      <th>Metadata_Link</th>\n",
       "    </tr>\n",
       "  </thead>\n",
       "  <tbody>\n",
       "    <tr>\n",
       "      <th>0</th>\n",
       "      <td>2100</td>\n",
       "      <td>Helgoland-Düne</td>\n",
       "      <td>7.911932</td>\n",
       "      <td>54.185992</td>\n",
       "      <td>4.0</td>\n",
       "      <td>https://cdc.dwd.de/rest/metadata/station/html/...</td>\n",
       "    </tr>\n",
       "    <tr>\n",
       "      <th>1</th>\n",
       "      <td>15978</td>\n",
       "      <td>Sembach</td>\n",
       "      <td>7.861829</td>\n",
       "      <td>49.504430</td>\n",
       "      <td>316.0</td>\n",
       "      <td>https://cdc.dwd.de/rest/metadata/station/html/...</td>\n",
       "    </tr>\n",
       "    <tr>\n",
       "      <th>2</th>\n",
       "      <td>19171</td>\n",
       "      <td>Hasenkrug-Hardebek</td>\n",
       "      <td>9.855267</td>\n",
       "      <td>54.003766</td>\n",
       "      <td>13.0</td>\n",
       "      <td>https://cdc.dwd.de/rest/metadata/station/html/...</td>\n",
       "    </tr>\n",
       "    <tr>\n",
       "      <th>3</th>\n",
       "      <td>15801</td>\n",
       "      <td>Hinterschmiding-Sonndorf</td>\n",
       "      <td>13.592152</td>\n",
       "      <td>48.825689</td>\n",
       "      <td>717.0</td>\n",
       "      <td>https://cdc.dwd.de/rest/metadata/station/html/...</td>\n",
       "    </tr>\n",
       "    <tr>\n",
       "      <th>4</th>\n",
       "      <td>15976</td>\n",
       "      <td>Ober-Olm/Bellem</td>\n",
       "      <td>8.210699</td>\n",
       "      <td>49.952867</td>\n",
       "      <td>216.0</td>\n",
       "      <td>https://cdc.dwd.de/rest/metadata/station/html/...</td>\n",
       "    </tr>\n",
       "  </tbody>\n",
       "</table>\n",
       "</div>"
      ],
      "text/plain": [
       "   SDO_ID                  SDO_Name  Geogr_Laenge  Geogr_Breite  \\\n",
       "0    2100            Helgoland-Düne      7.911932     54.185992   \n",
       "1   15978                   Sembach      7.861829     49.504430   \n",
       "2   19171        Hasenkrug-Hardebek      9.855267     54.003766   \n",
       "3   15801  Hinterschmiding-Sonndorf     13.592152     48.825689   \n",
       "4   15976           Ober-Olm/Bellem      8.210699     49.952867   \n",
       "\n",
       "   Hoehe_ueber_NN                                      Metadata_Link  \n",
       "0             4.0  https://cdc.dwd.de/rest/metadata/station/html/...  \n",
       "1           316.0  https://cdc.dwd.de/rest/metadata/station/html/...  \n",
       "2            13.0  https://cdc.dwd.de/rest/metadata/station/html/...  \n",
       "3           717.0  https://cdc.dwd.de/rest/metadata/station/html/...  \n",
       "4           216.0  https://cdc.dwd.de/rest/metadata/station/html/...  "
      ]
     },
     "execution_count": 45,
     "metadata": {},
     "output_type": "execute_result"
    }
   ],
   "source": [
    "sdo_OBS_DEU_P1D_F_df = pd.read_csv('sdo_OBS_DEU_P1D_F.csv', index_col=False)\n",
    "sdo_OBS_DEU_P1D_F_df.head()"
   ]
  },
  {
   "cell_type": "code",
   "execution_count": 35,
   "id": "a1679135",
   "metadata": {},
   "outputs": [
    {
     "data": {
      "text/html": [
       "<div>\n",
       "<style scoped>\n",
       "    .dataframe tbody tr th:only-of-type {\n",
       "        vertical-align: middle;\n",
       "    }\n",
       "\n",
       "    .dataframe tbody tr th {\n",
       "        vertical-align: top;\n",
       "    }\n",
       "\n",
       "    .dataframe thead th {\n",
       "        text-align: right;\n",
       "    }\n",
       "</style>\n",
       "<table border=\"1\" class=\"dataframe\">\n",
       "  <thead>\n",
       "    <tr style=\"text-align: right;\">\n",
       "      <th></th>\n",
       "      <th>Produkt_Code</th>\n",
       "      <th>Produkt_Titel</th>\n",
       "      <th>Einheit</th>\n",
       "      <th>Beschreibung_DWD</th>\n",
       "      <th>Beschreibung_Inspire</th>\n",
       "    </tr>\n",
       "  </thead>\n",
       "  <tbody>\n",
       "    <tr>\n",
       "      <th>0</th>\n",
       "      <td>OBS_DEU_P1D_F</td>\n",
       "      <td>Daily mean of station observations of wind spe...</td>\n",
       "      <td>m/s</td>\n",
       "      <td>https://cdc.dwd.de/sdi/pid/OBS_DEU_P1D_F/DESCR...</td>\n",
       "      <td>https://cdc.dwd.de/sdi/pid/OBS_DEU_P1D_F/ISO_O...</td>\n",
       "    </tr>\n",
       "  </tbody>\n",
       "</table>\n",
       "</div>"
      ],
      "text/plain": [
       "    Produkt_Code                                      Produkt_Titel Einheit  \\\n",
       "0  OBS_DEU_P1D_F  Daily mean of station observations of wind spe...     m/s   \n",
       "\n",
       "                                    Beschreibung_DWD  \\\n",
       "0  https://cdc.dwd.de/sdi/pid/OBS_DEU_P1D_F/DESCR...   \n",
       "\n",
       "                                Beschreibung_Inspire  \n",
       "0  https://cdc.dwd.de/sdi/pid/OBS_DEU_P1D_F/ISO_O...  "
      ]
     },
     "execution_count": 35,
     "metadata": {},
     "output_type": "execute_result"
    }
   ],
   "source": [
    "prd_df = pd.read_csv('prd.csv')\n",
    "prd_df.head()"
   ]
  },
  {
   "cell_type": "markdown",
   "id": "1731acda",
   "metadata": {},
   "source": [
    "# Merge dataframes"
   ]
  },
  {
   "cell_type": "code",
   "execution_count": 51,
   "id": "c16c20fe",
   "metadata": {},
   "outputs": [
    {
     "data": {
      "text/html": [
       "<div>\n",
       "<style scoped>\n",
       "    .dataframe tbody tr th:only-of-type {\n",
       "        vertical-align: middle;\n",
       "    }\n",
       "\n",
       "    .dataframe tbody tr th {\n",
       "        vertical-align: top;\n",
       "    }\n",
       "\n",
       "    .dataframe thead th {\n",
       "        text-align: right;\n",
       "    }\n",
       "</style>\n",
       "<table border=\"1\" class=\"dataframe\">\n",
       "  <thead>\n",
       "    <tr style=\"text-align: right;\">\n",
       "      <th></th>\n",
       "      <th>Produkt_Code</th>\n",
       "      <th>SDO_ID</th>\n",
       "      <th>Zeitstempel</th>\n",
       "      <th>Wert</th>\n",
       "      <th>Qualitaet_Byte</th>\n",
       "      <th>Qualitaet_Niveau</th>\n",
       "      <th>SDO_Name</th>\n",
       "      <th>Geogr_Laenge</th>\n",
       "      <th>Geogr_Breite</th>\n",
       "      <th>Hoehe_ueber_NN</th>\n",
       "      <th>Metadata_Link</th>\n",
       "    </tr>\n",
       "  </thead>\n",
       "  <tbody>\n",
       "    <tr>\n",
       "      <th>0</th>\n",
       "      <td>OBS_DEU_P1D_F</td>\n",
       "      <td>1001</td>\n",
       "      <td>2015-01-01</td>\n",
       "      <td>3.3</td>\n",
       "      <td>4</td>\n",
       "      <td>10</td>\n",
       "      <td>Doberlug-Kirchhain</td>\n",
       "      <td>13.574714</td>\n",
       "      <td>51.645071</td>\n",
       "      <td>97.0</td>\n",
       "      <td>https://cdc.dwd.de/rest/metadata/station/html/...</td>\n",
       "    </tr>\n",
       "    <tr>\n",
       "      <th>1</th>\n",
       "      <td>OBS_DEU_P1D_F</td>\n",
       "      <td>1001</td>\n",
       "      <td>2015-01-02</td>\n",
       "      <td>6.8</td>\n",
       "      <td>4</td>\n",
       "      <td>10</td>\n",
       "      <td>Doberlug-Kirchhain</td>\n",
       "      <td>13.574714</td>\n",
       "      <td>51.645071</td>\n",
       "      <td>97.0</td>\n",
       "      <td>https://cdc.dwd.de/rest/metadata/station/html/...</td>\n",
       "    </tr>\n",
       "    <tr>\n",
       "      <th>2</th>\n",
       "      <td>OBS_DEU_P1D_F</td>\n",
       "      <td>1001</td>\n",
       "      <td>2015-01-03</td>\n",
       "      <td>7.0</td>\n",
       "      <td>4</td>\n",
       "      <td>10</td>\n",
       "      <td>Doberlug-Kirchhain</td>\n",
       "      <td>13.574714</td>\n",
       "      <td>51.645071</td>\n",
       "      <td>97.0</td>\n",
       "      <td>https://cdc.dwd.de/rest/metadata/station/html/...</td>\n",
       "    </tr>\n",
       "    <tr>\n",
       "      <th>3</th>\n",
       "      <td>OBS_DEU_P1D_F</td>\n",
       "      <td>1001</td>\n",
       "      <td>2015-01-04</td>\n",
       "      <td>7.8</td>\n",
       "      <td>4</td>\n",
       "      <td>10</td>\n",
       "      <td>Doberlug-Kirchhain</td>\n",
       "      <td>13.574714</td>\n",
       "      <td>51.645071</td>\n",
       "      <td>97.0</td>\n",
       "      <td>https://cdc.dwd.de/rest/metadata/station/html/...</td>\n",
       "    </tr>\n",
       "    <tr>\n",
       "      <th>4</th>\n",
       "      <td>OBS_DEU_P1D_F</td>\n",
       "      <td>1001</td>\n",
       "      <td>2015-01-05</td>\n",
       "      <td>6.1</td>\n",
       "      <td>4</td>\n",
       "      <td>10</td>\n",
       "      <td>Doberlug-Kirchhain</td>\n",
       "      <td>13.574714</td>\n",
       "      <td>51.645071</td>\n",
       "      <td>97.0</td>\n",
       "      <td>https://cdc.dwd.de/rest/metadata/station/html/...</td>\n",
       "    </tr>\n",
       "  </tbody>\n",
       "</table>\n",
       "</div>"
      ],
      "text/plain": [
       "    Produkt_Code  SDO_ID Zeitstempel  Wert  Qualitaet_Byte  Qualitaet_Niveau  \\\n",
       "0  OBS_DEU_P1D_F    1001  2015-01-01   3.3               4                10   \n",
       "1  OBS_DEU_P1D_F    1001  2015-01-02   6.8               4                10   \n",
       "2  OBS_DEU_P1D_F    1001  2015-01-03   7.0               4                10   \n",
       "3  OBS_DEU_P1D_F    1001  2015-01-04   7.8               4                10   \n",
       "4  OBS_DEU_P1D_F    1001  2015-01-05   6.1               4                10   \n",
       "\n",
       "             SDO_Name  Geogr_Laenge  Geogr_Breite  Hoehe_ueber_NN  \\\n",
       "0  Doberlug-Kirchhain     13.574714     51.645071            97.0   \n",
       "1  Doberlug-Kirchhain     13.574714     51.645071            97.0   \n",
       "2  Doberlug-Kirchhain     13.574714     51.645071            97.0   \n",
       "3  Doberlug-Kirchhain     13.574714     51.645071            97.0   \n",
       "4  Doberlug-Kirchhain     13.574714     51.645071            97.0   \n",
       "\n",
       "                                       Metadata_Link  \n",
       "0  https://cdc.dwd.de/rest/metadata/station/html/...  \n",
       "1  https://cdc.dwd.de/rest/metadata/station/html/...  \n",
       "2  https://cdc.dwd.de/rest/metadata/station/html/...  \n",
       "3  https://cdc.dwd.de/rest/metadata/station/html/...  \n",
       "4  https://cdc.dwd.de/rest/metadata/station/html/...  "
      ]
     },
     "execution_count": 51,
     "metadata": {},
     "output_type": "execute_result"
    }
   ],
   "source": [
    "merged_df = data_OBS_DEU_P1D_F_df.merge(sdo_OBS_DEU_P1D_F_df,left_on = 'SDO_ID',right_on = 'SDO_ID')\n",
    "merged_df.head()"
   ]
  },
  {
   "cell_type": "markdown",
   "id": "6d99f044",
   "metadata": {},
   "source": [
    "# Analyze and visualize data"
   ]
  },
  {
   "cell_type": "code",
   "execution_count": 52,
   "id": "2dca431f",
   "metadata": {
    "scrolled": true
   },
   "outputs": [
    {
     "data": {
      "text/html": [
       "<div>\n",
       "<style scoped>\n",
       "    .dataframe tbody tr th:only-of-type {\n",
       "        vertical-align: middle;\n",
       "    }\n",
       "\n",
       "    .dataframe tbody tr th {\n",
       "        vertical-align: top;\n",
       "    }\n",
       "\n",
       "    .dataframe thead th {\n",
       "        text-align: right;\n",
       "    }\n",
       "</style>\n",
       "<table border=\"1\" class=\"dataframe\">\n",
       "  <thead>\n",
       "    <tr style=\"text-align: right;\">\n",
       "      <th></th>\n",
       "      <th>SDO_ID</th>\n",
       "      <th>Wert</th>\n",
       "      <th>Qualitaet_Byte</th>\n",
       "      <th>Qualitaet_Niveau</th>\n",
       "      <th>Geogr_Laenge</th>\n",
       "      <th>Geogr_Breite</th>\n",
       "      <th>Hoehe_ueber_NN</th>\n",
       "    </tr>\n",
       "  </thead>\n",
       "  <tbody>\n",
       "    <tr>\n",
       "      <th>count</th>\n",
       "      <td>646965.000000</td>\n",
       "      <td>646965.000000</td>\n",
       "      <td>646965.0</td>\n",
       "      <td>646965.000000</td>\n",
       "      <td>646965.000000</td>\n",
       "      <td>646965.000000</td>\n",
       "      <td>646965.000000</td>\n",
       "    </tr>\n",
       "    <tr>\n",
       "      <th>mean</th>\n",
       "      <td>4283.256510</td>\n",
       "      <td>3.684737</td>\n",
       "      <td>4.0</td>\n",
       "      <td>9.622385</td>\n",
       "      <td>10.282830</td>\n",
       "      <td>51.007059</td>\n",
       "      <td>304.685005</td>\n",
       "    </tr>\n",
       "    <tr>\n",
       "      <th>std</th>\n",
       "      <td>3585.670355</td>\n",
       "      <td>2.214106</td>\n",
       "      <td>0.0</td>\n",
       "      <td>1.508159</td>\n",
       "      <td>2.095711</td>\n",
       "      <td>2.088087</td>\n",
       "      <td>323.642159</td>\n",
       "    </tr>\n",
       "    <tr>\n",
       "      <th>min</th>\n",
       "      <td>11.000000</td>\n",
       "      <td>0.000000</td>\n",
       "      <td>4.0</td>\n",
       "      <td>1.000000</td>\n",
       "      <td>6.024390</td>\n",
       "      <td>47.398429</td>\n",
       "      <td>0.000000</td>\n",
       "    </tr>\n",
       "    <tr>\n",
       "      <th>25%</th>\n",
       "      <td>1757.000000</td>\n",
       "      <td>2.200000</td>\n",
       "      <td>4.0</td>\n",
       "      <td>10.000000</td>\n",
       "      <td>8.697270</td>\n",
       "      <td>49.212803</td>\n",
       "      <td>51.000000</td>\n",
       "    </tr>\n",
       "    <tr>\n",
       "      <th>50%</th>\n",
       "      <td>3402.000000</td>\n",
       "      <td>3.100000</td>\n",
       "      <td>4.0</td>\n",
       "      <td>10.000000</td>\n",
       "      <td>10.142375</td>\n",
       "      <td>50.982859</td>\n",
       "      <td>241.000000</td>\n",
       "    </tr>\n",
       "    <tr>\n",
       "      <th>75%</th>\n",
       "      <td>5715.000000</td>\n",
       "      <td>4.600000</td>\n",
       "      <td>4.0</td>\n",
       "      <td>10.000000</td>\n",
       "      <td>12.032303</td>\n",
       "      <td>52.619829</td>\n",
       "      <td>450.000000</td>\n",
       "    </tr>\n",
       "    <tr>\n",
       "      <th>max</th>\n",
       "      <td>19171.000000</td>\n",
       "      <td>30.100000</td>\n",
       "      <td>4.0</td>\n",
       "      <td>10.000000</td>\n",
       "      <td>14.950565</td>\n",
       "      <td>55.010989</td>\n",
       "      <td>2965.000000</td>\n",
       "    </tr>\n",
       "  </tbody>\n",
       "</table>\n",
       "</div>"
      ],
      "text/plain": [
       "              SDO_ID           Wert  Qualitaet_Byte  Qualitaet_Niveau  \\\n",
       "count  646965.000000  646965.000000        646965.0     646965.000000   \n",
       "mean     4283.256510       3.684737             4.0          9.622385   \n",
       "std      3585.670355       2.214106             0.0          1.508159   \n",
       "min        11.000000       0.000000             4.0          1.000000   \n",
       "25%      1757.000000       2.200000             4.0         10.000000   \n",
       "50%      3402.000000       3.100000             4.0         10.000000   \n",
       "75%      5715.000000       4.600000             4.0         10.000000   \n",
       "max     19171.000000      30.100000             4.0         10.000000   \n",
       "\n",
       "        Geogr_Laenge   Geogr_Breite  Hoehe_ueber_NN  \n",
       "count  646965.000000  646965.000000   646965.000000  \n",
       "mean       10.282830      51.007059      304.685005  \n",
       "std         2.095711       2.088087      323.642159  \n",
       "min         6.024390      47.398429        0.000000  \n",
       "25%         8.697270      49.212803       51.000000  \n",
       "50%        10.142375      50.982859      241.000000  \n",
       "75%        12.032303      52.619829      450.000000  \n",
       "max        14.950565      55.010989     2965.000000  "
      ]
     },
     "execution_count": 52,
     "metadata": {},
     "output_type": "execute_result"
    }
   ],
   "source": [
    "merged_df.describe()"
   ]
  },
  {
   "cell_type": "code",
   "execution_count": 53,
   "id": "c79a0ebf",
   "metadata": {},
   "outputs": [
    {
     "data": {
      "text/plain": [
       "Produkt_Code        0\n",
       "SDO_ID              0\n",
       "Zeitstempel         0\n",
       "Wert                0\n",
       "Qualitaet_Byte      0\n",
       "Qualitaet_Niveau    0\n",
       "SDO_Name            0\n",
       "Geogr_Laenge        0\n",
       "Geogr_Breite        0\n",
       "Hoehe_ueber_NN      0\n",
       "Metadata_Link       0\n",
       "dtype: int64"
      ]
     },
     "execution_count": 53,
     "metadata": {},
     "output_type": "execute_result"
    }
   ],
   "source": [
    "merged_df.isnull().sum()"
   ]
  },
  {
   "cell_type": "code",
   "execution_count": null,
   "id": "599747df",
   "metadata": {},
   "outputs": [],
   "source": []
  }
 ],
 "metadata": {
  "kernelspec": {
   "display_name": "Python 3",
   "language": "python",
   "name": "python3"
  },
  "language_info": {
   "codemirror_mode": {
    "name": "ipython",
    "version": 3
   },
   "file_extension": ".py",
   "mimetype": "text/x-python",
   "name": "python",
   "nbconvert_exporter": "python",
   "pygments_lexer": "ipython3",
   "version": "3.8.6"
  },
  "toc": {
   "base_numbering": 1,
   "nav_menu": {},
   "number_sections": true,
   "sideBar": true,
   "skip_h1_title": false,
   "title_cell": "Table of Contents",
   "title_sidebar": "Contents",
   "toc_cell": false,
   "toc_position": {},
   "toc_section_display": true,
   "toc_window_display": false
  }
 },
 "nbformat": 4,
 "nbformat_minor": 5
}
