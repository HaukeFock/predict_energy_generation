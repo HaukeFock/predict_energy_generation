{
 "cells": [
  {
   "cell_type": "code",
   "execution_count": 1,
   "id": "6e5efab9",
   "metadata": {},
   "outputs": [],
   "source": [
    "import pandas as pd\n",
    "import numpy as np\n",
    "import os\n",
    "import datetime as dt"
   ]
  },
  {
   "cell_type": "markdown",
   "id": "4fce4b74",
   "metadata": {
    "heading_collapsed": true
   },
   "source": [
    "# Importing sector DFs"
   ]
  },
  {
   "cell_type": "code",
   "execution_count": 120,
   "id": "ff0c14dd",
   "metadata": {
    "hidden": true
   },
   "outputs": [],
   "source": [
    "# importing actual energy generation\n",
    "PATH_TO_DATA = '/Users/R/code/HaukeFock/predict_energy_generation/raw_data/'\n",
    "companies = !ls /Users/R/code/HaukeFock/predict_energy_generation/raw_data/energy_generation/"
   ]
  },
  {
   "cell_type": "markdown",
   "id": "753ffb59",
   "metadata": {
    "heading_collapsed": true,
    "hidden": true
   },
   "source": [
    "## Actual Energy Generation"
   ]
  },
  {
   "cell_type": "code",
   "execution_count": 85,
   "id": "624420af",
   "metadata": {
    "collapsed": true,
    "hidden": true
   },
   "outputs": [
    {
     "name": "stderr",
     "output_type": "stream",
     "text": [
      "/Users/R/.pyenv/versions/3.8.6/envs/predict_energy_generation/lib/python3.8/site-packages/IPython/core/interactiveshell.py:3169: DtypeWarning: Columns (6) have mixed types.Specify dtype option on import or set low_memory=False.\n",
      "  has_raised = await self.run_ast_nodes(code_ast.body, cell_name,\n",
      "/Users/R/.pyenv/versions/3.8.6/envs/predict_energy_generation/lib/python3.8/site-packages/IPython/core/interactiveshell.py:3169: DtypeWarning: Columns (4,11) have mixed types.Specify dtype option on import or set low_memory=False.\n",
      "  has_raised = await self.run_ast_nodes(code_ast.body, cell_name,\n"
     ]
    },
    {
     "name": "stdout",
     "output_type": "stream",
     "text": [
      "df_50hertz Loaded!!!\n"
     ]
    },
    {
     "name": "stderr",
     "output_type": "stream",
     "text": [
      "/Users/R/.pyenv/versions/3.8.6/envs/predict_energy_generation/lib/python3.8/site-packages/IPython/core/interactiveshell.py:3169: DtypeWarning: Columns (2,3,4,6,9,10,12) have mixed types.Specify dtype option on import or set low_memory=False.\n",
      "  has_raised = await self.run_ast_nodes(code_ast.body, cell_name,\n",
      "/Users/R/.pyenv/versions/3.8.6/envs/predict_energy_generation/lib/python3.8/site-packages/IPython/core/interactiveshell.py:3169: DtypeWarning: Columns (2,3,5,6) have mixed types.Specify dtype option on import or set low_memory=False.\n",
      "  has_raised = await self.run_ast_nodes(code_ast.body, cell_name,\n",
      "/Users/R/.pyenv/versions/3.8.6/envs/predict_energy_generation/lib/python3.8/site-packages/IPython/core/interactiveshell.py:3169: DtypeWarning: Columns (5,12) have mixed types.Specify dtype option on import or set low_memory=False.\n",
      "  has_raised = await self.run_ast_nodes(code_ast.body, cell_name,\n"
     ]
    },
    {
     "name": "stdout",
     "output_type": "stream",
     "text": [
      "df_amprion Loaded!!!\n",
      "df_tennet Loaded!!!\n"
     ]
    },
    {
     "name": "stderr",
     "output_type": "stream",
     "text": [
      "/Users/R/.pyenv/versions/3.8.6/envs/predict_energy_generation/lib/python3.8/site-packages/IPython/core/interactiveshell.py:3169: DtypeWarning: Columns (11) have mixed types.Specify dtype option on import or set low_memory=False.\n",
      "  has_raised = await self.run_ast_nodes(code_ast.body, cell_name,\n",
      "/Users/R/.pyenv/versions/3.8.6/envs/predict_energy_generation/lib/python3.8/site-packages/IPython/core/interactiveshell.py:3169: DtypeWarning: Columns (5,11) have mixed types.Specify dtype option on import or set low_memory=False.\n",
      "  has_raised = await self.run_ast_nodes(code_ast.body, cell_name,\n"
     ]
    },
    {
     "name": "stdout",
     "output_type": "stream",
     "text": [
      "df_transnet_bw Loaded!!!\n"
     ]
    },
    {
     "name": "stderr",
     "output_type": "stream",
     "text": [
      "/Users/R/.pyenv/versions/3.8.6/envs/predict_energy_generation/lib/python3.8/site-packages/IPython/core/interactiveshell.py:3169: DtypeWarning: Columns (5) have mixed types.Specify dtype option on import or set low_memory=False.\n",
      "  has_raised = await self.run_ast_nodes(code_ast.body, cell_name,\n"
     ]
    }
   ],
   "source": [
    "columns = ['Date', 'Time of day', 'Biomass[MWh]', 'Hydropower[MWh]',\n",
    "       'Wind offshore[MWh]', 'Wind onshore[MWh]', 'Photovoltaics[MWh]',\n",
    "       'Other renewable[MWh]', 'Nuclear[MWh]', 'Fossil brown coal[MWh]',\n",
    "       'Fossil hard coal[MWh]', 'Fossil gas[MWh]', 'Hydro pumped storage[MWh]',\n",
    "       'Other conventional[MWh]']\n",
    "dataframes = {}\n",
    "\n",
    "for company in companies:\n",
    "    #print(company)\n",
    "    exec(f\"df_{company} = pd.DataFrame(columns=columns)\")\n",
    "    data_paths = !ls /Users/R/code/HaukeFock/predict_energy_generation/raw_data/energy_generation/{company}\n",
    "    for file in data_paths:\n",
    "        #print(file)\n",
    "        data = pd.read_csv(f'{PATH_TO_DATA}/energy_generation/{company}/{file}', sep=';')\n",
    "        exec(f\"df_{company} = df_{company}.append(data, ignore_index=True)\")\n",
    "    exec(f\"dataframes['df_{company}'] = df_{company}\")\n",
    "    print(f'df_{company} Loaded!!!')"
   ]
  },
  {
   "cell_type": "code",
   "execution_count": 86,
   "id": "20c47c06",
   "metadata": {
    "collapsed": true,
    "hidden": true
   },
   "outputs": [
    {
     "name": "stdout",
     "output_type": "stream",
     "text": [
      ">>>>>>>>>>>>>> df_50hertz <<<<<<<<<<<<<<\n",
      "\n",
      "Shape: (210720, 14)\n",
      "\n",
      "NaN values: \n",
      "Date                              0\n",
      "Time of day                       0\n",
      "Biomass[MWh]                      0\n",
      "Hydropower[MWh]                   0\n",
      "Wind offshore[MWh]                0\n",
      "Wind onshore[MWh]                 0\n",
      "Photovoltaics[MWh]                0\n",
      "Other renewable[MWh]              0\n",
      "Nuclear[MWh]                 210720\n",
      "Fossil brown coal[MWh]            0\n",
      "Fossil hard coal[MWh]             0\n",
      "Fossil gas[MWh]                   0\n",
      "Hydro pumped storage[MWh]         0\n",
      "Other conventional[MWh]           0\n",
      "dtype: int64\n",
      "\n",
      ">>>>>>>>>>>>>> df_amprion <<<<<<<<<<<<<<\n",
      "\n",
      "Shape: (210720, 14)\n",
      "\n",
      "NaN values: \n",
      "Date                              0\n",
      "Time of day                       0\n",
      "Biomass[MWh]                      0\n",
      "Hydropower[MWh]                   0\n",
      "Wind offshore[MWh]           210720\n",
      "Wind onshore[MWh]                 0\n",
      "Photovoltaics[MWh]                0\n",
      "Other renewable[MWh]              0\n",
      "Nuclear[MWh]                      0\n",
      "Fossil brown coal[MWh]            0\n",
      "Fossil hard coal[MWh]             0\n",
      "Fossil gas[MWh]                   0\n",
      "Hydro pumped storage[MWh]         0\n",
      "Other conventional[MWh]           0\n",
      "dtype: int64\n",
      "\n",
      ">>>>>>>>>>>>>> df_tennet <<<<<<<<<<<<<<\n",
      "\n",
      "Shape: (210720, 14)\n",
      "\n",
      "NaN values: \n",
      "Date                         0\n",
      "Time of day                  0\n",
      "Biomass[MWh]                 0\n",
      "Hydropower[MWh]              0\n",
      "Wind offshore[MWh]           0\n",
      "Wind onshore[MWh]            0\n",
      "Photovoltaics[MWh]           0\n",
      "Other renewable[MWh]         0\n",
      "Nuclear[MWh]                 0\n",
      "Fossil brown coal[MWh]       0\n",
      "Fossil hard coal[MWh]        0\n",
      "Fossil gas[MWh]              0\n",
      "Hydro pumped storage[MWh]    0\n",
      "Other conventional[MWh]      0\n",
      "dtype: int64\n",
      "\n",
      ">>>>>>>>>>>>>> df_transnet_bw <<<<<<<<<<<<<<\n",
      "\n",
      "Shape: (210720, 14)\n",
      "\n",
      "NaN values: \n",
      "Date                              0\n",
      "Time of day                       0\n",
      "Biomass[MWh]                      0\n",
      "Hydropower[MWh]                   0\n",
      "Wind offshore[MWh]           210720\n",
      "Wind onshore[MWh]                 0\n",
      "Photovoltaics[MWh]                0\n",
      "Other renewable[MWh]              0\n",
      "Nuclear[MWh]                      0\n",
      "Fossil brown coal[MWh]       210720\n",
      "Fossil hard coal[MWh]             0\n",
      "Fossil gas[MWh]                   0\n",
      "Hydro pumped storage[MWh]         0\n",
      "Other conventional[MWh]           0\n",
      "dtype: int64\n",
      "\n"
     ]
    }
   ],
   "source": [
    "# dropping unecessary columns \n",
    "df_50hertz['Date'] = df_50hertz['Date'][:140448].append(df_50hertz['Datum'][140448:])\n",
    "df_50hertz['Time of day'] = df_50hertz['Time of day'][:140448].append(df_50hertz['Uhrzeit'][140448:])\n",
    "\n",
    "df_tennet['Date'] = df_tennet['Datum'][:70272].append(df_tennet['Date'][70272:])\n",
    "df_tennet['Time of day'] = df_tennet['Uhrzeit'][:70272].append(df_tennet['Time of day'][70272:])\n",
    "\n",
    "df_50hertz.drop(columns=['Datum', 'Uhrzeit'], inplace=True)\n",
    "df_tennet.drop(columns=['Datum', 'Uhrzeit'], inplace=True)\n",
    "\n",
    "# missing values resume for each area\n",
    "for key, df in dataframes.items():\n",
    "    if (df.columns != columns).all():\n",
    "        print(f'{key} has different columns than expected!')\n",
    "    else:\n",
    "        print(f'>>>>>>>>>>>>>> {key} <<<<<<<<<<<<<<\\n')\n",
    "        print(f'Shape: {df.shape}\\n')\n",
    "        print(f'NaN values: \\n{df.isna().sum()}\\n')"
   ]
  },
  {
   "cell_type": "code",
   "execution_count": 89,
   "id": "225bacb8",
   "metadata": {
    "hidden": true
   },
   "outputs": [],
   "source": [
    "numeric_values = ['Biomass[MWh]',\n",
    "                 'Hydropower[MWh]',\n",
    "                 'Wind offshore[MWh]',\n",
    "                 'Wind onshore[MWh]',\n",
    "                 'Photovoltaics[MWh]',\n",
    "                 'Other renewable[MWh]',\n",
    "                 'Nuclear[MWh]',\n",
    "                 'Fossil brown coal[MWh]',\n",
    "                 'Fossil hard coal[MWh]',\n",
    "                 'Fossil gas[MWh]',\n",
    "                 'Hydro pumped storage[MWh]',\n",
    "                 'Other conventional[MWh]']\n",
    "\n",
    "def set_to_numeric(dataframes, numeric_values):\n",
    "    # sets the features to numerical values\n",
    "    for column in numeric_values:\n",
    "        #print(column)\n",
    "        for key, df in dataframes.items():\n",
    "            #print(f'{key} => {column}')\n",
    "            df[column] = df[column].apply(lambda x: str(x).replace(',',''))\n",
    "            df[column] = pd.to_numeric(df[column], errors='coerce')\n",
    "\n",
    "set_to_numeric(dataframes, numeric_values)"
   ]
  },
  {
   "cell_type": "code",
   "execution_count": 104,
   "id": "f13fbf98",
   "metadata": {
    "hidden": true,
    "scrolled": true
   },
   "outputs": [
    {
     "name": "stdout",
     "output_type": "stream",
     "text": [
      "Working on df_50hertz\n",
      "Working on df_amprion\n",
      "Working on df_tennet\n",
      "Working on df_transnet_bw\n"
     ]
    }
   ],
   "source": [
    "# join 'Date' and 'Time of Day' into one\n",
    "def set_datetime(dataframes):\n",
    "    for df in dataframes.keys():\n",
    "        print(f'Working on {df}')\n",
    "        exec(f\"{df}['Date'] = pd.to_datetime({df}['Date']).apply(lambda x: x.strftime('%Y-%m-%d '))\")\n",
    "        exec(f\"{df}['Time of day'] = pd.to_datetime({df}['Time of day']).apply(lambda x: x.strftime('%H:%M'))\")\n",
    "        exec(f\"{df}['Date'] = pd.to_datetime({df}['Date'] + {df}['Time of day'])\")\n",
    "        exec(f\"{df}.drop(columns=['Time of day'], inplace=True)\")\n",
    "set_datetime(dataframes)"
   ]
  },
  {
   "cell_type": "markdown",
   "id": "bc0a8bf0",
   "metadata": {
    "heading_collapsed": true,
    "hidden": true
   },
   "source": [
    "## Forcasted Energy generation"
   ]
  },
  {
   "cell_type": "code",
   "execution_count": 99,
   "id": "e6845140",
   "metadata": {
    "hidden": true
   },
   "outputs": [
    {
     "name": "stdout",
     "output_type": "stream",
     "text": [
      "df_50hertz_forecasted Loaded!!!\n",
      "df_amprion_forecasted Loaded!!!\n",
      "df_tennet_forecasted Loaded!!!\n",
      "df_transnet_BW_forecasted Loaded!!!\n"
     ]
    }
   ],
   "source": [
    "# importing actual energy generation\n",
    "forecasted_columns = ['Date', 'Time of day', 'Total[MWh]', 'Wind offshore[MWh]', \n",
    "           'Wind onshore[MWh]', 'Photovoltaics[MWh]', 'Other[MWh]']\n",
    "forecasted_dataframes = {}\n",
    "\n",
    "for company in companies:\n",
    "    #print(company)\n",
    "    exec(f\"df_{company}_forecasted = pd.DataFrame(columns=forecasted_columns)\")\n",
    "    data_paths = !ls /Users/R/code/HaukeFock/predict_energy_generation/raw_data/forcasted_generation/{company}\n",
    "    for file in data_paths:\n",
    "        #print(file)\n",
    "        data = pd.read_csv(f'{PATH_TO_DATA}/forcasted_generation/{company}/{file}', sep=';')\n",
    "        exec(f\"df_{company}_forecasted = df_{company}_forecasted.append(data, ignore_index=True)\")\n",
    "    exec(f\"forecasted_dataframes['df_{company}_forecasted'] = df_{company}_forecasted\")\n",
    "    print(f'df_{company}_forecasted Loaded!!!')"
   ]
  },
  {
   "cell_type": "code",
   "execution_count": 100,
   "id": "e3f573bf",
   "metadata": {
    "hidden": true
   },
   "outputs": [],
   "source": [
    "# dropping unecessary columns\n",
    "df_tennet_forecasted['Date'] = df_tennet_forecasted.Date[:140448].append(df_tennet_forecasted.Datum[140448:151964])\\\n",
    "                                                          .append(df_tennet_forecasted.Date[151964:])\n",
    "df_tennet_forecasted['Time of day'] = df_tennet_forecasted['Time of day'][:140448].append(df_tennet_forecasted.Uhrzeit[140448:151964])\\\n",
    "                                                          .append(df_tennet_forecasted['Time of day'][151964:])\n",
    "df_tennet_forecasted.drop(columns=['Datum', 'Uhrzeit'], inplace=True)\n",
    "\n",
    "# missing values resume for each area\n",
    "for key, df in forecasted_dataframes.items():\n",
    "    if (df.columns != forecasted_columns).all():\n",
    "        print(f'{key} has different columns than expected!')\n",
    "    else:\n",
    "        print(f'>>>>>>>>>>>>>> {key} <<<<<<<<<<<<<<\\n')\n",
    "        print(f'Shape: {df.shape}\\n')\n",
    "        print(f'NaN values: \\n{df.isna().sum()}\\n')"
   ]
  },
  {
   "cell_type": "code",
   "execution_count": 101,
   "id": "a1aa290f",
   "metadata": {
    "collapsed": true,
    "hidden": true
   },
   "outputs": [
    {
     "name": "stdout",
     "output_type": "stream",
     "text": [
      ">>>>>>>>>>>>>> df_50hertz_forecasted <<<<<<<<<<<<<<\n",
      "\n",
      "Shape: (153116, 7)\n",
      "\n",
      "NaN values: \n",
      "Date                  0\n",
      "Time of day           0\n",
      "Total[MWh]            0\n",
      "Wind offshore[MWh]    0\n",
      "Wind onshore[MWh]     0\n",
      "Photovoltaics[MWh]    0\n",
      "Other[MWh]            0\n",
      "dtype: int64\n",
      "\n",
      ">>>>>>>>>>>>>> df_amprion_forecasted <<<<<<<<<<<<<<\n",
      "\n",
      "Shape: (153116, 7)\n",
      "\n",
      "NaN values: \n",
      "Date                       0\n",
      "Time of day                0\n",
      "Total[MWh]                 0\n",
      "Wind offshore[MWh]    153116\n",
      "Wind onshore[MWh]          0\n",
      "Photovoltaics[MWh]         0\n",
      "Other[MWh]                 0\n",
      "dtype: int64\n",
      "\n",
      ">>>>>>>>>>>>>> df_tennet_forecasted <<<<<<<<<<<<<<\n",
      "\n",
      "Shape: (153116, 7)\n",
      "\n",
      "NaN values: \n",
      "Date                  0\n",
      "Time of day           0\n",
      "Total[MWh]            0\n",
      "Wind offshore[MWh]    0\n",
      "Wind onshore[MWh]     0\n",
      "Photovoltaics[MWh]    0\n",
      "Other[MWh]            0\n",
      "dtype: int64\n",
      "\n",
      ">>>>>>>>>>>>>> df_transnet_BW_forecasted <<<<<<<<<<<<<<\n",
      "\n",
      "Shape: (153116, 7)\n",
      "\n",
      "NaN values: \n",
      "Date                       0\n",
      "Time of day                0\n",
      "Total[MWh]                 0\n",
      "Wind offshore[MWh]    153116\n",
      "Wind onshore[MWh]          0\n",
      "Photovoltaics[MWh]         0\n",
      "Other[MWh]                 0\n",
      "dtype: int64\n",
      "\n"
     ]
    }
   ],
   "source": [
    "# missing values resume for each area\n",
    "for key, df in forecasted_dataframes.items():\n",
    "    if (df.columns != forecasted_columns).all():\n",
    "        print(f'{key} has different columns than expected!')\n",
    "    else:\n",
    "        print(f'>>>>>>>>>>>>>> {key} <<<<<<<<<<<<<<\\n')\n",
    "        print(f'Shape: {df.shape}\\n')\n",
    "        print(f'NaN values: \\n{df.isna().sum()}\\n')"
   ]
  },
  {
   "cell_type": "code",
   "execution_count": 102,
   "id": "63c6a517",
   "metadata": {
    "hidden": true
   },
   "outputs": [],
   "source": [
    "# setting columns to numeric\n",
    "forecasted_numeric_columns = ['Total[MWh]','Wind offshore[MWh]','Wind onshore[MWh]',\n",
    "                            'Photovoltaics[MWh]','Other[MWh]']\n",
    "\n",
    "set_to_numeric(forecasted_dataframes, forecasted_numeric_columns)\n",
    "\n",
    "# join 'Date' and 'Time of Day' into one\n",
    "set_datetime(forecasted_dataframes)"
   ]
  },
  {
   "cell_type": "markdown",
   "id": "5240afd3",
   "metadata": {
    "heading_collapsed": true,
    "hidden": true
   },
   "source": [
    "## Production capacity"
   ]
  },
  {
   "cell_type": "code",
   "execution_count": 166,
   "id": "28e1c4a9",
   "metadata": {
    "hidden": true
   },
   "outputs": [
    {
     "name": "stdout",
     "output_type": "stream",
     "text": [
      "df_50hertz_capacity Loaded!!!\n",
      "df_amprion_capacity Loaded!!!\n",
      "df_tennet_capacity Loaded!!!\n",
      "df_transnet_bw_capacity Loaded!!!\n"
     ]
    }
   ],
   "source": [
    "capacity_columns = ['Date', 'Time of day', 'Biomass[MW]', 'Hydropower[MW]',\n",
    "       'Wind offshore[MW]', 'Wind onshore[MW]', 'Photovoltaics[MW]',\n",
    "       'Other renewable[MW]', 'Nuclear[MW]', 'Fossil brown coal[MW]',\n",
    "       'Fossil hard coal[MW]', 'Fossil gas[MW]', 'Hydro pumped storage[MW]',\n",
    "       'Other conventional[MW]']\n",
    "capacity_dataframes = {}\n",
    "\n",
    "for company in companies:\n",
    "    #print(company)\n",
    "    exec(f\"df_{company}_capacity = pd.DataFrame(columns=capacity_columns)\")\n",
    "    data_paths = !ls /Users/R/code/HaukeFock/predict_energy_generation/raw_data/energy_capacity/{company}\n",
    "    for file in data_paths:\n",
    "        #print(file)\n",
    "        data = pd.read_csv(f'{PATH_TO_DATA}/energy_capacity/{company}/{file}', sep=';')\n",
    "        exec(f\"df_{company}_capacity = df_{company}_capacity.append(data, ignore_index=True)\")\n",
    "    exec(f\"capacity_dataframes['df_{company}_capacity'] = df_{company}_capacity\")\n",
    "    print(f'df_{company}_capacity Loaded!!!')"
   ]
  },
  {
   "cell_type": "code",
   "execution_count": 167,
   "id": "4edea9bd",
   "metadata": {
    "hidden": true
   },
   "outputs": [],
   "source": [
    "# dropping duplicates\n",
    "for df in capacity_dataframes.keys():\n",
    "    exec(f\"{df} = {df}.drop(index=[2,5,8]).reset_index(drop=True)\")"
   ]
  },
  {
   "cell_type": "code",
   "execution_count": 168,
   "id": "1eb45183",
   "metadata": {
    "hidden": true
   },
   "outputs": [
    {
     "data": {
      "text/plain": [
       "['Date',\n",
       " 'Time of day',\n",
       " 'Biomass[MW]',\n",
       " 'Hydropower[MW]',\n",
       " 'Wind offshore[MW]',\n",
       " 'Wind onshore[MW]',\n",
       " 'Photovoltaics[MW]',\n",
       " 'Other renewable[MW]',\n",
       " 'Nuclear[MW]',\n",
       " 'Fossil brown coal[MW]',\n",
       " 'Fossil hard coal[MW]',\n",
       " 'Fossil gas[MW]',\n",
       " 'Hydro pumped storage[MW]',\n",
       " 'Other conventional[MW]']"
      ]
     },
     "execution_count": 168,
     "metadata": {},
     "output_type": "execute_result"
    }
   ],
   "source": [
    "capacity_columns"
   ]
  },
  {
   "cell_type": "code",
   "execution_count": 169,
   "id": "36397292",
   "metadata": {
    "hidden": true
   },
   "outputs": [],
   "source": [
    "capacity_numeric_values = ['Biomass[MW]', 'Hydropower[MW]', 'Wind offshore[MW]', 'Wind onshore[MW]',\n",
    "                           'Photovoltaics[MW]', 'Other renewable[MW]', 'Nuclear[MW]', 'Fossil brown coal[MW]',\n",
    "                           'Fossil hard coal[MW]', 'Fossil gas[MW]', 'Hydro pumped storage[MW]', \n",
    "                           'Other conventional[MW]']\n",
    "\n",
    "set_to_numeric(capacity_dataframes, capacity_numeric_values)"
   ]
  },
  {
   "cell_type": "code",
   "execution_count": 171,
   "id": "3a5185b6",
   "metadata": {
    "hidden": true
   },
   "outputs": [
    {
     "name": "stdout",
     "output_type": "stream",
     "text": [
      "Working on df_50hertz_capacity\n",
      "Working on df_amprion_capacity\n",
      "Working on df_tennet_capacity\n",
      "Working on df_transnet_bw_capacity\n"
     ]
    }
   ],
   "source": [
    "set_datetime(capacity_dataframes)"
   ]
  },
  {
   "cell_type": "markdown",
   "id": "26bfe133",
   "metadata": {
    "heading_collapsed": true
   },
   "source": [
    "# Group by daily energy generation"
   ]
  },
  {
   "cell_type": "code",
   "execution_count": 46,
   "id": "f625e20e",
   "metadata": {
    "hidden": true
   },
   "outputs": [],
   "source": [
    "# group energy generation per day \n",
    "for df in dataframes.keys():\n",
    "    exec(f\"{df} = {df}.groupby(by={df}['Date'].dt.date).mean().reset_index()\")"
   ]
  },
  {
   "cell_type": "code",
   "execution_count": 111,
   "id": "1d5432ee",
   "metadata": {
    "hidden": true
   },
   "outputs": [],
   "source": [
    "# group forcasted energy generation per day \n",
    "for df in forecasted_dataframes.keys():\n",
    "    exec(f\"{df} = {df}.groupby(by={df}['Date'].dt.date).mean().reset_index()\")"
   ]
  },
  {
   "cell_type": "markdown",
   "id": "69d51380",
   "metadata": {
    "heading_collapsed": true
   },
   "source": [
    "# Creating complete DF"
   ]
  },
  {
   "cell_type": "markdown",
   "id": "ef6d9fa9",
   "metadata": {
    "heading_collapsed": true,
    "hidden": true
   },
   "source": [
    "## Actual"
   ]
  },
  {
   "cell_type": "code",
   "execution_count": 47,
   "id": "7531cb66",
   "metadata": {
    "hidden": true
   },
   "outputs": [
    {
     "data": {
      "text/plain": [
       "(8772, 14)"
      ]
     },
     "execution_count": 47,
     "metadata": {},
     "output_type": "execute_result"
    }
   ],
   "source": [
    "df_deutschland = pd.DataFrame()\n",
    "\n",
    "for df, company in zip(dataframes.keys(), companies):\n",
    "        exec(f\"{df}['region'] = company\")\n",
    "        exec(f\"df_deutschland = df_deutschland.append({df}, ignore_index=True)\")\n",
    "\n",
    "df_deutschland.shape"
   ]
  },
  {
   "cell_type": "code",
   "execution_count": 146,
   "id": "b44647c0",
   "metadata": {
    "hidden": true,
    "scrolled": false
   },
   "outputs": [
    {
     "data": {
      "text/html": [
       "<div>\n",
       "<style scoped>\n",
       "    .dataframe tbody tr th:only-of-type {\n",
       "        vertical-align: middle;\n",
       "    }\n",
       "\n",
       "    .dataframe tbody tr th {\n",
       "        vertical-align: top;\n",
       "    }\n",
       "\n",
       "    .dataframe thead th {\n",
       "        text-align: right;\n",
       "    }\n",
       "</style>\n",
       "<table border=\"1\" class=\"dataframe\">\n",
       "  <thead>\n",
       "    <tr style=\"text-align: right;\">\n",
       "      <th></th>\n",
       "      <th>Date</th>\n",
       "      <th>Wind offshore[MWh]</th>\n",
       "      <th>Wind onshore[MWh]</th>\n",
       "      <th>Photovoltaics[MWh]</th>\n",
       "    </tr>\n",
       "  </thead>\n",
       "  <tbody>\n",
       "    <tr>\n",
       "      <th>0</th>\n",
       "      <td>2015-01-01</td>\n",
       "      <td>11.989583</td>\n",
       "      <td>1278.427083</td>\n",
       "      <td>75.531250</td>\n",
       "    </tr>\n",
       "    <tr>\n",
       "      <th>1</th>\n",
       "      <td>2015-01-02</td>\n",
       "      <td>9.947917</td>\n",
       "      <td>2555.510417</td>\n",
       "      <td>17.677083</td>\n",
       "    </tr>\n",
       "    <tr>\n",
       "      <th>2</th>\n",
       "      <td>2015-01-03</td>\n",
       "      <td>11.281250</td>\n",
       "      <td>2308.958333</td>\n",
       "      <td>27.354167</td>\n",
       "    </tr>\n",
       "    <tr>\n",
       "      <th>3</th>\n",
       "      <td>2015-01-04</td>\n",
       "      <td>11.354167</td>\n",
       "      <td>2079.041667</td>\n",
       "      <td>49.750000</td>\n",
       "    </tr>\n",
       "    <tr>\n",
       "      <th>4</th>\n",
       "      <td>2015-01-05</td>\n",
       "      <td>4.104167</td>\n",
       "      <td>1333.343750</td>\n",
       "      <td>20.187500</td>\n",
       "    </tr>\n",
       "    <tr>\n",
       "      <th>5</th>\n",
       "      <td>2015-01-06</td>\n",
       "      <td>6.760417</td>\n",
       "      <td>516.687500</td>\n",
       "      <td>59.968750</td>\n",
       "    </tr>\n",
       "    <tr>\n",
       "      <th>6</th>\n",
       "      <td>2015-01-07</td>\n",
       "      <td>9.520833</td>\n",
       "      <td>946.666667</td>\n",
       "      <td>28.885417</td>\n",
       "    </tr>\n",
       "    <tr>\n",
       "      <th>7</th>\n",
       "      <td>2015-01-08</td>\n",
       "      <td>11.906250</td>\n",
       "      <td>1667.093750</td>\n",
       "      <td>16.187500</td>\n",
       "    </tr>\n",
       "    <tr>\n",
       "      <th>8</th>\n",
       "      <td>2015-01-09</td>\n",
       "      <td>11.010417</td>\n",
       "      <td>2659.114583</td>\n",
       "      <td>14.052083</td>\n",
       "    </tr>\n",
       "    <tr>\n",
       "      <th>9</th>\n",
       "      <td>2015-01-10</td>\n",
       "      <td>6.802083</td>\n",
       "      <td>2456.656250</td>\n",
       "      <td>27.500000</td>\n",
       "    </tr>\n",
       "  </tbody>\n",
       "</table>\n",
       "</div>"
      ],
      "text/plain": [
       "         Date  Wind offshore[MWh]  Wind onshore[MWh]  Photovoltaics[MWh]\n",
       "0  2015-01-01           11.989583        1278.427083           75.531250\n",
       "1  2015-01-02            9.947917        2555.510417           17.677083\n",
       "2  2015-01-03           11.281250        2308.958333           27.354167\n",
       "3  2015-01-04           11.354167        2079.041667           49.750000\n",
       "4  2015-01-05            4.104167        1333.343750           20.187500\n",
       "5  2015-01-06            6.760417         516.687500           59.968750\n",
       "6  2015-01-07            9.520833         946.666667           28.885417\n",
       "7  2015-01-08           11.906250        1667.093750           16.187500\n",
       "8  2015-01-09           11.010417        2659.114583           14.052083\n",
       "9  2015-01-10            6.802083        2456.656250           27.500000"
      ]
     },
     "execution_count": 146,
     "metadata": {},
     "output_type": "execute_result"
    }
   ],
   "source": [
    "df_deutschland[['Date', 'Wind offshore[MWh]', 'Wind onshore[MWh]', 'Photovoltaics[MWh]']].head(10)"
   ]
  },
  {
   "cell_type": "markdown",
   "id": "7444851e",
   "metadata": {
    "heading_collapsed": true,
    "hidden": true
   },
   "source": [
    "## Forcasted"
   ]
  },
  {
   "cell_type": "code",
   "execution_count": 115,
   "id": "7918b055",
   "metadata": {
    "hidden": true
   },
   "outputs": [
    {
     "data": {
      "text/plain": [
       "(6372, 7)"
      ]
     },
     "execution_count": 115,
     "metadata": {},
     "output_type": "execute_result"
    }
   ],
   "source": [
    "df_deutschland_forecasted = pd.DataFrame()\n",
    "\n",
    "for df, company in zip(forecasted_dataframes.keys(), companies):\n",
    "        exec(f\"{df}['region'] = company\")\n",
    "        exec(f\"df_deutschland_forecasted = df_deutschland_forecasted.append({df}, ignore_index=True)\")\n",
    "\n",
    "df_deutschland_forecasted.shape"
   ]
  },
  {
   "cell_type": "code",
   "execution_count": 143,
   "id": "15dddfb3",
   "metadata": {
    "hidden": true
   },
   "outputs": [
    {
     "data": {
      "text/html": [
       "<div>\n",
       "<style scoped>\n",
       "    .dataframe tbody tr th:only-of-type {\n",
       "        vertical-align: middle;\n",
       "    }\n",
       "\n",
       "    .dataframe tbody tr th {\n",
       "        vertical-align: top;\n",
       "    }\n",
       "\n",
       "    .dataframe thead th {\n",
       "        text-align: right;\n",
       "    }\n",
       "</style>\n",
       "<table border=\"1\" class=\"dataframe\">\n",
       "  <thead>\n",
       "    <tr style=\"text-align: right;\">\n",
       "      <th></th>\n",
       "      <th>Date</th>\n",
       "      <th>Total[MWh]</th>\n",
       "      <th>Wind offshore[MWh]</th>\n",
       "      <th>Wind onshore[MWh]</th>\n",
       "      <th>Photovoltaics[MWh]</th>\n",
       "      <th>Other[MWh]</th>\n",
       "      <th>region</th>\n",
       "    </tr>\n",
       "  </thead>\n",
       "  <tbody>\n",
       "    <tr>\n",
       "      <th>6362</th>\n",
       "      <td>2021-05-14</td>\n",
       "      <td>4006.166667</td>\n",
       "      <td>NaN</td>\n",
       "      <td>61.552083</td>\n",
       "      <td>316.510417</td>\n",
       "      <td>2495.000000</td>\n",
       "      <td>transnet_bw</td>\n",
       "    </tr>\n",
       "    <tr>\n",
       "      <th>6363</th>\n",
       "      <td>2021-05-15</td>\n",
       "      <td>3893.791667</td>\n",
       "      <td>NaN</td>\n",
       "      <td>107.656250</td>\n",
       "      <td>174.802083</td>\n",
       "      <td>2764.750000</td>\n",
       "      <td>transnet_bw</td>\n",
       "    </tr>\n",
       "    <tr>\n",
       "      <th>6364</th>\n",
       "      <td>2021-05-16</td>\n",
       "      <td>3768.666667</td>\n",
       "      <td>NaN</td>\n",
       "      <td>139.802083</td>\n",
       "      <td>247.354167</td>\n",
       "      <td>2221.125000</td>\n",
       "      <td>transnet_bw</td>\n",
       "    </tr>\n",
       "    <tr>\n",
       "      <th>6365</th>\n",
       "      <td>2021-05-17</td>\n",
       "      <td>4666.458333</td>\n",
       "      <td>NaN</td>\n",
       "      <td>236.645833</td>\n",
       "      <td>222.375000</td>\n",
       "      <td>2831.291667</td>\n",
       "      <td>transnet_bw</td>\n",
       "    </tr>\n",
       "    <tr>\n",
       "      <th>6366</th>\n",
       "      <td>2021-05-18</td>\n",
       "      <td>4366.166667</td>\n",
       "      <td>NaN</td>\n",
       "      <td>159.531250</td>\n",
       "      <td>259.708333</td>\n",
       "      <td>2690.166667</td>\n",
       "      <td>transnet_bw</td>\n",
       "    </tr>\n",
       "    <tr>\n",
       "      <th>6367</th>\n",
       "      <td>2021-05-19</td>\n",
       "      <td>4933.583333</td>\n",
       "      <td>NaN</td>\n",
       "      <td>60.531250</td>\n",
       "      <td>259.812500</td>\n",
       "      <td>3653.250000</td>\n",
       "      <td>transnet_bw</td>\n",
       "    </tr>\n",
       "    <tr>\n",
       "      <th>6368</th>\n",
       "      <td>2021-05-20</td>\n",
       "      <td>4545.458333</td>\n",
       "      <td>NaN</td>\n",
       "      <td>53.145833</td>\n",
       "      <td>291.010417</td>\n",
       "      <td>3170.166667</td>\n",
       "      <td>transnet_bw</td>\n",
       "    </tr>\n",
       "    <tr>\n",
       "      <th>6369</th>\n",
       "      <td>2021-05-21</td>\n",
       "      <td>4017.208333</td>\n",
       "      <td>NaN</td>\n",
       "      <td>205.083333</td>\n",
       "      <td>152.958333</td>\n",
       "      <td>2585.958333</td>\n",
       "      <td>transnet_bw</td>\n",
       "    </tr>\n",
       "    <tr>\n",
       "      <th>6370</th>\n",
       "      <td>2021-05-22</td>\n",
       "      <td>4138.833333</td>\n",
       "      <td>NaN</td>\n",
       "      <td>240.041667</td>\n",
       "      <td>394.343750</td>\n",
       "      <td>1602.041667</td>\n",
       "      <td>transnet_bw</td>\n",
       "    </tr>\n",
       "    <tr>\n",
       "      <th>6371</th>\n",
       "      <td>2021-05-23</td>\n",
       "      <td>NaN</td>\n",
       "      <td>NaN</td>\n",
       "      <td>NaN</td>\n",
       "      <td>NaN</td>\n",
       "      <td>NaN</td>\n",
       "      <td>transnet_bw</td>\n",
       "    </tr>\n",
       "  </tbody>\n",
       "</table>\n",
       "</div>"
      ],
      "text/plain": [
       "            Date   Total[MWh]  Wind offshore[MWh]  Wind onshore[MWh]  \\\n",
       "6362  2021-05-14  4006.166667                 NaN          61.552083   \n",
       "6363  2021-05-15  3893.791667                 NaN         107.656250   \n",
       "6364  2021-05-16  3768.666667                 NaN         139.802083   \n",
       "6365  2021-05-17  4666.458333                 NaN         236.645833   \n",
       "6366  2021-05-18  4366.166667                 NaN         159.531250   \n",
       "6367  2021-05-19  4933.583333                 NaN          60.531250   \n",
       "6368  2021-05-20  4545.458333                 NaN          53.145833   \n",
       "6369  2021-05-21  4017.208333                 NaN         205.083333   \n",
       "6370  2021-05-22  4138.833333                 NaN         240.041667   \n",
       "6371  2021-05-23          NaN                 NaN                NaN   \n",
       "\n",
       "      Photovoltaics[MWh]   Other[MWh]       region  \n",
       "6362          316.510417  2495.000000  transnet_bw  \n",
       "6363          174.802083  2764.750000  transnet_bw  \n",
       "6364          247.354167  2221.125000  transnet_bw  \n",
       "6365          222.375000  2831.291667  transnet_bw  \n",
       "6366          259.708333  2690.166667  transnet_bw  \n",
       "6367          259.812500  3653.250000  transnet_bw  \n",
       "6368          291.010417  3170.166667  transnet_bw  \n",
       "6369          152.958333  2585.958333  transnet_bw  \n",
       "6370          394.343750  1602.041667  transnet_bw  \n",
       "6371                 NaN          NaN  transnet_bw  "
      ]
     },
     "execution_count": 143,
     "metadata": {},
     "output_type": "execute_result"
    }
   ],
   "source": [
    "df_deutschland_forecasted.tail(10)"
   ]
  },
  {
   "cell_type": "markdown",
   "id": "acf4ae88",
   "metadata": {
    "hidden": true
   },
   "source": [
    "## Capacity"
   ]
  },
  {
   "cell_type": "code",
   "execution_count": 173,
   "id": "1d8def1f",
   "metadata": {
    "hidden": true
   },
   "outputs": [
    {
     "data": {
      "text/plain": [
       "(28, 14)"
      ]
     },
     "execution_count": 173,
     "metadata": {},
     "output_type": "execute_result"
    }
   ],
   "source": [
    "df_deutschland_capacity = pd.DataFrame()\n",
    "\n",
    "for df, company in zip(capacity_dataframes.keys(), companies):\n",
    "        exec(f\"{df}['region'] = company\")\n",
    "        exec(f\"df_deutschland_capacity = df_deutschland_capacity.append({df}, ignore_index=True)\")\n",
    "\n",
    "df_deutschland_capacity.shape"
   ]
  },
  {
   "cell_type": "markdown",
   "id": "7bbd0082",
   "metadata": {
    "heading_collapsed": true
   },
   "source": [
    "# Saving DFs"
   ]
  },
  {
   "cell_type": "markdown",
   "id": "1bd0d1a9",
   "metadata": {
    "heading_collapsed": true,
    "hidden": true
   },
   "source": [
    "## Actual"
   ]
  },
  {
   "cell_type": "code",
   "execution_count": 56,
   "id": "6c4bc247",
   "metadata": {
    "hidden": true
   },
   "outputs": [],
   "source": [
    "final_columns = ['Date', 'Wind offshore[MWh]', 'Wind onshore[MWh]', 'Photovoltaics[MWh]', 'region']\n",
    "\n",
    "dataframes['df_deutschland'] = df_deutschland\n",
    "\n",
    "for df in dataframes.keys():\n",
    "    exec(f\"{df}[final_columns].to_csv('/Users/R/code/HaukeFock/predict_energy_generation/raw_data/energy_generation_data/{df}.csv', index=False)\")"
   ]
  },
  {
   "cell_type": "code",
   "execution_count": 55,
   "id": "3c1f8dd0",
   "metadata": {
    "hidden": true
   },
   "outputs": [
    {
     "data": {
      "text/html": [
       "<div>\n",
       "<style scoped>\n",
       "    .dataframe tbody tr th:only-of-type {\n",
       "        vertical-align: middle;\n",
       "    }\n",
       "\n",
       "    .dataframe tbody tr th {\n",
       "        vertical-align: top;\n",
       "    }\n",
       "\n",
       "    .dataframe thead th {\n",
       "        text-align: right;\n",
       "    }\n",
       "</style>\n",
       "<table border=\"1\" class=\"dataframe\">\n",
       "  <thead>\n",
       "    <tr style=\"text-align: right;\">\n",
       "      <th></th>\n",
       "      <th>Date</th>\n",
       "      <th>Wind offshore[MWh]</th>\n",
       "      <th>Wind onshore[MWh]</th>\n",
       "      <th>Photovoltaics[MWh]</th>\n",
       "      <th>region</th>\n",
       "    </tr>\n",
       "  </thead>\n",
       "  <tbody>\n",
       "    <tr>\n",
       "      <th>0</th>\n",
       "      <td>2015-01-01</td>\n",
       "      <td>11.989583</td>\n",
       "      <td>1278.427083</td>\n",
       "      <td>75.531250</td>\n",
       "      <td>50hertz</td>\n",
       "    </tr>\n",
       "    <tr>\n",
       "      <th>1</th>\n",
       "      <td>2015-01-02</td>\n",
       "      <td>9.947917</td>\n",
       "      <td>2555.510417</td>\n",
       "      <td>17.677083</td>\n",
       "      <td>50hertz</td>\n",
       "    </tr>\n",
       "    <tr>\n",
       "      <th>2</th>\n",
       "      <td>2015-01-03</td>\n",
       "      <td>11.281250</td>\n",
       "      <td>2308.958333</td>\n",
       "      <td>27.354167</td>\n",
       "      <td>50hertz</td>\n",
       "    </tr>\n",
       "    <tr>\n",
       "      <th>3</th>\n",
       "      <td>2015-01-04</td>\n",
       "      <td>11.354167</td>\n",
       "      <td>2079.041667</td>\n",
       "      <td>49.750000</td>\n",
       "      <td>50hertz</td>\n",
       "    </tr>\n",
       "    <tr>\n",
       "      <th>4</th>\n",
       "      <td>2015-01-05</td>\n",
       "      <td>4.104167</td>\n",
       "      <td>1333.343750</td>\n",
       "      <td>20.187500</td>\n",
       "      <td>50hertz</td>\n",
       "    </tr>\n",
       "  </tbody>\n",
       "</table>\n",
       "</div>"
      ],
      "text/plain": [
       "         Date  Wind offshore[MWh]  Wind onshore[MWh]  Photovoltaics[MWh]  \\\n",
       "0  2015-01-01           11.989583        1278.427083           75.531250   \n",
       "1  2015-01-02            9.947917        2555.510417           17.677083   \n",
       "2  2015-01-03           11.281250        2308.958333           27.354167   \n",
       "3  2015-01-04           11.354167        2079.041667           49.750000   \n",
       "4  2015-01-05            4.104167        1333.343750           20.187500   \n",
       "\n",
       "    region  \n",
       "0  50hertz  \n",
       "1  50hertz  \n",
       "2  50hertz  \n",
       "3  50hertz  \n",
       "4  50hertz  "
      ]
     },
     "execution_count": 55,
     "metadata": {},
     "output_type": "execute_result"
    }
   ],
   "source": [
    "df = pd.read_csv('/Users/R/code/HaukeFock/predict_energy_generation/raw_data/energy_generation_data/df_50hertz')\n",
    "df.head()"
   ]
  },
  {
   "cell_type": "markdown",
   "id": "a82d9e1e",
   "metadata": {
    "heading_collapsed": true,
    "hidden": true
   },
   "source": [
    "## Forecasted"
   ]
  },
  {
   "cell_type": "code",
   "execution_count": 175,
   "id": "aba81290",
   "metadata": {
    "hidden": true
   },
   "outputs": [
    {
     "ename": "KeyError",
     "evalue": "\"['Wind offshore[MW]', 'Photovoltaics[MW]', 'Wind onshore[MW]'] not in index\"",
     "output_type": "error",
     "traceback": [
      "\u001b[0;31m---------------------------------------------------------------------------\u001b[0m",
      "\u001b[0;31mKeyError\u001b[0m                                  Traceback (most recent call last)",
      "\u001b[0;32m<ipython-input-175-7cc8a162edc1>\u001b[0m in \u001b[0;36m<module>\u001b[0;34m\u001b[0m\n\u001b[1;32m      4\u001b[0m \u001b[0;34m\u001b[0m\u001b[0m\n\u001b[1;32m      5\u001b[0m \u001b[0;32mfor\u001b[0m \u001b[0mdf\u001b[0m \u001b[0;32min\u001b[0m \u001b[0mforecasted_dataframes\u001b[0m\u001b[0;34m.\u001b[0m\u001b[0mkeys\u001b[0m\u001b[0;34m(\u001b[0m\u001b[0;34m)\u001b[0m\u001b[0;34m:\u001b[0m\u001b[0;34m\u001b[0m\u001b[0;34m\u001b[0m\u001b[0m\n\u001b[0;32m----> 6\u001b[0;31m     \u001b[0mexec\u001b[0m\u001b[0;34m(\u001b[0m\u001b[0;34mf\"{df}[final_columns].to_csv('/Users/R/code/HaukeFock/predict_energy_generation/raw_data/forecasted_generation_data/{df}.csv', index=False)\"\u001b[0m\u001b[0;34m)\u001b[0m\u001b[0;34m\u001b[0m\u001b[0;34m\u001b[0m\u001b[0m\n\u001b[0m",
      "\u001b[0;32m<string>\u001b[0m in \u001b[0;36m<module>\u001b[0;34m\u001b[0m\n",
      "\u001b[0;32m~/.pyenv/versions/3.8.6/envs/predict_energy_generation/lib/python3.8/site-packages/pandas/core/frame.py\u001b[0m in \u001b[0;36m__getitem__\u001b[0;34m(self, key)\u001b[0m\n\u001b[1;32m   3028\u001b[0m             \u001b[0;32mif\u001b[0m \u001b[0mis_iterator\u001b[0m\u001b[0;34m(\u001b[0m\u001b[0mkey\u001b[0m\u001b[0;34m)\u001b[0m\u001b[0;34m:\u001b[0m\u001b[0;34m\u001b[0m\u001b[0;34m\u001b[0m\u001b[0m\n\u001b[1;32m   3029\u001b[0m                 \u001b[0mkey\u001b[0m \u001b[0;34m=\u001b[0m \u001b[0mlist\u001b[0m\u001b[0;34m(\u001b[0m\u001b[0mkey\u001b[0m\u001b[0;34m)\u001b[0m\u001b[0;34m\u001b[0m\u001b[0;34m\u001b[0m\u001b[0m\n\u001b[0;32m-> 3030\u001b[0;31m             \u001b[0mindexer\u001b[0m \u001b[0;34m=\u001b[0m \u001b[0mself\u001b[0m\u001b[0;34m.\u001b[0m\u001b[0mloc\u001b[0m\u001b[0;34m.\u001b[0m\u001b[0m_get_listlike_indexer\u001b[0m\u001b[0;34m(\u001b[0m\u001b[0mkey\u001b[0m\u001b[0;34m,\u001b[0m \u001b[0maxis\u001b[0m\u001b[0;34m=\u001b[0m\u001b[0;36m1\u001b[0m\u001b[0;34m,\u001b[0m \u001b[0mraise_missing\u001b[0m\u001b[0;34m=\u001b[0m\u001b[0;32mTrue\u001b[0m\u001b[0;34m)\u001b[0m\u001b[0;34m[\u001b[0m\u001b[0;36m1\u001b[0m\u001b[0;34m]\u001b[0m\u001b[0;34m\u001b[0m\u001b[0;34m\u001b[0m\u001b[0m\n\u001b[0m\u001b[1;32m   3031\u001b[0m \u001b[0;34m\u001b[0m\u001b[0m\n\u001b[1;32m   3032\u001b[0m         \u001b[0;31m# take() does not accept boolean indexers\u001b[0m\u001b[0;34m\u001b[0m\u001b[0;34m\u001b[0m\u001b[0;34m\u001b[0m\u001b[0m\n",
      "\u001b[0;32m~/.pyenv/versions/3.8.6/envs/predict_energy_generation/lib/python3.8/site-packages/pandas/core/indexing.py\u001b[0m in \u001b[0;36m_get_listlike_indexer\u001b[0;34m(self, key, axis, raise_missing)\u001b[0m\n\u001b[1;32m   1264\u001b[0m             \u001b[0mkeyarr\u001b[0m\u001b[0;34m,\u001b[0m \u001b[0mindexer\u001b[0m\u001b[0;34m,\u001b[0m \u001b[0mnew_indexer\u001b[0m \u001b[0;34m=\u001b[0m \u001b[0max\u001b[0m\u001b[0;34m.\u001b[0m\u001b[0m_reindex_non_unique\u001b[0m\u001b[0;34m(\u001b[0m\u001b[0mkeyarr\u001b[0m\u001b[0;34m)\u001b[0m\u001b[0;34m\u001b[0m\u001b[0;34m\u001b[0m\u001b[0m\n\u001b[1;32m   1265\u001b[0m \u001b[0;34m\u001b[0m\u001b[0m\n\u001b[0;32m-> 1266\u001b[0;31m         \u001b[0mself\u001b[0m\u001b[0;34m.\u001b[0m\u001b[0m_validate_read_indexer\u001b[0m\u001b[0;34m(\u001b[0m\u001b[0mkeyarr\u001b[0m\u001b[0;34m,\u001b[0m \u001b[0mindexer\u001b[0m\u001b[0;34m,\u001b[0m \u001b[0maxis\u001b[0m\u001b[0;34m,\u001b[0m \u001b[0mraise_missing\u001b[0m\u001b[0;34m=\u001b[0m\u001b[0mraise_missing\u001b[0m\u001b[0;34m)\u001b[0m\u001b[0;34m\u001b[0m\u001b[0;34m\u001b[0m\u001b[0m\n\u001b[0m\u001b[1;32m   1267\u001b[0m         \u001b[0;32mreturn\u001b[0m \u001b[0mkeyarr\u001b[0m\u001b[0;34m,\u001b[0m \u001b[0mindexer\u001b[0m\u001b[0;34m\u001b[0m\u001b[0;34m\u001b[0m\u001b[0m\n\u001b[1;32m   1268\u001b[0m \u001b[0;34m\u001b[0m\u001b[0m\n",
      "\u001b[0;32m~/.pyenv/versions/3.8.6/envs/predict_energy_generation/lib/python3.8/site-packages/pandas/core/indexing.py\u001b[0m in \u001b[0;36m_validate_read_indexer\u001b[0;34m(self, key, indexer, axis, raise_missing)\u001b[0m\n\u001b[1;32m   1314\u001b[0m             \u001b[0;32mif\u001b[0m \u001b[0mraise_missing\u001b[0m\u001b[0;34m:\u001b[0m\u001b[0;34m\u001b[0m\u001b[0;34m\u001b[0m\u001b[0m\n\u001b[1;32m   1315\u001b[0m                 \u001b[0mnot_found\u001b[0m \u001b[0;34m=\u001b[0m \u001b[0mlist\u001b[0m\u001b[0;34m(\u001b[0m\u001b[0mset\u001b[0m\u001b[0;34m(\u001b[0m\u001b[0mkey\u001b[0m\u001b[0;34m)\u001b[0m \u001b[0;34m-\u001b[0m \u001b[0mset\u001b[0m\u001b[0;34m(\u001b[0m\u001b[0max\u001b[0m\u001b[0;34m)\u001b[0m\u001b[0;34m)\u001b[0m\u001b[0;34m\u001b[0m\u001b[0;34m\u001b[0m\u001b[0m\n\u001b[0;32m-> 1316\u001b[0;31m                 \u001b[0;32mraise\u001b[0m \u001b[0mKeyError\u001b[0m\u001b[0;34m(\u001b[0m\u001b[0;34mf\"{not_found} not in index\"\u001b[0m\u001b[0;34m)\u001b[0m\u001b[0;34m\u001b[0m\u001b[0;34m\u001b[0m\u001b[0m\n\u001b[0m\u001b[1;32m   1317\u001b[0m \u001b[0;34m\u001b[0m\u001b[0m\n\u001b[1;32m   1318\u001b[0m             \u001b[0mnot_found\u001b[0m \u001b[0;34m=\u001b[0m \u001b[0mkey\u001b[0m\u001b[0;34m[\u001b[0m\u001b[0mmissing_mask\u001b[0m\u001b[0;34m]\u001b[0m\u001b[0;34m\u001b[0m\u001b[0;34m\u001b[0m\u001b[0m\n",
      "\u001b[0;31mKeyError\u001b[0m: \"['Wind offshore[MW]', 'Photovoltaics[MW]', 'Wind onshore[MW]'] not in index\""
     ]
    }
   ],
   "source": [
    "final_columns = ['Date', 'Wind offshore[MWh]', 'Wind onshore[MWh]', 'Photovoltaics[MWh]', 'region']\n",
    "\n",
    "forecasted_dataframes['df_deutschland_forecasted'] = df_deutschland_forecasted\n",
    "\n",
    "for df in forecasted_dataframes.keys():\n",
    "    exec(f\"{df}[final_columns].to_csv('/Users/R/code/HaukeFock/predict_energy_generation/raw_data/forecasted_generation_data/{df}.csv', index=False)\")"
   ]
  },
  {
   "cell_type": "markdown",
   "id": "836854b8",
   "metadata": {
    "heading_collapsed": true,
    "hidden": true
   },
   "source": [
    "## Capacity"
   ]
  },
  {
   "cell_type": "code",
   "execution_count": 177,
   "id": "a02ae10c",
   "metadata": {
    "hidden": true
   },
   "outputs": [],
   "source": [
    "final_columns = ['Date', 'Wind offshore[MW]', 'Wind onshore[MW]', 'Photovoltaics[MW]', 'region']\n",
    "\n",
    "capacity_dataframes['df_deutschland_capacity'] = df_deutschland_capacity\n",
    "\n",
    "for df in capacity_dataframes.keys():\n",
    "    exec(f\"{df}[final_columns].to_csv('/Users/R/code/HaukeFock/predict_energy_generation/raw_data/energy_capacity_data/{df}.csv', index=False)\")\n",
    "    "
   ]
  },
  {
   "cell_type": "markdown",
   "id": "978ab78a",
   "metadata": {
    "heading_collapsed": true
   },
   "source": [
    "# scratch"
   ]
  },
  {
   "cell_type": "code",
   "execution_count": 148,
   "id": "100ce7e3",
   "metadata": {
    "hidden": true
   },
   "outputs": [
    {
     "ename": "AttributeError",
     "evalue": "Can only use .dt accessor with datetimelike values",
     "output_type": "error",
     "traceback": [
      "\u001b[0;31m---------------------------------------------------------------------------\u001b[0m",
      "\u001b[0;31mAttributeError\u001b[0m                            Traceback (most recent call last)",
      "\u001b[0;32m<ipython-input-148-82bc2db12b55>\u001b[0m in \u001b[0;36m<module>\u001b[0;34m\u001b[0m\n\u001b[0;32m----> 1\u001b[0;31m \u001b[0mdf_deutschland\u001b[0m\u001b[0;34m.\u001b[0m\u001b[0mgroupby\u001b[0m\u001b[0;34m(\u001b[0m\u001b[0mby\u001b[0m\u001b[0;34m=\u001b[0m\u001b[0mdf_deutschland\u001b[0m\u001b[0;34m[\u001b[0m\u001b[0;34m'Date'\u001b[0m\u001b[0;34m]\u001b[0m\u001b[0;34m.\u001b[0m\u001b[0mdt\u001b[0m\u001b[0;34m.\u001b[0m\u001b[0mdate\u001b[0m\u001b[0;34m)\u001b[0m\u001b[0;34m.\u001b[0m\u001b[0msum\u001b[0m\u001b[0;34m(\u001b[0m\u001b[0;34m)\u001b[0m\u001b[0;34m\u001b[0m\u001b[0;34m\u001b[0m\u001b[0m\n\u001b[0m",
      "\u001b[0;32m~/.pyenv/versions/3.8.6/envs/predict_energy_generation/lib/python3.8/site-packages/pandas/core/generic.py\u001b[0m in \u001b[0;36m__getattr__\u001b[0;34m(self, name)\u001b[0m\n\u001b[1;32m   5459\u001b[0m             \u001b[0;32mor\u001b[0m \u001b[0mname\u001b[0m \u001b[0;32min\u001b[0m \u001b[0mself\u001b[0m\u001b[0;34m.\u001b[0m\u001b[0m_accessors\u001b[0m\u001b[0;34m\u001b[0m\u001b[0;34m\u001b[0m\u001b[0m\n\u001b[1;32m   5460\u001b[0m         ):\n\u001b[0;32m-> 5461\u001b[0;31m             \u001b[0;32mreturn\u001b[0m \u001b[0mobject\u001b[0m\u001b[0;34m.\u001b[0m\u001b[0m__getattribute__\u001b[0m\u001b[0;34m(\u001b[0m\u001b[0mself\u001b[0m\u001b[0;34m,\u001b[0m \u001b[0mname\u001b[0m\u001b[0;34m)\u001b[0m\u001b[0;34m\u001b[0m\u001b[0;34m\u001b[0m\u001b[0m\n\u001b[0m\u001b[1;32m   5462\u001b[0m         \u001b[0;32melse\u001b[0m\u001b[0;34m:\u001b[0m\u001b[0;34m\u001b[0m\u001b[0;34m\u001b[0m\u001b[0m\n\u001b[1;32m   5463\u001b[0m             \u001b[0;32mif\u001b[0m \u001b[0mself\u001b[0m\u001b[0;34m.\u001b[0m\u001b[0m_info_axis\u001b[0m\u001b[0;34m.\u001b[0m\u001b[0m_can_hold_identifiers_and_holds_name\u001b[0m\u001b[0;34m(\u001b[0m\u001b[0mname\u001b[0m\u001b[0;34m)\u001b[0m\u001b[0;34m:\u001b[0m\u001b[0;34m\u001b[0m\u001b[0;34m\u001b[0m\u001b[0m\n",
      "\u001b[0;32m~/.pyenv/versions/3.8.6/envs/predict_energy_generation/lib/python3.8/site-packages/pandas/core/accessor.py\u001b[0m in \u001b[0;36m__get__\u001b[0;34m(self, obj, cls)\u001b[0m\n\u001b[1;32m    178\u001b[0m             \u001b[0;31m# we're accessing the attribute of the class, i.e., Dataset.geo\u001b[0m\u001b[0;34m\u001b[0m\u001b[0;34m\u001b[0m\u001b[0;34m\u001b[0m\u001b[0m\n\u001b[1;32m    179\u001b[0m             \u001b[0;32mreturn\u001b[0m \u001b[0mself\u001b[0m\u001b[0;34m.\u001b[0m\u001b[0m_accessor\u001b[0m\u001b[0;34m\u001b[0m\u001b[0;34m\u001b[0m\u001b[0m\n\u001b[0;32m--> 180\u001b[0;31m         \u001b[0maccessor_obj\u001b[0m \u001b[0;34m=\u001b[0m \u001b[0mself\u001b[0m\u001b[0;34m.\u001b[0m\u001b[0m_accessor\u001b[0m\u001b[0;34m(\u001b[0m\u001b[0mobj\u001b[0m\u001b[0;34m)\u001b[0m\u001b[0;34m\u001b[0m\u001b[0;34m\u001b[0m\u001b[0m\n\u001b[0m\u001b[1;32m    181\u001b[0m         \u001b[0;31m# Replace the property with the accessor object. Inspired by:\u001b[0m\u001b[0;34m\u001b[0m\u001b[0;34m\u001b[0m\u001b[0;34m\u001b[0m\u001b[0m\n\u001b[1;32m    182\u001b[0m         \u001b[0;31m# https://www.pydanny.com/cached-property.html\u001b[0m\u001b[0;34m\u001b[0m\u001b[0;34m\u001b[0m\u001b[0;34m\u001b[0m\u001b[0m\n",
      "\u001b[0;32m~/.pyenv/versions/3.8.6/envs/predict_energy_generation/lib/python3.8/site-packages/pandas/core/indexes/accessors.py\u001b[0m in \u001b[0;36m__new__\u001b[0;34m(cls, data)\u001b[0m\n\u001b[1;32m    492\u001b[0m             \u001b[0;32mreturn\u001b[0m \u001b[0mPeriodProperties\u001b[0m\u001b[0;34m(\u001b[0m\u001b[0mdata\u001b[0m\u001b[0;34m,\u001b[0m \u001b[0morig\u001b[0m\u001b[0;34m)\u001b[0m\u001b[0;34m\u001b[0m\u001b[0;34m\u001b[0m\u001b[0m\n\u001b[1;32m    493\u001b[0m \u001b[0;34m\u001b[0m\u001b[0m\n\u001b[0;32m--> 494\u001b[0;31m         \u001b[0;32mraise\u001b[0m \u001b[0mAttributeError\u001b[0m\u001b[0;34m(\u001b[0m\u001b[0;34m\"Can only use .dt accessor with datetimelike values\"\u001b[0m\u001b[0;34m)\u001b[0m\u001b[0;34m\u001b[0m\u001b[0;34m\u001b[0m\u001b[0m\n\u001b[0m",
      "\u001b[0;31mAttributeError\u001b[0m: Can only use .dt accessor with datetimelike values"
     ]
    }
   ],
   "source": [
    "df_deutschland.groupby(by=df_deutschland['Date'].dt.date).sum()"
   ]
  },
  {
   "cell_type": "code",
   "execution_count": 150,
   "id": "03f0f677",
   "metadata": {
    "hidden": true
   },
   "outputs": [
    {
     "data": {
      "text/plain": [
       "0      2015-01-01\n",
       "1      2015-01-02\n",
       "2      2015-01-03\n",
       "3      2015-01-04\n",
       "4      2015-01-05\n",
       "          ...    \n",
       "8767   2020-12-28\n",
       "8768   2020-12-29\n",
       "8769   2020-12-30\n",
       "8770   2020-12-31\n",
       "8771   2021-01-01\n",
       "Name: Date, Length: 8772, dtype: datetime64[ns]"
      ]
     },
     "execution_count": 150,
     "metadata": {},
     "output_type": "execute_result"
    }
   ],
   "source": [
    "pd.to_datetime(df_deutschland['Date'])"
   ]
  },
  {
   "cell_type": "code",
   "execution_count": null,
   "id": "3f18249d",
   "metadata": {
    "hidden": true
   },
   "outputs": [],
   "source": []
  }
 ],
 "metadata": {
  "kernelspec": {
   "display_name": "Python 3",
   "language": "python",
   "name": "python3"
  },
  "language_info": {
   "codemirror_mode": {
    "name": "ipython",
    "version": 3
   },
   "file_extension": ".py",
   "mimetype": "text/x-python",
   "name": "python",
   "nbconvert_exporter": "python",
   "pygments_lexer": "ipython3",
   "version": "3.8.6"
  },
  "toc": {
   "base_numbering": 1,
   "nav_menu": {},
   "number_sections": true,
   "sideBar": true,
   "skip_h1_title": false,
   "title_cell": "Table of Contents",
   "title_sidebar": "Contents",
   "toc_cell": false,
   "toc_position": {
    "height": "calc(100% - 180px)",
    "left": "10px",
    "top": "150px",
    "width": "309.796875px"
   },
   "toc_section_display": true,
   "toc_window_display": true
  }
 },
 "nbformat": 4,
 "nbformat_minor": 5
}
