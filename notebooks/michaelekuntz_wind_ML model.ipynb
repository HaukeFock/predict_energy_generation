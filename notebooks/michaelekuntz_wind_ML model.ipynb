{
 "cells": [
  {
   "cell_type": "code",
   "execution_count": 1,
   "id": "c603b690",
   "metadata": {},
   "outputs": [],
   "source": [
    "import pandas as pd\n",
    "import numpy as np\n",
    "import datetime as dt\n",
    "import matplotlib.pyplot as plt\n",
    "import os\n",
    "from statsmodels.tsa.stattools import adfuller\n",
    "from statsmodels.graphics.tsaplots import plot_pacf, plot_acf\n",
    "from statsmodels.tsa.seasonal import seasonal_decompose\n",
    "from statsmodels.tsa.statespace.sarimax import SARIMAX"
   ]
  },
  {
   "cell_type": "markdown",
   "id": "be90dac2",
   "metadata": {},
   "source": [
    "# Importing data"
   ]
  },
  {
   "cell_type": "code",
   "execution_count": 2,
   "id": "e188c11a",
   "metadata": {},
   "outputs": [
    {
     "data": {
      "text/plain": [
       "'/Users/michael.kuntz/code/HaukeFock/predict_energy_generation/notebooks'"
      ]
     },
     "execution_count": 2,
     "metadata": {},
     "output_type": "execute_result"
    }
   ],
   "source": [
    "os.getcwd()"
   ]
  },
  {
   "cell_type": "code",
   "execution_count": 3,
   "id": "5c3fb193",
   "metadata": {},
   "outputs": [],
   "source": [
    "local_path = '/Users/michael.kuntz/code/HaukeFock/predict_energy_generation/raw_data/Target/energy_generation_data'"
   ]
  },
  {
   "cell_type": "code",
   "execution_count": 4,
   "id": "1e5f61a4",
   "metadata": {},
   "outputs": [],
   "source": [
    "for path, dirs, files in os.walk(local_path):\n",
    "    print(path)\n",
    "    for f in files:\n",
    "        print(f)"
   ]
  },
  {
   "cell_type": "code",
   "execution_count": 5,
   "id": "f3f9bfbe",
   "metadata": {},
   "outputs": [],
   "source": [
    "daily_data_path = '/Users/michael.kuntz/code/HaukeFock/predict_energy_generation/raw_data/Target/Daily/energy_generation_data/df_deutschland.csv'\n",
    "hourly_data_path = '/Users/michael.kuntz/code/HaukeFock/predict_energy_generation/raw_data/Target/Hourly/energy_generation_data/df_deutschland.csv'"
   ]
  },
  {
   "cell_type": "markdown",
   "id": "9bba16b6",
   "metadata": {},
   "source": [
    "## Importing target"
   ]
  },
  {
   "cell_type": "code",
   "execution_count": 6,
   "id": "1c16cb7e",
   "metadata": {},
   "outputs": [
    {
     "data": {
      "text/html": [
       "<div>\n",
       "<style scoped>\n",
       "    .dataframe tbody tr th:only-of-type {\n",
       "        vertical-align: middle;\n",
       "    }\n",
       "\n",
       "    .dataframe tbody tr th {\n",
       "        vertical-align: top;\n",
       "    }\n",
       "\n",
       "    .dataframe thead th {\n",
       "        text-align: right;\n",
       "    }\n",
       "</style>\n",
       "<table border=\"1\" class=\"dataframe\">\n",
       "  <thead>\n",
       "    <tr style=\"text-align: right;\">\n",
       "      <th></th>\n",
       "      <th>Wind offshore[MWh]</th>\n",
       "      <th>Wind onshore[MWh]</th>\n",
       "      <th>Photovoltaics[MWh]</th>\n",
       "      <th>region</th>\n",
       "    </tr>\n",
       "    <tr>\n",
       "      <th>Date</th>\n",
       "      <th></th>\n",
       "      <th></th>\n",
       "      <th></th>\n",
       "      <th></th>\n",
       "    </tr>\n",
       "  </thead>\n",
       "  <tbody>\n",
       "    <tr>\n",
       "      <th>2015-01-01</th>\n",
       "      <td>11.989583</td>\n",
       "      <td>1278.427083</td>\n",
       "      <td>75.531250</td>\n",
       "      <td>50hertz</td>\n",
       "    </tr>\n",
       "    <tr>\n",
       "      <th>2015-01-02</th>\n",
       "      <td>9.947917</td>\n",
       "      <td>2555.510417</td>\n",
       "      <td>17.677083</td>\n",
       "      <td>50hertz</td>\n",
       "    </tr>\n",
       "    <tr>\n",
       "      <th>2015-01-03</th>\n",
       "      <td>11.281250</td>\n",
       "      <td>2308.958333</td>\n",
       "      <td>27.354167</td>\n",
       "      <td>50hertz</td>\n",
       "    </tr>\n",
       "    <tr>\n",
       "      <th>2015-01-04</th>\n",
       "      <td>11.354167</td>\n",
       "      <td>2079.041667</td>\n",
       "      <td>49.750000</td>\n",
       "      <td>50hertz</td>\n",
       "    </tr>\n",
       "    <tr>\n",
       "      <th>2015-01-05</th>\n",
       "      <td>4.104167</td>\n",
       "      <td>1333.343750</td>\n",
       "      <td>20.187500</td>\n",
       "      <td>50hertz</td>\n",
       "    </tr>\n",
       "  </tbody>\n",
       "</table>\n",
       "</div>"
      ],
      "text/plain": [
       "            Wind offshore[MWh]  Wind onshore[MWh]  Photovoltaics[MWh]   region\n",
       "Date                                                                          \n",
       "2015-01-01           11.989583        1278.427083           75.531250  50hertz\n",
       "2015-01-02            9.947917        2555.510417           17.677083  50hertz\n",
       "2015-01-03           11.281250        2308.958333           27.354167  50hertz\n",
       "2015-01-04           11.354167        2079.041667           49.750000  50hertz\n",
       "2015-01-05            4.104167        1333.343750           20.187500  50hertz"
      ]
     },
     "execution_count": 6,
     "metadata": {},
     "output_type": "execute_result"
    }
   ],
   "source": [
    "daily_df = pd.read_csv(daily_data_path)\n",
    "\n",
    "daily_df['Date'] = pd.to_datetime(daily_df['Date'])\n",
    "daily_df.set_index('Date', inplace=True)\n",
    "\n",
    "daily_df.head()"
   ]
  },
  {
   "cell_type": "code",
   "execution_count": 7,
   "id": "471485ed",
   "metadata": {},
   "outputs": [
    {
     "data": {
      "text/html": [
       "<div>\n",
       "<style scoped>\n",
       "    .dataframe tbody tr th:only-of-type {\n",
       "        vertical-align: middle;\n",
       "    }\n",
       "\n",
       "    .dataframe tbody tr th {\n",
       "        vertical-align: top;\n",
       "    }\n",
       "\n",
       "    .dataframe thead th {\n",
       "        text-align: right;\n",
       "    }\n",
       "</style>\n",
       "<table border=\"1\" class=\"dataframe\">\n",
       "  <thead>\n",
       "    <tr style=\"text-align: right;\">\n",
       "      <th></th>\n",
       "      <th>Wind offshore[MWh]</th>\n",
       "      <th>Wind onshore[MWh]</th>\n",
       "      <th>Photovoltaics[MWh]</th>\n",
       "      <th>region</th>\n",
       "    </tr>\n",
       "    <tr>\n",
       "      <th>Date</th>\n",
       "      <th></th>\n",
       "      <th></th>\n",
       "      <th></th>\n",
       "      <th></th>\n",
       "    </tr>\n",
       "  </thead>\n",
       "  <tbody>\n",
       "    <tr>\n",
       "      <th>2021-01-01 19:00:00</th>\n",
       "      <td>0.0</td>\n",
       "      <td>13.0</td>\n",
       "      <td>0.0</td>\n",
       "      <td>transnet_bw</td>\n",
       "    </tr>\n",
       "    <tr>\n",
       "      <th>2021-01-01 20:00:00</th>\n",
       "      <td>0.0</td>\n",
       "      <td>21.0</td>\n",
       "      <td>0.0</td>\n",
       "      <td>transnet_bw</td>\n",
       "    </tr>\n",
       "    <tr>\n",
       "      <th>2021-01-01 21:00:00</th>\n",
       "      <td>0.0</td>\n",
       "      <td>18.0</td>\n",
       "      <td>0.0</td>\n",
       "      <td>transnet_bw</td>\n",
       "    </tr>\n",
       "    <tr>\n",
       "      <th>2021-01-01 22:00:00</th>\n",
       "      <td>0.0</td>\n",
       "      <td>25.0</td>\n",
       "      <td>0.0</td>\n",
       "      <td>transnet_bw</td>\n",
       "    </tr>\n",
       "    <tr>\n",
       "      <th>2021-01-01 23:00:00</th>\n",
       "      <td>0.0</td>\n",
       "      <td>29.0</td>\n",
       "      <td>0.0</td>\n",
       "      <td>transnet_bw</td>\n",
       "    </tr>\n",
       "  </tbody>\n",
       "</table>\n",
       "</div>"
      ],
      "text/plain": [
       "                     Wind offshore[MWh]  Wind onshore[MWh]  \\\n",
       "Date                                                         \n",
       "2021-01-01 19:00:00                 0.0               13.0   \n",
       "2021-01-01 20:00:00                 0.0               21.0   \n",
       "2021-01-01 21:00:00                 0.0               18.0   \n",
       "2021-01-01 22:00:00                 0.0               25.0   \n",
       "2021-01-01 23:00:00                 0.0               29.0   \n",
       "\n",
       "                     Photovoltaics[MWh]       region  \n",
       "Date                                                  \n",
       "2021-01-01 19:00:00                 0.0  transnet_bw  \n",
       "2021-01-01 20:00:00                 0.0  transnet_bw  \n",
       "2021-01-01 21:00:00                 0.0  transnet_bw  \n",
       "2021-01-01 22:00:00                 0.0  transnet_bw  \n",
       "2021-01-01 23:00:00                 0.0  transnet_bw  "
      ]
     },
     "execution_count": 7,
     "metadata": {},
     "output_type": "execute_result"
    }
   ],
   "source": [
    "hourly_df = pd.read_csv(hourly_data_path)\n",
    "\n",
    "hourly_df['Date'] = pd.to_datetime(hourly_df['Date'])\n",
    "hourly_df.set_index('Date', inplace=True)\n",
    "\n",
    "hourly_df.tail()"
   ]
  },
  {
   "cell_type": "code",
   "execution_count": 8,
   "id": "4ebcf35c",
   "metadata": {},
   "outputs": [
    {
     "data": {
      "text/html": [
       "<div>\n",
       "<style scoped>\n",
       "    .dataframe tbody tr th:only-of-type {\n",
       "        vertical-align: middle;\n",
       "    }\n",
       "\n",
       "    .dataframe tbody tr th {\n",
       "        vertical-align: top;\n",
       "    }\n",
       "\n",
       "    .dataframe thead th {\n",
       "        text-align: right;\n",
       "    }\n",
       "</style>\n",
       "<table border=\"1\" class=\"dataframe\">\n",
       "  <thead>\n",
       "    <tr style=\"text-align: right;\">\n",
       "      <th></th>\n",
       "      <th>Wind offshore[MWh]</th>\n",
       "      <th>Wind onshore[MWh]</th>\n",
       "      <th>Photovoltaics[MWh]</th>\n",
       "    </tr>\n",
       "    <tr>\n",
       "      <th>Date</th>\n",
       "      <th></th>\n",
       "      <th></th>\n",
       "      <th></th>\n",
       "    </tr>\n",
       "  </thead>\n",
       "  <tbody>\n",
       "    <tr>\n",
       "      <th>2015-01-01 00:00:00</th>\n",
       "      <td>517.0</td>\n",
       "      <td>8129.0</td>\n",
       "      <td>0.0</td>\n",
       "    </tr>\n",
       "    <tr>\n",
       "      <th>2015-01-01 01:00:00</th>\n",
       "      <td>516.0</td>\n",
       "      <td>8300.0</td>\n",
       "      <td>0.0</td>\n",
       "    </tr>\n",
       "    <tr>\n",
       "      <th>2015-01-01 02:00:00</th>\n",
       "      <td>514.0</td>\n",
       "      <td>8544.0</td>\n",
       "      <td>0.0</td>\n",
       "    </tr>\n",
       "    <tr>\n",
       "      <th>2015-01-01 03:00:00</th>\n",
       "      <td>519.0</td>\n",
       "      <td>8552.0</td>\n",
       "      <td>0.0</td>\n",
       "    </tr>\n",
       "    <tr>\n",
       "      <th>2015-01-01 04:00:00</th>\n",
       "      <td>522.0</td>\n",
       "      <td>8646.0</td>\n",
       "      <td>0.0</td>\n",
       "    </tr>\n",
       "  </tbody>\n",
       "</table>\n",
       "</div>"
      ],
      "text/plain": [
       "                     Wind offshore[MWh]  Wind onshore[MWh]  Photovoltaics[MWh]\n",
       "Date                                                                          \n",
       "2015-01-01 00:00:00               517.0             8129.0                 0.0\n",
       "2015-01-01 01:00:00               516.0             8300.0                 0.0\n",
       "2015-01-01 02:00:00               514.0             8544.0                 0.0\n",
       "2015-01-01 03:00:00               519.0             8552.0                 0.0\n",
       "2015-01-01 04:00:00               522.0             8646.0                 0.0"
      ]
     },
     "execution_count": 8,
     "metadata": {},
     "output_type": "execute_result"
    }
   ],
   "source": [
    "hourly_de_df = hourly_df.groupby(hourly_df.index).sum()\n",
    "hourly_de_df.head()"
   ]
  },
  {
   "cell_type": "code",
   "execution_count": 9,
   "id": "027044e6",
   "metadata": {},
   "outputs": [
    {
     "data": {
      "text/html": [
       "<div>\n",
       "<style scoped>\n",
       "    .dataframe tbody tr th:only-of-type {\n",
       "        vertical-align: middle;\n",
       "    }\n",
       "\n",
       "    .dataframe tbody tr th {\n",
       "        vertical-align: top;\n",
       "    }\n",
       "\n",
       "    .dataframe thead th {\n",
       "        text-align: right;\n",
       "    }\n",
       "</style>\n",
       "<table border=\"1\" class=\"dataframe\">\n",
       "  <thead>\n",
       "    <tr style=\"text-align: right;\">\n",
       "      <th></th>\n",
       "      <th>Wind[MWh]</th>\n",
       "    </tr>\n",
       "    <tr>\n",
       "      <th>Date</th>\n",
       "      <th></th>\n",
       "    </tr>\n",
       "  </thead>\n",
       "  <tbody>\n",
       "    <tr>\n",
       "      <th>2015-01-01 00:00:00</th>\n",
       "      <td>8646.0</td>\n",
       "    </tr>\n",
       "    <tr>\n",
       "      <th>2015-01-01 01:00:00</th>\n",
       "      <td>8816.0</td>\n",
       "    </tr>\n",
       "    <tr>\n",
       "      <th>2015-01-01 02:00:00</th>\n",
       "      <td>9058.0</td>\n",
       "    </tr>\n",
       "    <tr>\n",
       "      <th>2015-01-01 03:00:00</th>\n",
       "      <td>9071.0</td>\n",
       "    </tr>\n",
       "    <tr>\n",
       "      <th>2015-01-01 04:00:00</th>\n",
       "      <td>9168.0</td>\n",
       "    </tr>\n",
       "  </tbody>\n",
       "</table>\n",
       "</div>"
      ],
      "text/plain": [
       "                     Wind[MWh]\n",
       "Date                          \n",
       "2015-01-01 00:00:00     8646.0\n",
       "2015-01-01 01:00:00     8816.0\n",
       "2015-01-01 02:00:00     9058.0\n",
       "2015-01-01 03:00:00     9071.0\n",
       "2015-01-01 04:00:00     9168.0"
      ]
     },
     "execution_count": 9,
     "metadata": {},
     "output_type": "execute_result"
    }
   ],
   "source": [
    "hourly_wind_de_df = pd.DataFrame(hourly_de_df.iloc[:,0] + hourly_de_df.iloc[:,1],columns=['Wind[MWh]'])\n",
    "hourly_wind_de_df.head()"
   ]
  },
  {
   "cell_type": "code",
   "execution_count": 10,
   "id": "c09ef809",
   "metadata": {},
   "outputs": [
    {
     "data": {
      "text/html": [
       "<div>\n",
       "<style scoped>\n",
       "    .dataframe tbody tr th:only-of-type {\n",
       "        vertical-align: middle;\n",
       "    }\n",
       "\n",
       "    .dataframe tbody tr th {\n",
       "        vertical-align: top;\n",
       "    }\n",
       "\n",
       "    .dataframe thead th {\n",
       "        text-align: right;\n",
       "    }\n",
       "</style>\n",
       "<table border=\"1\" class=\"dataframe\">\n",
       "  <thead>\n",
       "    <tr style=\"text-align: right;\">\n",
       "      <th></th>\n",
       "      <th>Wind[MWh]</th>\n",
       "    </tr>\n",
       "    <tr>\n",
       "      <th>Date</th>\n",
       "      <th></th>\n",
       "    </tr>\n",
       "  </thead>\n",
       "  <tbody>\n",
       "    <tr>\n",
       "      <th>2021-01-01 19:00:00</th>\n",
       "      <td>4845.0</td>\n",
       "    </tr>\n",
       "    <tr>\n",
       "      <th>2021-01-01 20:00:00</th>\n",
       "      <td>5028.0</td>\n",
       "    </tr>\n",
       "    <tr>\n",
       "      <th>2021-01-01 21:00:00</th>\n",
       "      <td>5204.0</td>\n",
       "    </tr>\n",
       "    <tr>\n",
       "      <th>2021-01-01 22:00:00</th>\n",
       "      <td>5681.0</td>\n",
       "    </tr>\n",
       "    <tr>\n",
       "      <th>2021-01-01 23:00:00</th>\n",
       "      <td>5333.0</td>\n",
       "    </tr>\n",
       "  </tbody>\n",
       "</table>\n",
       "</div>"
      ],
      "text/plain": [
       "                     Wind[MWh]\n",
       "Date                          \n",
       "2021-01-01 19:00:00     4845.0\n",
       "2021-01-01 20:00:00     5028.0\n",
       "2021-01-01 21:00:00     5204.0\n",
       "2021-01-01 22:00:00     5681.0\n",
       "2021-01-01 23:00:00     5333.0"
      ]
     },
     "execution_count": 10,
     "metadata": {},
     "output_type": "execute_result"
    }
   ],
   "source": [
    "hourly_wind_de_df.tail()"
   ]
  },
  {
   "cell_type": "markdown",
   "id": "ec673b31",
   "metadata": {},
   "source": [
    "## Importing features"
   ]
  },
  {
   "cell_type": "code",
   "execution_count": 11,
   "id": "9e333566",
   "metadata": {},
   "outputs": [],
   "source": [
    "feature_path = daily_data_path = '/Users/michael.kuntz/code/HaukeFock/predict_energy_generation/raw_data/Features/DATAFRAMES'\n",
    "\n",
    "hourly_windspeed_df = pd.read_csv(os.path.join(feature_path,'wind_hourly_clean.csv'))\n",
    "hourly_airp_df = pd.read_csv(os.path.join(feature_path,'hourly_airp_df.csv'))"
   ]
  },
  {
   "cell_type": "code",
   "execution_count": 12,
   "id": "c16a7b87",
   "metadata": {},
   "outputs": [
    {
     "data": {
      "text/html": [
       "<div>\n",
       "<style scoped>\n",
       "    .dataframe tbody tr th:only-of-type {\n",
       "        vertical-align: middle;\n",
       "    }\n",
       "\n",
       "    .dataframe tbody tr th {\n",
       "        vertical-align: top;\n",
       "    }\n",
       "\n",
       "    .dataframe thead th {\n",
       "        text-align: right;\n",
       "    }\n",
       "</style>\n",
       "<table border=\"1\" class=\"dataframe\">\n",
       "  <thead>\n",
       "    <tr style=\"text-align: right;\">\n",
       "      <th></th>\n",
       "      <th>Date</th>\n",
       "      <th>90</th>\n",
       "      <th>125</th>\n",
       "      <th>161</th>\n",
       "      <th>164</th>\n",
       "      <th>183</th>\n",
       "      <th>197</th>\n",
       "      <th>198</th>\n",
       "      <th>232</th>\n",
       "      <th>282</th>\n",
       "      <th>...</th>\n",
       "      <th>15000</th>\n",
       "      <th>15044</th>\n",
       "      <th>15120</th>\n",
       "      <th>15122</th>\n",
       "      <th>15189</th>\n",
       "      <th>15200</th>\n",
       "      <th>15207</th>\n",
       "      <th>15214</th>\n",
       "      <th>15444</th>\n",
       "      <th>1001</th>\n",
       "    </tr>\n",
       "  </thead>\n",
       "  <tbody>\n",
       "    <tr>\n",
       "      <th>0</th>\n",
       "      <td>2015-01-01 00:00:00</td>\n",
       "      <td>2.1</td>\n",
       "      <td>0.7</td>\n",
       "      <td>0.9</td>\n",
       "      <td>5.1</td>\n",
       "      <td>11.3</td>\n",
       "      <td>3.2</td>\n",
       "      <td>1.6</td>\n",
       "      <td>1.1</td>\n",
       "      <td>0.7</td>\n",
       "      <td>...</td>\n",
       "      <td>3.9</td>\n",
       "      <td>0.8</td>\n",
       "      <td>4.9</td>\n",
       "      <td>3.2</td>\n",
       "      <td>4.4</td>\n",
       "      <td>3.0</td>\n",
       "      <td>0.5</td>\n",
       "      <td>1.2</td>\n",
       "      <td>1.0</td>\n",
       "      <td>2.2</td>\n",
       "    </tr>\n",
       "    <tr>\n",
       "      <th>1</th>\n",
       "      <td>2015-01-01 01:00:00</td>\n",
       "      <td>2.7</td>\n",
       "      <td>0.3</td>\n",
       "      <td>0.8</td>\n",
       "      <td>4.9</td>\n",
       "      <td>13.0</td>\n",
       "      <td>3.2</td>\n",
       "      <td>2.6</td>\n",
       "      <td>1.5</td>\n",
       "      <td>0.9</td>\n",
       "      <td>...</td>\n",
       "      <td>3.4</td>\n",
       "      <td>0.7</td>\n",
       "      <td>5.3</td>\n",
       "      <td>2.6</td>\n",
       "      <td>6.0</td>\n",
       "      <td>2.8</td>\n",
       "      <td>0.8</td>\n",
       "      <td>1.1</td>\n",
       "      <td>1.0</td>\n",
       "      <td>2.5</td>\n",
       "    </tr>\n",
       "    <tr>\n",
       "      <th>2</th>\n",
       "      <td>2015-01-01 02:00:00</td>\n",
       "      <td>2.5</td>\n",
       "      <td>0.8</td>\n",
       "      <td>1.3</td>\n",
       "      <td>3.9</td>\n",
       "      <td>12.8</td>\n",
       "      <td>3.2</td>\n",
       "      <td>3.2</td>\n",
       "      <td>1.7</td>\n",
       "      <td>0.9</td>\n",
       "      <td>...</td>\n",
       "      <td>3.8</td>\n",
       "      <td>1.3</td>\n",
       "      <td>4.8</td>\n",
       "      <td>2.3</td>\n",
       "      <td>5.7</td>\n",
       "      <td>3.1</td>\n",
       "      <td>0.5</td>\n",
       "      <td>1.8</td>\n",
       "      <td>1.2</td>\n",
       "      <td>2.6</td>\n",
       "    </tr>\n",
       "    <tr>\n",
       "      <th>3</th>\n",
       "      <td>2015-01-01 03:00:00</td>\n",
       "      <td>2.0</td>\n",
       "      <td>0.7</td>\n",
       "      <td>1.4</td>\n",
       "      <td>3.7</td>\n",
       "      <td>12.4</td>\n",
       "      <td>3.2</td>\n",
       "      <td>3.5</td>\n",
       "      <td>1.5</td>\n",
       "      <td>0.6</td>\n",
       "      <td>...</td>\n",
       "      <td>4.2</td>\n",
       "      <td>1.1</td>\n",
       "      <td>4.2</td>\n",
       "      <td>2.5</td>\n",
       "      <td>5.4</td>\n",
       "      <td>3.2</td>\n",
       "      <td>0.7</td>\n",
       "      <td>1.1</td>\n",
       "      <td>1.0</td>\n",
       "      <td>2.8</td>\n",
       "    </tr>\n",
       "    <tr>\n",
       "      <th>4</th>\n",
       "      <td>2015-01-01 04:00:00</td>\n",
       "      <td>1.1</td>\n",
       "      <td>0.9</td>\n",
       "      <td>1.7</td>\n",
       "      <td>4.2</td>\n",
       "      <td>12.2</td>\n",
       "      <td>3.2</td>\n",
       "      <td>3.4</td>\n",
       "      <td>1.7</td>\n",
       "      <td>1.0</td>\n",
       "      <td>...</td>\n",
       "      <td>4.4</td>\n",
       "      <td>0.9</td>\n",
       "      <td>4.1</td>\n",
       "      <td>1.8</td>\n",
       "      <td>6.1</td>\n",
       "      <td>3.6</td>\n",
       "      <td>0.8</td>\n",
       "      <td>0.9</td>\n",
       "      <td>1.4</td>\n",
       "      <td>2.8</td>\n",
       "    </tr>\n",
       "  </tbody>\n",
       "</table>\n",
       "<p>5 rows × 261 columns</p>\n",
       "</div>"
      ],
      "text/plain": [
       "                  Date   90  125  161  164   183  197  198  232  282  ...  \\\n",
       "0  2015-01-01 00:00:00  2.1  0.7  0.9  5.1  11.3  3.2  1.6  1.1  0.7  ...   \n",
       "1  2015-01-01 01:00:00  2.7  0.3  0.8  4.9  13.0  3.2  2.6  1.5  0.9  ...   \n",
       "2  2015-01-01 02:00:00  2.5  0.8  1.3  3.9  12.8  3.2  3.2  1.7  0.9  ...   \n",
       "3  2015-01-01 03:00:00  2.0  0.7  1.4  3.7  12.4  3.2  3.5  1.5  0.6  ...   \n",
       "4  2015-01-01 04:00:00  1.1  0.9  1.7  4.2  12.2  3.2  3.4  1.7  1.0  ...   \n",
       "\n",
       "   15000  15044  15120  15122  15189  15200  15207  15214  15444  1001  \n",
       "0    3.9    0.8    4.9    3.2    4.4    3.0    0.5    1.2    1.0   2.2  \n",
       "1    3.4    0.7    5.3    2.6    6.0    2.8    0.8    1.1    1.0   2.5  \n",
       "2    3.8    1.3    4.8    2.3    5.7    3.1    0.5    1.8    1.2   2.6  \n",
       "3    4.2    1.1    4.2    2.5    5.4    3.2    0.7    1.1    1.0   2.8  \n",
       "4    4.4    0.9    4.1    1.8    6.1    3.6    0.8    0.9    1.4   2.8  \n",
       "\n",
       "[5 rows x 261 columns]"
      ]
     },
     "execution_count": 12,
     "metadata": {},
     "output_type": "execute_result"
    }
   ],
   "source": [
    "hourly_windspeed_df.head()"
   ]
  },
  {
   "cell_type": "code",
   "execution_count": 13,
   "id": "24293769",
   "metadata": {},
   "outputs": [
    {
     "data": {
      "text/html": [
       "<div>\n",
       "<style scoped>\n",
       "    .dataframe tbody tr th:only-of-type {\n",
       "        vertical-align: middle;\n",
       "    }\n",
       "\n",
       "    .dataframe tbody tr th {\n",
       "        vertical-align: top;\n",
       "    }\n",
       "\n",
       "    .dataframe thead th {\n",
       "        text-align: right;\n",
       "    }\n",
       "</style>\n",
       "<table border=\"1\" class=\"dataframe\">\n",
       "  <thead>\n",
       "    <tr style=\"text-align: right;\">\n",
       "      <th></th>\n",
       "      <th>Date</th>\n",
       "      <th>44</th>\n",
       "      <th>71</th>\n",
       "      <th>73</th>\n",
       "      <th>78</th>\n",
       "      <th>91</th>\n",
       "      <th>96</th>\n",
       "      <th>102</th>\n",
       "      <th>125</th>\n",
       "      <th>131</th>\n",
       "      <th>...</th>\n",
       "      <th>13711</th>\n",
       "      <th>13713</th>\n",
       "      <th>13777</th>\n",
       "      <th>13965</th>\n",
       "      <th>15000</th>\n",
       "      <th>15207</th>\n",
       "      <th>15444</th>\n",
       "      <th>15555</th>\n",
       "      <th>19171</th>\n",
       "      <th>19172</th>\n",
       "    </tr>\n",
       "  </thead>\n",
       "  <tbody>\n",
       "    <tr>\n",
       "      <th>0</th>\n",
       "      <td>2015-01-01 00:00:00</td>\n",
       "      <td>2.2</td>\n",
       "      <td>-3.7</td>\n",
       "      <td>-2.1</td>\n",
       "      <td>1.6</td>\n",
       "      <td>0.6</td>\n",
       "      <td>NaN</td>\n",
       "      <td>3.9</td>\n",
       "      <td>-9.6</td>\n",
       "      <td>1.1</td>\n",
       "      <td>...</td>\n",
       "      <td>1.9</td>\n",
       "      <td>1.1</td>\n",
       "      <td>4.2</td>\n",
       "      <td>-2.9</td>\n",
       "      <td>1.2</td>\n",
       "      <td>0.1</td>\n",
       "      <td>-2.2</td>\n",
       "      <td>NaN</td>\n",
       "      <td>NaN</td>\n",
       "      <td>NaN</td>\n",
       "    </tr>\n",
       "    <tr>\n",
       "      <th>1</th>\n",
       "      <td>2015-01-01 01:00:00</td>\n",
       "      <td>2.5</td>\n",
       "      <td>-3.8</td>\n",
       "      <td>-1.7</td>\n",
       "      <td>1.9</td>\n",
       "      <td>0.5</td>\n",
       "      <td>NaN</td>\n",
       "      <td>3.3</td>\n",
       "      <td>-8.8</td>\n",
       "      <td>1.3</td>\n",
       "      <td>...</td>\n",
       "      <td>1.7</td>\n",
       "      <td>0.9</td>\n",
       "      <td>3.7</td>\n",
       "      <td>-5.2</td>\n",
       "      <td>1.0</td>\n",
       "      <td>-0.8</td>\n",
       "      <td>-1.8</td>\n",
       "      <td>NaN</td>\n",
       "      <td>NaN</td>\n",
       "      <td>NaN</td>\n",
       "    </tr>\n",
       "    <tr>\n",
       "      <th>2</th>\n",
       "      <td>2015-01-01 02:00:00</td>\n",
       "      <td>2.3</td>\n",
       "      <td>-4.4</td>\n",
       "      <td>-1.8</td>\n",
       "      <td>1.6</td>\n",
       "      <td>0.3</td>\n",
       "      <td>NaN</td>\n",
       "      <td>3.7</td>\n",
       "      <td>-12.5</td>\n",
       "      <td>1.2</td>\n",
       "      <td>...</td>\n",
       "      <td>1.6</td>\n",
       "      <td>1.0</td>\n",
       "      <td>3.1</td>\n",
       "      <td>-5.3</td>\n",
       "      <td>1.1</td>\n",
       "      <td>-1.4</td>\n",
       "      <td>-2.3</td>\n",
       "      <td>NaN</td>\n",
       "      <td>NaN</td>\n",
       "      <td>NaN</td>\n",
       "    </tr>\n",
       "    <tr>\n",
       "      <th>3</th>\n",
       "      <td>2015-01-01 03:00:00</td>\n",
       "      <td>2.3</td>\n",
       "      <td>-3.2</td>\n",
       "      <td>-2.0</td>\n",
       "      <td>1.5</td>\n",
       "      <td>0.4</td>\n",
       "      <td>NaN</td>\n",
       "      <td>3.8</td>\n",
       "      <td>-11.0</td>\n",
       "      <td>1.4</td>\n",
       "      <td>...</td>\n",
       "      <td>1.5</td>\n",
       "      <td>0.9</td>\n",
       "      <td>1.8</td>\n",
       "      <td>-4.0</td>\n",
       "      <td>0.5</td>\n",
       "      <td>-1.7</td>\n",
       "      <td>-3.5</td>\n",
       "      <td>NaN</td>\n",
       "      <td>NaN</td>\n",
       "      <td>NaN</td>\n",
       "    </tr>\n",
       "    <tr>\n",
       "      <th>4</th>\n",
       "      <td>2015-01-01 04:00:00</td>\n",
       "      <td>1.9</td>\n",
       "      <td>-3.4</td>\n",
       "      <td>-1.7</td>\n",
       "      <td>1.5</td>\n",
       "      <td>0.4</td>\n",
       "      <td>NaN</td>\n",
       "      <td>3.8</td>\n",
       "      <td>-10.6</td>\n",
       "      <td>1.5</td>\n",
       "      <td>...</td>\n",
       "      <td>1.2</td>\n",
       "      <td>0.9</td>\n",
       "      <td>2.2</td>\n",
       "      <td>-3.6</td>\n",
       "      <td>0.9</td>\n",
       "      <td>-1.5</td>\n",
       "      <td>-1.6</td>\n",
       "      <td>NaN</td>\n",
       "      <td>NaN</td>\n",
       "      <td>NaN</td>\n",
       "    </tr>\n",
       "  </tbody>\n",
       "</table>\n",
       "<p>5 rows × 516 columns</p>\n",
       "</div>"
      ],
      "text/plain": [
       "                  Date   44   71   73   78   91  96  102   125  131  ...  \\\n",
       "0  2015-01-01 00:00:00  2.2 -3.7 -2.1  1.6  0.6 NaN  3.9  -9.6  1.1  ...   \n",
       "1  2015-01-01 01:00:00  2.5 -3.8 -1.7  1.9  0.5 NaN  3.3  -8.8  1.3  ...   \n",
       "2  2015-01-01 02:00:00  2.3 -4.4 -1.8  1.6  0.3 NaN  3.7 -12.5  1.2  ...   \n",
       "3  2015-01-01 03:00:00  2.3 -3.2 -2.0  1.5  0.4 NaN  3.8 -11.0  1.4  ...   \n",
       "4  2015-01-01 04:00:00  1.9 -3.4 -1.7  1.5  0.4 NaN  3.8 -10.6  1.5  ...   \n",
       "\n",
       "   13711  13713  13777  13965  15000  15207  15444  15555  19171  19172  \n",
       "0    1.9    1.1    4.2   -2.9    1.2    0.1   -2.2    NaN    NaN    NaN  \n",
       "1    1.7    0.9    3.7   -5.2    1.0   -0.8   -1.8    NaN    NaN    NaN  \n",
       "2    1.6    1.0    3.1   -5.3    1.1   -1.4   -2.3    NaN    NaN    NaN  \n",
       "3    1.5    0.9    1.8   -4.0    0.5   -1.7   -3.5    NaN    NaN    NaN  \n",
       "4    1.2    0.9    2.2   -3.6    0.9   -1.5   -1.6    NaN    NaN    NaN  \n",
       "\n",
       "[5 rows x 516 columns]"
      ]
     },
     "execution_count": 13,
     "metadata": {},
     "output_type": "execute_result"
    }
   ],
   "source": [
    "hourly_airp_df.head()"
   ]
  },
  {
   "cell_type": "code",
   "execution_count": 14,
   "id": "6cf1da79",
   "metadata": {},
   "outputs": [
    {
     "data": {
      "text/plain": [
       "Date      object\n",
       "90       float64\n",
       "125      float64\n",
       "161      float64\n",
       "164      float64\n",
       "          ...   \n",
       "15200    float64\n",
       "15207    float64\n",
       "15214    float64\n",
       "15444    float64\n",
       "1001     float64\n",
       "Length: 261, dtype: object"
      ]
     },
     "execution_count": 14,
     "metadata": {},
     "output_type": "execute_result"
    }
   ],
   "source": [
    "hourly_windspeed_df.dtypes"
   ]
  },
  {
   "cell_type": "code",
   "execution_count": 15,
   "id": "8f49d19c",
   "metadata": {},
   "outputs": [
    {
     "data": {
      "text/plain": [
       "Date      object\n",
       "44       float64\n",
       "71       float64\n",
       "73       float64\n",
       "78       float64\n",
       "          ...   \n",
       "15207    float64\n",
       "15444    float64\n",
       "15555    float64\n",
       "19171    float64\n",
       "19172    float64\n",
       "Length: 516, dtype: object"
      ]
     },
     "execution_count": 15,
     "metadata": {},
     "output_type": "execute_result"
    }
   ],
   "source": [
    "hourly_airp_df.dtypes"
   ]
  },
  {
   "cell_type": "code",
   "execution_count": 16,
   "id": "f1d0b583",
   "metadata": {},
   "outputs": [],
   "source": [
    "hourly_windspeed_df['Date'] = pd.to_datetime(hourly_windspeed_df['Date'])"
   ]
  },
  {
   "cell_type": "code",
   "execution_count": 17,
   "id": "f8439c8c",
   "metadata": {},
   "outputs": [],
   "source": [
    "hourly_airp_df['Date'] = pd.to_datetime(hourly_airp_df['Date'])"
   ]
  },
  {
   "cell_type": "code",
   "execution_count": 18,
   "id": "515bbe30",
   "metadata": {},
   "outputs": [],
   "source": [
    "hourly_windspeed_df.set_index('Date',inplace=True)"
   ]
  },
  {
   "cell_type": "code",
   "execution_count": 19,
   "id": "ce96f809",
   "metadata": {},
   "outputs": [],
   "source": [
    "hourly_airp_df.set_index('Date',inplace=True)"
   ]
  },
  {
   "cell_type": "markdown",
   "id": "f575b9c4",
   "metadata": {},
   "source": [
    "# Exploring data"
   ]
  },
  {
   "cell_type": "code",
   "execution_count": 20,
   "id": "81c87b31",
   "metadata": {},
   "outputs": [
    {
     "name": "stdout",
     "output_type": "stream",
     "text": [
      "<class 'pandas.core.frame.DataFrame'>\n",
      "DatetimeIndex: 210528 entries, 2015-01-01 00:00:00 to 2021-01-01 23:00:00\n",
      "Data columns (total 4 columns):\n",
      " #   Column              Non-Null Count   Dtype  \n",
      "---  ------              --------------   -----  \n",
      " 0   Wind offshore[MWh]  210528 non-null  float64\n",
      " 1   Wind onshore[MWh]   210528 non-null  float64\n",
      " 2   Photovoltaics[MWh]  210528 non-null  float64\n",
      " 3   region              210528 non-null  object \n",
      "dtypes: float64(3), object(1)\n",
      "memory usage: 8.0+ MB\n"
     ]
    }
   ],
   "source": [
    "hourly_df.info()"
   ]
  },
  {
   "cell_type": "code",
   "execution_count": 21,
   "id": "95a6cd46",
   "metadata": {},
   "outputs": [
    {
     "data": {
      "text/html": [
       "<div>\n",
       "<style scoped>\n",
       "    .dataframe tbody tr th:only-of-type {\n",
       "        vertical-align: middle;\n",
       "    }\n",
       "\n",
       "    .dataframe tbody tr th {\n",
       "        vertical-align: top;\n",
       "    }\n",
       "\n",
       "    .dataframe thead th {\n",
       "        text-align: right;\n",
       "    }\n",
       "</style>\n",
       "<table border=\"1\" class=\"dataframe\">\n",
       "  <thead>\n",
       "    <tr style=\"text-align: right;\">\n",
       "      <th></th>\n",
       "      <th>Wind offshore[MWh]</th>\n",
       "      <th>Wind onshore[MWh]</th>\n",
       "      <th>Photovoltaics[MWh]</th>\n",
       "    </tr>\n",
       "  </thead>\n",
       "  <tbody>\n",
       "    <tr>\n",
       "      <th>count</th>\n",
       "      <td>210528.000000</td>\n",
       "      <td>210528.000000</td>\n",
       "      <td>210528.000000</td>\n",
       "    </tr>\n",
       "    <tr>\n",
       "      <th>mean</th>\n",
       "      <td>511.995312</td>\n",
       "      <td>2435.146745</td>\n",
       "      <td>1113.356722</td>\n",
       "    </tr>\n",
       "    <tr>\n",
       "      <th>std</th>\n",
       "      <td>1047.092125</td>\n",
       "      <td>2897.781013</td>\n",
       "      <td>1866.234916</td>\n",
       "    </tr>\n",
       "    <tr>\n",
       "      <th>min</th>\n",
       "      <td>0.000000</td>\n",
       "      <td>0.000000</td>\n",
       "      <td>0.000000</td>\n",
       "    </tr>\n",
       "    <tr>\n",
       "      <th>25%</th>\n",
       "      <td>0.000000</td>\n",
       "      <td>331.000000</td>\n",
       "      <td>0.000000</td>\n",
       "    </tr>\n",
       "    <tr>\n",
       "      <th>50%</th>\n",
       "      <td>0.000000</td>\n",
       "      <td>1256.000000</td>\n",
       "      <td>27.000000</td>\n",
       "    </tr>\n",
       "    <tr>\n",
       "      <th>75%</th>\n",
       "      <td>393.000000</td>\n",
       "      <td>3566.000000</td>\n",
       "      <td>1577.000000</td>\n",
       "    </tr>\n",
       "    <tr>\n",
       "      <th>max</th>\n",
       "      <td>10519.000000</td>\n",
       "      <td>29676.000000</td>\n",
       "      <td>12301.000000</td>\n",
       "    </tr>\n",
       "  </tbody>\n",
       "</table>\n",
       "</div>"
      ],
      "text/plain": [
       "       Wind offshore[MWh]  Wind onshore[MWh]  Photovoltaics[MWh]\n",
       "count       210528.000000      210528.000000       210528.000000\n",
       "mean           511.995312        2435.146745         1113.356722\n",
       "std           1047.092125        2897.781013         1866.234916\n",
       "min              0.000000           0.000000            0.000000\n",
       "25%              0.000000         331.000000            0.000000\n",
       "50%              0.000000        1256.000000           27.000000\n",
       "75%            393.000000        3566.000000         1577.000000\n",
       "max          10519.000000       29676.000000        12301.000000"
      ]
     },
     "execution_count": 21,
     "metadata": {},
     "output_type": "execute_result"
    }
   ],
   "source": [
    "hourly_df.describe()"
   ]
  },
  {
   "cell_type": "code",
   "execution_count": 22,
   "id": "436b27e0",
   "metadata": {},
   "outputs": [
    {
     "data": {
      "text/plain": [
       "Wind offshore[MWh]    0\n",
       "Wind onshore[MWh]     0\n",
       "Photovoltaics[MWh]    0\n",
       "region                0\n",
       "dtype: int64"
      ]
     },
     "execution_count": 22,
     "metadata": {},
     "output_type": "execute_result"
    }
   ],
   "source": [
    "hourly_df.isna().sum()"
   ]
  },
  {
   "cell_type": "code",
   "execution_count": 23,
   "id": "5f6e835b",
   "metadata": {},
   "outputs": [
    {
     "data": {
      "text/html": [
       "<div>\n",
       "<style scoped>\n",
       "    .dataframe tbody tr th:only-of-type {\n",
       "        vertical-align: middle;\n",
       "    }\n",
       "\n",
       "    .dataframe tbody tr th {\n",
       "        vertical-align: top;\n",
       "    }\n",
       "\n",
       "    .dataframe thead th {\n",
       "        text-align: right;\n",
       "    }\n",
       "</style>\n",
       "<table border=\"1\" class=\"dataframe\">\n",
       "  <thead>\n",
       "    <tr style=\"text-align: right;\">\n",
       "      <th></th>\n",
       "      <th>Wind offshore[MWh]</th>\n",
       "      <th>Wind onshore[MWh]</th>\n",
       "      <th>Photovoltaics[MWh]</th>\n",
       "    </tr>\n",
       "    <tr>\n",
       "      <th>Date</th>\n",
       "      <th></th>\n",
       "      <th></th>\n",
       "      <th></th>\n",
       "    </tr>\n",
       "  </thead>\n",
       "  <tbody>\n",
       "    <tr>\n",
       "      <th>2015-01-01 00:00:00</th>\n",
       "      <td>517.0</td>\n",
       "      <td>8129.0</td>\n",
       "      <td>0.0</td>\n",
       "    </tr>\n",
       "    <tr>\n",
       "      <th>2015-01-01 01:00:00</th>\n",
       "      <td>516.0</td>\n",
       "      <td>8300.0</td>\n",
       "      <td>0.0</td>\n",
       "    </tr>\n",
       "    <tr>\n",
       "      <th>2015-01-01 02:00:00</th>\n",
       "      <td>514.0</td>\n",
       "      <td>8544.0</td>\n",
       "      <td>0.0</td>\n",
       "    </tr>\n",
       "    <tr>\n",
       "      <th>2015-01-01 03:00:00</th>\n",
       "      <td>519.0</td>\n",
       "      <td>8552.0</td>\n",
       "      <td>0.0</td>\n",
       "    </tr>\n",
       "    <tr>\n",
       "      <th>2015-01-01 04:00:00</th>\n",
       "      <td>522.0</td>\n",
       "      <td>8646.0</td>\n",
       "      <td>0.0</td>\n",
       "    </tr>\n",
       "  </tbody>\n",
       "</table>\n",
       "</div>"
      ],
      "text/plain": [
       "                     Wind offshore[MWh]  Wind onshore[MWh]  Photovoltaics[MWh]\n",
       "Date                                                                          \n",
       "2015-01-01 00:00:00               517.0             8129.0                 0.0\n",
       "2015-01-01 01:00:00               516.0             8300.0                 0.0\n",
       "2015-01-01 02:00:00               514.0             8544.0                 0.0\n",
       "2015-01-01 03:00:00               519.0             8552.0                 0.0\n",
       "2015-01-01 04:00:00               522.0             8646.0                 0.0"
      ]
     },
     "execution_count": 23,
     "metadata": {},
     "output_type": "execute_result"
    }
   ],
   "source": [
    "hourly_de_df = hourly_df.groupby(hourly_df.index).sum()\n",
    "hourly_de_df.head()"
   ]
  },
  {
   "cell_type": "code",
   "execution_count": 24,
   "id": "e8f9434d",
   "metadata": {},
   "outputs": [
    {
     "data": {
      "text/html": [
       "<div>\n",
       "<style scoped>\n",
       "    .dataframe tbody tr th:only-of-type {\n",
       "        vertical-align: middle;\n",
       "    }\n",
       "\n",
       "    .dataframe tbody tr th {\n",
       "        vertical-align: top;\n",
       "    }\n",
       "\n",
       "    .dataframe thead th {\n",
       "        text-align: right;\n",
       "    }\n",
       "</style>\n",
       "<table border=\"1\" class=\"dataframe\">\n",
       "  <thead>\n",
       "    <tr style=\"text-align: right;\">\n",
       "      <th></th>\n",
       "      <th>Wind[MWh]</th>\n",
       "    </tr>\n",
       "  </thead>\n",
       "  <tbody>\n",
       "    <tr>\n",
       "      <th>count</th>\n",
       "      <td>52632.000000</td>\n",
       "    </tr>\n",
       "    <tr>\n",
       "      <th>mean</th>\n",
       "      <td>11788.568228</td>\n",
       "    </tr>\n",
       "    <tr>\n",
       "      <th>std</th>\n",
       "      <td>9232.743682</td>\n",
       "    </tr>\n",
       "    <tr>\n",
       "      <th>min</th>\n",
       "      <td>0.000000</td>\n",
       "    </tr>\n",
       "    <tr>\n",
       "      <th>25%</th>\n",
       "      <td>4591.750000</td>\n",
       "    </tr>\n",
       "    <tr>\n",
       "      <th>50%</th>\n",
       "      <td>9229.000000</td>\n",
       "    </tr>\n",
       "    <tr>\n",
       "      <th>75%</th>\n",
       "      <td>16630.250000</td>\n",
       "    </tr>\n",
       "    <tr>\n",
       "      <th>max</th>\n",
       "      <td>77102.000000</td>\n",
       "    </tr>\n",
       "  </tbody>\n",
       "</table>\n",
       "</div>"
      ],
      "text/plain": [
       "          Wind[MWh]\n",
       "count  52632.000000\n",
       "mean   11788.568228\n",
       "std     9232.743682\n",
       "min        0.000000\n",
       "25%     4591.750000\n",
       "50%     9229.000000\n",
       "75%    16630.250000\n",
       "max    77102.000000"
      ]
     },
     "execution_count": 24,
     "metadata": {},
     "output_type": "execute_result"
    }
   ],
   "source": [
    "hourly_wind_de_df.describe()"
   ]
  },
  {
   "cell_type": "markdown",
   "id": "1e667d31",
   "metadata": {},
   "source": [
    "## Plotting datasets"
   ]
  },
  {
   "cell_type": "code",
   "execution_count": 25,
   "id": "ac447a32",
   "metadata": {},
   "outputs": [
    {
     "data": {
      "text/plain": [
       "(array([2.618e+03, 5.136e+03, 5.533e+03, 4.910e+03, 4.347e+03, 3.831e+03,\n",
       "        3.473e+03, 3.022e+03, 2.660e+03, 2.371e+03, 1.979e+03, 1.785e+03,\n",
       "        1.529e+03, 1.282e+03, 1.210e+03, 1.059e+03, 9.680e+02, 8.780e+02,\n",
       "        7.420e+02, 6.850e+02, 5.440e+02, 4.580e+02, 3.900e+02, 3.370e+02,\n",
       "        3.110e+02, 1.980e+02, 1.870e+02, 1.000e+02, 5.300e+01, 9.000e+00,\n",
       "        1.000e+00, 0.000e+00, 2.000e+00, 0.000e+00, 1.000e+00, 1.000e+00,\n",
       "        1.000e+00, 0.000e+00, 2.000e+00, 0.000e+00, 1.000e+00, 3.000e+00,\n",
       "        1.000e+00, 1.000e+00, 0.000e+00, 0.000e+00, 2.000e+00, 5.000e+00,\n",
       "        1.000e+00, 5.000e+00]),\n",
       " array([    0.  ,  1542.04,  3084.08,  4626.12,  6168.16,  7710.2 ,\n",
       "         9252.24, 10794.28, 12336.32, 13878.36, 15420.4 , 16962.44,\n",
       "        18504.48, 20046.52, 21588.56, 23130.6 , 24672.64, 26214.68,\n",
       "        27756.72, 29298.76, 30840.8 , 32382.84, 33924.88, 35466.92,\n",
       "        37008.96, 38551.  , 40093.04, 41635.08, 43177.12, 44719.16,\n",
       "        46261.2 , 47803.24, 49345.28, 50887.32, 52429.36, 53971.4 ,\n",
       "        55513.44, 57055.48, 58597.52, 60139.56, 61681.6 , 63223.64,\n",
       "        64765.68, 66307.72, 67849.76, 69391.8 , 70933.84, 72475.88,\n",
       "        74017.92, 75559.96, 77102.  ]),\n",
       " <BarContainer object of 50 artists>)"
      ]
     },
     "execution_count": 25,
     "metadata": {},
     "output_type": "execute_result"
    },
    {
     "data": {
      "image/png": "[encoded data removed]",
      "text/plain": [
       "<Figure size 432x288 with 1 Axes>"
      ]
     },
     "metadata": {
      "needs_background": "light"
     },
     "output_type": "display_data"
    }
   ],
   "source": [
    "plt.hist(hourly_wind_de_df, bins = 50)"
   ]
  },
  {
   "cell_type": "code",
   "execution_count": 26,
   "id": "b04d8cff",
   "metadata": {},
   "outputs": [
    {
     "data": {
      "text/plain": [
       "[<matplotlib.lines.Line2D at 0x13afaf4f0>]"
      ]
     },
     "execution_count": 26,
     "metadata": {},
     "output_type": "execute_result"
    },
    {
     "data": {
      "image/png": "[encoded data removed]",
      "text/plain": [
       "<Figure size 432x288 with 1 Axes>"
      ]
     },
     "metadata": {
      "needs_background": "light"
     },
     "output_type": "display_data"
    }
   ],
   "source": [
    "plt.plot(hourly_wind_de_df)"
   ]
  },
  {
   "cell_type": "code",
   "execution_count": 27,
   "id": "236212ed",
   "metadata": {},
   "outputs": [
    {
     "data": {
      "text/plain": [
       "[<matplotlib.lines.Line2D at 0x13ab4f220>]"
      ]
     },
     "execution_count": 27,
     "metadata": {},
     "output_type": "execute_result"
    },
    {
     "data": {
      "image/png": "[encoded data removed]",
      "text/plain": [
       "<Figure size 864x576 with 1 Axes>"
      ]
     },
     "metadata": {
      "needs_background": "light"
     },
     "output_type": "display_data"
    }
   ],
   "source": [
    "fig, ax = plt.subplots(1,1,figsize=(12,8))\n",
    "ax.plot(np.log(hourly_wind_de_df.loc[:dt.date(2016,3,1)]))"
   ]
  },
  {
   "cell_type": "code",
   "execution_count": 28,
   "id": "22ba72a4",
   "metadata": {},
   "outputs": [
    {
     "data": {
      "text/plain": [
       "{'whiskers': [<matplotlib.lines.Line2D at 0x13b22c880>,\n",
       "  <matplotlib.lines.Line2D at 0x13b22cb50>],\n",
       " 'caps': [<matplotlib.lines.Line2D at 0x13b22cee0>,\n",
       "  <matplotlib.lines.Line2D at 0x13b2372b0>],\n",
       " 'boxes': [<matplotlib.lines.Line2D at 0x13b22c430>],\n",
       " 'medians': [<matplotlib.lines.Line2D at 0x13b237640>],\n",
       " 'fliers': [<matplotlib.lines.Line2D at 0x13b2379d0>],\n",
       " 'means': []}"
      ]
     },
     "execution_count": 28,
     "metadata": {},
     "output_type": "execute_result"
    },
    {
     "data": {
      "image/png": "[encoded data removed]",
      "text/plain": [
       "<Figure size 432x288 with 1 Axes>"
      ]
     },
     "metadata": {
      "needs_background": "light"
     },
     "output_type": "display_data"
    }
   ],
   "source": [
    "plt.boxplot(hourly_wind_de_df)"
   ]
  },
  {
   "cell_type": "markdown",
   "id": "1dd14d3e",
   "metadata": {},
   "source": [
    "## Check for stationarity"
   ]
  },
  {
   "cell_type": "code",
   "execution_count": 29,
   "id": "d26adb57",
   "metadata": {},
   "outputs": [],
   "source": [
    "from statsmodels.tsa.seasonal import seasonal_decompose"
   ]
  },
  {
   "cell_type": "code",
   "execution_count": 30,
   "id": "52f9999b",
   "metadata": {},
   "outputs": [
    {
     "data": {
      "image/png": "[encoded data removed]",
      "text/plain": [
       "<Figure size 432x288 with 4 Axes>"
      ]
     },
     "metadata": {
      "needs_background": "light"
     },
     "output_type": "display_data"
    }
   ],
   "source": [
    "result_add = seasonal_decompose(hourly_wind_de_df['Wind[MWh]'], model='additive')\n",
    "result_add.plot();"
   ]
  },
  {
   "cell_type": "code",
   "execution_count": 31,
   "id": "9c7dc804",
   "metadata": {},
   "outputs": [
    {
     "data": {
      "text/plain": [
       "3.966579862447787e-29"
      ]
     },
     "execution_count": 31,
     "metadata": {},
     "output_type": "execute_result"
    }
   ],
   "source": [
    "from statsmodels.tsa.stattools import adfuller\n",
    "\n",
    "adfuller(hourly_wind_de_df['Wind[MWh]'])[1]"
   ]
  },
  {
   "cell_type": "code",
   "execution_count": 32,
   "id": "d033ac89",
   "metadata": {},
   "outputs": [
    {
     "name": "stdout",
     "output_type": "stream",
     "text": [
      "additive resid:  0.0\n"
     ]
    }
   ],
   "source": [
    "print('additive resid: ', adfuller(result_add.resid.dropna())[1])"
   ]
  },
  {
   "cell_type": "code",
   "execution_count": 33,
   "id": "dc7fed16",
   "metadata": {},
   "outputs": [
    {
     "data": {
      "image/png": "[encoded data removed]",
      "text/plain": [
       "<Figure size 432x288 with 1 Axes>"
      ]
     },
     "metadata": {
      "needs_background": "light"
     },
     "output_type": "display_data"
    }
   ],
   "source": [
    "from statsmodels.graphics.tsaplots import plot_acf\n",
    "plot_acf(hourly_wind_de_df['Wind[MWh]'], lags=50)\n",
    "plt.show()"
   ]
  },
  {
   "cell_type": "code",
   "execution_count": 34,
   "id": "fdb966df",
   "metadata": {},
   "outputs": [],
   "source": [
    "y = hourly_wind_de_df['Wind[MWh]']"
   ]
  },
  {
   "cell_type": "code",
   "execution_count": 35,
   "id": "132e99a2",
   "metadata": {},
   "outputs": [
    {
     "data": {
      "image/png": "[encoded data removed]",
      "text/plain": [
       "<Figure size 432x288 with 1 Axes>"
      ]
     },
     "metadata": {
      "needs_background": "light"
     },
     "output_type": "display_data"
    }
   ],
   "source": [
    "plot_acf(y.diff(1).dropna(), lags=120);"
   ]
  },
  {
   "cell_type": "code",
   "execution_count": 36,
   "id": "00331a4e",
   "metadata": {},
   "outputs": [
    {
     "data": {
      "image/png": "[encoded data removed]",
      "text/plain": [
       "<Figure size 432x288 with 1 Axes>"
      ]
     },
     "metadata": {
      "needs_background": "light"
     },
     "output_type": "display_data"
    }
   ],
   "source": [
    "import statsmodels as sm\n",
    "from statsmodels.graphics.tsaplots import plot_pacf\n",
    "plot_pacf(hourly_wind_de_df['Wind[MWh]'], lags=50, c='r')\n",
    "plt.show()"
   ]
  },
  {
   "cell_type": "code",
   "execution_count": 37,
   "id": "b0dcc540",
   "metadata": {},
   "outputs": [
    {
     "data": {
      "image/png": "[encoded data removed]",
      "text/plain": [
       "<Figure size 1152x216 with 2 Axes>"
      ]
     },
     "metadata": {
      "needs_background": "light"
     },
     "output_type": "display_data"
    }
   ],
   "source": [
    "from statsmodels.graphics.tsaplots import plot_pacf\n",
    "fig, axes = plt.subplots(1,2, figsize=(16,3))\n",
    "plot_acf(hourly_wind_de_df['Wind[MWh]'], lags=50, ax=axes[0]);\n",
    "plot_pacf(hourly_wind_de_df['Wind[MWh]'], lags=50, ax=axes[1], color='r');"
   ]
  },
  {
   "cell_type": "code",
   "execution_count": 38,
   "id": "e902140d",
   "metadata": {},
   "outputs": [
    {
     "data": {
      "image/png": "[encoded data removed]",
      "text/plain": [
       "<Figure size 1440x288 with 3 Axes>"
      ]
     },
     "metadata": {
      "needs_background": "light"
     },
     "output_type": "display_data"
    }
   ],
   "source": [
    "zero_diff = y\n",
    "first_order_diff = y.diff(1)\n",
    "second_order_diff = y.diff(1).diff(1)\n",
    "\n",
    "\n",
    "fig, (ax1, ax2, ax3) = plt.subplots(1, 3, figsize=(20,4))\n",
    "ax1.plot(zero_diff); ax1.set_title('Original Series')\n",
    "ax2.plot(first_order_diff); ax2.set_title('1st Order Differencing')\n",
    "ax3.plot(second_order_diff); ax3.set_title('2nd Order Differencing');"
   ]
  },
  {
   "cell_type": "markdown",
   "id": "010191a9",
   "metadata": {},
   "source": [
    "## Building train/ test split"
   ]
  },
  {
   "cell_type": "code",
   "execution_count": 39,
   "id": "9e543ae0",
   "metadata": {},
   "outputs": [
    {
     "data": {
      "text/html": [
       "<div>\n",
       "<style scoped>\n",
       "    .dataframe tbody tr th:only-of-type {\n",
       "        vertical-align: middle;\n",
       "    }\n",
       "\n",
       "    .dataframe tbody tr th {\n",
       "        vertical-align: top;\n",
       "    }\n",
       "\n",
       "    .dataframe thead th {\n",
       "        text-align: right;\n",
       "    }\n",
       "</style>\n",
       "<table border=\"1\" class=\"dataframe\">\n",
       "  <thead>\n",
       "    <tr style=\"text-align: right;\">\n",
       "      <th></th>\n",
       "      <th>90</th>\n",
       "      <th>125</th>\n",
       "      <th>161</th>\n",
       "      <th>164</th>\n",
       "      <th>183</th>\n",
       "      <th>197</th>\n",
       "      <th>198</th>\n",
       "      <th>232</th>\n",
       "      <th>282</th>\n",
       "      <th>298</th>\n",
       "      <th>...</th>\n",
       "      <th>15000</th>\n",
       "      <th>15044</th>\n",
       "      <th>15120</th>\n",
       "      <th>15122</th>\n",
       "      <th>15189</th>\n",
       "      <th>15200</th>\n",
       "      <th>15207</th>\n",
       "      <th>15214</th>\n",
       "      <th>15444</th>\n",
       "      <th>1001</th>\n",
       "    </tr>\n",
       "    <tr>\n",
       "      <th>Date</th>\n",
       "      <th></th>\n",
       "      <th></th>\n",
       "      <th></th>\n",
       "      <th></th>\n",
       "      <th></th>\n",
       "      <th></th>\n",
       "      <th></th>\n",
       "      <th></th>\n",
       "      <th></th>\n",
       "      <th></th>\n",
       "      <th></th>\n",
       "      <th></th>\n",
       "      <th></th>\n",
       "      <th></th>\n",
       "      <th></th>\n",
       "      <th></th>\n",
       "      <th></th>\n",
       "      <th></th>\n",
       "      <th></th>\n",
       "      <th></th>\n",
       "      <th></th>\n",
       "    </tr>\n",
       "  </thead>\n",
       "  <tbody>\n",
       "    <tr>\n",
       "      <th>2015-01-01 00:00:00</th>\n",
       "      <td>2.1</td>\n",
       "      <td>0.7</td>\n",
       "      <td>0.9</td>\n",
       "      <td>5.1</td>\n",
       "      <td>11.3</td>\n",
       "      <td>3.2</td>\n",
       "      <td>1.6</td>\n",
       "      <td>1.1</td>\n",
       "      <td>0.7</td>\n",
       "      <td>7.0</td>\n",
       "      <td>...</td>\n",
       "      <td>3.9</td>\n",
       "      <td>0.8</td>\n",
       "      <td>4.9</td>\n",
       "      <td>3.2</td>\n",
       "      <td>4.4</td>\n",
       "      <td>3.0</td>\n",
       "      <td>0.5</td>\n",
       "      <td>1.2</td>\n",
       "      <td>1.0</td>\n",
       "      <td>2.2</td>\n",
       "    </tr>\n",
       "    <tr>\n",
       "      <th>2015-01-01 01:00:00</th>\n",
       "      <td>2.7</td>\n",
       "      <td>0.3</td>\n",
       "      <td>0.8</td>\n",
       "      <td>4.9</td>\n",
       "      <td>13.0</td>\n",
       "      <td>3.2</td>\n",
       "      <td>2.6</td>\n",
       "      <td>1.5</td>\n",
       "      <td>0.9</td>\n",
       "      <td>7.4</td>\n",
       "      <td>...</td>\n",
       "      <td>3.4</td>\n",
       "      <td>0.7</td>\n",
       "      <td>5.3</td>\n",
       "      <td>2.6</td>\n",
       "      <td>6.0</td>\n",
       "      <td>2.8</td>\n",
       "      <td>0.8</td>\n",
       "      <td>1.1</td>\n",
       "      <td>1.0</td>\n",
       "      <td>2.5</td>\n",
       "    </tr>\n",
       "    <tr>\n",
       "      <th>2015-01-01 02:00:00</th>\n",
       "      <td>2.5</td>\n",
       "      <td>0.8</td>\n",
       "      <td>1.3</td>\n",
       "      <td>3.9</td>\n",
       "      <td>12.8</td>\n",
       "      <td>3.2</td>\n",
       "      <td>3.2</td>\n",
       "      <td>1.7</td>\n",
       "      <td>0.9</td>\n",
       "      <td>7.1</td>\n",
       "      <td>...</td>\n",
       "      <td>3.8</td>\n",
       "      <td>1.3</td>\n",
       "      <td>4.8</td>\n",
       "      <td>2.3</td>\n",
       "      <td>5.7</td>\n",
       "      <td>3.1</td>\n",
       "      <td>0.5</td>\n",
       "      <td>1.8</td>\n",
       "      <td>1.2</td>\n",
       "      <td>2.6</td>\n",
       "    </tr>\n",
       "    <tr>\n",
       "      <th>2015-01-01 03:00:00</th>\n",
       "      <td>2.0</td>\n",
       "      <td>0.7</td>\n",
       "      <td>1.4</td>\n",
       "      <td>3.7</td>\n",
       "      <td>12.4</td>\n",
       "      <td>3.2</td>\n",
       "      <td>3.5</td>\n",
       "      <td>1.5</td>\n",
       "      <td>0.6</td>\n",
       "      <td>6.9</td>\n",
       "      <td>...</td>\n",
       "      <td>4.2</td>\n",
       "      <td>1.1</td>\n",
       "      <td>4.2</td>\n",
       "      <td>2.5</td>\n",
       "      <td>5.4</td>\n",
       "      <td>3.2</td>\n",
       "      <td>0.7</td>\n",
       "      <td>1.1</td>\n",
       "      <td>1.0</td>\n",
       "      <td>2.8</td>\n",
       "    </tr>\n",
       "    <tr>\n",
       "      <th>2015-01-01 04:00:00</th>\n",
       "      <td>1.1</td>\n",
       "      <td>0.9</td>\n",
       "      <td>1.7</td>\n",
       "      <td>4.2</td>\n",
       "      <td>12.2</td>\n",
       "      <td>3.2</td>\n",
       "      <td>3.4</td>\n",
       "      <td>1.7</td>\n",
       "      <td>1.0</td>\n",
       "      <td>6.0</td>\n",
       "      <td>...</td>\n",
       "      <td>4.4</td>\n",
       "      <td>0.9</td>\n",
       "      <td>4.1</td>\n",
       "      <td>1.8</td>\n",
       "      <td>6.1</td>\n",
       "      <td>3.6</td>\n",
       "      <td>0.8</td>\n",
       "      <td>0.9</td>\n",
       "      <td>1.4</td>\n",
       "      <td>2.8</td>\n",
       "    </tr>\n",
       "  </tbody>\n",
       "</table>\n",
       "<p>5 rows × 260 columns</p>\n",
       "</div>"
      ],
      "text/plain": [
       "                      90  125  161  164   183  197  198  232  282  298  ...  \\\n",
       "Date                                                                    ...   \n",
       "2015-01-01 00:00:00  2.1  0.7  0.9  5.1  11.3  3.2  1.6  1.1  0.7  7.0  ...   \n",
       "2015-01-01 01:00:00  2.7  0.3  0.8  4.9  13.0  3.2  2.6  1.5  0.9  7.4  ...   \n",
       "2015-01-01 02:00:00  2.5  0.8  1.3  3.9  12.8  3.2  3.2  1.7  0.9  7.1  ...   \n",
       "2015-01-01 03:00:00  2.0  0.7  1.4  3.7  12.4  3.2  3.5  1.5  0.6  6.9  ...   \n",
       "2015-01-01 04:00:00  1.1  0.9  1.7  4.2  12.2  3.2  3.4  1.7  1.0  6.0  ...   \n",
       "\n",
       "                     15000  15044  15120  15122  15189  15200  15207  15214  \\\n",
       "Date                                                                          \n",
       "2015-01-01 00:00:00    3.9    0.8    4.9    3.2    4.4    3.0    0.5    1.2   \n",
       "2015-01-01 01:00:00    3.4    0.7    5.3    2.6    6.0    2.8    0.8    1.1   \n",
       "2015-01-01 02:00:00    3.8    1.3    4.8    2.3    5.7    3.1    0.5    1.8   \n",
       "2015-01-01 03:00:00    4.2    1.1    4.2    2.5    5.4    3.2    0.7    1.1   \n",
       "2015-01-01 04:00:00    4.4    0.9    4.1    1.8    6.1    3.6    0.8    0.9   \n",
       "\n",
       "                     15444  1001  \n",
       "Date                              \n",
       "2015-01-01 00:00:00    1.0   2.2  \n",
       "2015-01-01 01:00:00    1.0   2.5  \n",
       "2015-01-01 02:00:00    1.2   2.6  \n",
       "2015-01-01 03:00:00    1.0   2.8  \n",
       "2015-01-01 04:00:00    1.4   2.8  \n",
       "\n",
       "[5 rows x 260 columns]"
      ]
     },
     "execution_count": 39,
     "metadata": {},
     "output_type": "execute_result"
    }
   ],
   "source": [
    "hourly_windspeed_df.head()"
   ]
  },
  {
   "cell_type": "code",
   "execution_count": 40,
   "id": "ade0e961",
   "metadata": {},
   "outputs": [
    {
     "data": {
      "text/html": [
       "<div>\n",
       "<style scoped>\n",
       "    .dataframe tbody tr th:only-of-type {\n",
       "        vertical-align: middle;\n",
       "    }\n",
       "\n",
       "    .dataframe tbody tr th {\n",
       "        vertical-align: top;\n",
       "    }\n",
       "\n",
       "    .dataframe thead th {\n",
       "        text-align: right;\n",
       "    }\n",
       "</style>\n",
       "<table border=\"1\" class=\"dataframe\">\n",
       "  <thead>\n",
       "    <tr style=\"text-align: right;\">\n",
       "      <th></th>\n",
       "      <th>90</th>\n",
       "      <th>125</th>\n",
       "      <th>161</th>\n",
       "      <th>164</th>\n",
       "      <th>183</th>\n",
       "      <th>197</th>\n",
       "      <th>198</th>\n",
       "      <th>232</th>\n",
       "      <th>282</th>\n",
       "      <th>298</th>\n",
       "      <th>...</th>\n",
       "      <th>15000</th>\n",
       "      <th>15044</th>\n",
       "      <th>15120</th>\n",
       "      <th>15122</th>\n",
       "      <th>15189</th>\n",
       "      <th>15200</th>\n",
       "      <th>15207</th>\n",
       "      <th>15214</th>\n",
       "      <th>15444</th>\n",
       "      <th>1001</th>\n",
       "    </tr>\n",
       "    <tr>\n",
       "      <th>Date</th>\n",
       "      <th></th>\n",
       "      <th></th>\n",
       "      <th></th>\n",
       "      <th></th>\n",
       "      <th></th>\n",
       "      <th></th>\n",
       "      <th></th>\n",
       "      <th></th>\n",
       "      <th></th>\n",
       "      <th></th>\n",
       "      <th></th>\n",
       "      <th></th>\n",
       "      <th></th>\n",
       "      <th></th>\n",
       "      <th></th>\n",
       "      <th></th>\n",
       "      <th></th>\n",
       "      <th></th>\n",
       "      <th></th>\n",
       "      <th></th>\n",
       "      <th></th>\n",
       "    </tr>\n",
       "  </thead>\n",
       "  <tbody>\n",
       "    <tr>\n",
       "      <th>2021-04-30 19:00:00</th>\n",
       "      <td>0.8</td>\n",
       "      <td>3.0</td>\n",
       "      <td>1.8</td>\n",
       "      <td>2.6</td>\n",
       "      <td>1.9</td>\n",
       "      <td>1.7</td>\n",
       "      <td>3.0</td>\n",
       "      <td>3.8</td>\n",
       "      <td>1.3</td>\n",
       "      <td>1.5</td>\n",
       "      <td>...</td>\n",
       "      <td>3.3</td>\n",
       "      <td>2.0</td>\n",
       "      <td>1.3</td>\n",
       "      <td>2.2</td>\n",
       "      <td>1.9</td>\n",
       "      <td>0.9</td>\n",
       "      <td>1.9</td>\n",
       "      <td>1.6</td>\n",
       "      <td>1.3</td>\n",
       "      <td>1.6</td>\n",
       "    </tr>\n",
       "    <tr>\n",
       "      <th>2021-04-30 20:00:00</th>\n",
       "      <td>0.9</td>\n",
       "      <td>1.9</td>\n",
       "      <td>1.3</td>\n",
       "      <td>2.2</td>\n",
       "      <td>2.7</td>\n",
       "      <td>0.6</td>\n",
       "      <td>2.5</td>\n",
       "      <td>2.9</td>\n",
       "      <td>1.3</td>\n",
       "      <td>2.1</td>\n",
       "      <td>...</td>\n",
       "      <td>2.5</td>\n",
       "      <td>2.1</td>\n",
       "      <td>1.8</td>\n",
       "      <td>3.2</td>\n",
       "      <td>1.5</td>\n",
       "      <td>1.0</td>\n",
       "      <td>1.5</td>\n",
       "      <td>1.3</td>\n",
       "      <td>1.1</td>\n",
       "      <td>2.0</td>\n",
       "    </tr>\n",
       "    <tr>\n",
       "      <th>2021-04-30 21:00:00</th>\n",
       "      <td>0.9</td>\n",
       "      <td>0.8</td>\n",
       "      <td>1.1</td>\n",
       "      <td>1.9</td>\n",
       "      <td>2.9</td>\n",
       "      <td>0.6</td>\n",
       "      <td>1.6</td>\n",
       "      <td>2.7</td>\n",
       "      <td>1.3</td>\n",
       "      <td>1.7</td>\n",
       "      <td>...</td>\n",
       "      <td>2.4</td>\n",
       "      <td>1.4</td>\n",
       "      <td>2.7</td>\n",
       "      <td>2.4</td>\n",
       "      <td>1.4</td>\n",
       "      <td>1.2</td>\n",
       "      <td>1.6</td>\n",
       "      <td>1.7</td>\n",
       "      <td>1.1</td>\n",
       "      <td>1.2</td>\n",
       "    </tr>\n",
       "    <tr>\n",
       "      <th>2021-04-30 22:00:00</th>\n",
       "      <td>0.7</td>\n",
       "      <td>0.7</td>\n",
       "      <td>3.1</td>\n",
       "      <td>1.7</td>\n",
       "      <td>1.1</td>\n",
       "      <td>0.7</td>\n",
       "      <td>1.3</td>\n",
       "      <td>2.6</td>\n",
       "      <td>1.3</td>\n",
       "      <td>2.4</td>\n",
       "      <td>...</td>\n",
       "      <td>2.0</td>\n",
       "      <td>3.8</td>\n",
       "      <td>3.0</td>\n",
       "      <td>2.8</td>\n",
       "      <td>1.3</td>\n",
       "      <td>1.1</td>\n",
       "      <td>0.9</td>\n",
       "      <td>1.1</td>\n",
       "      <td>0.9</td>\n",
       "      <td>1.7</td>\n",
       "    </tr>\n",
       "    <tr>\n",
       "      <th>2021-04-30 23:00:00</th>\n",
       "      <td>0.5</td>\n",
       "      <td>0.9</td>\n",
       "      <td>1.8</td>\n",
       "      <td>1.4</td>\n",
       "      <td>1.9</td>\n",
       "      <td>1.6</td>\n",
       "      <td>1.8</td>\n",
       "      <td>2.2</td>\n",
       "      <td>1.0</td>\n",
       "      <td>1.9</td>\n",
       "      <td>...</td>\n",
       "      <td>2.2</td>\n",
       "      <td>3.6</td>\n",
       "      <td>3.3</td>\n",
       "      <td>2.0</td>\n",
       "      <td>1.2</td>\n",
       "      <td>1.6</td>\n",
       "      <td>0.7</td>\n",
       "      <td>1.4</td>\n",
       "      <td>0.7</td>\n",
       "      <td>2.0</td>\n",
       "    </tr>\n",
       "  </tbody>\n",
       "</table>\n",
       "<p>5 rows × 260 columns</p>\n",
       "</div>"
      ],
      "text/plain": [
       "                      90  125  161  164  183  197  198  232  282  298  ...  \\\n",
       "Date                                                                   ...   \n",
       "2021-04-30 19:00:00  0.8  3.0  1.8  2.6  1.9  1.7  3.0  3.8  1.3  1.5  ...   \n",
       "2021-04-30 20:00:00  0.9  1.9  1.3  2.2  2.7  0.6  2.5  2.9  1.3  2.1  ...   \n",
       "2021-04-30 21:00:00  0.9  0.8  1.1  1.9  2.9  0.6  1.6  2.7  1.3  1.7  ...   \n",
       "2021-04-30 22:00:00  0.7  0.7  3.1  1.7  1.1  0.7  1.3  2.6  1.3  2.4  ...   \n",
       "2021-04-30 23:00:00  0.5  0.9  1.8  1.4  1.9  1.6  1.8  2.2  1.0  1.9  ...   \n",
       "\n",
       "                     15000  15044  15120  15122  15189  15200  15207  15214  \\\n",
       "Date                                                                          \n",
       "2021-04-30 19:00:00    3.3    2.0    1.3    2.2    1.9    0.9    1.9    1.6   \n",
       "2021-04-30 20:00:00    2.5    2.1    1.8    3.2    1.5    1.0    1.5    1.3   \n",
       "2021-04-30 21:00:00    2.4    1.4    2.7    2.4    1.4    1.2    1.6    1.7   \n",
       "2021-04-30 22:00:00    2.0    3.8    3.0    2.8    1.3    1.1    0.9    1.1   \n",
       "2021-04-30 23:00:00    2.2    3.6    3.3    2.0    1.2    1.6    0.7    1.4   \n",
       "\n",
       "                     15444  1001  \n",
       "Date                              \n",
       "2021-04-30 19:00:00    1.3   1.6  \n",
       "2021-04-30 20:00:00    1.1   2.0  \n",
       "2021-04-30 21:00:00    1.1   1.2  \n",
       "2021-04-30 22:00:00    0.9   1.7  \n",
       "2021-04-30 23:00:00    0.7   2.0  \n",
       "\n",
       "[5 rows x 260 columns]"
      ]
     },
     "execution_count": 40,
     "metadata": {},
     "output_type": "execute_result"
    }
   ],
   "source": [
    "hourly_windspeed_df.tail()"
   ]
  },
  {
   "cell_type": "code",
   "execution_count": 41,
   "id": "72d23fa3",
   "metadata": {},
   "outputs": [
    {
     "data": {
      "text/plain": [
       "(55488, 260)"
      ]
     },
     "execution_count": 41,
     "metadata": {},
     "output_type": "execute_result"
    }
   ],
   "source": [
    "hourly_windspeed_df.shape"
   ]
  },
  {
   "cell_type": "code",
   "execution_count": 42,
   "id": "033f5378",
   "metadata": {},
   "outputs": [
    {
     "data": {
      "text/html": [
       "<div>\n",
       "<style scoped>\n",
       "    .dataframe tbody tr th:only-of-type {\n",
       "        vertical-align: middle;\n",
       "    }\n",
       "\n",
       "    .dataframe tbody tr th {\n",
       "        vertical-align: top;\n",
       "    }\n",
       "\n",
       "    .dataframe thead th {\n",
       "        text-align: right;\n",
       "    }\n",
       "</style>\n",
       "<table border=\"1\" class=\"dataframe\">\n",
       "  <thead>\n",
       "    <tr style=\"text-align: right;\">\n",
       "      <th></th>\n",
       "      <th>Wind[MWh]</th>\n",
       "    </tr>\n",
       "    <tr>\n",
       "      <th>Date</th>\n",
       "      <th></th>\n",
       "    </tr>\n",
       "  </thead>\n",
       "  <tbody>\n",
       "    <tr>\n",
       "      <th>2021-01-01 19:00:00</th>\n",
       "      <td>4845.0</td>\n",
       "    </tr>\n",
       "    <tr>\n",
       "      <th>2021-01-01 20:00:00</th>\n",
       "      <td>5028.0</td>\n",
       "    </tr>\n",
       "    <tr>\n",
       "      <th>2021-01-01 21:00:00</th>\n",
       "      <td>5204.0</td>\n",
       "    </tr>\n",
       "    <tr>\n",
       "      <th>2021-01-01 22:00:00</th>\n",
       "      <td>5681.0</td>\n",
       "    </tr>\n",
       "    <tr>\n",
       "      <th>2021-01-01 23:00:00</th>\n",
       "      <td>5333.0</td>\n",
       "    </tr>\n",
       "  </tbody>\n",
       "</table>\n",
       "</div>"
      ],
      "text/plain": [
       "                     Wind[MWh]\n",
       "Date                          \n",
       "2021-01-01 19:00:00     4845.0\n",
       "2021-01-01 20:00:00     5028.0\n",
       "2021-01-01 21:00:00     5204.0\n",
       "2021-01-01 22:00:00     5681.0\n",
       "2021-01-01 23:00:00     5333.0"
      ]
     },
     "execution_count": 42,
     "metadata": {},
     "output_type": "execute_result"
    }
   ],
   "source": [
    "pd.DataFrame(y).tail()"
   ]
  },
  {
   "cell_type": "code",
   "execution_count": 107,
   "id": "8f4e4567",
   "metadata": {},
   "outputs": [],
   "source": [
    "y = pd.DataFrame(y)"
   ]
  },
  {
   "cell_type": "code",
   "execution_count": 108,
   "id": "cc0e7e5d",
   "metadata": {},
   "outputs": [
    {
     "data": {
      "text/html": [
       "<div>\n",
       "<style scoped>\n",
       "    .dataframe tbody tr th:only-of-type {\n",
       "        vertical-align: middle;\n",
       "    }\n",
       "\n",
       "    .dataframe tbody tr th {\n",
       "        vertical-align: top;\n",
       "    }\n",
       "\n",
       "    .dataframe thead th {\n",
       "        text-align: right;\n",
       "    }\n",
       "</style>\n",
       "<table border=\"1\" class=\"dataframe\">\n",
       "  <thead>\n",
       "    <tr style=\"text-align: right;\">\n",
       "      <th></th>\n",
       "      <th>90</th>\n",
       "      <th>125</th>\n",
       "      <th>161</th>\n",
       "      <th>164</th>\n",
       "      <th>183</th>\n",
       "      <th>197</th>\n",
       "      <th>198</th>\n",
       "      <th>232</th>\n",
       "      <th>282</th>\n",
       "      <th>298</th>\n",
       "      <th>...</th>\n",
       "      <th>15000</th>\n",
       "      <th>15044</th>\n",
       "      <th>15120</th>\n",
       "      <th>15122</th>\n",
       "      <th>15189</th>\n",
       "      <th>15200</th>\n",
       "      <th>15207</th>\n",
       "      <th>15214</th>\n",
       "      <th>15444</th>\n",
       "      <th>1001</th>\n",
       "    </tr>\n",
       "    <tr>\n",
       "      <th>Date</th>\n",
       "      <th></th>\n",
       "      <th></th>\n",
       "      <th></th>\n",
       "      <th></th>\n",
       "      <th></th>\n",
       "      <th></th>\n",
       "      <th></th>\n",
       "      <th></th>\n",
       "      <th></th>\n",
       "      <th></th>\n",
       "      <th></th>\n",
       "      <th></th>\n",
       "      <th></th>\n",
       "      <th></th>\n",
       "      <th></th>\n",
       "      <th></th>\n",
       "      <th></th>\n",
       "      <th></th>\n",
       "      <th></th>\n",
       "      <th></th>\n",
       "      <th></th>\n",
       "    </tr>\n",
       "  </thead>\n",
       "  <tbody>\n",
       "    <tr>\n",
       "      <th>2021-01-01 19:00:00</th>\n",
       "      <td>0.8</td>\n",
       "      <td>3.0</td>\n",
       "      <td>1.1</td>\n",
       "      <td>2.3</td>\n",
       "      <td>6.1</td>\n",
       "      <td>2.0</td>\n",
       "      <td>1.6</td>\n",
       "      <td>0.8</td>\n",
       "      <td>0.7</td>\n",
       "      <td>2.7</td>\n",
       "      <td>...</td>\n",
       "      <td>3.1</td>\n",
       "      <td>1.0</td>\n",
       "      <td>2.8</td>\n",
       "      <td>0.7</td>\n",
       "      <td>2.5</td>\n",
       "      <td>2.4</td>\n",
       "      <td>0.7</td>\n",
       "      <td>1.6</td>\n",
       "      <td>1.3</td>\n",
       "      <td>1.0</td>\n",
       "    </tr>\n",
       "    <tr>\n",
       "      <th>2021-01-01 20:00:00</th>\n",
       "      <td>1.3</td>\n",
       "      <td>3.0</td>\n",
       "      <td>1.3</td>\n",
       "      <td>2.4</td>\n",
       "      <td>6.1</td>\n",
       "      <td>2.0</td>\n",
       "      <td>1.2</td>\n",
       "      <td>0.5</td>\n",
       "      <td>0.7</td>\n",
       "      <td>3.0</td>\n",
       "      <td>...</td>\n",
       "      <td>2.7</td>\n",
       "      <td>0.5</td>\n",
       "      <td>3.2</td>\n",
       "      <td>1.0</td>\n",
       "      <td>2.4</td>\n",
       "      <td>2.7</td>\n",
       "      <td>1.3</td>\n",
       "      <td>1.4</td>\n",
       "      <td>1.7</td>\n",
       "      <td>1.3</td>\n",
       "    </tr>\n",
       "    <tr>\n",
       "      <th>2021-01-01 21:00:00</th>\n",
       "      <td>1.5</td>\n",
       "      <td>3.4</td>\n",
       "      <td>0.8</td>\n",
       "      <td>2.5</td>\n",
       "      <td>6.4</td>\n",
       "      <td>3.0</td>\n",
       "      <td>1.6</td>\n",
       "      <td>1.0</td>\n",
       "      <td>0.7</td>\n",
       "      <td>2.5</td>\n",
       "      <td>...</td>\n",
       "      <td>2.8</td>\n",
       "      <td>0.7</td>\n",
       "      <td>4.2</td>\n",
       "      <td>0.9</td>\n",
       "      <td>2.2</td>\n",
       "      <td>3.5</td>\n",
       "      <td>0.7</td>\n",
       "      <td>1.7</td>\n",
       "      <td>1.6</td>\n",
       "      <td>1.0</td>\n",
       "    </tr>\n",
       "    <tr>\n",
       "      <th>2021-01-01 22:00:00</th>\n",
       "      <td>1.1</td>\n",
       "      <td>3.0</td>\n",
       "      <td>1.6</td>\n",
       "      <td>2.1</td>\n",
       "      <td>6.1</td>\n",
       "      <td>4.1</td>\n",
       "      <td>2.0</td>\n",
       "      <td>0.8</td>\n",
       "      <td>0.7</td>\n",
       "      <td>2.7</td>\n",
       "      <td>...</td>\n",
       "      <td>2.8</td>\n",
       "      <td>0.9</td>\n",
       "      <td>3.2</td>\n",
       "      <td>1.2</td>\n",
       "      <td>2.5</td>\n",
       "      <td>3.5</td>\n",
       "      <td>0.9</td>\n",
       "      <td>2.2</td>\n",
       "      <td>1.8</td>\n",
       "      <td>1.2</td>\n",
       "    </tr>\n",
       "    <tr>\n",
       "      <th>2021-01-01 23:00:00</th>\n",
       "      <td>0.9</td>\n",
       "      <td>3.0</td>\n",
       "      <td>1.3</td>\n",
       "      <td>2.7</td>\n",
       "      <td>5.9</td>\n",
       "      <td>4.2</td>\n",
       "      <td>2.1</td>\n",
       "      <td>1.1</td>\n",
       "      <td>0.5</td>\n",
       "      <td>1.9</td>\n",
       "      <td>...</td>\n",
       "      <td>2.9</td>\n",
       "      <td>0.7</td>\n",
       "      <td>3.1</td>\n",
       "      <td>1.3</td>\n",
       "      <td>2.3</td>\n",
       "      <td>3.5</td>\n",
       "      <td>1.1</td>\n",
       "      <td>1.2</td>\n",
       "      <td>1.9</td>\n",
       "      <td>0.9</td>\n",
       "    </tr>\n",
       "  </tbody>\n",
       "</table>\n",
       "<p>5 rows × 260 columns</p>\n",
       "</div>"
      ],
      "text/plain": [
       "                      90  125  161  164  183  197  198  232  282  298  ...  \\\n",
       "Date                                                                   ...   \n",
       "2021-01-01 19:00:00  0.8  3.0  1.1  2.3  6.1  2.0  1.6  0.8  0.7  2.7  ...   \n",
       "2021-01-01 20:00:00  1.3  3.0  1.3  2.4  6.1  2.0  1.2  0.5  0.7  3.0  ...   \n",
       "2021-01-01 21:00:00  1.5  3.4  0.8  2.5  6.4  3.0  1.6  1.0  0.7  2.5  ...   \n",
       "2021-01-01 22:00:00  1.1  3.0  1.6  2.1  6.1  4.1  2.0  0.8  0.7  2.7  ...   \n",
       "2021-01-01 23:00:00  0.9  3.0  1.3  2.7  5.9  4.2  2.1  1.1  0.5  1.9  ...   \n",
       "\n",
       "                     15000  15044  15120  15122  15189  15200  15207  15214  \\\n",
       "Date                                                                          \n",
       "2021-01-01 19:00:00    3.1    1.0    2.8    0.7    2.5    2.4    0.7    1.6   \n",
       "2021-01-01 20:00:00    2.7    0.5    3.2    1.0    2.4    2.7    1.3    1.4   \n",
       "2021-01-01 21:00:00    2.8    0.7    4.2    0.9    2.2    3.5    0.7    1.7   \n",
       "2021-01-01 22:00:00    2.8    0.9    3.2    1.2    2.5    3.5    0.9    2.2   \n",
       "2021-01-01 23:00:00    2.9    0.7    3.1    1.3    2.3    3.5    1.1    1.2   \n",
       "\n",
       "                     15444  1001  \n",
       "Date                              \n",
       "2021-01-01 19:00:00    1.3   1.0  \n",
       "2021-01-01 20:00:00    1.7   1.3  \n",
       "2021-01-01 21:00:00    1.6   1.0  \n",
       "2021-01-01 22:00:00    1.8   1.2  \n",
       "2021-01-01 23:00:00    1.9   0.9  \n",
       "\n",
       "[5 rows x 260 columns]"
      ]
     },
     "execution_count": 108,
     "metadata": {},
     "output_type": "execute_result"
    }
   ],
   "source": [
    "X = hourly_windspeed_df[hourly_windspeed_df.index < dt.datetime(2021,1,2)]\n",
    "X.tail()"
   ]
  },
  {
   "cell_type": "code",
   "execution_count": 109,
   "id": "d8e693a9",
   "metadata": {},
   "outputs": [
    {
     "data": {
      "text/plain": [
       "(52632, 260)"
      ]
     },
     "execution_count": 109,
     "metadata": {},
     "output_type": "execute_result"
    }
   ],
   "source": [
    "X.shape"
   ]
  },
  {
   "cell_type": "code",
   "execution_count": 139,
   "id": "30baad21",
   "metadata": {},
   "outputs": [],
   "source": [
    "from sklearn.model_selection import train_test_split\n",
    "\n",
    "X_train, X_test, y_train, y_test = train_test_split(X, y, test_size=0.33, random_state=100)"
   ]
  },
  {
   "cell_type": "code",
   "execution_count": 140,
   "id": "60682f8e",
   "metadata": {},
   "outputs": [
    {
     "data": {
      "text/plain": [
       "(17369, 1)"
      ]
     },
     "execution_count": 140,
     "metadata": {},
     "output_type": "execute_result"
    }
   ],
   "source": [
    "y_test.shape"
   ]
  },
  {
   "cell_type": "code",
   "execution_count": 141,
   "id": "e465b09a",
   "metadata": {},
   "outputs": [
    {
     "data": {
      "text/plain": [
       "(17369, 260)"
      ]
     },
     "execution_count": 141,
     "metadata": {},
     "output_type": "execute_result"
    }
   ],
   "source": [
    "X_test.shape"
   ]
  },
  {
   "cell_type": "code",
   "execution_count": 142,
   "id": "60934974",
   "metadata": {},
   "outputs": [],
   "source": [
    "X_new_train, X_new_test, y_new_train, y_new_test = train_test_split(X_new, y, test_size=0.33, random_state=100)"
   ]
  },
  {
   "cell_type": "markdown",
   "id": "e7103bde",
   "metadata": {},
   "source": [
    "# Correlation"
   ]
  },
  {
   "cell_type": "code",
   "execution_count": 50,
   "id": "4f390489",
   "metadata": {},
   "outputs": [
    {
     "data": {
      "text/html": [
       "<div>\n",
       "<style scoped>\n",
       "    .dataframe tbody tr th:only-of-type {\n",
       "        vertical-align: middle;\n",
       "    }\n",
       "\n",
       "    .dataframe tbody tr th {\n",
       "        vertical-align: top;\n",
       "    }\n",
       "\n",
       "    .dataframe thead th {\n",
       "        text-align: right;\n",
       "    }\n",
       "</style>\n",
       "<table border=\"1\" class=\"dataframe\">\n",
       "  <thead>\n",
       "    <tr style=\"text-align: right;\">\n",
       "      <th></th>\n",
       "      <th>Wind[MWh]</th>\n",
       "      <th>90</th>\n",
       "      <th>125</th>\n",
       "      <th>161</th>\n",
       "      <th>164</th>\n",
       "      <th>183</th>\n",
       "      <th>197</th>\n",
       "      <th>198</th>\n",
       "      <th>232</th>\n",
       "      <th>282</th>\n",
       "      <th>...</th>\n",
       "      <th>15000</th>\n",
       "      <th>15044</th>\n",
       "      <th>15120</th>\n",
       "      <th>15122</th>\n",
       "      <th>15189</th>\n",
       "      <th>15200</th>\n",
       "      <th>15207</th>\n",
       "      <th>15214</th>\n",
       "      <th>15444</th>\n",
       "      <th>1001</th>\n",
       "    </tr>\n",
       "    <tr>\n",
       "      <th>key_0</th>\n",
       "      <th></th>\n",
       "      <th></th>\n",
       "      <th></th>\n",
       "      <th></th>\n",
       "      <th></th>\n",
       "      <th></th>\n",
       "      <th></th>\n",
       "      <th></th>\n",
       "      <th></th>\n",
       "      <th></th>\n",
       "      <th></th>\n",
       "      <th></th>\n",
       "      <th></th>\n",
       "      <th></th>\n",
       "      <th></th>\n",
       "      <th></th>\n",
       "      <th></th>\n",
       "      <th></th>\n",
       "      <th></th>\n",
       "      <th></th>\n",
       "      <th></th>\n",
       "    </tr>\n",
       "  </thead>\n",
       "  <tbody>\n",
       "    <tr>\n",
       "      <th>2015-01-01 00:00:00</th>\n",
       "      <td>8646.0</td>\n",
       "      <td>2.1</td>\n",
       "      <td>0.7</td>\n",
       "      <td>0.9</td>\n",
       "      <td>5.1</td>\n",
       "      <td>11.3</td>\n",
       "      <td>3.2</td>\n",
       "      <td>1.6</td>\n",
       "      <td>1.1</td>\n",
       "      <td>0.7</td>\n",
       "      <td>...</td>\n",
       "      <td>3.9</td>\n",
       "      <td>0.8</td>\n",
       "      <td>4.9</td>\n",
       "      <td>3.2</td>\n",
       "      <td>4.4</td>\n",
       "      <td>3.0</td>\n",
       "      <td>0.5</td>\n",
       "      <td>1.2</td>\n",
       "      <td>1.0</td>\n",
       "      <td>2.2</td>\n",
       "    </tr>\n",
       "    <tr>\n",
       "      <th>2015-01-01 01:00:00</th>\n",
       "      <td>8816.0</td>\n",
       "      <td>2.7</td>\n",
       "      <td>0.3</td>\n",
       "      <td>0.8</td>\n",
       "      <td>4.9</td>\n",
       "      <td>13.0</td>\n",
       "      <td>3.2</td>\n",
       "      <td>2.6</td>\n",
       "      <td>1.5</td>\n",
       "      <td>0.9</td>\n",
       "      <td>...</td>\n",
       "      <td>3.4</td>\n",
       "      <td>0.7</td>\n",
       "      <td>5.3</td>\n",
       "      <td>2.6</td>\n",
       "      <td>6.0</td>\n",
       "      <td>2.8</td>\n",
       "      <td>0.8</td>\n",
       "      <td>1.1</td>\n",
       "      <td>1.0</td>\n",
       "      <td>2.5</td>\n",
       "    </tr>\n",
       "    <tr>\n",
       "      <th>2015-01-01 02:00:00</th>\n",
       "      <td>9058.0</td>\n",
       "      <td>2.5</td>\n",
       "      <td>0.8</td>\n",
       "      <td>1.3</td>\n",
       "      <td>3.9</td>\n",
       "      <td>12.8</td>\n",
       "      <td>3.2</td>\n",
       "      <td>3.2</td>\n",
       "      <td>1.7</td>\n",
       "      <td>0.9</td>\n",
       "      <td>...</td>\n",
       "      <td>3.8</td>\n",
       "      <td>1.3</td>\n",
       "      <td>4.8</td>\n",
       "      <td>2.3</td>\n",
       "      <td>5.7</td>\n",
       "      <td>3.1</td>\n",
       "      <td>0.5</td>\n",
       "      <td>1.8</td>\n",
       "      <td>1.2</td>\n",
       "      <td>2.6</td>\n",
       "    </tr>\n",
       "    <tr>\n",
       "      <th>2015-01-01 03:00:00</th>\n",
       "      <td>9071.0</td>\n",
       "      <td>2.0</td>\n",
       "      <td>0.7</td>\n",
       "      <td>1.4</td>\n",
       "      <td>3.7</td>\n",
       "      <td>12.4</td>\n",
       "      <td>3.2</td>\n",
       "      <td>3.5</td>\n",
       "      <td>1.5</td>\n",
       "      <td>0.6</td>\n",
       "      <td>...</td>\n",
       "      <td>4.2</td>\n",
       "      <td>1.1</td>\n",
       "      <td>4.2</td>\n",
       "      <td>2.5</td>\n",
       "      <td>5.4</td>\n",
       "      <td>3.2</td>\n",
       "      <td>0.7</td>\n",
       "      <td>1.1</td>\n",
       "      <td>1.0</td>\n",
       "      <td>2.8</td>\n",
       "    </tr>\n",
       "    <tr>\n",
       "      <th>2015-01-01 04:00:00</th>\n",
       "      <td>9168.0</td>\n",
       "      <td>1.1</td>\n",
       "      <td>0.9</td>\n",
       "      <td>1.7</td>\n",
       "      <td>4.2</td>\n",
       "      <td>12.2</td>\n",
       "      <td>3.2</td>\n",
       "      <td>3.4</td>\n",
       "      <td>1.7</td>\n",
       "      <td>1.0</td>\n",
       "      <td>...</td>\n",
       "      <td>4.4</td>\n",
       "      <td>0.9</td>\n",
       "      <td>4.1</td>\n",
       "      <td>1.8</td>\n",
       "      <td>6.1</td>\n",
       "      <td>3.6</td>\n",
       "      <td>0.8</td>\n",
       "      <td>0.9</td>\n",
       "      <td>1.4</td>\n",
       "      <td>2.8</td>\n",
       "    </tr>\n",
       "  </tbody>\n",
       "</table>\n",
       "<p>5 rows × 261 columns</p>\n",
       "</div>"
      ],
      "text/plain": [
       "                     Wind[MWh]   90  125  161  164   183  197  198  232  282  \\\n",
       "key_0                                                                          \n",
       "2015-01-01 00:00:00     8646.0  2.1  0.7  0.9  5.1  11.3  3.2  1.6  1.1  0.7   \n",
       "2015-01-01 01:00:00     8816.0  2.7  0.3  0.8  4.9  13.0  3.2  2.6  1.5  0.9   \n",
       "2015-01-01 02:00:00     9058.0  2.5  0.8  1.3  3.9  12.8  3.2  3.2  1.7  0.9   \n",
       "2015-01-01 03:00:00     9071.0  2.0  0.7  1.4  3.7  12.4  3.2  3.5  1.5  0.6   \n",
       "2015-01-01 04:00:00     9168.0  1.1  0.9  1.7  4.2  12.2  3.2  3.4  1.7  1.0   \n",
       "\n",
       "                     ...  15000  15044  15120  15122  15189  15200  15207  \\\n",
       "key_0                ...                                                    \n",
       "2015-01-01 00:00:00  ...    3.9    0.8    4.9    3.2    4.4    3.0    0.5   \n",
       "2015-01-01 01:00:00  ...    3.4    0.7    5.3    2.6    6.0    2.8    0.8   \n",
       "2015-01-01 02:00:00  ...    3.8    1.3    4.8    2.3    5.7    3.1    0.5   \n",
       "2015-01-01 03:00:00  ...    4.2    1.1    4.2    2.5    5.4    3.2    0.7   \n",
       "2015-01-01 04:00:00  ...    4.4    0.9    4.1    1.8    6.1    3.6    0.8   \n",
       "\n",
       "                     15214  15444  1001  \n",
       "key_0                                    \n",
       "2015-01-01 00:00:00    1.2    1.0   2.2  \n",
       "2015-01-01 01:00:00    1.1    1.0   2.5  \n",
       "2015-01-01 02:00:00    1.8    1.2   2.6  \n",
       "2015-01-01 03:00:00    1.1    1.0   2.8  \n",
       "2015-01-01 04:00:00    0.9    1.4   2.8  \n",
       "\n",
       "[5 rows x 261 columns]"
      ]
     },
     "execution_count": 50,
     "metadata": {},
     "output_type": "execute_result"
    }
   ],
   "source": [
    "df = y.merge(X, on = y.index)\n",
    "df.set_index('key_0', inplace=True)\n",
    "df.head()"
   ]
  },
  {
   "cell_type": "code",
   "execution_count": 51,
   "id": "4748a9c9",
   "metadata": {},
   "outputs": [
    {
     "data": {
      "text/html": [
       "<div>\n",
       "<style scoped>\n",
       "    .dataframe tbody tr th:only-of-type {\n",
       "        vertical-align: middle;\n",
       "    }\n",
       "\n",
       "    .dataframe tbody tr th {\n",
       "        vertical-align: top;\n",
       "    }\n",
       "\n",
       "    .dataframe thead th {\n",
       "        text-align: right;\n",
       "    }\n",
       "</style>\n",
       "<table border=\"1\" class=\"dataframe\">\n",
       "  <thead>\n",
       "    <tr style=\"text-align: right;\">\n",
       "      <th></th>\n",
       "      <th>Wind[MWh]</th>\n",
       "      <th>90</th>\n",
       "      <th>125</th>\n",
       "      <th>161</th>\n",
       "      <th>164</th>\n",
       "      <th>183</th>\n",
       "      <th>197</th>\n",
       "      <th>198</th>\n",
       "      <th>232</th>\n",
       "      <th>282</th>\n",
       "      <th>...</th>\n",
       "      <th>15000</th>\n",
       "      <th>15044</th>\n",
       "      <th>15120</th>\n",
       "      <th>15122</th>\n",
       "      <th>15189</th>\n",
       "      <th>15200</th>\n",
       "      <th>15207</th>\n",
       "      <th>15214</th>\n",
       "      <th>15444</th>\n",
       "      <th>1001</th>\n",
       "    </tr>\n",
       "  </thead>\n",
       "  <tbody>\n",
       "    <tr>\n",
       "      <th>Wind[MWh]</th>\n",
       "      <td>1.000000</td>\n",
       "      <td>0.672603</td>\n",
       "      <td>0.395687</td>\n",
       "      <td>0.422520</td>\n",
       "      <td>0.587090</td>\n",
       "      <td>0.554497</td>\n",
       "      <td>0.653802</td>\n",
       "      <td>0.624829</td>\n",
       "      <td>0.445144</td>\n",
       "      <td>0.448165</td>\n",
       "      <td>...</td>\n",
       "      <td>0.669465</td>\n",
       "      <td>0.409194</td>\n",
       "      <td>0.725409</td>\n",
       "      <td>0.580724</td>\n",
       "      <td>0.626353</td>\n",
       "      <td>0.679666</td>\n",
       "      <td>0.496731</td>\n",
       "      <td>0.234458</td>\n",
       "      <td>0.376230</td>\n",
       "      <td>0.596952</td>\n",
       "    </tr>\n",
       "    <tr>\n",
       "      <th>90</th>\n",
       "      <td>0.672603</td>\n",
       "      <td>1.000000</td>\n",
       "      <td>0.545460</td>\n",
       "      <td>0.615150</td>\n",
       "      <td>0.503244</td>\n",
       "      <td>0.344716</td>\n",
       "      <td>0.706512</td>\n",
       "      <td>0.705375</td>\n",
       "      <td>0.609000</td>\n",
       "      <td>0.660308</td>\n",
       "      <td>...</td>\n",
       "      <td>0.710404</td>\n",
       "      <td>0.537703</td>\n",
       "      <td>0.708801</td>\n",
       "      <td>0.727436</td>\n",
       "      <td>0.533143</td>\n",
       "      <td>0.693611</td>\n",
       "      <td>0.639233</td>\n",
       "      <td>0.321293</td>\n",
       "      <td>0.547412</td>\n",
       "      <td>0.610535</td>\n",
       "    </tr>\n",
       "    <tr>\n",
       "      <th>125</th>\n",
       "      <td>0.395687</td>\n",
       "      <td>0.545460</td>\n",
       "      <td>1.000000</td>\n",
       "      <td>0.415704</td>\n",
       "      <td>0.337991</td>\n",
       "      <td>0.183282</td>\n",
       "      <td>0.369076</td>\n",
       "      <td>0.464963</td>\n",
       "      <td>0.740716</td>\n",
       "      <td>0.530240</td>\n",
       "      <td>...</td>\n",
       "      <td>0.413296</td>\n",
       "      <td>0.388671</td>\n",
       "      <td>0.407869</td>\n",
       "      <td>0.652913</td>\n",
       "      <td>0.321170</td>\n",
       "      <td>0.334939</td>\n",
       "      <td>0.423857</td>\n",
       "      <td>0.480634</td>\n",
       "      <td>0.656638</td>\n",
       "      <td>0.444471</td>\n",
       "    </tr>\n",
       "    <tr>\n",
       "      <th>161</th>\n",
       "      <td>0.422520</td>\n",
       "      <td>0.615150</td>\n",
       "      <td>0.415704</td>\n",
       "      <td>1.000000</td>\n",
       "      <td>0.361246</td>\n",
       "      <td>0.175318</td>\n",
       "      <td>0.570896</td>\n",
       "      <td>0.566546</td>\n",
       "      <td>0.508336</td>\n",
       "      <td>0.609388</td>\n",
       "      <td>...</td>\n",
       "      <td>0.518157</td>\n",
       "      <td>0.820843</td>\n",
       "      <td>0.538246</td>\n",
       "      <td>0.555746</td>\n",
       "      <td>0.392953</td>\n",
       "      <td>0.485857</td>\n",
       "      <td>0.641223</td>\n",
       "      <td>0.274042</td>\n",
       "      <td>0.542759</td>\n",
       "      <td>0.450636</td>\n",
       "    </tr>\n",
       "    <tr>\n",
       "      <th>164</th>\n",
       "      <td>0.587090</td>\n",
       "      <td>0.503244</td>\n",
       "      <td>0.337991</td>\n",
       "      <td>0.361246</td>\n",
       "      <td>1.000000</td>\n",
       "      <td>0.608301</td>\n",
       "      <td>0.471145</td>\n",
       "      <td>0.586872</td>\n",
       "      <td>0.377648</td>\n",
       "      <td>0.470375</td>\n",
       "      <td>...</td>\n",
       "      <td>0.345453</td>\n",
       "      <td>0.310229</td>\n",
       "      <td>0.472740</td>\n",
       "      <td>0.449379</td>\n",
       "      <td>0.798180</td>\n",
       "      <td>0.338203</td>\n",
       "      <td>0.463984</td>\n",
       "      <td>0.164445</td>\n",
       "      <td>0.336485</td>\n",
       "      <td>0.763628</td>\n",
       "    </tr>\n",
       "    <tr>\n",
       "      <th>...</th>\n",
       "      <td>...</td>\n",
       "      <td>...</td>\n",
       "      <td>...</td>\n",
       "      <td>...</td>\n",
       "      <td>...</td>\n",
       "      <td>...</td>\n",
       "      <td>...</td>\n",
       "      <td>...</td>\n",
       "      <td>...</td>\n",
       "      <td>...</td>\n",
       "      <td>...</td>\n",
       "      <td>...</td>\n",
       "      <td>...</td>\n",
       "      <td>...</td>\n",
       "      <td>...</td>\n",
       "      <td>...</td>\n",
       "      <td>...</td>\n",
       "      <td>...</td>\n",
       "      <td>...</td>\n",
       "      <td>...</td>\n",
       "      <td>...</td>\n",
       "    </tr>\n",
       "    <tr>\n",
       "      <th>15200</th>\n",
       "      <td>0.679666</td>\n",
       "      <td>0.693611</td>\n",
       "      <td>0.334939</td>\n",
       "      <td>0.485857</td>\n",
       "      <td>0.338203</td>\n",
       "      <td>0.298603</td>\n",
       "      <td>0.680379</td>\n",
       "      <td>0.468729</td>\n",
       "      <td>0.392630</td>\n",
       "      <td>0.410845</td>\n",
       "      <td>...</td>\n",
       "      <td>0.822708</td>\n",
       "      <td>0.419182</td>\n",
       "      <td>0.733724</td>\n",
       "      <td>0.535383</td>\n",
       "      <td>0.408470</td>\n",
       "      <td>1.000000</td>\n",
       "      <td>0.432144</td>\n",
       "      <td>0.196923</td>\n",
       "      <td>0.340454</td>\n",
       "      <td>0.381428</td>\n",
       "    </tr>\n",
       "    <tr>\n",
       "      <th>15207</th>\n",
       "      <td>0.496731</td>\n",
       "      <td>0.639233</td>\n",
       "      <td>0.423857</td>\n",
       "      <td>0.641223</td>\n",
       "      <td>0.463984</td>\n",
       "      <td>0.239656</td>\n",
       "      <td>0.652784</td>\n",
       "      <td>0.632680</td>\n",
       "      <td>0.520095</td>\n",
       "      <td>0.644676</td>\n",
       "      <td>...</td>\n",
       "      <td>0.457868</td>\n",
       "      <td>0.630478</td>\n",
       "      <td>0.604143</td>\n",
       "      <td>0.576094</td>\n",
       "      <td>0.467799</td>\n",
       "      <td>0.432144</td>\n",
       "      <td>1.000000</td>\n",
       "      <td>0.263907</td>\n",
       "      <td>0.519029</td>\n",
       "      <td>0.570738</td>\n",
       "    </tr>\n",
       "    <tr>\n",
       "      <th>15214</th>\n",
       "      <td>0.234458</td>\n",
       "      <td>0.321293</td>\n",
       "      <td>0.480634</td>\n",
       "      <td>0.274042</td>\n",
       "      <td>0.164445</td>\n",
       "      <td>0.081304</td>\n",
       "      <td>0.230946</td>\n",
       "      <td>0.273079</td>\n",
       "      <td>0.444250</td>\n",
       "      <td>0.332115</td>\n",
       "      <td>...</td>\n",
       "      <td>0.259424</td>\n",
       "      <td>0.256689</td>\n",
       "      <td>0.224212</td>\n",
       "      <td>0.369386</td>\n",
       "      <td>0.143250</td>\n",
       "      <td>0.196923</td>\n",
       "      <td>0.263907</td>\n",
       "      <td>1.000000</td>\n",
       "      <td>0.400294</td>\n",
       "      <td>0.235138</td>\n",
       "    </tr>\n",
       "    <tr>\n",
       "      <th>15444</th>\n",
       "      <td>0.376230</td>\n",
       "      <td>0.547412</td>\n",
       "      <td>0.656638</td>\n",
       "      <td>0.542759</td>\n",
       "      <td>0.336485</td>\n",
       "      <td>0.160229</td>\n",
       "      <td>0.429123</td>\n",
       "      <td>0.525250</td>\n",
       "      <td>0.767483</td>\n",
       "      <td>0.654789</td>\n",
       "      <td>...</td>\n",
       "      <td>0.433212</td>\n",
       "      <td>0.464601</td>\n",
       "      <td>0.443427</td>\n",
       "      <td>0.668249</td>\n",
       "      <td>0.337448</td>\n",
       "      <td>0.340454</td>\n",
       "      <td>0.519029</td>\n",
       "      <td>0.400294</td>\n",
       "      <td>1.000000</td>\n",
       "      <td>0.442433</td>\n",
       "    </tr>\n",
       "    <tr>\n",
       "      <th>1001</th>\n",
       "      <td>0.596952</td>\n",
       "      <td>0.610535</td>\n",
       "      <td>0.444471</td>\n",
       "      <td>0.450636</td>\n",
       "      <td>0.763628</td>\n",
       "      <td>0.460222</td>\n",
       "      <td>0.536114</td>\n",
       "      <td>0.710551</td>\n",
       "      <td>0.503792</td>\n",
       "      <td>0.603197</td>\n",
       "      <td>...</td>\n",
       "      <td>0.402518</td>\n",
       "      <td>0.397796</td>\n",
       "      <td>0.535137</td>\n",
       "      <td>0.577951</td>\n",
       "      <td>0.684506</td>\n",
       "      <td>0.381428</td>\n",
       "      <td>0.570738</td>\n",
       "      <td>0.235138</td>\n",
       "      <td>0.442433</td>\n",
       "      <td>1.000000</td>\n",
       "    </tr>\n",
       "  </tbody>\n",
       "</table>\n",
       "<p>261 rows × 261 columns</p>\n",
       "</div>"
      ],
      "text/plain": [
       "           Wind[MWh]        90       125       161       164       183  \\\n",
       "Wind[MWh]   1.000000  0.672603  0.395687  0.422520  0.587090  0.554497   \n",
       "90          0.672603  1.000000  0.545460  0.615150  0.503244  0.344716   \n",
       "125         0.395687  0.545460  1.000000  0.415704  0.337991  0.183282   \n",
       "161         0.422520  0.615150  0.415704  1.000000  0.361246  0.175318   \n",
       "164         0.587090  0.503244  0.337991  0.361246  1.000000  0.608301   \n",
       "...              ...       ...       ...       ...       ...       ...   \n",
       "15200       0.679666  0.693611  0.334939  0.485857  0.338203  0.298603   \n",
       "15207       0.496731  0.639233  0.423857  0.641223  0.463984  0.239656   \n",
       "15214       0.234458  0.321293  0.480634  0.274042  0.164445  0.081304   \n",
       "15444       0.376230  0.547412  0.656638  0.542759  0.336485  0.160229   \n",
       "1001        0.596952  0.610535  0.444471  0.450636  0.763628  0.460222   \n",
       "\n",
       "                197       198       232       282  ...     15000     15044  \\\n",
       "Wind[MWh]  0.653802  0.624829  0.445144  0.448165  ...  0.669465  0.409194   \n",
       "90         0.706512  0.705375  0.609000  0.660308  ...  0.710404  0.537703   \n",
       "125        0.369076  0.464963  0.740716  0.530240  ...  0.413296  0.388671   \n",
       "161        0.570896  0.566546  0.508336  0.609388  ...  0.518157  0.820843   \n",
       "164        0.471145  0.586872  0.377648  0.470375  ...  0.345453  0.310229   \n",
       "...             ...       ...       ...       ...  ...       ...       ...   \n",
       "15200      0.680379  0.468729  0.392630  0.410845  ...  0.822708  0.419182   \n",
       "15207      0.652784  0.632680  0.520095  0.644676  ...  0.457868  0.630478   \n",
       "15214      0.230946  0.273079  0.444250  0.332115  ...  0.259424  0.256689   \n",
       "15444      0.429123  0.525250  0.767483  0.654789  ...  0.433212  0.464601   \n",
       "1001       0.536114  0.710551  0.503792  0.603197  ...  0.402518  0.397796   \n",
       "\n",
       "              15120     15122     15189     15200     15207     15214  \\\n",
       "Wind[MWh]  0.725409  0.580724  0.626353  0.679666  0.496731  0.234458   \n",
       "90         0.708801  0.727436  0.533143  0.693611  0.639233  0.321293   \n",
       "125        0.407869  0.652913  0.321170  0.334939  0.423857  0.480634   \n",
       "161        0.538246  0.555746  0.392953  0.485857  0.641223  0.274042   \n",
       "164        0.472740  0.449379  0.798180  0.338203  0.463984  0.164445   \n",
       "...             ...       ...       ...       ...       ...       ...   \n",
       "15200      0.733724  0.535383  0.408470  1.000000  0.432144  0.196923   \n",
       "15207      0.604143  0.576094  0.467799  0.432144  1.000000  0.263907   \n",
       "15214      0.224212  0.369386  0.143250  0.196923  0.263907  1.000000   \n",
       "15444      0.443427  0.668249  0.337448  0.340454  0.519029  0.400294   \n",
       "1001       0.535137  0.577951  0.684506  0.381428  0.570738  0.235138   \n",
       "\n",
       "              15444      1001  \n",
       "Wind[MWh]  0.376230  0.596952  \n",
       "90         0.547412  0.610535  \n",
       "125        0.656638  0.444471  \n",
       "161        0.542759  0.450636  \n",
       "164        0.336485  0.763628  \n",
       "...             ...       ...  \n",
       "15200      0.340454  0.381428  \n",
       "15207      0.519029  0.570738  \n",
       "15214      0.400294  0.235138  \n",
       "15444      1.000000  0.442433  \n",
       "1001       0.442433  1.000000  \n",
       "\n",
       "[261 rows x 261 columns]"
      ]
     },
     "execution_count": 51,
     "metadata": {},
     "output_type": "execute_result"
    }
   ],
   "source": [
    "df.corr()"
   ]
  },
  {
   "cell_type": "code",
   "execution_count": null,
   "id": "50f88430",
   "metadata": {},
   "outputs": [],
   "source": [
    "import seaborn as sns\n",
    "\n",
    "corrMatrix = df.corr()\n",
    "sns.heatmap(corrMatrix, annot=True)\n",
    "plt.show()"
   ]
  },
  {
   "cell_type": "code",
   "execution_count": 149,
   "id": "44cea443",
   "metadata": {},
   "outputs": [],
   "source": [
    "corr_indices = corrMatrix['Wind[MWh]'][corrMatrix['Wind[MWh]']>0.7].index[1:]"
   ]
  },
  {
   "cell_type": "code",
   "execution_count": 150,
   "id": "1e84c80e",
   "metadata": {},
   "outputs": [
    {
     "data": {
      "text/plain": [
       "['342',\n",
       " '691',\n",
       " '701',\n",
       " '704',\n",
       " '722',\n",
       " '788',\n",
       " '963',\n",
       " '1270',\n",
       " '1358',\n",
       " '1503',\n",
       " '1612',\n",
       " '2014',\n",
       " '2483',\n",
       " '2856',\n",
       " '2932',\n",
       " '2961',\n",
       " '3987',\n",
       " '5480',\n",
       " '5715',\n",
       " '6091',\n",
       " '6108',\n",
       " '7396',\n",
       " '15120']"
      ]
     },
     "execution_count": 150,
     "metadata": {},
     "output_type": "execute_result"
    }
   ],
   "source": [
    "corr_indices = list(corr_indices)\n",
    "corr_indices"
   ]
  },
  {
   "cell_type": "code",
   "execution_count": 151,
   "id": "082ee3f4",
   "metadata": {},
   "outputs": [
    {
     "data": {
      "text/html": [
       "<div>\n",
       "<style scoped>\n",
       "    .dataframe tbody tr th:only-of-type {\n",
       "        vertical-align: middle;\n",
       "    }\n",
       "\n",
       "    .dataframe tbody tr th {\n",
       "        vertical-align: top;\n",
       "    }\n",
       "\n",
       "    .dataframe thead th {\n",
       "        text-align: right;\n",
       "    }\n",
       "</style>\n",
       "<table border=\"1\" class=\"dataframe\">\n",
       "  <thead>\n",
       "    <tr style=\"text-align: right;\">\n",
       "      <th></th>\n",
       "      <th>342</th>\n",
       "      <th>691</th>\n",
       "      <th>701</th>\n",
       "      <th>704</th>\n",
       "      <th>722</th>\n",
       "      <th>788</th>\n",
       "      <th>963</th>\n",
       "      <th>1270</th>\n",
       "      <th>1358</th>\n",
       "      <th>1503</th>\n",
       "      <th>...</th>\n",
       "      <th>2856</th>\n",
       "      <th>2932</th>\n",
       "      <th>2961</th>\n",
       "      <th>3987</th>\n",
       "      <th>5480</th>\n",
       "      <th>5715</th>\n",
       "      <th>6091</th>\n",
       "      <th>6108</th>\n",
       "      <th>7396</th>\n",
       "      <th>15120</th>\n",
       "    </tr>\n",
       "    <tr>\n",
       "      <th>Date</th>\n",
       "      <th></th>\n",
       "      <th></th>\n",
       "      <th></th>\n",
       "      <th></th>\n",
       "      <th></th>\n",
       "      <th></th>\n",
       "      <th></th>\n",
       "      <th></th>\n",
       "      <th></th>\n",
       "      <th></th>\n",
       "      <th></th>\n",
       "      <th></th>\n",
       "      <th></th>\n",
       "      <th></th>\n",
       "      <th></th>\n",
       "      <th></th>\n",
       "      <th></th>\n",
       "      <th></th>\n",
       "      <th></th>\n",
       "      <th></th>\n",
       "      <th></th>\n",
       "    </tr>\n",
       "  </thead>\n",
       "  <tbody>\n",
       "    <tr>\n",
       "      <th>2015-01-01 00:00:00</th>\n",
       "      <td>3.9</td>\n",
       "      <td>3.4</td>\n",
       "      <td>5.0</td>\n",
       "      <td>3.7</td>\n",
       "      <td>13.5</td>\n",
       "      <td>10.6</td>\n",
       "      <td>3.3</td>\n",
       "      <td>4.0</td>\n",
       "      <td>10.8</td>\n",
       "      <td>3.3</td>\n",
       "      <td>...</td>\n",
       "      <td>2.4</td>\n",
       "      <td>3.4</td>\n",
       "      <td>11.3</td>\n",
       "      <td>5.6</td>\n",
       "      <td>2.7</td>\n",
       "      <td>4.1</td>\n",
       "      <td>6.9</td>\n",
       "      <td>5.9</td>\n",
       "      <td>5.0</td>\n",
       "      <td>4.9</td>\n",
       "    </tr>\n",
       "    <tr>\n",
       "      <th>2015-01-01 01:00:00</th>\n",
       "      <td>3.2</td>\n",
       "      <td>2.6</td>\n",
       "      <td>5.6</td>\n",
       "      <td>3.5</td>\n",
       "      <td>14.7</td>\n",
       "      <td>10.8</td>\n",
       "      <td>3.6</td>\n",
       "      <td>4.1</td>\n",
       "      <td>8.4</td>\n",
       "      <td>4.0</td>\n",
       "      <td>...</td>\n",
       "      <td>2.4</td>\n",
       "      <td>3.1</td>\n",
       "      <td>10.9</td>\n",
       "      <td>5.5</td>\n",
       "      <td>2.5</td>\n",
       "      <td>4.0</td>\n",
       "      <td>6.9</td>\n",
       "      <td>5.1</td>\n",
       "      <td>4.5</td>\n",
       "      <td>5.3</td>\n",
       "    </tr>\n",
       "    <tr>\n",
       "      <th>2015-01-01 02:00:00</th>\n",
       "      <td>3.4</td>\n",
       "      <td>3.1</td>\n",
       "      <td>5.8</td>\n",
       "      <td>3.9</td>\n",
       "      <td>13.6</td>\n",
       "      <td>11.3</td>\n",
       "      <td>4.6</td>\n",
       "      <td>4.3</td>\n",
       "      <td>6.8</td>\n",
       "      <td>4.4</td>\n",
       "      <td>...</td>\n",
       "      <td>2.9</td>\n",
       "      <td>4.0</td>\n",
       "      <td>8.6</td>\n",
       "      <td>5.5</td>\n",
       "      <td>2.8</td>\n",
       "      <td>4.8</td>\n",
       "      <td>6.9</td>\n",
       "      <td>4.9</td>\n",
       "      <td>4.7</td>\n",
       "      <td>4.8</td>\n",
       "    </tr>\n",
       "    <tr>\n",
       "      <th>2015-01-01 03:00:00</th>\n",
       "      <td>3.5</td>\n",
       "      <td>3.6</td>\n",
       "      <td>6.2</td>\n",
       "      <td>3.9</td>\n",
       "      <td>13.0</td>\n",
       "      <td>11.6</td>\n",
       "      <td>3.8</td>\n",
       "      <td>3.7</td>\n",
       "      <td>7.0</td>\n",
       "      <td>4.7</td>\n",
       "      <td>...</td>\n",
       "      <td>3.0</td>\n",
       "      <td>4.3</td>\n",
       "      <td>10.0</td>\n",
       "      <td>6.1</td>\n",
       "      <td>2.9</td>\n",
       "      <td>5.0</td>\n",
       "      <td>6.9</td>\n",
       "      <td>5.6</td>\n",
       "      <td>4.5</td>\n",
       "      <td>4.2</td>\n",
       "    </tr>\n",
       "    <tr>\n",
       "      <th>2015-01-01 04:00:00</th>\n",
       "      <td>2.6</td>\n",
       "      <td>4.0</td>\n",
       "      <td>6.5</td>\n",
       "      <td>4.6</td>\n",
       "      <td>14.4</td>\n",
       "      <td>11.5</td>\n",
       "      <td>4.3</td>\n",
       "      <td>2.7</td>\n",
       "      <td>6.3</td>\n",
       "      <td>4.8</td>\n",
       "      <td>...</td>\n",
       "      <td>3.0</td>\n",
       "      <td>4.0</td>\n",
       "      <td>10.9</td>\n",
       "      <td>6.6</td>\n",
       "      <td>2.8</td>\n",
       "      <td>3.8</td>\n",
       "      <td>6.9</td>\n",
       "      <td>5.5</td>\n",
       "      <td>3.9</td>\n",
       "      <td>4.1</td>\n",
       "    </tr>\n",
       "  </tbody>\n",
       "</table>\n",
       "<p>5 rows × 23 columns</p>\n",
       "</div>"
      ],
      "text/plain": [
       "                     342  691  701  704   722   788  963  1270  1358  1503  \\\n",
       "Date                                                                         \n",
       "2015-01-01 00:00:00  3.9  3.4  5.0  3.7  13.5  10.6  3.3   4.0  10.8   3.3   \n",
       "2015-01-01 01:00:00  3.2  2.6  5.6  3.5  14.7  10.8  3.6   4.1   8.4   4.0   \n",
       "2015-01-01 02:00:00  3.4  3.1  5.8  3.9  13.6  11.3  4.6   4.3   6.8   4.4   \n",
       "2015-01-01 03:00:00  3.5  3.6  6.2  3.9  13.0  11.6  3.8   3.7   7.0   4.7   \n",
       "2015-01-01 04:00:00  2.6  4.0  6.5  4.6  14.4  11.5  4.3   2.7   6.3   4.8   \n",
       "\n",
       "                     ...  2856  2932  2961  3987  5480  5715  6091  6108  \\\n",
       "Date                 ...                                                   \n",
       "2015-01-01 00:00:00  ...   2.4   3.4  11.3   5.6   2.7   4.1   6.9   5.9   \n",
       "2015-01-01 01:00:00  ...   2.4   3.1  10.9   5.5   2.5   4.0   6.9   5.1   \n",
       "2015-01-01 02:00:00  ...   2.9   4.0   8.6   5.5   2.8   4.8   6.9   4.9   \n",
       "2015-01-01 03:00:00  ...   3.0   4.3  10.0   6.1   2.9   5.0   6.9   5.6   \n",
       "2015-01-01 04:00:00  ...   3.0   4.0  10.9   6.6   2.8   3.8   6.9   5.5   \n",
       "\n",
       "                     7396  15120  \n",
       "Date                              \n",
       "2015-01-01 00:00:00   5.0    4.9  \n",
       "2015-01-01 01:00:00   4.5    5.3  \n",
       "2015-01-01 02:00:00   4.7    4.8  \n",
       "2015-01-01 03:00:00   4.5    4.2  \n",
       "2015-01-01 04:00:00   3.9    4.1  \n",
       "\n",
       "[5 rows x 23 columns]"
      ]
     },
     "execution_count": 151,
     "metadata": {},
     "output_type": "execute_result"
    }
   ],
   "source": [
    "X_new = X[corr_indices]\n",
    "X_new.head()"
   ]
  },
  {
   "cell_type": "code",
   "execution_count": null,
   "id": "2cf4eaac",
   "metadata": {},
   "outputs": [],
   "source": [
    "X.head()"
   ]
  },
  {
   "cell_type": "markdown",
   "id": "c224c992",
   "metadata": {},
   "source": [
    "# Regression models"
   ]
  },
  {
   "cell_type": "markdown",
   "id": "e0cdf4ec",
   "metadata": {},
   "source": [
    "## Linear regression model"
   ]
  },
  {
   "cell_type": "code",
   "execution_count": 158,
   "id": "d74b1c7d",
   "metadata": {},
   "outputs": [],
   "source": [
    "from sklearn.linear_model import LinearRegression\n",
    "from sklearn.model_selection import cross_validate\n",
    "\n",
    "lr = LinearRegression()\n",
    "\n",
    "cv_results = cross_validate(lr, X, y, cv=10, scoring=('r2', 'neg_mean_absolute_percentage_error'))"
   ]
  },
  {
   "cell_type": "code",
   "execution_count": 159,
   "id": "dcb8923f",
   "metadata": {},
   "outputs": [
    {
     "data": {
      "text/plain": [
       "{'fit_time': array([0.59632802, 0.49180913, 0.49020696, 0.49422288, 0.51933122,\n",
       "        0.53489375, 0.54707789, 0.58526492, 0.55646896, 0.54808426]),\n",
       " 'score_time': array([0.00810981, 0.00809288, 0.00890303, 0.00890923, 0.00910378,\n",
       "        0.01030302, 0.00961924, 0.01066208, 0.00903606, 0.00916076]),\n",
       " 'test_r2': array([0.48920585, 0.80760904, 0.79668375, 0.90958285, 0.93401217,\n",
       "        0.90931285, 0.86390644, 0.8769665 , 0.8773749 , 0.88747647]),\n",
       " 'test_neg_mean_absolute_percentage_error': array([-2.13159782e+16, -4.76243585e-01, -2.00446471e+16, -5.58119545e+15,\n",
       "        -3.66706707e-01, -4.18453689e+15, -2.44137948e-01, -7.38374121e+15,\n",
       "        -1.51884748e+16, -3.06504286e-01])}"
      ]
     },
     "execution_count": 159,
     "metadata": {},
     "output_type": "execute_result"
    }
   ],
   "source": [
    "cv_results"
   ]
  },
  {
   "cell_type": "code",
   "execution_count": 92,
   "id": "72e3dfce",
   "metadata": {},
   "outputs": [
    {
     "data": {
      "text/html": [
       "<div>\n",
       "<style scoped>\n",
       "    .dataframe tbody tr th:only-of-type {\n",
       "        vertical-align: middle;\n",
       "    }\n",
       "\n",
       "    .dataframe tbody tr th {\n",
       "        vertical-align: top;\n",
       "    }\n",
       "\n",
       "    .dataframe thead th {\n",
       "        text-align: right;\n",
       "    }\n",
       "</style>\n",
       "<table border=\"1\" class=\"dataframe\">\n",
       "  <thead>\n",
       "    <tr style=\"text-align: right;\">\n",
       "      <th></th>\n",
       "      <th>6091</th>\n",
       "      <th>1358</th>\n",
       "    </tr>\n",
       "    <tr>\n",
       "      <th>Date</th>\n",
       "      <th></th>\n",
       "      <th></th>\n",
       "    </tr>\n",
       "  </thead>\n",
       "  <tbody>\n",
       "    <tr>\n",
       "      <th>2015-05-01 03:00:00</th>\n",
       "      <td>9.0</td>\n",
       "      <td>9.0</td>\n",
       "    </tr>\n",
       "    <tr>\n",
       "      <th>2018-03-05 12:00:00</th>\n",
       "      <td>7.8</td>\n",
       "      <td>2.8</td>\n",
       "    </tr>\n",
       "    <tr>\n",
       "      <th>2015-03-05 02:00:00</th>\n",
       "      <td>8.7</td>\n",
       "      <td>13.6</td>\n",
       "    </tr>\n",
       "    <tr>\n",
       "      <th>2018-09-28 14:00:00</th>\n",
       "      <td>12.1</td>\n",
       "      <td>5.7</td>\n",
       "    </tr>\n",
       "    <tr>\n",
       "      <th>2017-02-21 07:00:00</th>\n",
       "      <td>9.6</td>\n",
       "      <td>16.7</td>\n",
       "    </tr>\n",
       "  </tbody>\n",
       "</table>\n",
       "</div>"
      ],
      "text/plain": [
       "                     6091  1358\n",
       "Date                           \n",
       "2015-05-01 03:00:00   9.0   9.0\n",
       "2018-03-05 12:00:00   7.8   2.8\n",
       "2015-03-05 02:00:00   8.7  13.6\n",
       "2018-09-28 14:00:00  12.1   5.7\n",
       "2017-02-21 07:00:00   9.6  16.7"
      ]
     },
     "execution_count": 92,
     "metadata": {},
     "output_type": "execute_result"
    }
   ],
   "source": [
    "X_train.head()"
   ]
  },
  {
   "cell_type": "code",
   "execution_count": 160,
   "id": "5e614897",
   "metadata": {},
   "outputs": [
    {
     "data": {
      "text/plain": [
       "0.9090575803339822"
      ]
     },
     "execution_count": 160,
     "metadata": {},
     "output_type": "execute_result"
    }
   ],
   "source": [
    "reg = LinearRegression().fit(X_train, y_train)\n",
    "\n",
    "reg.score(X_train, y_train)"
   ]
  },
  {
   "cell_type": "code",
   "execution_count": 155,
   "id": "a9661620",
   "metadata": {},
   "outputs": [
    {
     "data": {
      "text/plain": [
       "array([[7898.71956477],\n",
       "       [3495.55074195],\n",
       "       [-409.18556633],\n",
       "       ...,\n",
       "       [6651.49842327],\n",
       "       [-252.63646404],\n",
       "       [4481.64665429]])"
      ]
     },
     "execution_count": 155,
     "metadata": {},
     "output_type": "execute_result"
    }
   ],
   "source": [
    "reg.predict(X_test)"
   ]
  },
  {
   "cell_type": "code",
   "execution_count": 156,
   "id": "7d8216ec",
   "metadata": {},
   "outputs": [
    {
     "data": {
      "text/html": [
       "<div>\n",
       "<style scoped>\n",
       "    .dataframe tbody tr th:only-of-type {\n",
       "        vertical-align: middle;\n",
       "    }\n",
       "\n",
       "    .dataframe tbody tr th {\n",
       "        vertical-align: top;\n",
       "    }\n",
       "\n",
       "    .dataframe thead th {\n",
       "        text-align: right;\n",
       "    }\n",
       "</style>\n",
       "<table border=\"1\" class=\"dataframe\">\n",
       "  <thead>\n",
       "    <tr style=\"text-align: right;\">\n",
       "      <th></th>\n",
       "      <th>Wind[MWh]</th>\n",
       "    </tr>\n",
       "    <tr>\n",
       "      <th>Date</th>\n",
       "      <th></th>\n",
       "    </tr>\n",
       "  </thead>\n",
       "  <tbody>\n",
       "    <tr>\n",
       "      <th>2017-03-26 02:00:00</th>\n",
       "      <td>0.0</td>\n",
       "    </tr>\n",
       "    <tr>\n",
       "      <th>2018-03-25 02:00:00</th>\n",
       "      <td>0.0</td>\n",
       "    </tr>\n",
       "    <tr>\n",
       "      <th>2019-03-31 02:00:00</th>\n",
       "      <td>0.0</td>\n",
       "    </tr>\n",
       "  </tbody>\n",
       "</table>\n",
       "</div>"
      ],
      "text/plain": [
       "                     Wind[MWh]\n",
       "Date                          \n",
       "2017-03-26 02:00:00        0.0\n",
       "2018-03-25 02:00:00        0.0\n",
       "2019-03-31 02:00:00        0.0"
      ]
     },
     "execution_count": 156,
     "metadata": {},
     "output_type": "execute_result"
    }
   ],
   "source": [
    "y_test[y_test['Wind[MWh]']==0]"
   ]
  },
  {
   "cell_type": "code",
   "execution_count": 157,
   "id": "0632455e",
   "metadata": {},
   "outputs": [
    {
     "name": "stderr",
     "output_type": "stream",
     "text": [
      "<ipython-input-60-f24ea0061afc>:13: RuntimeWarning: divide by zero encountered in true_divide\n",
      "  return np.mean(np.abs((y_true - y_pred) / y_true)) * 100\n"
     ]
    },
    {
     "data": {
      "text/plain": [
       "inf"
      ]
     },
     "execution_count": 157,
     "metadata": {},
     "output_type": "execute_result"
    }
   ],
   "source": [
    "mean_absolute_percentage_error(y_test,reg.predict(X_test))"
   ]
  },
  {
   "cell_type": "code",
   "execution_count": null,
   "id": "bf8bface",
   "metadata": {},
   "outputs": [],
   "source": []
  },
  {
   "cell_type": "code",
   "execution_count": null,
   "id": "1bf2ffe9",
   "metadata": {},
   "outputs": [],
   "source": []
  },
  {
   "cell_type": "code",
   "execution_count": null,
   "id": "4f13b76a",
   "metadata": {},
   "outputs": [],
   "source": []
  },
  {
   "cell_type": "markdown",
   "id": "dbe259b4",
   "metadata": {},
   "source": [
    "## Define loss functions"
   ]
  },
  {
   "cell_type": "code",
   "execution_count": 176,
   "id": "8c7a5923",
   "metadata": {},
   "outputs": [
    {
     "data": {
      "text/plain": [
       "DatetimeIndex(['2017-03-26 02:00:00', '2018-03-25 02:00:00',\n",
       "               '2019-03-31 02:00:00'],\n",
       "              dtype='datetime64[ns]', name='Date', freq=None)"
      ]
     },
     "execution_count": 176,
     "metadata": {},
     "output_type": "execute_result"
    }
   ],
   "source": [
    "y_test[y_test['Wind[MWh]']==0].index"
   ]
  },
  {
   "cell_type": "code",
   "execution_count": 169,
   "id": "9f986cb5",
   "metadata": {},
   "outputs": [
    {
     "data": {
      "text/plain": [
       "array([0., 0., 0.])"
      ]
     },
     "execution_count": 169,
     "metadata": {},
     "output_type": "execute_result"
    }
   ],
   "source": [
    "np.array(y_test)[y_test==0]"
   ]
  },
  {
   "cell_type": "code",
   "execution_count": 60,
   "id": "380264a4",
   "metadata": {},
   "outputs": [],
   "source": [
    "def mae(y_true, y_pred):\n",
    "    y_true = np.array(y_true)\n",
    "    y_pred = np.array(y_pred)\n",
    "    return np.sum(np.abs(y_true-y_pred))/(len(y_true))\n",
    "\n",
    "def mse(y_true, y_pred):\n",
    "    y_true = np.array(y_true)\n",
    "    y_pred = np.array(y_pred)\n",
    "    return np.mean((y_true-y_pred)**2)\n",
    "\n",
    "def mean_absolute_percentage_error(y_true, y_pred):\n",
    "    y_true, y_pred = np.array(y_true), np.array(y_pred)\n",
    "    return np.mean(np.abs((y_true - y_pred) / y_true)) * 100"
   ]
  },
  {
   "cell_type": "markdown",
   "id": "acc65441",
   "metadata": {},
   "source": [
    "## XGboost"
   ]
  },
  {
   "cell_type": "code",
   "execution_count": 61,
   "id": "4a00470e",
   "metadata": {},
   "outputs": [],
   "source": [
    "import xgboost as xgb\n",
    "from sklearn.metrics import mean_squared_error\n",
    "import pandas as pd\n",
    "import numpy as np"
   ]
  },
  {
   "cell_type": "code",
   "execution_count": 62,
   "id": "dff2dd5f",
   "metadata": {},
   "outputs": [],
   "source": [
    "data_dmatrix = xgb.DMatrix(data=X_new,label=y)"
   ]
  },
  {
   "cell_type": "code",
   "execution_count": 63,
   "id": "7bf169ce",
   "metadata": {},
   "outputs": [],
   "source": [
    "xg_reg = xgb.XGBRegressor(objective ='reg:squarederror', colsample_bytree = 0.3, learning_rate = 0.1,\n",
    "                max_depth = 5, alpha = 10, n_estimators = 10)"
   ]
  },
  {
   "cell_type": "code",
   "execution_count": 64,
   "id": "bec306d4",
   "metadata": {},
   "outputs": [],
   "source": [
    "xg_reg.fit(X_new_train,y_new_train)\n",
    "\n",
    "preds = xg_reg.predict(X_new_test)"
   ]
  },
  {
   "cell_type": "code",
   "execution_count": 65,
   "id": "2f0ae9e9",
   "metadata": {},
   "outputs": [
    {
     "data": {
      "text/html": [
       "<div>\n",
       "<style scoped>\n",
       "    .dataframe tbody tr th:only-of-type {\n",
       "        vertical-align: middle;\n",
       "    }\n",
       "\n",
       "    .dataframe tbody tr th {\n",
       "        vertical-align: top;\n",
       "    }\n",
       "\n",
       "    .dataframe thead th {\n",
       "        text-align: right;\n",
       "    }\n",
       "</style>\n",
       "<table border=\"1\" class=\"dataframe\">\n",
       "  <thead>\n",
       "    <tr style=\"text-align: right;\">\n",
       "      <th></th>\n",
       "      <th>0</th>\n",
       "    </tr>\n",
       "  </thead>\n",
       "  <tbody>\n",
       "    <tr>\n",
       "      <th>0</th>\n",
       "      <td>2907.375977</td>\n",
       "    </tr>\n",
       "    <tr>\n",
       "      <th>1</th>\n",
       "      <td>5497.053223</td>\n",
       "    </tr>\n",
       "    <tr>\n",
       "      <th>2</th>\n",
       "      <td>4673.609375</td>\n",
       "    </tr>\n",
       "    <tr>\n",
       "      <th>3</th>\n",
       "      <td>6867.711426</td>\n",
       "    </tr>\n",
       "    <tr>\n",
       "      <th>4</th>\n",
       "      <td>14256.206055</td>\n",
       "    </tr>\n",
       "    <tr>\n",
       "      <th>...</th>\n",
       "      <td>...</td>\n",
       "    </tr>\n",
       "    <tr>\n",
       "      <th>17364</th>\n",
       "      <td>3714.917725</td>\n",
       "    </tr>\n",
       "    <tr>\n",
       "      <th>17365</th>\n",
       "      <td>17646.210938</td>\n",
       "    </tr>\n",
       "    <tr>\n",
       "      <th>17366</th>\n",
       "      <td>1866.590210</td>\n",
       "    </tr>\n",
       "    <tr>\n",
       "      <th>17367</th>\n",
       "      <td>5537.935059</td>\n",
       "    </tr>\n",
       "    <tr>\n",
       "      <th>17368</th>\n",
       "      <td>6461.182617</td>\n",
       "    </tr>\n",
       "  </tbody>\n",
       "</table>\n",
       "<p>17369 rows × 1 columns</p>\n",
       "</div>"
      ],
      "text/plain": [
       "                  0\n",
       "0       2907.375977\n",
       "1       5497.053223\n",
       "2       4673.609375\n",
       "3       6867.711426\n",
       "4      14256.206055\n",
       "...             ...\n",
       "17364   3714.917725\n",
       "17365  17646.210938\n",
       "17366   1866.590210\n",
       "17367   5537.935059\n",
       "17368   6461.182617\n",
       "\n",
       "[17369 rows x 1 columns]"
      ]
     },
     "execution_count": 65,
     "metadata": {},
     "output_type": "execute_result"
    }
   ],
   "source": [
    "pd.DataFrame(preds)"
   ]
  },
  {
   "cell_type": "code",
   "execution_count": 66,
   "id": "b00e1aae",
   "metadata": {},
   "outputs": [
    {
     "data": {
      "text/html": [
       "<div>\n",
       "<style scoped>\n",
       "    .dataframe tbody tr th:only-of-type {\n",
       "        vertical-align: middle;\n",
       "    }\n",
       "\n",
       "    .dataframe tbody tr th {\n",
       "        vertical-align: top;\n",
       "    }\n",
       "\n",
       "    .dataframe thead th {\n",
       "        text-align: right;\n",
       "    }\n",
       "</style>\n",
       "<table border=\"1\" class=\"dataframe\">\n",
       "  <thead>\n",
       "    <tr style=\"text-align: right;\">\n",
       "      <th></th>\n",
       "      <th>Wind[MWh]</th>\n",
       "    </tr>\n",
       "    <tr>\n",
       "      <th>Date</th>\n",
       "      <th></th>\n",
       "    </tr>\n",
       "  </thead>\n",
       "  <tbody>\n",
       "    <tr>\n",
       "      <th>2016-10-22 14:00:00</th>\n",
       "      <td>2848.0</td>\n",
       "    </tr>\n",
       "    <tr>\n",
       "      <th>2017-03-06 05:00:00</th>\n",
       "      <td>10012.0</td>\n",
       "    </tr>\n",
       "    <tr>\n",
       "      <th>2017-02-03 13:00:00</th>\n",
       "      <td>4567.0</td>\n",
       "    </tr>\n",
       "    <tr>\n",
       "      <th>2015-06-05 12:00:00</th>\n",
       "      <td>4171.0</td>\n",
       "    </tr>\n",
       "    <tr>\n",
       "      <th>2020-03-15 05:00:00</th>\n",
       "      <td>30692.0</td>\n",
       "    </tr>\n",
       "    <tr>\n",
       "      <th>...</th>\n",
       "      <td>...</td>\n",
       "    </tr>\n",
       "    <tr>\n",
       "      <th>2018-08-31 19:00:00</th>\n",
       "      <td>4702.0</td>\n",
       "    </tr>\n",
       "    <tr>\n",
       "      <th>2015-01-29 02:00:00</th>\n",
       "      <td>21183.0</td>\n",
       "    </tr>\n",
       "    <tr>\n",
       "      <th>2015-06-30 19:00:00</th>\n",
       "      <td>1689.0</td>\n",
       "    </tr>\n",
       "    <tr>\n",
       "      <th>2018-10-06 21:00:00</th>\n",
       "      <td>11108.0</td>\n",
       "    </tr>\n",
       "    <tr>\n",
       "      <th>2015-06-09 10:00:00</th>\n",
       "      <td>3673.0</td>\n",
       "    </tr>\n",
       "  </tbody>\n",
       "</table>\n",
       "<p>17369 rows × 1 columns</p>\n",
       "</div>"
      ],
      "text/plain": [
       "                     Wind[MWh]\n",
       "Date                          \n",
       "2016-10-22 14:00:00     2848.0\n",
       "2017-03-06 05:00:00    10012.0\n",
       "2017-02-03 13:00:00     4567.0\n",
       "2015-06-05 12:00:00     4171.0\n",
       "2020-03-15 05:00:00    30692.0\n",
       "...                        ...\n",
       "2018-08-31 19:00:00     4702.0\n",
       "2015-01-29 02:00:00    21183.0\n",
       "2015-06-30 19:00:00     1689.0\n",
       "2018-10-06 21:00:00    11108.0\n",
       "2015-06-09 10:00:00     3673.0\n",
       "\n",
       "[17369 rows x 1 columns]"
      ]
     },
     "execution_count": 66,
     "metadata": {},
     "output_type": "execute_result"
    }
   ],
   "source": [
    "y_test"
   ]
  },
  {
   "cell_type": "code",
   "execution_count": 67,
   "id": "64f57204",
   "metadata": {},
   "outputs": [
    {
     "name": "stdout",
     "output_type": "stream",
     "text": [
      "RMSE: 6271.780005\n"
     ]
    }
   ],
   "source": [
    "rmse = np.sqrt(mean_squared_error(y_new_test, preds))\n",
    "print(\"RMSE: %f\" % (rmse))"
   ]
  },
  {
   "cell_type": "code",
   "execution_count": 68,
   "id": "d967d90a",
   "metadata": {},
   "outputs": [],
   "source": [
    "params = {\"objective\":\"reg:squarederror\",'colsample_bytree': 0.3,'learning_rate': 0.1,\n",
    "                'max_depth': 5, 'alpha': 10}\n",
    "\n",
    "cv_results = xgb.cv(dtrain=data_dmatrix, params=params, nfold=3,\n",
    "                    num_boost_round=50,early_stopping_rounds=10,metrics=\"rmse\", as_pandas=True, seed=123)"
   ]
  },
  {
   "cell_type": "code",
   "execution_count": 69,
   "id": "43d279ee",
   "metadata": {},
   "outputs": [
    {
     "data": {
      "text/html": [
       "<div>\n",
       "<style scoped>\n",
       "    .dataframe tbody tr th:only-of-type {\n",
       "        vertical-align: middle;\n",
       "    }\n",
       "\n",
       "    .dataframe tbody tr th {\n",
       "        vertical-align: top;\n",
       "    }\n",
       "\n",
       "    .dataframe thead th {\n",
       "        text-align: right;\n",
       "    }\n",
       "</style>\n",
       "<table border=\"1\" class=\"dataframe\">\n",
       "  <thead>\n",
       "    <tr style=\"text-align: right;\">\n",
       "      <th></th>\n",
       "      <th>train-rmse-mean</th>\n",
       "      <th>train-rmse-std</th>\n",
       "      <th>test-rmse-mean</th>\n",
       "      <th>test-rmse-std</th>\n",
       "    </tr>\n",
       "  </thead>\n",
       "  <tbody>\n",
       "    <tr>\n",
       "      <th>0</th>\n",
       "      <td>13638.032227</td>\n",
       "      <td>31.381905</td>\n",
       "      <td>13642.510742</td>\n",
       "      <td>74.077763</td>\n",
       "    </tr>\n",
       "    <tr>\n",
       "      <th>1</th>\n",
       "      <td>12418.469076</td>\n",
       "      <td>27.849412</td>\n",
       "      <td>12425.596028</td>\n",
       "      <td>76.919199</td>\n",
       "    </tr>\n",
       "    <tr>\n",
       "      <th>2</th>\n",
       "      <td>11329.879557</td>\n",
       "      <td>23.246196</td>\n",
       "      <td>11341.708008</td>\n",
       "      <td>79.903555</td>\n",
       "    </tr>\n",
       "    <tr>\n",
       "      <th>3</th>\n",
       "      <td>10357.671875</td>\n",
       "      <td>27.781977</td>\n",
       "      <td>10373.591797</td>\n",
       "      <td>74.499627</td>\n",
       "    </tr>\n",
       "    <tr>\n",
       "      <th>4</th>\n",
       "      <td>9487.891276</td>\n",
       "      <td>19.019408</td>\n",
       "      <td>9508.214193</td>\n",
       "      <td>80.424655</td>\n",
       "    </tr>\n",
       "  </tbody>\n",
       "</table>\n",
       "</div>"
      ],
      "text/plain": [
       "   train-rmse-mean  train-rmse-std  test-rmse-mean  test-rmse-std\n",
       "0     13638.032227       31.381905    13642.510742      74.077763\n",
       "1     12418.469076       27.849412    12425.596028      76.919199\n",
       "2     11329.879557       23.246196    11341.708008      79.903555\n",
       "3     10357.671875       27.781977    10373.591797      74.499627\n",
       "4      9487.891276       19.019408     9508.214193      80.424655"
      ]
     },
     "execution_count": 69,
     "metadata": {},
     "output_type": "execute_result"
    }
   ],
   "source": [
    "cv_results.head()"
   ]
  },
  {
   "cell_type": "code",
   "execution_count": 70,
   "id": "4ec8be7c",
   "metadata": {},
   "outputs": [],
   "source": [
    "xg_reg = xgb.train(params=params, dtrain=data_dmatrix, num_boost_round=10)"
   ]
  },
  {
   "cell_type": "code",
   "execution_count": 71,
   "id": "775014ae",
   "metadata": {},
   "outputs": [
    {
     "ename": "ExecutableNotFound",
     "evalue": "failed to execute ['dot', '-Kdot', '-Tpng'], make sure the Graphviz executables are on your systems' PATH",
     "output_type": "error",
     "traceback": [
      "\u001b[0;31m--------------------------------------------\u001b[0m",
      "\u001b[0;31mFileNotFoundError\u001b[0mTraceback (most recent call last)",
      "\u001b[0;32m~/.pyenv/versions/lewagon/envs/predict_energy_generation/lib/python3.8/site-packages/graphviz/backend.py\u001b[0m in \u001b[0;36mrun\u001b[0;34m(cmd, input, capture_output, check, encoding, quiet, **kwargs)\u001b[0m\n\u001b[1;32m    163\u001b[0m     \u001b[0;32mtry\u001b[0m\u001b[0;34m:\u001b[0m\u001b[0;34m\u001b[0m\u001b[0;34m\u001b[0m\u001b[0m\n\u001b[0;32m--> 164\u001b[0;31m         \u001b[0mproc\u001b[0m \u001b[0;34m=\u001b[0m \u001b[0msubprocess\u001b[0m\u001b[0;34m.\u001b[0m\u001b[0mPopen\u001b[0m\u001b[0;34m(\u001b[0m\u001b[0mcmd\u001b[0m\u001b[0;34m,\u001b[0m \u001b[0mstartupinfo\u001b[0m\u001b[0;34m=\u001b[0m\u001b[0mget_startupinfo\u001b[0m\u001b[0;34m(\u001b[0m\u001b[0;34m)\u001b[0m\u001b[0;34m,\u001b[0m \u001b[0;34m**\u001b[0m\u001b[0mkwargs\u001b[0m\u001b[0;34m)\u001b[0m\u001b[0;34m\u001b[0m\u001b[0;34m\u001b[0m\u001b[0m\n\u001b[0m\u001b[1;32m    165\u001b[0m     \u001b[0;32mexcept\u001b[0m \u001b[0mOSError\u001b[0m \u001b[0;32mas\u001b[0m \u001b[0me\u001b[0m\u001b[0;34m:\u001b[0m\u001b[0;34m\u001b[0m\u001b[0;34m\u001b[0m\u001b[0m\n",
      "\u001b[0;32m~/.pyenv/versions/3.8.6/lib/python3.8/subprocess.py\u001b[0m in \u001b[0;36m__init__\u001b[0;34m(self, args, bufsize, executable, stdin, stdout, stderr, preexec_fn, close_fds, shell, cwd, env, universal_newlines, startupinfo, creationflags, restore_signals, start_new_session, pass_fds, encoding, errors, text)\u001b[0m\n\u001b[1;32m    853\u001b[0m \u001b[0;34m\u001b[0m\u001b[0m\n\u001b[0;32m--> 854\u001b[0;31m             self._execute_child(args, executable, preexec_fn, close_fds,\n\u001b[0m\u001b[1;32m    855\u001b[0m                                 \u001b[0mpass_fds\u001b[0m\u001b[0;34m,\u001b[0m \u001b[0mcwd\u001b[0m\u001b[0;34m,\u001b[0m \u001b[0menv\u001b[0m\u001b[0;34m,\u001b[0m\u001b[0;34m\u001b[0m\u001b[0;34m\u001b[0m\u001b[0m\n",
      "\u001b[0;32m~/.pyenv/versions/3.8.6/lib/python3.8/subprocess.py\u001b[0m in \u001b[0;36m_execute_child\u001b[0;34m(self, args, executable, preexec_fn, close_fds, pass_fds, cwd, env, startupinfo, creationflags, shell, p2cread, p2cwrite, c2pread, c2pwrite, errread, errwrite, restore_signals, start_new_session)\u001b[0m\n\u001b[1;32m   1701\u001b[0m                         \u001b[0merr_msg\u001b[0m \u001b[0;34m=\u001b[0m \u001b[0mos\u001b[0m\u001b[0;34m.\u001b[0m\u001b[0mstrerror\u001b[0m\u001b[0;34m(\u001b[0m\u001b[0merrno_num\u001b[0m\u001b[0;34m)\u001b[0m\u001b[0;34m\u001b[0m\u001b[0;34m\u001b[0m\u001b[0m\n\u001b[0;32m-> 1702\u001b[0;31m                     \u001b[0;32mraise\u001b[0m \u001b[0mchild_exception_type\u001b[0m\u001b[0;34m(\u001b[0m\u001b[0merrno_num\u001b[0m\u001b[0;34m,\u001b[0m \u001b[0merr_msg\u001b[0m\u001b[0;34m,\u001b[0m \u001b[0merr_filename\u001b[0m\u001b[0;34m)\u001b[0m\u001b[0;34m\u001b[0m\u001b[0;34m\u001b[0m\u001b[0m\n\u001b[0m\u001b[1;32m   1703\u001b[0m                 \u001b[0;32mraise\u001b[0m \u001b[0mchild_exception_type\u001b[0m\u001b[0;34m(\u001b[0m\u001b[0merr_msg\u001b[0m\u001b[0;34m)\u001b[0m\u001b[0;34m\u001b[0m\u001b[0;34m\u001b[0m\u001b[0m\n",
      "\u001b[0;31mFileNotFoundError\u001b[0m: [Errno 2] No such file or directory: 'dot'",
      "\nDuring handling of the above exception, another exception occurred:\n",
      "\u001b[0;31mExecutableNotFound\u001b[0mTraceback (most recent call last)",
      "\u001b[0;32m<ipython-input-71-3badf8026abd>\u001b[0m in \u001b[0;36m<module>\u001b[0;34m\u001b[0m\n\u001b[1;32m      1\u001b[0m \u001b[0;32mimport\u001b[0m \u001b[0mmatplotlib\u001b[0m\u001b[0;34m.\u001b[0m\u001b[0mpyplot\u001b[0m \u001b[0;32mas\u001b[0m \u001b[0mplt\u001b[0m\u001b[0;34m\u001b[0m\u001b[0;34m\u001b[0m\u001b[0m\n\u001b[1;32m      2\u001b[0m \u001b[0;34m\u001b[0m\u001b[0m\n\u001b[0;32m----> 3\u001b[0;31m \u001b[0mxgb\u001b[0m\u001b[0;34m.\u001b[0m\u001b[0mplot_tree\u001b[0m\u001b[0;34m(\u001b[0m\u001b[0mxg_reg\u001b[0m\u001b[0;34m,\u001b[0m\u001b[0mnum_trees\u001b[0m\u001b[0;34m=\u001b[0m\u001b[0;36m0\u001b[0m\u001b[0;34m)\u001b[0m\u001b[0;34m\u001b[0m\u001b[0;34m\u001b[0m\u001b[0m\n\u001b[0m\u001b[1;32m      4\u001b[0m \u001b[0mplt\u001b[0m\u001b[0;34m.\u001b[0m\u001b[0mrcParams\u001b[0m\u001b[0;34m[\u001b[0m\u001b[0;34m'figure.figsize'\u001b[0m\u001b[0;34m]\u001b[0m \u001b[0;34m=\u001b[0m \u001b[0;34m[\u001b[0m\u001b[0;36m50\u001b[0m\u001b[0;34m,\u001b[0m \u001b[0;36m10\u001b[0m\u001b[0;34m]\u001b[0m\u001b[0;34m\u001b[0m\u001b[0;34m\u001b[0m\u001b[0m\n\u001b[1;32m      5\u001b[0m \u001b[0mplt\u001b[0m\u001b[0;34m.\u001b[0m\u001b[0mshow\u001b[0m\u001b[0;34m(\u001b[0m\u001b[0;34m)\u001b[0m\u001b[0;34m\u001b[0m\u001b[0;34m\u001b[0m\u001b[0m\n",
      "\u001b[0;32m~/.pyenv/versions/lewagon/envs/predict_energy_generation/lib/python3.8/site-packages/xgboost/plotting.py\u001b[0m in \u001b[0;36mplot_tree\u001b[0;34m(booster, fmap, num_trees, rankdir, ax, **kwargs)\u001b[0m\n\u001b[1;32m    248\u001b[0m \u001b[0;34m\u001b[0m\u001b[0m\n\u001b[1;32m    249\u001b[0m     \u001b[0ms\u001b[0m \u001b[0;34m=\u001b[0m \u001b[0mBytesIO\u001b[0m\u001b[0;34m(\u001b[0m\u001b[0;34m)\u001b[0m\u001b[0;34m\u001b[0m\u001b[0;34m\u001b[0m\u001b[0m\n\u001b[0;32m--> 250\u001b[0;31m     \u001b[0ms\u001b[0m\u001b[0;34m.\u001b[0m\u001b[0mwrite\u001b[0m\u001b[0;34m(\u001b[0m\u001b[0mg\u001b[0m\u001b[0;34m.\u001b[0m\u001b[0mpipe\u001b[0m\u001b[0;34m(\u001b[0m\u001b[0mformat\u001b[0m\u001b[0;34m=\u001b[0m\u001b[0;34m'png'\u001b[0m\u001b[0;34m)\u001b[0m\u001b[0;34m)\u001b[0m\u001b[0;34m\u001b[0m\u001b[0;34m\u001b[0m\u001b[0m\n\u001b[0m\u001b[1;32m    251\u001b[0m     \u001b[0ms\u001b[0m\u001b[0;34m.\u001b[0m\u001b[0mseek\u001b[0m\u001b[0;34m(\u001b[0m\u001b[0;36m0\u001b[0m\u001b[0;34m)\u001b[0m\u001b[0;34m\u001b[0m\u001b[0;34m\u001b[0m\u001b[0m\n\u001b[1;32m    252\u001b[0m     \u001b[0mimg\u001b[0m \u001b[0;34m=\u001b[0m \u001b[0mimage\u001b[0m\u001b[0;34m.\u001b[0m\u001b[0mimread\u001b[0m\u001b[0;34m(\u001b[0m\u001b[0ms\u001b[0m\u001b[0;34m)\u001b[0m\u001b[0;34m\u001b[0m\u001b[0;34m\u001b[0m\u001b[0m\n",
      "\u001b[0;32m~/.pyenv/versions/lewagon/envs/predict_energy_generation/lib/python3.8/site-packages/graphviz/files.py\u001b[0m in \u001b[0;36mpipe\u001b[0;34m(self, format, renderer, formatter, quiet)\u001b[0m\n\u001b[1;32m    167\u001b[0m         \u001b[0mdata\u001b[0m \u001b[0;34m=\u001b[0m \u001b[0mtext_type\u001b[0m\u001b[0;34m(\u001b[0m\u001b[0mself\u001b[0m\u001b[0;34m.\u001b[0m\u001b[0msource\u001b[0m\u001b[0;34m)\u001b[0m\u001b[0;34m.\u001b[0m\u001b[0mencode\u001b[0m\u001b[0;34m(\u001b[0m\u001b[0mself\u001b[0m\u001b[0;34m.\u001b[0m\u001b[0m_encoding\u001b[0m\u001b[0;34m)\u001b[0m\u001b[0;34m\u001b[0m\u001b[0;34m\u001b[0m\u001b[0m\n\u001b[1;32m    168\u001b[0m \u001b[0;34m\u001b[0m\u001b[0m\n\u001b[0;32m--> 169\u001b[0;31m         out = backend.pipe(self._engine, format, data,\n\u001b[0m\u001b[1;32m    170\u001b[0m                            \u001b[0mrenderer\u001b[0m\u001b[0;34m=\u001b[0m\u001b[0mrenderer\u001b[0m\u001b[0;34m,\u001b[0m \u001b[0mformatter\u001b[0m\u001b[0;34m=\u001b[0m\u001b[0mformatter\u001b[0m\u001b[0;34m,\u001b[0m\u001b[0;34m\u001b[0m\u001b[0;34m\u001b[0m\u001b[0m\n\u001b[1;32m    171\u001b[0m                            quiet=quiet)\n",
      "\u001b[0;32m~/.pyenv/versions/lewagon/envs/predict_energy_generation/lib/python3.8/site-packages/graphviz/backend.py\u001b[0m in \u001b[0;36mpipe\u001b[0;34m(engine, format, data, renderer, formatter, quiet)\u001b[0m\n\u001b[1;32m    246\u001b[0m     \"\"\"\n\u001b[1;32m    247\u001b[0m     \u001b[0mcmd\u001b[0m\u001b[0;34m,\u001b[0m \u001b[0m_\u001b[0m \u001b[0;34m=\u001b[0m \u001b[0mcommand\u001b[0m\u001b[0;34m(\u001b[0m\u001b[0mengine\u001b[0m\u001b[0;34m,\u001b[0m \u001b[0mformat\u001b[0m\u001b[0;34m,\u001b[0m \u001b[0;32mNone\u001b[0m\u001b[0;34m,\u001b[0m \u001b[0mrenderer\u001b[0m\u001b[0;34m,\u001b[0m \u001b[0mformatter\u001b[0m\u001b[0;34m)\u001b[0m\u001b[0;34m\u001b[0m\u001b[0;34m\u001b[0m\u001b[0m\n\u001b[0;32m--> 248\u001b[0;31m     \u001b[0mout\u001b[0m\u001b[0;34m,\u001b[0m \u001b[0m_\u001b[0m \u001b[0;34m=\u001b[0m \u001b[0mrun\u001b[0m\u001b[0;34m(\u001b[0m\u001b[0mcmd\u001b[0m\u001b[0;34m,\u001b[0m \u001b[0minput\u001b[0m\u001b[0;34m=\u001b[0m\u001b[0mdata\u001b[0m\u001b[0;34m,\u001b[0m \u001b[0mcapture_output\u001b[0m\u001b[0;34m=\u001b[0m\u001b[0;32mTrue\u001b[0m\u001b[0;34m,\u001b[0m \u001b[0mcheck\u001b[0m\u001b[0;34m=\u001b[0m\u001b[0;32mTrue\u001b[0m\u001b[0;34m,\u001b[0m \u001b[0mquiet\u001b[0m\u001b[0;34m=\u001b[0m\u001b[0mquiet\u001b[0m\u001b[0;34m)\u001b[0m\u001b[0;34m\u001b[0m\u001b[0;34m\u001b[0m\u001b[0m\n\u001b[0m\u001b[1;32m    249\u001b[0m     \u001b[0;32mreturn\u001b[0m \u001b[0mout\u001b[0m\u001b[0;34m\u001b[0m\u001b[0;34m\u001b[0m\u001b[0m\n\u001b[1;32m    250\u001b[0m \u001b[0;34m\u001b[0m\u001b[0m\n",
      "\u001b[0;32m~/.pyenv/versions/lewagon/envs/predict_energy_generation/lib/python3.8/site-packages/graphviz/backend.py\u001b[0m in \u001b[0;36mrun\u001b[0;34m(cmd, input, capture_output, check, encoding, quiet, **kwargs)\u001b[0m\n\u001b[1;32m    165\u001b[0m     \u001b[0;32mexcept\u001b[0m \u001b[0mOSError\u001b[0m \u001b[0;32mas\u001b[0m \u001b[0me\u001b[0m\u001b[0;34m:\u001b[0m\u001b[0;34m\u001b[0m\u001b[0;34m\u001b[0m\u001b[0m\n\u001b[1;32m    166\u001b[0m         \u001b[0;32mif\u001b[0m \u001b[0me\u001b[0m\u001b[0;34m.\u001b[0m\u001b[0merrno\u001b[0m \u001b[0;34m==\u001b[0m \u001b[0merrno\u001b[0m\u001b[0;34m.\u001b[0m\u001b[0mENOENT\u001b[0m\u001b[0;34m:\u001b[0m\u001b[0;34m\u001b[0m\u001b[0;34m\u001b[0m\u001b[0m\n\u001b[0;32m--> 167\u001b[0;31m             \u001b[0;32mraise\u001b[0m \u001b[0mExecutableNotFound\u001b[0m\u001b[0;34m(\u001b[0m\u001b[0mcmd\u001b[0m\u001b[0;34m)\u001b[0m\u001b[0;34m\u001b[0m\u001b[0;34m\u001b[0m\u001b[0m\n\u001b[0m\u001b[1;32m    168\u001b[0m         \u001b[0;32melse\u001b[0m\u001b[0;34m:\u001b[0m\u001b[0;34m\u001b[0m\u001b[0;34m\u001b[0m\u001b[0m\n\u001b[1;32m    169\u001b[0m             \u001b[0;32mraise\u001b[0m\u001b[0;34m\u001b[0m\u001b[0;34m\u001b[0m\u001b[0m\n",
      "\u001b[0;31mExecutableNotFound\u001b[0m: failed to execute ['dot', '-Kdot', '-Tpng'], make sure the Graphviz executables are on your systems' PATH"
     ]
    },
    {
     "data": {
      "image/png": "[encoded data removed]",
      "text/plain": [
       "<Figure size 432x288 with 1 Axes>"
      ]
     },
     "metadata": {
      "needs_background": "light"
     },
     "output_type": "display_data"
    }
   ],
   "source": [
    "import matplotlib.pyplot as plt\n",
    "\n",
    "xgb.plot_tree(xg_reg,num_trees=0)\n",
    "plt.rcParams['figure.figsize'] = [50, 10]\n",
    "plt.show()"
   ]
  },
  {
   "cell_type": "code",
   "execution_count": 74,
   "id": "a63c2b6d",
   "metadata": {
    "scrolled": true
   },
   "outputs": [
    {
     "data": {
      "image/png": "[encoded data removed]",
      "text/plain": [
       "<Figure size 432x288 with 1 Axes>"
      ]
     },
     "metadata": {
      "needs_background": "light"
     },
     "output_type": "display_data"
    }
   ],
   "source": [
    "xgb.plot_importance(xg_reg)\n",
    "plt.rcParams['figure.figsize'] = [160, 16]\n",
    "plt.show()"
   ]
  },
  {
   "cell_type": "code",
   "execution_count": 75,
   "id": "012d7a40",
   "metadata": {},
   "outputs": [
    {
     "data": {
      "text/plain": [
       "118.37363705482093"
      ]
     },
     "execution_count": 75,
     "metadata": {},
     "output_type": "execute_result"
    }
   ],
   "source": [
    "mean_absolute_percentage_error(y_new_test,preds)"
   ]
  },
  {
   "cell_type": "code",
   "execution_count": 76,
   "id": "bee7acc1",
   "metadata": {},
   "outputs": [
    {
     "data": {
      "text/html": [
       "<div>\n",
       "<style scoped>\n",
       "    .dataframe tbody tr th:only-of-type {\n",
       "        vertical-align: middle;\n",
       "    }\n",
       "\n",
       "    .dataframe tbody tr th {\n",
       "        vertical-align: top;\n",
       "    }\n",
       "\n",
       "    .dataframe thead th {\n",
       "        text-align: right;\n",
       "    }\n",
       "</style>\n",
       "<table border=\"1\" class=\"dataframe\">\n",
       "  <thead>\n",
       "    <tr style=\"text-align: right;\">\n",
       "      <th></th>\n",
       "      <th>6091</th>\n",
       "      <th>1358</th>\n",
       "    </tr>\n",
       "    <tr>\n",
       "      <th>Date</th>\n",
       "      <th></th>\n",
       "      <th></th>\n",
       "    </tr>\n",
       "  </thead>\n",
       "  <tbody>\n",
       "    <tr>\n",
       "      <th>2015-01-01 00:00:00</th>\n",
       "      <td>6.9</td>\n",
       "      <td>10.8</td>\n",
       "    </tr>\n",
       "    <tr>\n",
       "      <th>2015-01-01 01:00:00</th>\n",
       "      <td>6.9</td>\n",
       "      <td>8.4</td>\n",
       "    </tr>\n",
       "    <tr>\n",
       "      <th>2015-01-01 02:00:00</th>\n",
       "      <td>6.9</td>\n",
       "      <td>6.8</td>\n",
       "    </tr>\n",
       "    <tr>\n",
       "      <th>2015-01-01 03:00:00</th>\n",
       "      <td>6.9</td>\n",
       "      <td>7.0</td>\n",
       "    </tr>\n",
       "    <tr>\n",
       "      <th>2015-01-01 04:00:00</th>\n",
       "      <td>6.9</td>\n",
       "      <td>6.3</td>\n",
       "    </tr>\n",
       "    <tr>\n",
       "      <th>...</th>\n",
       "      <td>...</td>\n",
       "      <td>...</td>\n",
       "    </tr>\n",
       "    <tr>\n",
       "      <th>2021-01-01 19:00:00</th>\n",
       "      <td>5.2</td>\n",
       "      <td>5.7</td>\n",
       "    </tr>\n",
       "    <tr>\n",
       "      <th>2021-01-01 20:00:00</th>\n",
       "      <td>5.3</td>\n",
       "      <td>4.4</td>\n",
       "    </tr>\n",
       "    <tr>\n",
       "      <th>2021-01-01 21:00:00</th>\n",
       "      <td>6.2</td>\n",
       "      <td>1.9</td>\n",
       "    </tr>\n",
       "    <tr>\n",
       "      <th>2021-01-01 22:00:00</th>\n",
       "      <td>5.9</td>\n",
       "      <td>2.4</td>\n",
       "    </tr>\n",
       "    <tr>\n",
       "      <th>2021-01-01 23:00:00</th>\n",
       "      <td>6.2</td>\n",
       "      <td>2.6</td>\n",
       "    </tr>\n",
       "  </tbody>\n",
       "</table>\n",
       "<p>52632 rows × 2 columns</p>\n",
       "</div>"
      ],
      "text/plain": [
       "                     6091  1358\n",
       "Date                           \n",
       "2015-01-01 00:00:00   6.9  10.8\n",
       "2015-01-01 01:00:00   6.9   8.4\n",
       "2015-01-01 02:00:00   6.9   6.8\n",
       "2015-01-01 03:00:00   6.9   7.0\n",
       "2015-01-01 04:00:00   6.9   6.3\n",
       "...                   ...   ...\n",
       "2021-01-01 19:00:00   5.2   5.7\n",
       "2021-01-01 20:00:00   5.3   4.4\n",
       "2021-01-01 21:00:00   6.2   1.9\n",
       "2021-01-01 22:00:00   5.9   2.4\n",
       "2021-01-01 23:00:00   6.2   2.6\n",
       "\n",
       "[52632 rows x 2 columns]"
      ]
     },
     "execution_count": 76,
     "metadata": {},
     "output_type": "execute_result"
    }
   ],
   "source": [
    "X.loc[:, ['6091', '1358']]"
   ]
  },
  {
   "cell_type": "code",
   "execution_count": 90,
   "id": "b320b838",
   "metadata": {},
   "outputs": [],
   "source": [
    "X_train, X_test, y_train, y_test = train_test_split(X.loc[:, ['6091', '1358']], y, test_size=0.33, random_state=42)"
   ]
  },
  {
   "cell_type": "code",
   "execution_count": 78,
   "id": "3b438b85",
   "metadata": {},
   "outputs": [
    {
     "data": {
      "text/plain": [
       "(35263, 2)"
      ]
     },
     "execution_count": 78,
     "metadata": {},
     "output_type": "execute_result"
    }
   ],
   "source": [
    "X_train.shape"
   ]
  },
  {
   "cell_type": "code",
   "execution_count": 79,
   "id": "eefd733f",
   "metadata": {},
   "outputs": [
    {
     "data": {
      "text/plain": [
       "(35263, 1)"
      ]
     },
     "execution_count": 79,
     "metadata": {},
     "output_type": "execute_result"
    }
   ],
   "source": [
    "y_train.shape"
   ]
  },
  {
   "cell_type": "code",
   "execution_count": 80,
   "id": "8b6ef24c",
   "metadata": {
    "scrolled": true
   },
   "outputs": [
    {
     "ename": "AttributeError",
     "evalue": "'Booster' object has no attribute 'fit'",
     "output_type": "error",
     "traceback": [
      "\u001b[0;31m--------------------------------------------\u001b[0m",
      "\u001b[0;31mAttributeError\u001b[0mTraceback (most recent call last)",
      "\u001b[0;32m<ipython-input-80-8054be8fe2e9>\u001b[0m in \u001b[0;36m<module>\u001b[0;34m\u001b[0m\n\u001b[0;32m----> 1\u001b[0;31m \u001b[0mxg_reg\u001b[0m\u001b[0;34m.\u001b[0m\u001b[0mfit\u001b[0m\u001b[0;34m(\u001b[0m\u001b[0mX_train\u001b[0m\u001b[0;34m,\u001b[0m\u001b[0my_train\u001b[0m\u001b[0;34m)\u001b[0m\u001b[0;34m\u001b[0m\u001b[0;34m\u001b[0m\u001b[0m\n\u001b[0m\u001b[1;32m      2\u001b[0m \u001b[0;34m\u001b[0m\u001b[0m\n\u001b[1;32m      3\u001b[0m \u001b[0mpreds\u001b[0m \u001b[0;34m=\u001b[0m \u001b[0mxg_reg\u001b[0m\u001b[0;34m.\u001b[0m\u001b[0mpredict\u001b[0m\u001b[0;34m(\u001b[0m\u001b[0mX_test\u001b[0m\u001b[0;34m)\u001b[0m\u001b[0;34m\u001b[0m\u001b[0;34m\u001b[0m\u001b[0m\n",
      "\u001b[0;31mAttributeError\u001b[0m: 'Booster' object has no attribute 'fit'"
     ]
    }
   ],
   "source": [
    "xg_reg.fit(X_train,y_train)\n",
    "\n",
    "preds = xg_reg.predict(X_test)"
   ]
  },
  {
   "cell_type": "code",
   "execution_count": null,
   "id": "2431c926",
   "metadata": {},
   "outputs": [],
   "source": [
    "mean_absolute_percentage_error(y_test,preds)"
   ]
  }
 ],
 "metadata": {
  "kernelspec": {
   "display_name": "Python 3",
   "language": "python",
   "name": "python3"
  },
  "language_info": {
   "codemirror_mode": {
    "name": "ipython",
    "version": 3
   },
   "file_extension": ".py",
   "mimetype": "text/x-python",
   "name": "python",
   "nbconvert_exporter": "python",
   "pygments_lexer": "ipython3",
   "version": "3.8.6"
  },
  "toc": {
   "base_numbering": 1,
   "nav_menu": {},
   "number_sections": true,
   "sideBar": true,
   "skip_h1_title": false,
   "title_cell": "Table of Contents",
   "title_sidebar": "Contents",
   "toc_cell": false,
   "toc_position": {},
   "toc_section_display": true,
   "toc_window_display": false
  }
 },
 "nbformat": 4,
 "nbformat_minor": 5
}
