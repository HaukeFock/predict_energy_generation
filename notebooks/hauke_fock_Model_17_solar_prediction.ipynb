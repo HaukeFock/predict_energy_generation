{
 "cells": [
  {
   "cell_type": "code",
   "execution_count": 35,
   "id": "0db6a35a",
   "metadata": {
    "id": "0db6a35a"
   },
   "outputs": [],
   "source": [
    "# **Imports**\n",
    "import pandas as pd\n",
    "import numpy as np\n",
    "import datetime as dt\n",
    "import matplotlib.pyplot as plt\n",
    "import seaborn as sns\n",
    "\n",
    "from keras.models import Sequential\n",
    "from keras import layers\n",
    "from keras.layers import Conv2D, MaxPooling2D, Flatten, Dense, TimeDistributed, SimpleRNN, LSTM, GRU\n",
    "from sklearn.preprocessing import MinMaxScaler\n",
    "from keras.preprocessing.sequence import TimeseriesGenerator \n",
    "from tensorflow.keras.preprocessing import timeseries_dataset_from_array\n",
    "from keras.callbacks import EarlyStopping\n",
    "\n",
    "from statsmodels.tsa.statespace.sarimax import SARIMAX"
   ]
  },
  {
   "cell_type": "code",
   "execution_count": 3,
   "id": "e8xntP-5de8Z",
   "metadata": {
    "colab": {
     "base_uri": "https://localhost:8080/"
    },
    "id": "e8xntP-5de8Z",
    "outputId": "eba5aa70-8546-46f4-8b04-2949ea067d89"
   },
   "outputs": [],
   "source": [
    "#from google.colab import drive\n",
    "#drive.mount('/content/drive')"
   ]
  },
  {
   "cell_type": "markdown",
   "id": "d204534f",
   "metadata": {
    "id": "d204534f"
   },
   "source": [
    "# Loading and Preparing the data"
   ]
  },
  {
   "cell_type": "markdown",
   "id": "600151a4",
   "metadata": {
    "id": "600151a4"
   },
   "source": [
    "## Loading the Data "
   ]
  },
  {
   "cell_type": "code",
   "execution_count": 4,
   "id": "j4Tgti9gVcOK",
   "metadata": {
    "id": "j4Tgti9gVcOK"
   },
   "outputs": [],
   "source": [
    "# uploading the files to GC in order to use them. If you use the file in GCP more often, use a DIFFERENT method like connecting to your Drive, like shown below.\n",
    "#from google.colab import files\n",
    "#uploaded1 = files.upload()"
   ]
  },
  {
   "cell_type": "code",
   "execution_count": 5,
   "id": "fJnNYhZLVcXI",
   "metadata": {
    "id": "fJnNYhZLVcXI"
   },
   "outputs": [],
   "source": [
    "#uploaded2 = files.upload()"
   ]
  },
  {
   "cell_type": "code",
   "execution_count": 2,
   "id": "2949d9fa",
   "metadata": {
    "id": "2949d9fa"
   },
   "outputs": [],
   "source": [
    "local_path_target = '/mnt/g/Meine Ablage/raw_data/Target/Hourly/energy_generation_data/df_deutschland.csv'\n",
    "\n",
    "local_path_feature = \"/mnt/g/Meine Ablage/raw_data/Features/DATAFRAMES/hourly_globalradiation_df.csv\"\n",
    "\n",
    "data_target = pd.read_csv(local_path_target)\n",
    "data_feature = pd.read_csv(local_path_feature)\n",
    "\n",
    "#data_target = pd.read_csv('/content/drive/MyDrive/raw_data/Target/Hourly/energy_generation_data/df_deutschland.csv')\n",
    "#data_feature = pd.read_csv('/content/drive/MyDrive/raw_data/Features/DATAFRAMES/hourly_globalradiation_df.csv', index_col=0)\n",
    "\n",
    "data_target['Date'] = pd.to_datetime(data_target.Date)"
   ]
  },
  {
   "cell_type": "code",
   "execution_count": 6,
   "id": "d0133535",
   "metadata": {
    "colab": {
     "base_uri": "https://localhost:8080/",
     "height": 175
    },
    "id": "d0133535",
    "outputId": "36e6a437-f805-4e5d-de20-8846d52f2723"
   },
   "outputs": [
    {
     "data": {
      "text/html": [
       "<div>\n",
       "<style scoped>\n",
       "    .dataframe tbody tr th:only-of-type {\n",
       "        vertical-align: middle;\n",
       "    }\n",
       "\n",
       "    .dataframe tbody tr th {\n",
       "        vertical-align: top;\n",
       "    }\n",
       "\n",
       "    .dataframe thead th {\n",
       "        text-align: right;\n",
       "    }\n",
       "</style>\n",
       "<table border=\"1\" class=\"dataframe\">\n",
       "  <thead>\n",
       "    <tr style=\"text-align: right;\">\n",
       "      <th></th>\n",
       "      <th>Wind offshore[MWh]</th>\n",
       "      <th>Wind onshore[MWh]</th>\n",
       "      <th>Photovoltaics[MWh]</th>\n",
       "    </tr>\n",
       "    <tr>\n",
       "      <th>Date</th>\n",
       "      <th></th>\n",
       "      <th></th>\n",
       "      <th></th>\n",
       "    </tr>\n",
       "  </thead>\n",
       "  <tbody>\n",
       "    <tr>\n",
       "      <th>2015-01-01 00:00:00</th>\n",
       "      <td>517.0</td>\n",
       "      <td>8129.0</td>\n",
       "      <td>0.0</td>\n",
       "    </tr>\n",
       "    <tr>\n",
       "      <th>2015-01-01 01:00:00</th>\n",
       "      <td>516.0</td>\n",
       "      <td>8300.0</td>\n",
       "      <td>0.0</td>\n",
       "    </tr>\n",
       "    <tr>\n",
       "      <th>2015-01-01 02:00:00</th>\n",
       "      <td>514.0</td>\n",
       "      <td>8544.0</td>\n",
       "      <td>0.0</td>\n",
       "    </tr>\n",
       "  </tbody>\n",
       "</table>\n",
       "</div>"
      ],
      "text/plain": [
       "                     Wind offshore[MWh]  Wind onshore[MWh]  Photovoltaics[MWh]\n",
       "Date                                                                          \n",
       "2015-01-01 00:00:00               517.0             8129.0                 0.0\n",
       "2015-01-01 01:00:00               516.0             8300.0                 0.0\n",
       "2015-01-01 02:00:00               514.0             8544.0                 0.0"
      ]
     },
     "execution_count": 6,
     "metadata": {},
     "output_type": "execute_result"
    }
   ],
   "source": [
    "generation_df = data_target.groupby(by=data_target['Date']).sum()\n",
    "generation_df.head(3)"
   ]
  },
  {
   "cell_type": "code",
   "execution_count": 7,
   "id": "be12f8ab",
   "metadata": {
    "colab": {
     "base_uri": "https://localhost:8080/"
    },
    "id": "be12f8ab",
    "outputId": "963a7932-dd0f-43c1-deaa-d4e1cfd0d2ff"
   },
   "outputs": [
    {
     "data": {
      "text/plain": [
       "Date\n",
       "2021-04-30 21:00:00    0.0\n",
       "2021-04-30 22:00:00    0.0\n",
       "2021-04-30 23:00:00    0.0\n",
       "Name: Photovoltaics[MWh], dtype: float64"
      ]
     },
     "execution_count": 7,
     "metadata": {},
     "output_type": "execute_result"
    }
   ],
   "source": [
    "solar_df = generation_df[\"Photovoltaics[MWh]\"]\n",
    "solar_df.tail(3)"
   ]
  },
  {
   "cell_type": "code",
   "execution_count": 8,
   "id": "MPnSZdH6A1JU",
   "metadata": {
    "colab": {
     "base_uri": "https://localhost:8080/",
     "height": 276
    },
    "id": "MPnSZdH6A1JU",
    "outputId": "ba1b741e-eefb-4912-89e5-4900852d18b1"
   },
   "outputs": [
    {
     "data": {
      "text/html": [
       "<div>\n",
       "<style scoped>\n",
       "    .dataframe tbody tr th:only-of-type {\n",
       "        vertical-align: middle;\n",
       "    }\n",
       "\n",
       "    .dataframe tbody tr th {\n",
       "        vertical-align: top;\n",
       "    }\n",
       "\n",
       "    .dataframe thead th {\n",
       "        text-align: right;\n",
       "    }\n",
       "</style>\n",
       "<table border=\"1\" class=\"dataframe\">\n",
       "  <thead>\n",
       "    <tr style=\"text-align: right;\">\n",
       "      <th></th>\n",
       "      <th>Date</th>\n",
       "      <th>164</th>\n",
       "      <th>183</th>\n",
       "      <th>198</th>\n",
       "      <th>232</th>\n",
       "      <th>282</th>\n",
       "      <th>342</th>\n",
       "      <th>427</th>\n",
       "      <th>430</th>\n",
       "      <th>433</th>\n",
       "      <th>...</th>\n",
       "      <th>6197</th>\n",
       "      <th>7351</th>\n",
       "      <th>7367</th>\n",
       "      <th>7368</th>\n",
       "      <th>7369</th>\n",
       "      <th>7370</th>\n",
       "      <th>7374</th>\n",
       "      <th>13674</th>\n",
       "      <th>15000</th>\n",
       "      <th>15818</th>\n",
       "    </tr>\n",
       "  </thead>\n",
       "  <tbody>\n",
       "    <tr>\n",
       "      <th>11661</th>\n",
       "      <td>2021-04-30 21:00:00</td>\n",
       "      <td>0.0</td>\n",
       "      <td>0.0</td>\n",
       "      <td>0.0</td>\n",
       "      <td>0.0</td>\n",
       "      <td>0.0</td>\n",
       "      <td>0.0</td>\n",
       "      <td>0.0</td>\n",
       "      <td>0.0</td>\n",
       "      <td>0.0</td>\n",
       "      <td>...</td>\n",
       "      <td>0.0</td>\n",
       "      <td>0.0</td>\n",
       "      <td>0.0</td>\n",
       "      <td>0.0</td>\n",
       "      <td>0.0</td>\n",
       "      <td>0.0</td>\n",
       "      <td>0.0</td>\n",
       "      <td>0.0</td>\n",
       "      <td>0.0</td>\n",
       "      <td>0.0</td>\n",
       "    </tr>\n",
       "    <tr>\n",
       "      <th>11662</th>\n",
       "      <td>2021-04-30 22:00:00</td>\n",
       "      <td>0.0</td>\n",
       "      <td>0.0</td>\n",
       "      <td>0.0</td>\n",
       "      <td>0.0</td>\n",
       "      <td>0.0</td>\n",
       "      <td>0.0</td>\n",
       "      <td>0.0</td>\n",
       "      <td>0.0</td>\n",
       "      <td>0.0</td>\n",
       "      <td>...</td>\n",
       "      <td>0.0</td>\n",
       "      <td>0.0</td>\n",
       "      <td>0.0</td>\n",
       "      <td>0.0</td>\n",
       "      <td>0.0</td>\n",
       "      <td>0.0</td>\n",
       "      <td>0.0</td>\n",
       "      <td>0.0</td>\n",
       "      <td>0.0</td>\n",
       "      <td>0.0</td>\n",
       "    </tr>\n",
       "    <tr>\n",
       "      <th>11663</th>\n",
       "      <td>2021-04-30 23:00:00</td>\n",
       "      <td>0.0</td>\n",
       "      <td>0.0</td>\n",
       "      <td>0.0</td>\n",
       "      <td>0.0</td>\n",
       "      <td>0.0</td>\n",
       "      <td>0.0</td>\n",
       "      <td>0.0</td>\n",
       "      <td>0.0</td>\n",
       "      <td>0.0</td>\n",
       "      <td>...</td>\n",
       "      <td>0.0</td>\n",
       "      <td>0.0</td>\n",
       "      <td>0.0</td>\n",
       "      <td>0.0</td>\n",
       "      <td>0.0</td>\n",
       "      <td>0.0</td>\n",
       "      <td>0.0</td>\n",
       "      <td>0.0</td>\n",
       "      <td>0.0</td>\n",
       "      <td>0.0</td>\n",
       "    </tr>\n",
       "  </tbody>\n",
       "</table>\n",
       "<p>3 rows × 120 columns</p>\n",
       "</div>"
      ],
      "text/plain": [
       "                      Date  164  183  198  232  282  342  427  430  433  ...  \\\n",
       "11661  2021-04-30 21:00:00  0.0  0.0  0.0  0.0  0.0  0.0  0.0  0.0  0.0  ...   \n",
       "11662  2021-04-30 22:00:00  0.0  0.0  0.0  0.0  0.0  0.0  0.0  0.0  0.0  ...   \n",
       "11663  2021-04-30 23:00:00  0.0  0.0  0.0  0.0  0.0  0.0  0.0  0.0  0.0  ...   \n",
       "\n",
       "       6197  7351  7367  7368  7369  7370  7374  13674  15000  15818  \n",
       "11661   0.0   0.0   0.0   0.0   0.0   0.0   0.0    0.0    0.0    0.0  \n",
       "11662   0.0   0.0   0.0   0.0   0.0   0.0   0.0    0.0    0.0    0.0  \n",
       "11663   0.0   0.0   0.0   0.0   0.0   0.0   0.0    0.0    0.0    0.0  \n",
       "\n",
       "[3 rows x 120 columns]"
      ]
     },
     "execution_count": 8,
     "metadata": {},
     "output_type": "execute_result"
    }
   ],
   "source": [
    "data_feature.tail(3)"
   ]
  },
  {
   "cell_type": "code",
   "execution_count": 9,
   "id": "kdboff4DT9XR",
   "metadata": {
    "id": "kdboff4DT9XR"
   },
   "outputs": [],
   "source": [
    "# Is Clouddata maybe better?\n"
   ]
  },
  {
   "cell_type": "markdown",
   "id": "HaqL34k9QyqY",
   "metadata": {
    "id": "HaqL34k9QyqY"
   },
   "source": [
    "# Statistical Exploration"
   ]
  },
  {
   "cell_type": "code",
   "execution_count": 10,
   "id": "rv9F5EbyAtR8",
   "metadata": {
    "colab": {
     "base_uri": "https://localhost:8080/",
     "height": 283
    },
    "id": "rv9F5EbyAtR8",
    "outputId": "7378b6e6-d842-4734-9526-908849b3c843"
   },
   "outputs": [
    {
     "data": {
      "text/plain": [
       "[<matplotlib.lines.Line2D at 0x7f2d236efe80>]"
      ]
     },
     "execution_count": 10,
     "metadata": {},
     "output_type": "execute_result"
    },
    {
     "data": {
      "image/png": "[encoded data removed]",
      "text/plain": [
       "<Figure size 432x288 with 1 Axes>"
      ]
     },
     "metadata": {
      "needs_background": "light"
     },
     "output_type": "display_data"
    }
   ],
   "source": [
    "plt.plot(solar_df[:500])"
   ]
  },
  {
   "cell_type": "code",
   "execution_count": 11,
   "id": "W0jaJQQVAupZ",
   "metadata": {
    "colab": {
     "base_uri": "https://localhost:8080/",
     "height": 283
    },
    "id": "W0jaJQQVAupZ",
    "outputId": "f590f391-cf57-4a41-dd99-b3d82a1ff18f"
   },
   "outputs": [
    {
     "data": {
      "text/plain": [
       "<AxesSubplot:>"
      ]
     },
     "execution_count": 11,
     "metadata": {},
     "output_type": "execute_result"
    },
    {
     "data": {
      "image/png": "[encoded data removed]",
      "text/plain": [
       "<Figure size 432x288 with 1 Axes>"
      ]
     },
     "metadata": {
      "needs_background": "light"
     },
     "output_type": "display_data"
    }
   ],
   "source": [
    "solar_df.hist()"
   ]
  },
  {
   "cell_type": "code",
   "execution_count": 12,
   "id": "nQ6VKkfzAuxg",
   "metadata": {
    "colab": {
     "base_uri": "https://localhost:8080/"
    },
    "id": "nQ6VKkfzAuxg",
    "outputId": "d510cac7-5352-4f2c-d146-bf51f4060fa7"
   },
   "outputs": [
    {
     "data": {
      "text/plain": [
       "2.7855963309276302e-15"
      ]
     },
     "execution_count": 12,
     "metadata": {},
     "output_type": "execute_result"
    }
   ],
   "source": [
    "# p-value (should be less than 0.05 to be sattionary)\n",
    "from statsmodels.tsa.stattools import adfuller\n",
    "\n",
    "adfuller(solar_df)[1]"
   ]
  },
  {
   "cell_type": "code",
   "execution_count": 13,
   "id": "2tJ5T0SgAuz9",
   "metadata": {
    "id": "2tJ5T0SgAuz9"
   },
   "outputs": [],
   "source": [
    "# Analyzing seasonality and "
   ]
  },
  {
   "cell_type": "code",
   "execution_count": 14,
   "id": "mLzbj430Au1w",
   "metadata": {
    "colab": {
     "base_uri": "https://localhost:8080/",
     "height": 298
    },
    "id": "mLzbj430Au1w",
    "outputId": "725b3e55-d161-4421-c655-1032484b3cfc"
   },
   "outputs": [
    {
     "data": {
      "image/png": "[encoded data removed]",
      "text/plain": [
       "<Figure size 432x288 with 4 Axes>"
      ]
     },
     "metadata": {
      "needs_background": "light"
     },
     "output_type": "display_data"
    }
   ],
   "source": [
    "\n",
    "\n",
    "from statsmodels.tsa.seasonal import seasonal_decompose\n",
    "\n",
    "result_add = seasonal_decompose(solar_df, model='additive')\n",
    "result_add.plot();"
   ]
  },
  {
   "cell_type": "code",
   "execution_count": 94,
   "id": "cz6ifevWAu6E",
   "metadata": {
    "id": "cz6ifevWAu6E"
   },
   "outputs": [],
   "source": []
  },
  {
   "cell_type": "markdown",
   "id": "BGjpy7nAacx-",
   "metadata": {
    "id": "BGjpy7nAacx-"
   },
   "source": [
    "## Preparing the Data\n",
    "\n",
    "\n"
   ]
  },
  {
   "cell_type": "markdown",
   "id": "rICAARFU6QMw",
   "metadata": {
    "id": "rICAARFU6QMw"
   },
   "source": [
    "### Concatenating the Data"
   ]
  },
  {
   "cell_type": "code",
   "execution_count": 15,
   "id": "btnHBtNaenB7",
   "metadata": {
    "id": "btnHBtNaenB7"
   },
   "outputs": [],
   "source": [
    "solar_df.drop(solar_df.head(solar_df.shape[0]-data_feature.shape[0]).index,inplace=True)"
   ]
  },
  {
   "cell_type": "code",
   "execution_count": 16,
   "id": "e41e4d3a",
   "metadata": {
    "colab": {
     "base_uri": "https://localhost:8080/"
    },
    "id": "e41e4d3a",
    "outputId": "0b71dab7-718b-45e1-d87f-ac2b76163201"
   },
   "outputs": [
    {
     "data": {
      "text/plain": [
       "(11664, 121)"
      ]
     },
     "execution_count": 16,
     "metadata": {},
     "output_type": "execute_result"
    }
   ],
   "source": [
    "# Building one DataFrame to make the correlation Analysis\n",
    "\n",
    "complete_df = pd.concat([solar_df, data_feature.set_index(solar_df.index)], axis=1)\n",
    "complete_df.shape"
   ]
  },
  {
   "cell_type": "markdown",
   "id": "f6j3BNTY5UMO",
   "metadata": {
    "id": "f6j3BNTY5UMO"
   },
   "source": [
    "### Filtering the data with highly correlated timeseries Optional "
   ]
  },
  {
   "cell_type": "code",
   "execution_count": 17,
   "id": "NpxfddANtPOQ",
   "metadata": {
    "id": "NpxfddANtPOQ"
   },
   "outputs": [],
   "source": [
    "# Correlation Analysis\n",
    "#complete_df.corr()"
   ]
  },
  {
   "cell_type": "code",
   "execution_count": 18,
   "id": "ZLYLhzacvAQD",
   "metadata": {
    "id": "ZLYLhzacvAQD"
   },
   "outputs": [],
   "source": [
    "df_corr = complete_df.corr().abs()"
   ]
  },
  {
   "cell_type": "code",
   "execution_count": 19,
   "id": "Qk2iH-htELz6",
   "metadata": {
    "colab": {
     "base_uri": "https://localhost:8080/",
     "height": 444
    },
    "id": "Qk2iH-htELz6",
    "outputId": "9a5c5687-4315-4b27-f821-29bce6b6fed6"
   },
   "outputs": [
    {
     "data": {
      "text/html": [
       "<div>\n",
       "<style scoped>\n",
       "    .dataframe tbody tr th:only-of-type {\n",
       "        vertical-align: middle;\n",
       "    }\n",
       "\n",
       "    .dataframe tbody tr th {\n",
       "        vertical-align: top;\n",
       "    }\n",
       "\n",
       "    .dataframe thead th {\n",
       "        text-align: right;\n",
       "    }\n",
       "</style>\n",
       "<table border=\"1\" class=\"dataframe\">\n",
       "  <thead>\n",
       "    <tr style=\"text-align: right;\">\n",
       "      <th></th>\n",
       "      <th>Photovoltaics[MWh]</th>\n",
       "      <th>164</th>\n",
       "      <th>183</th>\n",
       "      <th>198</th>\n",
       "      <th>232</th>\n",
       "      <th>282</th>\n",
       "      <th>342</th>\n",
       "      <th>427</th>\n",
       "      <th>430</th>\n",
       "      <th>433</th>\n",
       "      <th>...</th>\n",
       "      <th>6197</th>\n",
       "      <th>7351</th>\n",
       "      <th>7367</th>\n",
       "      <th>7368</th>\n",
       "      <th>7369</th>\n",
       "      <th>7370</th>\n",
       "      <th>7374</th>\n",
       "      <th>13674</th>\n",
       "      <th>15000</th>\n",
       "      <th>15818</th>\n",
       "    </tr>\n",
       "  </thead>\n",
       "  <tbody>\n",
       "    <tr>\n",
       "      <th>Photovoltaics[MWh]</th>\n",
       "      <td>1.000000</td>\n",
       "      <td>0.781508</td>\n",
       "      <td>0.780628</td>\n",
       "      <td>0.839778</td>\n",
       "      <td>0.830101</td>\n",
       "      <td>0.845172</td>\n",
       "      <td>0.813199</td>\n",
       "      <td>0.800804</td>\n",
       "      <td>0.794589</td>\n",
       "      <td>0.791675</td>\n",
       "      <td>...</td>\n",
       "      <td>0.829469</td>\n",
       "      <td>0.776425</td>\n",
       "      <td>0.808242</td>\n",
       "      <td>0.845927</td>\n",
       "      <td>0.281130</td>\n",
       "      <td>0.809716</td>\n",
       "      <td>0.846881</td>\n",
       "      <td>0.873554</td>\n",
       "      <td>0.864202</td>\n",
       "      <td>0.023892</td>\n",
       "    </tr>\n",
       "    <tr>\n",
       "      <th>164</th>\n",
       "      <td>0.781508</td>\n",
       "      <td>1.000000</td>\n",
       "      <td>0.899513</td>\n",
       "      <td>0.876090</td>\n",
       "      <td>0.839640</td>\n",
       "      <td>0.850496</td>\n",
       "      <td>0.833806</td>\n",
       "      <td>0.941742</td>\n",
       "      <td>0.946814</td>\n",
       "      <td>0.928458</td>\n",
       "      <td>...</td>\n",
       "      <td>0.859577</td>\n",
       "      <td>0.949607</td>\n",
       "      <td>0.851946</td>\n",
       "      <td>0.864590</td>\n",
       "      <td>0.247835</td>\n",
       "      <td>0.826521</td>\n",
       "      <td>0.851666</td>\n",
       "      <td>0.848919</td>\n",
       "      <td>0.844615</td>\n",
       "      <td>0.018547</td>\n",
       "    </tr>\n",
       "    <tr>\n",
       "      <th>183</th>\n",
       "      <td>0.780628</td>\n",
       "      <td>0.899513</td>\n",
       "      <td>1.000000</td>\n",
       "      <td>0.840640</td>\n",
       "      <td>0.813387</td>\n",
       "      <td>0.827059</td>\n",
       "      <td>0.820424</td>\n",
       "      <td>0.881467</td>\n",
       "      <td>0.886795</td>\n",
       "      <td>0.858027</td>\n",
       "      <td>...</td>\n",
       "      <td>0.847147</td>\n",
       "      <td>0.902628</td>\n",
       "      <td>0.825470</td>\n",
       "      <td>0.839218</td>\n",
       "      <td>0.216594</td>\n",
       "      <td>0.799182</td>\n",
       "      <td>0.846185</td>\n",
       "      <td>0.834866</td>\n",
       "      <td>0.836177</td>\n",
       "      <td>0.011232</td>\n",
       "    </tr>\n",
       "    <tr>\n",
       "      <th>198</th>\n",
       "      <td>0.839778</td>\n",
       "      <td>0.876090</td>\n",
       "      <td>0.840640</td>\n",
       "      <td>1.000000</td>\n",
       "      <td>0.865342</td>\n",
       "      <td>0.904928</td>\n",
       "      <td>0.859467</td>\n",
       "      <td>0.895249</td>\n",
       "      <td>0.894762</td>\n",
       "      <td>0.883955</td>\n",
       "      <td>...</td>\n",
       "      <td>0.903108</td>\n",
       "      <td>0.859744</td>\n",
       "      <td>0.890518</td>\n",
       "      <td>0.941870</td>\n",
       "      <td>0.276545</td>\n",
       "      <td>0.863922</td>\n",
       "      <td>0.876235</td>\n",
       "      <td>0.889968</td>\n",
       "      <td>0.881841</td>\n",
       "      <td>0.032900</td>\n",
       "    </tr>\n",
       "    <tr>\n",
       "      <th>232</th>\n",
       "      <td>0.830101</td>\n",
       "      <td>0.839640</td>\n",
       "      <td>0.813387</td>\n",
       "      <td>0.865342</td>\n",
       "      <td>1.000000</td>\n",
       "      <td>0.902834</td>\n",
       "      <td>0.801335</td>\n",
       "      <td>0.849465</td>\n",
       "      <td>0.843752</td>\n",
       "      <td>0.842224</td>\n",
       "      <td>...</td>\n",
       "      <td>0.839016</td>\n",
       "      <td>0.826825</td>\n",
       "      <td>0.815335</td>\n",
       "      <td>0.878821</td>\n",
       "      <td>0.305669</td>\n",
       "      <td>0.894854</td>\n",
       "      <td>0.835375</td>\n",
       "      <td>0.910070</td>\n",
       "      <td>0.851534</td>\n",
       "      <td>0.033377</td>\n",
       "    </tr>\n",
       "    <tr>\n",
       "      <th>...</th>\n",
       "      <td>...</td>\n",
       "      <td>...</td>\n",
       "      <td>...</td>\n",
       "      <td>...</td>\n",
       "      <td>...</td>\n",
       "      <td>...</td>\n",
       "      <td>...</td>\n",
       "      <td>...</td>\n",
       "      <td>...</td>\n",
       "      <td>...</td>\n",
       "      <td>...</td>\n",
       "      <td>...</td>\n",
       "      <td>...</td>\n",
       "      <td>...</td>\n",
       "      <td>...</td>\n",
       "      <td>...</td>\n",
       "      <td>...</td>\n",
       "      <td>...</td>\n",
       "      <td>...</td>\n",
       "      <td>...</td>\n",
       "      <td>...</td>\n",
       "    </tr>\n",
       "    <tr>\n",
       "      <th>7370</th>\n",
       "      <td>0.809716</td>\n",
       "      <td>0.826521</td>\n",
       "      <td>0.799182</td>\n",
       "      <td>0.863922</td>\n",
       "      <td>0.894854</td>\n",
       "      <td>0.904904</td>\n",
       "      <td>0.801545</td>\n",
       "      <td>0.842155</td>\n",
       "      <td>0.836392</td>\n",
       "      <td>0.839663</td>\n",
       "      <td>...</td>\n",
       "      <td>0.829670</td>\n",
       "      <td>0.807996</td>\n",
       "      <td>0.806754</td>\n",
       "      <td>0.874866</td>\n",
       "      <td>0.266960</td>\n",
       "      <td>1.000000</td>\n",
       "      <td>0.813704</td>\n",
       "      <td>0.882354</td>\n",
       "      <td>0.833913</td>\n",
       "      <td>0.033544</td>\n",
       "    </tr>\n",
       "    <tr>\n",
       "      <th>7374</th>\n",
       "      <td>0.846881</td>\n",
       "      <td>0.851666</td>\n",
       "      <td>0.846185</td>\n",
       "      <td>0.876235</td>\n",
       "      <td>0.835375</td>\n",
       "      <td>0.865292</td>\n",
       "      <td>0.900189</td>\n",
       "      <td>0.859910</td>\n",
       "      <td>0.860118</td>\n",
       "      <td>0.850372</td>\n",
       "      <td>...</td>\n",
       "      <td>0.910855</td>\n",
       "      <td>0.857136</td>\n",
       "      <td>0.879187</td>\n",
       "      <td>0.880212</td>\n",
       "      <td>0.255169</td>\n",
       "      <td>0.813704</td>\n",
       "      <td>1.000000</td>\n",
       "      <td>0.874462</td>\n",
       "      <td>0.917821</td>\n",
       "      <td>0.008949</td>\n",
       "    </tr>\n",
       "    <tr>\n",
       "      <th>13674</th>\n",
       "      <td>0.873554</td>\n",
       "      <td>0.848919</td>\n",
       "      <td>0.834866</td>\n",
       "      <td>0.889968</td>\n",
       "      <td>0.910070</td>\n",
       "      <td>0.926497</td>\n",
       "      <td>0.846657</td>\n",
       "      <td>0.866184</td>\n",
       "      <td>0.861768</td>\n",
       "      <td>0.858877</td>\n",
       "      <td>...</td>\n",
       "      <td>0.877869</td>\n",
       "      <td>0.841935</td>\n",
       "      <td>0.853509</td>\n",
       "      <td>0.911956</td>\n",
       "      <td>0.261014</td>\n",
       "      <td>0.882354</td>\n",
       "      <td>0.874462</td>\n",
       "      <td>1.000000</td>\n",
       "      <td>0.899300</td>\n",
       "      <td>0.030639</td>\n",
       "    </tr>\n",
       "    <tr>\n",
       "      <th>15000</th>\n",
       "      <td>0.864202</td>\n",
       "      <td>0.844615</td>\n",
       "      <td>0.836177</td>\n",
       "      <td>0.881841</td>\n",
       "      <td>0.851534</td>\n",
       "      <td>0.881167</td>\n",
       "      <td>0.876804</td>\n",
       "      <td>0.857512</td>\n",
       "      <td>0.851888</td>\n",
       "      <td>0.847752</td>\n",
       "      <td>...</td>\n",
       "      <td>0.905574</td>\n",
       "      <td>0.846230</td>\n",
       "      <td>0.881077</td>\n",
       "      <td>0.900687</td>\n",
       "      <td>0.242331</td>\n",
       "      <td>0.833913</td>\n",
       "      <td>0.917821</td>\n",
       "      <td>0.899300</td>\n",
       "      <td>1.000000</td>\n",
       "      <td>0.013615</td>\n",
       "    </tr>\n",
       "    <tr>\n",
       "      <th>15818</th>\n",
       "      <td>0.023892</td>\n",
       "      <td>0.018547</td>\n",
       "      <td>0.011232</td>\n",
       "      <td>0.032900</td>\n",
       "      <td>0.033377</td>\n",
       "      <td>0.033745</td>\n",
       "      <td>0.016405</td>\n",
       "      <td>0.030470</td>\n",
       "      <td>0.024545</td>\n",
       "      <td>0.026967</td>\n",
       "      <td>...</td>\n",
       "      <td>0.006751</td>\n",
       "      <td>0.007784</td>\n",
       "      <td>0.010493</td>\n",
       "      <td>0.034713</td>\n",
       "      <td>0.002987</td>\n",
       "      <td>0.033544</td>\n",
       "      <td>0.008949</td>\n",
       "      <td>0.030639</td>\n",
       "      <td>0.013615</td>\n",
       "      <td>1.000000</td>\n",
       "    </tr>\n",
       "  </tbody>\n",
       "</table>\n",
       "<p>120 rows × 120 columns</p>\n",
       "</div>"
      ],
      "text/plain": [
       "                    Photovoltaics[MWh]       164       183       198  \\\n",
       "Photovoltaics[MWh]            1.000000  0.781508  0.780628  0.839778   \n",
       "164                           0.781508  1.000000  0.899513  0.876090   \n",
       "183                           0.780628  0.899513  1.000000  0.840640   \n",
       "198                           0.839778  0.876090  0.840640  1.000000   \n",
       "232                           0.830101  0.839640  0.813387  0.865342   \n",
       "...                                ...       ...       ...       ...   \n",
       "7370                          0.809716  0.826521  0.799182  0.863922   \n",
       "7374                          0.846881  0.851666  0.846185  0.876235   \n",
       "13674                         0.873554  0.848919  0.834866  0.889968   \n",
       "15000                         0.864202  0.844615  0.836177  0.881841   \n",
       "15818                         0.023892  0.018547  0.011232  0.032900   \n",
       "\n",
       "                         232       282       342       427       430  \\\n",
       "Photovoltaics[MWh]  0.830101  0.845172  0.813199  0.800804  0.794589   \n",
       "164                 0.839640  0.850496  0.833806  0.941742  0.946814   \n",
       "183                 0.813387  0.827059  0.820424  0.881467  0.886795   \n",
       "198                 0.865342  0.904928  0.859467  0.895249  0.894762   \n",
       "232                 1.000000  0.902834  0.801335  0.849465  0.843752   \n",
       "...                      ...       ...       ...       ...       ...   \n",
       "7370                0.894854  0.904904  0.801545  0.842155  0.836392   \n",
       "7374                0.835375  0.865292  0.900189  0.859910  0.860118   \n",
       "13674               0.910070  0.926497  0.846657  0.866184  0.861768   \n",
       "15000               0.851534  0.881167  0.876804  0.857512  0.851888   \n",
       "15818               0.033377  0.033745  0.016405  0.030470  0.024545   \n",
       "\n",
       "                         433  ...      6197      7351      7367      7368  \\\n",
       "Photovoltaics[MWh]  0.791675  ...  0.829469  0.776425  0.808242  0.845927   \n",
       "164                 0.928458  ...  0.859577  0.949607  0.851946  0.864590   \n",
       "183                 0.858027  ...  0.847147  0.902628  0.825470  0.839218   \n",
       "198                 0.883955  ...  0.903108  0.859744  0.890518  0.941870   \n",
       "232                 0.842224  ...  0.839016  0.826825  0.815335  0.878821   \n",
       "...                      ...  ...       ...       ...       ...       ...   \n",
       "7370                0.839663  ...  0.829670  0.807996  0.806754  0.874866   \n",
       "7374                0.850372  ...  0.910855  0.857136  0.879187  0.880212   \n",
       "13674               0.858877  ...  0.877869  0.841935  0.853509  0.911956   \n",
       "15000               0.847752  ...  0.905574  0.846230  0.881077  0.900687   \n",
       "15818               0.026967  ...  0.006751  0.007784  0.010493  0.034713   \n",
       "\n",
       "                        7369      7370      7374     13674     15000     15818  \n",
       "Photovoltaics[MWh]  0.281130  0.809716  0.846881  0.873554  0.864202  0.023892  \n",
       "164                 0.247835  0.826521  0.851666  0.848919  0.844615  0.018547  \n",
       "183                 0.216594  0.799182  0.846185  0.834866  0.836177  0.011232  \n",
       "198                 0.276545  0.863922  0.876235  0.889968  0.881841  0.032900  \n",
       "232                 0.305669  0.894854  0.835375  0.910070  0.851534  0.033377  \n",
       "...                      ...       ...       ...       ...       ...       ...  \n",
       "7370                0.266960  1.000000  0.813704  0.882354  0.833913  0.033544  \n",
       "7374                0.255169  0.813704  1.000000  0.874462  0.917821  0.008949  \n",
       "13674               0.261014  0.882354  0.874462  1.000000  0.899300  0.030639  \n",
       "15000               0.242331  0.833913  0.917821  0.899300  1.000000  0.013615  \n",
       "15818               0.002987  0.033544  0.008949  0.030639  0.013615  1.000000  \n",
       "\n",
       "[120 rows x 120 columns]"
      ]
     },
     "execution_count": 19,
     "metadata": {},
     "output_type": "execute_result"
    }
   ],
   "source": [
    "df_corr"
   ]
  },
  {
   "cell_type": "code",
   "execution_count": 20,
   "id": "6UAjPQhxyUXq",
   "metadata": {
    "colab": {
     "base_uri": "https://localhost:8080/",
     "height": 424
    },
    "id": "6UAjPQhxyUXq",
    "outputId": "222d4f19-36f6-411d-97ed-ddba5d5bc695"
   },
   "outputs": [
    {
     "data": {
      "text/html": [
       "<div>\n",
       "<style scoped>\n",
       "    .dataframe tbody tr th:only-of-type {\n",
       "        vertical-align: middle;\n",
       "    }\n",
       "\n",
       "    .dataframe tbody tr th {\n",
       "        vertical-align: top;\n",
       "    }\n",
       "\n",
       "    .dataframe thead th {\n",
       "        text-align: right;\n",
       "    }\n",
       "</style>\n",
       "<table border=\"1\" class=\"dataframe\">\n",
       "  <thead>\n",
       "    <tr style=\"text-align: right;\">\n",
       "      <th></th>\n",
       "      <th>Photovoltaics[MWh]</th>\n",
       "    </tr>\n",
       "  </thead>\n",
       "  <tbody>\n",
       "    <tr>\n",
       "      <th>Photovoltaics[MWh]</th>\n",
       "      <td>1.000000</td>\n",
       "    </tr>\n",
       "    <tr>\n",
       "      <th>13674</th>\n",
       "      <td>0.873554</td>\n",
       "    </tr>\n",
       "    <tr>\n",
       "      <th>4177</th>\n",
       "      <td>0.866014</td>\n",
       "    </tr>\n",
       "    <tr>\n",
       "      <th>3660</th>\n",
       "      <td>0.866013</td>\n",
       "    </tr>\n",
       "    <tr>\n",
       "      <th>15000</th>\n",
       "      <td>0.864202</td>\n",
       "    </tr>\n",
       "    <tr>\n",
       "      <th>...</th>\n",
       "      <td>...</td>\n",
       "    </tr>\n",
       "    <tr>\n",
       "      <th>5142</th>\n",
       "      <td>0.758694</td>\n",
       "    </tr>\n",
       "    <tr>\n",
       "      <th>3946</th>\n",
       "      <td>0.634170</td>\n",
       "    </tr>\n",
       "    <tr>\n",
       "      <th>656</th>\n",
       "      <td>0.339278</td>\n",
       "    </tr>\n",
       "    <tr>\n",
       "      <th>7369</th>\n",
       "      <td>0.281130</td>\n",
       "    </tr>\n",
       "    <tr>\n",
       "      <th>15818</th>\n",
       "      <td>0.023892</td>\n",
       "    </tr>\n",
       "  </tbody>\n",
       "</table>\n",
       "<p>120 rows × 1 columns</p>\n",
       "</div>"
      ],
      "text/plain": [
       "                    Photovoltaics[MWh]\n",
       "Photovoltaics[MWh]            1.000000\n",
       "13674                         0.873554\n",
       "4177                          0.866014\n",
       "3660                          0.866013\n",
       "15000                         0.864202\n",
       "...                                ...\n",
       "5142                          0.758694\n",
       "3946                          0.634170\n",
       "656                           0.339278\n",
       "7369                          0.281130\n",
       "15818                         0.023892\n",
       "\n",
       "[120 rows x 1 columns]"
      ]
     },
     "execution_count": 20,
     "metadata": {},
     "output_type": "execute_result"
    }
   ],
   "source": [
    "sorted_corr = df_corr.iloc[0].sort_values(ascending=False)\n",
    "pd.DataFrame(sorted_corr)"
   ]
  },
  {
   "cell_type": "code",
   "execution_count": 21,
   "id": "mEWBXdKs1R7Z",
   "metadata": {
    "id": "mEWBXdKs1R7Z"
   },
   "outputs": [],
   "source": [
    "list_of_corr_060 = list(sorted_corr[sorted_corr >= 0.6].index)"
   ]
  },
  {
   "cell_type": "code",
   "execution_count": 22,
   "id": "eBRhv3JJ4i0f",
   "metadata": {
    "id": "eBRhv3JJ4i0f"
   },
   "outputs": [],
   "source": [
    "filtered_df = complete_df[list_of_corr_060]"
   ]
  },
  {
   "cell_type": "code",
   "execution_count": 23,
   "id": "3hoixQngF2pK",
   "metadata": {
    "colab": {
     "base_uri": "https://localhost:8080/",
     "height": 649
    },
    "id": "3hoixQngF2pK",
    "outputId": "113f0eb8-be0e-4f7a-b919-dafcd9d485c2"
   },
   "outputs": [
    {
     "data": {
      "text/html": [
       "<div>\n",
       "<style scoped>\n",
       "    .dataframe tbody tr th:only-of-type {\n",
       "        vertical-align: middle;\n",
       "    }\n",
       "\n",
       "    .dataframe tbody tr th {\n",
       "        vertical-align: top;\n",
       "    }\n",
       "\n",
       "    .dataframe thead th {\n",
       "        text-align: right;\n",
       "    }\n",
       "</style>\n",
       "<table border=\"1\" class=\"dataframe\">\n",
       "  <thead>\n",
       "    <tr style=\"text-align: right;\">\n",
       "      <th></th>\n",
       "      <th>Photovoltaics[MWh]</th>\n",
       "      <th>13674</th>\n",
       "      <th>4177</th>\n",
       "      <th>3660</th>\n",
       "      <th>15000</th>\n",
       "      <th>4336</th>\n",
       "      <th>460</th>\n",
       "      <th>5100</th>\n",
       "      <th>5906</th>\n",
       "      <th>3098</th>\n",
       "      <th>...</th>\n",
       "      <th>183</th>\n",
       "      <th>1605</th>\n",
       "      <th>1684</th>\n",
       "      <th>7351</th>\n",
       "      <th>5792</th>\n",
       "      <th>1757</th>\n",
       "      <th>1503</th>\n",
       "      <th>4104</th>\n",
       "      <th>5142</th>\n",
       "      <th>3946</th>\n",
       "    </tr>\n",
       "    <tr>\n",
       "      <th>Date</th>\n",
       "      <th></th>\n",
       "      <th></th>\n",
       "      <th></th>\n",
       "      <th></th>\n",
       "      <th></th>\n",
       "      <th></th>\n",
       "      <th></th>\n",
       "      <th></th>\n",
       "      <th></th>\n",
       "      <th></th>\n",
       "      <th></th>\n",
       "      <th></th>\n",
       "      <th></th>\n",
       "      <th></th>\n",
       "      <th></th>\n",
       "      <th></th>\n",
       "      <th></th>\n",
       "      <th></th>\n",
       "      <th></th>\n",
       "      <th></th>\n",
       "      <th></th>\n",
       "    </tr>\n",
       "  </thead>\n",
       "  <tbody>\n",
       "    <tr>\n",
       "      <th>2020-01-01 00:00:00</th>\n",
       "      <td>0.0</td>\n",
       "      <td>0.0</td>\n",
       "      <td>0.0</td>\n",
       "      <td>0.0</td>\n",
       "      <td>0.0</td>\n",
       "      <td>0.0</td>\n",
       "      <td>0.0</td>\n",
       "      <td>0.0</td>\n",
       "      <td>0.0</td>\n",
       "      <td>0.0</td>\n",
       "      <td>...</td>\n",
       "      <td>0.0</td>\n",
       "      <td>0.0</td>\n",
       "      <td>0.0</td>\n",
       "      <td>0.0</td>\n",
       "      <td>0.0</td>\n",
       "      <td>0.0</td>\n",
       "      <td>0.0</td>\n",
       "      <td>0.0</td>\n",
       "      <td>0.0</td>\n",
       "      <td>0.0</td>\n",
       "    </tr>\n",
       "    <tr>\n",
       "      <th>2020-01-01 01:00:00</th>\n",
       "      <td>0.0</td>\n",
       "      <td>0.0</td>\n",
       "      <td>0.0</td>\n",
       "      <td>0.0</td>\n",
       "      <td>0.0</td>\n",
       "      <td>0.0</td>\n",
       "      <td>0.0</td>\n",
       "      <td>0.0</td>\n",
       "      <td>0.0</td>\n",
       "      <td>0.0</td>\n",
       "      <td>...</td>\n",
       "      <td>0.0</td>\n",
       "      <td>0.0</td>\n",
       "      <td>0.0</td>\n",
       "      <td>0.0</td>\n",
       "      <td>0.0</td>\n",
       "      <td>0.0</td>\n",
       "      <td>0.0</td>\n",
       "      <td>0.0</td>\n",
       "      <td>0.0</td>\n",
       "      <td>0.0</td>\n",
       "    </tr>\n",
       "    <tr>\n",
       "      <th>2020-01-01 02:00:00</th>\n",
       "      <td>0.0</td>\n",
       "      <td>0.0</td>\n",
       "      <td>0.0</td>\n",
       "      <td>0.0</td>\n",
       "      <td>0.0</td>\n",
       "      <td>0.0</td>\n",
       "      <td>0.0</td>\n",
       "      <td>0.0</td>\n",
       "      <td>0.0</td>\n",
       "      <td>0.0</td>\n",
       "      <td>...</td>\n",
       "      <td>0.0</td>\n",
       "      <td>0.0</td>\n",
       "      <td>0.0</td>\n",
       "      <td>0.0</td>\n",
       "      <td>0.0</td>\n",
       "      <td>0.0</td>\n",
       "      <td>0.0</td>\n",
       "      <td>0.0</td>\n",
       "      <td>0.0</td>\n",
       "      <td>0.0</td>\n",
       "    </tr>\n",
       "    <tr>\n",
       "      <th>2020-01-01 03:00:00</th>\n",
       "      <td>0.0</td>\n",
       "      <td>0.0</td>\n",
       "      <td>0.0</td>\n",
       "      <td>0.0</td>\n",
       "      <td>0.0</td>\n",
       "      <td>0.0</td>\n",
       "      <td>0.0</td>\n",
       "      <td>0.0</td>\n",
       "      <td>0.0</td>\n",
       "      <td>0.0</td>\n",
       "      <td>...</td>\n",
       "      <td>0.0</td>\n",
       "      <td>0.0</td>\n",
       "      <td>0.0</td>\n",
       "      <td>0.0</td>\n",
       "      <td>0.0</td>\n",
       "      <td>0.0</td>\n",
       "      <td>0.0</td>\n",
       "      <td>0.0</td>\n",
       "      <td>0.0</td>\n",
       "      <td>0.0</td>\n",
       "    </tr>\n",
       "    <tr>\n",
       "      <th>2020-01-01 04:00:00</th>\n",
       "      <td>0.0</td>\n",
       "      <td>0.0</td>\n",
       "      <td>0.0</td>\n",
       "      <td>0.0</td>\n",
       "      <td>0.0</td>\n",
       "      <td>0.0</td>\n",
       "      <td>0.0</td>\n",
       "      <td>0.0</td>\n",
       "      <td>0.0</td>\n",
       "      <td>0.0</td>\n",
       "      <td>...</td>\n",
       "      <td>0.0</td>\n",
       "      <td>0.0</td>\n",
       "      <td>0.0</td>\n",
       "      <td>0.0</td>\n",
       "      <td>0.0</td>\n",
       "      <td>0.0</td>\n",
       "      <td>0.0</td>\n",
       "      <td>0.0</td>\n",
       "      <td>0.0</td>\n",
       "      <td>0.0</td>\n",
       "    </tr>\n",
       "    <tr>\n",
       "      <th>...</th>\n",
       "      <td>...</td>\n",
       "      <td>...</td>\n",
       "      <td>...</td>\n",
       "      <td>...</td>\n",
       "      <td>...</td>\n",
       "      <td>...</td>\n",
       "      <td>...</td>\n",
       "      <td>...</td>\n",
       "      <td>...</td>\n",
       "      <td>...</td>\n",
       "      <td>...</td>\n",
       "      <td>...</td>\n",
       "      <td>...</td>\n",
       "      <td>...</td>\n",
       "      <td>...</td>\n",
       "      <td>...</td>\n",
       "      <td>...</td>\n",
       "      <td>...</td>\n",
       "      <td>...</td>\n",
       "      <td>...</td>\n",
       "      <td>...</td>\n",
       "    </tr>\n",
       "    <tr>\n",
       "      <th>2021-04-30 19:00:00</th>\n",
       "      <td>1104.0</td>\n",
       "      <td>0.0</td>\n",
       "      <td>0.0</td>\n",
       "      <td>0.0</td>\n",
       "      <td>0.0</td>\n",
       "      <td>0.0</td>\n",
       "      <td>0.0</td>\n",
       "      <td>0.1</td>\n",
       "      <td>0.0</td>\n",
       "      <td>0.0</td>\n",
       "      <td>...</td>\n",
       "      <td>0.0</td>\n",
       "      <td>0.0</td>\n",
       "      <td>0.0</td>\n",
       "      <td>0.0</td>\n",
       "      <td>0.0</td>\n",
       "      <td>0.0</td>\n",
       "      <td>0.0</td>\n",
       "      <td>0.0</td>\n",
       "      <td>0.0</td>\n",
       "      <td>0.0</td>\n",
       "    </tr>\n",
       "    <tr>\n",
       "      <th>2021-04-30 20:00:00</th>\n",
       "      <td>111.0</td>\n",
       "      <td>0.0</td>\n",
       "      <td>0.0</td>\n",
       "      <td>0.0</td>\n",
       "      <td>0.0</td>\n",
       "      <td>0.0</td>\n",
       "      <td>0.0</td>\n",
       "      <td>0.0</td>\n",
       "      <td>0.0</td>\n",
       "      <td>0.0</td>\n",
       "      <td>...</td>\n",
       "      <td>0.0</td>\n",
       "      <td>0.0</td>\n",
       "      <td>0.0</td>\n",
       "      <td>0.0</td>\n",
       "      <td>0.0</td>\n",
       "      <td>0.0</td>\n",
       "      <td>0.0</td>\n",
       "      <td>0.0</td>\n",
       "      <td>0.0</td>\n",
       "      <td>0.0</td>\n",
       "    </tr>\n",
       "    <tr>\n",
       "      <th>2021-04-30 21:00:00</th>\n",
       "      <td>0.0</td>\n",
       "      <td>0.0</td>\n",
       "      <td>0.0</td>\n",
       "      <td>0.0</td>\n",
       "      <td>0.0</td>\n",
       "      <td>0.0</td>\n",
       "      <td>0.0</td>\n",
       "      <td>0.0</td>\n",
       "      <td>0.0</td>\n",
       "      <td>0.0</td>\n",
       "      <td>...</td>\n",
       "      <td>0.0</td>\n",
       "      <td>0.0</td>\n",
       "      <td>0.0</td>\n",
       "      <td>0.0</td>\n",
       "      <td>0.0</td>\n",
       "      <td>0.0</td>\n",
       "      <td>0.0</td>\n",
       "      <td>0.0</td>\n",
       "      <td>0.0</td>\n",
       "      <td>0.0</td>\n",
       "    </tr>\n",
       "    <tr>\n",
       "      <th>2021-04-30 22:00:00</th>\n",
       "      <td>0.0</td>\n",
       "      <td>0.0</td>\n",
       "      <td>0.0</td>\n",
       "      <td>0.0</td>\n",
       "      <td>0.0</td>\n",
       "      <td>0.0</td>\n",
       "      <td>0.0</td>\n",
       "      <td>0.0</td>\n",
       "      <td>0.0</td>\n",
       "      <td>0.0</td>\n",
       "      <td>...</td>\n",
       "      <td>0.0</td>\n",
       "      <td>0.0</td>\n",
       "      <td>0.0</td>\n",
       "      <td>0.0</td>\n",
       "      <td>0.0</td>\n",
       "      <td>0.0</td>\n",
       "      <td>0.0</td>\n",
       "      <td>0.0</td>\n",
       "      <td>0.0</td>\n",
       "      <td>0.0</td>\n",
       "    </tr>\n",
       "    <tr>\n",
       "      <th>2021-04-30 23:00:00</th>\n",
       "      <td>0.0</td>\n",
       "      <td>0.0</td>\n",
       "      <td>0.0</td>\n",
       "      <td>0.0</td>\n",
       "      <td>0.0</td>\n",
       "      <td>0.0</td>\n",
       "      <td>0.0</td>\n",
       "      <td>0.0</td>\n",
       "      <td>0.0</td>\n",
       "      <td>0.0</td>\n",
       "      <td>...</td>\n",
       "      <td>0.0</td>\n",
       "      <td>0.0</td>\n",
       "      <td>0.0</td>\n",
       "      <td>0.0</td>\n",
       "      <td>0.0</td>\n",
       "      <td>0.0</td>\n",
       "      <td>0.0</td>\n",
       "      <td>0.0</td>\n",
       "      <td>0.0</td>\n",
       "      <td>0.0</td>\n",
       "    </tr>\n",
       "  </tbody>\n",
       "</table>\n",
       "<p>11664 rows × 117 columns</p>\n",
       "</div>"
      ],
      "text/plain": [
       "                     Photovoltaics[MWh]  13674  4177  3660  15000  4336  460  \\\n",
       "Date                                                                           \n",
       "2020-01-01 00:00:00                 0.0    0.0   0.0   0.0    0.0   0.0  0.0   \n",
       "2020-01-01 01:00:00                 0.0    0.0   0.0   0.0    0.0   0.0  0.0   \n",
       "2020-01-01 02:00:00                 0.0    0.0   0.0   0.0    0.0   0.0  0.0   \n",
       "2020-01-01 03:00:00                 0.0    0.0   0.0   0.0    0.0   0.0  0.0   \n",
       "2020-01-01 04:00:00                 0.0    0.0   0.0   0.0    0.0   0.0  0.0   \n",
       "...                                 ...    ...   ...   ...    ...   ...  ...   \n",
       "2021-04-30 19:00:00              1104.0    0.0   0.0   0.0    0.0   0.0  0.0   \n",
       "2021-04-30 20:00:00               111.0    0.0   0.0   0.0    0.0   0.0  0.0   \n",
       "2021-04-30 21:00:00                 0.0    0.0   0.0   0.0    0.0   0.0  0.0   \n",
       "2021-04-30 22:00:00                 0.0    0.0   0.0   0.0    0.0   0.0  0.0   \n",
       "2021-04-30 23:00:00                 0.0    0.0   0.0   0.0    0.0   0.0  0.0   \n",
       "\n",
       "                     5100  5906  3098  ...  183  1605  1684  7351  5792  1757  \\\n",
       "Date                                   ...                                      \n",
       "2020-01-01 00:00:00   0.0   0.0   0.0  ...  0.0   0.0   0.0   0.0   0.0   0.0   \n",
       "2020-01-01 01:00:00   0.0   0.0   0.0  ...  0.0   0.0   0.0   0.0   0.0   0.0   \n",
       "2020-01-01 02:00:00   0.0   0.0   0.0  ...  0.0   0.0   0.0   0.0   0.0   0.0   \n",
       "2020-01-01 03:00:00   0.0   0.0   0.0  ...  0.0   0.0   0.0   0.0   0.0   0.0   \n",
       "2020-01-01 04:00:00   0.0   0.0   0.0  ...  0.0   0.0   0.0   0.0   0.0   0.0   \n",
       "...                   ...   ...   ...  ...  ...   ...   ...   ...   ...   ...   \n",
       "2021-04-30 19:00:00   0.1   0.0   0.0  ...  0.0   0.0   0.0   0.0   0.0   0.0   \n",
       "2021-04-30 20:00:00   0.0   0.0   0.0  ...  0.0   0.0   0.0   0.0   0.0   0.0   \n",
       "2021-04-30 21:00:00   0.0   0.0   0.0  ...  0.0   0.0   0.0   0.0   0.0   0.0   \n",
       "2021-04-30 22:00:00   0.0   0.0   0.0  ...  0.0   0.0   0.0   0.0   0.0   0.0   \n",
       "2021-04-30 23:00:00   0.0   0.0   0.0  ...  0.0   0.0   0.0   0.0   0.0   0.0   \n",
       "\n",
       "                     1503  4104  5142  3946  \n",
       "Date                                         \n",
       "2020-01-01 00:00:00   0.0   0.0   0.0   0.0  \n",
       "2020-01-01 01:00:00   0.0   0.0   0.0   0.0  \n",
       "2020-01-01 02:00:00   0.0   0.0   0.0   0.0  \n",
       "2020-01-01 03:00:00   0.0   0.0   0.0   0.0  \n",
       "2020-01-01 04:00:00   0.0   0.0   0.0   0.0  \n",
       "...                   ...   ...   ...   ...  \n",
       "2021-04-30 19:00:00   0.0   0.0   0.0   0.0  \n",
       "2021-04-30 20:00:00   0.0   0.0   0.0   0.0  \n",
       "2021-04-30 21:00:00   0.0   0.0   0.0   0.0  \n",
       "2021-04-30 22:00:00   0.0   0.0   0.0   0.0  \n",
       "2021-04-30 23:00:00   0.0   0.0   0.0   0.0  \n",
       "\n",
       "[11664 rows x 117 columns]"
      ]
     },
     "execution_count": 23,
     "metadata": {},
     "output_type": "execute_result"
    }
   ],
   "source": [
    "filtered_df"
   ]
  },
  {
   "cell_type": "markdown",
   "id": "tEilY6L9AKm2",
   "metadata": {
    "id": "tEilY6L9AKm2"
   },
   "source": [
    "### Scaling the Data"
   ]
  },
  {
   "cell_type": "code",
   "execution_count": 24,
   "id": "rTdCO6xFDy7-",
   "metadata": {
    "id": "rTdCO6xFDy7-"
   },
   "outputs": [],
   "source": [
    "scaler = MinMaxScaler()\n",
    "scaled = scaler.fit_transform(filtered_df)"
   ]
  },
  {
   "cell_type": "code",
   "execution_count": 174,
   "id": "mWdDICiuGMmi",
   "metadata": {
    "id": "mWdDICiuGMmi"
   },
   "outputs": [],
   "source": [
    "scaler_y = MinMaxScaler()\n",
    "scaled_y = scaler_y.fit_transform(pd.DataFrame(solar_df))"
   ]
  },
  {
   "cell_type": "code",
   "execution_count": null,
   "id": "BbN6pK0zbOWC",
   "metadata": {
    "colab": {
     "base_uri": "https://localhost:8080/"
    },
    "id": "BbN6pK0zbOWC",
    "outputId": "fe4d5843-5586-4352-a7d9-487475558313"
   },
   "outputs": [
    {
     "data": {
      "text/plain": [
       "matrix([[0., 0., 0., ..., 0., 0., 0.],\n",
       "        [0., 0., 0., ..., 0., 0., 0.],\n",
       "        [0., 0., 0., ..., 0., 0., 0.],\n",
       "        ...,\n",
       "        [0., 0., 0., ..., 0., 0., 0.],\n",
       "        [0., 0., 0., ..., 0., 0., 0.],\n",
       "        [0., 0., 0., ..., 0., 0., 0.]])"
      ]
     },
     "execution_count": 41,
     "metadata": {
      "tags": []
     },
     "output_type": "execute_result"
    }
   ],
   "source": [
    "np.asmatrix(scaled)"
   ]
  },
  {
   "cell_type": "markdown",
   "id": "om3E0pjE-H4z",
   "metadata": {
    "id": "om3E0pjE-H4z"
   },
   "source": [
    "## Forming the Sequences for RNN"
   ]
  },
  {
   "cell_type": "code",
   "execution_count": 26,
   "id": "Xhk7BICyJDei",
   "metadata": {
    "id": "Xhk7BICyJDei"
   },
   "outputs": [],
   "source": [
    "prediction_length = 96"
   ]
  },
  {
   "cell_type": "code",
   "execution_count": 189,
   "id": "hXwFrzevBjtt",
   "metadata": {
    "id": "hXwFrzevBjtt"
   },
   "outputs": [],
   "source": [
    "# Trying something new with scalers differently applied to features and target\n",
    "\n",
    "# Train_Data\n",
    "trainX = scaled[:int(len(scaled)*0.8),:]\n",
    "trainy = scaled_y[:int(len(scaled)*0.8),:]\n",
    "# validation Data\n",
    "valX = scaled[int(len(scaled)-2337):len(scaled)-96,:]\n",
    "valy = scaled_y[int(len(scaled)-2337):len(scaled)-96,:]\n",
    "# Test Data\n",
    "X_test = np.expand_dims(scaled[len(scaled)-prediction_length:,:], axis=0)\n",
    "y_test = scaled_y[len(scaled)-prediction_length:,:]"
   ]
  },
  {
   "cell_type": "code",
   "execution_count": 190,
   "id": "QRQHfwCd3Tfb",
   "metadata": {
    "id": "QRQHfwCd3Tfb"
   },
   "outputs": [],
   "source": [
    "trainy = trainy.reshape(-1,1)\n",
    "valy = valy.reshape(-1,1)\n",
    "y_test = y_test.reshape(-1,1)"
   ]
  },
  {
   "cell_type": "code",
   "execution_count": 191,
   "id": "UOtB7RA63iXx",
   "metadata": {
    "colab": {
     "base_uri": "https://localhost:8080/"
    },
    "id": "UOtB7RA63iXx",
    "outputId": "61133cbb-9a03-4f11-c67e-3378c8af65ad"
   },
   "outputs": [
    {
     "data": {
      "text/plain": [
       "(96, 1)"
      ]
     },
     "execution_count": 191,
     "metadata": {},
     "output_type": "execute_result"
    }
   ],
   "source": [
    "y_test.shape"
   ]
  },
  {
   "cell_type": "code",
   "execution_count": 192,
   "id": "0M8MRv-N0ALS",
   "metadata": {
    "id": "0M8MRv-N0ALS"
   },
   "outputs": [],
   "source": [
    "# Implementing timeseries_dataset_from_array\n",
    "sequence_length = 500\n",
    "batch_size=64\n",
    "start_index=None\n",
    "end_index=None"
   ]
  },
  {
   "cell_type": "code",
   "execution_count": 193,
   "id": "NdC7ioxw0AN_",
   "metadata": {
    "id": "NdC7ioxw0AN_"
   },
   "outputs": [],
   "source": [
    "train_array = timeseries_dataset_from_array(trainX, trainy,sequence_stride=10, sampling_rate=1,\n",
    "                                            sequence_length = sequence_length, \n",
    "                                            batch_size = batch_size, \n",
    "                                            shuffle=False)"
   ]
  },
  {
   "cell_type": "code",
   "execution_count": 194,
   "id": "1c-UG_2g4KhY",
   "metadata": {
    "id": "1c-UG_2g4KhY"
   },
   "outputs": [],
   "source": [
    "validation_array = timeseries_dataset_from_array(valX, valy,sequence_stride=10, sampling_rate=1,\n",
    "                                            sequence_length = sequence_length, \n",
    "                                            batch_size = batch_size, \n",
    "                                            shuffle=False)"
   ]
  },
  {
   "cell_type": "code",
   "execution_count": 195,
   "id": "PvDxZIt44Kzp",
   "metadata": {
    "id": "PvDxZIt44Kzp"
   },
   "outputs": [],
   "source": [
    "#test_array = timeseries_dataset_from_array(X_test,y_test, sampling_rate=1,\n",
    "                                            #sequence_length = 335, \n",
    "                                            #batch_size = 1, \n",
    "                                            #shuffle=False)"
   ]
  },
  {
   "cell_type": "code",
   "execution_count": 196,
   "id": "eEsWrKz80ARj",
   "metadata": {
    "colab": {
     "base_uri": "https://localhost:8080/"
    },
    "id": "eEsWrKz80ARj",
    "outputId": "09b6d283-b020-4cc1-b92f-72b2d24aff3f"
   },
   "outputs": [
    {
     "data": {
      "text/plain": [
       "<BatchDataset shapes: ((None, None, 117), (None, 1)), types: (tf.float64, tf.float64)>"
      ]
     },
     "execution_count": 196,
     "metadata": {},
     "output_type": "execute_result"
    }
   ],
   "source": [
    "train_array"
   ]
  },
  {
   "cell_type": "code",
   "execution_count": 197,
   "id": "8OqFyp_F3wgk",
   "metadata": {
    "colab": {
     "base_uri": "https://localhost:8080/"
    },
    "id": "8OqFyp_F3wgk",
    "outputId": "0000c74c-c148-47a2-ba02-a865749437f4"
   },
   "outputs": [
    {
     "name": "stdout",
     "output_type": "stream",
     "text": [
      "Input shape: (64, 500, 117)\n",
      "Target shape: (64, 1)\n"
     ]
    }
   ],
   "source": [
    "for batch in train_array.take(1):\n",
    "    inputs, targets = batch\n",
    "\n",
    "print(\"Input shape:\", inputs.numpy().shape)\n",
    "print(\"Target shape:\", targets.numpy().shape)\n"
   ]
  },
  {
   "cell_type": "code",
   "execution_count": 198,
   "id": "dRwrHt4ONLLU",
   "metadata": {
    "colab": {
     "base_uri": "https://localhost:8080/"
    },
    "id": "dRwrHt4ONLLU",
    "outputId": "2985c1e7-b27b-4304-c8c8-6a957d4825ad"
   },
   "outputs": [
    {
     "data": {
      "text/plain": [
       "117"
      ]
     },
     "execution_count": 198,
     "metadata": {},
     "output_type": "execute_result"
    }
   ],
   "source": [
    "inputs.numpy().shape[2]"
   ]
  },
  {
   "cell_type": "markdown",
   "id": "s-oWFveTxCt5",
   "metadata": {
    "heading_collapsed": true,
    "id": "s-oWFveTxCt5"
   },
   "source": [
    "# Model_1 , LSTM Model"
   ]
  },
  {
   "cell_type": "code",
   "execution_count": null,
   "id": "2Mxe-uM4a0A-",
   "metadata": {
    "hidden": true,
    "id": "2Mxe-uM4a0A-"
   },
   "outputs": [],
   "source": [
    "#Do I need to normalize the Data?\n",
    "\n",
    "# First Model guess\n",
    "# input_dim=1 because we have only wind speed feature\n",
    "# RELU because provides only values above 0, we cannot get - generation data - Try Tanh and Sigmoid too in later tries\n",
    "# **Last Layer** layers.Dense(336) because we have 336 hours in the 2 week prediction. Or do I put 1 because I have 1 X for every output. \n",
    "# \n",
    "# \"linear\" According to LEcture has to be like that for regression\n",
    "# COMPILE LAYER for regression problem: \n",
    "# loss='mse', \n",
    "# optimizer='adam', (to start with) Choose SGD AND RMSProp(good for RNN) for further testing\n",
    "# metrics=['mae', \"mse\"]) (we can use muliple metrics in order to compare)\n",
    "\n",
    "# 2 units because the time aspect of the series does not have much prediction value. Better to emphasize feature data.\n",
    "\n",
    "# Try stacked Layers 1,2,3,4\n",
    "\n",
    "model_1 = Sequential()\n",
    "model_1.add(LSTM(128,input_shape=(sequence_length,inputs.numpy().shape[2]),return_sequences=True ))\n",
    "model_1.add(layers.LeakyReLU(alpha=0.5))\n",
    "#model_1.add(LSTM(128, return_sequences=True))\n",
    "#model_1.add(layers.LeakyReLU(alpha=0.5))\n",
    "#model_1.add(layers.Dropout(0.3))\n",
    "#model_1.add(LSTM(128, return_sequences=True))\n",
    "model_1.add(layers.Dropout(0.3))\n",
    "model_1.add(layers.Dense(1))\n"
   ]
  },
  {
   "cell_type": "code",
   "execution_count": null,
   "id": "QJRsckEdz8fw",
   "metadata": {
    "colab": {
     "base_uri": "https://localhost:8080/"
    },
    "hidden": true,
    "id": "QJRsckEdz8fw",
    "outputId": "af45f5f5-339f-4cbb-d993-757e6fd5db9c"
   },
   "outputs": [
    {
     "name": "stdout",
     "output_type": "stream",
     "text": [
      "Model: \"sequential\"\n",
      "_________________________________________________________________\n",
      "Layer (type)                 Output Shape              Param #   \n",
      "=================================================================\n",
      "lstm (LSTM)                  (None, 500, 128)          125952    \n",
      "_________________________________________________________________\n",
      "leaky_re_lu (LeakyReLU)      (None, 500, 128)          0         \n",
      "_________________________________________________________________\n",
      "dropout (Dropout)            (None, 500, 128)          0         \n",
      "_________________________________________________________________\n",
      "dense (Dense)                (None, 500, 1)            129       \n",
      "=================================================================\n",
      "Total params: 126,081\n",
      "Trainable params: 126,081\n",
      "Non-trainable params: 0\n",
      "_________________________________________________________________\n"
     ]
    }
   ],
   "source": [
    "model_1.summary()"
   ]
  },
  {
   "cell_type": "code",
   "execution_count": null,
   "id": "GvreuGbogFZp",
   "metadata": {
    "colab": {
     "base_uri": "https://localhost:8080/"
    },
    "hidden": true,
    "id": "GvreuGbogFZp",
    "outputId": "22b9250f-ba2b-4954-a8bb-f6f7c7f7d549"
   },
   "outputs": [
    {
     "data": {
      "text/plain": [
       "<BatchDataset shapes: ((None, None, 117), (None, 1)), types: (tf.float64, tf.float64)>"
      ]
     },
     "execution_count": 54,
     "metadata": {
      "tags": []
     },
     "output_type": "execute_result"
    }
   ],
   "source": [
    "train_array"
   ]
  },
  {
   "cell_type": "code",
   "execution_count": null,
   "id": "lni2zMxwbNIS",
   "metadata": {
    "colab": {
     "base_uri": "https://localhost:8080/"
    },
    "hidden": true,
    "id": "lni2zMxwbNIS",
    "outputId": "b6826c18-85a5-4c54-fdd6-9d6eebee8dbf"
   },
   "outputs": [
    {
     "name": "stdout",
     "output_type": "stream",
     "text": [
      "Epoch 1/100\n",
      "7/7 - 28s - loss: 0.0420 - mae: 0.1364 - mse: 0.0420 - val_loss: 0.0936 - val_mae: 0.2399 - val_mse: 0.0936\n",
      "Epoch 2/100\n",
      "7/7 - 7s - loss: 0.0340 - mae: 0.1137 - mse: 0.0340 - val_loss: 0.1268 - val_mae: 0.2707 - val_mse: 0.1268\n",
      "Epoch 3/100\n",
      "7/7 - 7s - loss: 0.0374 - mae: 0.1082 - mse: 0.0374 - val_loss: 0.0413 - val_mae: 0.1633 - val_mse: 0.0413\n",
      "Epoch 4/100\n",
      "7/7 - 7s - loss: 0.0222 - mae: 0.1089 - mse: 0.0222 - val_loss: 0.0476 - val_mae: 0.1823 - val_mse: 0.0476\n",
      "Epoch 5/100\n",
      "7/7 - 7s - loss: 0.0200 - mae: 0.0984 - mse: 0.0200 - val_loss: 0.0424 - val_mae: 0.1432 - val_mse: 0.0424\n",
      "Epoch 6/100\n",
      "7/7 - 7s - loss: 0.0199 - mae: 0.0854 - mse: 0.0199 - val_loss: 0.0438 - val_mae: 0.1405 - val_mse: 0.0438\n",
      "Epoch 7/100\n",
      "7/7 - 7s - loss: 0.0203 - mae: 0.0894 - mse: 0.0203 - val_loss: 0.0400 - val_mae: 0.1511 - val_mse: 0.0400\n",
      "Epoch 8/100\n",
      "7/7 - 7s - loss: 0.0194 - mae: 0.0958 - mse: 0.0194 - val_loss: 0.0397 - val_mae: 0.1549 - val_mse: 0.0397\n",
      "Epoch 9/100\n",
      "7/7 - 7s - loss: 0.0189 - mae: 0.0948 - mse: 0.0189 - val_loss: 0.0402 - val_mae: 0.1492 - val_mse: 0.0402\n",
      "Epoch 10/100\n",
      "7/7 - 8s - loss: 0.0188 - mae: 0.0912 - mse: 0.0188 - val_loss: 0.0407 - val_mae: 0.1469 - val_mse: 0.0407\n",
      "Epoch 11/100\n",
      "7/7 - 7s - loss: 0.0190 - mae: 0.0911 - mse: 0.0190 - val_loss: 0.0401 - val_mae: 0.1495 - val_mse: 0.0401\n",
      "Epoch 12/100\n",
      "7/7 - 7s - loss: 0.0188 - mae: 0.0926 - mse: 0.0188 - val_loss: 0.0398 - val_mae: 0.1512 - val_mse: 0.0398\n",
      "Epoch 13/100\n",
      "7/7 - 7s - loss: 0.0186 - mae: 0.0924 - mse: 0.0186 - val_loss: 0.0400 - val_mae: 0.1498 - val_mse: 0.0400\n",
      "Epoch 14/100\n",
      "7/7 - 7s - loss: 0.0185 - mae: 0.0914 - mse: 0.0185 - val_loss: 0.0400 - val_mae: 0.1495 - val_mse: 0.0400\n",
      "Epoch 15/100\n",
      "7/7 - 7s - loss: 0.0185 - mae: 0.0915 - mse: 0.0185 - val_loss: 0.0398 - val_mae: 0.1506 - val_mse: 0.0398\n",
      "Epoch 16/100\n",
      "7/7 - 7s - loss: 0.0184 - mae: 0.0915 - mse: 0.0184 - val_loss: 0.0398 - val_mae: 0.1507 - val_mse: 0.0398\n",
      "Epoch 17/100\n",
      "7/7 - 7s - loss: 0.0183 - mae: 0.0908 - mse: 0.0183 - val_loss: 0.0398 - val_mae: 0.1506 - val_mse: 0.0398\n",
      "Epoch 18/100\n",
      "7/7 - 7s - loss: 0.0183 - mae: 0.0905 - mse: 0.0183 - val_loss: 0.0397 - val_mae: 0.1512 - val_mse: 0.0397\n",
      "Epoch 19/100\n",
      "7/7 - 7s - loss: 0.0181 - mae: 0.0902 - mse: 0.0181 - val_loss: 0.0397 - val_mae: 0.1511 - val_mse: 0.0397\n",
      "Epoch 20/100\n",
      "7/7 - 7s - loss: 0.0180 - mae: 0.0897 - mse: 0.0180 - val_loss: 0.0397 - val_mae: 0.1508 - val_mse: 0.0397\n",
      "Epoch 21/100\n",
      "7/7 - 7s - loss: 0.0180 - mae: 0.0896 - mse: 0.0180 - val_loss: 0.0397 - val_mae: 0.1510 - val_mse: 0.0397\n",
      "Epoch 22/100\n",
      "7/7 - 7s - loss: 0.0179 - mae: 0.0890 - mse: 0.0179 - val_loss: 0.0400 - val_mae: 0.1496 - val_mse: 0.0400\n",
      "Epoch 23/100\n",
      "7/7 - 7s - loss: 0.0179 - mae: 0.0894 - mse: 0.0179 - val_loss: 0.0399 - val_mae: 0.1498 - val_mse: 0.0399\n",
      "Epoch 24/100\n",
      "7/7 - 7s - loss: 0.0177 - mae: 0.0880 - mse: 0.0177 - val_loss: 0.0404 - val_mae: 0.1478 - val_mse: 0.0404\n",
      "Epoch 25/100\n",
      "7/7 - 7s - loss: 0.0176 - mae: 0.0894 - mse: 0.0176 - val_loss: 0.0410 - val_mae: 0.1462 - val_mse: 0.0410\n",
      "Epoch 26/100\n",
      "7/7 - 7s - loss: 0.0175 - mae: 0.0872 - mse: 0.0175 - val_loss: 0.0409 - val_mae: 0.1471 - val_mse: 0.0409\n",
      "Epoch 27/100\n",
      "7/7 - 7s - loss: 0.0173 - mae: 0.0863 - mse: 0.0173 - val_loss: 0.0440 - val_mae: 0.1395 - val_mse: 0.0440\n",
      "Epoch 28/100\n",
      "7/7 - 7s - loss: 0.0190 - mae: 0.1002 - mse: 0.0190 - val_loss: 0.0404 - val_mae: 0.1470 - val_mse: 0.0404\n",
      "Epoch 29/100\n",
      "7/7 - 7s - loss: 0.0178 - mae: 0.0873 - mse: 0.0178 - val_loss: 0.0411 - val_mae: 0.1455 - val_mse: 0.0411\n",
      "Epoch 30/100\n",
      "7/7 - 7s - loss: 0.0183 - mae: 0.0899 - mse: 0.0183 - val_loss: 0.0394 - val_mae: 0.1562 - val_mse: 0.0394\n",
      "Epoch 31/100\n",
      "7/7 - 7s - loss: 0.0176 - mae: 0.0897 - mse: 0.0176 - val_loss: 0.0407 - val_mae: 0.1469 - val_mse: 0.0407\n",
      "Epoch 32/100\n",
      "7/7 - 7s - loss: 0.0179 - mae: 0.0886 - mse: 0.0179 - val_loss: 0.0394 - val_mae: 0.1535 - val_mse: 0.0394\n",
      "Epoch 33/100\n",
      "7/7 - 7s - loss: 0.0175 - mae: 0.0891 - mse: 0.0175 - val_loss: 0.0402 - val_mae: 0.1487 - val_mse: 0.0402\n",
      "Epoch 34/100\n",
      "7/7 - 7s - loss: 0.0176 - mae: 0.0889 - mse: 0.0176 - val_loss: 0.0396 - val_mae: 0.1523 - val_mse: 0.0396\n",
      "Epoch 35/100\n",
      "7/7 - 7s - loss: 0.0173 - mae: 0.0874 - mse: 0.0173 - val_loss: 0.0411 - val_mae: 0.1455 - val_mse: 0.0411\n",
      "Epoch 36/100\n",
      "7/7 - 7s - loss: 0.0178 - mae: 0.0915 - mse: 0.0178 - val_loss: 0.0394 - val_mae: 0.1533 - val_mse: 0.0394\n",
      "Epoch 37/100\n",
      "7/7 - 7s - loss: 0.0174 - mae: 0.0842 - mse: 0.0174 - val_loss: 0.0459 - val_mae: 0.1372 - val_mse: 0.0459\n",
      "Epoch 38/100\n",
      "7/7 - 7s - loss: 0.0196 - mae: 0.0967 - mse: 0.0196 - val_loss: 0.0389 - val_mae: 0.1619 - val_mse: 0.0389\n",
      "Epoch 39/100\n",
      "7/7 - 7s - loss: 0.0173 - mae: 0.0927 - mse: 0.0173 - val_loss: 0.0471 - val_mae: 0.1371 - val_mse: 0.0471\n",
      "Epoch 40/100\n",
      "7/7 - 7s - loss: 0.0192 - mae: 0.0865 - mse: 0.0192 - val_loss: 0.0400 - val_mae: 0.1487 - val_mse: 0.0400\n",
      "Epoch 41/100\n",
      "7/7 - 7s - loss: 0.0181 - mae: 0.0954 - mse: 0.0181 - val_loss: 0.0389 - val_mae: 0.1558 - val_mse: 0.0389\n",
      "Epoch 42/100\n",
      "7/7 - 7s - loss: 0.0173 - mae: 0.0906 - mse: 0.0173 - val_loss: 0.0417 - val_mae: 0.1439 - val_mse: 0.0417\n",
      "Epoch 43/100\n",
      "7/7 - 7s - loss: 0.0179 - mae: 0.0875 - mse: 0.0179 - val_loss: 0.0393 - val_mae: 0.1540 - val_mse: 0.0393\n",
      "Epoch 44/100\n",
      "7/7 - 7s - loss: 0.0173 - mae: 0.0881 - mse: 0.0173 - val_loss: 0.0406 - val_mae: 0.1465 - val_mse: 0.0406\n",
      "Epoch 45/100\n",
      "7/7 - 7s - loss: 0.0176 - mae: 0.0888 - mse: 0.0176 - val_loss: 0.0392 - val_mae: 0.1543 - val_mse: 0.0392\n",
      "Epoch 46/100\n",
      "7/7 - 7s - loss: 0.0172 - mae: 0.0872 - mse: 0.0172 - val_loss: 0.0434 - val_mae: 0.1398 - val_mse: 0.0434\n",
      "Epoch 47/100\n",
      "7/7 - 7s - loss: 0.0183 - mae: 0.0921 - mse: 0.0183 - val_loss: 0.0388 - val_mae: 0.1578 - val_mse: 0.0388\n",
      "Epoch 48/100\n",
      "7/7 - 7s - loss: 0.0171 - mae: 0.0890 - mse: 0.0171 - val_loss: 0.0456 - val_mae: 0.1371 - val_mse: 0.0456\n",
      "Epoch 49/100\n",
      "7/7 - 7s - loss: 0.0190 - mae: 0.0879 - mse: 0.0190 - val_loss: 0.0396 - val_mae: 0.1504 - val_mse: 0.0396\n",
      "Epoch 50/100\n",
      "7/7 - 7s - loss: 0.0179 - mae: 0.0964 - mse: 0.0179 - val_loss: 0.0393 - val_mae: 0.1514 - val_mse: 0.0393\n",
      "Epoch 51/100\n",
      "7/7 - 7s - loss: 0.0173 - mae: 0.0898 - mse: 0.0173 - val_loss: 0.0416 - val_mae: 0.1442 - val_mse: 0.0416\n",
      "Epoch 52/100\n",
      "7/7 - 7s - loss: 0.0176 - mae: 0.0875 - mse: 0.0176 - val_loss: 0.0391 - val_mae: 0.1549 - val_mse: 0.0391\n",
      "Epoch 53/100\n",
      "7/7 - 7s - loss: 0.0172 - mae: 0.0867 - mse: 0.0172 - val_loss: 0.0422 - val_mae: 0.1423 - val_mse: 0.0422\n",
      "Epoch 54/100\n",
      "7/7 - 7s - loss: 0.0179 - mae: 0.0905 - mse: 0.0179 - val_loss: 0.0389 - val_mae: 0.1562 - val_mse: 0.0389\n",
      "Epoch 55/100\n",
      "7/7 - 7s - loss: 0.0171 - mae: 0.0894 - mse: 0.0171 - val_loss: 0.0449 - val_mae: 0.1378 - val_mse: 0.0449\n",
      "Epoch 56/100\n",
      "7/7 - 7s - loss: 0.0184 - mae: 0.0888 - mse: 0.0184 - val_loss: 0.0388 - val_mae: 0.1551 - val_mse: 0.0388\n",
      "Epoch 57/100\n",
      "7/7 - 7s - loss: 0.0172 - mae: 0.0931 - mse: 0.0172 - val_loss: 0.0412 - val_mae: 0.1440 - val_mse: 0.0412\n",
      "Epoch 58/100\n",
      "7/7 - 7s - loss: 0.0175 - mae: 0.0872 - mse: 0.0175 - val_loss: 0.0395 - val_mae: 0.1512 - val_mse: 0.0395\n",
      "Epoch 59/100\n",
      "7/7 - 7s - loss: 0.0172 - mae: 0.0876 - mse: 0.0172 - val_loss: 0.0410 - val_mae: 0.1450 - val_mse: 0.0410\n",
      "Epoch 60/100\n",
      "7/7 - 7s - loss: 0.0174 - mae: 0.0894 - mse: 0.0174 - val_loss: 0.0392 - val_mae: 0.1531 - val_mse: 0.0392\n",
      "Epoch 61/100\n",
      "7/7 - 7s - loss: 0.0171 - mae: 0.0873 - mse: 0.0171 - val_loss: 0.0447 - val_mae: 0.1379 - val_mse: 0.0447\n",
      "Epoch 62/100\n",
      "7/7 - 7s - loss: 0.0185 - mae: 0.0917 - mse: 0.0185 - val_loss: 0.0387 - val_mae: 0.1574 - val_mse: 0.0387\n",
      "Epoch 63/100\n",
      "7/7 - 7s - loss: 0.0172 - mae: 0.0930 - mse: 0.0172 - val_loss: 0.0438 - val_mae: 0.1390 - val_mse: 0.0438\n",
      "Epoch 64/100\n",
      "7/7 - 7s - loss: 0.0181 - mae: 0.0872 - mse: 0.0181 - val_loss: 0.0391 - val_mae: 0.1524 - val_mse: 0.0391\n",
      "Epoch 65/100\n",
      "7/7 - 7s - loss: 0.0172 - mae: 0.0910 - mse: 0.0172 - val_loss: 0.0401 - val_mae: 0.1477 - val_mse: 0.0401\n",
      "Epoch 66/100\n",
      "7/7 - 7s - loss: 0.0172 - mae: 0.0865 - mse: 0.0172 - val_loss: 0.0398 - val_mae: 0.1497 - val_mse: 0.0398\n",
      "Epoch 67/100\n",
      "7/7 - 7s - loss: 0.0171 - mae: 0.0876 - mse: 0.0171 - val_loss: 0.0410 - val_mae: 0.1448 - val_mse: 0.0410\n",
      "Epoch 68/100\n",
      "7/7 - 7s - loss: 0.0173 - mae: 0.0902 - mse: 0.0173 - val_loss: 0.0394 - val_mae: 0.1519 - val_mse: 0.0394\n",
      "Epoch 69/100\n",
      "7/7 - 7s - loss: 0.0170 - mae: 0.0875 - mse: 0.0170 - val_loss: 0.0449 - val_mae: 0.1377 - val_mse: 0.0449\n",
      "Epoch 70/100\n",
      "7/7 - 7s - loss: 0.0186 - mae: 0.0914 - mse: 0.0186 - val_loss: 0.0386 - val_mae: 0.1578 - val_mse: 0.0386\n",
      "Epoch 71/100\n",
      "7/7 - 7s - loss: 0.0172 - mae: 0.0934 - mse: 0.0172 - val_loss: 0.0436 - val_mae: 0.1394 - val_mse: 0.0436\n",
      "Epoch 72/100\n",
      "7/7 - 7s - loss: 0.0180 - mae: 0.0870 - mse: 0.0180 - val_loss: 0.0392 - val_mae: 0.1523 - val_mse: 0.0392\n",
      "Epoch 73/100\n",
      "7/7 - 7s - loss: 0.0171 - mae: 0.0906 - mse: 0.0171 - val_loss: 0.0400 - val_mae: 0.1483 - val_mse: 0.0400\n",
      "Epoch 74/100\n",
      "7/7 - 7s - loss: 0.0172 - mae: 0.0863 - mse: 0.0172 - val_loss: 0.0399 - val_mae: 0.1495 - val_mse: 0.0399\n",
      "Epoch 75/100\n",
      "7/7 - 7s - loss: 0.0171 - mae: 0.0878 - mse: 0.0171 - val_loss: 0.0411 - val_mae: 0.1445 - val_mse: 0.0411\n",
      "Epoch 76/100\n",
      "7/7 - 7s - loss: 0.0173 - mae: 0.0902 - mse: 0.0173 - val_loss: 0.0394 - val_mae: 0.1521 - val_mse: 0.0394\n",
      "Epoch 77/100\n",
      "7/7 - 7s - loss: 0.0170 - mae: 0.0877 - mse: 0.0170 - val_loss: 0.0452 - val_mae: 0.1373 - val_mse: 0.0452\n",
      "Epoch 78/100\n",
      "7/7 - 7s - loss: 0.0187 - mae: 0.0901 - mse: 0.0187 - val_loss: 0.0389 - val_mae: 0.1540 - val_mse: 0.0389\n",
      "Epoch 79/100\n",
      "7/7 - 7s - loss: 0.0175 - mae: 0.0959 - mse: 0.0175 - val_loss: 0.0405 - val_mae: 0.1466 - val_mse: 0.0405\n",
      "Epoch 80/100\n",
      "7/7 - 7s - loss: 0.0172 - mae: 0.0876 - mse: 0.0172 - val_loss: 0.0405 - val_mae: 0.1473 - val_mse: 0.0405\n",
      "Epoch 81/100\n",
      "7/7 - 7s - loss: 0.0172 - mae: 0.0872 - mse: 0.0172 - val_loss: 0.0393 - val_mae: 0.1529 - val_mse: 0.0393\n",
      "Epoch 82/100\n",
      "7/7 - 7s - loss: 0.0171 - mae: 0.0864 - mse: 0.0171 - val_loss: 0.0425 - val_mae: 0.1413 - val_mse: 0.0425\n",
      "Epoch 83/100\n",
      "7/7 - 7s - loss: 0.0178 - mae: 0.0915 - mse: 0.0178 - val_loss: 0.0388 - val_mae: 0.1559 - val_mse: 0.0388\n",
      "Epoch 84/100\n",
      "7/7 - 7s - loss: 0.0170 - mae: 0.0896 - mse: 0.0170 - val_loss: 0.0459 - val_mae: 0.1367 - val_mse: 0.0459\n",
      "Epoch 85/100\n",
      "7/7 - 7s - loss: 0.0186 - mae: 0.0877 - mse: 0.0186 - val_loss: 0.0391 - val_mae: 0.1525 - val_mse: 0.0391\n",
      "Epoch 86/100\n",
      "7/7 - 7s - loss: 0.0174 - mae: 0.0953 - mse: 0.0174 - val_loss: 0.0396 - val_mae: 0.1497 - val_mse: 0.0396\n",
      "Epoch 87/100\n",
      "7/7 - 7s - loss: 0.0171 - mae: 0.0870 - mse: 0.0171 - val_loss: 0.0412 - val_mae: 0.1450 - val_mse: 0.0412\n",
      "Epoch 88/100\n",
      "7/7 - 7s - loss: 0.0173 - mae: 0.0873 - mse: 0.0173 - val_loss: 0.0391 - val_mae: 0.1555 - val_mse: 0.0391\n",
      "Epoch 89/100\n",
      "7/7 - 7s - loss: 0.0171 - mae: 0.0876 - mse: 0.0171 - val_loss: 0.0444 - val_mae: 0.1383 - val_mse: 0.0444\n",
      "Epoch 90/100\n",
      "7/7 - 7s - loss: 0.0185 - mae: 0.0891 - mse: 0.0185 - val_loss: 0.0394 - val_mae: 0.1505 - val_mse: 0.0394\n",
      "Epoch 91/100\n",
      "7/7 - 7s - loss: 0.0177 - mae: 0.0962 - mse: 0.0177 - val_loss: 0.0396 - val_mae: 0.1495 - val_mse: 0.0396\n",
      "Epoch 92/100\n",
      "7/7 - 7s - loss: 0.0172 - mae: 0.0898 - mse: 0.0172 - val_loss: 0.0412 - val_mae: 0.1452 - val_mse: 0.0412\n",
      "Epoch 93/100\n",
      "7/7 - 7s - loss: 0.0173 - mae: 0.0871 - mse: 0.0173 - val_loss: 0.0392 - val_mae: 0.1542 - val_mse: 0.0392\n",
      "Epoch 94/100\n",
      "7/7 - 7s - loss: 0.0171 - mae: 0.0864 - mse: 0.0171 - val_loss: 0.0417 - val_mae: 0.1432 - val_mse: 0.0417\n",
      "Epoch 95/100\n",
      "7/7 - 7s - loss: 0.0174 - mae: 0.0897 - mse: 0.0174 - val_loss: 0.0389 - val_mae: 0.1553 - val_mse: 0.0389\n",
      "Epoch 96/100\n",
      "7/7 - 7s - loss: 0.0170 - mae: 0.0890 - mse: 0.0170 - val_loss: 0.0452 - val_mae: 0.1373 - val_mse: 0.0452\n",
      "Epoch 97/100\n",
      "7/7 - 7s - loss: 0.0183 - mae: 0.0885 - mse: 0.0183 - val_loss: 0.0387 - val_mae: 0.1551 - val_mse: 0.0387\n",
      "Epoch 98/100\n",
      "7/7 - 7s - loss: 0.0172 - mae: 0.0938 - mse: 0.0172 - val_loss: 0.0410 - val_mae: 0.1447 - val_mse: 0.0410\n",
      "Epoch 99/100\n",
      "7/7 - 7s - loss: 0.0172 - mae: 0.0866 - mse: 0.0172 - val_loss: 0.0397 - val_mae: 0.1504 - val_mse: 0.0397\n",
      "Epoch 100/100\n",
      "7/7 - 7s - loss: 0.0170 - mae: 0.0873 - mse: 0.0170 - val_loss: 0.0404 - val_mae: 0.1468 - val_mse: 0.0404\n"
     ]
    }
   ],
   "source": [
    "es = [EarlyStopping(monitor=\"val_loss\", mode='min', patience = 30, restore_best_weights=True)] \n",
    "\n",
    "model_1.compile(loss='mse', optimizer='adam', metrics=['mae', \"mse\"])\n",
    "\n",
    "history = model_1.fit(train_array,validation_data=validation_array , shuffle = False,  callbacks = es, epochs=100, verbose=2)\n"
   ]
  },
  {
   "cell_type": "code",
   "execution_count": null,
   "id": "gCEexGzSKYXE",
   "metadata": {
    "colab": {
     "base_uri": "https://localhost:8080/",
     "height": 283
    },
    "hidden": true,
    "id": "gCEexGzSKYXE",
    "outputId": "17752eb6-ca70-44bf-b13f-1bcaa53d9a9d"
   },
   "outputs": [
    {
     "data": {
      "text/plain": [
       "[<matplotlib.lines.Line2D at 0x7f0c90298d10>]"
      ]
     },
     "execution_count": 56,
     "metadata": {
      "tags": []
     },
     "output_type": "execute_result"
    },
    {
     "data": {
      "image/png": "[encoded data removed]",
      "text/plain": [
       "<Figure size 432x288 with 1 Axes>"
      ]
     },
     "metadata": {
      "needs_background": "light",
      "tags": []
     },
     "output_type": "display_data"
    }
   ],
   "source": [
    "plt.plot(history.history[\"loss\"])\n",
    "plt.plot(history.history[\"val_loss\"], color=\"red\")"
   ]
  },
  {
   "cell_type": "code",
   "execution_count": null,
   "id": "T1korLQ3Kmdt",
   "metadata": {
    "colab": {
     "base_uri": "https://localhost:8080/"
    },
    "hidden": true,
    "id": "T1korLQ3Kmdt",
    "outputId": "c2a292fd-5f74-4c8b-be67-3cf92a63e300"
   },
   "outputs": [
    {
     "data": {
      "text/plain": [
       "(1, 96, 117)"
      ]
     },
     "execution_count": 57,
     "metadata": {
      "tags": []
     },
     "output_type": "execute_result"
    }
   ],
   "source": [
    "X_test.shape"
   ]
  },
  {
   "cell_type": "code",
   "execution_count": null,
   "id": "-Atg6NNHeHFJ",
   "metadata": {
    "colab": {
     "base_uri": "https://localhost:8080/"
    },
    "hidden": true,
    "id": "-Atg6NNHeHFJ",
    "outputId": "9a939d3e-ee97-4256-e9ab-781c4501867f"
   },
   "outputs": [
    {
     "name": "stdout",
     "output_type": "stream",
     "text": [
      "WARNING:tensorflow:Model was constructed with shape (None, 500, 117) for input KerasTensor(type_spec=TensorSpec(shape=(None, 500, 117), dtype=tf.float32, name='lstm_input'), name='lstm_input', description=\"created by layer 'lstm_input'\"), but it was called on an input with incompatible shape (None, 96, 117).\n"
     ]
    }
   ],
   "source": [
    "result = model_1.predict(X_test)"
   ]
  },
  {
   "cell_type": "code",
   "execution_count": null,
   "id": "YSd2RShN6QHf",
   "metadata": {
    "colab": {
     "base_uri": "https://localhost:8080/"
    },
    "hidden": true,
    "id": "YSd2RShN6QHf",
    "outputId": "6f7b2daf-6e45-4e6c-e3a6-541aa9945d35"
   },
   "outputs": [
    {
     "data": {
      "text/plain": [
       "(1, 96, 1)"
      ]
     },
     "execution_count": 59,
     "metadata": {
      "tags": []
     },
     "output_type": "execute_result"
    }
   ],
   "source": [
    "result.shape"
   ]
  },
  {
   "cell_type": "code",
   "execution_count": null,
   "id": "7wpDQqpI2IQT",
   "metadata": {
    "colab": {
     "base_uri": "https://localhost:8080/",
     "height": 283
    },
    "hidden": true,
    "id": "7wpDQqpI2IQT",
    "outputId": "451245eb-04d9-47a8-be83-a648942f5fa1"
   },
   "outputs": [
    {
     "data": {
      "text/plain": [
       "[<matplotlib.lines.Line2D at 0x7f0c8fc97dd0>]"
      ]
     },
     "execution_count": 60,
     "metadata": {
      "tags": []
     },
     "output_type": "execute_result"
    },
    {
     "data": {
      "image/png": "[encoded data removed]",
      "text/plain": [
       "<Figure size 432x288 with 1 Axes>"
      ]
     },
     "metadata": {
      "needs_background": "light",
      "tags": []
     },
     "output_type": "display_data"
    }
   ],
   "source": [
    "plt.plot(result.flatten())\n",
    "plt.plot(y_test, color=\"red\")"
   ]
  },
  {
   "cell_type": "markdown",
   "id": "zdXAIzgAAdEs",
   "metadata": {
    "heading_collapsed": true,
    "id": "zdXAIzgAAdEs"
   },
   "source": [
    "# Testing the MAPE score"
   ]
  },
  {
   "cell_type": "code",
   "execution_count": 163,
   "id": "sb9RwLeu2psV",
   "metadata": {
    "hidden": true,
    "id": "sb9RwLeu2psV"
   },
   "outputs": [],
   "source": [
    "from sklearn.utils import check_array\n",
    "\n",
    "\n",
    "def mae(y_true, y_pred):\n",
    "    y_true = np.array(y_true)\n",
    "    y_pred = np.array(y_pred)\n",
    "    return np.sum(np.abs(y_true-y_pred))/(len(y_true))\n",
    "\n",
    "def mse(y_true, y_pred):\n",
    "    y_true = np.array(y_true)\n",
    "    y_pred = np.array(y_pred)\n",
    "    return np.mean((y_true-y_pred)**2)\n",
    "\n",
    "def mean_absolute_percentage_error(y_true, y_pred):\n",
    "    y_true, y_pred = np.array(y_true), np.array(y_pred)\n",
    "    return np.mean(np.abs((y_true - y_pred) / y_true)) * 100"
   ]
  },
  {
   "cell_type": "code",
   "execution_count": null,
   "id": "gtLntnkiA5KP",
   "metadata": {
    "colab": {
     "base_uri": "https://localhost:8080/"
    },
    "hidden": true,
    "id": "gtLntnkiA5KP",
    "outputId": "8cf328e0-5cec-4950-e0a0-050cbf394e6d"
   },
   "outputs": [
    {
     "data": {
      "text/plain": [
       "0     0.030950\n",
       "1     0.041132\n",
       "2     0.047307\n",
       "3     0.051007\n",
       "4     0.056474\n",
       "        ...   \n",
       "91    0.159306\n",
       "92    0.160585\n",
       "93    0.162492\n",
       "94    0.164735\n",
       "95    0.166386\n",
       "Name: 0, Length: 96, dtype: float32"
      ]
     },
     "execution_count": 65,
     "metadata": {
      "tags": []
     },
     "output_type": "execute_result"
    }
   ],
   "source": [
    "res = pd.DataFrame(result.flatten())\n",
    "res[0]"
   ]
  },
  {
   "cell_type": "code",
   "execution_count": null,
   "id": "EtS3xYXIOqGx",
   "metadata": {
    "hidden": true,
    "id": "EtS3xYXIOqGx"
   },
   "outputs": [],
   "source": []
  },
  {
   "cell_type": "code",
   "execution_count": null,
   "id": "vo-FeJ1FAiwW",
   "metadata": {
    "colab": {
     "base_uri": "https://localhost:8080/"
    },
    "hidden": true,
    "id": "vo-FeJ1FAiwW",
    "outputId": "44817a59-cd3f-432f-aab4-47430771e953"
   },
   "outputs": [
    {
     "name": "stderr",
     "output_type": "stream",
     "text": [
      "/usr/local/lib/python3.7/dist-packages/ipykernel_launcher.py:13: RuntimeWarning: divide by zero encountered in true_divide\n",
      "  del sys.path[0]\n"
     ]
    },
    {
     "data": {
      "text/plain": [
       "inf"
      ]
     },
     "execution_count": 64,
     "metadata": {
      "tags": []
     },
     "output_type": "execute_result"
    }
   ],
   "source": [
    "\n",
    "mean_absolute_percentage_error(y_test[1:], res[0])"
   ]
  },
  {
   "cell_type": "markdown",
   "id": "aHwB1Ej04QFZ",
   "metadata": {
    "hidden": true,
    "id": "aHwB1Ej04QFZ"
   },
   "source": [
    "### Unscaling and Comparing"
   ]
  },
  {
   "cell_type": "code",
   "execution_count": null,
   "id": "QGVtCeKNesQl",
   "metadata": {
    "hidden": true,
    "id": "QGVtCeKNesQl"
   },
   "outputs": [],
   "source": []
  },
  {
   "cell_type": "code",
   "execution_count": null,
   "id": "Y8GDWH553TeE",
   "metadata": {
    "hidden": true,
    "id": "Y8GDWH553TeE"
   },
   "outputs": [],
   "source": [
    "unscaling_array = scaled_y[:len(scaled_y)-prediction_length]"
   ]
  },
  {
   "cell_type": "code",
   "execution_count": null,
   "id": "LoA_AYfAaQT0",
   "metadata": {
    "hidden": true,
    "id": "LoA_AYfAaQT0"
   },
   "outputs": [],
   "source": [
    "unscaling_array = np.append(unscaling_array,result.flatten().reshape(-1,1), axis=0)"
   ]
  },
  {
   "cell_type": "code",
   "execution_count": null,
   "id": "stihLEMCaQW_",
   "metadata": {
    "hidden": true,
    "id": "stihLEMCaQW_"
   },
   "outputs": [],
   "source": [
    "unscaled_results = scaler_y.inverse_transform(unscaling_array)"
   ]
  },
  {
   "cell_type": "code",
   "execution_count": null,
   "id": "EbPF5r_Af_SH",
   "metadata": {
    "hidden": true,
    "id": "EbPF5r_Af_SH"
   },
   "outputs": [],
   "source": [
    "plt.plot(unscaled_results[len(unscaled_results)-prediction_length:], color=\"red\")\n",
    "plt.plot(np.array(solar_df[len(wind_df)-prediction_length:]))"
   ]
  },
  {
   "cell_type": "code",
   "execution_count": null,
   "id": "fJc68sorf_az",
   "metadata": {
    "hidden": true,
    "id": "fJc68sorf_az"
   },
   "outputs": [],
   "source": [
    "mean_absolute_percentage_error(wind_df[len(wind_df)-prediction_length:],unscaled_results[len(unscaled_results)-prediction_length:] )"
   ]
  },
  {
   "cell_type": "markdown",
   "id": "eIrTUhBrgXq5",
   "metadata": {
    "id": "eIrTUhBrgXq5"
   },
   "source": [
    "# Sarimax Model"
   ]
  },
  {
   "cell_type": "markdown",
   "id": "6c9739c8",
   "metadata": {
    "id": "R4ErPIGxl0oF"
   },
   "source": [
    "## Forming new sequences"
   ]
  },
  {
   "cell_type": "code",
   "execution_count": 232,
   "id": "d88ce357",
   "metadata": {},
   "outputs": [],
   "source": [
    "test_length = 336"
   ]
  },
  {
   "cell_type": "code",
   "execution_count": 233,
   "id": "f118c281",
   "metadata": {},
   "outputs": [],
   "source": [
    "# Train_Data\n",
    "trainX2 = scaled[:int(len(scaled)-test_length),:]\n",
    "trainy2 = scaled_y[:int(len(scaled)-test_length),:]\n",
    "# validation Data\n",
    "testX2 = scaled[int(len(scaled)-test_length):,:]\n",
    "testy2 = scaled_y[int(len(scaled)-test_length):,:]"
   ]
  },
  {
   "cell_type": "code",
   "execution_count": null,
   "id": "584ed5de",
   "metadata": {},
   "outputs": [],
   "source": []
  },
  {
   "cell_type": "code",
   "execution_count": null,
   "id": "40526a94",
   "metadata": {},
   "outputs": [],
   "source": []
  },
  {
   "cell_type": "markdown",
   "id": "902673fa",
   "metadata": {
    "id": "dJKqaWRil0ti"
   },
   "source": [
    "## Training and predicting with the Model"
   ]
  },
  {
   "cell_type": "code",
   "execution_count": 234,
   "id": "EUMoOoBYgXXI",
   "metadata": {
    "colab": {
     "base_uri": "https://localhost:8080/",
     "height": 393
    },
    "id": "EUMoOoBYgXXI",
    "outputId": "44d26ad0-8359-43a2-9904-7643ec74414a"
   },
   "outputs": [],
   "source": [
    "# Findng the Hyp\n",
    "#import pmdarima as pm\n",
    "\n",
    "#smodel = pm.auto_arima(trainy, m=12, X=trainX,\n",
    "                       #start_p=0, max_p=2,\n",
    "                       #start_q=0, max_q=5,\n",
    "                       #max_P=2, max_D=1,max_Q=2,\n",
    "                       #seasonal=True,\n",
    "                       #trace=True)"
   ]
  },
  {
   "cell_type": "code",
   "execution_count": 235,
   "id": "6682f3cf",
   "metadata": {},
   "outputs": [],
   "source": [
    "# Order Parameters of best model with exog wind speed and hourly data, non logarithmic data\n",
    "bm_order = (0,1,0)\n",
    "# could choose also 24  because sun always has a daily cycle\n",
    "bm_seasonal_order = (0,0,0,24)"
   ]
  },
  {
   "cell_type": "code",
   "execution_count": 236,
   "id": "QKCulqlHl4OD",
   "metadata": {
    "id": "QKCulqlHl4OD",
    "scrolled": true
   },
   "outputs": [
    {
     "name": "stderr",
     "output_type": "stream",
     "text": [
      "/home/hauke/.pyenv/versions/3.8.6/envs/predict_energy_generation/lib/python3.8/site-packages/statsmodels/base/model.py:566: ConvergenceWarning: Maximum Likelihood optimization failed to converge. Check mle_retvals\n",
      "  warnings.warn(\"Maximum Likelihood optimization failed to \"\n"
     ]
    }
   ],
   "source": [
    "# The model\n",
    "sarimax = SARIMAX(endog=trainy2, exog=trainX2, order=bm_order, seasonal_order=bm_seasonal_order ).fit()"
   ]
  },
  {
   "cell_type": "code",
   "execution_count": 237,
   "id": "XOebZtYkl4Qk",
   "metadata": {
    "id": "XOebZtYkl4Qk"
   },
   "outputs": [],
   "source": [
    "#Forecasting\n",
    "y_pred = sarimax.forecast(testy2.shape[0], exog=testX2, alpha=0.05)"
   ]
  },
  {
   "cell_type": "markdown",
   "id": "71955dbc",
   "metadata": {},
   "source": [
    "## Unscaling results"
   ]
  },
  {
   "cell_type": "code",
   "execution_count": 238,
   "id": "91fbe664",
   "metadata": {},
   "outputs": [],
   "source": [
    "unscaling_array_2 = scaled_y[:len(scaled_y)-y_pred.shape[0]]"
   ]
  },
  {
   "cell_type": "code",
   "execution_count": 239,
   "id": "29e46139",
   "metadata": {},
   "outputs": [],
   "source": [
    "unscaling_array_tog = np.append(unscaling_array_2,y_pred.flatten().reshape(-1,1), axis=0)"
   ]
  },
  {
   "cell_type": "code",
   "execution_count": 240,
   "id": "328c96e8",
   "metadata": {},
   "outputs": [],
   "source": [
    "unscaled_results = scaler_y.inverse_transform(unscaling_array_tog)"
   ]
  },
  {
   "cell_type": "markdown",
   "id": "bf2757fb",
   "metadata": {},
   "source": [
    "## MSE & PLot of results"
   ]
  },
  {
   "cell_type": "code",
   "execution_count": 241,
   "id": "L4JmWRwRl4TY",
   "metadata": {
    "id": "L4JmWRwRl4TY"
   },
   "outputs": [],
   "source": [
    "def plot_forecast(fc, train, test, upper=None, lower=None):\n",
    "    is_confidence_int = isinstance(upper, np.ndarray) and isinstance(lower, np.ndarray)\n",
    "    # Prepare plot series\n",
    "    fc_series = pd.Series(fc, index=test.index)\n",
    "    lower_series = pd.Series(upper, index=test.index) if is_confidence_int else None\n",
    "    upper_series = pd.Series(lower, index=test.index) if is_confidence_int else None\n",
    "\n",
    "    # Plot\n",
    "    plt.figure(figsize=(20,8), dpi=100)\n",
    "    plt.plot(train, label='training', color='black')\n",
    "    plt.plot(test, label='actual', color='black', ls='--')\n",
    "    plt.plot(fc_series, label='forecast', color='orange')\n",
    "    if is_confidence_int:\n",
    "        plt.fill_between(lower_series.index, lower_series, upper_series, color='k', alpha=.15)\n",
    "    plt.title('Forecast vs Actuals')\n",
    "    plt.legend(loc='upper left', fontsize=8);"
   ]
  },
  {
   "cell_type": "code",
   "execution_count": 242,
   "id": "6f55f584",
   "metadata": {
    "scrolled": true
   },
   "outputs": [
    {
     "data": {
      "text/plain": [
       "((9331, 1), (2241, 1), (336,))"
      ]
     },
     "execution_count": 242,
     "metadata": {},
     "output_type": "execute_result"
    }
   ],
   "source": [
    "trainy.shape, valy.shape,y_pred.shape"
   ]
  },
  {
   "cell_type": "code",
   "execution_count": 243,
   "id": "7db50f8b",
   "metadata": {},
   "outputs": [
    {
     "data": {
      "image/png": "[encoded data removed]",
      "text/plain": [
       "<Figure size 2000x800 with 1 Axes>"
      ]
     },
     "metadata": {
      "needs_background": "light"
     },
     "output_type": "display_data"
    }
   ],
   "source": [
    "plot_forecast(unscaled_results[len(unscaled_results)-test_length:].flatten()\n",
    "    , solar_df[len(solar_df)-(test_length*4):len(solar_df)-test_length], solar_df[len(solar_df)-test_length:])"
   ]
  },
  {
   "cell_type": "code",
   "execution_count": 244,
   "id": "26eed9fd",
   "metadata": {},
   "outputs": [
    {
     "data": {
      "text/plain": [
       "[<matplotlib.lines.Line2D at 0x7f2cf86812b0>]"
      ]
     },
     "execution_count": 244,
     "metadata": {},
     "output_type": "execute_result"
    },
    {
     "data": {
      "image/png": "[encoded data removed]",
      "text/plain": [
       "<Figure size 432x288 with 1 Axes>"
      ]
     },
     "metadata": {
      "needs_background": "light"
     },
     "output_type": "display_data"
    }
   ],
   "source": [
    "# plotting the residuals\n",
    "\n",
    "plt.plot(solar_df[len(solar_df)-test_length:] - unscaled_results[len(unscaled_results)-test_length:].flatten())"
   ]
  },
  {
   "cell_type": "code",
   "execution_count": 245,
   "id": "a2228c4d",
   "metadata": {},
   "outputs": [
    {
     "data": {
      "text/plain": [
       "4.2182082850024436e-11"
      ]
     },
     "execution_count": 245,
     "metadata": {},
     "output_type": "execute_result"
    }
   ],
   "source": [
    "# THE MAE\n",
    "mae(solar_df[len(solar_df)-test_length:], unscaled_results[len(unscaled_results)-test_length:].flatten())"
   ]
  },
  {
   "cell_type": "code",
   "execution_count": 246,
   "id": "f0fc9a7b",
   "metadata": {},
   "outputs": [
    {
     "data": {
      "text/plain": [
       "4977.531721536351"
      ]
     },
     "execution_count": 246,
     "metadata": {},
     "output_type": "execute_result"
    }
   ],
   "source": [
    "solar_df.mean()"
   ]
  },
  {
   "cell_type": "code",
   "execution_count": null,
   "id": "092552ac",
   "metadata": {},
   "outputs": [],
   "source": []
  }
 ],
 "metadata": {
  "colab": {
   "collapsed_sections": [
    "s-oWFveTxCt5",
    "zdXAIzgAAdEs"
   ],
   "name": "hauke_fock_Model_17_solar_prediction.ipynb",
   "provenance": [],
   "toc_visible": true
  },
  "kernelspec": {
   "display_name": "Python 3",
   "language": "python",
   "name": "python3"
  },
  "language_info": {
   "codemirror_mode": {
    "name": "ipython",
    "version": 3
   },
   "file_extension": ".py",
   "mimetype": "text/x-python",
   "name": "python",
   "nbconvert_exporter": "python",
   "pygments_lexer": "ipython3",
   "version": "3.8.6"
  },
  "toc": {
   "base_numbering": 1,
   "nav_menu": {},
   "number_sections": true,
   "sideBar": true,
   "skip_h1_title": false,
   "title_cell": "Table of Contents",
   "title_sidebar": "Contents",
   "toc_cell": false,
   "toc_position": {},
   "toc_section_display": true,
   "toc_window_display": false
  }
 },
 "nbformat": 4,
 "nbformat_minor": 5
}
