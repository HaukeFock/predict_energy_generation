{
  "nbformat": 4,
  "nbformat_minor": 0,
  "metadata": {
    "colab": {
      "name": "rodrigo_RNN.ipynb",
      "provenance": [],
      "collapsed_sections": []
    },
    "kernelspec": {
      "name": "python3",
      "display_name": "Python 3"
    },
    "language_info": {
      "name": "python"
    },
    "accelerator": "GPU"
  },
  "cells": [
    {
      "cell_type": "code",
      "metadata": {
        "id": "KaxmcSfTlc4I"
      },
      "source": [
        "import pandas as pd\n",
        "import numpy as np\n",
        "import datetime as dt\n",
        "import matplotlib.pyplot as plt\n",
        "import seaborn as sns\n",
        "\n",
        "from keras.models import Sequential\n",
        "from keras import layers\n",
        "from keras.layers import Conv2D, MaxPooling2D, Flatten, Dense, TimeDistributed, RepeatVector\n",
        "from keras.layers import SimpleRNN, LSTM, GRU\n",
        "from tensorflow.keras.preprocessing import timeseries_dataset_from_array\n",
        "from sklearn.preprocessing import MinMaxScaler\n",
        "from keras.preprocessing.sequence import TimeseriesGenerator\n",
        "from keras.callbacks import EarlyStopping"
      ],
      "execution_count": 2,
      "outputs": []
    },
    {
      "cell_type": "code",
      "metadata": {
        "id": "Mjrmcz9clhhP"
      },
      "source": [
        "local_path_target = '/content/drive/MyDrive/Pessoal/LeWagon/predict_energy_generation/raw_data/hourly/energy_generation_data/df_deutschland.csv'\n",
        "\n",
        "local_path_feature = \"/content/drive/MyDrive/Pessoal/LeWagon/predict_energy_generation/raw_data/hourly/features/wind_hourly_clean.csv\"\n",
        "\n",
        "data_target = pd.read_csv(local_path_target)\n",
        "data_target['Date'] = pd.to_datetime(data_target.Date)\n",
        "data_target = data_target.groupby(by=data_target['Date']).sum()\n",
        "wind_df = data_target[['Wind offshore[MWh]','Wind onshore[MWh]']].sum(axis=1)\n",
        "\n",
        "data_feature = pd.read_csv(local_path_feature, index_col=0)\n",
        "data_feature.index = pd.to_datetime(data_feature.index)\n",
        "data_feature = pd.DataFrame(data_feature.mean(axis=1), columns=['wind_speed'])"
      ],
      "execution_count": 3,
      "outputs": []
    },
    {
      "cell_type": "code",
      "metadata": {
        "id": "3b_ucw05nuwr"
      },
      "source": [
        "complete_df = pd.concat([data_feature.iloc[:52608], wind_df.iloc[:-24]], axis= 1)\n",
        "complete_df.rename(columns={0:'energy_production'}, inplace=True)\n",
        "complete_df = complete_df[['energy_production', 'wind_speed']]"
      ],
      "execution_count": 4,
      "outputs": []
    },
    {
      "cell_type": "code",
      "metadata": {
        "id": "3cAnlh09o2lY"
      },
      "source": [
        "scaler = MinMaxScaler()\n",
        "scaled_df = scaler.fit_transform(complete_df)\n",
        "\n",
        "scaled_df = pd.DataFrame(scaled_df, columns=complete_df.columns)"
      ],
      "execution_count": 5,
      "outputs": []
    },
    {
      "cell_type": "code",
      "metadata": {
        "id": "i02ZeFyTsrgC"
      },
      "source": [
        "def train_val_generators(mtx, data_size=0.5, val_size=0.18968, test_days=14, batch_days=14):\n",
        "  init_idx = int(len(mtx) * (1 - data_size))\n",
        "  val_idx = init_idx + int(((len(mtx) - init_idx) - (test_days * 24)) * (1 - val_size))\n",
        "  #print(init_idx, val_idx)\n",
        "\n",
        "  # Train_Data\n",
        "  trainX = mtx[init_idx:val_idx,1:]\n",
        "  trainy = mtx[init_idx:val_idx,0]\n",
        "  # validation Data\n",
        "  valX = mtx[val_idx:-test_days*24,1:]\n",
        "  valy = mtx[val_idx:-test_days*24,0]\n",
        "  # Test Data\n",
        "  X_test = np.expand_dims(mtx[-test_days*24:,1:], axis=0)\n",
        "  y_test = mtx[-test_days*24:,0]\n",
        "\n",
        "  print(f'trainX.shape = {trainX.shape} , trainy.shape = {trainy.shape}')\n",
        "  print(f'  valX.shape = {valX.shape}   ,   valy.shape = {valy.shape}')\n",
        "  print(f'X_test.shape = {X_test.shape} , y_test.shape = {y_test.shape}')\n",
        "\n",
        "  timesteps = batch_days * 24\n",
        "  batch_size = 64\n",
        "\n",
        "  train_generator = timeseries_dataset_from_array(trainX, trainy, sequence_length=timesteps, sampling_rate=1, batch_size=batch_size)\n",
        "  validation_generator = timeseries_dataset_from_array(valX, valy, sequence_length=timesteps, sampling_rate=1, batch_size=batch_size)\n",
        "\n",
        "  return train_generator, validation_generator, X_test, y_test"
      ],
      "execution_count": 6,
      "outputs": []
    },
    {
      "cell_type": "code",
      "metadata": {
        "colab": {
          "base_uri": "https://localhost:8080/"
        },
        "id": "6om7vh7Z2q0t",
        "outputId": "fb8a632e-8c02-4343-c0cb-38b7351ddb11"
      },
      "source": [
        "train_generator, validation_generator, X_test, y_test = train_val_generators(scaled_df.to_numpy(), data_size=0.1, \n",
        "                                                                             val_size=0.2, test_days=7, batch_days=7)"
      ],
      "execution_count": 7,
      "outputs": [
        {
          "output_type": "stream",
          "text": [
            "trainX.shape = (4074, 1) , trainy.shape = (4074,)\n",
            "  valX.shape = (1019, 1)   ,   valy.shape = (1019,)\n",
            "X_test.shape = (1, 168, 1) , y_test.shape = (168,)\n"
          ],
          "name": "stdout"
        }
      ]
    },
    {
      "cell_type": "markdown",
      "metadata": {
        "id": "rm921FdW2OVj"
      },
      "source": [
        "# Baseline model"
      ]
    },
    {
      "cell_type": "code",
      "metadata": {
        "id": "DrN1U78JpxI2"
      },
      "source": [
        "def get_base_model():\n",
        "  model = Sequential()\n",
        "  model.add(LSTM(units=128, input_shape=(timesteps,1), return_sequences=True, activation='tanh'))\n",
        "  #model.add(layers.LeakyReLU(alpha=0.5))\n",
        "  #model.add(LSTM(128, return_sequences=True))\n",
        "  #model.add(layers.Dropout(0.3))\n",
        "  #model.add(layers.Dense(1))\n",
        "  return model\n",
        "\n",
        "base_model = get_base_model()"
      ],
      "execution_count": null,
      "outputs": []
    },
    {
      "cell_type": "code",
      "metadata": {
        "id": "g5V9Ap6crdXh"
      },
      "source": [
        "base_model.compile(loss='mse', optimizer='rmsprop', metrics=['mae', \"mse\"])"
      ],
      "execution_count": null,
      "outputs": []
    },
    {
      "cell_type": "markdown",
      "metadata": {
        "id": "y-1RSN6a2Svj"
      },
      "source": [
        "# Complex model"
      ]
    },
    {
      "cell_type": "code",
      "metadata": {
        "id": "jaA4YFaQFcYJ"
      },
      "source": [
        ""
      ],
      "execution_count": null,
      "outputs": []
    },
    {
      "cell_type": "code",
      "metadata": {
        "id": "73Bu3WaA2gEL"
      },
      "source": [
        "timesteps = 14 * 24\n",
        "\n",
        "def get_model():\n",
        "  model = Sequential()\n",
        "  model.add(LSTM(128,input_shape=(timesteps,1),return_sequences=True ))\n",
        "  model.add(layers.LeakyReLU(alpha=0.5))\n",
        "  model.add(LSTM(128, return_sequences=True))\n",
        "  #model.add(layers.LeakyReLU(alpha=0.5))\n",
        "  #model.add(layers.Dropout(0.3))\n",
        "  #model.add(LSTM(128, return_sequences=False))\n",
        "  model.add(layers.Dropout(0.3))\n",
        "  model.add(layers.Dense(1))\n",
        "  return model\n",
        "\n",
        "model_1 = get_model()"
      ],
      "execution_count": 8,
      "outputs": []
    },
    {
      "cell_type": "code",
      "metadata": {
        "colab": {
          "base_uri": "https://localhost:8080/"
        },
        "id": "7zZpJWD92iez",
        "outputId": "42eee902-4bee-45f0-d023-50ed2f7f61b0"
      },
      "source": [
        "model_1.summary()"
      ],
      "execution_count": 9,
      "outputs": [
        {
          "output_type": "stream",
          "text": [
            "Model: \"sequential\"\n",
            "_________________________________________________________________\n",
            "Layer (type)                 Output Shape              Param #   \n",
            "=================================================================\n",
            "lstm (LSTM)                  (None, 336, 128)          66560     \n",
            "_________________________________________________________________\n",
            "leaky_re_lu (LeakyReLU)      (None, 336, 128)          0         \n",
            "_________________________________________________________________\n",
            "lstm_1 (LSTM)                (None, 336, 128)          131584    \n",
            "_________________________________________________________________\n",
            "dropout (Dropout)            (None, 336, 128)          0         \n",
            "_________________________________________________________________\n",
            "dense (Dense)                (None, 336, 1)            129       \n",
            "=================================================================\n",
            "Total params: 198,273\n",
            "Trainable params: 198,273\n",
            "Non-trainable params: 0\n",
            "_________________________________________________________________\n"
          ],
          "name": "stdout"
        }
      ]
    },
    {
      "cell_type": "code",
      "metadata": {
        "colab": {
          "base_uri": "https://localhost:8080/"
        },
        "id": "fwiIhaca4mir",
        "outputId": "0ef8c48f-afb8-4443-9e9c-944981e337b7"
      },
      "source": [
        "es = [EarlyStopping(monitor=\"val_loss\", mode='min', patience = 11, restore_best_weights=True)] \n",
        "model_1.compile(loss='mse', optimizer='adam', metrics=['mae', \"mse\"])\n",
        "\n",
        "history = model_1.fit(train_generator, validation_data=validation_generator, shuffle = False,  callbacks = es, epochs=100, verbose=2)"
      ],
      "execution_count": 10,
      "outputs": [
        {
          "output_type": "stream",
          "text": [
            "Epoch 1/100\n",
            "62/62 - 25s - loss: 0.0120 - mae: 0.0838 - mse: 0.0120 - val_loss: 0.0339 - val_mae: 0.1567 - val_mse: 0.0339\n",
            "Epoch 2/100\n",
            "62/62 - 2s - loss: 0.0131 - mae: 0.0861 - mse: 0.0131 - val_loss: 0.0289 - val_mae: 0.1439 - val_mse: 0.0289\n",
            "Epoch 3/100\n",
            "62/62 - 2s - loss: 0.0119 - mae: 0.0830 - mse: 0.0119 - val_loss: 0.0239 - val_mae: 0.1307 - val_mse: 0.0239\n",
            "Epoch 4/100\n",
            "62/62 - 2s - loss: 0.0117 - mae: 0.0826 - mse: 0.0117 - val_loss: 0.0233 - val_mae: 0.1294 - val_mse: 0.0233\n",
            "Epoch 5/100\n",
            "62/62 - 2s - loss: 0.0119 - mae: 0.0834 - mse: 0.0119 - val_loss: 0.0330 - val_mae: 0.1558 - val_mse: 0.0330\n",
            "Epoch 6/100\n",
            "62/62 - 2s - loss: 0.0135 - mae: 0.0893 - mse: 0.0135 - val_loss: 0.0166 - val_mae: 0.1102 - val_mse: 0.0166\n",
            "Epoch 7/100\n",
            "62/62 - 2s - loss: 0.0140 - mae: 0.0937 - mse: 0.0140 - val_loss: 0.0141 - val_mae: 0.1001 - val_mse: 0.0141\n",
            "Epoch 8/100\n",
            "62/62 - 2s - loss: 0.0138 - mae: 0.0941 - mse: 0.0138 - val_loss: 0.0147 - val_mae: 0.1001 - val_mse: 0.0147\n",
            "Epoch 9/100\n",
            "62/62 - 2s - loss: 0.0135 - mae: 0.0934 - mse: 0.0135 - val_loss: 0.0147 - val_mae: 0.1001 - val_mse: 0.0147\n",
            "Epoch 10/100\n",
            "62/62 - 2s - loss: 0.0133 - mae: 0.0926 - mse: 0.0133 - val_loss: 0.0144 - val_mae: 0.0999 - val_mse: 0.0144\n",
            "Epoch 11/100\n",
            "62/62 - 2s - loss: 0.0134 - mae: 0.0933 - mse: 0.0134 - val_loss: 0.0145 - val_mae: 0.1000 - val_mse: 0.0145\n",
            "Epoch 12/100\n",
            "62/62 - 2s - loss: 0.0134 - mae: 0.0933 - mse: 0.0134 - val_loss: 0.0145 - val_mae: 0.0999 - val_mse: 0.0145\n",
            "Epoch 13/100\n",
            "62/62 - 2s - loss: 0.0134 - mae: 0.0931 - mse: 0.0134 - val_loss: 0.0147 - val_mae: 0.1001 - val_mse: 0.0147\n",
            "Epoch 14/100\n",
            "62/62 - 2s - loss: 0.0133 - mae: 0.0928 - mse: 0.0133 - val_loss: 0.0145 - val_mae: 0.0998 - val_mse: 0.0145\n",
            "Epoch 15/100\n",
            "62/62 - 2s - loss: 0.0133 - mae: 0.0927 - mse: 0.0133 - val_loss: 0.0146 - val_mae: 0.0999 - val_mse: 0.0146\n",
            "Epoch 16/100\n",
            "62/62 - 2s - loss: 0.0132 - mae: 0.0928 - mse: 0.0132 - val_loss: 0.0145 - val_mae: 0.0998 - val_mse: 0.0145\n",
            "Epoch 17/100\n",
            "62/62 - 2s - loss: 0.0132 - mae: 0.0926 - mse: 0.0132 - val_loss: 0.0146 - val_mae: 0.1000 - val_mse: 0.0146\n",
            "Epoch 18/100\n",
            "62/62 - 2s - loss: 0.0132 - mae: 0.0925 - mse: 0.0132 - val_loss: 0.0145 - val_mae: 0.0998 - val_mse: 0.0145\n"
          ],
          "name": "stdout"
        }
      ]
    },
    {
      "cell_type": "code",
      "metadata": {
        "colab": {
          "base_uri": "https://localhost:8080/",
          "height": 286
        },
        "id": "NycPF6hB4wUm",
        "outputId": "f8d0f034-5528-4de1-f684-dfe8c001171b"
      },
      "source": [
        "plt.plot(history.history[\"loss\"])\n",
        "plt.plot(history.history[\"val_loss\"], color=\"red\")"
      ],
      "execution_count": 11,
      "outputs": [
        {
          "output_type": "execute_result",
          "data": {
            "text/plain": [
              "[<matplotlib.lines.Line2D at 0x7fb8925f8950>]"
            ]
          },
          "metadata": {
            "tags": []
          },
          "execution_count": 11
        },
        {
          "output_type": "display_data",
          "data": {
            "image/png": "[encoded data removed]",
            "text/plain": [
              "<Figure size 432x288 with 1 Axes>"
            ]
          },
          "metadata": {
            "tags": [],
            "needs_background": "light"
          }
        }
      ]
    },
    {
      "cell_type": "code",
      "metadata": {
        "colab": {
          "base_uri": "https://localhost:8080/",
          "height": 319
        },
        "id": "0TJaFTgNAdyi",
        "outputId": "e3bceb21-6e67-414c-946e-97b62e9b85a1"
      },
      "source": [
        "result = model_1.predict(X_test)\n",
        "plt.plot(result.flatten())\n",
        "plt.plot(y_test, color=\"red\")"
      ],
      "execution_count": 12,
      "outputs": [
        {
          "output_type": "stream",
          "text": [
            "WARNING:tensorflow:Model was constructed with shape (None, 336, 1) for input KerasTensor(type_spec=TensorSpec(shape=(None, 336, 1), dtype=tf.float32, name='lstm_input'), name='lstm_input', description=\"created by layer 'lstm_input'\"), but it was called on an input with incompatible shape (None, 168, 1).\n"
          ],
          "name": "stdout"
        },
        {
          "output_type": "execute_result",
          "data": {
            "text/plain": [
              "[<matplotlib.lines.Line2D at 0x7fb894718050>]"
            ]
          },
          "metadata": {
            "tags": []
          },
          "execution_count": 12
        },
        {
          "output_type": "display_data",
          "data": {
            "image/png": "[encoded data removed]",
            "text/plain": [
              "<Figure size 432x288 with 1 Axes>"
            ]
          },
          "metadata": {
            "tags": [],
            "needs_background": "light"
          }
        }
      ]
    },
    {
      "cell_type": "code",
      "metadata": {
        "id": "alpnc_1iAiyk"
      },
      "source": [
        "def mae(y_true, y_pred):\n",
        "    y_true = np.array(y_true)\n",
        "    y_pred = np.array(y_pred)\n",
        "    return np.sum(np.abs(y_true-y_pred))/(len(y_true))\n",
        "\n",
        "def mse(y_true, y_pred):\n",
        "    y_true = np.array(y_true)\n",
        "    y_pred = np.array(y_pred)\n",
        "    return np.mean((y_true-y_pred)**2)\n",
        "\n",
        "def mean_absolute_percentage_error(y_true, y_pred):\n",
        "    y_true, y_pred = np.array(y_true), np.array(y_pred)\n",
        "    return np.mean(np.abs((y_true - y_pred) / y_true)) * 100"
      ],
      "execution_count": 13,
      "outputs": []
    },
    {
      "cell_type": "code",
      "metadata": {
        "colab": {
          "base_uri": "https://localhost:8080/"
        },
        "id": "0IPxLrINAmxC",
        "outputId": "49866dd9-2f53-4519-f7c1-4627b902346c"
      },
      "source": [
        "mean_absolute_percentage_error(y_test, result.flatten())"
      ],
      "execution_count": 22,
      "outputs": [
        {
          "output_type": "execute_result",
          "data": {
            "text/plain": [
              "41.71917893056979"
            ]
          },
          "metadata": {
            "tags": []
          },
          "execution_count": 22
        }
      ]
    },
    {
      "cell_type": "code",
      "metadata": {
        "id": "K3b6rK5fGpvk"
      },
      "source": [
        ""
      ],
      "execution_count": null,
      "outputs": []
    }
  ]
}