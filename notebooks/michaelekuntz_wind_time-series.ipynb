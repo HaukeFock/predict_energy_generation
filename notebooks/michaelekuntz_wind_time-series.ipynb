{
 "cells": [
  {
   "cell_type": "code",
   "execution_count": 1,
   "id": "0c5e2a53",
   "metadata": {},
   "outputs": [],
   "source": [
    "import pandas as pd\n",
    "import numpy as np\n",
    "import datetime as dt\n",
    "import matplotlib.pyplot as plt\n",
    "import os\n",
    "from statsmodels.tsa.stattools import adfuller\n",
    "from statsmodels.graphics.tsaplots import plot_pacf, plot_acf\n",
    "from statsmodels.tsa.seasonal import seasonal_decompose\n",
    "from statsmodels.tsa.statespace.sarimax import SARIMAX"
   ]
  },
  {
   "cell_type": "markdown",
   "id": "9326e2ca",
   "metadata": {},
   "source": [
    "# Importing data"
   ]
  },
  {
   "cell_type": "code",
   "execution_count": 20,
   "id": "a8517c5c",
   "metadata": {},
   "outputs": [
    {
     "data": {
      "text/plain": [
       "'/Users/michael.kuntz/code/HaukeFock/predict_energy_generation/notebooks'"
      ]
     },
     "execution_count": 20,
     "metadata": {},
     "output_type": "execute_result"
    }
   ],
   "source": [
    "os.getcwd()"
   ]
  },
  {
   "cell_type": "code",
   "execution_count": 21,
   "id": "5c25183a",
   "metadata": {},
   "outputs": [],
   "source": [
    "local_path = '/Users/michael.kuntz/code/HaukeFock/predict_energy_generation/raw_data/Target/energy_generation_data'"
   ]
  },
  {
   "cell_type": "code",
   "execution_count": 22,
   "id": "62e25b3a",
   "metadata": {},
   "outputs": [
    {
     "name": "stdout",
     "output_type": "stream",
     "text": [
      "/Users/michael.kuntz/code/HaukeFock/predict_energy_generation/raw_data/Target/energy_generation_data\n",
      ".DS_Store\n",
      "df_amprion.xlsx\n",
      "df_deutschland.csv\n",
      "df_tennet.xlsx\n",
      "df_transnet_bw.xlsx\n",
      "df_50hertz.xlsx\n"
     ]
    }
   ],
   "source": [
    "for path, dirs, files in os.walk(local_path):\n",
    "    print(path)\n",
    "    for f in files:\n",
    "        print(f)"
   ]
  },
  {
   "cell_type": "code",
   "execution_count": 29,
   "id": "c726a20d",
   "metadata": {},
   "outputs": [],
   "source": [
    "daily_data_path = '/Users/michael.kuntz/code/HaukeFock/predict_energy_generation/raw_data/Target/Daily/energy_generation_data/df_deutschland.csv'\n",
    "hourly_data_path = '/Users/michael.kuntz/code/HaukeFock/predict_energy_generation/raw_data/Target/Hourly/energy_generation_data/df_deutschland.csv'"
   ]
  },
  {
   "cell_type": "code",
   "execution_count": 30,
   "id": "1e113d20",
   "metadata": {},
   "outputs": [
    {
     "data": {
      "text/html": [
       "<div>\n",
       "<style scoped>\n",
       "    .dataframe tbody tr th:only-of-type {\n",
       "        vertical-align: middle;\n",
       "    }\n",
       "\n",
       "    .dataframe tbody tr th {\n",
       "        vertical-align: top;\n",
       "    }\n",
       "\n",
       "    .dataframe thead th {\n",
       "        text-align: right;\n",
       "    }\n",
       "</style>\n",
       "<table border=\"1\" class=\"dataframe\">\n",
       "  <thead>\n",
       "    <tr style=\"text-align: right;\">\n",
       "      <th></th>\n",
       "      <th>Wind offshore[MWh]</th>\n",
       "      <th>Wind onshore[MWh]</th>\n",
       "      <th>Photovoltaics[MWh]</th>\n",
       "      <th>region</th>\n",
       "    </tr>\n",
       "    <tr>\n",
       "      <th>Date</th>\n",
       "      <th></th>\n",
       "      <th></th>\n",
       "      <th></th>\n",
       "      <th></th>\n",
       "    </tr>\n",
       "  </thead>\n",
       "  <tbody>\n",
       "    <tr>\n",
       "      <th>2015-01-01</th>\n",
       "      <td>11.989583</td>\n",
       "      <td>1278.427083</td>\n",
       "      <td>75.531250</td>\n",
       "      <td>50hertz</td>\n",
       "    </tr>\n",
       "    <tr>\n",
       "      <th>2015-01-02</th>\n",
       "      <td>9.947917</td>\n",
       "      <td>2555.510417</td>\n",
       "      <td>17.677083</td>\n",
       "      <td>50hertz</td>\n",
       "    </tr>\n",
       "    <tr>\n",
       "      <th>2015-01-03</th>\n",
       "      <td>11.281250</td>\n",
       "      <td>2308.958333</td>\n",
       "      <td>27.354167</td>\n",
       "      <td>50hertz</td>\n",
       "    </tr>\n",
       "    <tr>\n",
       "      <th>2015-01-04</th>\n",
       "      <td>11.354167</td>\n",
       "      <td>2079.041667</td>\n",
       "      <td>49.750000</td>\n",
       "      <td>50hertz</td>\n",
       "    </tr>\n",
       "    <tr>\n",
       "      <th>2015-01-05</th>\n",
       "      <td>4.104167</td>\n",
       "      <td>1333.343750</td>\n",
       "      <td>20.187500</td>\n",
       "      <td>50hertz</td>\n",
       "    </tr>\n",
       "  </tbody>\n",
       "</table>\n",
       "</div>"
      ],
      "text/plain": [
       "            Wind offshore[MWh]  Wind onshore[MWh]  Photovoltaics[MWh]   region\n",
       "Date                                                                          \n",
       "2015-01-01           11.989583        1278.427083           75.531250  50hertz\n",
       "2015-01-02            9.947917        2555.510417           17.677083  50hertz\n",
       "2015-01-03           11.281250        2308.958333           27.354167  50hertz\n",
       "2015-01-04           11.354167        2079.041667           49.750000  50hertz\n",
       "2015-01-05            4.104167        1333.343750           20.187500  50hertz"
      ]
     },
     "execution_count": 30,
     "metadata": {},
     "output_type": "execute_result"
    }
   ],
   "source": [
    "daily_df = pd.read_csv(daily_data_path)\n",
    "\n",
    "daily_df['Date'] = pd.to_datetime(daily_df['Date'])\n",
    "daily_df.set_index('Date', inplace=True)\n",
    "\n",
    "daily_df.head()"
   ]
  },
  {
   "cell_type": "code",
   "execution_count": 31,
   "id": "3cba35d1",
   "metadata": {},
   "outputs": [
    {
     "data": {
      "text/html": [
       "<div>\n",
       "<style scoped>\n",
       "    .dataframe tbody tr th:only-of-type {\n",
       "        vertical-align: middle;\n",
       "    }\n",
       "\n",
       "    .dataframe tbody tr th {\n",
       "        vertical-align: top;\n",
       "    }\n",
       "\n",
       "    .dataframe thead th {\n",
       "        text-align: right;\n",
       "    }\n",
       "</style>\n",
       "<table border=\"1\" class=\"dataframe\">\n",
       "  <thead>\n",
       "    <tr style=\"text-align: right;\">\n",
       "      <th></th>\n",
       "      <th>Wind offshore[MWh]</th>\n",
       "      <th>Wind onshore[MWh]</th>\n",
       "      <th>Photovoltaics[MWh]</th>\n",
       "      <th>region</th>\n",
       "    </tr>\n",
       "    <tr>\n",
       "      <th>Date</th>\n",
       "      <th></th>\n",
       "      <th></th>\n",
       "      <th></th>\n",
       "      <th></th>\n",
       "    </tr>\n",
       "  </thead>\n",
       "  <tbody>\n",
       "    <tr>\n",
       "      <th>2015-01-01 00:00:00</th>\n",
       "      <td>12.0</td>\n",
       "      <td>910.25</td>\n",
       "      <td>0.0</td>\n",
       "      <td>50hertz</td>\n",
       "    </tr>\n",
       "    <tr>\n",
       "      <th>2015-01-01 01:00:00</th>\n",
       "      <td>12.0</td>\n",
       "      <td>1004.00</td>\n",
       "      <td>0.0</td>\n",
       "      <td>50hertz</td>\n",
       "    </tr>\n",
       "    <tr>\n",
       "      <th>2015-01-01 02:00:00</th>\n",
       "      <td>12.0</td>\n",
       "      <td>1058.00</td>\n",
       "      <td>0.0</td>\n",
       "      <td>50hertz</td>\n",
       "    </tr>\n",
       "    <tr>\n",
       "      <th>2015-01-01 03:00:00</th>\n",
       "      <td>12.0</td>\n",
       "      <td>998.50</td>\n",
       "      <td>0.0</td>\n",
       "      <td>50hertz</td>\n",
       "    </tr>\n",
       "    <tr>\n",
       "      <th>2015-01-01 04:00:00</th>\n",
       "      <td>12.0</td>\n",
       "      <td>952.25</td>\n",
       "      <td>0.0</td>\n",
       "      <td>50hertz</td>\n",
       "    </tr>\n",
       "  </tbody>\n",
       "</table>\n",
       "</div>"
      ],
      "text/plain": [
       "                     Wind offshore[MWh]  Wind onshore[MWh]  \\\n",
       "Date                                                         \n",
       "2015-01-01 00:00:00                12.0             910.25   \n",
       "2015-01-01 01:00:00                12.0            1004.00   \n",
       "2015-01-01 02:00:00                12.0            1058.00   \n",
       "2015-01-01 03:00:00                12.0             998.50   \n",
       "2015-01-01 04:00:00                12.0             952.25   \n",
       "\n",
       "                     Photovoltaics[MWh]   region  \n",
       "Date                                              \n",
       "2015-01-01 00:00:00                 0.0  50hertz  \n",
       "2015-01-01 01:00:00                 0.0  50hertz  \n",
       "2015-01-01 02:00:00                 0.0  50hertz  \n",
       "2015-01-01 03:00:00                 0.0  50hertz  \n",
       "2015-01-01 04:00:00                 0.0  50hertz  "
      ]
     },
     "execution_count": 31,
     "metadata": {},
     "output_type": "execute_result"
    }
   ],
   "source": [
    "hourly_df = pd.read_csv(hourly_data_path)\n",
    "\n",
    "hourly_df['Date'] = pd.to_datetime(hourly_df['Date'])\n",
    "hourly_df.set_index('Date', inplace=True)\n",
    "\n",
    "hourly_df.head()"
   ]
  },
  {
   "cell_type": "markdown",
   "id": "60a9d8cd",
   "metadata": {},
   "source": [
    "# Exploring data"
   ]
  },
  {
   "cell_type": "code",
   "execution_count": 35,
   "id": "1dc70fc8",
   "metadata": {},
   "outputs": [
    {
     "name": "stdout",
     "output_type": "stream",
     "text": [
      "<class 'pandas.core.frame.DataFrame'>\n",
      "DatetimeIndex: 210528 entries, 2015-01-01 00:00:00 to 2021-01-01 23:00:00\n",
      "Data columns (total 4 columns):\n",
      " #   Column              Non-Null Count   Dtype  \n",
      "---  ------              --------------   -----  \n",
      " 0   Wind offshore[MWh]  105250 non-null  float64\n",
      " 1   Wind onshore[MWh]   210504 non-null  float64\n",
      " 2   Photovoltaics[MWh]  210504 non-null  float64\n",
      " 3   region              210528 non-null  object \n",
      "dtypes: float64(3), object(1)\n",
      "memory usage: 8.0+ MB\n"
     ]
    }
   ],
   "source": [
    "hourly_df.info()"
   ]
  },
  {
   "cell_type": "code",
   "execution_count": 36,
   "id": "2ab1c05a",
   "metadata": {},
   "outputs": [
    {
     "data": {
      "text/html": [
       "<div>\n",
       "<style scoped>\n",
       "    .dataframe tbody tr th:only-of-type {\n",
       "        vertical-align: middle;\n",
       "    }\n",
       "\n",
       "    .dataframe tbody tr th {\n",
       "        vertical-align: top;\n",
       "    }\n",
       "\n",
       "    .dataframe thead th {\n",
       "        text-align: right;\n",
       "    }\n",
       "</style>\n",
       "<table border=\"1\" class=\"dataframe\">\n",
       "  <thead>\n",
       "    <tr style=\"text-align: right;\">\n",
       "      <th></th>\n",
       "      <th>Wind offshore[MWh]</th>\n",
       "      <th>Wind onshore[MWh]</th>\n",
       "      <th>Photovoltaics[MWh]</th>\n",
       "    </tr>\n",
       "  </thead>\n",
       "  <tbody>\n",
       "    <tr>\n",
       "      <th>count</th>\n",
       "      <td>105250.000000</td>\n",
       "      <td>210504.000000</td>\n",
       "      <td>210504.000000</td>\n",
       "    </tr>\n",
       "    <tr>\n",
       "      <th>mean</th>\n",
       "      <td>255.739760</td>\n",
       "      <td>607.539364</td>\n",
       "      <td>278.317210</td>\n",
       "    </tr>\n",
       "    <tr>\n",
       "      <th>std</th>\n",
       "      <td>322.525403</td>\n",
       "      <td>719.092184</td>\n",
       "      <td>466.549905</td>\n",
       "    </tr>\n",
       "    <tr>\n",
       "      <th>min</th>\n",
       "      <td>0.000000</td>\n",
       "      <td>0.000000</td>\n",
       "      <td>0.000000</td>\n",
       "    </tr>\n",
       "    <tr>\n",
       "      <th>25%</th>\n",
       "      <td>27.750000</td>\n",
       "      <td>82.750000</td>\n",
       "      <td>0.000000</td>\n",
       "    </tr>\n",
       "    <tr>\n",
       "      <th>50%</th>\n",
       "      <td>98.000000</td>\n",
       "      <td>313.750000</td>\n",
       "      <td>6.750000</td>\n",
       "    </tr>\n",
       "    <tr>\n",
       "      <th>75%</th>\n",
       "      <td>369.250000</td>\n",
       "      <td>891.312500</td>\n",
       "      <td>394.000000</td>\n",
       "    </tr>\n",
       "    <tr>\n",
       "      <th>max</th>\n",
       "      <td>1520.000000</td>\n",
       "      <td>3968.750000</td>\n",
       "      <td>3075.250000</td>\n",
       "    </tr>\n",
       "  </tbody>\n",
       "</table>\n",
       "</div>"
      ],
      "text/plain": [
       "       Wind offshore[MWh]  Wind onshore[MWh]  Photovoltaics[MWh]\n",
       "count       105250.000000      210504.000000       210504.000000\n",
       "mean           255.739760         607.539364          278.317210\n",
       "std            322.525403         719.092184          466.549905\n",
       "min              0.000000           0.000000            0.000000\n",
       "25%             27.750000          82.750000            0.000000\n",
       "50%             98.000000         313.750000            6.750000\n",
       "75%            369.250000         891.312500          394.000000\n",
       "max           1520.000000        3968.750000         3075.250000"
      ]
     },
     "execution_count": 36,
     "metadata": {},
     "output_type": "execute_result"
    }
   ],
   "source": [
    "hourly_df.describe()"
   ]
  },
  {
   "cell_type": "code",
   "execution_count": 39,
   "id": "e78778c3",
   "metadata": {},
   "outputs": [
    {
     "data": {
      "text/plain": [
       "Wind offshore[MWh]    105278\n",
       "Wind onshore[MWh]         24\n",
       "Photovoltaics[MWh]        24\n",
       "region                     0\n",
       "dtype: int64"
      ]
     },
     "execution_count": 39,
     "metadata": {},
     "output_type": "execute_result"
    }
   ],
   "source": [
    "hourly_df.isna().sum()"
   ]
  },
  {
   "cell_type": "code",
   "execution_count": null,
   "id": "20f29fdd",
   "metadata": {},
   "outputs": [],
   "source": []
  }
 ],
 "metadata": {
  "kernelspec": {
   "display_name": "Python 3",
   "language": "python",
   "name": "python3"
  },
  "language_info": {
   "codemirror_mode": {
    "name": "ipython",
    "version": 3
   },
   "file_extension": ".py",
   "mimetype": "text/x-python",
   "name": "python",
   "nbconvert_exporter": "python",
   "pygments_lexer": "ipython3",
   "version": "3.8.6"
  },
  "toc": {
   "base_numbering": 1,
   "nav_menu": {},
   "number_sections": true,
   "sideBar": true,
   "skip_h1_title": false,
   "title_cell": "Table of Contents",
   "title_sidebar": "Contents",
   "toc_cell": false,
   "toc_position": {},
   "toc_section_display": true,
   "toc_window_display": false
  }
 },
 "nbformat": 4,
 "nbformat_minor": 5
}
