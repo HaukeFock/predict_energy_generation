{
 "cells": [
  {
   "cell_type": "code",
   "execution_count": 1,
   "id": "0db6a35a",
   "metadata": {
    "id": "0db6a35a"
   },
   "outputs": [],
   "source": [
    "# **Imports**\n",
    "import pandas as pd\n",
    "import numpy as np\n",
    "import datetime as dt\n",
    "import matplotlib.pyplot as plt\n",
    "import seaborn as sns\n",
    "\n",
    "from sklearn.preprocessing import MinMaxScaler\n",
    "\n",
    "from statsmodels.tsa.statespace.sarimax import SARIMAX"
   ]
  },
  {
   "cell_type": "code",
   "execution_count": 2,
   "id": "e8xntP-5de8Z",
   "metadata": {
    "colab": {
     "base_uri": "https://localhost:8080/"
    },
    "id": "e8xntP-5de8Z",
    "outputId": "eba5aa70-8546-46f4-8b04-2949ea067d89"
   },
   "outputs": [],
   "source": [
    "#from google.colab import drive\n",
    "#drive.mount('/content/drive')"
   ]
  },
  {
   "cell_type": "markdown",
   "id": "d204534f",
   "metadata": {
    "id": "d204534f"
   },
   "source": [
    "# Loading and Preparing the data"
   ]
  },
  {
   "cell_type": "markdown",
   "id": "600151a4",
   "metadata": {
    "id": "600151a4"
   },
   "source": [
    "## Loading the Data "
   ]
  },
  {
   "cell_type": "code",
   "execution_count": 3,
   "id": "j4Tgti9gVcOK",
   "metadata": {
    "id": "j4Tgti9gVcOK"
   },
   "outputs": [],
   "source": [
    "# uploading the files to GC in order to use them. If you use the file in GCP more often, use a DIFFERENT method like connecting to your Drive, like shown below.\n",
    "#from google.colab import files\n",
    "#uploaded1 = files.upload()"
   ]
  },
  {
   "cell_type": "code",
   "execution_count": 4,
   "id": "fJnNYhZLVcXI",
   "metadata": {
    "id": "fJnNYhZLVcXI"
   },
   "outputs": [],
   "source": [
    "#uploaded2 = files.upload()"
   ]
  },
  {
   "cell_type": "code",
   "execution_count": 5,
   "id": "2949d9fa",
   "metadata": {
    "id": "2949d9fa"
   },
   "outputs": [],
   "source": [
    "local_path_target = '/mnt/g/Meine Ablage/raw_data/Target/Hourly/energy_generation_data/df_deutschland.csv'\n",
    "\n",
    "local_path_feature = \"/mnt/g/Meine Ablage/raw_data/Features/DATAFRAMES/hourly_globalradiation_df.csv\"\n",
    "\n",
    "data_target = pd.read_csv(local_path_target)\n",
    "data_feature = pd.read_csv(local_path_feature)\n",
    "\n",
    "#data_target = pd.read_csv('/content/drive/MyDrive/raw_data/Target/Hourly/energy_generation_data/df_deutschland.csv')\n",
    "#data_feature = pd.read_csv('/content/drive/MyDrive/raw_data/Features/DATAFRAMES/hourly_globalradiation_df.csv', index_col=0)\n",
    "\n",
    "data_target['Date'] = pd.to_datetime(data_target.Date)"
   ]
  },
  {
   "cell_type": "code",
   "execution_count": 6,
   "id": "d0133535",
   "metadata": {
    "colab": {
     "base_uri": "https://localhost:8080/",
     "height": 175
    },
    "id": "d0133535",
    "outputId": "36e6a437-f805-4e5d-de20-8846d52f2723"
   },
   "outputs": [
    {
     "data": {
      "text/html": [
       "<div>\n",
       "<style scoped>\n",
       "    .dataframe tbody tr th:only-of-type {\n",
       "        vertical-align: middle;\n",
       "    }\n",
       "\n",
       "    .dataframe tbody tr th {\n",
       "        vertical-align: top;\n",
       "    }\n",
       "\n",
       "    .dataframe thead th {\n",
       "        text-align: right;\n",
       "    }\n",
       "</style>\n",
       "<table border=\"1\" class=\"dataframe\">\n",
       "  <thead>\n",
       "    <tr style=\"text-align: right;\">\n",
       "      <th></th>\n",
       "      <th>Wind offshore[MWh]</th>\n",
       "      <th>Wind onshore[MWh]</th>\n",
       "      <th>Photovoltaics[MWh]</th>\n",
       "    </tr>\n",
       "    <tr>\n",
       "      <th>Date</th>\n",
       "      <th></th>\n",
       "      <th></th>\n",
       "      <th></th>\n",
       "    </tr>\n",
       "  </thead>\n",
       "  <tbody>\n",
       "    <tr>\n",
       "      <th>2015-01-01 00:00:00</th>\n",
       "      <td>517.0</td>\n",
       "      <td>8129.0</td>\n",
       "      <td>0.0</td>\n",
       "    </tr>\n",
       "    <tr>\n",
       "      <th>2015-01-01 01:00:00</th>\n",
       "      <td>516.0</td>\n",
       "      <td>8300.0</td>\n",
       "      <td>0.0</td>\n",
       "    </tr>\n",
       "    <tr>\n",
       "      <th>2015-01-01 02:00:00</th>\n",
       "      <td>514.0</td>\n",
       "      <td>8544.0</td>\n",
       "      <td>0.0</td>\n",
       "    </tr>\n",
       "  </tbody>\n",
       "</table>\n",
       "</div>"
      ],
      "text/plain": [
       "                     Wind offshore[MWh]  Wind onshore[MWh]  Photovoltaics[MWh]\n",
       "Date                                                                          \n",
       "2015-01-01 00:00:00               517.0             8129.0                 0.0\n",
       "2015-01-01 01:00:00               516.0             8300.0                 0.0\n",
       "2015-01-01 02:00:00               514.0             8544.0                 0.0"
      ]
     },
     "execution_count": 6,
     "metadata": {},
     "output_type": "execute_result"
    }
   ],
   "source": [
    "generation_df = data_target.groupby(by=data_target['Date']).sum()\n",
    "generation_df.head(3)"
   ]
  },
  {
   "cell_type": "code",
   "execution_count": 7,
   "id": "be12f8ab",
   "metadata": {
    "colab": {
     "base_uri": "https://localhost:8080/"
    },
    "id": "be12f8ab",
    "outputId": "963a7932-dd0f-43c1-deaa-d4e1cfd0d2ff"
   },
   "outputs": [
    {
     "data": {
      "text/plain": [
       "Date\n",
       "2015-01-01 00:00:00    8646.0\n",
       "2015-01-01 01:00:00    8816.0\n",
       "2015-01-01 02:00:00    9058.0\n",
       "dtype: float64"
      ]
     },
     "execution_count": 7,
     "metadata": {},
     "output_type": "execute_result"
    }
   ],
   "source": [
    "wind_df = generation_df[['Wind offshore[MWh]','Wind onshore[MWh]']].sum(axis=1)\n",
    "wind_df.head(3)"
   ]
  },
  {
   "cell_type": "code",
   "execution_count": 13,
   "id": "95727dcf",
   "metadata": {},
   "outputs": [
    {
     "data": {
      "text/plain": [
       "Date\n",
       "2015-01-01 00:00:00    8129.0\n",
       "2015-01-01 01:00:00    8300.0\n",
       "2015-01-01 02:00:00    8544.0\n",
       "Name: Wind onshore[MWh], dtype: float64"
      ]
     },
     "execution_count": 13,
     "metadata": {},
     "output_type": "execute_result"
    }
   ],
   "source": [
    "wind_onshore_df = generation_df[\"Wind onshore[MWh]\"]\n",
    "wind_onshore_df.head(3)"
   ]
  },
  {
   "cell_type": "code",
   "execution_count": 14,
   "id": "d2331640",
   "metadata": {},
   "outputs": [
    {
     "data": {
      "text/plain": [
       "Date\n",
       "2015-01-01 00:00:00    517.0\n",
       "2015-01-01 01:00:00    516.0\n",
       "2015-01-01 02:00:00    514.0\n",
       "Name: Wind offshore[MWh], dtype: float64"
      ]
     },
     "execution_count": 14,
     "metadata": {},
     "output_type": "execute_result"
    }
   ],
   "source": [
    "wind_offshore_df = generation_df[\"Wind offshore[MWh]\"]\n",
    "wind_offshore_df.head(3)"
   ]
  },
  {
   "cell_type": "code",
   "execution_count": 8,
   "id": "MPnSZdH6A1JU",
   "metadata": {
    "colab": {
     "base_uri": "https://localhost:8080/",
     "height": 276
    },
    "id": "MPnSZdH6A1JU",
    "outputId": "ba1b741e-eefb-4912-89e5-4900852d18b1"
   },
   "outputs": [
    {
     "data": {
      "text/html": [
       "<div>\n",
       "<style scoped>\n",
       "    .dataframe tbody tr th:only-of-type {\n",
       "        vertical-align: middle;\n",
       "    }\n",
       "\n",
       "    .dataframe tbody tr th {\n",
       "        vertical-align: top;\n",
       "    }\n",
       "\n",
       "    .dataframe thead th {\n",
       "        text-align: right;\n",
       "    }\n",
       "</style>\n",
       "<table border=\"1\" class=\"dataframe\">\n",
       "  <thead>\n",
       "    <tr style=\"text-align: right;\">\n",
       "      <th></th>\n",
       "      <th>Date</th>\n",
       "      <th>164</th>\n",
       "      <th>183</th>\n",
       "      <th>198</th>\n",
       "      <th>232</th>\n",
       "      <th>282</th>\n",
       "      <th>342</th>\n",
       "      <th>427</th>\n",
       "      <th>430</th>\n",
       "      <th>433</th>\n",
       "      <th>...</th>\n",
       "      <th>6197</th>\n",
       "      <th>7351</th>\n",
       "      <th>7367</th>\n",
       "      <th>7368</th>\n",
       "      <th>7369</th>\n",
       "      <th>7370</th>\n",
       "      <th>7374</th>\n",
       "      <th>13674</th>\n",
       "      <th>15000</th>\n",
       "      <th>15818</th>\n",
       "    </tr>\n",
       "  </thead>\n",
       "  <tbody>\n",
       "    <tr>\n",
       "      <th>11661</th>\n",
       "      <td>2021-04-30 21:00:00</td>\n",
       "      <td>0.0</td>\n",
       "      <td>0.0</td>\n",
       "      <td>0.0</td>\n",
       "      <td>0.0</td>\n",
       "      <td>0.0</td>\n",
       "      <td>0.0</td>\n",
       "      <td>0.0</td>\n",
       "      <td>0.0</td>\n",
       "      <td>0.0</td>\n",
       "      <td>...</td>\n",
       "      <td>0.0</td>\n",
       "      <td>0.0</td>\n",
       "      <td>0.0</td>\n",
       "      <td>0.0</td>\n",
       "      <td>0.0</td>\n",
       "      <td>0.0</td>\n",
       "      <td>0.0</td>\n",
       "      <td>0.0</td>\n",
       "      <td>0.0</td>\n",
       "      <td>0.0</td>\n",
       "    </tr>\n",
       "    <tr>\n",
       "      <th>11662</th>\n",
       "      <td>2021-04-30 22:00:00</td>\n",
       "      <td>0.0</td>\n",
       "      <td>0.0</td>\n",
       "      <td>0.0</td>\n",
       "      <td>0.0</td>\n",
       "      <td>0.0</td>\n",
       "      <td>0.0</td>\n",
       "      <td>0.0</td>\n",
       "      <td>0.0</td>\n",
       "      <td>0.0</td>\n",
       "      <td>...</td>\n",
       "      <td>0.0</td>\n",
       "      <td>0.0</td>\n",
       "      <td>0.0</td>\n",
       "      <td>0.0</td>\n",
       "      <td>0.0</td>\n",
       "      <td>0.0</td>\n",
       "      <td>0.0</td>\n",
       "      <td>0.0</td>\n",
       "      <td>0.0</td>\n",
       "      <td>0.0</td>\n",
       "    </tr>\n",
       "    <tr>\n",
       "      <th>11663</th>\n",
       "      <td>2021-04-30 23:00:00</td>\n",
       "      <td>0.0</td>\n",
       "      <td>0.0</td>\n",
       "      <td>0.0</td>\n",
       "      <td>0.0</td>\n",
       "      <td>0.0</td>\n",
       "      <td>0.0</td>\n",
       "      <td>0.0</td>\n",
       "      <td>0.0</td>\n",
       "      <td>0.0</td>\n",
       "      <td>...</td>\n",
       "      <td>0.0</td>\n",
       "      <td>0.0</td>\n",
       "      <td>0.0</td>\n",
       "      <td>0.0</td>\n",
       "      <td>0.0</td>\n",
       "      <td>0.0</td>\n",
       "      <td>0.0</td>\n",
       "      <td>0.0</td>\n",
       "      <td>0.0</td>\n",
       "      <td>0.0</td>\n",
       "    </tr>\n",
       "  </tbody>\n",
       "</table>\n",
       "<p>3 rows × 120 columns</p>\n",
       "</div>"
      ],
      "text/plain": [
       "                      Date  164  183  198  232  282  342  427  430  433  ...  \\\n",
       "11661  2021-04-30 21:00:00  0.0  0.0  0.0  0.0  0.0  0.0  0.0  0.0  0.0  ...   \n",
       "11662  2021-04-30 22:00:00  0.0  0.0  0.0  0.0  0.0  0.0  0.0  0.0  0.0  ...   \n",
       "11663  2021-04-30 23:00:00  0.0  0.0  0.0  0.0  0.0  0.0  0.0  0.0  0.0  ...   \n",
       "\n",
       "       6197  7351  7367  7368  7369  7370  7374  13674  15000  15818  \n",
       "11661   0.0   0.0   0.0   0.0   0.0   0.0   0.0    0.0    0.0    0.0  \n",
       "11662   0.0   0.0   0.0   0.0   0.0   0.0   0.0    0.0    0.0    0.0  \n",
       "11663   0.0   0.0   0.0   0.0   0.0   0.0   0.0    0.0    0.0    0.0  \n",
       "\n",
       "[3 rows x 120 columns]"
      ]
     },
     "execution_count": 8,
     "metadata": {},
     "output_type": "execute_result"
    }
   ],
   "source": [
    "data_feature.tail(3)"
   ]
  },
  {
   "cell_type": "markdown",
   "id": "HaqL34k9QyqY",
   "metadata": {
    "id": "HaqL34k9QyqY"
   },
   "source": [
    "# Statistical Exploration"
   ]
  },
  {
   "cell_type": "code",
   "execution_count": 16,
   "id": "rv9F5EbyAtR8",
   "metadata": {
    "colab": {
     "base_uri": "https://localhost:8080/",
     "height": 283
    },
    "id": "rv9F5EbyAtR8",
    "outputId": "7378b6e6-d842-4734-9526-908849b3c843"
   },
   "outputs": [
    {
     "data": {
      "text/plain": [
       "[<matplotlib.lines.Line2D at 0x7fc6efb283d0>]"
      ]
     },
     "execution_count": 16,
     "metadata": {},
     "output_type": "execute_result"
    },
    {
     "data": {
      "image/png": "[encoded data removed]",
      "text/plain": [
       "<Figure size 432x288 with 1 Axes>"
      ]
     },
     "metadata": {
      "needs_background": "light"
     },
     "output_type": "display_data"
    }
   ],
   "source": [
    "plt.plot(wind_df[:500])\n",
    "plt.plot(wind_onshore_df[:500])\n",
    "plt.plot(wind_offshore_df[:500])"
   ]
  },
  {
   "cell_type": "code",
   "execution_count": 18,
   "id": "W0jaJQQVAupZ",
   "metadata": {
    "colab": {
     "base_uri": "https://localhost:8080/",
     "height": 283
    },
    "id": "W0jaJQQVAupZ",
    "outputId": "f590f391-cf57-4a41-dd99-b3d82a1ff18f"
   },
   "outputs": [
    {
     "data": {
      "text/plain": [
       "<AxesSubplot:>"
      ]
     },
     "execution_count": 18,
     "metadata": {},
     "output_type": "execute_result"
    },
    {
     "data": {
      "image/png": "[encoded data removed]",
      "text/plain": [
       "<Figure size 432x288 with 1 Axes>"
      ]
     },
     "metadata": {
      "needs_background": "light"
     },
     "output_type": "display_data"
    }
   ],
   "source": [
    "wind_df.hist()\n",
    "wind_onshore_df.hist()\n",
    "wind_offshore_df.hist()"
   ]
  },
  {
   "cell_type": "code",
   "execution_count": 19,
   "id": "nQ6VKkfzAuxg",
   "metadata": {
    "colab": {
     "base_uri": "https://localhost:8080/"
    },
    "id": "nQ6VKkfzAuxg",
    "outputId": "d510cac7-5352-4f2c-d146-bf51f4060fa7"
   },
   "outputs": [
    {
     "data": {
      "text/plain": [
       "(7.922097108950382e-30, 4.6242738858550056e-30, 1.7119979669373981e-28)"
      ]
     },
     "execution_count": 19,
     "metadata": {},
     "output_type": "execute_result"
    }
   ],
   "source": [
    "# p-value (should be less than 0.05 to be sattionary)\n",
    "from statsmodels.tsa.stattools import adfuller\n",
    "adfuller(wind_df)[1], adfuller(wind_onshore_df)[1], adfuller(wind_offshore_df)[1]"
   ]
  },
  {
   "cell_type": "code",
   "execution_count": 13,
   "id": "2tJ5T0SgAuz9",
   "metadata": {
    "id": "2tJ5T0SgAuz9"
   },
   "outputs": [],
   "source": [
    "# Analyzing seasonality and "
   ]
  },
  {
   "cell_type": "code",
   "execution_count": 14,
   "id": "mLzbj430Au1w",
   "metadata": {
    "colab": {
     "base_uri": "https://localhost:8080/",
     "height": 298
    },
    "id": "mLzbj430Au1w",
    "outputId": "725b3e55-d161-4421-c655-1032484b3cfc"
   },
   "outputs": [
    {
     "data": {
      "image/png": "[encoded data removed]",
      "text/plain": [
       "<Figure size 432x288 with 4 Axes>"
      ]
     },
     "metadata": {
      "needs_background": "light"
     },
     "output_type": "display_data"
    }
   ],
   "source": [
    "from statsmodels.tsa.seasonal import seasonal_decompose\n",
    "\n",
    "result_add_wind = seasonal_decompose(solar_df, model='additive')\n",
    "result_add.plot()\n",
    "result_add_wind = seasonal_decompose(solar_df, model='additive')\n",
    "result_add.plot()\n",
    "result_add_wind = seasonal_decompose(solar_df, model='additive')\n",
    "result_add.plot();"
   ]
  },
  {
   "cell_type": "code",
   "execution_count": 94,
   "id": "cz6ifevWAu6E",
   "metadata": {
    "id": "cz6ifevWAu6E"
   },
   "outputs": [],
   "source": []
  },
  {
   "cell_type": "markdown",
   "id": "BGjpy7nAacx-",
   "metadata": {
    "heading_collapsed": true,
    "id": "BGjpy7nAacx-"
   },
   "source": [
    "# Preparing the Data\n",
    "\n",
    "\n"
   ]
  },
  {
   "cell_type": "markdown",
   "id": "rICAARFU6QMw",
   "metadata": {
    "hidden": true,
    "id": "rICAARFU6QMw"
   },
   "source": [
    "### Concatenating the Data"
   ]
  },
  {
   "cell_type": "code",
   "execution_count": 15,
   "id": "btnHBtNaenB7",
   "metadata": {
    "hidden": true,
    "id": "btnHBtNaenB7"
   },
   "outputs": [],
   "source": [
    "solar_df.drop(solar_df.head(solar_df.shape[0]-data_feature.shape[0]).index,inplace=True)"
   ]
  },
  {
   "cell_type": "code",
   "execution_count": 16,
   "id": "e41e4d3a",
   "metadata": {
    "colab": {
     "base_uri": "https://localhost:8080/"
    },
    "hidden": true,
    "id": "e41e4d3a",
    "outputId": "0b71dab7-718b-45e1-d87f-ac2b76163201"
   },
   "outputs": [
    {
     "data": {
      "text/plain": [
       "(11664, 121)"
      ]
     },
     "execution_count": 16,
     "metadata": {},
     "output_type": "execute_result"
    }
   ],
   "source": [
    "# Building one DataFrame to make the correlation Analysis\n",
    "\n",
    "complete_df = pd.concat([solar_df, data_feature.set_index(solar_df.index)], axis=1)\n",
    "complete_df.shape"
   ]
  },
  {
   "cell_type": "markdown",
   "id": "f6j3BNTY5UMO",
   "metadata": {
    "heading_collapsed": true,
    "hidden": true,
    "id": "f6j3BNTY5UMO"
   },
   "source": [
    "### Filtering the data with highly correlated timeseries Optional "
   ]
  },
  {
   "cell_type": "code",
   "execution_count": 17,
   "id": "NpxfddANtPOQ",
   "metadata": {
    "hidden": true,
    "id": "NpxfddANtPOQ"
   },
   "outputs": [],
   "source": [
    "# Correlation Analysis\n",
    "#complete_df.corr()"
   ]
  },
  {
   "cell_type": "code",
   "execution_count": 18,
   "id": "ZLYLhzacvAQD",
   "metadata": {
    "hidden": true,
    "id": "ZLYLhzacvAQD"
   },
   "outputs": [],
   "source": [
    "df_corr = complete_df.corr().abs()"
   ]
  },
  {
   "cell_type": "code",
   "execution_count": 19,
   "id": "Qk2iH-htELz6",
   "metadata": {
    "colab": {
     "base_uri": "https://localhost:8080/",
     "height": 444
    },
    "hidden": true,
    "id": "Qk2iH-htELz6",
    "outputId": "9a5c5687-4315-4b27-f821-29bce6b6fed6"
   },
   "outputs": [
    {
     "data": {
      "text/html": [
       "<div>\n",
       "<style scoped>\n",
       "    .dataframe tbody tr th:only-of-type {\n",
       "        vertical-align: middle;\n",
       "    }\n",
       "\n",
       "    .dataframe tbody tr th {\n",
       "        vertical-align: top;\n",
       "    }\n",
       "\n",
       "    .dataframe thead th {\n",
       "        text-align: right;\n",
       "    }\n",
       "</style>\n",
       "<table border=\"1\" class=\"dataframe\">\n",
       "  <thead>\n",
       "    <tr style=\"text-align: right;\">\n",
       "      <th></th>\n",
       "      <th>Photovoltaics[MWh]</th>\n",
       "      <th>164</th>\n",
       "      <th>183</th>\n",
       "      <th>198</th>\n",
       "      <th>232</th>\n",
       "      <th>282</th>\n",
       "      <th>342</th>\n",
       "      <th>427</th>\n",
       "      <th>430</th>\n",
       "      <th>433</th>\n",
       "      <th>...</th>\n",
       "      <th>6197</th>\n",
       "      <th>7351</th>\n",
       "      <th>7367</th>\n",
       "      <th>7368</th>\n",
       "      <th>7369</th>\n",
       "      <th>7370</th>\n",
       "      <th>7374</th>\n",
       "      <th>13674</th>\n",
       "      <th>15000</th>\n",
       "      <th>15818</th>\n",
       "    </tr>\n",
       "  </thead>\n",
       "  <tbody>\n",
       "    <tr>\n",
       "      <th>Photovoltaics[MWh]</th>\n",
       "      <td>1.000000</td>\n",
       "      <td>0.781508</td>\n",
       "      <td>0.780628</td>\n",
       "      <td>0.839778</td>\n",
       "      <td>0.830101</td>\n",
       "      <td>0.845172</td>\n",
       "      <td>0.813199</td>\n",
       "      <td>0.800804</td>\n",
       "      <td>0.794589</td>\n",
       "      <td>0.791675</td>\n",
       "      <td>...</td>\n",
       "      <td>0.829469</td>\n",
       "      <td>0.776425</td>\n",
       "      <td>0.808242</td>\n",
       "      <td>0.845927</td>\n",
       "      <td>0.281130</td>\n",
       "      <td>0.809716</td>\n",
       "      <td>0.846881</td>\n",
       "      <td>0.873554</td>\n",
       "      <td>0.864202</td>\n",
       "      <td>0.023892</td>\n",
       "    </tr>\n",
       "    <tr>\n",
       "      <th>164</th>\n",
       "      <td>0.781508</td>\n",
       "      <td>1.000000</td>\n",
       "      <td>0.899513</td>\n",
       "      <td>0.876090</td>\n",
       "      <td>0.839640</td>\n",
       "      <td>0.850496</td>\n",
       "      <td>0.833806</td>\n",
       "      <td>0.941742</td>\n",
       "      <td>0.946814</td>\n",
       "      <td>0.928458</td>\n",
       "      <td>...</td>\n",
       "      <td>0.859577</td>\n",
       "      <td>0.949607</td>\n",
       "      <td>0.851946</td>\n",
       "      <td>0.864590</td>\n",
       "      <td>0.247835</td>\n",
       "      <td>0.826521</td>\n",
       "      <td>0.851666</td>\n",
       "      <td>0.848919</td>\n",
       "      <td>0.844615</td>\n",
       "      <td>0.018547</td>\n",
       "    </tr>\n",
       "    <tr>\n",
       "      <th>183</th>\n",
       "      <td>0.780628</td>\n",
       "      <td>0.899513</td>\n",
       "      <td>1.000000</td>\n",
       "      <td>0.840640</td>\n",
       "      <td>0.813387</td>\n",
       "      <td>0.827059</td>\n",
       "      <td>0.820424</td>\n",
       "      <td>0.881467</td>\n",
       "      <td>0.886795</td>\n",
       "      <td>0.858027</td>\n",
       "      <td>...</td>\n",
       "      <td>0.847147</td>\n",
       "      <td>0.902628</td>\n",
       "      <td>0.825470</td>\n",
       "      <td>0.839218</td>\n",
       "      <td>0.216594</td>\n",
       "      <td>0.799182</td>\n",
       "      <td>0.846185</td>\n",
       "      <td>0.834866</td>\n",
       "      <td>0.836177</td>\n",
       "      <td>0.011232</td>\n",
       "    </tr>\n",
       "    <tr>\n",
       "      <th>198</th>\n",
       "      <td>0.839778</td>\n",
       "      <td>0.876090</td>\n",
       "      <td>0.840640</td>\n",
       "      <td>1.000000</td>\n",
       "      <td>0.865342</td>\n",
       "      <td>0.904928</td>\n",
       "      <td>0.859467</td>\n",
       "      <td>0.895249</td>\n",
       "      <td>0.894762</td>\n",
       "      <td>0.883955</td>\n",
       "      <td>...</td>\n",
       "      <td>0.903108</td>\n",
       "      <td>0.859744</td>\n",
       "      <td>0.890518</td>\n",
       "      <td>0.941870</td>\n",
       "      <td>0.276545</td>\n",
       "      <td>0.863922</td>\n",
       "      <td>0.876235</td>\n",
       "      <td>0.889968</td>\n",
       "      <td>0.881841</td>\n",
       "      <td>0.032900</td>\n",
       "    </tr>\n",
       "    <tr>\n",
       "      <th>232</th>\n",
       "      <td>0.830101</td>\n",
       "      <td>0.839640</td>\n",
       "      <td>0.813387</td>\n",
       "      <td>0.865342</td>\n",
       "      <td>1.000000</td>\n",
       "      <td>0.902834</td>\n",
       "      <td>0.801335</td>\n",
       "      <td>0.849465</td>\n",
       "      <td>0.843752</td>\n",
       "      <td>0.842224</td>\n",
       "      <td>...</td>\n",
       "      <td>0.839016</td>\n",
       "      <td>0.826825</td>\n",
       "      <td>0.815335</td>\n",
       "      <td>0.878821</td>\n",
       "      <td>0.305669</td>\n",
       "      <td>0.894854</td>\n",
       "      <td>0.835375</td>\n",
       "      <td>0.910070</td>\n",
       "      <td>0.851534</td>\n",
       "      <td>0.033377</td>\n",
       "    </tr>\n",
       "    <tr>\n",
       "      <th>...</th>\n",
       "      <td>...</td>\n",
       "      <td>...</td>\n",
       "      <td>...</td>\n",
       "      <td>...</td>\n",
       "      <td>...</td>\n",
       "      <td>...</td>\n",
       "      <td>...</td>\n",
       "      <td>...</td>\n",
       "      <td>...</td>\n",
       "      <td>...</td>\n",
       "      <td>...</td>\n",
       "      <td>...</td>\n",
       "      <td>...</td>\n",
       "      <td>...</td>\n",
       "      <td>...</td>\n",
       "      <td>...</td>\n",
       "      <td>...</td>\n",
       "      <td>...</td>\n",
       "      <td>...</td>\n",
       "      <td>...</td>\n",
       "      <td>...</td>\n",
       "    </tr>\n",
       "    <tr>\n",
       "      <th>7370</th>\n",
       "      <td>0.809716</td>\n",
       "      <td>0.826521</td>\n",
       "      <td>0.799182</td>\n",
       "      <td>0.863922</td>\n",
       "      <td>0.894854</td>\n",
       "      <td>0.904904</td>\n",
       "      <td>0.801545</td>\n",
       "      <td>0.842155</td>\n",
       "      <td>0.836392</td>\n",
       "      <td>0.839663</td>\n",
       "      <td>...</td>\n",
       "      <td>0.829670</td>\n",
       "      <td>0.807996</td>\n",
       "      <td>0.806754</td>\n",
       "      <td>0.874866</td>\n",
       "      <td>0.266960</td>\n",
       "      <td>1.000000</td>\n",
       "      <td>0.813704</td>\n",
       "      <td>0.882354</td>\n",
       "      <td>0.833913</td>\n",
       "      <td>0.033544</td>\n",
       "    </tr>\n",
       "    <tr>\n",
       "      <th>7374</th>\n",
       "      <td>0.846881</td>\n",
       "      <td>0.851666</td>\n",
       "      <td>0.846185</td>\n",
       "      <td>0.876235</td>\n",
       "      <td>0.835375</td>\n",
       "      <td>0.865292</td>\n",
       "      <td>0.900189</td>\n",
       "      <td>0.859910</td>\n",
       "      <td>0.860118</td>\n",
       "      <td>0.850372</td>\n",
       "      <td>...</td>\n",
       "      <td>0.910855</td>\n",
       "      <td>0.857136</td>\n",
       "      <td>0.879187</td>\n",
       "      <td>0.880212</td>\n",
       "      <td>0.255169</td>\n",
       "      <td>0.813704</td>\n",
       "      <td>1.000000</td>\n",
       "      <td>0.874462</td>\n",
       "      <td>0.917821</td>\n",
       "      <td>0.008949</td>\n",
       "    </tr>\n",
       "    <tr>\n",
       "      <th>13674</th>\n",
       "      <td>0.873554</td>\n",
       "      <td>0.848919</td>\n",
       "      <td>0.834866</td>\n",
       "      <td>0.889968</td>\n",
       "      <td>0.910070</td>\n",
       "      <td>0.926497</td>\n",
       "      <td>0.846657</td>\n",
       "      <td>0.866184</td>\n",
       "      <td>0.861768</td>\n",
       "      <td>0.858877</td>\n",
       "      <td>...</td>\n",
       "      <td>0.877869</td>\n",
       "      <td>0.841935</td>\n",
       "      <td>0.853509</td>\n",
       "      <td>0.911956</td>\n",
       "      <td>0.261014</td>\n",
       "      <td>0.882354</td>\n",
       "      <td>0.874462</td>\n",
       "      <td>1.000000</td>\n",
       "      <td>0.899300</td>\n",
       "      <td>0.030639</td>\n",
       "    </tr>\n",
       "    <tr>\n",
       "      <th>15000</th>\n",
       "      <td>0.864202</td>\n",
       "      <td>0.844615</td>\n",
       "      <td>0.836177</td>\n",
       "      <td>0.881841</td>\n",
       "      <td>0.851534</td>\n",
       "      <td>0.881167</td>\n",
       "      <td>0.876804</td>\n",
       "      <td>0.857512</td>\n",
       "      <td>0.851888</td>\n",
       "      <td>0.847752</td>\n",
       "      <td>...</td>\n",
       "      <td>0.905574</td>\n",
       "      <td>0.846230</td>\n",
       "      <td>0.881077</td>\n",
       "      <td>0.900687</td>\n",
       "      <td>0.242331</td>\n",
       "      <td>0.833913</td>\n",
       "      <td>0.917821</td>\n",
       "      <td>0.899300</td>\n",
       "      <td>1.000000</td>\n",
       "      <td>0.013615</td>\n",
       "    </tr>\n",
       "    <tr>\n",
       "      <th>15818</th>\n",
       "      <td>0.023892</td>\n",
       "      <td>0.018547</td>\n",
       "      <td>0.011232</td>\n",
       "      <td>0.032900</td>\n",
       "      <td>0.033377</td>\n",
       "      <td>0.033745</td>\n",
       "      <td>0.016405</td>\n",
       "      <td>0.030470</td>\n",
       "      <td>0.024545</td>\n",
       "      <td>0.026967</td>\n",
       "      <td>...</td>\n",
       "      <td>0.006751</td>\n",
       "      <td>0.007784</td>\n",
       "      <td>0.010493</td>\n",
       "      <td>0.034713</td>\n",
       "      <td>0.002987</td>\n",
       "      <td>0.033544</td>\n",
       "      <td>0.008949</td>\n",
       "      <td>0.030639</td>\n",
       "      <td>0.013615</td>\n",
       "      <td>1.000000</td>\n",
       "    </tr>\n",
       "  </tbody>\n",
       "</table>\n",
       "<p>120 rows × 120 columns</p>\n",
       "</div>"
      ],
      "text/plain": [
       "                    Photovoltaics[MWh]       164       183       198  \\\n",
       "Photovoltaics[MWh]            1.000000  0.781508  0.780628  0.839778   \n",
       "164                           0.781508  1.000000  0.899513  0.876090   \n",
       "183                           0.780628  0.899513  1.000000  0.840640   \n",
       "198                           0.839778  0.876090  0.840640  1.000000   \n",
       "232                           0.830101  0.839640  0.813387  0.865342   \n",
       "...                                ...       ...       ...       ...   \n",
       "7370                          0.809716  0.826521  0.799182  0.863922   \n",
       "7374                          0.846881  0.851666  0.846185  0.876235   \n",
       "13674                         0.873554  0.848919  0.834866  0.889968   \n",
       "15000                         0.864202  0.844615  0.836177  0.881841   \n",
       "15818                         0.023892  0.018547  0.011232  0.032900   \n",
       "\n",
       "                         232       282       342       427       430  \\\n",
       "Photovoltaics[MWh]  0.830101  0.845172  0.813199  0.800804  0.794589   \n",
       "164                 0.839640  0.850496  0.833806  0.941742  0.946814   \n",
       "183                 0.813387  0.827059  0.820424  0.881467  0.886795   \n",
       "198                 0.865342  0.904928  0.859467  0.895249  0.894762   \n",
       "232                 1.000000  0.902834  0.801335  0.849465  0.843752   \n",
       "...                      ...       ...       ...       ...       ...   \n",
       "7370                0.894854  0.904904  0.801545  0.842155  0.836392   \n",
       "7374                0.835375  0.865292  0.900189  0.859910  0.860118   \n",
       "13674               0.910070  0.926497  0.846657  0.866184  0.861768   \n",
       "15000               0.851534  0.881167  0.876804  0.857512  0.851888   \n",
       "15818               0.033377  0.033745  0.016405  0.030470  0.024545   \n",
       "\n",
       "                         433  ...      6197      7351      7367      7368  \\\n",
       "Photovoltaics[MWh]  0.791675  ...  0.829469  0.776425  0.808242  0.845927   \n",
       "164                 0.928458  ...  0.859577  0.949607  0.851946  0.864590   \n",
       "183                 0.858027  ...  0.847147  0.902628  0.825470  0.839218   \n",
       "198                 0.883955  ...  0.903108  0.859744  0.890518  0.941870   \n",
       "232                 0.842224  ...  0.839016  0.826825  0.815335  0.878821   \n",
       "...                      ...  ...       ...       ...       ...       ...   \n",
       "7370                0.839663  ...  0.829670  0.807996  0.806754  0.874866   \n",
       "7374                0.850372  ...  0.910855  0.857136  0.879187  0.880212   \n",
       "13674               0.858877  ...  0.877869  0.841935  0.853509  0.911956   \n",
       "15000               0.847752  ...  0.905574  0.846230  0.881077  0.900687   \n",
       "15818               0.026967  ...  0.006751  0.007784  0.010493  0.034713   \n",
       "\n",
       "                        7369      7370      7374     13674     15000     15818  \n",
       "Photovoltaics[MWh]  0.281130  0.809716  0.846881  0.873554  0.864202  0.023892  \n",
       "164                 0.247835  0.826521  0.851666  0.848919  0.844615  0.018547  \n",
       "183                 0.216594  0.799182  0.846185  0.834866  0.836177  0.011232  \n",
       "198                 0.276545  0.863922  0.876235  0.889968  0.881841  0.032900  \n",
       "232                 0.305669  0.894854  0.835375  0.910070  0.851534  0.033377  \n",
       "...                      ...       ...       ...       ...       ...       ...  \n",
       "7370                0.266960  1.000000  0.813704  0.882354  0.833913  0.033544  \n",
       "7374                0.255169  0.813704  1.000000  0.874462  0.917821  0.008949  \n",
       "13674               0.261014  0.882354  0.874462  1.000000  0.899300  0.030639  \n",
       "15000               0.242331  0.833913  0.917821  0.899300  1.000000  0.013615  \n",
       "15818               0.002987  0.033544  0.008949  0.030639  0.013615  1.000000  \n",
       "\n",
       "[120 rows x 120 columns]"
      ]
     },
     "execution_count": 19,
     "metadata": {},
     "output_type": "execute_result"
    }
   ],
   "source": [
    "df_corr"
   ]
  },
  {
   "cell_type": "code",
   "execution_count": 20,
   "id": "6UAjPQhxyUXq",
   "metadata": {
    "colab": {
     "base_uri": "https://localhost:8080/",
     "height": 424
    },
    "hidden": true,
    "id": "6UAjPQhxyUXq",
    "outputId": "222d4f19-36f6-411d-97ed-ddba5d5bc695"
   },
   "outputs": [
    {
     "data": {
      "text/html": [
       "<div>\n",
       "<style scoped>\n",
       "    .dataframe tbody tr th:only-of-type {\n",
       "        vertical-align: middle;\n",
       "    }\n",
       "\n",
       "    .dataframe tbody tr th {\n",
       "        vertical-align: top;\n",
       "    }\n",
       "\n",
       "    .dataframe thead th {\n",
       "        text-align: right;\n",
       "    }\n",
       "</style>\n",
       "<table border=\"1\" class=\"dataframe\">\n",
       "  <thead>\n",
       "    <tr style=\"text-align: right;\">\n",
       "      <th></th>\n",
       "      <th>Photovoltaics[MWh]</th>\n",
       "    </tr>\n",
       "  </thead>\n",
       "  <tbody>\n",
       "    <tr>\n",
       "      <th>Photovoltaics[MWh]</th>\n",
       "      <td>1.000000</td>\n",
       "    </tr>\n",
       "    <tr>\n",
       "      <th>13674</th>\n",
       "      <td>0.873554</td>\n",
       "    </tr>\n",
       "    <tr>\n",
       "      <th>4177</th>\n",
       "      <td>0.866014</td>\n",
       "    </tr>\n",
       "    <tr>\n",
       "      <th>3660</th>\n",
       "      <td>0.866013</td>\n",
       "    </tr>\n",
       "    <tr>\n",
       "      <th>15000</th>\n",
       "      <td>0.864202</td>\n",
       "    </tr>\n",
       "    <tr>\n",
       "      <th>...</th>\n",
       "      <td>...</td>\n",
       "    </tr>\n",
       "    <tr>\n",
       "      <th>5142</th>\n",
       "      <td>0.758694</td>\n",
       "    </tr>\n",
       "    <tr>\n",
       "      <th>3946</th>\n",
       "      <td>0.634170</td>\n",
       "    </tr>\n",
       "    <tr>\n",
       "      <th>656</th>\n",
       "      <td>0.339278</td>\n",
       "    </tr>\n",
       "    <tr>\n",
       "      <th>7369</th>\n",
       "      <td>0.281130</td>\n",
       "    </tr>\n",
       "    <tr>\n",
       "      <th>15818</th>\n",
       "      <td>0.023892</td>\n",
       "    </tr>\n",
       "  </tbody>\n",
       "</table>\n",
       "<p>120 rows × 1 columns</p>\n",
       "</div>"
      ],
      "text/plain": [
       "                    Photovoltaics[MWh]\n",
       "Photovoltaics[MWh]            1.000000\n",
       "13674                         0.873554\n",
       "4177                          0.866014\n",
       "3660                          0.866013\n",
       "15000                         0.864202\n",
       "...                                ...\n",
       "5142                          0.758694\n",
       "3946                          0.634170\n",
       "656                           0.339278\n",
       "7369                          0.281130\n",
       "15818                         0.023892\n",
       "\n",
       "[120 rows x 1 columns]"
      ]
     },
     "execution_count": 20,
     "metadata": {},
     "output_type": "execute_result"
    }
   ],
   "source": [
    "sorted_corr = df_corr.iloc[0].sort_values(ascending=False)\n",
    "pd.DataFrame(sorted_corr)"
   ]
  },
  {
   "cell_type": "code",
   "execution_count": 21,
   "id": "mEWBXdKs1R7Z",
   "metadata": {
    "hidden": true,
    "id": "mEWBXdKs1R7Z"
   },
   "outputs": [],
   "source": [
    "list_of_corr_060 = list(sorted_corr[sorted_corr >= 0.6].index)"
   ]
  },
  {
   "cell_type": "code",
   "execution_count": 22,
   "id": "eBRhv3JJ4i0f",
   "metadata": {
    "hidden": true,
    "id": "eBRhv3JJ4i0f"
   },
   "outputs": [],
   "source": [
    "filtered_df = complete_df[list_of_corr_060]"
   ]
  },
  {
   "cell_type": "code",
   "execution_count": 23,
   "id": "3hoixQngF2pK",
   "metadata": {
    "colab": {
     "base_uri": "https://localhost:8080/",
     "height": 649
    },
    "hidden": true,
    "id": "3hoixQngF2pK",
    "outputId": "113f0eb8-be0e-4f7a-b919-dafcd9d485c2"
   },
   "outputs": [
    {
     "data": {
      "text/html": [
       "<div>\n",
       "<style scoped>\n",
       "    .dataframe tbody tr th:only-of-type {\n",
       "        vertical-align: middle;\n",
       "    }\n",
       "\n",
       "    .dataframe tbody tr th {\n",
       "        vertical-align: top;\n",
       "    }\n",
       "\n",
       "    .dataframe thead th {\n",
       "        text-align: right;\n",
       "    }\n",
       "</style>\n",
       "<table border=\"1\" class=\"dataframe\">\n",
       "  <thead>\n",
       "    <tr style=\"text-align: right;\">\n",
       "      <th></th>\n",
       "      <th>Photovoltaics[MWh]</th>\n",
       "      <th>13674</th>\n",
       "      <th>4177</th>\n",
       "      <th>3660</th>\n",
       "      <th>15000</th>\n",
       "      <th>4336</th>\n",
       "      <th>460</th>\n",
       "      <th>5100</th>\n",
       "      <th>5906</th>\n",
       "      <th>3098</th>\n",
       "      <th>...</th>\n",
       "      <th>183</th>\n",
       "      <th>1605</th>\n",
       "      <th>1684</th>\n",
       "      <th>7351</th>\n",
       "      <th>5792</th>\n",
       "      <th>1757</th>\n",
       "      <th>1503</th>\n",
       "      <th>4104</th>\n",
       "      <th>5142</th>\n",
       "      <th>3946</th>\n",
       "    </tr>\n",
       "    <tr>\n",
       "      <th>Date</th>\n",
       "      <th></th>\n",
       "      <th></th>\n",
       "      <th></th>\n",
       "      <th></th>\n",
       "      <th></th>\n",
       "      <th></th>\n",
       "      <th></th>\n",
       "      <th></th>\n",
       "      <th></th>\n",
       "      <th></th>\n",
       "      <th></th>\n",
       "      <th></th>\n",
       "      <th></th>\n",
       "      <th></th>\n",
       "      <th></th>\n",
       "      <th></th>\n",
       "      <th></th>\n",
       "      <th></th>\n",
       "      <th></th>\n",
       "      <th></th>\n",
       "      <th></th>\n",
       "    </tr>\n",
       "  </thead>\n",
       "  <tbody>\n",
       "    <tr>\n",
       "      <th>2020-01-01 00:00:00</th>\n",
       "      <td>0.0</td>\n",
       "      <td>0.0</td>\n",
       "      <td>0.0</td>\n",
       "      <td>0.0</td>\n",
       "      <td>0.0</td>\n",
       "      <td>0.0</td>\n",
       "      <td>0.0</td>\n",
       "      <td>0.0</td>\n",
       "      <td>0.0</td>\n",
       "      <td>0.0</td>\n",
       "      <td>...</td>\n",
       "      <td>0.0</td>\n",
       "      <td>0.0</td>\n",
       "      <td>0.0</td>\n",
       "      <td>0.0</td>\n",
       "      <td>0.0</td>\n",
       "      <td>0.0</td>\n",
       "      <td>0.0</td>\n",
       "      <td>0.0</td>\n",
       "      <td>0.0</td>\n",
       "      <td>0.0</td>\n",
       "    </tr>\n",
       "    <tr>\n",
       "      <th>2020-01-01 01:00:00</th>\n",
       "      <td>0.0</td>\n",
       "      <td>0.0</td>\n",
       "      <td>0.0</td>\n",
       "      <td>0.0</td>\n",
       "      <td>0.0</td>\n",
       "      <td>0.0</td>\n",
       "      <td>0.0</td>\n",
       "      <td>0.0</td>\n",
       "      <td>0.0</td>\n",
       "      <td>0.0</td>\n",
       "      <td>...</td>\n",
       "      <td>0.0</td>\n",
       "      <td>0.0</td>\n",
       "      <td>0.0</td>\n",
       "      <td>0.0</td>\n",
       "      <td>0.0</td>\n",
       "      <td>0.0</td>\n",
       "      <td>0.0</td>\n",
       "      <td>0.0</td>\n",
       "      <td>0.0</td>\n",
       "      <td>0.0</td>\n",
       "    </tr>\n",
       "    <tr>\n",
       "      <th>2020-01-01 02:00:00</th>\n",
       "      <td>0.0</td>\n",
       "      <td>0.0</td>\n",
       "      <td>0.0</td>\n",
       "      <td>0.0</td>\n",
       "      <td>0.0</td>\n",
       "      <td>0.0</td>\n",
       "      <td>0.0</td>\n",
       "      <td>0.0</td>\n",
       "      <td>0.0</td>\n",
       "      <td>0.0</td>\n",
       "      <td>...</td>\n",
       "      <td>0.0</td>\n",
       "      <td>0.0</td>\n",
       "      <td>0.0</td>\n",
       "      <td>0.0</td>\n",
       "      <td>0.0</td>\n",
       "      <td>0.0</td>\n",
       "      <td>0.0</td>\n",
       "      <td>0.0</td>\n",
       "      <td>0.0</td>\n",
       "      <td>0.0</td>\n",
       "    </tr>\n",
       "    <tr>\n",
       "      <th>2020-01-01 03:00:00</th>\n",
       "      <td>0.0</td>\n",
       "      <td>0.0</td>\n",
       "      <td>0.0</td>\n",
       "      <td>0.0</td>\n",
       "      <td>0.0</td>\n",
       "      <td>0.0</td>\n",
       "      <td>0.0</td>\n",
       "      <td>0.0</td>\n",
       "      <td>0.0</td>\n",
       "      <td>0.0</td>\n",
       "      <td>...</td>\n",
       "      <td>0.0</td>\n",
       "      <td>0.0</td>\n",
       "      <td>0.0</td>\n",
       "      <td>0.0</td>\n",
       "      <td>0.0</td>\n",
       "      <td>0.0</td>\n",
       "      <td>0.0</td>\n",
       "      <td>0.0</td>\n",
       "      <td>0.0</td>\n",
       "      <td>0.0</td>\n",
       "    </tr>\n",
       "    <tr>\n",
       "      <th>2020-01-01 04:00:00</th>\n",
       "      <td>0.0</td>\n",
       "      <td>0.0</td>\n",
       "      <td>0.0</td>\n",
       "      <td>0.0</td>\n",
       "      <td>0.0</td>\n",
       "      <td>0.0</td>\n",
       "      <td>0.0</td>\n",
       "      <td>0.0</td>\n",
       "      <td>0.0</td>\n",
       "      <td>0.0</td>\n",
       "      <td>...</td>\n",
       "      <td>0.0</td>\n",
       "      <td>0.0</td>\n",
       "      <td>0.0</td>\n",
       "      <td>0.0</td>\n",
       "      <td>0.0</td>\n",
       "      <td>0.0</td>\n",
       "      <td>0.0</td>\n",
       "      <td>0.0</td>\n",
       "      <td>0.0</td>\n",
       "      <td>0.0</td>\n",
       "    </tr>\n",
       "    <tr>\n",
       "      <th>...</th>\n",
       "      <td>...</td>\n",
       "      <td>...</td>\n",
       "      <td>...</td>\n",
       "      <td>...</td>\n",
       "      <td>...</td>\n",
       "      <td>...</td>\n",
       "      <td>...</td>\n",
       "      <td>...</td>\n",
       "      <td>...</td>\n",
       "      <td>...</td>\n",
       "      <td>...</td>\n",
       "      <td>...</td>\n",
       "      <td>...</td>\n",
       "      <td>...</td>\n",
       "      <td>...</td>\n",
       "      <td>...</td>\n",
       "      <td>...</td>\n",
       "      <td>...</td>\n",
       "      <td>...</td>\n",
       "      <td>...</td>\n",
       "      <td>...</td>\n",
       "    </tr>\n",
       "    <tr>\n",
       "      <th>2021-04-30 19:00:00</th>\n",
       "      <td>1104.0</td>\n",
       "      <td>0.0</td>\n",
       "      <td>0.0</td>\n",
       "      <td>0.0</td>\n",
       "      <td>0.0</td>\n",
       "      <td>0.0</td>\n",
       "      <td>0.0</td>\n",
       "      <td>0.1</td>\n",
       "      <td>0.0</td>\n",
       "      <td>0.0</td>\n",
       "      <td>...</td>\n",
       "      <td>0.0</td>\n",
       "      <td>0.0</td>\n",
       "      <td>0.0</td>\n",
       "      <td>0.0</td>\n",
       "      <td>0.0</td>\n",
       "      <td>0.0</td>\n",
       "      <td>0.0</td>\n",
       "      <td>0.0</td>\n",
       "      <td>0.0</td>\n",
       "      <td>0.0</td>\n",
       "    </tr>\n",
       "    <tr>\n",
       "      <th>2021-04-30 20:00:00</th>\n",
       "      <td>111.0</td>\n",
       "      <td>0.0</td>\n",
       "      <td>0.0</td>\n",
       "      <td>0.0</td>\n",
       "      <td>0.0</td>\n",
       "      <td>0.0</td>\n",
       "      <td>0.0</td>\n",
       "      <td>0.0</td>\n",
       "      <td>0.0</td>\n",
       "      <td>0.0</td>\n",
       "      <td>...</td>\n",
       "      <td>0.0</td>\n",
       "      <td>0.0</td>\n",
       "      <td>0.0</td>\n",
       "      <td>0.0</td>\n",
       "      <td>0.0</td>\n",
       "      <td>0.0</td>\n",
       "      <td>0.0</td>\n",
       "      <td>0.0</td>\n",
       "      <td>0.0</td>\n",
       "      <td>0.0</td>\n",
       "    </tr>\n",
       "    <tr>\n",
       "      <th>2021-04-30 21:00:00</th>\n",
       "      <td>0.0</td>\n",
       "      <td>0.0</td>\n",
       "      <td>0.0</td>\n",
       "      <td>0.0</td>\n",
       "      <td>0.0</td>\n",
       "      <td>0.0</td>\n",
       "      <td>0.0</td>\n",
       "      <td>0.0</td>\n",
       "      <td>0.0</td>\n",
       "      <td>0.0</td>\n",
       "      <td>...</td>\n",
       "      <td>0.0</td>\n",
       "      <td>0.0</td>\n",
       "      <td>0.0</td>\n",
       "      <td>0.0</td>\n",
       "      <td>0.0</td>\n",
       "      <td>0.0</td>\n",
       "      <td>0.0</td>\n",
       "      <td>0.0</td>\n",
       "      <td>0.0</td>\n",
       "      <td>0.0</td>\n",
       "    </tr>\n",
       "    <tr>\n",
       "      <th>2021-04-30 22:00:00</th>\n",
       "      <td>0.0</td>\n",
       "      <td>0.0</td>\n",
       "      <td>0.0</td>\n",
       "      <td>0.0</td>\n",
       "      <td>0.0</td>\n",
       "      <td>0.0</td>\n",
       "      <td>0.0</td>\n",
       "      <td>0.0</td>\n",
       "      <td>0.0</td>\n",
       "      <td>0.0</td>\n",
       "      <td>...</td>\n",
       "      <td>0.0</td>\n",
       "      <td>0.0</td>\n",
       "      <td>0.0</td>\n",
       "      <td>0.0</td>\n",
       "      <td>0.0</td>\n",
       "      <td>0.0</td>\n",
       "      <td>0.0</td>\n",
       "      <td>0.0</td>\n",
       "      <td>0.0</td>\n",
       "      <td>0.0</td>\n",
       "    </tr>\n",
       "    <tr>\n",
       "      <th>2021-04-30 23:00:00</th>\n",
       "      <td>0.0</td>\n",
       "      <td>0.0</td>\n",
       "      <td>0.0</td>\n",
       "      <td>0.0</td>\n",
       "      <td>0.0</td>\n",
       "      <td>0.0</td>\n",
       "      <td>0.0</td>\n",
       "      <td>0.0</td>\n",
       "      <td>0.0</td>\n",
       "      <td>0.0</td>\n",
       "      <td>...</td>\n",
       "      <td>0.0</td>\n",
       "      <td>0.0</td>\n",
       "      <td>0.0</td>\n",
       "      <td>0.0</td>\n",
       "      <td>0.0</td>\n",
       "      <td>0.0</td>\n",
       "      <td>0.0</td>\n",
       "      <td>0.0</td>\n",
       "      <td>0.0</td>\n",
       "      <td>0.0</td>\n",
       "    </tr>\n",
       "  </tbody>\n",
       "</table>\n",
       "<p>11664 rows × 117 columns</p>\n",
       "</div>"
      ],
      "text/plain": [
       "                     Photovoltaics[MWh]  13674  4177  3660  15000  4336  460  \\\n",
       "Date                                                                           \n",
       "2020-01-01 00:00:00                 0.0    0.0   0.0   0.0    0.0   0.0  0.0   \n",
       "2020-01-01 01:00:00                 0.0    0.0   0.0   0.0    0.0   0.0  0.0   \n",
       "2020-01-01 02:00:00                 0.0    0.0   0.0   0.0    0.0   0.0  0.0   \n",
       "2020-01-01 03:00:00                 0.0    0.0   0.0   0.0    0.0   0.0  0.0   \n",
       "2020-01-01 04:00:00                 0.0    0.0   0.0   0.0    0.0   0.0  0.0   \n",
       "...                                 ...    ...   ...   ...    ...   ...  ...   \n",
       "2021-04-30 19:00:00              1104.0    0.0   0.0   0.0    0.0   0.0  0.0   \n",
       "2021-04-30 20:00:00               111.0    0.0   0.0   0.0    0.0   0.0  0.0   \n",
       "2021-04-30 21:00:00                 0.0    0.0   0.0   0.0    0.0   0.0  0.0   \n",
       "2021-04-30 22:00:00                 0.0    0.0   0.0   0.0    0.0   0.0  0.0   \n",
       "2021-04-30 23:00:00                 0.0    0.0   0.0   0.0    0.0   0.0  0.0   \n",
       "\n",
       "                     5100  5906  3098  ...  183  1605  1684  7351  5792  1757  \\\n",
       "Date                                   ...                                      \n",
       "2020-01-01 00:00:00   0.0   0.0   0.0  ...  0.0   0.0   0.0   0.0   0.0   0.0   \n",
       "2020-01-01 01:00:00   0.0   0.0   0.0  ...  0.0   0.0   0.0   0.0   0.0   0.0   \n",
       "2020-01-01 02:00:00   0.0   0.0   0.0  ...  0.0   0.0   0.0   0.0   0.0   0.0   \n",
       "2020-01-01 03:00:00   0.0   0.0   0.0  ...  0.0   0.0   0.0   0.0   0.0   0.0   \n",
       "2020-01-01 04:00:00   0.0   0.0   0.0  ...  0.0   0.0   0.0   0.0   0.0   0.0   \n",
       "...                   ...   ...   ...  ...  ...   ...   ...   ...   ...   ...   \n",
       "2021-04-30 19:00:00   0.1   0.0   0.0  ...  0.0   0.0   0.0   0.0   0.0   0.0   \n",
       "2021-04-30 20:00:00   0.0   0.0   0.0  ...  0.0   0.0   0.0   0.0   0.0   0.0   \n",
       "2021-04-30 21:00:00   0.0   0.0   0.0  ...  0.0   0.0   0.0   0.0   0.0   0.0   \n",
       "2021-04-30 22:00:00   0.0   0.0   0.0  ...  0.0   0.0   0.0   0.0   0.0   0.0   \n",
       "2021-04-30 23:00:00   0.0   0.0   0.0  ...  0.0   0.0   0.0   0.0   0.0   0.0   \n",
       "\n",
       "                     1503  4104  5142  3946  \n",
       "Date                                         \n",
       "2020-01-01 00:00:00   0.0   0.0   0.0   0.0  \n",
       "2020-01-01 01:00:00   0.0   0.0   0.0   0.0  \n",
       "2020-01-01 02:00:00   0.0   0.0   0.0   0.0  \n",
       "2020-01-01 03:00:00   0.0   0.0   0.0   0.0  \n",
       "2020-01-01 04:00:00   0.0   0.0   0.0   0.0  \n",
       "...                   ...   ...   ...   ...  \n",
       "2021-04-30 19:00:00   0.0   0.0   0.0   0.0  \n",
       "2021-04-30 20:00:00   0.0   0.0   0.0   0.0  \n",
       "2021-04-30 21:00:00   0.0   0.0   0.0   0.0  \n",
       "2021-04-30 22:00:00   0.0   0.0   0.0   0.0  \n",
       "2021-04-30 23:00:00   0.0   0.0   0.0   0.0  \n",
       "\n",
       "[11664 rows x 117 columns]"
      ]
     },
     "execution_count": 23,
     "metadata": {},
     "output_type": "execute_result"
    }
   ],
   "source": [
    "filtered_df"
   ]
  },
  {
   "cell_type": "markdown",
   "id": "tEilY6L9AKm2",
   "metadata": {
    "heading_collapsed": true,
    "hidden": true,
    "id": "tEilY6L9AKm2"
   },
   "source": [
    "### Scaling the Data"
   ]
  },
  {
   "cell_type": "code",
   "execution_count": 24,
   "id": "rTdCO6xFDy7-",
   "metadata": {
    "hidden": true,
    "id": "rTdCO6xFDy7-"
   },
   "outputs": [],
   "source": [
    "scaler = MinMaxScaler()\n",
    "scaled = scaler.fit_transform(filtered_df)"
   ]
  },
  {
   "cell_type": "code",
   "execution_count": 174,
   "id": "mWdDICiuGMmi",
   "metadata": {
    "hidden": true,
    "id": "mWdDICiuGMmi"
   },
   "outputs": [],
   "source": [
    "scaler_y = MinMaxScaler()\n",
    "scaled_y = scaler_y.fit_transform(pd.DataFrame(solar_df))"
   ]
  },
  {
   "cell_type": "code",
   "execution_count": null,
   "id": "BbN6pK0zbOWC",
   "metadata": {
    "colab": {
     "base_uri": "https://localhost:8080/"
    },
    "hidden": true,
    "id": "BbN6pK0zbOWC",
    "outputId": "fe4d5843-5586-4352-a7d9-487475558313"
   },
   "outputs": [
    {
     "data": {
      "text/plain": [
       "matrix([[0., 0., 0., ..., 0., 0., 0.],\n",
       "        [0., 0., 0., ..., 0., 0., 0.],\n",
       "        [0., 0., 0., ..., 0., 0., 0.],\n",
       "        ...,\n",
       "        [0., 0., 0., ..., 0., 0., 0.],\n",
       "        [0., 0., 0., ..., 0., 0., 0.],\n",
       "        [0., 0., 0., ..., 0., 0., 0.]])"
      ]
     },
     "execution_count": 41,
     "metadata": {
      "tags": []
     },
     "output_type": "execute_result"
    }
   ],
   "source": [
    "np.asmatrix(scaled)"
   ]
  },
  {
   "cell_type": "markdown",
   "id": "om3E0pjE-H4z",
   "metadata": {
    "hidden": true,
    "id": "om3E0pjE-H4z"
   },
   "source": [
    "## Forming the Sequences for RNN"
   ]
  },
  {
   "cell_type": "markdown",
   "id": "eIrTUhBrgXq5",
   "metadata": {
    "id": "eIrTUhBrgXq5"
   },
   "source": [
    "# Sarimax Model"
   ]
  },
  {
   "cell_type": "markdown",
   "id": "6c9739c8",
   "metadata": {
    "id": "R4ErPIGxl0oF"
   },
   "source": [
    "## Forming sequences"
   ]
  },
  {
   "cell_type": "code",
   "execution_count": 232,
   "id": "d88ce357",
   "metadata": {},
   "outputs": [],
   "source": [
    "test_length = 336"
   ]
  },
  {
   "cell_type": "code",
   "execution_count": 233,
   "id": "f118c281",
   "metadata": {},
   "outputs": [],
   "source": [
    "# Train_Data\n",
    "trainX2 = scaled[:int(len(scaled)-test_length),:]\n",
    "trainy2 = scaled_y[:int(len(scaled)-test_length),:]\n",
    "# validation Data\n",
    "testX2 = scaled[int(len(scaled)-test_length):,:]\n",
    "testy2 = scaled_y[int(len(scaled)-test_length):,:]"
   ]
  },
  {
   "cell_type": "code",
   "execution_count": null,
   "id": "584ed5de",
   "metadata": {},
   "outputs": [],
   "source": []
  },
  {
   "cell_type": "code",
   "execution_count": null,
   "id": "40526a94",
   "metadata": {},
   "outputs": [],
   "source": []
  },
  {
   "cell_type": "markdown",
   "id": "902673fa",
   "metadata": {
    "id": "dJKqaWRil0ti"
   },
   "source": [
    "## Training and predicting with the Model"
   ]
  },
  {
   "cell_type": "code",
   "execution_count": 234,
   "id": "EUMoOoBYgXXI",
   "metadata": {
    "colab": {
     "base_uri": "https://localhost:8080/",
     "height": 393
    },
    "id": "EUMoOoBYgXXI",
    "outputId": "44d26ad0-8359-43a2-9904-7643ec74414a"
   },
   "outputs": [],
   "source": [
    "# Findng the Hyp\n",
    "#import pmdarima as pm\n",
    "\n",
    "#smodel = pm.auto_arima(trainy, m=12, X=trainX,\n",
    "                       #start_p=0, max_p=2,\n",
    "                       #start_q=0, max_q=5,\n",
    "                       #max_P=2, max_D=1,max_Q=2,\n",
    "                       #seasonal=True,\n",
    "                       #trace=True)"
   ]
  },
  {
   "cell_type": "code",
   "execution_count": 235,
   "id": "6682f3cf",
   "metadata": {},
   "outputs": [],
   "source": [
    "# Order Parameters of best model with exog wind speed and hourly data, non logarithmic data\n",
    "bm_order = (0,1,0)\n",
    "# could choose also 24  because sun always has a daily cycle\n",
    "bm_seasonal_order = (0,0,0,24)"
   ]
  },
  {
   "cell_type": "code",
   "execution_count": 236,
   "id": "QKCulqlHl4OD",
   "metadata": {
    "id": "QKCulqlHl4OD",
    "scrolled": true
   },
   "outputs": [
    {
     "name": "stderr",
     "output_type": "stream",
     "text": [
      "/home/hauke/.pyenv/versions/3.8.6/envs/predict_energy_generation/lib/python3.8/site-packages/statsmodels/base/model.py:566: ConvergenceWarning: Maximum Likelihood optimization failed to converge. Check mle_retvals\n",
      "  warnings.warn(\"Maximum Likelihood optimization failed to \"\n"
     ]
    }
   ],
   "source": [
    "# The model\n",
    "sarimax = SARIMAX(endog=trainy2, exog=trainX2, order=bm_order, seasonal_order=bm_seasonal_order ).fit()"
   ]
  },
  {
   "cell_type": "code",
   "execution_count": 237,
   "id": "XOebZtYkl4Qk",
   "metadata": {
    "id": "XOebZtYkl4Qk"
   },
   "outputs": [],
   "source": [
    "#Forecasting\n",
    "y_pred = sarimax.forecast(testy2.shape[0], exog=testX2, alpha=0.05)"
   ]
  },
  {
   "cell_type": "markdown",
   "id": "71955dbc",
   "metadata": {},
   "source": [
    "## Unscaling results"
   ]
  },
  {
   "cell_type": "code",
   "execution_count": 238,
   "id": "91fbe664",
   "metadata": {},
   "outputs": [],
   "source": [
    "unscaling_array_2 = scaled_y[:len(scaled_y)-y_pred.shape[0]]"
   ]
  },
  {
   "cell_type": "code",
   "execution_count": 239,
   "id": "29e46139",
   "metadata": {},
   "outputs": [],
   "source": [
    "unscaling_array_tog = np.append(unscaling_array_2,y_pred.flatten().reshape(-1,1), axis=0)"
   ]
  },
  {
   "cell_type": "code",
   "execution_count": 240,
   "id": "328c96e8",
   "metadata": {},
   "outputs": [],
   "source": [
    "unscaled_results = scaler_y.inverse_transform(unscaling_array_tog)"
   ]
  },
  {
   "cell_type": "markdown",
   "id": "bf2757fb",
   "metadata": {},
   "source": [
    "## MSE & PLot of results"
   ]
  },
  {
   "cell_type": "code",
   "execution_count": 163,
   "id": "sb9RwLeu2psV",
   "metadata": {
    "id": "sb9RwLeu2psV"
   },
   "outputs": [],
   "source": [
    "def mae(y_true, y_pred):\n",
    "    y_true = np.array(y_true)\n",
    "    y_pred = np.array(y_pred)\n",
    "    return np.sum(np.abs(y_true-y_pred))/(len(y_true))\n",
    "\n",
    "def mse(y_true, y_pred):\n",
    "    y_true = np.array(y_true)\n",
    "    y_pred = np.array(y_pred)\n",
    "    return np.mean((y_true-y_pred)**2)\n",
    "\n",
    "def mean_absolute_percentage_error(y_true, y_pred):\n",
    "    y_true, y_pred = np.array(y_true), np.array(y_pred)\n",
    "    return np.mean(np.abs((y_true - y_pred) / y_true)) * 100"
   ]
  },
  {
   "cell_type": "code",
   "execution_count": 241,
   "id": "L4JmWRwRl4TY",
   "metadata": {
    "id": "L4JmWRwRl4TY"
   },
   "outputs": [],
   "source": [
    "def plot_forecast(fc, train, test, upper=None, lower=None):\n",
    "    is_confidence_int = isinstance(upper, np.ndarray) and isinstance(lower, np.ndarray)\n",
    "    # Prepare plot series\n",
    "    fc_series = pd.Series(fc, index=test.index)\n",
    "    lower_series = pd.Series(upper, index=test.index) if is_confidence_int else None\n",
    "    upper_series = pd.Series(lower, index=test.index) if is_confidence_int else None\n",
    "\n",
    "    # Plot\n",
    "    plt.figure(figsize=(20,8), dpi=100)\n",
    "    plt.plot(train, label='training', color='black')\n",
    "    plt.plot(test, label='actual', color='black', ls='--')\n",
    "    plt.plot(fc_series, label='forecast', color='orange')\n",
    "    if is_confidence_int:\n",
    "        plt.fill_between(lower_series.index, lower_series, upper_series, color='k', alpha=.15)\n",
    "    plt.title('Forecast vs Actuals')\n",
    "    plt.legend(loc='upper left', fontsize=8);"
   ]
  },
  {
   "cell_type": "code",
   "execution_count": 242,
   "id": "6f55f584",
   "metadata": {
    "scrolled": true
   },
   "outputs": [
    {
     "data": {
      "text/plain": [
       "((9331, 1), (2241, 1), (336,))"
      ]
     },
     "execution_count": 242,
     "metadata": {},
     "output_type": "execute_result"
    }
   ],
   "source": [
    "trainy.shape, valy.shape,y_pred.shape"
   ]
  },
  {
   "cell_type": "code",
   "execution_count": 243,
   "id": "7db50f8b",
   "metadata": {},
   "outputs": [
    {
     "data": {
      "image/png": "[encoded data removed]",
      "text/plain": [
       "<Figure size 2000x800 with 1 Axes>"
      ]
     },
     "metadata": {
      "needs_background": "light"
     },
     "output_type": "display_data"
    }
   ],
   "source": [
    "plot_forecast(unscaled_results[len(unscaled_results)-test_length:].flatten()\n",
    "    , solar_df[len(solar_df)-(test_length*4):len(solar_df)-test_length], solar_df[len(solar_df)-test_length:])"
   ]
  },
  {
   "cell_type": "code",
   "execution_count": 244,
   "id": "26eed9fd",
   "metadata": {},
   "outputs": [
    {
     "data": {
      "text/plain": [
       "[<matplotlib.lines.Line2D at 0x7f2cf86812b0>]"
      ]
     },
     "execution_count": 244,
     "metadata": {},
     "output_type": "execute_result"
    },
    {
     "data": {
      "image/png": "[encoded data removed]",
      "text/plain": [
       "<Figure size 432x288 with 1 Axes>"
      ]
     },
     "metadata": {
      "needs_background": "light"
     },
     "output_type": "display_data"
    }
   ],
   "source": [
    "# plotting the residuals\n",
    "\n",
    "plt.plot(solar_df[len(solar_df)-test_length:] - unscaled_results[len(unscaled_results)-test_length:].flatten())"
   ]
  },
  {
   "cell_type": "code",
   "execution_count": 245,
   "id": "a2228c4d",
   "metadata": {},
   "outputs": [
    {
     "data": {
      "text/plain": [
       "4.2182082850024436e-11"
      ]
     },
     "execution_count": 245,
     "metadata": {},
     "output_type": "execute_result"
    }
   ],
   "source": [
    "# THE MAE\n",
    "mae(solar_df[len(solar_df)-test_length:], unscaled_results[len(unscaled_results)-test_length:].flatten())"
   ]
  },
  {
   "cell_type": "code",
   "execution_count": 246,
   "id": "f0fc9a7b",
   "metadata": {},
   "outputs": [
    {
     "data": {
      "text/plain": [
       "4977.531721536351"
      ]
     },
     "execution_count": 246,
     "metadata": {},
     "output_type": "execute_result"
    }
   ],
   "source": [
    "solar_df.mean()"
   ]
  },
  {
   "cell_type": "markdown",
   "id": "e5db6426",
   "metadata": {},
   "source": [
    "Things to try out:\n",
    "Splitting onshore and offshore wind generation, vary the timeframe of wind_data, excluding a lot of timeseries and just include the most representative for the region, "
   ]
  }
 ],
 "metadata": {
  "colab": {
   "collapsed_sections": [
    "s-oWFveTxCt5",
    "zdXAIzgAAdEs"
   ],
   "name": "hauke_fock_Model_17_solar_prediction.ipynb",
   "provenance": [],
   "toc_visible": true
  },
  "kernelspec": {
   "display_name": "Python 3",
   "language": "python",
   "name": "python3"
  },
  "language_info": {
   "codemirror_mode": {
    "name": "ipython",
    "version": 3
   },
   "file_extension": ".py",
   "mimetype": "text/x-python",
   "name": "python",
   "nbconvert_exporter": "python",
   "pygments_lexer": "ipython3",
   "version": "3.8.6"
  },
  "toc": {
   "base_numbering": 1,
   "nav_menu": {},
   "number_sections": true,
   "sideBar": true,
   "skip_h1_title": false,
   "title_cell": "Table of Contents",
   "title_sidebar": "Contents",
   "toc_cell": false,
   "toc_position": {},
   "toc_section_display": true,
   "toc_window_display": false
  }
 },
 "nbformat": 4,
 "nbformat_minor": 5
}
