{
  "nbformat": 4,
  "nbformat_minor": 5,
  "metadata": {
    "accelerator": "GPU",
    "colab": {
      "name": "hauke_fock_RNN_Model_14.ipynb",
      "provenance": [],
      "collapsed_sections": [],
      "toc_visible": true
    },
    "kernelspec": {
      "display_name": "Python 3",
      "language": "python",
      "name": "python3"
    },
    "language_info": {
      "codemirror_mode": {
        "name": "ipython",
        "version": 3
      },
      "file_extension": ".py",
      "mimetype": "text/x-python",
      "name": "python",
      "nbconvert_exporter": "python",
      "pygments_lexer": "ipython3",
      "version": "3.8.6"
    },
    "toc": {
      "base_numbering": 1,
      "nav_menu": {},
      "number_sections": true,
      "sideBar": true,
      "skip_h1_title": false,
      "title_cell": "Table of Contents",
      "title_sidebar": "Contents",
      "toc_cell": false,
      "toc_position": {},
      "toc_section_display": true,
      "toc_window_display": false
    }
  },
  "cells": [
    {
      "cell_type": "code",
      "metadata": {
        "id": "0db6a35a"
      },
      "source": [
        "# **Imports**\n",
        "import pandas as pd\n",
        "import numpy as np\n",
        "import datetime as dt\n",
        "import matplotlib.pyplot as plt\n",
        "import seaborn as sns\n",
        "\n",
        "from keras.models import Sequential\n",
        "from keras import layers\n",
        "from keras.layers import Conv2D, MaxPooling2D, Flatten, Dense, TimeDistributed, RepeatVector\n",
        "from keras.layers import SimpleRNN, LSTM, GRU\n",
        "from sklearn.preprocessing import MinMaxScaler\n",
        "from keras.preprocessing.sequence import TimeseriesGenerator\n",
        "from keras.callbacks import EarlyStopping\n"
      ],
      "id": "0db6a35a",
      "execution_count": 1,
      "outputs": []
    },
    {
      "cell_type": "code",
      "metadata": {
        "colab": {
          "base_uri": "https://localhost:8080/"
        },
        "id": "e8xntP-5de8Z",
        "outputId": "b2816808-53f2-4dcd-adc8-e32020a3e093"
      },
      "source": [
        "from google.colab import drive\n",
        "drive.mount('/content/drive')"
      ],
      "id": "e8xntP-5de8Z",
      "execution_count": 3,
      "outputs": [
        {
          "output_type": "stream",
          "text": [
            "Mounted at /content/drive\n"
          ],
          "name": "stdout"
        }
      ]
    },
    {
      "cell_type": "markdown",
      "metadata": {
        "id": "d204534f"
      },
      "source": [
        "# Loading and Preparing the data"
      ],
      "id": "d204534f"
    },
    {
      "cell_type": "markdown",
      "metadata": {
        "id": "600151a4"
      },
      "source": [
        "## Loading the Data "
      ],
      "id": "600151a4"
    },
    {
      "cell_type": "code",
      "metadata": {
        "id": "j4Tgti9gVcOK",
        "colab": {
          "resources": {
            "http://localhost:8080/nbextensions/google.colab/files.js": {
              "data": "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",
              "ok": true,
              "headers": [
                [
                  "content-type",
                  "application/javascript"
                ]
              ],
              "status": 200,
              "status_text": "OK"
            }
          },
          "base_uri": "https://localhost:8080/",
          "height": 75
        },
        "outputId": "14f91bbd-9ebc-45a0-bba1-44292a49e90f"
      },
      "source": [
        "# uploading the files to GC in order to use them. If you use the file in GCP more often, use a DIFFERENT method like connecting to your Drive, like shown below.\n",
        "from google.colab import files\n",
        "uploaded1 = files.upload()"
      ],
      "id": "j4Tgti9gVcOK",
      "execution_count": 4,
      "outputs": [
        {
          "output_type": "display_data",
          "data": {
            "text/html": [
              "\n",
              "     <input type=\"file\" id=\"files-5122e641-0a6b-4d7c-b107-a318f6b92b9e\" name=\"files[]\" multiple disabled\n",
              "        style=\"border:none\" />\n",
              "     <output id=\"result-5122e641-0a6b-4d7c-b107-a318f6b92b9e\">\n",
              "      Upload widget is only available when the cell has been executed in the\n",
              "      current browser session. Please rerun this cell to enable.\n",
              "      </output>\n",
              "      <script src=\"/nbextensions/google.colab/files.js\"></script> "
            ],
            "text/plain": [
              "<IPython.core.display.HTML object>"
            ]
          },
          "metadata": {
            "tags": []
          }
        },
        {
          "output_type": "stream",
          "text": [
            "Saving df_deutschland.csv to df_deutschland.csv\n"
          ],
          "name": "stdout"
        }
      ]
    },
    {
      "cell_type": "code",
      "metadata": {
        "id": "fJnNYhZLVcXI",
        "colab": {
          "resources": {
            "http://localhost:8080/nbextensions/google.colab/files.js": {
              "data": "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",
              "ok": true,
              "headers": [
                [
                  "content-type",
                  "application/javascript"
                ]
              ],
              "status": 200,
              "status_text": "OK"
            }
          },
          "base_uri": "https://localhost:8080/",
          "height": 75
        },
        "outputId": "0282f47b-7de2-4b75-a485-91e3afb9f519"
      },
      "source": [
        "uploaded2 = files.upload()"
      ],
      "id": "fJnNYhZLVcXI",
      "execution_count": 5,
      "outputs": [
        {
          "output_type": "display_data",
          "data": {
            "text/html": [
              "\n",
              "     <input type=\"file\" id=\"files-9d550cb6-e9c4-48bc-ae82-fa41b62e68e9\" name=\"files[]\" multiple disabled\n",
              "        style=\"border:none\" />\n",
              "     <output id=\"result-9d550cb6-e9c4-48bc-ae82-fa41b62e68e9\">\n",
              "      Upload widget is only available when the cell has been executed in the\n",
              "      current browser session. Please rerun this cell to enable.\n",
              "      </output>\n",
              "      <script src=\"/nbextensions/google.colab/files.js\"></script> "
            ],
            "text/plain": [
              "<IPython.core.display.HTML object>"
            ]
          },
          "metadata": {
            "tags": []
          }
        },
        {
          "output_type": "stream",
          "text": [
            "Saving wind_hourly_clean.csv to wind_hourly_clean.csv\n"
          ],
          "name": "stdout"
        }
      ]
    },
    {
      "cell_type": "code",
      "metadata": {
        "id": "2949d9fa"
      },
      "source": [
        "local_path_target = '/mnt/g/Meine Ablage/raw_data/Target/Hourly/energy_generation_data/df_deutschland.csv'\n",
        "\n",
        "local_path_feature = \"/mnt/g/Meine Ablage/raw_data/Features/DATAFRAMES/wind_hourly_clean.csv\"\n",
        "\n",
        "#data_target = pd.read_csv('df_deutschland.csv')\n",
        "#data_feature = pd.read_csv(\"wind_hourly_clean.csv\")\n",
        "\n",
        "data_target = pd.read_csv('/content/drive/MyDrive/raw_data/Target/Hourly/energy_generation_data/df_deutschland.csv')\n",
        "data_feature = pd.read_csv('/content/drive/MyDrive/raw_data/Features/DATAFRAMES/wind_hourly_clean.csv', index_col=0)\n",
        "\n",
        "data_target['Date'] = pd.to_datetime(data_target.Date)"
      ],
      "id": "2949d9fa",
      "execution_count": 4,
      "outputs": []
    },
    {
      "cell_type": "code",
      "metadata": {
        "colab": {
          "base_uri": "https://localhost:8080/",
          "height": 175
        },
        "id": "d0133535",
        "outputId": "9df3acfc-5b13-4c33-db62-cbd0dd58805d"
      },
      "source": [
        "generation_df = data_target.groupby(by=data_target['Date']).sum()\n",
        "generation_df.head(3)"
      ],
      "id": "d0133535",
      "execution_count": 5,
      "outputs": [
        {
          "output_type": "execute_result",
          "data": {
            "text/html": [
              "<div>\n",
              "<style scoped>\n",
              "    .dataframe tbody tr th:only-of-type {\n",
              "        vertical-align: middle;\n",
              "    }\n",
              "\n",
              "    .dataframe tbody tr th {\n",
              "        vertical-align: top;\n",
              "    }\n",
              "\n",
              "    .dataframe thead th {\n",
              "        text-align: right;\n",
              "    }\n",
              "</style>\n",
              "<table border=\"1\" class=\"dataframe\">\n",
              "  <thead>\n",
              "    <tr style=\"text-align: right;\">\n",
              "      <th></th>\n",
              "      <th>Wind offshore[MWh]</th>\n",
              "      <th>Wind onshore[MWh]</th>\n",
              "      <th>Photovoltaics[MWh]</th>\n",
              "    </tr>\n",
              "    <tr>\n",
              "      <th>Date</th>\n",
              "      <th></th>\n",
              "      <th></th>\n",
              "      <th></th>\n",
              "    </tr>\n",
              "  </thead>\n",
              "  <tbody>\n",
              "    <tr>\n",
              "      <th>2015-01-01 00:00:00</th>\n",
              "      <td>517.0</td>\n",
              "      <td>8129.0</td>\n",
              "      <td>0.0</td>\n",
              "    </tr>\n",
              "    <tr>\n",
              "      <th>2015-01-01 01:00:00</th>\n",
              "      <td>516.0</td>\n",
              "      <td>8300.0</td>\n",
              "      <td>0.0</td>\n",
              "    </tr>\n",
              "    <tr>\n",
              "      <th>2015-01-01 02:00:00</th>\n",
              "      <td>514.0</td>\n",
              "      <td>8544.0</td>\n",
              "      <td>0.0</td>\n",
              "    </tr>\n",
              "  </tbody>\n",
              "</table>\n",
              "</div>"
            ],
            "text/plain": [
              "                     Wind offshore[MWh]  Wind onshore[MWh]  Photovoltaics[MWh]\n",
              "Date                                                                          \n",
              "2015-01-01 00:00:00               517.0             8129.0                 0.0\n",
              "2015-01-01 01:00:00               516.0             8300.0                 0.0\n",
              "2015-01-01 02:00:00               514.0             8544.0                 0.0"
            ]
          },
          "metadata": {
            "tags": []
          },
          "execution_count": 5
        }
      ]
    },
    {
      "cell_type": "code",
      "metadata": {
        "colab": {
          "base_uri": "https://localhost:8080/"
        },
        "id": "be12f8ab",
        "outputId": "ccb28233-6e2a-463f-8ab6-32318f1516a7"
      },
      "source": [
        "wind_df = generation_df[['Wind offshore[MWh]','Wind onshore[MWh]']].sum(axis=1)\n",
        "wind_df.head(3)"
      ],
      "id": "be12f8ab",
      "execution_count": 6,
      "outputs": [
        {
          "output_type": "execute_result",
          "data": {
            "text/plain": [
              "Date\n",
              "2015-01-01 00:00:00    8646.0\n",
              "2015-01-01 01:00:00    8816.0\n",
              "2015-01-01 02:00:00    9058.0\n",
              "dtype: float64"
            ]
          },
          "metadata": {
            "tags": []
          },
          "execution_count": 6
        }
      ]
    },
    {
      "cell_type": "code",
      "metadata": {
        "colab": {
          "base_uri": "https://localhost:8080/",
          "height": 276
        },
        "id": "65489258",
        "outputId": "32e6f74a-7e49-4c70-f7ce-d642a63fa475"
      },
      "source": [
        "data_feature.index = pd.to_datetime(data_feature.index)\n",
        "data_feature.head(3)"
      ],
      "id": "65489258",
      "execution_count": 7,
      "outputs": [
        {
          "output_type": "execute_result",
          "data": {
            "text/html": [
              "<div>\n",
              "<style scoped>\n",
              "    .dataframe tbody tr th:only-of-type {\n",
              "        vertical-align: middle;\n",
              "    }\n",
              "\n",
              "    .dataframe tbody tr th {\n",
              "        vertical-align: top;\n",
              "    }\n",
              "\n",
              "    .dataframe thead th {\n",
              "        text-align: right;\n",
              "    }\n",
              "</style>\n",
              "<table border=\"1\" class=\"dataframe\">\n",
              "  <thead>\n",
              "    <tr style=\"text-align: right;\">\n",
              "      <th></th>\n",
              "      <th>90</th>\n",
              "      <th>125</th>\n",
              "      <th>161</th>\n",
              "      <th>164</th>\n",
              "      <th>183</th>\n",
              "      <th>197</th>\n",
              "      <th>198</th>\n",
              "      <th>232</th>\n",
              "      <th>282</th>\n",
              "      <th>298</th>\n",
              "      <th>303</th>\n",
              "      <th>342</th>\n",
              "      <th>368</th>\n",
              "      <th>427</th>\n",
              "      <th>430</th>\n",
              "      <th>433</th>\n",
              "      <th>460</th>\n",
              "      <th>591</th>\n",
              "      <th>596</th>\n",
              "      <th>603</th>\n",
              "      <th>642</th>\n",
              "      <th>656</th>\n",
              "      <th>662</th>\n",
              "      <th>691</th>\n",
              "      <th>701</th>\n",
              "      <th>704</th>\n",
              "      <th>722</th>\n",
              "      <th>788</th>\n",
              "      <th>840</th>\n",
              "      <th>853</th>\n",
              "      <th>856</th>\n",
              "      <th>867</th>\n",
              "      <th>880</th>\n",
              "      <th>891</th>\n",
              "      <th>953</th>\n",
              "      <th>963</th>\n",
              "      <th>1048</th>\n",
              "      <th>1078</th>\n",
              "      <th>1200</th>\n",
              "      <th>1262</th>\n",
              "      <th>...</th>\n",
              "      <th>6211</th>\n",
              "      <th>6253</th>\n",
              "      <th>6314</th>\n",
              "      <th>7341</th>\n",
              "      <th>7351</th>\n",
              "      <th>7367</th>\n",
              "      <th>7368</th>\n",
              "      <th>7369</th>\n",
              "      <th>7370</th>\n",
              "      <th>7374</th>\n",
              "      <th>7389</th>\n",
              "      <th>7391</th>\n",
              "      <th>7392</th>\n",
              "      <th>7393</th>\n",
              "      <th>7394</th>\n",
              "      <th>7395</th>\n",
              "      <th>7396</th>\n",
              "      <th>7403</th>\n",
              "      <th>7410</th>\n",
              "      <th>7412</th>\n",
              "      <th>7416</th>\n",
              "      <th>10510</th>\n",
              "      <th>13674</th>\n",
              "      <th>13676</th>\n",
              "      <th>13693</th>\n",
              "      <th>13701</th>\n",
              "      <th>13901</th>\n",
              "      <th>13932</th>\n",
              "      <th>13952</th>\n",
              "      <th>13965</th>\n",
              "      <th>15000</th>\n",
              "      <th>15044</th>\n",
              "      <th>15120</th>\n",
              "      <th>15122</th>\n",
              "      <th>15189</th>\n",
              "      <th>15200</th>\n",
              "      <th>15207</th>\n",
              "      <th>15214</th>\n",
              "      <th>15444</th>\n",
              "      <th>1001</th>\n",
              "    </tr>\n",
              "    <tr>\n",
              "      <th>Date</th>\n",
              "      <th></th>\n",
              "      <th></th>\n",
              "      <th></th>\n",
              "      <th></th>\n",
              "      <th></th>\n",
              "      <th></th>\n",
              "      <th></th>\n",
              "      <th></th>\n",
              "      <th></th>\n",
              "      <th></th>\n",
              "      <th></th>\n",
              "      <th></th>\n",
              "      <th></th>\n",
              "      <th></th>\n",
              "      <th></th>\n",
              "      <th></th>\n",
              "      <th></th>\n",
              "      <th></th>\n",
              "      <th></th>\n",
              "      <th></th>\n",
              "      <th></th>\n",
              "      <th></th>\n",
              "      <th></th>\n",
              "      <th></th>\n",
              "      <th></th>\n",
              "      <th></th>\n",
              "      <th></th>\n",
              "      <th></th>\n",
              "      <th></th>\n",
              "      <th></th>\n",
              "      <th></th>\n",
              "      <th></th>\n",
              "      <th></th>\n",
              "      <th></th>\n",
              "      <th></th>\n",
              "      <th></th>\n",
              "      <th></th>\n",
              "      <th></th>\n",
              "      <th></th>\n",
              "      <th></th>\n",
              "      <th></th>\n",
              "      <th></th>\n",
              "      <th></th>\n",
              "      <th></th>\n",
              "      <th></th>\n",
              "      <th></th>\n",
              "      <th></th>\n",
              "      <th></th>\n",
              "      <th></th>\n",
              "      <th></th>\n",
              "      <th></th>\n",
              "      <th></th>\n",
              "      <th></th>\n",
              "      <th></th>\n",
              "      <th></th>\n",
              "      <th></th>\n",
              "      <th></th>\n",
              "      <th></th>\n",
              "      <th></th>\n",
              "      <th></th>\n",
              "      <th></th>\n",
              "      <th></th>\n",
              "      <th></th>\n",
              "      <th></th>\n",
              "      <th></th>\n",
              "      <th></th>\n",
              "      <th></th>\n",
              "      <th></th>\n",
              "      <th></th>\n",
              "      <th></th>\n",
              "      <th></th>\n",
              "      <th></th>\n",
              "      <th></th>\n",
              "      <th></th>\n",
              "      <th></th>\n",
              "      <th></th>\n",
              "      <th></th>\n",
              "      <th></th>\n",
              "      <th></th>\n",
              "      <th></th>\n",
              "      <th></th>\n",
              "    </tr>\n",
              "  </thead>\n",
              "  <tbody>\n",
              "    <tr>\n",
              "      <th>2015-01-01 00:00:00</th>\n",
              "      <td>2.1</td>\n",
              "      <td>0.7</td>\n",
              "      <td>0.9</td>\n",
              "      <td>5.1</td>\n",
              "      <td>11.3</td>\n",
              "      <td>3.2</td>\n",
              "      <td>1.6</td>\n",
              "      <td>1.1</td>\n",
              "      <td>0.7</td>\n",
              "      <td>7.0</td>\n",
              "      <td>4.9</td>\n",
              "      <td>3.9</td>\n",
              "      <td>1.4</td>\n",
              "      <td>4.2</td>\n",
              "      <td>3.5</td>\n",
              "      <td>4.6</td>\n",
              "      <td>1.8</td>\n",
              "      <td>5.1</td>\n",
              "      <td>8.8</td>\n",
              "      <td>0.8</td>\n",
              "      <td>2.8</td>\n",
              "      <td>2.5</td>\n",
              "      <td>3.8</td>\n",
              "      <td>3.4</td>\n",
              "      <td>5.0</td>\n",
              "      <td>3.7</td>\n",
              "      <td>13.5</td>\n",
              "      <td>10.6</td>\n",
              "      <td>1.4</td>\n",
              "      <td>3.2</td>\n",
              "      <td>0.8</td>\n",
              "      <td>1.0</td>\n",
              "      <td>2.3</td>\n",
              "      <td>6.4</td>\n",
              "      <td>3.5</td>\n",
              "      <td>3.3</td>\n",
              "      <td>2.2</td>\n",
              "      <td>2.8</td>\n",
              "      <td>7.5</td>\n",
              "      <td>2.1</td>\n",
              "      <td>...</td>\n",
              "      <td>0.5</td>\n",
              "      <td>2.8</td>\n",
              "      <td>3.8</td>\n",
              "      <td>1.3</td>\n",
              "      <td>5.5</td>\n",
              "      <td>3.4</td>\n",
              "      <td>3.0</td>\n",
              "      <td>1.6</td>\n",
              "      <td>1.7</td>\n",
              "      <td>3.0</td>\n",
              "      <td>5.1</td>\n",
              "      <td>0.4</td>\n",
              "      <td>0.8</td>\n",
              "      <td>2.9</td>\n",
              "      <td>3.0</td>\n",
              "      <td>1.7</td>\n",
              "      <td>5.0</td>\n",
              "      <td>0.6</td>\n",
              "      <td>3.5</td>\n",
              "      <td>2.0</td>\n",
              "      <td>2.4</td>\n",
              "      <td>1.0</td>\n",
              "      <td>0.5</td>\n",
              "      <td>1.0</td>\n",
              "      <td>2.4</td>\n",
              "      <td>0.6</td>\n",
              "      <td>1.0</td>\n",
              "      <td>0.9</td>\n",
              "      <td>3.2</td>\n",
              "      <td>1.0</td>\n",
              "      <td>3.9</td>\n",
              "      <td>0.8</td>\n",
              "      <td>4.9</td>\n",
              "      <td>3.2</td>\n",
              "      <td>4.4</td>\n",
              "      <td>3.0</td>\n",
              "      <td>0.5</td>\n",
              "      <td>1.2</td>\n",
              "      <td>1.0</td>\n",
              "      <td>2.2</td>\n",
              "    </tr>\n",
              "    <tr>\n",
              "      <th>2015-01-01 01:00:00</th>\n",
              "      <td>2.7</td>\n",
              "      <td>0.3</td>\n",
              "      <td>0.8</td>\n",
              "      <td>4.9</td>\n",
              "      <td>13.0</td>\n",
              "      <td>3.2</td>\n",
              "      <td>2.6</td>\n",
              "      <td>1.5</td>\n",
              "      <td>0.9</td>\n",
              "      <td>7.4</td>\n",
              "      <td>4.4</td>\n",
              "      <td>3.2</td>\n",
              "      <td>1.7</td>\n",
              "      <td>4.5</td>\n",
              "      <td>3.6</td>\n",
              "      <td>4.3</td>\n",
              "      <td>1.5</td>\n",
              "      <td>5.4</td>\n",
              "      <td>7.8</td>\n",
              "      <td>1.6</td>\n",
              "      <td>3.3</td>\n",
              "      <td>1.8</td>\n",
              "      <td>3.7</td>\n",
              "      <td>2.6</td>\n",
              "      <td>5.6</td>\n",
              "      <td>3.5</td>\n",
              "      <td>14.7</td>\n",
              "      <td>10.8</td>\n",
              "      <td>1.1</td>\n",
              "      <td>3.3</td>\n",
              "      <td>1.6</td>\n",
              "      <td>0.8</td>\n",
              "      <td>2.6</td>\n",
              "      <td>6.2</td>\n",
              "      <td>0.4</td>\n",
              "      <td>3.6</td>\n",
              "      <td>2.9</td>\n",
              "      <td>3.2</td>\n",
              "      <td>8.0</td>\n",
              "      <td>2.2</td>\n",
              "      <td>...</td>\n",
              "      <td>0.9</td>\n",
              "      <td>3.3</td>\n",
              "      <td>3.9</td>\n",
              "      <td>1.3</td>\n",
              "      <td>6.1</td>\n",
              "      <td>2.5</td>\n",
              "      <td>2.7</td>\n",
              "      <td>1.9</td>\n",
              "      <td>1.6</td>\n",
              "      <td>2.4</td>\n",
              "      <td>4.1</td>\n",
              "      <td>0.4</td>\n",
              "      <td>0.5</td>\n",
              "      <td>4.3</td>\n",
              "      <td>3.3</td>\n",
              "      <td>1.0</td>\n",
              "      <td>4.5</td>\n",
              "      <td>0.3</td>\n",
              "      <td>3.4</td>\n",
              "      <td>2.0</td>\n",
              "      <td>3.5</td>\n",
              "      <td>0.4</td>\n",
              "      <td>0.8</td>\n",
              "      <td>1.5</td>\n",
              "      <td>2.4</td>\n",
              "      <td>0.9</td>\n",
              "      <td>0.5</td>\n",
              "      <td>1.1</td>\n",
              "      <td>3.4</td>\n",
              "      <td>1.2</td>\n",
              "      <td>3.4</td>\n",
              "      <td>0.7</td>\n",
              "      <td>5.3</td>\n",
              "      <td>2.6</td>\n",
              "      <td>6.0</td>\n",
              "      <td>2.8</td>\n",
              "      <td>0.8</td>\n",
              "      <td>1.1</td>\n",
              "      <td>1.0</td>\n",
              "      <td>2.5</td>\n",
              "    </tr>\n",
              "    <tr>\n",
              "      <th>2015-01-01 02:00:00</th>\n",
              "      <td>2.5</td>\n",
              "      <td>0.8</td>\n",
              "      <td>1.3</td>\n",
              "      <td>3.9</td>\n",
              "      <td>12.8</td>\n",
              "      <td>3.2</td>\n",
              "      <td>3.2</td>\n",
              "      <td>1.7</td>\n",
              "      <td>0.9</td>\n",
              "      <td>7.1</td>\n",
              "      <td>4.5</td>\n",
              "      <td>3.4</td>\n",
              "      <td>1.8</td>\n",
              "      <td>4.4</td>\n",
              "      <td>3.8</td>\n",
              "      <td>4.4</td>\n",
              "      <td>1.4</td>\n",
              "      <td>5.0</td>\n",
              "      <td>7.1</td>\n",
              "      <td>1.9</td>\n",
              "      <td>3.7</td>\n",
              "      <td>3.2</td>\n",
              "      <td>3.7</td>\n",
              "      <td>3.1</td>\n",
              "      <td>5.8</td>\n",
              "      <td>3.9</td>\n",
              "      <td>13.6</td>\n",
              "      <td>11.3</td>\n",
              "      <td>1.4</td>\n",
              "      <td>3.3</td>\n",
              "      <td>1.2</td>\n",
              "      <td>0.6</td>\n",
              "      <td>2.4</td>\n",
              "      <td>5.6</td>\n",
              "      <td>0.7</td>\n",
              "      <td>4.6</td>\n",
              "      <td>2.8</td>\n",
              "      <td>2.6</td>\n",
              "      <td>8.3</td>\n",
              "      <td>1.1</td>\n",
              "      <td>...</td>\n",
              "      <td>1.1</td>\n",
              "      <td>3.3</td>\n",
              "      <td>3.7</td>\n",
              "      <td>1.1</td>\n",
              "      <td>5.5</td>\n",
              "      <td>1.8</td>\n",
              "      <td>3.6</td>\n",
              "      <td>1.5</td>\n",
              "      <td>1.4</td>\n",
              "      <td>3.2</td>\n",
              "      <td>4.5</td>\n",
              "      <td>0.7</td>\n",
              "      <td>0.8</td>\n",
              "      <td>4.3</td>\n",
              "      <td>3.2</td>\n",
              "      <td>1.6</td>\n",
              "      <td>4.7</td>\n",
              "      <td>0.4</td>\n",
              "      <td>2.8</td>\n",
              "      <td>2.0</td>\n",
              "      <td>3.7</td>\n",
              "      <td>0.7</td>\n",
              "      <td>0.6</td>\n",
              "      <td>1.5</td>\n",
              "      <td>2.0</td>\n",
              "      <td>1.2</td>\n",
              "      <td>0.7</td>\n",
              "      <td>1.1</td>\n",
              "      <td>3.9</td>\n",
              "      <td>1.8</td>\n",
              "      <td>3.8</td>\n",
              "      <td>1.3</td>\n",
              "      <td>4.8</td>\n",
              "      <td>2.3</td>\n",
              "      <td>5.7</td>\n",
              "      <td>3.1</td>\n",
              "      <td>0.5</td>\n",
              "      <td>1.8</td>\n",
              "      <td>1.2</td>\n",
              "      <td>2.6</td>\n",
              "    </tr>\n",
              "  </tbody>\n",
              "</table>\n",
              "<p>3 rows × 260 columns</p>\n",
              "</div>"
            ],
            "text/plain": [
              "                      90  125  161  164   183  ...  15200  15207  15214  15444  1001\n",
              "Date                                           ...                                  \n",
              "2015-01-01 00:00:00  2.1  0.7  0.9  5.1  11.3  ...    3.0    0.5    1.2    1.0   2.2\n",
              "2015-01-01 01:00:00  2.7  0.3  0.8  4.9  13.0  ...    2.8    0.8    1.1    1.0   2.5\n",
              "2015-01-01 02:00:00  2.5  0.8  1.3  3.9  12.8  ...    3.1    0.5    1.8    1.2   2.6\n",
              "\n",
              "[3 rows x 260 columns]"
            ]
          },
          "metadata": {
            "tags": []
          },
          "execution_count": 7
        }
      ]
    },
    {
      "cell_type": "markdown",
      "metadata": {
        "id": "BGjpy7nAacx-"
      },
      "source": [
        "## Preparing the Data\n",
        "\n",
        "\n"
      ],
      "id": "BGjpy7nAacx-"
    },
    {
      "cell_type": "markdown",
      "metadata": {
        "id": "rICAARFU6QMw"
      },
      "source": [
        "### Concatenating the Data"
      ],
      "id": "rICAARFU6QMw"
    },
    {
      "cell_type": "code",
      "metadata": {
        "id": "E0-ceBNAe6CX"
      },
      "source": [
        "df_feat_corr = data_feature\n",
        "df_feat_corr.drop(df_feat_corr.tail(2856).index,inplace = True)"
      ],
      "id": "E0-ceBNAe6CX",
      "execution_count": 8,
      "outputs": []
    },
    {
      "cell_type": "code",
      "metadata": {
        "colab": {
          "base_uri": "https://localhost:8080/"
        },
        "id": "e41e4d3a",
        "outputId": "cf7f3b97-96c0-4234-91d3-f2454b36d508"
      },
      "source": [
        "# Building one DataFrame to make the correlation Analysis\n",
        "\n",
        "complete_df = pd.concat([wind_df, df_feat_corr.set_index(wind_df.index)], axis=1)\n",
        "complete_df.shape"
      ],
      "id": "e41e4d3a",
      "execution_count": 9,
      "outputs": [
        {
          "output_type": "execute_result",
          "data": {
            "text/plain": [
              "(52632, 261)"
            ]
          },
          "metadata": {
            "tags": []
          },
          "execution_count": 9
        }
      ]
    },
    {
      "cell_type": "markdown",
      "metadata": {
        "id": "f6j3BNTY5UMO"
      },
      "source": [
        "### Filtering the data with highly correlated timeseries"
      ],
      "id": "f6j3BNTY5UMO"
    },
    {
      "cell_type": "code",
      "metadata": {
        "id": "NpxfddANtPOQ"
      },
      "source": [
        "# Correlation Analysis\n",
        "#complete_df.corr()"
      ],
      "id": "NpxfddANtPOQ",
      "execution_count": 10,
      "outputs": []
    },
    {
      "cell_type": "code",
      "metadata": {
        "id": "ZLYLhzacvAQD"
      },
      "source": [
        "df_corr = complete_df.corr().abs()"
      ],
      "id": "ZLYLhzacvAQD",
      "execution_count": 11,
      "outputs": []
    },
    {
      "cell_type": "code",
      "metadata": {
        "id": "6UAjPQhxyUXq"
      },
      "source": [
        "sorted_corr = df_corr[0].sort_values(ascending=False)\n",
        "pd.DataFrame(sorted_corr);"
      ],
      "id": "6UAjPQhxyUXq",
      "execution_count": 12,
      "outputs": []
    },
    {
      "cell_type": "code",
      "metadata": {
        "id": "mEWBXdKs1R7Z"
      },
      "source": [
        "list_of_corr_060 = list(sorted_corr[sorted_corr >= 0.6].index)"
      ],
      "id": "mEWBXdKs1R7Z",
      "execution_count": 23,
      "outputs": []
    },
    {
      "cell_type": "code",
      "metadata": {
        "id": "eBRhv3JJ4i0f"
      },
      "source": [
        "filtered_df = complete_df[list_of_corr_060]"
      ],
      "id": "eBRhv3JJ4i0f",
      "execution_count": 24,
      "outputs": []
    },
    {
      "cell_type": "code",
      "metadata": {
        "colab": {
          "base_uri": "https://localhost:8080/",
          "height": 649
        },
        "id": "3hoixQngF2pK",
        "outputId": "1afea328-3622-48aa-b588-f03fefce2ec6"
      },
      "source": [
        "filtered_df"
      ],
      "id": "3hoixQngF2pK",
      "execution_count": 25,
      "outputs": [
        {
          "output_type": "execute_result",
          "data": {
            "text/html": [
              "<div>\n",
              "<style scoped>\n",
              "    .dataframe tbody tr th:only-of-type {\n",
              "        vertical-align: middle;\n",
              "    }\n",
              "\n",
              "    .dataframe tbody tr th {\n",
              "        vertical-align: top;\n",
              "    }\n",
              "\n",
              "    .dataframe thead th {\n",
              "        text-align: right;\n",
              "    }\n",
              "</style>\n",
              "<table border=\"1\" class=\"dataframe\">\n",
              "  <thead>\n",
              "    <tr style=\"text-align: right;\">\n",
              "      <th></th>\n",
              "      <th>0</th>\n",
              "      <th>722</th>\n",
              "      <th>2483</th>\n",
              "      <th>2932</th>\n",
              "      <th>1503</th>\n",
              "      <th>6091</th>\n",
              "      <th>5715</th>\n",
              "      <th>342</th>\n",
              "      <th>1270</th>\n",
              "      <th>963</th>\n",
              "      <th>691</th>\n",
              "      <th>15120</th>\n",
              "      <th>6108</th>\n",
              "      <th>1358</th>\n",
              "      <th>704</th>\n",
              "      <th>3987</th>\n",
              "      <th>7396</th>\n",
              "      <th>788</th>\n",
              "      <th>5480</th>\n",
              "      <th>2856</th>\n",
              "      <th>1612</th>\n",
              "      <th>2014</th>\n",
              "      <th>2961</th>\n",
              "      <th>701</th>\n",
              "      <th>2044</th>\n",
              "      <th>3126</th>\n",
              "      <th>853</th>\n",
              "      <th>6101</th>\n",
              "      <th>6314</th>\n",
              "      <th>3513</th>\n",
              "      <th>7374</th>\n",
              "      <th>1200</th>\n",
              "      <th>4745</th>\n",
              "      <th>1766</th>\n",
              "      <th>5640</th>\n",
              "      <th>6163</th>\n",
              "      <th>4947</th>\n",
              "      <th>4393</th>\n",
              "      <th>13693</th>\n",
              "      <th>5158</th>\n",
              "      <th>...</th>\n",
              "      <th>4036</th>\n",
              "      <th>6106</th>\n",
              "      <th>3631</th>\n",
              "      <th>3811</th>\n",
              "      <th>1869</th>\n",
              "      <th>5546</th>\n",
              "      <th>1691</th>\n",
              "      <th>3158</th>\n",
              "      <th>5426</th>\n",
              "      <th>1048</th>\n",
              "      <th>5490</th>\n",
              "      <th>3821</th>\n",
              "      <th>880</th>\n",
              "      <th>5347</th>\n",
              "      <th>3028</th>\n",
              "      <th>1832</th>\n",
              "      <th>2925</th>\n",
              "      <th>3897</th>\n",
              "      <th>3651</th>\n",
              "      <th>4466</th>\n",
              "      <th>1078</th>\n",
              "      <th>15189</th>\n",
              "      <th>2907</th>\n",
              "      <th>198</th>\n",
              "      <th>1694</th>\n",
              "      <th>7389</th>\n",
              "      <th>1803</th>\n",
              "      <th>5142</th>\n",
              "      <th>2315</th>\n",
              "      <th>2261</th>\n",
              "      <th>840</th>\n",
              "      <th>1684</th>\n",
              "      <th>7351</th>\n",
              "      <th>1303</th>\n",
              "      <th>368</th>\n",
              "      <th>3623</th>\n",
              "      <th>596</th>\n",
              "      <th>4642</th>\n",
              "      <th>3287</th>\n",
              "      <th>2171</th>\n",
              "    </tr>\n",
              "    <tr>\n",
              "      <th>Date</th>\n",
              "      <th></th>\n",
              "      <th></th>\n",
              "      <th></th>\n",
              "      <th></th>\n",
              "      <th></th>\n",
              "      <th></th>\n",
              "      <th></th>\n",
              "      <th></th>\n",
              "      <th></th>\n",
              "      <th></th>\n",
              "      <th></th>\n",
              "      <th></th>\n",
              "      <th></th>\n",
              "      <th></th>\n",
              "      <th></th>\n",
              "      <th></th>\n",
              "      <th></th>\n",
              "      <th></th>\n",
              "      <th></th>\n",
              "      <th></th>\n",
              "      <th></th>\n",
              "      <th></th>\n",
              "      <th></th>\n",
              "      <th></th>\n",
              "      <th></th>\n",
              "      <th></th>\n",
              "      <th></th>\n",
              "      <th></th>\n",
              "      <th></th>\n",
              "      <th></th>\n",
              "      <th></th>\n",
              "      <th></th>\n",
              "      <th></th>\n",
              "      <th></th>\n",
              "      <th></th>\n",
              "      <th></th>\n",
              "      <th></th>\n",
              "      <th></th>\n",
              "      <th></th>\n",
              "      <th></th>\n",
              "      <th></th>\n",
              "      <th></th>\n",
              "      <th></th>\n",
              "      <th></th>\n",
              "      <th></th>\n",
              "      <th></th>\n",
              "      <th></th>\n",
              "      <th></th>\n",
              "      <th></th>\n",
              "      <th></th>\n",
              "      <th></th>\n",
              "      <th></th>\n",
              "      <th></th>\n",
              "      <th></th>\n",
              "      <th></th>\n",
              "      <th></th>\n",
              "      <th></th>\n",
              "      <th></th>\n",
              "      <th></th>\n",
              "      <th></th>\n",
              "      <th></th>\n",
              "      <th></th>\n",
              "      <th></th>\n",
              "      <th></th>\n",
              "      <th></th>\n",
              "      <th></th>\n",
              "      <th></th>\n",
              "      <th></th>\n",
              "      <th></th>\n",
              "      <th></th>\n",
              "      <th></th>\n",
              "      <th></th>\n",
              "      <th></th>\n",
              "      <th></th>\n",
              "      <th></th>\n",
              "      <th></th>\n",
              "      <th></th>\n",
              "      <th></th>\n",
              "      <th></th>\n",
              "      <th></th>\n",
              "      <th></th>\n",
              "    </tr>\n",
              "  </thead>\n",
              "  <tbody>\n",
              "    <tr>\n",
              "      <th>2015-01-01 00:00:00</th>\n",
              "      <td>8646.0</td>\n",
              "      <td>13.5</td>\n",
              "      <td>7.6</td>\n",
              "      <td>3.4</td>\n",
              "      <td>3.3</td>\n",
              "      <td>6.9</td>\n",
              "      <td>4.1</td>\n",
              "      <td>3.9</td>\n",
              "      <td>4.0</td>\n",
              "      <td>3.3</td>\n",
              "      <td>3.4</td>\n",
              "      <td>4.9</td>\n",
              "      <td>5.9</td>\n",
              "      <td>10.8</td>\n",
              "      <td>3.7</td>\n",
              "      <td>5.6</td>\n",
              "      <td>5.0</td>\n",
              "      <td>10.6</td>\n",
              "      <td>2.7</td>\n",
              "      <td>2.4</td>\n",
              "      <td>2.7</td>\n",
              "      <td>3.8</td>\n",
              "      <td>11.3</td>\n",
              "      <td>5.0</td>\n",
              "      <td>3.2</td>\n",
              "      <td>2.8</td>\n",
              "      <td>3.2</td>\n",
              "      <td>8.4</td>\n",
              "      <td>3.8</td>\n",
              "      <td>2.7</td>\n",
              "      <td>3.0</td>\n",
              "      <td>7.5</td>\n",
              "      <td>4.3</td>\n",
              "      <td>2.1</td>\n",
              "      <td>4.0</td>\n",
              "      <td>6.2</td>\n",
              "      <td>4.9</td>\n",
              "      <td>8.1</td>\n",
              "      <td>2.4</td>\n",
              "      <td>6.9</td>\n",
              "      <td>...</td>\n",
              "      <td>6.2</td>\n",
              "      <td>3.4</td>\n",
              "      <td>6.9</td>\n",
              "      <td>3.8</td>\n",
              "      <td>5.3</td>\n",
              "      <td>5.4</td>\n",
              "      <td>1.7</td>\n",
              "      <td>3.3</td>\n",
              "      <td>3.3</td>\n",
              "      <td>2.2</td>\n",
              "      <td>3.3</td>\n",
              "      <td>1.5</td>\n",
              "      <td>2.3</td>\n",
              "      <td>1.5</td>\n",
              "      <td>2.0</td>\n",
              "      <td>5.9</td>\n",
              "      <td>2.0</td>\n",
              "      <td>4.6</td>\n",
              "      <td>0.8</td>\n",
              "      <td>5.3</td>\n",
              "      <td>2.8</td>\n",
              "      <td>4.4</td>\n",
              "      <td>6.2</td>\n",
              "      <td>1.6</td>\n",
              "      <td>3.4</td>\n",
              "      <td>5.1</td>\n",
              "      <td>5.3</td>\n",
              "      <td>4.0</td>\n",
              "      <td>3.6</td>\n",
              "      <td>2.6</td>\n",
              "      <td>1.4</td>\n",
              "      <td>2.9</td>\n",
              "      <td>5.5</td>\n",
              "      <td>3.2</td>\n",
              "      <td>1.4</td>\n",
              "      <td>0.6</td>\n",
              "      <td>8.8</td>\n",
              "      <td>4.7</td>\n",
              "      <td>2.1</td>\n",
              "      <td>2.0</td>\n",
              "    </tr>\n",
              "    <tr>\n",
              "      <th>2015-01-01 01:00:00</th>\n",
              "      <td>8816.0</td>\n",
              "      <td>14.7</td>\n",
              "      <td>6.7</td>\n",
              "      <td>3.1</td>\n",
              "      <td>4.0</td>\n",
              "      <td>6.9</td>\n",
              "      <td>4.0</td>\n",
              "      <td>3.2</td>\n",
              "      <td>4.1</td>\n",
              "      <td>3.6</td>\n",
              "      <td>2.6</td>\n",
              "      <td>5.3</td>\n",
              "      <td>5.1</td>\n",
              "      <td>8.4</td>\n",
              "      <td>3.5</td>\n",
              "      <td>5.5</td>\n",
              "      <td>4.5</td>\n",
              "      <td>10.8</td>\n",
              "      <td>2.5</td>\n",
              "      <td>2.4</td>\n",
              "      <td>3.1</td>\n",
              "      <td>3.7</td>\n",
              "      <td>10.9</td>\n",
              "      <td>5.6</td>\n",
              "      <td>3.4</td>\n",
              "      <td>2.6</td>\n",
              "      <td>3.3</td>\n",
              "      <td>7.6</td>\n",
              "      <td>3.9</td>\n",
              "      <td>2.5</td>\n",
              "      <td>2.4</td>\n",
              "      <td>8.0</td>\n",
              "      <td>3.7</td>\n",
              "      <td>2.2</td>\n",
              "      <td>4.0</td>\n",
              "      <td>5.6</td>\n",
              "      <td>4.1</td>\n",
              "      <td>7.8</td>\n",
              "      <td>2.4</td>\n",
              "      <td>5.2</td>\n",
              "      <td>...</td>\n",
              "      <td>6.0</td>\n",
              "      <td>4.4</td>\n",
              "      <td>6.3</td>\n",
              "      <td>3.1</td>\n",
              "      <td>4.6</td>\n",
              "      <td>5.0</td>\n",
              "      <td>1.5</td>\n",
              "      <td>3.6</td>\n",
              "      <td>3.3</td>\n",
              "      <td>2.9</td>\n",
              "      <td>3.4</td>\n",
              "      <td>1.9</td>\n",
              "      <td>2.6</td>\n",
              "      <td>2.4</td>\n",
              "      <td>1.9</td>\n",
              "      <td>5.9</td>\n",
              "      <td>2.5</td>\n",
              "      <td>4.5</td>\n",
              "      <td>0.9</td>\n",
              "      <td>5.0</td>\n",
              "      <td>3.2</td>\n",
              "      <td>6.0</td>\n",
              "      <td>6.1</td>\n",
              "      <td>2.6</td>\n",
              "      <td>4.2</td>\n",
              "      <td>4.1</td>\n",
              "      <td>5.6</td>\n",
              "      <td>3.6</td>\n",
              "      <td>4.0</td>\n",
              "      <td>3.0</td>\n",
              "      <td>1.1</td>\n",
              "      <td>3.3</td>\n",
              "      <td>6.1</td>\n",
              "      <td>3.3</td>\n",
              "      <td>1.7</td>\n",
              "      <td>0.7</td>\n",
              "      <td>7.8</td>\n",
              "      <td>4.9</td>\n",
              "      <td>2.1</td>\n",
              "      <td>1.9</td>\n",
              "    </tr>\n",
              "    <tr>\n",
              "      <th>2015-01-01 02:00:00</th>\n",
              "      <td>9058.0</td>\n",
              "      <td>13.6</td>\n",
              "      <td>6.9</td>\n",
              "      <td>4.0</td>\n",
              "      <td>4.4</td>\n",
              "      <td>6.9</td>\n",
              "      <td>4.8</td>\n",
              "      <td>3.4</td>\n",
              "      <td>4.3</td>\n",
              "      <td>4.6</td>\n",
              "      <td>3.1</td>\n",
              "      <td>4.8</td>\n",
              "      <td>4.9</td>\n",
              "      <td>6.8</td>\n",
              "      <td>3.9</td>\n",
              "      <td>5.5</td>\n",
              "      <td>4.7</td>\n",
              "      <td>11.3</td>\n",
              "      <td>2.8</td>\n",
              "      <td>2.9</td>\n",
              "      <td>3.2</td>\n",
              "      <td>3.6</td>\n",
              "      <td>8.6</td>\n",
              "      <td>5.8</td>\n",
              "      <td>2.9</td>\n",
              "      <td>3.0</td>\n",
              "      <td>3.3</td>\n",
              "      <td>8.8</td>\n",
              "      <td>3.7</td>\n",
              "      <td>2.5</td>\n",
              "      <td>3.2</td>\n",
              "      <td>8.3</td>\n",
              "      <td>2.8</td>\n",
              "      <td>2.5</td>\n",
              "      <td>5.3</td>\n",
              "      <td>5.2</td>\n",
              "      <td>4.8</td>\n",
              "      <td>8.4</td>\n",
              "      <td>2.0</td>\n",
              "      <td>5.9</td>\n",
              "      <td>...</td>\n",
              "      <td>7.1</td>\n",
              "      <td>5.7</td>\n",
              "      <td>5.8</td>\n",
              "      <td>2.8</td>\n",
              "      <td>5.4</td>\n",
              "      <td>4.9</td>\n",
              "      <td>1.8</td>\n",
              "      <td>2.9</td>\n",
              "      <td>3.3</td>\n",
              "      <td>2.8</td>\n",
              "      <td>5.1</td>\n",
              "      <td>1.9</td>\n",
              "      <td>2.4</td>\n",
              "      <td>2.0</td>\n",
              "      <td>1.5</td>\n",
              "      <td>5.9</td>\n",
              "      <td>2.5</td>\n",
              "      <td>5.2</td>\n",
              "      <td>1.8</td>\n",
              "      <td>5.5</td>\n",
              "      <td>2.6</td>\n",
              "      <td>5.7</td>\n",
              "      <td>6.7</td>\n",
              "      <td>3.2</td>\n",
              "      <td>3.8</td>\n",
              "      <td>4.5</td>\n",
              "      <td>5.5</td>\n",
              "      <td>3.5</td>\n",
              "      <td>3.5</td>\n",
              "      <td>2.3</td>\n",
              "      <td>1.4</td>\n",
              "      <td>2.7</td>\n",
              "      <td>5.5</td>\n",
              "      <td>3.0</td>\n",
              "      <td>1.8</td>\n",
              "      <td>1.2</td>\n",
              "      <td>7.1</td>\n",
              "      <td>4.9</td>\n",
              "      <td>2.1</td>\n",
              "      <td>2.1</td>\n",
              "    </tr>\n",
              "    <tr>\n",
              "      <th>2015-01-01 03:00:00</th>\n",
              "      <td>9071.0</td>\n",
              "      <td>13.0</td>\n",
              "      <td>7.2</td>\n",
              "      <td>4.3</td>\n",
              "      <td>4.7</td>\n",
              "      <td>6.9</td>\n",
              "      <td>5.0</td>\n",
              "      <td>3.5</td>\n",
              "      <td>3.7</td>\n",
              "      <td>3.8</td>\n",
              "      <td>3.6</td>\n",
              "      <td>4.2</td>\n",
              "      <td>5.6</td>\n",
              "      <td>7.0</td>\n",
              "      <td>3.9</td>\n",
              "      <td>6.1</td>\n",
              "      <td>4.5</td>\n",
              "      <td>11.6</td>\n",
              "      <td>2.9</td>\n",
              "      <td>3.0</td>\n",
              "      <td>3.7</td>\n",
              "      <td>3.2</td>\n",
              "      <td>10.0</td>\n",
              "      <td>6.2</td>\n",
              "      <td>2.0</td>\n",
              "      <td>3.1</td>\n",
              "      <td>3.6</td>\n",
              "      <td>8.3</td>\n",
              "      <td>4.1</td>\n",
              "      <td>2.7</td>\n",
              "      <td>3.1</td>\n",
              "      <td>7.8</td>\n",
              "      <td>3.4</td>\n",
              "      <td>2.7</td>\n",
              "      <td>5.5</td>\n",
              "      <td>5.2</td>\n",
              "      <td>4.9</td>\n",
              "      <td>8.5</td>\n",
              "      <td>2.1</td>\n",
              "      <td>6.1</td>\n",
              "      <td>...</td>\n",
              "      <td>5.1</td>\n",
              "      <td>5.4</td>\n",
              "      <td>6.0</td>\n",
              "      <td>4.7</td>\n",
              "      <td>5.3</td>\n",
              "      <td>4.9</td>\n",
              "      <td>2.0</td>\n",
              "      <td>3.5</td>\n",
              "      <td>3.4</td>\n",
              "      <td>2.2</td>\n",
              "      <td>4.7</td>\n",
              "      <td>2.5</td>\n",
              "      <td>2.9</td>\n",
              "      <td>1.6</td>\n",
              "      <td>1.3</td>\n",
              "      <td>5.9</td>\n",
              "      <td>3.2</td>\n",
              "      <td>5.2</td>\n",
              "      <td>1.7</td>\n",
              "      <td>5.7</td>\n",
              "      <td>3.0</td>\n",
              "      <td>5.4</td>\n",
              "      <td>5.8</td>\n",
              "      <td>3.5</td>\n",
              "      <td>4.2</td>\n",
              "      <td>5.2</td>\n",
              "      <td>6.0</td>\n",
              "      <td>3.4</td>\n",
              "      <td>3.8</td>\n",
              "      <td>2.0</td>\n",
              "      <td>1.3</td>\n",
              "      <td>2.8</td>\n",
              "      <td>5.8</td>\n",
              "      <td>3.0</td>\n",
              "      <td>1.9</td>\n",
              "      <td>1.1</td>\n",
              "      <td>6.6</td>\n",
              "      <td>6.1</td>\n",
              "      <td>1.8</td>\n",
              "      <td>2.1</td>\n",
              "    </tr>\n",
              "    <tr>\n",
              "      <th>2015-01-01 04:00:00</th>\n",
              "      <td>9168.0</td>\n",
              "      <td>14.4</td>\n",
              "      <td>7.9</td>\n",
              "      <td>4.0</td>\n",
              "      <td>4.8</td>\n",
              "      <td>6.9</td>\n",
              "      <td>3.8</td>\n",
              "      <td>2.6</td>\n",
              "      <td>2.7</td>\n",
              "      <td>4.3</td>\n",
              "      <td>4.0</td>\n",
              "      <td>4.1</td>\n",
              "      <td>5.5</td>\n",
              "      <td>6.3</td>\n",
              "      <td>4.6</td>\n",
              "      <td>6.6</td>\n",
              "      <td>3.9</td>\n",
              "      <td>11.5</td>\n",
              "      <td>2.8</td>\n",
              "      <td>3.0</td>\n",
              "      <td>3.6</td>\n",
              "      <td>4.2</td>\n",
              "      <td>10.9</td>\n",
              "      <td>6.5</td>\n",
              "      <td>2.0</td>\n",
              "      <td>3.1</td>\n",
              "      <td>3.3</td>\n",
              "      <td>6.7</td>\n",
              "      <td>4.7</td>\n",
              "      <td>2.4</td>\n",
              "      <td>3.7</td>\n",
              "      <td>7.4</td>\n",
              "      <td>3.8</td>\n",
              "      <td>3.2</td>\n",
              "      <td>5.5</td>\n",
              "      <td>5.4</td>\n",
              "      <td>4.2</td>\n",
              "      <td>8.8</td>\n",
              "      <td>2.2</td>\n",
              "      <td>5.2</td>\n",
              "      <td>...</td>\n",
              "      <td>4.5</td>\n",
              "      <td>6.5</td>\n",
              "      <td>6.4</td>\n",
              "      <td>4.8</td>\n",
              "      <td>5.7</td>\n",
              "      <td>5.2</td>\n",
              "      <td>2.9</td>\n",
              "      <td>3.6</td>\n",
              "      <td>3.3</td>\n",
              "      <td>3.5</td>\n",
              "      <td>4.1</td>\n",
              "      <td>2.4</td>\n",
              "      <td>3.2</td>\n",
              "      <td>1.6</td>\n",
              "      <td>1.2</td>\n",
              "      <td>5.9</td>\n",
              "      <td>3.4</td>\n",
              "      <td>6.4</td>\n",
              "      <td>1.7</td>\n",
              "      <td>5.7</td>\n",
              "      <td>3.1</td>\n",
              "      <td>6.1</td>\n",
              "      <td>6.9</td>\n",
              "      <td>3.4</td>\n",
              "      <td>4.0</td>\n",
              "      <td>5.5</td>\n",
              "      <td>5.4</td>\n",
              "      <td>3.2</td>\n",
              "      <td>4.4</td>\n",
              "      <td>2.0</td>\n",
              "      <td>1.8</td>\n",
              "      <td>3.1</td>\n",
              "      <td>5.3</td>\n",
              "      <td>2.6</td>\n",
              "      <td>1.9</td>\n",
              "      <td>1.5</td>\n",
              "      <td>7.1</td>\n",
              "      <td>5.2</td>\n",
              "      <td>1.6</td>\n",
              "      <td>2.1</td>\n",
              "    </tr>\n",
              "    <tr>\n",
              "      <th>...</th>\n",
              "      <td>...</td>\n",
              "      <td>...</td>\n",
              "      <td>...</td>\n",
              "      <td>...</td>\n",
              "      <td>...</td>\n",
              "      <td>...</td>\n",
              "      <td>...</td>\n",
              "      <td>...</td>\n",
              "      <td>...</td>\n",
              "      <td>...</td>\n",
              "      <td>...</td>\n",
              "      <td>...</td>\n",
              "      <td>...</td>\n",
              "      <td>...</td>\n",
              "      <td>...</td>\n",
              "      <td>...</td>\n",
              "      <td>...</td>\n",
              "      <td>...</td>\n",
              "      <td>...</td>\n",
              "      <td>...</td>\n",
              "      <td>...</td>\n",
              "      <td>...</td>\n",
              "      <td>...</td>\n",
              "      <td>...</td>\n",
              "      <td>...</td>\n",
              "      <td>...</td>\n",
              "      <td>...</td>\n",
              "      <td>...</td>\n",
              "      <td>...</td>\n",
              "      <td>...</td>\n",
              "      <td>...</td>\n",
              "      <td>...</td>\n",
              "      <td>...</td>\n",
              "      <td>...</td>\n",
              "      <td>...</td>\n",
              "      <td>...</td>\n",
              "      <td>...</td>\n",
              "      <td>...</td>\n",
              "      <td>...</td>\n",
              "      <td>...</td>\n",
              "      <td>...</td>\n",
              "      <td>...</td>\n",
              "      <td>...</td>\n",
              "      <td>...</td>\n",
              "      <td>...</td>\n",
              "      <td>...</td>\n",
              "      <td>...</td>\n",
              "      <td>...</td>\n",
              "      <td>...</td>\n",
              "      <td>...</td>\n",
              "      <td>...</td>\n",
              "      <td>...</td>\n",
              "      <td>...</td>\n",
              "      <td>...</td>\n",
              "      <td>...</td>\n",
              "      <td>...</td>\n",
              "      <td>...</td>\n",
              "      <td>...</td>\n",
              "      <td>...</td>\n",
              "      <td>...</td>\n",
              "      <td>...</td>\n",
              "      <td>...</td>\n",
              "      <td>...</td>\n",
              "      <td>...</td>\n",
              "      <td>...</td>\n",
              "      <td>...</td>\n",
              "      <td>...</td>\n",
              "      <td>...</td>\n",
              "      <td>...</td>\n",
              "      <td>...</td>\n",
              "      <td>...</td>\n",
              "      <td>...</td>\n",
              "      <td>...</td>\n",
              "      <td>...</td>\n",
              "      <td>...</td>\n",
              "      <td>...</td>\n",
              "      <td>...</td>\n",
              "      <td>...</td>\n",
              "      <td>...</td>\n",
              "      <td>...</td>\n",
              "      <td>...</td>\n",
              "    </tr>\n",
              "    <tr>\n",
              "      <th>2021-01-01 19:00:00</th>\n",
              "      <td>4845.0</td>\n",
              "      <td>9.2</td>\n",
              "      <td>3.3</td>\n",
              "      <td>1.7</td>\n",
              "      <td>3.2</td>\n",
              "      <td>5.2</td>\n",
              "      <td>3.7</td>\n",
              "      <td>2.1</td>\n",
              "      <td>2.1</td>\n",
              "      <td>3.3</td>\n",
              "      <td>3.5</td>\n",
              "      <td>2.8</td>\n",
              "      <td>3.9</td>\n",
              "      <td>5.7</td>\n",
              "      <td>3.2</td>\n",
              "      <td>3.6</td>\n",
              "      <td>1.8</td>\n",
              "      <td>7.3</td>\n",
              "      <td>2.6</td>\n",
              "      <td>1.8</td>\n",
              "      <td>1.1</td>\n",
              "      <td>2.3</td>\n",
              "      <td>2.1</td>\n",
              "      <td>5.2</td>\n",
              "      <td>2.4</td>\n",
              "      <td>2.2</td>\n",
              "      <td>1.6</td>\n",
              "      <td>4.0</td>\n",
              "      <td>2.0</td>\n",
              "      <td>2.0</td>\n",
              "      <td>4.6</td>\n",
              "      <td>4.3</td>\n",
              "      <td>2.3</td>\n",
              "      <td>2.2</td>\n",
              "      <td>2.4</td>\n",
              "      <td>0.5</td>\n",
              "      <td>3.2</td>\n",
              "      <td>3.4</td>\n",
              "      <td>1.7</td>\n",
              "      <td>3.4</td>\n",
              "      <td>...</td>\n",
              "      <td>2.7</td>\n",
              "      <td>3.1</td>\n",
              "      <td>4.9</td>\n",
              "      <td>0.8</td>\n",
              "      <td>3.3</td>\n",
              "      <td>2.1</td>\n",
              "      <td>1.6</td>\n",
              "      <td>1.5</td>\n",
              "      <td>3.1</td>\n",
              "      <td>1.4</td>\n",
              "      <td>2.4</td>\n",
              "      <td>1.2</td>\n",
              "      <td>1.3</td>\n",
              "      <td>1.1</td>\n",
              "      <td>1.4</td>\n",
              "      <td>4.3</td>\n",
              "      <td>1.3</td>\n",
              "      <td>2.5</td>\n",
              "      <td>1.5</td>\n",
              "      <td>1.0</td>\n",
              "      <td>2.9</td>\n",
              "      <td>2.5</td>\n",
              "      <td>1.7</td>\n",
              "      <td>1.6</td>\n",
              "      <td>1.8</td>\n",
              "      <td>3.0</td>\n",
              "      <td>2.2</td>\n",
              "      <td>2.3</td>\n",
              "      <td>0.4</td>\n",
              "      <td>2.7</td>\n",
              "      <td>1.3</td>\n",
              "      <td>2.4</td>\n",
              "      <td>3.0</td>\n",
              "      <td>2.3</td>\n",
              "      <td>1.9</td>\n",
              "      <td>1.3</td>\n",
              "      <td>5.0</td>\n",
              "      <td>3.2</td>\n",
              "      <td>0.9</td>\n",
              "      <td>0.6</td>\n",
              "    </tr>\n",
              "    <tr>\n",
              "      <th>2021-01-01 20:00:00</th>\n",
              "      <td>5028.0</td>\n",
              "      <td>9.9</td>\n",
              "      <td>3.5</td>\n",
              "      <td>2.0</td>\n",
              "      <td>2.9</td>\n",
              "      <td>5.3</td>\n",
              "      <td>4.1</td>\n",
              "      <td>1.8</td>\n",
              "      <td>1.7</td>\n",
              "      <td>3.6</td>\n",
              "      <td>3.8</td>\n",
              "      <td>3.2</td>\n",
              "      <td>4.7</td>\n",
              "      <td>4.4</td>\n",
              "      <td>2.9</td>\n",
              "      <td>3.6</td>\n",
              "      <td>2.2</td>\n",
              "      <td>7.1</td>\n",
              "      <td>2.9</td>\n",
              "      <td>1.7</td>\n",
              "      <td>1.1</td>\n",
              "      <td>2.1</td>\n",
              "      <td>0.9</td>\n",
              "      <td>5.6</td>\n",
              "      <td>2.9</td>\n",
              "      <td>2.4</td>\n",
              "      <td>2.0</td>\n",
              "      <td>4.0</td>\n",
              "      <td>1.8</td>\n",
              "      <td>2.3</td>\n",
              "      <td>4.4</td>\n",
              "      <td>5.4</td>\n",
              "      <td>2.6</td>\n",
              "      <td>2.8</td>\n",
              "      <td>3.6</td>\n",
              "      <td>0.6</td>\n",
              "      <td>2.9</td>\n",
              "      <td>1.1</td>\n",
              "      <td>2.0</td>\n",
              "      <td>3.0</td>\n",
              "      <td>...</td>\n",
              "      <td>2.6</td>\n",
              "      <td>3.0</td>\n",
              "      <td>5.1</td>\n",
              "      <td>1.2</td>\n",
              "      <td>3.1</td>\n",
              "      <td>1.9</td>\n",
              "      <td>1.2</td>\n",
              "      <td>1.9</td>\n",
              "      <td>2.5</td>\n",
              "      <td>1.2</td>\n",
              "      <td>2.6</td>\n",
              "      <td>1.0</td>\n",
              "      <td>0.6</td>\n",
              "      <td>0.8</td>\n",
              "      <td>1.7</td>\n",
              "      <td>5.5</td>\n",
              "      <td>1.0</td>\n",
              "      <td>2.4</td>\n",
              "      <td>2.2</td>\n",
              "      <td>1.0</td>\n",
              "      <td>2.9</td>\n",
              "      <td>2.4</td>\n",
              "      <td>2.2</td>\n",
              "      <td>1.2</td>\n",
              "      <td>1.6</td>\n",
              "      <td>3.0</td>\n",
              "      <td>2.4</td>\n",
              "      <td>2.2</td>\n",
              "      <td>0.3</td>\n",
              "      <td>2.7</td>\n",
              "      <td>0.8</td>\n",
              "      <td>3.4</td>\n",
              "      <td>2.7</td>\n",
              "      <td>1.8</td>\n",
              "      <td>1.8</td>\n",
              "      <td>0.2</td>\n",
              "      <td>5.0</td>\n",
              "      <td>3.0</td>\n",
              "      <td>0.7</td>\n",
              "      <td>0.9</td>\n",
              "    </tr>\n",
              "    <tr>\n",
              "      <th>2021-01-01 21:00:00</th>\n",
              "      <td>5204.0</td>\n",
              "      <td>9.7</td>\n",
              "      <td>4.1</td>\n",
              "      <td>2.2</td>\n",
              "      <td>3.0</td>\n",
              "      <td>6.2</td>\n",
              "      <td>3.8</td>\n",
              "      <td>2.5</td>\n",
              "      <td>1.6</td>\n",
              "      <td>3.4</td>\n",
              "      <td>4.0</td>\n",
              "      <td>4.2</td>\n",
              "      <td>4.3</td>\n",
              "      <td>1.9</td>\n",
              "      <td>2.7</td>\n",
              "      <td>3.8</td>\n",
              "      <td>2.0</td>\n",
              "      <td>7.8</td>\n",
              "      <td>2.3</td>\n",
              "      <td>1.5</td>\n",
              "      <td>1.2</td>\n",
              "      <td>2.2</td>\n",
              "      <td>2.5</td>\n",
              "      <td>6.0</td>\n",
              "      <td>2.8</td>\n",
              "      <td>2.5</td>\n",
              "      <td>2.0</td>\n",
              "      <td>3.6</td>\n",
              "      <td>1.4</td>\n",
              "      <td>2.3</td>\n",
              "      <td>4.7</td>\n",
              "      <td>5.6</td>\n",
              "      <td>2.5</td>\n",
              "      <td>2.7</td>\n",
              "      <td>3.3</td>\n",
              "      <td>0.7</td>\n",
              "      <td>2.2</td>\n",
              "      <td>1.5</td>\n",
              "      <td>2.4</td>\n",
              "      <td>2.4</td>\n",
              "      <td>...</td>\n",
              "      <td>1.6</td>\n",
              "      <td>3.2</td>\n",
              "      <td>5.5</td>\n",
              "      <td>1.1</td>\n",
              "      <td>3.0</td>\n",
              "      <td>2.0</td>\n",
              "      <td>1.0</td>\n",
              "      <td>1.1</td>\n",
              "      <td>3.1</td>\n",
              "      <td>2.1</td>\n",
              "      <td>1.3</td>\n",
              "      <td>1.6</td>\n",
              "      <td>0.8</td>\n",
              "      <td>1.4</td>\n",
              "      <td>1.1</td>\n",
              "      <td>5.5</td>\n",
              "      <td>1.6</td>\n",
              "      <td>2.1</td>\n",
              "      <td>2.4</td>\n",
              "      <td>1.2</td>\n",
              "      <td>2.9</td>\n",
              "      <td>2.2</td>\n",
              "      <td>2.3</td>\n",
              "      <td>1.6</td>\n",
              "      <td>2.2</td>\n",
              "      <td>3.0</td>\n",
              "      <td>2.5</td>\n",
              "      <td>1.8</td>\n",
              "      <td>0.9</td>\n",
              "      <td>2.7</td>\n",
              "      <td>0.4</td>\n",
              "      <td>2.8</td>\n",
              "      <td>2.0</td>\n",
              "      <td>2.4</td>\n",
              "      <td>1.8</td>\n",
              "      <td>1.4</td>\n",
              "      <td>5.0</td>\n",
              "      <td>3.1</td>\n",
              "      <td>1.1</td>\n",
              "      <td>1.1</td>\n",
              "    </tr>\n",
              "    <tr>\n",
              "      <th>2021-01-01 22:00:00</th>\n",
              "      <td>5681.0</td>\n",
              "      <td>10.2</td>\n",
              "      <td>3.9</td>\n",
              "      <td>2.3</td>\n",
              "      <td>2.4</td>\n",
              "      <td>5.9</td>\n",
              "      <td>3.5</td>\n",
              "      <td>2.6</td>\n",
              "      <td>1.6</td>\n",
              "      <td>3.8</td>\n",
              "      <td>3.8</td>\n",
              "      <td>3.2</td>\n",
              "      <td>4.5</td>\n",
              "      <td>2.4</td>\n",
              "      <td>3.2</td>\n",
              "      <td>3.8</td>\n",
              "      <td>1.5</td>\n",
              "      <td>8.6</td>\n",
              "      <td>2.9</td>\n",
              "      <td>1.6</td>\n",
              "      <td>1.6</td>\n",
              "      <td>1.7</td>\n",
              "      <td>2.0</td>\n",
              "      <td>6.3</td>\n",
              "      <td>2.0</td>\n",
              "      <td>2.3</td>\n",
              "      <td>2.1</td>\n",
              "      <td>3.5</td>\n",
              "      <td>1.7</td>\n",
              "      <td>1.3</td>\n",
              "      <td>4.7</td>\n",
              "      <td>5.8</td>\n",
              "      <td>2.6</td>\n",
              "      <td>2.0</td>\n",
              "      <td>3.0</td>\n",
              "      <td>1.7</td>\n",
              "      <td>1.9</td>\n",
              "      <td>1.1</td>\n",
              "      <td>2.9</td>\n",
              "      <td>3.9</td>\n",
              "      <td>...</td>\n",
              "      <td>1.8</td>\n",
              "      <td>4.2</td>\n",
              "      <td>5.5</td>\n",
              "      <td>1.0</td>\n",
              "      <td>3.6</td>\n",
              "      <td>2.2</td>\n",
              "      <td>0.9</td>\n",
              "      <td>3.0</td>\n",
              "      <td>3.6</td>\n",
              "      <td>2.5</td>\n",
              "      <td>2.4</td>\n",
              "      <td>1.3</td>\n",
              "      <td>1.2</td>\n",
              "      <td>1.3</td>\n",
              "      <td>1.9</td>\n",
              "      <td>5.5</td>\n",
              "      <td>2.2</td>\n",
              "      <td>2.1</td>\n",
              "      <td>2.7</td>\n",
              "      <td>1.6</td>\n",
              "      <td>3.3</td>\n",
              "      <td>2.5</td>\n",
              "      <td>2.2</td>\n",
              "      <td>2.0</td>\n",
              "      <td>2.1</td>\n",
              "      <td>3.0</td>\n",
              "      <td>2.5</td>\n",
              "      <td>1.6</td>\n",
              "      <td>1.2</td>\n",
              "      <td>2.7</td>\n",
              "      <td>0.6</td>\n",
              "      <td>3.4</td>\n",
              "      <td>2.5</td>\n",
              "      <td>2.3</td>\n",
              "      <td>1.3</td>\n",
              "      <td>1.9</td>\n",
              "      <td>5.0</td>\n",
              "      <td>3.9</td>\n",
              "      <td>1.3</td>\n",
              "      <td>1.0</td>\n",
              "    </tr>\n",
              "    <tr>\n",
              "      <th>2021-01-01 23:00:00</th>\n",
              "      <td>5333.0</td>\n",
              "      <td>10.1</td>\n",
              "      <td>4.1</td>\n",
              "      <td>2.5</td>\n",
              "      <td>2.7</td>\n",
              "      <td>6.2</td>\n",
              "      <td>3.4</td>\n",
              "      <td>2.6</td>\n",
              "      <td>2.0</td>\n",
              "      <td>4.0</td>\n",
              "      <td>3.5</td>\n",
              "      <td>3.1</td>\n",
              "      <td>4.4</td>\n",
              "      <td>2.6</td>\n",
              "      <td>3.0</td>\n",
              "      <td>4.2</td>\n",
              "      <td>1.8</td>\n",
              "      <td>7.6</td>\n",
              "      <td>2.9</td>\n",
              "      <td>2.6</td>\n",
              "      <td>1.5</td>\n",
              "      <td>1.7</td>\n",
              "      <td>1.6</td>\n",
              "      <td>6.0</td>\n",
              "      <td>1.9</td>\n",
              "      <td>2.6</td>\n",
              "      <td>1.4</td>\n",
              "      <td>3.4</td>\n",
              "      <td>1.7</td>\n",
              "      <td>1.5</td>\n",
              "      <td>4.3</td>\n",
              "      <td>5.2</td>\n",
              "      <td>2.3</td>\n",
              "      <td>2.4</td>\n",
              "      <td>3.2</td>\n",
              "      <td>2.0</td>\n",
              "      <td>2.4</td>\n",
              "      <td>1.3</td>\n",
              "      <td>2.7</td>\n",
              "      <td>3.7</td>\n",
              "      <td>...</td>\n",
              "      <td>1.9</td>\n",
              "      <td>3.6</td>\n",
              "      <td>5.3</td>\n",
              "      <td>1.0</td>\n",
              "      <td>3.8</td>\n",
              "      <td>2.0</td>\n",
              "      <td>0.8</td>\n",
              "      <td>1.9</td>\n",
              "      <td>3.6</td>\n",
              "      <td>2.4</td>\n",
              "      <td>2.6</td>\n",
              "      <td>1.4</td>\n",
              "      <td>1.0</td>\n",
              "      <td>1.1</td>\n",
              "      <td>2.2</td>\n",
              "      <td>4.9</td>\n",
              "      <td>2.5</td>\n",
              "      <td>1.6</td>\n",
              "      <td>2.0</td>\n",
              "      <td>1.4</td>\n",
              "      <td>3.4</td>\n",
              "      <td>2.3</td>\n",
              "      <td>2.8</td>\n",
              "      <td>2.1</td>\n",
              "      <td>2.8</td>\n",
              "      <td>3.0</td>\n",
              "      <td>2.4</td>\n",
              "      <td>3.1</td>\n",
              "      <td>0.4</td>\n",
              "      <td>2.7</td>\n",
              "      <td>0.3</td>\n",
              "      <td>3.6</td>\n",
              "      <td>3.4</td>\n",
              "      <td>2.9</td>\n",
              "      <td>1.3</td>\n",
              "      <td>1.4</td>\n",
              "      <td>5.0</td>\n",
              "      <td>3.9</td>\n",
              "      <td>0.8</td>\n",
              "      <td>0.4</td>\n",
              "    </tr>\n",
              "  </tbody>\n",
              "</table>\n",
              "<p>52632 rows × 123 columns</p>\n",
              "</div>"
            ],
            "text/plain": [
              "                          0   722  2483  2932  ...  596  4642  3287  2171\n",
              "Date                                           ...                       \n",
              "2015-01-01 00:00:00  8646.0  13.5   7.6   3.4  ...  8.8   4.7   2.1   2.0\n",
              "2015-01-01 01:00:00  8816.0  14.7   6.7   3.1  ...  7.8   4.9   2.1   1.9\n",
              "2015-01-01 02:00:00  9058.0  13.6   6.9   4.0  ...  7.1   4.9   2.1   2.1\n",
              "2015-01-01 03:00:00  9071.0  13.0   7.2   4.3  ...  6.6   6.1   1.8   2.1\n",
              "2015-01-01 04:00:00  9168.0  14.4   7.9   4.0  ...  7.1   5.2   1.6   2.1\n",
              "...                     ...   ...   ...   ...  ...  ...   ...   ...   ...\n",
              "2021-01-01 19:00:00  4845.0   9.2   3.3   1.7  ...  5.0   3.2   0.9   0.6\n",
              "2021-01-01 20:00:00  5028.0   9.9   3.5   2.0  ...  5.0   3.0   0.7   0.9\n",
              "2021-01-01 21:00:00  5204.0   9.7   4.1   2.2  ...  5.0   3.1   1.1   1.1\n",
              "2021-01-01 22:00:00  5681.0  10.2   3.9   2.3  ...  5.0   3.9   1.3   1.0\n",
              "2021-01-01 23:00:00  5333.0  10.1   4.1   2.5  ...  5.0   3.9   0.8   0.4\n",
              "\n",
              "[52632 rows x 123 columns]"
            ]
          },
          "metadata": {
            "tags": []
          },
          "execution_count": 25
        }
      ]
    },
    {
      "cell_type": "markdown",
      "metadata": {
        "id": "tEilY6L9AKm2"
      },
      "source": [
        "### Scaling the Data"
      ],
      "id": "tEilY6L9AKm2"
    },
    {
      "cell_type": "code",
      "metadata": {
        "id": "rTdCO6xFDy7-"
      },
      "source": [
        "scaler = MinMaxScaler()\n",
        "scaled = scaler.fit_transform(filtered_df)"
      ],
      "id": "rTdCO6xFDy7-",
      "execution_count": 26,
      "outputs": []
    },
    {
      "cell_type": "code",
      "metadata": {
        "colab": {
          "base_uri": "https://localhost:8080/"
        },
        "id": "BbN6pK0zbOWC",
        "outputId": "8a0d0283-ac61-4040-fb00-72cd2b25125e"
      },
      "source": [
        "np.asmatrix(scaled)"
      ],
      "id": "BbN6pK0zbOWC",
      "execution_count": 27,
      "outputs": [
        {
          "output_type": "execute_result",
          "data": {
            "text/plain": [
              "matrix([[0.11213717, 0.34300792, 0.34123223, ..., 0.27777778, 0.15      ,\n",
              "         0.12987013],\n",
              "        [0.11434204, 0.37467018, 0.2985782 , ..., 0.29012346, 0.15      ,\n",
              "         0.12337662],\n",
              "        [0.11748074, 0.34564644, 0.30805687, ..., 0.29012346, 0.15      ,\n",
              "         0.13636364],\n",
              "        ...,\n",
              "        [0.06749501, 0.24274406, 0.17535545, ..., 0.17901235, 0.07857143,\n",
              "         0.07142857],\n",
              "        [0.07368162, 0.25593668, 0.16587678, ..., 0.22839506, 0.09285714,\n",
              "         0.06493506],\n",
              "        [0.06916811, 0.25329815, 0.17535545, ..., 0.22839506, 0.05714286,\n",
              "         0.02597403]])"
            ]
          },
          "metadata": {
            "tags": []
          },
          "execution_count": 27
        }
      ]
    },
    {
      "cell_type": "markdown",
      "metadata": {
        "id": "om3E0pjE-H4z"
      },
      "source": [
        "## Forming the Sequences for RNN"
      ],
      "id": "om3E0pjE-H4z"
    },
    {
      "cell_type": "code",
      "metadata": {
        "id": "hXwFrzevBjtt"
      },
      "source": [
        "# Train_Data\n",
        "trainX = scaled[int(len(scaled)*0.5):int(len(scaled)*0.9),1:]\n",
        "trainy = scaled[int(len(scaled)*0.5):int(len(scaled)*0.9),0]\n",
        "# validation Data\n",
        "valX = scaled[int(len(scaled)*0.9):len(scaled)-336,1:]\n",
        "valy = scaled[int(len(scaled)*0.9):len(scaled)-336,0]\n",
        "# Test Data\n",
        "X_test = np.expand_dims(scaled[len(scaled)-336:,1:], axis=0)\n",
        "y_test = scaled[len(scaled)-336:,0]"
      ],
      "id": "hXwFrzevBjtt",
      "execution_count": 149,
      "outputs": []
    },
    {
      "cell_type": "code",
      "metadata": {
        "id": "grp2z6zSBkCf"
      },
      "source": [
        "timesteps = 2150\n",
        "\n",
        "train_generator = TimeseriesGenerator(trainX, trainy, length=timesteps, sampling_rate=1, batch_size=64)\n",
        "validation_generator = TimeseriesGenerator(valX, valy, length=timesteps, sampling_rate=1, batch_size=64)\n",
        "#test_generator = TimeseriesGenerator(X_test, y_test, length=336, sampling_rate=1, batch_size=64)"
      ],
      "id": "grp2z6zSBkCf",
      "execution_count": 151,
      "outputs": []
    },
    {
      "cell_type": "code",
      "metadata": {
        "id": "doiKvjEnBkKH"
      },
      "source": [
        "X_train, y_train = train_generator[0]\n",
        "X_val, y_val = validation_generator[0]\n",
        "\n",
        "train_samples = X_train.shape[0]*len(train_generator)\n",
        "test_samples = X_test.shape[0]*len(validation_generator)"
      ],
      "id": "doiKvjEnBkKH",
      "execution_count": 152,
      "outputs": []
    },
    {
      "cell_type": "code",
      "metadata": {
        "colab": {
          "base_uri": "https://localhost:8080/"
        },
        "id": "4x1v8bSQWk1o",
        "outputId": "f08f7b09-4e32-46b8-9c73-073e13071daf"
      },
      "source": [
        "X_train.shape, y_train.shape, X_test.shape, y_test.shape"
      ],
      "id": "4x1v8bSQWk1o",
      "execution_count": 153,
      "outputs": [
        {
          "output_type": "execute_result",
          "data": {
            "text/plain": [
              "((64, 2150, 122), (64,), (1, 336, 122), (336,))"
            ]
          },
          "metadata": {
            "tags": []
          },
          "execution_count": 153
        }
      ]
    },
    {
      "cell_type": "code",
      "metadata": {
        "colab": {
          "base_uri": "https://localhost:8080/"
        },
        "id": "RhVyNr9HB08_",
        "outputId": "948a578a-93bc-4d98-ccd8-4f13279ce577"
      },
      "source": [
        "X_train.shape[2]"
      ],
      "id": "RhVyNr9HB08_",
      "execution_count": 154,
      "outputs": [
        {
          "output_type": "execute_result",
          "data": {
            "text/plain": [
              "122"
            ]
          },
          "metadata": {
            "tags": []
          },
          "execution_count": 154
        }
      ]
    },
    {
      "cell_type": "markdown",
      "metadata": {
        "id": "dorFXvUzatvS"
      },
      "source": [
        "# The Model\n",
        "The PlanA from Research AND before Testing\n",
        "Long Short Term Memory (LSTM) neural networks\n",
        "\n",
        "3 main elements:\n",
        "- Deseasonalization\n",
        "- adaptive normalization:\n",
        "- Stochastic Gradient Descent (SGD)"
      ],
      "id": "dorFXvUzatvS"
    },
    {
      "cell_type": "markdown",
      "metadata": {
        "id": "s-oWFveTxCt5"
      },
      "source": [
        "## Model_1 , LSTM Model"
      ],
      "id": "s-oWFveTxCt5"
    },
    {
      "cell_type": "code",
      "metadata": {
        "id": "2Mxe-uM4a0A-"
      },
      "source": [
        "#Do I need to normalize the Data?\n",
        "\n",
        "# First Model guess\n",
        "# input_dim=1 because we have only wind speed feature\n",
        "# RELU because provides only values above 0, we cannot get - generation data - Try Tanh and Sigmoid too in later tries\n",
        "# **Last Layer** layers.Dense(336) because we have 336 hours in the 2 week prediction. Or do I put 1 because I have 1 X for every output. \n",
        "# \n",
        "# \"linear\" According to LEcture has to be like that for regression\n",
        "# COMPILE LAYER for regression problem: \n",
        "# loss='mse', \n",
        "# optimizer='adam', (to start with) Choose SGD AND RMSProp(good for RNN) for further testing\n",
        "# metrics=['mae', \"mse\"]) (we can use muliple metrics in order to compare)\n",
        "\n",
        "# 2 units because the time aspect of the series does not have much prediction value. Better to emphasize feature data.\n",
        "\n",
        "# Try stacked Layers 1,2,3,4\n",
        "\n",
        "model_1 = Sequential()\n",
        "model_1.add(LSTM(128,input_shape=(timesteps,X_train.shape[2]),return_sequences=True ))\n",
        "model_1.add(layers.LeakyReLU(alpha=0.5))\n",
        "model_1.add(LSTM(128, return_sequences=True))\n",
        "#model_1.add(layers.LeakyReLU(alpha=0.5))\n",
        "#model_1.add(layers.Dropout(0.3))\n",
        "#model_1.add(LSTM(128, return_sequences=False))\n",
        "model_1.add(layers.Dropout(0.3))\n",
        "model_1.add(layers.Dense(1))\n"
      ],
      "id": "2Mxe-uM4a0A-",
      "execution_count": 155,
      "outputs": []
    },
    {
      "cell_type": "code",
      "metadata": {
        "colab": {
          "base_uri": "https://localhost:8080/"
        },
        "id": "QJRsckEdz8fw",
        "outputId": "dae73e81-a26b-4f9a-ce1d-1c1750846c31"
      },
      "source": [
        "model_1.summary()"
      ],
      "id": "QJRsckEdz8fw",
      "execution_count": 156,
      "outputs": [
        {
          "output_type": "stream",
          "text": [
            "Model: \"sequential_6\"\n",
            "_________________________________________________________________\n",
            "Layer (type)                 Output Shape              Param #   \n",
            "=================================================================\n",
            "lstm_11 (LSTM)               (None, 2150, 128)         128512    \n",
            "_________________________________________________________________\n",
            "leaky_re_lu_7 (LeakyReLU)    (None, 2150, 128)         0         \n",
            "_________________________________________________________________\n",
            "lstm_12 (LSTM)               (None, 2150, 128)         131584    \n",
            "_________________________________________________________________\n",
            "dropout_7 (Dropout)          (None, 2150, 128)         0         \n",
            "_________________________________________________________________\n",
            "dense_6 (Dense)              (None, 2150, 1)           129       \n",
            "=================================================================\n",
            "Total params: 260,225\n",
            "Trainable params: 260,225\n",
            "Non-trainable params: 0\n",
            "_________________________________________________________________\n"
          ],
          "name": "stdout"
        }
      ]
    },
    {
      "cell_type": "code",
      "metadata": {
        "colab": {
          "base_uri": "https://localhost:8080/"
        },
        "id": "lni2zMxwbNIS",
        "outputId": "50feaa1c-10dc-440e-ea4b-ef54830d34b6"
      },
      "source": [
        "es = [EarlyStopping(monitor=\"val_loss\", mode='min', patience = 11, restore_best_weights=True)] \n",
        "\n",
        "model_1.compile(loss='mse', optimizer='adam', metrics=['mae', \"mse\"])\n",
        "\n",
        "history = model_1.fit(X_train, y_train,validation_data=(X_val, y_val), shuffle = False,  callbacks = es, epochs=100, verbose=2)\n"
      ],
      "id": "lni2zMxwbNIS",
      "execution_count": 157,
      "outputs": [
        {
          "output_type": "stream",
          "text": [
            "Epoch 1/100\n",
            "2/2 - 4s - loss: 0.1092 - mae: 0.2500 - mse: 0.1092 - val_loss: 0.0417 - val_mae: 0.1723 - val_mse: 0.0417\n",
            "Epoch 2/100\n",
            "2/2 - 1s - loss: 0.0275 - mae: 0.1384 - mse: 0.0275 - val_loss: 0.1393 - val_mae: 0.3277 - val_mse: 0.1393\n",
            "Epoch 3/100\n",
            "2/2 - 1s - loss: 0.0507 - mae: 0.2088 - mse: 0.0507 - val_loss: 0.1013 - val_mae: 0.2649 - val_mse: 0.1013\n",
            "Epoch 4/100\n",
            "2/2 - 1s - loss: 0.0179 - mae: 0.1166 - mse: 0.0179 - val_loss: 0.0527 - val_mae: 0.1888 - val_mse: 0.0527\n",
            "Epoch 5/100\n",
            "2/2 - 1s - loss: 0.0129 - mae: 0.0881 - mse: 0.0129 - val_loss: 0.0404 - val_mae: 0.1702 - val_mse: 0.0404\n",
            "Epoch 6/100\n",
            "2/2 - 1s - loss: 0.0190 - mae: 0.1096 - mse: 0.0190 - val_loss: 0.0455 - val_mae: 0.1779 - val_mse: 0.0455\n",
            "Epoch 7/100\n",
            "2/2 - 1s - loss: 0.0108 - mae: 0.0835 - mse: 0.0108 - val_loss: 0.0590 - val_mae: 0.1985 - val_mse: 0.0590\n",
            "Epoch 8/100\n",
            "2/2 - 1s - loss: 0.0085 - mae: 0.0769 - mse: 0.0085 - val_loss: 0.0709 - val_mae: 0.2171 - val_mse: 0.0709\n",
            "Epoch 9/100\n",
            "2/2 - 1s - loss: 0.0106 - mae: 0.0869 - mse: 0.0106 - val_loss: 0.0733 - val_mae: 0.2209 - val_mse: 0.0733\n",
            "Epoch 10/100\n",
            "2/2 - 1s - loss: 0.0104 - mae: 0.0871 - mse: 0.0104 - val_loss: 0.0681 - val_mae: 0.2127 - val_mse: 0.0681\n",
            "Epoch 11/100\n",
            "2/2 - 1s - loss: 0.0084 - mae: 0.0782 - mse: 0.0084 - val_loss: 0.0603 - val_mae: 0.2007 - val_mse: 0.0603\n",
            "Epoch 12/100\n",
            "2/2 - 1s - loss: 0.0070 - mae: 0.0697 - mse: 0.0070 - val_loss: 0.0536 - val_mae: 0.1901 - val_mse: 0.0536\n",
            "Epoch 13/100\n",
            "2/2 - 1s - loss: 0.0068 - mae: 0.0670 - mse: 0.0068 - val_loss: 0.0493 - val_mae: 0.1835 - val_mse: 0.0493\n",
            "Epoch 14/100\n",
            "2/2 - 1s - loss: 0.0072 - mae: 0.0680 - mse: 0.0072 - val_loss: 0.0477 - val_mae: 0.1810 - val_mse: 0.0477\n",
            "Epoch 15/100\n",
            "2/2 - 1s - loss: 0.0073 - mae: 0.0684 - mse: 0.0073 - val_loss: 0.0483 - val_mae: 0.1820 - val_mse: 0.0483\n",
            "Epoch 16/100\n",
            "2/2 - 1s - loss: 0.0069 - mae: 0.0671 - mse: 0.0069 - val_loss: 0.0505 - val_mae: 0.1853 - val_mse: 0.0505\n"
          ],
          "name": "stdout"
        }
      ]
    },
    {
      "cell_type": "code",
      "metadata": {
        "colab": {
          "base_uri": "https://localhost:8080/",
          "height": 283
        },
        "id": "gCEexGzSKYXE",
        "outputId": "eaad0ad4-1367-4e6e-aa74-36d73ff31736"
      },
      "source": [
        "plt.plot(history.history[\"loss\"])\n",
        "plt.plot(history.history[\"val_loss\"], color=\"red\")"
      ],
      "id": "gCEexGzSKYXE",
      "execution_count": 158,
      "outputs": [
        {
          "output_type": "execute_result",
          "data": {
            "text/plain": [
              "[<matplotlib.lines.Line2D at 0x7f061064c810>]"
            ]
          },
          "metadata": {
            "tags": []
          },
          "execution_count": 158
        },
        {
          "output_type": "display_data",
          "data": {
            "image/png": "[encoded data removed]",
            "text/plain": [
              "<Figure size 432x288 with 1 Axes>"
            ]
          },
          "metadata": {
            "tags": [],
            "needs_background": "light"
          }
        }
      ]
    },
    {
      "cell_type": "code",
      "metadata": {
        "colab": {
          "base_uri": "https://localhost:8080/"
        },
        "id": "T1korLQ3Kmdt",
        "outputId": "d92422f5-7c78-4713-e370-8639c468ef3e"
      },
      "source": [
        "X_test.shape"
      ],
      "id": "T1korLQ3Kmdt",
      "execution_count": 159,
      "outputs": [
        {
          "output_type": "execute_result",
          "data": {
            "text/plain": [
              "(1, 336, 122)"
            ]
          },
          "metadata": {
            "tags": []
          },
          "execution_count": 159
        }
      ]
    },
    {
      "cell_type": "code",
      "metadata": {
        "colab": {
          "base_uri": "https://localhost:8080/"
        },
        "id": "-Atg6NNHeHFJ",
        "outputId": "ddba7481-04ea-4729-d3c2-5fd6b084e8bf"
      },
      "source": [
        "result = model_1.predict(X_test)"
      ],
      "id": "-Atg6NNHeHFJ",
      "execution_count": 160,
      "outputs": [
        {
          "output_type": "stream",
          "text": [
            "WARNING:tensorflow:Model was constructed with shape (None, 2150, 122) for input KerasTensor(type_spec=TensorSpec(shape=(None, 2150, 122), dtype=tf.float32, name='lstm_11_input'), name='lstm_11_input', description=\"created by layer 'lstm_11_input'\"), but it was called on an input with incompatible shape (None, 336, 122).\n"
          ],
          "name": "stdout"
        }
      ]
    },
    {
      "cell_type": "code",
      "metadata": {
        "id": "YSd2RShN6QHf",
        "colab": {
          "base_uri": "https://localhost:8080/"
        },
        "outputId": "14334b23-a7d0-4daa-8786-03428adea7e0"
      },
      "source": [
        "result.shape"
      ],
      "id": "YSd2RShN6QHf",
      "execution_count": 161,
      "outputs": [
        {
          "output_type": "execute_result",
          "data": {
            "text/plain": [
              "(1, 336, 1)"
            ]
          },
          "metadata": {
            "tags": []
          },
          "execution_count": 161
        }
      ]
    },
    {
      "cell_type": "code",
      "metadata": {
        "colab": {
          "base_uri": "https://localhost:8080/",
          "height": 283
        },
        "id": "7wpDQqpI2IQT",
        "outputId": "c39b6a22-6967-4635-a528-182a00c3cbfe"
      },
      "source": [
        "plt.plot(result.flatten())\n",
        "plt.plot(y_test, color=\"red\")"
      ],
      "id": "7wpDQqpI2IQT",
      "execution_count": 162,
      "outputs": [
        {
          "output_type": "execute_result",
          "data": {
            "text/plain": [
              "[<matplotlib.lines.Line2D at 0x7f0615951f90>]"
            ]
          },
          "metadata": {
            "tags": []
          },
          "execution_count": 162
        },
        {
          "output_type": "display_data",
          "data": {
            "image/png": "[encoded data removed]",
            "text/plain": [
              "<Figure size 432x288 with 1 Axes>"
            ]
          },
          "metadata": {
            "tags": [],
            "needs_background": "light"
          }
        }
      ]
    },
    {
      "cell_type": "markdown",
      "metadata": {
        "id": "yV7Lcn87X2cb"
      },
      "source": [
        "## Model_2 LStM, Many-to-Many with Encoder Decoder architecture"
      ],
      "id": "yV7Lcn87X2cb"
    },
    {
      "cell_type": "code",
      "metadata": {
        "colab": {
          "base_uri": "https://localhost:8080/"
        },
        "id": "J9ikur2IX1dX",
        "outputId": "6d63af2e-15f6-4163-a806-828f83784355"
      },
      "source": [
        "#imports imported above\n",
        "#from keras.layers import RepeatVector\n",
        "#from keras.layers import TimeDistributed\n",
        "\n",
        "model_2 = Sequential()\n",
        "\n",
        "# encoder layer\n",
        "model_2.add(LSTM(100, activation='relu', input_shape=(timesteps,2)))\n",
        "\n",
        "# repeat vector\n",
        "model_2.add(RepeatVector(timesteps))\n",
        "\n",
        "# decoder layer\n",
        "model_2.add(LSTM(100, activation='relu', return_sequences=True))\n",
        "\n",
        "model_2.add(TimeDistributed(Dense(1)))\n",
        "model_2.compile(optimizer='adam', loss='mse', metrics=['mae', \"mse\"])\n",
        "\n",
        "print(model_2.summary())"
      ],
      "id": "J9ikur2IX1dX",
      "execution_count": 147,
      "outputs": [
        {
          "output_type": "stream",
          "text": [
            "WARNING:tensorflow:Layer lstm_17 will not use cuDNN kernels since it doesn't meet the criteria. It will use a generic GPU kernel as fallback when running on GPU.\n",
            "WARNING:tensorflow:Layer lstm_18 will not use cuDNN kernels since it doesn't meet the criteria. It will use a generic GPU kernel as fallback when running on GPU.\n",
            "Model: \"sequential_10\"\n",
            "_________________________________________________________________\n",
            "Layer (type)                 Output Shape              Param #   \n",
            "=================================================================\n",
            "lstm_17 (LSTM)               (None, 100)               41200     \n",
            "_________________________________________________________________\n",
            "repeat_vector_7 (RepeatVecto (None, 4300, 100)         0         \n",
            "_________________________________________________________________\n",
            "lstm_18 (LSTM)               (None, 4300, 100)         80400     \n",
            "_________________________________________________________________\n",
            "time_distributed_2 (TimeDist (None, 4300, 1)           101       \n",
            "=================================================================\n",
            "Total params: 121,701\n",
            "Trainable params: 121,701\n",
            "Non-trainable params: 0\n",
            "_________________________________________________________________\n",
            "None\n"
          ],
          "name": "stdout"
        }
      ]
    },
    {
      "cell_type": "code",
      "metadata": {
        "colab": {
          "base_uri": "https://localhost:8080/",
          "height": 243
        },
        "id": "am-NROTEYSgy",
        "outputId": "e07e7874-c043-483d-f082-a89eaa0a79bc"
      },
      "source": [
        "es2 = [EarlyStopping(monitor=\"val_loss\", mode='min', patience = 12, restore_best_weights=True)] \n",
        "\n",
        "history_2 = model_2.fit(\n",
        "    X_train, y_train,validation_data=(X_test, y_test), shuffle = False,  callbacks = es2, epochs=50, verbose=2)\n"
      ],
      "id": "am-NROTEYSgy",
      "execution_count": 116,
      "outputs": [
        {
          "output_type": "error",
          "ename": "NameError",
          "evalue": "ignored",
          "traceback": [
            "\u001b[0;31m---------------------------------------------------------------------------\u001b[0m",
            "\u001b[0;31mNameError\u001b[0m                                 Traceback (most recent call last)",
            "\u001b[0;32m<ipython-input-116-c3a819406f88>\u001b[0m in \u001b[0;36m<module>\u001b[0;34m()\u001b[0m\n\u001b[1;32m      1\u001b[0m \u001b[0mes2\u001b[0m \u001b[0;34m=\u001b[0m \u001b[0;34m[\u001b[0m\u001b[0mEarlyStopping\u001b[0m\u001b[0;34m(\u001b[0m\u001b[0mmonitor\u001b[0m\u001b[0;34m=\u001b[0m\u001b[0;34m\"val_loss\"\u001b[0m\u001b[0;34m,\u001b[0m \u001b[0mmode\u001b[0m\u001b[0;34m=\u001b[0m\u001b[0;34m'min'\u001b[0m\u001b[0;34m,\u001b[0m \u001b[0mpatience\u001b[0m \u001b[0;34m=\u001b[0m \u001b[0;36m12\u001b[0m\u001b[0;34m,\u001b[0m \u001b[0mrestore_best_weights\u001b[0m\u001b[0;34m=\u001b[0m\u001b[0;32mTrue\u001b[0m\u001b[0;34m)\u001b[0m\u001b[0;34m]\u001b[0m\u001b[0;34m\u001b[0m\u001b[0;34m\u001b[0m\u001b[0m\n\u001b[1;32m      2\u001b[0m \u001b[0;34m\u001b[0m\u001b[0m\n\u001b[0;32m----> 3\u001b[0;31m history_2 = model_2.fit(\n\u001b[0m\u001b[1;32m      4\u001b[0m     X_train, y_train,validation_data=(X_test, y_test), shuffle = False,  callbacks = es2, epochs=50, verbose=2)\n",
            "\u001b[0;31mNameError\u001b[0m: name 'model_2' is not defined"
          ]
        }
      ]
    },
    {
      "cell_type": "code",
      "metadata": {
        "colab": {
          "base_uri": "https://localhost:8080/"
        },
        "id": "dDgEuhrpbW4q",
        "outputId": "b441eafc-5938-4e5f-9ded-e816ba82ea3e"
      },
      "source": [
        "testX.shape"
      ],
      "id": "dDgEuhrpbW4q",
      "execution_count": 117,
      "outputs": [
        {
          "output_type": "execute_result",
          "data": {
            "text/plain": [
              "(1, 336, 122)"
            ]
          },
          "metadata": {
            "tags": []
          },
          "execution_count": 117
        }
      ]
    },
    {
      "cell_type": "code",
      "metadata": {
        "colab": {
          "base_uri": "https://localhost:8080/",
          "height": 189
        },
        "id": "5IIIRIhwZ03H",
        "outputId": "9a6b6d17-08de-4e8b-d342-651e893f3137"
      },
      "source": [
        "plt.plot(history_2.history[\"loss\"])\n",
        "plt.plot(history_2.history[\"val_loss\"], color=\"red\")"
      ],
      "id": "5IIIRIhwZ03H",
      "execution_count": 118,
      "outputs": [
        {
          "output_type": "error",
          "ename": "NameError",
          "evalue": "ignored",
          "traceback": [
            "\u001b[0;31m---------------------------------------------------------------------------\u001b[0m",
            "\u001b[0;31mNameError\u001b[0m                                 Traceback (most recent call last)",
            "\u001b[0;32m<ipython-input-118-c420afd43512>\u001b[0m in \u001b[0;36m<module>\u001b[0;34m()\u001b[0m\n\u001b[0;32m----> 1\u001b[0;31m \u001b[0mplt\u001b[0m\u001b[0;34m.\u001b[0m\u001b[0mplot\u001b[0m\u001b[0;34m(\u001b[0m\u001b[0mhistory_2\u001b[0m\u001b[0;34m.\u001b[0m\u001b[0mhistory\u001b[0m\u001b[0;34m[\u001b[0m\u001b[0;34m\"loss\"\u001b[0m\u001b[0;34m]\u001b[0m\u001b[0;34m)\u001b[0m\u001b[0;34m\u001b[0m\u001b[0;34m\u001b[0m\u001b[0m\n\u001b[0m\u001b[1;32m      2\u001b[0m \u001b[0mplt\u001b[0m\u001b[0;34m.\u001b[0m\u001b[0mplot\u001b[0m\u001b[0;34m(\u001b[0m\u001b[0mhistory_2\u001b[0m\u001b[0;34m.\u001b[0m\u001b[0mhistory\u001b[0m\u001b[0;34m[\u001b[0m\u001b[0;34m\"val_loss\"\u001b[0m\u001b[0;34m]\u001b[0m\u001b[0;34m,\u001b[0m \u001b[0mcolor\u001b[0m\u001b[0;34m=\u001b[0m\u001b[0;34m\"red\"\u001b[0m\u001b[0;34m)\u001b[0m\u001b[0;34m\u001b[0m\u001b[0;34m\u001b[0m\u001b[0m\n",
            "\u001b[0;31mNameError\u001b[0m: name 'history_2' is not defined"
          ]
        }
      ]
    },
    {
      "cell_type": "code",
      "metadata": {
        "colab": {
          "base_uri": "https://localhost:8080/",
          "height": 171
        },
        "id": "3VYIsKKfZlYg",
        "outputId": "b26c9242-aa58-46dd-e939-11a8158fa61d"
      },
      "source": [
        "result = model_2.predict(X_test)"
      ],
      "id": "3VYIsKKfZlYg",
      "execution_count": 119,
      "outputs": [
        {
          "output_type": "error",
          "ename": "NameError",
          "evalue": "ignored",
          "traceback": [
            "\u001b[0;31m---------------------------------------------------------------------------\u001b[0m",
            "\u001b[0;31mNameError\u001b[0m                                 Traceback (most recent call last)",
            "\u001b[0;32m<ipython-input-119-c2aecf0b223d>\u001b[0m in \u001b[0;36m<module>\u001b[0;34m()\u001b[0m\n\u001b[0;32m----> 1\u001b[0;31m \u001b[0mresult\u001b[0m \u001b[0;34m=\u001b[0m \u001b[0mmodel_2\u001b[0m\u001b[0;34m.\u001b[0m\u001b[0mpredict\u001b[0m\u001b[0;34m(\u001b[0m\u001b[0mX_test\u001b[0m\u001b[0;34m)\u001b[0m\u001b[0;34m\u001b[0m\u001b[0;34m\u001b[0m\u001b[0m\n\u001b[0m",
            "\u001b[0;31mNameError\u001b[0m: name 'model_2' is not defined"
          ]
        }
      ]
    },
    {
      "cell_type": "code",
      "metadata": {
        "colab": {
          "base_uri": "https://localhost:8080/",
          "height": 283
        },
        "id": "s0Pj04qmZsnj",
        "outputId": "8470477e-4ac5-494d-92b3-a84883f2b4f1"
      },
      "source": [
        "plt.plot(result.flatten())\n",
        "plt.plot(y_test, color=\"red\")"
      ],
      "id": "s0Pj04qmZsnj",
      "execution_count": 120,
      "outputs": [
        {
          "output_type": "execute_result",
          "data": {
            "text/plain": [
              "[<matplotlib.lines.Line2D at 0x7f075e3fe710>]"
            ]
          },
          "metadata": {
            "tags": []
          },
          "execution_count": 120
        },
        {
          "output_type": "display_data",
          "data": {
            "image/png": "[encoded data removed]",
            "text/plain": [
              "<Figure size 432x288 with 1 Axes>"
            ]
          },
          "metadata": {
            "tags": [],
            "needs_background": "light"
          }
        }
      ]
    },
    {
      "cell_type": "markdown",
      "metadata": {
        "id": "zdXAIzgAAdEs"
      },
      "source": [
        "## Testing the MAPE score"
      ],
      "id": "zdXAIzgAAdEs"
    },
    {
      "cell_type": "code",
      "metadata": {
        "id": "sb9RwLeu2psV"
      },
      "source": [
        "def mae(y_true, y_pred):\n",
        "    y_true = np.array(y_true)\n",
        "    y_pred = np.array(y_pred)\n",
        "    return np.sum(np.abs(y_true-y_pred))/(len(y_true))\n",
        "\n",
        "def mse(y_true, y_pred):\n",
        "    y_true = np.array(y_true)\n",
        "    y_pred = np.array(y_pred)\n",
        "    return np.mean((y_true-y_pred)**2)\n",
        "\n",
        "def mean_absolute_percentage_error(y_true, y_pred):\n",
        "    y_true, y_pred = np.array(y_true), np.array(y_pred)\n",
        "    return np.mean(np.abs((y_true - y_pred) / y_true)) * 100"
      ],
      "id": "sb9RwLeu2psV",
      "execution_count": 50,
      "outputs": []
    },
    {
      "cell_type": "code",
      "metadata": {
        "id": "gtLntnkiA5KP"
      },
      "source": [
        "res = pd.DataFrame(result.flatten())\n",
        "res[0];"
      ],
      "id": "gtLntnkiA5KP",
      "execution_count": 163,
      "outputs": []
    },
    {
      "cell_type": "code",
      "metadata": {
        "colab": {
          "base_uri": "https://localhost:8080/"
        },
        "id": "vo-FeJ1FAiwW",
        "outputId": "1ca9b530-69e1-4949-83cd-7180f6db52a2"
      },
      "source": [
        "mean_absolute_percentage_error(y_test[0], res[0])"
      ],
      "id": "vo-FeJ1FAiwW",
      "execution_count": 164,
      "outputs": [
        {
          "output_type": "execute_result",
          "data": {
            "text/plain": [
              "16.935817897319794"
            ]
          },
          "metadata": {
            "tags": []
          },
          "execution_count": 164
        }
      ]
    },
    {
      "cell_type": "code",
      "metadata": {
        "id": "q8aHI31DBKNb"
      },
      "source": [
        ""
      ],
      "id": "q8aHI31DBKNb",
      "execution_count": null,
      "outputs": []
    },
    {
      "cell_type": "markdown",
      "metadata": {
        "id": "WFseMsB8ywuN"
      },
      "source": [
        "Ideas to improve the model:\n",
        "Does the split into 64 sequences make sense? Try 32?\n",
        "try out different stride size in sequencing, maybe even tumbling \n",
        "window and no overlapping window\n",
        "\n",
        "Multiple Layers:\n"
      ],
      "id": "WFseMsB8ywuN"
    },
    {
      "cell_type": "markdown",
      "metadata": {
        "id": "aHwB1Ej04QFZ"
      },
      "source": [
        "### Unscaling and Comparing"
      ],
      "id": "aHwB1Ej04QFZ"
    },
    {
      "cell_type": "code",
      "metadata": {
        "id": "Y8GDWH553TeE"
      },
      "source": [
        ""
      ],
      "id": "Y8GDWH553TeE",
      "execution_count": null,
      "outputs": []
    }
  ]
}