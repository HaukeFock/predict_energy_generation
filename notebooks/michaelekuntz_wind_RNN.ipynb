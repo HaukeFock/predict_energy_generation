{
 "cells": [
  {
   "cell_type": "code",
   "execution_count": 1,
   "id": "c603b690",
   "metadata": {},
   "outputs": [],
   "source": [
    "import pandas as pd\n",
    "import numpy as np\n",
    "import datetime as dt\n",
    "import math\n",
    "import matplotlib.pyplot as plt\n",
    "import os\n",
    "from sklearn.preprocessing import MinMaxScaler\n",
    "from sklearn.metrics import mean_squared_error\n",
    "from keras.models import Sequential\n",
    "from keras.layers import Dense\n",
    "from keras.layers import LSTM"
   ]
  },
  {
   "cell_type": "markdown",
   "id": "be90dac2",
   "metadata": {},
   "source": [
    "# Importing data"
   ]
  },
  {
   "cell_type": "code",
   "execution_count": 2,
   "id": "e188c11a",
   "metadata": {},
   "outputs": [
    {
     "data": {
      "text/plain": [
       "'/Users/michael.kuntz/code/HaukeFock/predict_energy_generation/notebooks'"
      ]
     },
     "execution_count": 2,
     "metadata": {},
     "output_type": "execute_result"
    }
   ],
   "source": [
    "os.getcwd()"
   ]
  },
  {
   "cell_type": "code",
   "execution_count": 3,
   "id": "f3f9bfbe",
   "metadata": {},
   "outputs": [],
   "source": [
    "daily_data_path = '/Users/michael.kuntz/code/HaukeFock/predict_energy_generation/raw_data/Target/Daily/energy_generation_data/df_deutschland.csv'\n",
    "hourly_data_path = '/Users/michael.kuntz/code/HaukeFock/predict_energy_generation/raw_data/Target/Hourly/energy_generation_data/df_deutschland.csv'"
   ]
  },
  {
   "cell_type": "markdown",
   "id": "9bba16b6",
   "metadata": {},
   "source": [
    "## Importing target"
   ]
  },
  {
   "cell_type": "code",
   "execution_count": 4,
   "id": "1c16cb7e",
   "metadata": {},
   "outputs": [
    {
     "data": {
      "text/html": [
       "<div>\n",
       "<style scoped>\n",
       "    .dataframe tbody tr th:only-of-type {\n",
       "        vertical-align: middle;\n",
       "    }\n",
       "\n",
       "    .dataframe tbody tr th {\n",
       "        vertical-align: top;\n",
       "    }\n",
       "\n",
       "    .dataframe thead th {\n",
       "        text-align: right;\n",
       "    }\n",
       "</style>\n",
       "<table border=\"1\" class=\"dataframe\">\n",
       "  <thead>\n",
       "    <tr style=\"text-align: right;\">\n",
       "      <th></th>\n",
       "      <th>Wind offshore[MWh]</th>\n",
       "      <th>Wind onshore[MWh]</th>\n",
       "      <th>Photovoltaics[MWh]</th>\n",
       "      <th>region</th>\n",
       "    </tr>\n",
       "    <tr>\n",
       "      <th>Date</th>\n",
       "      <th></th>\n",
       "      <th></th>\n",
       "      <th></th>\n",
       "      <th></th>\n",
       "    </tr>\n",
       "  </thead>\n",
       "  <tbody>\n",
       "    <tr>\n",
       "      <th>2015-01-01</th>\n",
       "      <td>11.989583</td>\n",
       "      <td>1278.427083</td>\n",
       "      <td>75.531250</td>\n",
       "      <td>50hertz</td>\n",
       "    </tr>\n",
       "    <tr>\n",
       "      <th>2015-01-02</th>\n",
       "      <td>9.947917</td>\n",
       "      <td>2555.510417</td>\n",
       "      <td>17.677083</td>\n",
       "      <td>50hertz</td>\n",
       "    </tr>\n",
       "    <tr>\n",
       "      <th>2015-01-03</th>\n",
       "      <td>11.281250</td>\n",
       "      <td>2308.958333</td>\n",
       "      <td>27.354167</td>\n",
       "      <td>50hertz</td>\n",
       "    </tr>\n",
       "    <tr>\n",
       "      <th>2015-01-04</th>\n",
       "      <td>11.354167</td>\n",
       "      <td>2079.041667</td>\n",
       "      <td>49.750000</td>\n",
       "      <td>50hertz</td>\n",
       "    </tr>\n",
       "    <tr>\n",
       "      <th>2015-01-05</th>\n",
       "      <td>4.104167</td>\n",
       "      <td>1333.343750</td>\n",
       "      <td>20.187500</td>\n",
       "      <td>50hertz</td>\n",
       "    </tr>\n",
       "  </tbody>\n",
       "</table>\n",
       "</div>"
      ],
      "text/plain": [
       "            Wind offshore[MWh]  Wind onshore[MWh]  Photovoltaics[MWh]   region\n",
       "Date                                                                          \n",
       "2015-01-01           11.989583        1278.427083           75.531250  50hertz\n",
       "2015-01-02            9.947917        2555.510417           17.677083  50hertz\n",
       "2015-01-03           11.281250        2308.958333           27.354167  50hertz\n",
       "2015-01-04           11.354167        2079.041667           49.750000  50hertz\n",
       "2015-01-05            4.104167        1333.343750           20.187500  50hertz"
      ]
     },
     "execution_count": 4,
     "metadata": {},
     "output_type": "execute_result"
    }
   ],
   "source": [
    "daily_df = pd.read_csv(daily_data_path)\n",
    "\n",
    "daily_df['Date'] = pd.to_datetime(daily_df['Date'])\n",
    "daily_df.set_index('Date', inplace=True)\n",
    "\n",
    "daily_df.head()"
   ]
  },
  {
   "cell_type": "code",
   "execution_count": 5,
   "id": "471485ed",
   "metadata": {},
   "outputs": [
    {
     "data": {
      "text/html": [
       "<div>\n",
       "<style scoped>\n",
       "    .dataframe tbody tr th:only-of-type {\n",
       "        vertical-align: middle;\n",
       "    }\n",
       "\n",
       "    .dataframe tbody tr th {\n",
       "        vertical-align: top;\n",
       "    }\n",
       "\n",
       "    .dataframe thead th {\n",
       "        text-align: right;\n",
       "    }\n",
       "</style>\n",
       "<table border=\"1\" class=\"dataframe\">\n",
       "  <thead>\n",
       "    <tr style=\"text-align: right;\">\n",
       "      <th></th>\n",
       "      <th>Wind offshore[MWh]</th>\n",
       "      <th>Wind onshore[MWh]</th>\n",
       "      <th>Photovoltaics[MWh]</th>\n",
       "      <th>region</th>\n",
       "    </tr>\n",
       "    <tr>\n",
       "      <th>Date</th>\n",
       "      <th></th>\n",
       "      <th></th>\n",
       "      <th></th>\n",
       "      <th></th>\n",
       "    </tr>\n",
       "  </thead>\n",
       "  <tbody>\n",
       "    <tr>\n",
       "      <th>2021-01-01 19:00:00</th>\n",
       "      <td>0.0</td>\n",
       "      <td>13.0</td>\n",
       "      <td>0.0</td>\n",
       "      <td>transnet_bw</td>\n",
       "    </tr>\n",
       "    <tr>\n",
       "      <th>2021-01-01 20:00:00</th>\n",
       "      <td>0.0</td>\n",
       "      <td>21.0</td>\n",
       "      <td>0.0</td>\n",
       "      <td>transnet_bw</td>\n",
       "    </tr>\n",
       "    <tr>\n",
       "      <th>2021-01-01 21:00:00</th>\n",
       "      <td>0.0</td>\n",
       "      <td>18.0</td>\n",
       "      <td>0.0</td>\n",
       "      <td>transnet_bw</td>\n",
       "    </tr>\n",
       "    <tr>\n",
       "      <th>2021-01-01 22:00:00</th>\n",
       "      <td>0.0</td>\n",
       "      <td>25.0</td>\n",
       "      <td>0.0</td>\n",
       "      <td>transnet_bw</td>\n",
       "    </tr>\n",
       "    <tr>\n",
       "      <th>2021-01-01 23:00:00</th>\n",
       "      <td>0.0</td>\n",
       "      <td>29.0</td>\n",
       "      <td>0.0</td>\n",
       "      <td>transnet_bw</td>\n",
       "    </tr>\n",
       "  </tbody>\n",
       "</table>\n",
       "</div>"
      ],
      "text/plain": [
       "                     Wind offshore[MWh]  Wind onshore[MWh]  \\\n",
       "Date                                                         \n",
       "2021-01-01 19:00:00                 0.0               13.0   \n",
       "2021-01-01 20:00:00                 0.0               21.0   \n",
       "2021-01-01 21:00:00                 0.0               18.0   \n",
       "2021-01-01 22:00:00                 0.0               25.0   \n",
       "2021-01-01 23:00:00                 0.0               29.0   \n",
       "\n",
       "                     Photovoltaics[MWh]       region  \n",
       "Date                                                  \n",
       "2021-01-01 19:00:00                 0.0  transnet_bw  \n",
       "2021-01-01 20:00:00                 0.0  transnet_bw  \n",
       "2021-01-01 21:00:00                 0.0  transnet_bw  \n",
       "2021-01-01 22:00:00                 0.0  transnet_bw  \n",
       "2021-01-01 23:00:00                 0.0  transnet_bw  "
      ]
     },
     "execution_count": 5,
     "metadata": {},
     "output_type": "execute_result"
    }
   ],
   "source": [
    "hourly_df = pd.read_csv(hourly_data_path)\n",
    "\n",
    "hourly_df['Date'] = pd.to_datetime(hourly_df['Date'])\n",
    "hourly_df.set_index('Date', inplace=True)\n",
    "\n",
    "hourly_df.tail()"
   ]
  },
  {
   "cell_type": "code",
   "execution_count": 6,
   "id": "4ebcf35c",
   "metadata": {},
   "outputs": [
    {
     "data": {
      "text/html": [
       "<div>\n",
       "<style scoped>\n",
       "    .dataframe tbody tr th:only-of-type {\n",
       "        vertical-align: middle;\n",
       "    }\n",
       "\n",
       "    .dataframe tbody tr th {\n",
       "        vertical-align: top;\n",
       "    }\n",
       "\n",
       "    .dataframe thead th {\n",
       "        text-align: right;\n",
       "    }\n",
       "</style>\n",
       "<table border=\"1\" class=\"dataframe\">\n",
       "  <thead>\n",
       "    <tr style=\"text-align: right;\">\n",
       "      <th></th>\n",
       "      <th>Wind offshore[MWh]</th>\n",
       "      <th>Wind onshore[MWh]</th>\n",
       "      <th>Photovoltaics[MWh]</th>\n",
       "    </tr>\n",
       "    <tr>\n",
       "      <th>Date</th>\n",
       "      <th></th>\n",
       "      <th></th>\n",
       "      <th></th>\n",
       "    </tr>\n",
       "  </thead>\n",
       "  <tbody>\n",
       "    <tr>\n",
       "      <th>2015-01-01 00:00:00</th>\n",
       "      <td>517.0</td>\n",
       "      <td>8129.0</td>\n",
       "      <td>0.0</td>\n",
       "    </tr>\n",
       "    <tr>\n",
       "      <th>2015-01-01 01:00:00</th>\n",
       "      <td>516.0</td>\n",
       "      <td>8300.0</td>\n",
       "      <td>0.0</td>\n",
       "    </tr>\n",
       "    <tr>\n",
       "      <th>2015-01-01 02:00:00</th>\n",
       "      <td>514.0</td>\n",
       "      <td>8544.0</td>\n",
       "      <td>0.0</td>\n",
       "    </tr>\n",
       "    <tr>\n",
       "      <th>2015-01-01 03:00:00</th>\n",
       "      <td>519.0</td>\n",
       "      <td>8552.0</td>\n",
       "      <td>0.0</td>\n",
       "    </tr>\n",
       "    <tr>\n",
       "      <th>2015-01-01 04:00:00</th>\n",
       "      <td>522.0</td>\n",
       "      <td>8646.0</td>\n",
       "      <td>0.0</td>\n",
       "    </tr>\n",
       "  </tbody>\n",
       "</table>\n",
       "</div>"
      ],
      "text/plain": [
       "                     Wind offshore[MWh]  Wind onshore[MWh]  Photovoltaics[MWh]\n",
       "Date                                                                          \n",
       "2015-01-01 00:00:00               517.0             8129.0                 0.0\n",
       "2015-01-01 01:00:00               516.0             8300.0                 0.0\n",
       "2015-01-01 02:00:00               514.0             8544.0                 0.0\n",
       "2015-01-01 03:00:00               519.0             8552.0                 0.0\n",
       "2015-01-01 04:00:00               522.0             8646.0                 0.0"
      ]
     },
     "execution_count": 6,
     "metadata": {},
     "output_type": "execute_result"
    }
   ],
   "source": [
    "hourly_de_df = hourly_df.groupby(hourly_df.index).sum()\n",
    "hourly_de_df.head()"
   ]
  },
  {
   "cell_type": "code",
   "execution_count": 7,
   "id": "027044e6",
   "metadata": {},
   "outputs": [
    {
     "data": {
      "text/html": [
       "<div>\n",
       "<style scoped>\n",
       "    .dataframe tbody tr th:only-of-type {\n",
       "        vertical-align: middle;\n",
       "    }\n",
       "\n",
       "    .dataframe tbody tr th {\n",
       "        vertical-align: top;\n",
       "    }\n",
       "\n",
       "    .dataframe thead th {\n",
       "        text-align: right;\n",
       "    }\n",
       "</style>\n",
       "<table border=\"1\" class=\"dataframe\">\n",
       "  <thead>\n",
       "    <tr style=\"text-align: right;\">\n",
       "      <th></th>\n",
       "      <th>Wind[MWh]</th>\n",
       "    </tr>\n",
       "    <tr>\n",
       "      <th>Date</th>\n",
       "      <th></th>\n",
       "    </tr>\n",
       "  </thead>\n",
       "  <tbody>\n",
       "    <tr>\n",
       "      <th>2015-01-01 00:00:00</th>\n",
       "      <td>8646.0</td>\n",
       "    </tr>\n",
       "    <tr>\n",
       "      <th>2015-01-01 01:00:00</th>\n",
       "      <td>8816.0</td>\n",
       "    </tr>\n",
       "    <tr>\n",
       "      <th>2015-01-01 02:00:00</th>\n",
       "      <td>9058.0</td>\n",
       "    </tr>\n",
       "    <tr>\n",
       "      <th>2015-01-01 03:00:00</th>\n",
       "      <td>9071.0</td>\n",
       "    </tr>\n",
       "    <tr>\n",
       "      <th>2015-01-01 04:00:00</th>\n",
       "      <td>9168.0</td>\n",
       "    </tr>\n",
       "  </tbody>\n",
       "</table>\n",
       "</div>"
      ],
      "text/plain": [
       "                     Wind[MWh]\n",
       "Date                          \n",
       "2015-01-01 00:00:00     8646.0\n",
       "2015-01-01 01:00:00     8816.0\n",
       "2015-01-01 02:00:00     9058.0\n",
       "2015-01-01 03:00:00     9071.0\n",
       "2015-01-01 04:00:00     9168.0"
      ]
     },
     "execution_count": 7,
     "metadata": {},
     "output_type": "execute_result"
    }
   ],
   "source": [
    "hourly_wind_de_df = pd.DataFrame(hourly_de_df.iloc[:,0] + hourly_de_df.iloc[:,1],columns=['Wind[MWh]'])\n",
    "hourly_wind_de_df.head()"
   ]
  },
  {
   "cell_type": "code",
   "execution_count": 8,
   "id": "c09ef809",
   "metadata": {},
   "outputs": [
    {
     "data": {
      "text/html": [
       "<div>\n",
       "<style scoped>\n",
       "    .dataframe tbody tr th:only-of-type {\n",
       "        vertical-align: middle;\n",
       "    }\n",
       "\n",
       "    .dataframe tbody tr th {\n",
       "        vertical-align: top;\n",
       "    }\n",
       "\n",
       "    .dataframe thead th {\n",
       "        text-align: right;\n",
       "    }\n",
       "</style>\n",
       "<table border=\"1\" class=\"dataframe\">\n",
       "  <thead>\n",
       "    <tr style=\"text-align: right;\">\n",
       "      <th></th>\n",
       "      <th>Wind[MWh]</th>\n",
       "    </tr>\n",
       "    <tr>\n",
       "      <th>Date</th>\n",
       "      <th></th>\n",
       "    </tr>\n",
       "  </thead>\n",
       "  <tbody>\n",
       "    <tr>\n",
       "      <th>2021-01-01 19:00:00</th>\n",
       "      <td>4845.0</td>\n",
       "    </tr>\n",
       "    <tr>\n",
       "      <th>2021-01-01 20:00:00</th>\n",
       "      <td>5028.0</td>\n",
       "    </tr>\n",
       "    <tr>\n",
       "      <th>2021-01-01 21:00:00</th>\n",
       "      <td>5204.0</td>\n",
       "    </tr>\n",
       "    <tr>\n",
       "      <th>2021-01-01 22:00:00</th>\n",
       "      <td>5681.0</td>\n",
       "    </tr>\n",
       "    <tr>\n",
       "      <th>2021-01-01 23:00:00</th>\n",
       "      <td>5333.0</td>\n",
       "    </tr>\n",
       "  </tbody>\n",
       "</table>\n",
       "</div>"
      ],
      "text/plain": [
       "                     Wind[MWh]\n",
       "Date                          \n",
       "2021-01-01 19:00:00     4845.0\n",
       "2021-01-01 20:00:00     5028.0\n",
       "2021-01-01 21:00:00     5204.0\n",
       "2021-01-01 22:00:00     5681.0\n",
       "2021-01-01 23:00:00     5333.0"
      ]
     },
     "execution_count": 8,
     "metadata": {},
     "output_type": "execute_result"
    }
   ],
   "source": [
    "hourly_wind_de_df.tail()"
   ]
  },
  {
   "cell_type": "code",
   "execution_count": 9,
   "id": "2951a25d",
   "metadata": {},
   "outputs": [
    {
     "data": {
      "text/plain": [
       "Wind[MWh]    float32\n",
       "dtype: object"
      ]
     },
     "execution_count": 9,
     "metadata": {},
     "output_type": "execute_result"
    }
   ],
   "source": [
    "hourly_wind_de_df = hourly_wind_de_df.astype('float32')\n",
    "hourly_wind_de_df.dtypes"
   ]
  },
  {
   "cell_type": "markdown",
   "id": "ec673b31",
   "metadata": {},
   "source": [
    "## Importing features"
   ]
  },
  {
   "cell_type": "code",
   "execution_count": 10,
   "id": "9e333566",
   "metadata": {},
   "outputs": [],
   "source": [
    "feature_path = daily_data_path = '/Users/michael.kuntz/code/HaukeFock/predict_energy_generation/raw_data/Features/DATAFRAMES'\n",
    "\n",
    "hourly_windspeed_df = pd.read_csv(os.path.join(feature_path,'wind_hourly_clean.csv'))\n",
    "hourly_airp_df = pd.read_csv(os.path.join(feature_path,'hourly_airp_df.csv'))"
   ]
  },
  {
   "cell_type": "code",
   "execution_count": 11,
   "id": "c16a7b87",
   "metadata": {},
   "outputs": [
    {
     "data": {
      "text/html": [
       "<div>\n",
       "<style scoped>\n",
       "    .dataframe tbody tr th:only-of-type {\n",
       "        vertical-align: middle;\n",
       "    }\n",
       "\n",
       "    .dataframe tbody tr th {\n",
       "        vertical-align: top;\n",
       "    }\n",
       "\n",
       "    .dataframe thead th {\n",
       "        text-align: right;\n",
       "    }\n",
       "</style>\n",
       "<table border=\"1\" class=\"dataframe\">\n",
       "  <thead>\n",
       "    <tr style=\"text-align: right;\">\n",
       "      <th></th>\n",
       "      <th>Date</th>\n",
       "      <th>90</th>\n",
       "      <th>125</th>\n",
       "      <th>161</th>\n",
       "      <th>164</th>\n",
       "      <th>183</th>\n",
       "      <th>197</th>\n",
       "      <th>198</th>\n",
       "      <th>232</th>\n",
       "      <th>282</th>\n",
       "      <th>...</th>\n",
       "      <th>15000</th>\n",
       "      <th>15044</th>\n",
       "      <th>15120</th>\n",
       "      <th>15122</th>\n",
       "      <th>15189</th>\n",
       "      <th>15200</th>\n",
       "      <th>15207</th>\n",
       "      <th>15214</th>\n",
       "      <th>15444</th>\n",
       "      <th>1001</th>\n",
       "    </tr>\n",
       "  </thead>\n",
       "  <tbody>\n",
       "    <tr>\n",
       "      <th>0</th>\n",
       "      <td>2015-01-01 00:00:00</td>\n",
       "      <td>2.1</td>\n",
       "      <td>0.7</td>\n",
       "      <td>0.9</td>\n",
       "      <td>5.1</td>\n",
       "      <td>11.3</td>\n",
       "      <td>3.2</td>\n",
       "      <td>1.6</td>\n",
       "      <td>1.1</td>\n",
       "      <td>0.7</td>\n",
       "      <td>...</td>\n",
       "      <td>3.9</td>\n",
       "      <td>0.8</td>\n",
       "      <td>4.9</td>\n",
       "      <td>3.2</td>\n",
       "      <td>4.4</td>\n",
       "      <td>3.0</td>\n",
       "      <td>0.5</td>\n",
       "      <td>1.2</td>\n",
       "      <td>1.0</td>\n",
       "      <td>2.2</td>\n",
       "    </tr>\n",
       "    <tr>\n",
       "      <th>1</th>\n",
       "      <td>2015-01-01 01:00:00</td>\n",
       "      <td>2.7</td>\n",
       "      <td>0.3</td>\n",
       "      <td>0.8</td>\n",
       "      <td>4.9</td>\n",
       "      <td>13.0</td>\n",
       "      <td>3.2</td>\n",
       "      <td>2.6</td>\n",
       "      <td>1.5</td>\n",
       "      <td>0.9</td>\n",
       "      <td>...</td>\n",
       "      <td>3.4</td>\n",
       "      <td>0.7</td>\n",
       "      <td>5.3</td>\n",
       "      <td>2.6</td>\n",
       "      <td>6.0</td>\n",
       "      <td>2.8</td>\n",
       "      <td>0.8</td>\n",
       "      <td>1.1</td>\n",
       "      <td>1.0</td>\n",
       "      <td>2.5</td>\n",
       "    </tr>\n",
       "    <tr>\n",
       "      <th>2</th>\n",
       "      <td>2015-01-01 02:00:00</td>\n",
       "      <td>2.5</td>\n",
       "      <td>0.8</td>\n",
       "      <td>1.3</td>\n",
       "      <td>3.9</td>\n",
       "      <td>12.8</td>\n",
       "      <td>3.2</td>\n",
       "      <td>3.2</td>\n",
       "      <td>1.7</td>\n",
       "      <td>0.9</td>\n",
       "      <td>...</td>\n",
       "      <td>3.8</td>\n",
       "      <td>1.3</td>\n",
       "      <td>4.8</td>\n",
       "      <td>2.3</td>\n",
       "      <td>5.7</td>\n",
       "      <td>3.1</td>\n",
       "      <td>0.5</td>\n",
       "      <td>1.8</td>\n",
       "      <td>1.2</td>\n",
       "      <td>2.6</td>\n",
       "    </tr>\n",
       "    <tr>\n",
       "      <th>3</th>\n",
       "      <td>2015-01-01 03:00:00</td>\n",
       "      <td>2.0</td>\n",
       "      <td>0.7</td>\n",
       "      <td>1.4</td>\n",
       "      <td>3.7</td>\n",
       "      <td>12.4</td>\n",
       "      <td>3.2</td>\n",
       "      <td>3.5</td>\n",
       "      <td>1.5</td>\n",
       "      <td>0.6</td>\n",
       "      <td>...</td>\n",
       "      <td>4.2</td>\n",
       "      <td>1.1</td>\n",
       "      <td>4.2</td>\n",
       "      <td>2.5</td>\n",
       "      <td>5.4</td>\n",
       "      <td>3.2</td>\n",
       "      <td>0.7</td>\n",
       "      <td>1.1</td>\n",
       "      <td>1.0</td>\n",
       "      <td>2.8</td>\n",
       "    </tr>\n",
       "    <tr>\n",
       "      <th>4</th>\n",
       "      <td>2015-01-01 04:00:00</td>\n",
       "      <td>1.1</td>\n",
       "      <td>0.9</td>\n",
       "      <td>1.7</td>\n",
       "      <td>4.2</td>\n",
       "      <td>12.2</td>\n",
       "      <td>3.2</td>\n",
       "      <td>3.4</td>\n",
       "      <td>1.7</td>\n",
       "      <td>1.0</td>\n",
       "      <td>...</td>\n",
       "      <td>4.4</td>\n",
       "      <td>0.9</td>\n",
       "      <td>4.1</td>\n",
       "      <td>1.8</td>\n",
       "      <td>6.1</td>\n",
       "      <td>3.6</td>\n",
       "      <td>0.8</td>\n",
       "      <td>0.9</td>\n",
       "      <td>1.4</td>\n",
       "      <td>2.8</td>\n",
       "    </tr>\n",
       "  </tbody>\n",
       "</table>\n",
       "<p>5 rows × 261 columns</p>\n",
       "</div>"
      ],
      "text/plain": [
       "                  Date   90  125  161  164   183  197  198  232  282  ...  \\\n",
       "0  2015-01-01 00:00:00  2.1  0.7  0.9  5.1  11.3  3.2  1.6  1.1  0.7  ...   \n",
       "1  2015-01-01 01:00:00  2.7  0.3  0.8  4.9  13.0  3.2  2.6  1.5  0.9  ...   \n",
       "2  2015-01-01 02:00:00  2.5  0.8  1.3  3.9  12.8  3.2  3.2  1.7  0.9  ...   \n",
       "3  2015-01-01 03:00:00  2.0  0.7  1.4  3.7  12.4  3.2  3.5  1.5  0.6  ...   \n",
       "4  2015-01-01 04:00:00  1.1  0.9  1.7  4.2  12.2  3.2  3.4  1.7  1.0  ...   \n",
       "\n",
       "   15000  15044  15120  15122  15189  15200  15207  15214  15444  1001  \n",
       "0    3.9    0.8    4.9    3.2    4.4    3.0    0.5    1.2    1.0   2.2  \n",
       "1    3.4    0.7    5.3    2.6    6.0    2.8    0.8    1.1    1.0   2.5  \n",
       "2    3.8    1.3    4.8    2.3    5.7    3.1    0.5    1.8    1.2   2.6  \n",
       "3    4.2    1.1    4.2    2.5    5.4    3.2    0.7    1.1    1.0   2.8  \n",
       "4    4.4    0.9    4.1    1.8    6.1    3.6    0.8    0.9    1.4   2.8  \n",
       "\n",
       "[5 rows x 261 columns]"
      ]
     },
     "execution_count": 11,
     "metadata": {},
     "output_type": "execute_result"
    }
   ],
   "source": [
    "hourly_windspeed_df.head()"
   ]
  },
  {
   "cell_type": "code",
   "execution_count": 12,
   "id": "24293769",
   "metadata": {},
   "outputs": [
    {
     "data": {
      "text/html": [
       "<div>\n",
       "<style scoped>\n",
       "    .dataframe tbody tr th:only-of-type {\n",
       "        vertical-align: middle;\n",
       "    }\n",
       "\n",
       "    .dataframe tbody tr th {\n",
       "        vertical-align: top;\n",
       "    }\n",
       "\n",
       "    .dataframe thead th {\n",
       "        text-align: right;\n",
       "    }\n",
       "</style>\n",
       "<table border=\"1\" class=\"dataframe\">\n",
       "  <thead>\n",
       "    <tr style=\"text-align: right;\">\n",
       "      <th></th>\n",
       "      <th>Date</th>\n",
       "      <th>44</th>\n",
       "      <th>71</th>\n",
       "      <th>73</th>\n",
       "      <th>78</th>\n",
       "      <th>91</th>\n",
       "      <th>96</th>\n",
       "      <th>102</th>\n",
       "      <th>125</th>\n",
       "      <th>131</th>\n",
       "      <th>...</th>\n",
       "      <th>13711</th>\n",
       "      <th>13713</th>\n",
       "      <th>13777</th>\n",
       "      <th>13965</th>\n",
       "      <th>15000</th>\n",
       "      <th>15207</th>\n",
       "      <th>15444</th>\n",
       "      <th>15555</th>\n",
       "      <th>19171</th>\n",
       "      <th>19172</th>\n",
       "    </tr>\n",
       "  </thead>\n",
       "  <tbody>\n",
       "    <tr>\n",
       "      <th>0</th>\n",
       "      <td>2015-01-01 00:00:00</td>\n",
       "      <td>2.2</td>\n",
       "      <td>-3.7</td>\n",
       "      <td>-2.1</td>\n",
       "      <td>1.6</td>\n",
       "      <td>0.6</td>\n",
       "      <td>NaN</td>\n",
       "      <td>3.9</td>\n",
       "      <td>-9.6</td>\n",
       "      <td>1.1</td>\n",
       "      <td>...</td>\n",
       "      <td>1.9</td>\n",
       "      <td>1.1</td>\n",
       "      <td>4.2</td>\n",
       "      <td>-2.9</td>\n",
       "      <td>1.2</td>\n",
       "      <td>0.1</td>\n",
       "      <td>-2.2</td>\n",
       "      <td>NaN</td>\n",
       "      <td>NaN</td>\n",
       "      <td>NaN</td>\n",
       "    </tr>\n",
       "    <tr>\n",
       "      <th>1</th>\n",
       "      <td>2015-01-01 01:00:00</td>\n",
       "      <td>2.5</td>\n",
       "      <td>-3.8</td>\n",
       "      <td>-1.7</td>\n",
       "      <td>1.9</td>\n",
       "      <td>0.5</td>\n",
       "      <td>NaN</td>\n",
       "      <td>3.3</td>\n",
       "      <td>-8.8</td>\n",
       "      <td>1.3</td>\n",
       "      <td>...</td>\n",
       "      <td>1.7</td>\n",
       "      <td>0.9</td>\n",
       "      <td>3.7</td>\n",
       "      <td>-5.2</td>\n",
       "      <td>1.0</td>\n",
       "      <td>-0.8</td>\n",
       "      <td>-1.8</td>\n",
       "      <td>NaN</td>\n",
       "      <td>NaN</td>\n",
       "      <td>NaN</td>\n",
       "    </tr>\n",
       "    <tr>\n",
       "      <th>2</th>\n",
       "      <td>2015-01-01 02:00:00</td>\n",
       "      <td>2.3</td>\n",
       "      <td>-4.4</td>\n",
       "      <td>-1.8</td>\n",
       "      <td>1.6</td>\n",
       "      <td>0.3</td>\n",
       "      <td>NaN</td>\n",
       "      <td>3.7</td>\n",
       "      <td>-12.5</td>\n",
       "      <td>1.2</td>\n",
       "      <td>...</td>\n",
       "      <td>1.6</td>\n",
       "      <td>1.0</td>\n",
       "      <td>3.1</td>\n",
       "      <td>-5.3</td>\n",
       "      <td>1.1</td>\n",
       "      <td>-1.4</td>\n",
       "      <td>-2.3</td>\n",
       "      <td>NaN</td>\n",
       "      <td>NaN</td>\n",
       "      <td>NaN</td>\n",
       "    </tr>\n",
       "    <tr>\n",
       "      <th>3</th>\n",
       "      <td>2015-01-01 03:00:00</td>\n",
       "      <td>2.3</td>\n",
       "      <td>-3.2</td>\n",
       "      <td>-2.0</td>\n",
       "      <td>1.5</td>\n",
       "      <td>0.4</td>\n",
       "      <td>NaN</td>\n",
       "      <td>3.8</td>\n",
       "      <td>-11.0</td>\n",
       "      <td>1.4</td>\n",
       "      <td>...</td>\n",
       "      <td>1.5</td>\n",
       "      <td>0.9</td>\n",
       "      <td>1.8</td>\n",
       "      <td>-4.0</td>\n",
       "      <td>0.5</td>\n",
       "      <td>-1.7</td>\n",
       "      <td>-3.5</td>\n",
       "      <td>NaN</td>\n",
       "      <td>NaN</td>\n",
       "      <td>NaN</td>\n",
       "    </tr>\n",
       "    <tr>\n",
       "      <th>4</th>\n",
       "      <td>2015-01-01 04:00:00</td>\n",
       "      <td>1.9</td>\n",
       "      <td>-3.4</td>\n",
       "      <td>-1.7</td>\n",
       "      <td>1.5</td>\n",
       "      <td>0.4</td>\n",
       "      <td>NaN</td>\n",
       "      <td>3.8</td>\n",
       "      <td>-10.6</td>\n",
       "      <td>1.5</td>\n",
       "      <td>...</td>\n",
       "      <td>1.2</td>\n",
       "      <td>0.9</td>\n",
       "      <td>2.2</td>\n",
       "      <td>-3.6</td>\n",
       "      <td>0.9</td>\n",
       "      <td>-1.5</td>\n",
       "      <td>-1.6</td>\n",
       "      <td>NaN</td>\n",
       "      <td>NaN</td>\n",
       "      <td>NaN</td>\n",
       "    </tr>\n",
       "  </tbody>\n",
       "</table>\n",
       "<p>5 rows × 516 columns</p>\n",
       "</div>"
      ],
      "text/plain": [
       "                  Date   44   71   73   78   91  96  102   125  131  ...  \\\n",
       "0  2015-01-01 00:00:00  2.2 -3.7 -2.1  1.6  0.6 NaN  3.9  -9.6  1.1  ...   \n",
       "1  2015-01-01 01:00:00  2.5 -3.8 -1.7  1.9  0.5 NaN  3.3  -8.8  1.3  ...   \n",
       "2  2015-01-01 02:00:00  2.3 -4.4 -1.8  1.6  0.3 NaN  3.7 -12.5  1.2  ...   \n",
       "3  2015-01-01 03:00:00  2.3 -3.2 -2.0  1.5  0.4 NaN  3.8 -11.0  1.4  ...   \n",
       "4  2015-01-01 04:00:00  1.9 -3.4 -1.7  1.5  0.4 NaN  3.8 -10.6  1.5  ...   \n",
       "\n",
       "   13711  13713  13777  13965  15000  15207  15444  15555  19171  19172  \n",
       "0    1.9    1.1    4.2   -2.9    1.2    0.1   -2.2    NaN    NaN    NaN  \n",
       "1    1.7    0.9    3.7   -5.2    1.0   -0.8   -1.8    NaN    NaN    NaN  \n",
       "2    1.6    1.0    3.1   -5.3    1.1   -1.4   -2.3    NaN    NaN    NaN  \n",
       "3    1.5    0.9    1.8   -4.0    0.5   -1.7   -3.5    NaN    NaN    NaN  \n",
       "4    1.2    0.9    2.2   -3.6    0.9   -1.5   -1.6    NaN    NaN    NaN  \n",
       "\n",
       "[5 rows x 516 columns]"
      ]
     },
     "execution_count": 12,
     "metadata": {},
     "output_type": "execute_result"
    }
   ],
   "source": [
    "hourly_airp_df.head()"
   ]
  },
  {
   "cell_type": "code",
   "execution_count": 13,
   "id": "6cf1da79",
   "metadata": {},
   "outputs": [
    {
     "data": {
      "text/plain": [
       "Date      object\n",
       "90       float64\n",
       "125      float64\n",
       "161      float64\n",
       "164      float64\n",
       "          ...   \n",
       "15200    float64\n",
       "15207    float64\n",
       "15214    float64\n",
       "15444    float64\n",
       "1001     float64\n",
       "Length: 261, dtype: object"
      ]
     },
     "execution_count": 13,
     "metadata": {},
     "output_type": "execute_result"
    }
   ],
   "source": [
    "hourly_windspeed_df.dtypes"
   ]
  },
  {
   "cell_type": "code",
   "execution_count": 14,
   "id": "8f49d19c",
   "metadata": {},
   "outputs": [
    {
     "data": {
      "text/plain": [
       "Date      object\n",
       "44       float64\n",
       "71       float64\n",
       "73       float64\n",
       "78       float64\n",
       "          ...   \n",
       "15207    float64\n",
       "15444    float64\n",
       "15555    float64\n",
       "19171    float64\n",
       "19172    float64\n",
       "Length: 516, dtype: object"
      ]
     },
     "execution_count": 14,
     "metadata": {},
     "output_type": "execute_result"
    }
   ],
   "source": [
    "hourly_airp_df.dtypes"
   ]
  },
  {
   "cell_type": "code",
   "execution_count": 15,
   "id": "f1d0b583",
   "metadata": {},
   "outputs": [],
   "source": [
    "hourly_windspeed_df['Date'] = pd.to_datetime(hourly_windspeed_df['Date'])"
   ]
  },
  {
   "cell_type": "code",
   "execution_count": 16,
   "id": "f8439c8c",
   "metadata": {},
   "outputs": [],
   "source": [
    "hourly_airp_df['Date'] = pd.to_datetime(hourly_airp_df['Date'])"
   ]
  },
  {
   "cell_type": "code",
   "execution_count": 17,
   "id": "515bbe30",
   "metadata": {},
   "outputs": [],
   "source": [
    "hourly_windspeed_df.set_index('Date',inplace=True)"
   ]
  },
  {
   "cell_type": "code",
   "execution_count": 18,
   "id": "ce96f809",
   "metadata": {},
   "outputs": [],
   "source": [
    "hourly_airp_df.set_index('Date',inplace=True)"
   ]
  },
  {
   "cell_type": "code",
   "execution_count": 19,
   "id": "17efcb75",
   "metadata": {},
   "outputs": [],
   "source": [
    "hourly_windspeed_df = hourly_windspeed_df.astype('float32')\n",
    "hourly_airp_df = hourly_airp_df.astype('float32')"
   ]
  },
  {
   "cell_type": "code",
   "execution_count": 20,
   "id": "fdd2ca32",
   "metadata": {},
   "outputs": [
    {
     "data": {
      "text/html": [
       "<div>\n",
       "<style scoped>\n",
       "    .dataframe tbody tr th:only-of-type {\n",
       "        vertical-align: middle;\n",
       "    }\n",
       "\n",
       "    .dataframe tbody tr th {\n",
       "        vertical-align: top;\n",
       "    }\n",
       "\n",
       "    .dataframe thead th {\n",
       "        text-align: right;\n",
       "    }\n",
       "</style>\n",
       "<table border=\"1\" class=\"dataframe\">\n",
       "  <thead>\n",
       "    <tr style=\"text-align: right;\">\n",
       "      <th></th>\n",
       "      <th>Wind_speed</th>\n",
       "    </tr>\n",
       "    <tr>\n",
       "      <th>Date</th>\n",
       "      <th></th>\n",
       "    </tr>\n",
       "  </thead>\n",
       "  <tbody>\n",
       "    <tr>\n",
       "      <th>2015-01-01 00:00:00</th>\n",
       "      <td>3.320001</td>\n",
       "    </tr>\n",
       "    <tr>\n",
       "      <th>2015-01-01 01:00:00</th>\n",
       "      <td>3.306155</td>\n",
       "    </tr>\n",
       "    <tr>\n",
       "      <th>2015-01-01 02:00:00</th>\n",
       "      <td>3.313076</td>\n",
       "    </tr>\n",
       "    <tr>\n",
       "      <th>2015-01-01 03:00:00</th>\n",
       "      <td>3.280000</td>\n",
       "    </tr>\n",
       "    <tr>\n",
       "      <th>2015-01-01 04:00:00</th>\n",
       "      <td>3.300770</td>\n",
       "    </tr>\n",
       "  </tbody>\n",
       "</table>\n",
       "</div>"
      ],
      "text/plain": [
       "                     Wind_speed\n",
       "Date                           \n",
       "2015-01-01 00:00:00    3.320001\n",
       "2015-01-01 01:00:00    3.306155\n",
       "2015-01-01 02:00:00    3.313076\n",
       "2015-01-01 03:00:00    3.280000\n",
       "2015-01-01 04:00:00    3.300770"
      ]
     },
     "execution_count": 20,
     "metadata": {},
     "output_type": "execute_result"
    }
   ],
   "source": [
    "hourly_windspeed_df = pd.DataFrame(hourly_windspeed_df.mean(axis=1),columns = ['Wind_speed'])\n",
    "hourly_windspeed_df.head()"
   ]
  },
  {
   "cell_type": "code",
   "execution_count": 21,
   "id": "eb4371af",
   "metadata": {},
   "outputs": [
    {
     "data": {
      "text/html": [
       "<div>\n",
       "<style scoped>\n",
       "    .dataframe tbody tr th:only-of-type {\n",
       "        vertical-align: middle;\n",
       "    }\n",
       "\n",
       "    .dataframe tbody tr th {\n",
       "        vertical-align: top;\n",
       "    }\n",
       "\n",
       "    .dataframe thead th {\n",
       "        text-align: right;\n",
       "    }\n",
       "</style>\n",
       "<table border=\"1\" class=\"dataframe\">\n",
       "  <thead>\n",
       "    <tr style=\"text-align: right;\">\n",
       "      <th></th>\n",
       "      <th>Air_pressure</th>\n",
       "    </tr>\n",
       "    <tr>\n",
       "      <th>Date</th>\n",
       "      <th></th>\n",
       "    </tr>\n",
       "  </thead>\n",
       "  <tbody>\n",
       "    <tr>\n",
       "      <th>2015-01-01 00:00:00</th>\n",
       "      <td>0.902415</td>\n",
       "    </tr>\n",
       "    <tr>\n",
       "      <th>2015-01-01 01:00:00</th>\n",
       "      <td>0.757948</td>\n",
       "    </tr>\n",
       "    <tr>\n",
       "      <th>2015-01-01 02:00:00</th>\n",
       "      <td>0.600604</td>\n",
       "    </tr>\n",
       "    <tr>\n",
       "      <th>2015-01-01 03:00:00</th>\n",
       "      <td>0.488330</td>\n",
       "    </tr>\n",
       "    <tr>\n",
       "      <th>2015-01-01 04:00:00</th>\n",
       "      <td>0.356942</td>\n",
       "    </tr>\n",
       "  </tbody>\n",
       "</table>\n",
       "</div>"
      ],
      "text/plain": [
       "                     Air_pressure\n",
       "Date                             \n",
       "2015-01-01 00:00:00      0.902415\n",
       "2015-01-01 01:00:00      0.757948\n",
       "2015-01-01 02:00:00      0.600604\n",
       "2015-01-01 03:00:00      0.488330\n",
       "2015-01-01 04:00:00      0.356942"
      ]
     },
     "execution_count": 21,
     "metadata": {},
     "output_type": "execute_result"
    }
   ],
   "source": [
    "hourly_airp_df = pd.DataFrame(hourly_airp_df.mean(axis=1),columns = ['Air_pressure'])\n",
    "hourly_airp_df.head()"
   ]
  },
  {
   "cell_type": "code",
   "execution_count": 22,
   "id": "c1b823fa",
   "metadata": {},
   "outputs": [
    {
     "data": {
      "text/plain": [
       "(55488, 1)"
      ]
     },
     "execution_count": 22,
     "metadata": {},
     "output_type": "execute_result"
    }
   ],
   "source": [
    "hourly_windspeed_df.shape"
   ]
  },
  {
   "cell_type": "markdown",
   "id": "ed611fe4",
   "metadata": {},
   "source": [
    "# Define features and target"
   ]
  },
  {
   "cell_type": "code",
   "execution_count": 23,
   "id": "b85ea0c5",
   "metadata": {},
   "outputs": [],
   "source": [
    "y = pd.DataFrame(hourly_wind_de_df['Wind[MWh]'])"
   ]
  },
  {
   "cell_type": "code",
   "execution_count": 24,
   "id": "e7c25421",
   "metadata": {},
   "outputs": [
    {
     "data": {
      "text/html": [
       "<div>\n",
       "<style scoped>\n",
       "    .dataframe tbody tr th:only-of-type {\n",
       "        vertical-align: middle;\n",
       "    }\n",
       "\n",
       "    .dataframe tbody tr th {\n",
       "        vertical-align: top;\n",
       "    }\n",
       "\n",
       "    .dataframe thead th {\n",
       "        text-align: right;\n",
       "    }\n",
       "</style>\n",
       "<table border=\"1\" class=\"dataframe\">\n",
       "  <thead>\n",
       "    <tr style=\"text-align: right;\">\n",
       "      <th></th>\n",
       "      <th>Wind[MWh]</th>\n",
       "    </tr>\n",
       "    <tr>\n",
       "      <th>Date</th>\n",
       "      <th></th>\n",
       "    </tr>\n",
       "  </thead>\n",
       "  <tbody>\n",
       "    <tr>\n",
       "      <th>2015-01-01 00:00:00</th>\n",
       "      <td>8646.0</td>\n",
       "    </tr>\n",
       "    <tr>\n",
       "      <th>2015-01-01 01:00:00</th>\n",
       "      <td>8816.0</td>\n",
       "    </tr>\n",
       "    <tr>\n",
       "      <th>2015-01-01 02:00:00</th>\n",
       "      <td>9058.0</td>\n",
       "    </tr>\n",
       "    <tr>\n",
       "      <th>2015-01-01 03:00:00</th>\n",
       "      <td>9071.0</td>\n",
       "    </tr>\n",
       "    <tr>\n",
       "      <th>2015-01-01 04:00:00</th>\n",
       "      <td>9168.0</td>\n",
       "    </tr>\n",
       "  </tbody>\n",
       "</table>\n",
       "</div>"
      ],
      "text/plain": [
       "                     Wind[MWh]\n",
       "Date                          \n",
       "2015-01-01 00:00:00     8646.0\n",
       "2015-01-01 01:00:00     8816.0\n",
       "2015-01-01 02:00:00     9058.0\n",
       "2015-01-01 03:00:00     9071.0\n",
       "2015-01-01 04:00:00     9168.0"
      ]
     },
     "execution_count": 24,
     "metadata": {},
     "output_type": "execute_result"
    }
   ],
   "source": [
    "y.head()"
   ]
  },
  {
   "cell_type": "code",
   "execution_count": 25,
   "id": "e7be0ce9",
   "metadata": {
    "scrolled": true
   },
   "outputs": [
    {
     "data": {
      "text/html": [
       "<div>\n",
       "<style scoped>\n",
       "    .dataframe tbody tr th:only-of-type {\n",
       "        vertical-align: middle;\n",
       "    }\n",
       "\n",
       "    .dataframe tbody tr th {\n",
       "        vertical-align: top;\n",
       "    }\n",
       "\n",
       "    .dataframe thead th {\n",
       "        text-align: right;\n",
       "    }\n",
       "</style>\n",
       "<table border=\"1\" class=\"dataframe\">\n",
       "  <thead>\n",
       "    <tr style=\"text-align: right;\">\n",
       "      <th></th>\n",
       "      <th>Wind_speed</th>\n",
       "    </tr>\n",
       "    <tr>\n",
       "      <th>Date</th>\n",
       "      <th></th>\n",
       "    </tr>\n",
       "  </thead>\n",
       "  <tbody>\n",
       "    <tr>\n",
       "      <th>2015-01-01 00:00:00</th>\n",
       "      <td>3.320001</td>\n",
       "    </tr>\n",
       "    <tr>\n",
       "      <th>2015-01-01 01:00:00</th>\n",
       "      <td>3.306155</td>\n",
       "    </tr>\n",
       "    <tr>\n",
       "      <th>2015-01-01 02:00:00</th>\n",
       "      <td>3.313076</td>\n",
       "    </tr>\n",
       "    <tr>\n",
       "      <th>2015-01-01 03:00:00</th>\n",
       "      <td>3.280000</td>\n",
       "    </tr>\n",
       "    <tr>\n",
       "      <th>2015-01-01 04:00:00</th>\n",
       "      <td>3.300770</td>\n",
       "    </tr>\n",
       "  </tbody>\n",
       "</table>\n",
       "</div>"
      ],
      "text/plain": [
       "                     Wind_speed\n",
       "Date                           \n",
       "2015-01-01 00:00:00    3.320001\n",
       "2015-01-01 01:00:00    3.306155\n",
       "2015-01-01 02:00:00    3.313076\n",
       "2015-01-01 03:00:00    3.280000\n",
       "2015-01-01 04:00:00    3.300770"
      ]
     },
     "execution_count": 25,
     "metadata": {},
     "output_type": "execute_result"
    }
   ],
   "source": [
    "X = pd.DataFrame(hourly_windspeed_df['Wind_speed'])\n",
    "X.head()"
   ]
  },
  {
   "cell_type": "code",
   "execution_count": 26,
   "id": "3bed6df0",
   "metadata": {},
   "outputs": [
    {
     "data": {
      "text/plain": [
       "(55488, 1)"
      ]
     },
     "execution_count": 26,
     "metadata": {},
     "output_type": "execute_result"
    }
   ],
   "source": [
    "X.shape"
   ]
  },
  {
   "cell_type": "code",
   "execution_count": 27,
   "id": "293cc480",
   "metadata": {},
   "outputs": [
    {
     "data": {
      "text/plain": [
       "(52632, 1)"
      ]
     },
     "execution_count": 27,
     "metadata": {},
     "output_type": "execute_result"
    }
   ],
   "source": [
    "y.shape"
   ]
  },
  {
   "cell_type": "code",
   "execution_count": 28,
   "id": "5ce8f47c",
   "metadata": {},
   "outputs": [
    {
     "data": {
      "text/html": [
       "<div>\n",
       "<style scoped>\n",
       "    .dataframe tbody tr th:only-of-type {\n",
       "        vertical-align: middle;\n",
       "    }\n",
       "\n",
       "    .dataframe tbody tr th {\n",
       "        vertical-align: top;\n",
       "    }\n",
       "\n",
       "    .dataframe thead th {\n",
       "        text-align: right;\n",
       "    }\n",
       "</style>\n",
       "<table border=\"1\" class=\"dataframe\">\n",
       "  <thead>\n",
       "    <tr style=\"text-align: right;\">\n",
       "      <th></th>\n",
       "      <th>Wind_speed</th>\n",
       "    </tr>\n",
       "    <tr>\n",
       "      <th>Date</th>\n",
       "      <th></th>\n",
       "    </tr>\n",
       "  </thead>\n",
       "  <tbody>\n",
       "    <tr>\n",
       "      <th>2021-04-30 19:00:00</th>\n",
       "      <td>2.315000</td>\n",
       "    </tr>\n",
       "    <tr>\n",
       "      <th>2021-04-30 20:00:00</th>\n",
       "      <td>2.123076</td>\n",
       "    </tr>\n",
       "    <tr>\n",
       "      <th>2021-04-30 21:00:00</th>\n",
       "      <td>2.006538</td>\n",
       "    </tr>\n",
       "    <tr>\n",
       "      <th>2021-04-30 22:00:00</th>\n",
       "      <td>1.985769</td>\n",
       "    </tr>\n",
       "    <tr>\n",
       "      <th>2021-04-30 23:00:00</th>\n",
       "      <td>1.918077</td>\n",
       "    </tr>\n",
       "  </tbody>\n",
       "</table>\n",
       "</div>"
      ],
      "text/plain": [
       "                     Wind_speed\n",
       "Date                           \n",
       "2021-04-30 19:00:00    2.315000\n",
       "2021-04-30 20:00:00    2.123076\n",
       "2021-04-30 21:00:00    2.006538\n",
       "2021-04-30 22:00:00    1.985769\n",
       "2021-04-30 23:00:00    1.918077"
      ]
     },
     "execution_count": 28,
     "metadata": {},
     "output_type": "execute_result"
    }
   ],
   "source": [
    "X.tail()"
   ]
  },
  {
   "cell_type": "code",
   "execution_count": 29,
   "id": "6eea66a5",
   "metadata": {},
   "outputs": [
    {
     "data": {
      "text/html": [
       "<div>\n",
       "<style scoped>\n",
       "    .dataframe tbody tr th:only-of-type {\n",
       "        vertical-align: middle;\n",
       "    }\n",
       "\n",
       "    .dataframe tbody tr th {\n",
       "        vertical-align: top;\n",
       "    }\n",
       "\n",
       "    .dataframe thead th {\n",
       "        text-align: right;\n",
       "    }\n",
       "</style>\n",
       "<table border=\"1\" class=\"dataframe\">\n",
       "  <thead>\n",
       "    <tr style=\"text-align: right;\">\n",
       "      <th></th>\n",
       "      <th>Wind[MWh]</th>\n",
       "    </tr>\n",
       "    <tr>\n",
       "      <th>Date</th>\n",
       "      <th></th>\n",
       "    </tr>\n",
       "  </thead>\n",
       "  <tbody>\n",
       "    <tr>\n",
       "      <th>2021-01-01 19:00:00</th>\n",
       "      <td>4845.0</td>\n",
       "    </tr>\n",
       "    <tr>\n",
       "      <th>2021-01-01 20:00:00</th>\n",
       "      <td>5028.0</td>\n",
       "    </tr>\n",
       "    <tr>\n",
       "      <th>2021-01-01 21:00:00</th>\n",
       "      <td>5204.0</td>\n",
       "    </tr>\n",
       "    <tr>\n",
       "      <th>2021-01-01 22:00:00</th>\n",
       "      <td>5681.0</td>\n",
       "    </tr>\n",
       "    <tr>\n",
       "      <th>2021-01-01 23:00:00</th>\n",
       "      <td>5333.0</td>\n",
       "    </tr>\n",
       "  </tbody>\n",
       "</table>\n",
       "</div>"
      ],
      "text/plain": [
       "                     Wind[MWh]\n",
       "Date                          \n",
       "2021-01-01 19:00:00     4845.0\n",
       "2021-01-01 20:00:00     5028.0\n",
       "2021-01-01 21:00:00     5204.0\n",
       "2021-01-01 22:00:00     5681.0\n",
       "2021-01-01 23:00:00     5333.0"
      ]
     },
     "execution_count": 29,
     "metadata": {},
     "output_type": "execute_result"
    }
   ],
   "source": [
    "y.tail()"
   ]
  },
  {
   "cell_type": "code",
   "execution_count": 30,
   "id": "b39f2e25",
   "metadata": {},
   "outputs": [],
   "source": [
    "# Filter out dates to align X and y\n",
    "X = X[X.index <= dt.datetime(2021,1,1,23)]"
   ]
  },
  {
   "cell_type": "code",
   "execution_count": 31,
   "id": "4ad60b29",
   "metadata": {},
   "outputs": [
    {
     "data": {
      "text/plain": [
       "True"
      ]
     },
     "execution_count": 31,
     "metadata": {},
     "output_type": "execute_result"
    }
   ],
   "source": [
    "len(X) == len(y)"
   ]
  },
  {
   "cell_type": "markdown",
   "id": "010191a9",
   "metadata": {},
   "source": [
    "# Building train/ test split"
   ]
  },
  {
   "cell_type": "code",
   "execution_count": 39,
   "id": "ea56828e",
   "metadata": {},
   "outputs": [],
   "source": [
    "def train_test_split(tt_split, X, y):\n",
    "        train_size = int(len(X) * tt_split)\n",
    "        test_size = len(X) - train_size\n",
    "        X_train, X_test = X.iloc[0:train_size,:], X.iloc[train_size:len(X),:]\n",
    "        y_train, y_test = y.iloc[0:train_size,:], y.iloc[train_size:len(y),:]\n",
    "        \n",
    "        return X_train, X_test, y_train, y_test"
   ]
  },
  {
   "cell_type": "code",
   "execution_count": 70,
   "id": "c77ce2a3",
   "metadata": {},
   "outputs": [],
   "source": [
    "tt_split = 0.995\n",
    "\n",
    "X_train, X_test, y_train, y_test = train_test_split(tt_split, X, y)"
   ]
  },
  {
   "cell_type": "code",
   "execution_count": 71,
   "id": "48cc2d38",
   "metadata": {},
   "outputs": [
    {
     "data": {
      "text/plain": [
       "(52368, 1)"
      ]
     },
     "execution_count": 71,
     "metadata": {},
     "output_type": "execute_result"
    }
   ],
   "source": [
    "X_train.shape"
   ]
  },
  {
   "cell_type": "code",
   "execution_count": 72,
   "id": "df080499",
   "metadata": {},
   "outputs": [
    {
     "data": {
      "text/plain": [
       "(264, 1)"
      ]
     },
     "execution_count": 72,
     "metadata": {},
     "output_type": "execute_result"
    }
   ],
   "source": [
    "X_test.shape"
   ]
  },
  {
   "cell_type": "code",
   "execution_count": 73,
   "id": "daad7dcb",
   "metadata": {},
   "outputs": [
    {
     "data": {
      "text/plain": [
       "(264, 1)"
      ]
     },
     "execution_count": 73,
     "metadata": {},
     "output_type": "execute_result"
    }
   ],
   "source": [
    "y_test.shape"
   ]
  },
  {
   "cell_type": "markdown",
   "id": "f1bd8148",
   "metadata": {},
   "source": [
    "# Scale data"
   ]
  },
  {
   "cell_type": "code",
   "execution_count": 74,
   "id": "de201d8a",
   "metadata": {},
   "outputs": [],
   "source": [
    "# normalize the dataset\n",
    "\n",
    "def scale_training_data(X_train, X_test, y_train, y_test):\n",
    "    scaler = MinMaxScaler(feature_range=(0, 1))\n",
    "\n",
    "    X_train = pd.DataFrame(scaler.fit_transform(X_train))\n",
    "    X_test = pd.DataFrame(scaler.fit_transform(X_test))\n",
    "    y_train = pd.DataFrame(scaler.fit_transform(y_train))\n",
    "    y_test = pd.DataFrame(scaler.fit_transform(y_test))\n",
    "\n",
    "    return X_train, X_test, y_train, y_test"
   ]
  },
  {
   "cell_type": "code",
   "execution_count": 75,
   "id": "9c7b0d22",
   "metadata": {},
   "outputs": [],
   "source": [
    "X_train, X_test, y_train, y_test = scale_training_data(X_train, X_test, y_train, y_test)"
   ]
  },
  {
   "cell_type": "markdown",
   "id": "dbe259b4",
   "metadata": {},
   "source": [
    "# Define loss functions"
   ]
  },
  {
   "cell_type": "code",
   "execution_count": 50,
   "id": "380264a4",
   "metadata": {},
   "outputs": [],
   "source": [
    "def mae(y_true, y_pred):\n",
    "    y_true = np.array(y_true)\n",
    "    y_pred = np.array(y_pred)\n",
    "    return np.sum(np.abs(y_true-y_pred))/(len(y_true))\n",
    "\n",
    "def mse(y_true, y_pred):\n",
    "    y_true = np.array(y_true)\n",
    "    y_pred = np.array(y_pred)\n",
    "    return np.mean((y_true-y_pred)**2)\n",
    "\n",
    "def mean_absolute_percentage_error(y_true, y_pred):\n",
    "    y_true, y_pred = np.array(y_true), np.array(y_pred)\n",
    "    return np.mean(np.abs((y_true - y_pred) / y_true)) * 100"
   ]
  },
  {
   "cell_type": "markdown",
   "id": "efba6955",
   "metadata": {},
   "source": [
    "# Build RNN"
   ]
  },
  {
   "cell_type": "code",
   "execution_count": 76,
   "id": "215b7f39",
   "metadata": {},
   "outputs": [],
   "source": [
    "# fix random seed for reproducibility\n",
    "np.random.seed(7)"
   ]
  },
  {
   "cell_type": "code",
   "execution_count": 77,
   "id": "edeb6cd9",
   "metadata": {},
   "outputs": [
    {
     "data": {
      "text/plain": [
       "(52368, 1)"
      ]
     },
     "execution_count": 77,
     "metadata": {},
     "output_type": "execute_result"
    }
   ],
   "source": [
    "X_train.shape"
   ]
  },
  {
   "cell_type": "code",
   "execution_count": 85,
   "id": "956bcf80",
   "metadata": {},
   "outputs": [],
   "source": [
    "X_train = np.array(X_train).reshape(len(X_train),1,1)"
   ]
  },
  {
   "cell_type": "code",
   "execution_count": 86,
   "id": "d1b831e5",
   "metadata": {},
   "outputs": [],
   "source": [
    "y_train = np.array(y_train).reshape(len(y_train),1,1)"
   ]
  },
  {
   "cell_type": "code",
   "execution_count": 87,
   "id": "32ed06ce",
   "metadata": {},
   "outputs": [
    {
     "data": {
      "text/plain": [
       "(52368, 1, 1)"
      ]
     },
     "execution_count": 87,
     "metadata": {},
     "output_type": "execute_result"
    }
   ],
   "source": [
    "y_train.shape"
   ]
  },
  {
   "cell_type": "code",
   "execution_count": null,
   "id": "75a412a2",
   "metadata": {},
   "outputs": [],
   "source": [
    "# create and fit the LSTM network\n",
    "#model = Sequential()\n",
    "#model.add(LSTM(4, input_shape=(1, look_back)))\n",
    "#model.add(Dense(1,activation=\"linear\"))\n",
    "#model.compile(loss='mse', optimizer='rmsprop')\n",
    "\n",
    "#model.fit(X_train, y_train, epochs=100, batch_size=16, verbose=0)\n",
    "\n",
    "#model.predict(X_test)"
   ]
  }
 ],
 "metadata": {
  "kernelspec": {
   "display_name": "Python 3",
   "language": "python",
   "name": "python3"
  },
  "language_info": {
   "codemirror_mode": {
    "name": "ipython",
    "version": 3
   },
   "file_extension": ".py",
   "mimetype": "text/x-python",
   "name": "python",
   "nbconvert_exporter": "python",
   "pygments_lexer": "ipython3",
   "version": "3.8.6"
  },
  "toc": {
   "base_numbering": 1,
   "nav_menu": {},
   "number_sections": true,
   "sideBar": true,
   "skip_h1_title": false,
   "title_cell": "Table of Contents",
   "title_sidebar": "Contents",
   "toc_cell": false,
   "toc_position": {},
   "toc_section_display": true,
   "toc_window_display": false
  }
 },
 "nbformat": 4,
 "nbformat_minor": 5
}
