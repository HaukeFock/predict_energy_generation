{
 "cells": [
  {
   "cell_type": "code",
   "execution_count": 1,
   "id": "cc2a80ad",
   "metadata": {},
   "outputs": [],
   "source": [
    "# imports\n",
    "\n",
    "import pandas as pd"
   ]
  },
  {
   "cell_type": "markdown",
   "id": "e543fb75",
   "metadata": {},
   "source": [
    "## Loading the data"
   ]
  },
  {
   "cell_type": "code",
   "execution_count": 2,
   "id": "ae52b699",
   "metadata": {},
   "outputs": [
    {
     "name": "stderr",
     "output_type": "stream",
     "text": [
      "/home/hauke/.pyenv/versions/3.8.6/envs/predict_energy_generation/lib/python3.8/site-packages/IPython/core/interactiveshell.py:3169: DtypeWarning: Columns (1,3,4,5) have mixed types.Specify dtype option on import or set low_memory=False.\n",
      "  has_raised = await self.run_ast_nodes(code_ast.body, cell_name,\n"
     ]
    }
   ],
   "source": [
    "data = pd.read_csv(\"/mnt/g/Meine Ablage/raw_data/Features/Wind speed/Daily/data/data_OBS_DEU_P1D_F.csv\", delimiter = \",\",names=[\"Product_Code\",\"Station_ID\",\"Time_Stamp\",\"Value\",\"Quality_Byte\",\"Quality\"])"
   ]
  },
  {
   "cell_type": "code",
   "execution_count": 3,
   "id": "9e2f7ea6",
   "metadata": {
    "scrolled": true
   },
   "outputs": [],
   "source": [
    "# Dropping Produkt_Code and Quality_Byte because they hold no nominal values\n",
    "# Also Dropping Quality for now,We could possibly test if the Quality of data makes a difference and drop the Quality\n",
    "data = data.drop(columns=[\"Product_Code\", \"Quality_Byte\", \"Quality\"])"
   ]
  },
  {
   "cell_type": "code",
   "execution_count": 4,
   "id": "46d9d2e9",
   "metadata": {},
   "outputs": [],
   "source": [
    "data = data.drop(data.index[0])"
   ]
  },
  {
   "cell_type": "code",
   "execution_count": 5,
   "id": "496067af",
   "metadata": {},
   "outputs": [
    {
     "data": {
      "text/html": [
       "<div>\n",
       "<style scoped>\n",
       "    .dataframe tbody tr th:only-of-type {\n",
       "        vertical-align: middle;\n",
       "    }\n",
       "\n",
       "    .dataframe tbody tr th {\n",
       "        vertical-align: top;\n",
       "    }\n",
       "\n",
       "    .dataframe thead th {\n",
       "        text-align: right;\n",
       "    }\n",
       "</style>\n",
       "<table border=\"1\" class=\"dataframe\">\n",
       "  <thead>\n",
       "    <tr style=\"text-align: right;\">\n",
       "      <th></th>\n",
       "      <th>Station_ID</th>\n",
       "      <th>Value</th>\n",
       "      <th>Date</th>\n",
       "    </tr>\n",
       "  </thead>\n",
       "  <tbody>\n",
       "    <tr>\n",
       "      <th>1</th>\n",
       "      <td>1001</td>\n",
       "      <td>3.3</td>\n",
       "      <td>2015-01-01</td>\n",
       "    </tr>\n",
       "    <tr>\n",
       "      <th>2</th>\n",
       "      <td>1001</td>\n",
       "      <td>6.8</td>\n",
       "      <td>2015-01-02</td>\n",
       "    </tr>\n",
       "    <tr>\n",
       "      <th>3</th>\n",
       "      <td>1001</td>\n",
       "      <td>7</td>\n",
       "      <td>2015-01-03</td>\n",
       "    </tr>\n",
       "    <tr>\n",
       "      <th>4</th>\n",
       "      <td>1001</td>\n",
       "      <td>7.8</td>\n",
       "      <td>2015-01-04</td>\n",
       "    </tr>\n",
       "    <tr>\n",
       "      <th>5</th>\n",
       "      <td>1001</td>\n",
       "      <td>6.1</td>\n",
       "      <td>2015-01-05</td>\n",
       "    </tr>\n",
       "    <tr>\n",
       "      <th>...</th>\n",
       "      <td>...</td>\n",
       "      <td>...</td>\n",
       "      <td>...</td>\n",
       "    </tr>\n",
       "    <tr>\n",
       "      <th>646961</th>\n",
       "      <td>963</td>\n",
       "      <td>1.8</td>\n",
       "      <td>2021-04-26</td>\n",
       "    </tr>\n",
       "    <tr>\n",
       "      <th>646962</th>\n",
       "      <td>963</td>\n",
       "      <td>4.3</td>\n",
       "      <td>2021-04-27</td>\n",
       "    </tr>\n",
       "    <tr>\n",
       "      <th>646963</th>\n",
       "      <td>963</td>\n",
       "      <td>2.8</td>\n",
       "      <td>2021-04-28</td>\n",
       "    </tr>\n",
       "    <tr>\n",
       "      <th>646964</th>\n",
       "      <td>963</td>\n",
       "      <td>4.8</td>\n",
       "      <td>2021-04-29</td>\n",
       "    </tr>\n",
       "    <tr>\n",
       "      <th>646965</th>\n",
       "      <td>963</td>\n",
       "      <td>2.0</td>\n",
       "      <td>2021-04-30</td>\n",
       "    </tr>\n",
       "  </tbody>\n",
       "</table>\n",
       "<p>646965 rows × 3 columns</p>\n",
       "</div>"
      ],
      "text/plain": [
       "       Station_ID Value       Date\n",
       "1            1001   3.3 2015-01-01\n",
       "2            1001   6.8 2015-01-02\n",
       "3            1001     7 2015-01-03\n",
       "4            1001   7.8 2015-01-04\n",
       "5            1001   6.1 2015-01-05\n",
       "...           ...   ...        ...\n",
       "646961        963   1.8 2021-04-26\n",
       "646962        963   4.3 2021-04-27\n",
       "646963        963   2.8 2021-04-28\n",
       "646964        963   4.8 2021-04-29\n",
       "646965        963   2.0 2021-04-30\n",
       "\n",
       "[646965 rows x 3 columns]"
      ]
     },
     "execution_count": 5,
     "metadata": {},
     "output_type": "execute_result"
    }
   ],
   "source": [
    "data[\"Date\"] = pd.to_datetime(data[\"Time_Stamp\"])\n",
    "data.drop(columns = [\"Time_Stamp\"])"
   ]
  },
  {
   "cell_type": "code",
   "execution_count": 12,
   "id": "57e7cc93",
   "metadata": {},
   "outputs": [
    {
     "data": {
      "text/plain": [
       "'1001'"
      ]
     },
     "execution_count": 12,
     "metadata": {},
     "output_type": "execute_result"
    }
   ],
   "source": [
    "data[\"Station_ID\"]"
   ]
  },
  {
   "cell_type": "code",
   "execution_count": 6,
   "id": "0fb96440",
   "metadata": {
    "scrolled": true
   },
   "outputs": [],
   "source": [
    "df_pivot_values = data.pivot(index=\"Date\", columns=\"Station_ID\", values=\"Value\")"
   ]
  },
  {
   "cell_type": "code",
   "execution_count": 17,
   "id": "0acf282b",
   "metadata": {},
   "outputs": [
    {
     "data": {
      "text/plain": [
       "2312"
      ]
     },
     "execution_count": 17,
     "metadata": {},
     "output_type": "execute_result"
    }
   ],
   "source": [
    "df_pivot_values.shape[0]"
   ]
  },
  {
   "cell_type": "code",
   "execution_count": 27,
   "id": "4b3eafa8",
   "metadata": {},
   "outputs": [],
   "source": [
    "df_pivot_values = df_pivot_values.dropna(axis=1, thresh=df_pivot_values.shape[0]*0.95)"
   ]
  },
  {
   "cell_type": "code",
   "execution_count": 28,
   "id": "404f43ed",
   "metadata": {},
   "outputs": [
    {
     "data": {
      "text/plain": [
       "(2312, 249)"
      ]
     },
     "execution_count": 28,
     "metadata": {},
     "output_type": "execute_result"
    }
   ],
   "source": [
    "df_pivot_values.shape"
   ]
  },
  {
   "cell_type": "code",
   "execution_count": 34,
   "id": "2a73825b",
   "metadata": {},
   "outputs": [
    {
     "data": {
      "text/plain": [
       "249"
      ]
     },
     "execution_count": 34,
     "metadata": {},
     "output_type": "execute_result"
    }
   ],
   "source": [
    "len(df_pivot_values.isnull().count())"
   ]
  },
  {
   "cell_type": "code",
   "execution_count": 15,
   "id": "5846983a",
   "metadata": {},
   "outputs": [],
   "source": [
    "df_pivot_values.to_csv(\"/mnt/g/Meine Ablage/raw_data/Features/DATAFRAMES/winddailyofeverystation.csv\")"
   ]
  },
  {
   "cell_type": "code",
   "execution_count": null,
   "id": "a9d545a1",
   "metadata": {},
   "outputs": [],
   "source": []
  }
 ],
 "metadata": {
  "kernelspec": {
   "display_name": "Python 3",
   "language": "python",
   "name": "python3"
  },
  "language_info": {
   "codemirror_mode": {
    "name": "ipython",
    "version": 3
   },
   "file_extension": ".py",
   "mimetype": "text/x-python",
   "name": "python",
   "nbconvert_exporter": "python",
   "pygments_lexer": "ipython3",
   "version": "3.8.6"
  },
  "toc": {
   "base_numbering": 1,
   "nav_menu": {},
   "number_sections": true,
   "sideBar": true,
   "skip_h1_title": false,
   "title_cell": "Table of Contents",
   "title_sidebar": "Contents",
   "toc_cell": false,
   "toc_position": {},
   "toc_section_display": true,
   "toc_window_display": false
  }
 },
 "nbformat": 4,
 "nbformat_minor": 5
}
