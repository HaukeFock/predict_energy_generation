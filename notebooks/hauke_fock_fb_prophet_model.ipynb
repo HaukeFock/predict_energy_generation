{
 "cells": [
  {
   "cell_type": "code",
   "execution_count": 3,
   "id": "6fe94d02",
   "metadata": {},
   "outputs": [
    {
     "name": "stderr",
     "output_type": "stream",
     "text": [
      "/home/hauke/.pyenv/versions/3.8.6/envs/predict_energy_generation/lib/python3.8/site-packages/setuptools/distutils_patch.py:25: UserWarning: Distutils was imported before Setuptools. This usage is discouraged and may exhibit undesirable behaviors or errors. Please use Setuptools' objects directly or at least import Setuptools first.\n",
      "  warnings.warn(\n"
     ]
    }
   ],
   "source": [
    "import stan"
   ]
  },
  {
   "cell_type": "code",
   "execution_count": 2,
   "id": "91b17dfd",
   "metadata": {},
   "outputs": [
    {
     "ename": "ModuleNotFoundError",
     "evalue": "No module named 'pystan'",
     "output_type": "error",
     "traceback": [
      "\u001b[0;31m---------------------------------------------------------------------------\u001b[0m",
      "\u001b[0;31mModuleNotFoundError\u001b[0m                       Traceback (most recent call last)",
      "\u001b[0;32m<ipython-input-2-d7f147a8ee3e>\u001b[0m in \u001b[0;36m<module>\u001b[0;34m\u001b[0m\n\u001b[0;32m----> 1\u001b[0;31m \u001b[0;32mimport\u001b[0m \u001b[0mpystan\u001b[0m\u001b[0;34m\u001b[0m\u001b[0;34m\u001b[0m\u001b[0m\n\u001b[0m\u001b[1;32m      2\u001b[0m \u001b[0mmodel_code\u001b[0m \u001b[0;34m=\u001b[0m \u001b[0;34m'parameters {real y;} model {y ~ normal(0,1);}'\u001b[0m\u001b[0;34m\u001b[0m\u001b[0;34m\u001b[0m\u001b[0m\n\u001b[1;32m      3\u001b[0m \u001b[0mmodel\u001b[0m \u001b[0;34m=\u001b[0m \u001b[0mpystan\u001b[0m\u001b[0;34m.\u001b[0m\u001b[0mStanModel\u001b[0m\u001b[0;34m(\u001b[0m\u001b[0mmodel_code\u001b[0m\u001b[0;34m=\u001b[0m\u001b[0mmodel_code\u001b[0m\u001b[0;34m)\u001b[0m  \u001b[0;31m# this will take a minute\u001b[0m\u001b[0;34m\u001b[0m\u001b[0;34m\u001b[0m\u001b[0m\n\u001b[1;32m      4\u001b[0m \u001b[0my\u001b[0m \u001b[0;34m=\u001b[0m \u001b[0mmodel\u001b[0m\u001b[0;34m.\u001b[0m\u001b[0msampling\u001b[0m\u001b[0;34m(\u001b[0m\u001b[0mn_jobs\u001b[0m\u001b[0;34m=\u001b[0m\u001b[0;36m1\u001b[0m\u001b[0;34m)\u001b[0m\u001b[0;34m.\u001b[0m\u001b[0mextract\u001b[0m\u001b[0;34m(\u001b[0m\u001b[0;34m)\u001b[0m\u001b[0;34m[\u001b[0m\u001b[0;34m'y'\u001b[0m\u001b[0;34m]\u001b[0m\u001b[0;34m\u001b[0m\u001b[0;34m\u001b[0m\u001b[0m\n\u001b[1;32m      5\u001b[0m \u001b[0my\u001b[0m\u001b[0;34m.\u001b[0m\u001b[0mmean\u001b[0m\u001b[0;34m(\u001b[0m\u001b[0;34m)\u001b[0m  \u001b[0;31m# should be close to 0\u001b[0m\u001b[0;34m\u001b[0m\u001b[0;34m\u001b[0m\u001b[0m\n",
      "\u001b[0;31mModuleNotFoundError\u001b[0m: No module named 'pystan'"
     ]
    }
   ],
   "source": [
    "import pystan\n",
    "model_code = 'parameters {real y;} model {y ~ normal(0,1);}'\n",
    "model = pystan.StanModel(model_code=model_code)  # this will take a minute\n",
    "y = model.sampling(n_jobs=1).extract()['y']\n",
    "y.mean()  # should be close to 0"
   ]
  },
  {
   "cell_type": "code",
   "execution_count": 1,
   "id": "d06c8672",
   "metadata": {},
   "outputs": [
    {
     "name": "stdout",
     "output_type": "stream",
     "text": [
      "Requirement already satisfied: pystan in /home/hauke/.pyenv/versions/3.8.6/envs/predict_energy_generation/lib/python3.8/site-packages (3.1.1)\n",
      "Collecting fbprophet\n",
      "  Using cached fbprophet-0.7.1.tar.gz (64 kB)\n",
      "Requirement already satisfied: pysimdjson<4.0,>=3.2 in /home/hauke/.pyenv/versions/3.8.6/envs/predict_energy_generation/lib/python3.8/site-packages (from pystan) (3.2.0)\n",
      "Requirement already satisfied: clikit<0.7,>=0.6 in /home/hauke/.pyenv/versions/3.8.6/envs/predict_energy_generation/lib/python3.8/site-packages (from pystan) (0.6.2)\n",
      "Requirement already satisfied: aiohttp<4.0,>=3.6 in /home/hauke/.pyenv/versions/3.8.6/envs/predict_energy_generation/lib/python3.8/site-packages (from pystan) (3.7.4.post0)\n",
      "Requirement already satisfied: numpy<2.0,>=1.7 in /home/hauke/.pyenv/versions/3.8.6/envs/predict_energy_generation/lib/python3.8/site-packages (from pystan) (1.19.5)\n",
      "Requirement already satisfied: httpstan<4.5,>=4.4 in /home/hauke/.pyenv/versions/3.8.6/envs/predict_energy_generation/lib/python3.8/site-packages (from pystan) (4.4.2)\n",
      "Requirement already satisfied: typing-extensions>=3.6.5 in /home/hauke/.pyenv/versions/3.8.6/envs/predict_energy_generation/lib/python3.8/site-packages (from aiohttp<4.0,>=3.6->pystan) (3.10.0.0)\n",
      "Requirement already satisfied: async-timeout<4.0,>=3.0 in /home/hauke/.pyenv/versions/3.8.6/envs/predict_energy_generation/lib/python3.8/site-packages (from aiohttp<4.0,>=3.6->pystan) (3.0.1)\n",
      "Requirement already satisfied: yarl<2.0,>=1.0 in /home/hauke/.pyenv/versions/3.8.6/envs/predict_energy_generation/lib/python3.8/site-packages (from aiohttp<4.0,>=3.6->pystan) (1.6.3)\n",
      "Requirement already satisfied: chardet<5.0,>=2.0 in /home/hauke/.pyenv/versions/3.8.6/envs/predict_energy_generation/lib/python3.8/site-packages (from aiohttp<4.0,>=3.6->pystan) (4.0.0)\n",
      "Requirement already satisfied: attrs>=17.3.0 in /home/hauke/.pyenv/versions/3.8.6/envs/predict_energy_generation/lib/python3.8/site-packages (from aiohttp<4.0,>=3.6->pystan) (21.2.0)\n",
      "Requirement already satisfied: multidict<7.0,>=4.5 in /home/hauke/.pyenv/versions/3.8.6/envs/predict_energy_generation/lib/python3.8/site-packages (from aiohttp<4.0,>=3.6->pystan) (5.1.0)\n",
      "Requirement already satisfied: pylev<2.0,>=1.3 in /home/hauke/.pyenv/versions/3.8.6/envs/predict_energy_generation/lib/python3.8/site-packages (from clikit<0.7,>=0.6->pystan) (1.3.0)\n",
      "Requirement already satisfied: pastel<0.3.0,>=0.2.0 in /home/hauke/.pyenv/versions/3.8.6/envs/predict_energy_generation/lib/python3.8/site-packages (from clikit<0.7,>=0.6->pystan) (0.2.1)\n",
      "Requirement already satisfied: crashtest<0.4.0,>=0.3.0 in /home/hauke/.pyenv/versions/3.8.6/envs/predict_energy_generation/lib/python3.8/site-packages (from clikit<0.7,>=0.6->pystan) (0.3.1)\n",
      "Requirement already satisfied: webargs<8.0,>=7.0 in /home/hauke/.pyenv/versions/3.8.6/envs/predict_energy_generation/lib/python3.8/site-packages (from httpstan<4.5,>=4.4->pystan) (7.0.1)\n",
      "Requirement already satisfied: marshmallow<4.0,>=3.10 in /home/hauke/.pyenv/versions/3.8.6/envs/predict_energy_generation/lib/python3.8/site-packages (from httpstan<4.5,>=4.4->pystan) (3.12.1)\n",
      "Requirement already satisfied: appdirs<2.0,>=1.4 in /home/hauke/.pyenv/versions/3.8.6/envs/predict_energy_generation/lib/python3.8/site-packages (from httpstan<4.5,>=4.4->pystan) (1.4.4)\n",
      "Requirement already satisfied: lz4<4.0,>=3.1 in /home/hauke/.pyenv/versions/3.8.6/envs/predict_energy_generation/lib/python3.8/site-packages (from httpstan<4.5,>=4.4->pystan) (3.1.3)\n",
      "Requirement already satisfied: setuptools>=41.0 in /home/hauke/.pyenv/versions/3.8.6/envs/predict_energy_generation/lib/python3.8/site-packages (from httpstan<4.5,>=4.4->pystan) (49.2.1)\n",
      "Requirement already satisfied: idna>=2.0 in /home/hauke/.pyenv/versions/3.8.6/envs/predict_energy_generation/lib/python3.8/site-packages (from yarl<2.0,>=1.0->aiohttp<4.0,>=3.6->pystan) (2.10)\n",
      "Requirement already satisfied: Cython>=0.22 in /home/hauke/.pyenv/versions/3.8.6/envs/predict_energy_generation/lib/python3.8/site-packages (from fbprophet) (0.29.23)\n",
      "Requirement already satisfied: cmdstanpy==0.9.5 in /home/hauke/.pyenv/versions/3.8.6/envs/predict_energy_generation/lib/python3.8/site-packages (from fbprophet) (0.9.5)\n",
      "Requirement already satisfied: pandas>=1.0.4 in /home/hauke/.pyenv/versions/3.8.6/envs/predict_energy_generation/lib/python3.8/site-packages (from fbprophet) (1.2.4)\n",
      "Requirement already satisfied: matplotlib>=2.0.0 in /home/hauke/.pyenv/versions/3.8.6/envs/predict_energy_generation/lib/python3.8/site-packages (from fbprophet) (3.4.2)\n",
      "Requirement already satisfied: LunarCalendar>=0.0.9 in /home/hauke/.pyenv/versions/3.8.6/envs/predict_energy_generation/lib/python3.8/site-packages (from fbprophet) (0.0.9)\n",
      "Requirement already satisfied: convertdate>=2.1.2 in /home/hauke/.pyenv/versions/3.8.6/envs/predict_energy_generation/lib/python3.8/site-packages (from fbprophet) (2.3.2)\n",
      "Requirement already satisfied: holidays>=0.10.2 in /home/hauke/.pyenv/versions/3.8.6/envs/predict_energy_generation/lib/python3.8/site-packages (from fbprophet) (0.11.1)\n",
      "Requirement already satisfied: setuptools-git>=1.2 in /home/hauke/.pyenv/versions/3.8.6/envs/predict_energy_generation/lib/python3.8/site-packages (from fbprophet) (1.2)\n",
      "Requirement already satisfied: python-dateutil>=2.8.0 in /home/hauke/.pyenv/versions/3.8.6/envs/predict_energy_generation/lib/python3.8/site-packages (from fbprophet) (2.8.1)\n",
      "Requirement already satisfied: tqdm>=4.36.1 in /home/hauke/.pyenv/versions/3.8.6/envs/predict_energy_generation/lib/python3.8/site-packages (from fbprophet) (4.61.0)\n",
      "Requirement already satisfied: pymeeus<=1,>=0.3.13 in /home/hauke/.pyenv/versions/3.8.6/envs/predict_energy_generation/lib/python3.8/site-packages (from convertdate>=2.1.2->fbprophet) (0.5.11)\n",
      "Requirement already satisfied: pytz>=2014.10 in /home/hauke/.pyenv/versions/3.8.6/envs/predict_energy_generation/lib/python3.8/site-packages (from convertdate>=2.1.2->fbprophet) (2021.1)\n",
      "Requirement already satisfied: six in /home/hauke/.pyenv/versions/3.8.6/envs/predict_energy_generation/lib/python3.8/site-packages (from holidays>=0.10.2->fbprophet) (1.16.0)\n",
      "Requirement already satisfied: korean-lunar-calendar in /home/hauke/.pyenv/versions/3.8.6/envs/predict_energy_generation/lib/python3.8/site-packages (from holidays>=0.10.2->fbprophet) (0.2.1)\n",
      "Requirement already satisfied: hijri-converter in /home/hauke/.pyenv/versions/3.8.6/envs/predict_energy_generation/lib/python3.8/site-packages (from holidays>=0.10.2->fbprophet) (2.1.1)\n",
      "Requirement already satisfied: ephem>=3.7.5.3 in /home/hauke/.pyenv/versions/3.8.6/envs/predict_energy_generation/lib/python3.8/site-packages (from LunarCalendar>=0.0.9->fbprophet) (3.7.7.1)\n",
      "Requirement already satisfied: kiwisolver>=1.0.1 in /home/hauke/.pyenv/versions/3.8.6/envs/predict_energy_generation/lib/python3.8/site-packages (from matplotlib>=2.0.0->fbprophet) (1.3.1)\n",
      "Requirement already satisfied: pyparsing>=2.2.1 in /home/hauke/.pyenv/versions/3.8.6/envs/predict_energy_generation/lib/python3.8/site-packages (from matplotlib>=2.0.0->fbprophet) (2.4.7)\n",
      "Requirement already satisfied: pillow>=6.2.0 in /home/hauke/.pyenv/versions/3.8.6/envs/predict_energy_generation/lib/python3.8/site-packages (from matplotlib>=2.0.0->fbprophet) (8.2.0)\n",
      "Requirement already satisfied: cycler>=0.10 in /home/hauke/.pyenv/versions/3.8.6/envs/predict_energy_generation/lib/python3.8/site-packages (from matplotlib>=2.0.0->fbprophet) (0.10.0)\n",
      "Using legacy 'setup.py install' for fbprophet, since package 'wheel' is not installed.\n",
      "Installing collected packages: fbprophet\n",
      "    Running setup.py install for fbprophet ... \u001b[?25lerror\n",
      "\u001b[31m    ERROR: Command errored out with exit status 1:\n",
      "     command: /home/hauke/.pyenv/versions/3.8.6/envs/predict_energy_generation/bin/python -u -c 'import io, os, sys, setuptools, tokenize; sys.argv[0] = '\"'\"'/tmp/pip-install-4rv7uxnl/fbprophet_7456fe7176474f9790993f744efab4e7/setup.py'\"'\"'; __file__='\"'\"'/tmp/pip-install-4rv7uxnl/fbprophet_7456fe7176474f9790993f744efab4e7/setup.py'\"'\"';f = getattr(tokenize, '\"'\"'open'\"'\"', open)(__file__) if os.path.exists(__file__) else io.StringIO('\"'\"'from setuptools import setup; setup()'\"'\"');code = f.read().replace('\"'\"'\\r\\n'\"'\"', '\"'\"'\\n'\"'\"');f.close();exec(compile(code, __file__, '\"'\"'exec'\"'\"'))' install --record /tmp/pip-record-t6h1r1y_/install-record.txt --single-version-externally-managed --compile --install-headers /home/hauke/.pyenv/versions/3.8.6/envs/predict_energy_generation/include/site/python3.8/fbprophet\n",
      "         cwd: /tmp/pip-install-4rv7uxnl/fbprophet_7456fe7176474f9790993f744efab4e7/\n",
      "    Complete output (41 lines):\n",
      "    running install\n",
      "    running build\n",
      "    running build_py\n",
      "    creating build\n",
      "    creating build/lib\n",
      "    creating build/lib/fbprophet\n",
      "    creating build/lib/fbprophet/stan_model\n",
      "    Importing plotly failed. Interactive plots will not work.\n",
      "    Traceback (most recent call last):\n",
      "      File \"<string>\", line 1, in <module>\n",
      "      File \"/tmp/pip-install-4rv7uxnl/fbprophet_7456fe7176474f9790993f744efab4e7/setup.py\", line 122, in <module>\n",
      "        setup(\n",
      "      File \"/home/hauke/.pyenv/versions/3.8.6/envs/predict_energy_generation/lib/python3.8/site-packages/setuptools/__init__.py\", line 165, in setup\n",
      "        return distutils.core.setup(**attrs)\n",
      "      File \"/home/hauke/.pyenv/versions/3.8.6/lib/python3.8/distutils/core.py\", line 148, in setup\n",
      "        dist.run_commands()\n",
      "      File \"/home/hauke/.pyenv/versions/3.8.6/lib/python3.8/distutils/dist.py\", line 966, in run_commands\n",
      "        self.run_command(cmd)\n",
      "      File \"/home/hauke/.pyenv/versions/3.8.6/lib/python3.8/distutils/dist.py\", line 985, in run_command\n",
      "        cmd_obj.run()\n",
      "      File \"/home/hauke/.pyenv/versions/3.8.6/envs/predict_energy_generation/lib/python3.8/site-packages/setuptools/command/install.py\", line 61, in run\n",
      "        return orig.install.run(self)\n",
      "      File \"/home/hauke/.pyenv/versions/3.8.6/lib/python3.8/distutils/command/install.py\", line 545, in run\n",
      "        self.run_command('build')\n",
      "      File \"/home/hauke/.pyenv/versions/3.8.6/lib/python3.8/distutils/cmd.py\", line 313, in run_command\n",
      "        self.distribution.run_command(command)\n",
      "      File \"/home/hauke/.pyenv/versions/3.8.6/lib/python3.8/distutils/dist.py\", line 985, in run_command\n",
      "        cmd_obj.run()\n",
      "      File \"/home/hauke/.pyenv/versions/3.8.6/lib/python3.8/distutils/command/build.py\", line 135, in run\n",
      "        self.run_command(cmd_name)\n",
      "      File \"/home/hauke/.pyenv/versions/3.8.6/lib/python3.8/distutils/cmd.py\", line 313, in run_command\n",
      "        self.distribution.run_command(command)\n",
      "      File \"/home/hauke/.pyenv/versions/3.8.6/lib/python3.8/distutils/dist.py\", line 985, in run_command\n",
      "        cmd_obj.run()\n",
      "      File \"/tmp/pip-install-4rv7uxnl/fbprophet_7456fe7176474f9790993f744efab4e7/setup.py\", line 48, in run\n",
      "        build_models(target_dir)\n",
      "      File \"/tmp/pip-install-4rv7uxnl/fbprophet_7456fe7176474f9790993f744efab4e7/setup.py\", line 38, in build_models\n",
      "        StanBackendEnum.get_backend_class(backend).build_model(target_dir, MODEL_DIR)\n",
      "      File \"/tmp/pip-install-4rv7uxnl/fbprophet_7456fe7176474f9790993f744efab4e7/fbprophet/models.py\", line 209, in build_model\n",
      "        import pystan\n",
      "    ModuleNotFoundError: No module named 'pystan'\n",
      "    ----------------------------------------\u001b[0m\n",
      "\u001b[31mERROR: Command errored out with exit status 1: /home/hauke/.pyenv/versions/3.8.6/envs/predict_energy_generation/bin/python -u -c 'import io, os, sys, setuptools, tokenize; sys.argv[0] = '\"'\"'/tmp/pip-install-4rv7uxnl/fbprophet_7456fe7176474f9790993f744efab4e7/setup.py'\"'\"'; __file__='\"'\"'/tmp/pip-install-4rv7uxnl/fbprophet_7456fe7176474f9790993f744efab4e7/setup.py'\"'\"';f = getattr(tokenize, '\"'\"'open'\"'\"', open)(__file__) if os.path.exists(__file__) else io.StringIO('\"'\"'from setuptools import setup; setup()'\"'\"');code = f.read().replace('\"'\"'\\r\\n'\"'\"', '\"'\"'\\n'\"'\"');f.close();exec(compile(code, __file__, '\"'\"'exec'\"'\"'))' install --record /tmp/pip-record-t6h1r1y_/install-record.txt --single-version-externally-managed --compile --install-headers /home/hauke/.pyenv/versions/3.8.6/envs/predict_energy_generation/include/site/python3.8/fbprophet Check the logs for full command output.\u001b[0m\n",
      "\u001b[?25h"
     ]
    }
   ],
   "source": [
    "! pip install pystan fbprophet"
   ]
  },
  {
   "cell_type": "code",
   "execution_count": 3,
   "id": "6c7cee87",
   "metadata": {},
   "outputs": [
    {
     "ename": "ModuleNotFoundError",
     "evalue": "No module named 'fbprophet'",
     "output_type": "error",
     "traceback": [
      "\u001b[0;31m---------------------------------------------------------------------------\u001b[0m",
      "\u001b[0;31mModuleNotFoundError\u001b[0m                       Traceback (most recent call last)",
      "\u001b[0;32m<ipython-input-3-81e54c2d67f3>\u001b[0m in \u001b[0;36m<module>\u001b[0;34m\u001b[0m\n\u001b[1;32m      1\u001b[0m \u001b[0;32mimport\u001b[0m \u001b[0mpandas\u001b[0m \u001b[0;32mas\u001b[0m \u001b[0mpd\u001b[0m\u001b[0;34m\u001b[0m\u001b[0;34m\u001b[0m\u001b[0m\n\u001b[0;32m----> 2\u001b[0;31m \u001b[0;32mimport\u001b[0m \u001b[0mfbprophet\u001b[0m \u001b[0;32mas\u001b[0m \u001b[0mProphet\u001b[0m\u001b[0;34m\u001b[0m\u001b[0;34m\u001b[0m\u001b[0m\n\u001b[0m",
      "\u001b[0;31mModuleNotFoundError\u001b[0m: No module named 'fbprophet'"
     ]
    }
   ],
   "source": [
    "import pandas as pd\n",
    "import fbprophet as Prophet"
   ]
  },
  {
   "cell_type": "code",
   "execution_count": null,
   "id": "d6c6ad42",
   "metadata": {},
   "outputs": [],
   "source": []
  }
 ],
 "metadata": {
  "kernelspec": {
   "display_name": "Python 3",
   "language": "python",
   "name": "python3"
  },
  "language_info": {
   "codemirror_mode": {
    "name": "ipython",
    "version": 3
   },
   "file_extension": ".py",
   "mimetype": "text/x-python",
   "name": "python",
   "nbconvert_exporter": "python",
   "pygments_lexer": "ipython3",
   "version": "3.8.6"
  },
  "toc": {
   "base_numbering": 1,
   "nav_menu": {},
   "number_sections": true,
   "sideBar": true,
   "skip_h1_title": false,
   "title_cell": "Table of Contents",
   "title_sidebar": "Contents",
   "toc_cell": false,
   "toc_position": {},
   "toc_section_display": true,
   "toc_window_display": false
  }
 },
 "nbformat": 4,
 "nbformat_minor": 5
}
